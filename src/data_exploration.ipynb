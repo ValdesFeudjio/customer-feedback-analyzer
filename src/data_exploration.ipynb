{
 "cells": [
  {
   "cell_type": "code",
   "execution_count": 1,
   "id": "b612f33e",
   "metadata": {},
   "outputs": [],
   "source": [
    "import json\n",
    "import spacy\n",
    "import pandas as pd\n",
    "import numpy as np\n",
    "\n",
    "\n",
    "from sklearn.cluster import KMeans\n",
    "from sklearn.decomposition import PCA\n",
    "import matplotlib.pyplot as plt"
   ]
  },
  {
   "cell_type": "markdown",
   "id": "9a0fb0b3",
   "metadata": {},
   "source": [
    "# Traitement des données"
   ]
  },
  {
   "cell_type": "code",
   "execution_count": 2,
   "id": "55077f68",
   "metadata": {},
   "outputs": [],
   "source": [
    "# 1) Charger un fichier JSON (lecture)\n",
    "data = pd.read_json(\"../data/ensai_2025_req_favoriser_sport.json\", encoding=\"utf‑8\")"
   ]
  },
  {
   "cell_type": "code",
   "execution_count": 3,
   "id": "966d595b",
   "metadata": {},
   "outputs": [
    {
     "data": {
      "text/html": [
       "<div>\n",
       "<style scoped>\n",
       "    .dataframe tbody tr th:only-of-type {\n",
       "        vertical-align: middle;\n",
       "    }\n",
       "\n",
       "    .dataframe tbody tr th {\n",
       "        vertical-align: top;\n",
       "    }\n",
       "\n",
       "    .dataframe thead th {\n",
       "        text-align: right;\n",
       "    }\n",
       "</style>\n",
       "<table border=\"1\" class=\"dataframe\">\n",
       "  <thead>\n",
       "    <tr style=\"text-align: right;\">\n",
       "      <th></th>\n",
       "      <th>total</th>\n",
       "      <th>results</th>\n",
       "      <th>seed</th>\n",
       "    </tr>\n",
       "  </thead>\n",
       "  <tbody>\n",
       "    <tr>\n",
       "      <th>0</th>\n",
       "      <td>1540</td>\n",
       "      <td>{'id': '82d5eb8f-f953-4e16-9015-9b775ff5f292',...</td>\n",
       "      <td>NaN</td>\n",
       "    </tr>\n",
       "    <tr>\n",
       "      <th>1</th>\n",
       "      <td>1540</td>\n",
       "      <td>{'id': '59ff8102-587a-425e-9976-c4d5d6a268fe',...</td>\n",
       "      <td>NaN</td>\n",
       "    </tr>\n",
       "    <tr>\n",
       "      <th>2</th>\n",
       "      <td>1540</td>\n",
       "      <td>{'id': '66b19692-f947-44c9-9126-33863021098e',...</td>\n",
       "      <td>NaN</td>\n",
       "    </tr>\n",
       "    <tr>\n",
       "      <th>3</th>\n",
       "      <td>1540</td>\n",
       "      <td>{'id': '97c4c337-15d4-4c6e-a108-aefcedeb1666',...</td>\n",
       "      <td>NaN</td>\n",
       "    </tr>\n",
       "    <tr>\n",
       "      <th>4</th>\n",
       "      <td>1540</td>\n",
       "      <td>{'id': '9f71ce59-200c-450a-8987-399eee4fb1dd',...</td>\n",
       "      <td>NaN</td>\n",
       "    </tr>\n",
       "  </tbody>\n",
       "</table>\n",
       "</div>"
      ],
      "text/plain": [
       "   total                                            results  seed\n",
       "0   1540  {'id': '82d5eb8f-f953-4e16-9015-9b775ff5f292',...   NaN\n",
       "1   1540  {'id': '59ff8102-587a-425e-9976-c4d5d6a268fe',...   NaN\n",
       "2   1540  {'id': '66b19692-f947-44c9-9126-33863021098e',...   NaN\n",
       "3   1540  {'id': '97c4c337-15d4-4c6e-a108-aefcedeb1666',...   NaN\n",
       "4   1540  {'id': '9f71ce59-200c-450a-8987-399eee4fb1dd',...   NaN"
      ]
     },
     "execution_count": 3,
     "metadata": {},
     "output_type": "execute_result"
    }
   ],
   "source": [
    "data.head()"
   ]
  },
  {
   "cell_type": "code",
   "execution_count": 4,
   "id": "a19cf82a",
   "metadata": {},
   "outputs": [
    {
     "data": {
      "text/html": [
       "<div>\n",
       "<style scoped>\n",
       "    .dataframe tbody tr th:only-of-type {\n",
       "        vertical-align: middle;\n",
       "    }\n",
       "\n",
       "    .dataframe tbody tr th {\n",
       "        vertical-align: top;\n",
       "    }\n",
       "\n",
       "    .dataframe thead th {\n",
       "        text-align: right;\n",
       "    }\n",
       "</style>\n",
       "<table border=\"1\" class=\"dataframe\">\n",
       "  <thead>\n",
       "    <tr style=\"text-align: right;\">\n",
       "      <th></th>\n",
       "      <th>total</th>\n",
       "      <th>seed</th>\n",
       "    </tr>\n",
       "  </thead>\n",
       "  <tbody>\n",
       "    <tr>\n",
       "      <th>count</th>\n",
       "      <td>1540.0</td>\n",
       "      <td>0.0</td>\n",
       "    </tr>\n",
       "    <tr>\n",
       "      <th>mean</th>\n",
       "      <td>1540.0</td>\n",
       "      <td>NaN</td>\n",
       "    </tr>\n",
       "    <tr>\n",
       "      <th>std</th>\n",
       "      <td>0.0</td>\n",
       "      <td>NaN</td>\n",
       "    </tr>\n",
       "    <tr>\n",
       "      <th>min</th>\n",
       "      <td>1540.0</td>\n",
       "      <td>NaN</td>\n",
       "    </tr>\n",
       "    <tr>\n",
       "      <th>25%</th>\n",
       "      <td>1540.0</td>\n",
       "      <td>NaN</td>\n",
       "    </tr>\n",
       "    <tr>\n",
       "      <th>50%</th>\n",
       "      <td>1540.0</td>\n",
       "      <td>NaN</td>\n",
       "    </tr>\n",
       "    <tr>\n",
       "      <th>75%</th>\n",
       "      <td>1540.0</td>\n",
       "      <td>NaN</td>\n",
       "    </tr>\n",
       "    <tr>\n",
       "      <th>max</th>\n",
       "      <td>1540.0</td>\n",
       "      <td>NaN</td>\n",
       "    </tr>\n",
       "  </tbody>\n",
       "</table>\n",
       "</div>"
      ],
      "text/plain": [
       "        total  seed\n",
       "count  1540.0   0.0\n",
       "mean   1540.0   NaN\n",
       "std       0.0   NaN\n",
       "min    1540.0   NaN\n",
       "25%    1540.0   NaN\n",
       "50%    1540.0   NaN\n",
       "75%    1540.0   NaN\n",
       "max    1540.0   NaN"
      ]
     },
     "execution_count": 4,
     "metadata": {},
     "output_type": "execute_result"
    }
   ],
   "source": [
    "data.describe()"
   ]
  },
  {
   "cell_type": "code",
   "execution_count": 5,
   "id": "45869abb",
   "metadata": {},
   "outputs": [
    {
     "name": "stdout",
     "output_type": "stream",
     "text": [
      "Index(['total', 'results', 'seed'], dtype='object')\n"
     ]
    }
   ],
   "source": [
    "print(data.columns)"
   ]
  },
  {
   "cell_type": "code",
   "execution_count": 6,
   "id": "40cfe195",
   "metadata": {},
   "outputs": [],
   "source": [
    "dic = data.iloc[1,1]"
   ]
  },
  {
   "cell_type": "code",
   "execution_count": 7,
   "id": "5b6c26a1",
   "metadata": {},
   "outputs": [
    {
     "data": {
      "text/plain": [
       "dict_keys(['id', 'content', 'contentLanguage', 'translatedContent', 'translatedLanguage', 'slug', 'status', 'createdAt', 'updatedAt', 'votes', 'context', 'author', 'organisations', 'tags', 'selectedStakeTag', 'myProposal', 'idea', 'question', 'operationId', 'proposalKey', 'keywords'])"
      ]
     },
     "execution_count": 7,
     "metadata": {},
     "output_type": "execute_result"
    }
   ],
   "source": [
    "dic.keys()"
   ]
  },
  {
   "cell_type": "code",
   "execution_count": 8,
   "id": "8419afde",
   "metadata": {},
   "outputs": [],
   "source": [
    "df = data[\"results\"].apply(pd.Series)"
   ]
  },
  {
   "cell_type": "code",
   "execution_count": 9,
   "id": "16f6d13e",
   "metadata": {},
   "outputs": [
    {
     "data": {
      "text/html": [
       "<div>\n",
       "<style scoped>\n",
       "    .dataframe tbody tr th:only-of-type {\n",
       "        vertical-align: middle;\n",
       "    }\n",
       "\n",
       "    .dataframe tbody tr th {\n",
       "        vertical-align: top;\n",
       "    }\n",
       "\n",
       "    .dataframe thead th {\n",
       "        text-align: right;\n",
       "    }\n",
       "</style>\n",
       "<table border=\"1\" class=\"dataframe\">\n",
       "  <thead>\n",
       "    <tr style=\"text-align: right;\">\n",
       "      <th></th>\n",
       "      <th>id</th>\n",
       "      <th>content</th>\n",
       "      <th>contentLanguage</th>\n",
       "      <th>translatedContent</th>\n",
       "      <th>translatedLanguage</th>\n",
       "      <th>slug</th>\n",
       "      <th>status</th>\n",
       "      <th>createdAt</th>\n",
       "      <th>updatedAt</th>\n",
       "      <th>votes</th>\n",
       "      <th>...</th>\n",
       "      <th>author</th>\n",
       "      <th>organisations</th>\n",
       "      <th>tags</th>\n",
       "      <th>selectedStakeTag</th>\n",
       "      <th>myProposal</th>\n",
       "      <th>idea</th>\n",
       "      <th>question</th>\n",
       "      <th>operationId</th>\n",
       "      <th>proposalKey</th>\n",
       "      <th>keywords</th>\n",
       "    </tr>\n",
       "  </thead>\n",
       "  <tbody>\n",
       "    <tr>\n",
       "      <th>0</th>\n",
       "      <td>82d5eb8f-f953-4e16-9015-9b775ff5f292</td>\n",
       "      <td>Il faut inciter les Français à s'équiper de mo...</td>\n",
       "      <td>fr</td>\n",
       "      <td>None</td>\n",
       "      <td>None</td>\n",
       "      <td>il-faut-inciter-les-francais-a-s-equiper-de-mo...</td>\n",
       "      <td>Accepted</td>\n",
       "      <td>2024-04-01T07:07:29.747Z</td>\n",
       "      <td>2024-04-04T13:48:06.671Z</td>\n",
       "      <td>[{'voteKey': 'agree', 'count': 0, 'score': 0.0...</td>\n",
       "      <td>...</td>\n",
       "      <td>{'userId': '4fad3035-1a13-4ed5-b81a-e1f400e7c6...</td>\n",
       "      <td>[]</td>\n",
       "      <td>[]</td>\n",
       "      <td>None</td>\n",
       "      <td>False</td>\n",
       "      <td>None</td>\n",
       "      <td>{'questionId': '9ccd072f-80e3-45dc-88cb-7b2428...</td>\n",
       "      <td>31297186-cb6d-4b0f-8bf5-0966afad5c97</td>\n",
       "      <td>7c09df8394050ca9d4d51299848e4d415e262904b64d5a...</td>\n",
       "      <td>[]</td>\n",
       "    </tr>\n",
       "    <tr>\n",
       "      <th>1</th>\n",
       "      <td>59ff8102-587a-425e-9976-c4d5d6a268fe</td>\n",
       "      <td>Il faut demander aux sportifs de haut niveau d...</td>\n",
       "      <td>fr</td>\n",
       "      <td>None</td>\n",
       "      <td>None</td>\n",
       "      <td>il-faut-demander-aux-sportifs-de-haut-niveau-d...</td>\n",
       "      <td>Accepted</td>\n",
       "      <td>2024-03-25T17:30:50.114Z</td>\n",
       "      <td>2024-03-27T11:55:43.793Z</td>\n",
       "      <td>[{'voteKey': 'agree', 'count': 39, 'score': 0....</td>\n",
       "      <td>...</td>\n",
       "      <td>{'userId': 'e1606f3c-5d45-4a0e-b2da-7455125ca2...</td>\n",
       "      <td>[]</td>\n",
       "      <td>[]</td>\n",
       "      <td>None</td>\n",
       "      <td>False</td>\n",
       "      <td>None</td>\n",
       "      <td>{'questionId': '9ccd072f-80e3-45dc-88cb-7b2428...</td>\n",
       "      <td>31297186-cb6d-4b0f-8bf5-0966afad5c97</td>\n",
       "      <td>55346575f9c9043695e8a51987848cc5ed0ba6e769af81...</td>\n",
       "      <td>[]</td>\n",
       "    </tr>\n",
       "    <tr>\n",
       "      <th>2</th>\n",
       "      <td>66b19692-f947-44c9-9126-33863021098e</td>\n",
       "      <td>Il faut piétonniser des rues ou routes ou boul...</td>\n",
       "      <td>fr</td>\n",
       "      <td>None</td>\n",
       "      <td>None</td>\n",
       "      <td>il-faut-pietonniser-des-rues-ou-routes-ou-boul...</td>\n",
       "      <td>Accepted</td>\n",
       "      <td>2024-03-24T10:05:38.434Z</td>\n",
       "      <td>2024-03-27T11:49:34.740Z</td>\n",
       "      <td>[{'voteKey': 'agree', 'count': 47, 'score': 0....</td>\n",
       "      <td>...</td>\n",
       "      <td>{'userId': 'b3589dd5-a215-481a-983c-0e4dff1e07...</td>\n",
       "      <td>[]</td>\n",
       "      <td>[]</td>\n",
       "      <td>None</td>\n",
       "      <td>False</td>\n",
       "      <td>None</td>\n",
       "      <td>{'questionId': '9ccd072f-80e3-45dc-88cb-7b2428...</td>\n",
       "      <td>31297186-cb6d-4b0f-8bf5-0966afad5c97</td>\n",
       "      <td>74af4270834811e803846bc54b259696397d2c6834211e...</td>\n",
       "      <td>[]</td>\n",
       "    </tr>\n",
       "    <tr>\n",
       "      <th>3</th>\n",
       "      <td>97c4c337-15d4-4c6e-a108-aefcedeb1666</td>\n",
       "      <td>Il faut organiser des compétitions inter-entre...</td>\n",
       "      <td>fr</td>\n",
       "      <td>None</td>\n",
       "      <td>None</td>\n",
       "      <td>il-faut-organiser-des-competitions-inter-entre...</td>\n",
       "      <td>Accepted</td>\n",
       "      <td>2024-01-29T10:13:07.672Z</td>\n",
       "      <td>2024-04-09T09:18:23.844Z</td>\n",
       "      <td>[{'voteKey': 'agree', 'count': 210, 'score': 0...</td>\n",
       "      <td>...</td>\n",
       "      <td>{'userId': '22448ef2-cae9-42b5-9663-3bcd333fa2...</td>\n",
       "      <td>[]</td>\n",
       "      <td>[{'tagId': '61c27abb-cdbe-404d-96aa-5cbb7dbc7c...</td>\n",
       "      <td>{'tagId': 'd2398cb5-3271-4e40-b28c-fcefbf08c5d...</td>\n",
       "      <td>False</td>\n",
       "      <td>None</td>\n",
       "      <td>{'questionId': '9ccd072f-80e3-45dc-88cb-7b2428...</td>\n",
       "      <td>31297186-cb6d-4b0f-8bf5-0966afad5c97</td>\n",
       "      <td>60feedad89a1827a6b6084a881a24e192d0db95342eba5...</td>\n",
       "      <td>[]</td>\n",
       "    </tr>\n",
       "    <tr>\n",
       "      <th>4</th>\n",
       "      <td>9f71ce59-200c-450a-8987-399eee4fb1dd</td>\n",
       "      <td>Il faut éduquer dès le plus jeune âge les enfa...</td>\n",
       "      <td>fr</td>\n",
       "      <td>None</td>\n",
       "      <td>None</td>\n",
       "      <td>il-faut-eduquer-des-le-plus-jeune-age-les-enfa...</td>\n",
       "      <td>Accepted</td>\n",
       "      <td>2024-03-28T08:51:45.459Z</td>\n",
       "      <td>2024-03-29T15:25:37.970Z</td>\n",
       "      <td>[{'voteKey': 'agree', 'count': 69, 'score': 0....</td>\n",
       "      <td>...</td>\n",
       "      <td>{'userId': 'cbc394ac-1fe0-48e0-ac3f-8b463ed719...</td>\n",
       "      <td>[]</td>\n",
       "      <td>[]</td>\n",
       "      <td>None</td>\n",
       "      <td>False</td>\n",
       "      <td>None</td>\n",
       "      <td>{'questionId': '9ccd072f-80e3-45dc-88cb-7b2428...</td>\n",
       "      <td>31297186-cb6d-4b0f-8bf5-0966afad5c97</td>\n",
       "      <td>504c8ce83f1578631555421219a7067649a12dba3d3af2...</td>\n",
       "      <td>[]</td>\n",
       "    </tr>\n",
       "  </tbody>\n",
       "</table>\n",
       "<p>5 rows × 21 columns</p>\n",
       "</div>"
      ],
      "text/plain": [
       "                                     id  \\\n",
       "0  82d5eb8f-f953-4e16-9015-9b775ff5f292   \n",
       "1  59ff8102-587a-425e-9976-c4d5d6a268fe   \n",
       "2  66b19692-f947-44c9-9126-33863021098e   \n",
       "3  97c4c337-15d4-4c6e-a108-aefcedeb1666   \n",
       "4  9f71ce59-200c-450a-8987-399eee4fb1dd   \n",
       "\n",
       "                                             content contentLanguage  \\\n",
       "0  Il faut inciter les Français à s'équiper de mo...              fr   \n",
       "1  Il faut demander aux sportifs de haut niveau d...              fr   \n",
       "2  Il faut piétonniser des rues ou routes ou boul...              fr   \n",
       "3  Il faut organiser des compétitions inter-entre...              fr   \n",
       "4  Il faut éduquer dès le plus jeune âge les enfa...              fr   \n",
       "\n",
       "  translatedContent translatedLanguage  \\\n",
       "0              None               None   \n",
       "1              None               None   \n",
       "2              None               None   \n",
       "3              None               None   \n",
       "4              None               None   \n",
       "\n",
       "                                                slug    status  \\\n",
       "0  il-faut-inciter-les-francais-a-s-equiper-de-mo...  Accepted   \n",
       "1  il-faut-demander-aux-sportifs-de-haut-niveau-d...  Accepted   \n",
       "2  il-faut-pietonniser-des-rues-ou-routes-ou-boul...  Accepted   \n",
       "3  il-faut-organiser-des-competitions-inter-entre...  Accepted   \n",
       "4  il-faut-eduquer-des-le-plus-jeune-age-les-enfa...  Accepted   \n",
       "\n",
       "                  createdAt                 updatedAt  \\\n",
       "0  2024-04-01T07:07:29.747Z  2024-04-04T13:48:06.671Z   \n",
       "1  2024-03-25T17:30:50.114Z  2024-03-27T11:55:43.793Z   \n",
       "2  2024-03-24T10:05:38.434Z  2024-03-27T11:49:34.740Z   \n",
       "3  2024-01-29T10:13:07.672Z  2024-04-09T09:18:23.844Z   \n",
       "4  2024-03-28T08:51:45.459Z  2024-03-29T15:25:37.970Z   \n",
       "\n",
       "                                               votes  ...  \\\n",
       "0  [{'voteKey': 'agree', 'count': 0, 'score': 0.0...  ...   \n",
       "1  [{'voteKey': 'agree', 'count': 39, 'score': 0....  ...   \n",
       "2  [{'voteKey': 'agree', 'count': 47, 'score': 0....  ...   \n",
       "3  [{'voteKey': 'agree', 'count': 210, 'score': 0...  ...   \n",
       "4  [{'voteKey': 'agree', 'count': 69, 'score': 0....  ...   \n",
       "\n",
       "                                              author organisations  \\\n",
       "0  {'userId': '4fad3035-1a13-4ed5-b81a-e1f400e7c6...            []   \n",
       "1  {'userId': 'e1606f3c-5d45-4a0e-b2da-7455125ca2...            []   \n",
       "2  {'userId': 'b3589dd5-a215-481a-983c-0e4dff1e07...            []   \n",
       "3  {'userId': '22448ef2-cae9-42b5-9663-3bcd333fa2...            []   \n",
       "4  {'userId': 'cbc394ac-1fe0-48e0-ac3f-8b463ed719...            []   \n",
       "\n",
       "                                                tags  \\\n",
       "0                                                 []   \n",
       "1                                                 []   \n",
       "2                                                 []   \n",
       "3  [{'tagId': '61c27abb-cdbe-404d-96aa-5cbb7dbc7c...   \n",
       "4                                                 []   \n",
       "\n",
       "                                    selectedStakeTag myProposal  idea  \\\n",
       "0                                               None      False  None   \n",
       "1                                               None      False  None   \n",
       "2                                               None      False  None   \n",
       "3  {'tagId': 'd2398cb5-3271-4e40-b28c-fcefbf08c5d...      False  None   \n",
       "4                                               None      False  None   \n",
       "\n",
       "                                            question  \\\n",
       "0  {'questionId': '9ccd072f-80e3-45dc-88cb-7b2428...   \n",
       "1  {'questionId': '9ccd072f-80e3-45dc-88cb-7b2428...   \n",
       "2  {'questionId': '9ccd072f-80e3-45dc-88cb-7b2428...   \n",
       "3  {'questionId': '9ccd072f-80e3-45dc-88cb-7b2428...   \n",
       "4  {'questionId': '9ccd072f-80e3-45dc-88cb-7b2428...   \n",
       "\n",
       "                            operationId  \\\n",
       "0  31297186-cb6d-4b0f-8bf5-0966afad5c97   \n",
       "1  31297186-cb6d-4b0f-8bf5-0966afad5c97   \n",
       "2  31297186-cb6d-4b0f-8bf5-0966afad5c97   \n",
       "3  31297186-cb6d-4b0f-8bf5-0966afad5c97   \n",
       "4  31297186-cb6d-4b0f-8bf5-0966afad5c97   \n",
       "\n",
       "                                         proposalKey keywords  \n",
       "0  7c09df8394050ca9d4d51299848e4d415e262904b64d5a...       []  \n",
       "1  55346575f9c9043695e8a51987848cc5ed0ba6e769af81...       []  \n",
       "2  74af4270834811e803846bc54b259696397d2c6834211e...       []  \n",
       "3  60feedad89a1827a6b6084a881a24e192d0db95342eba5...       []  \n",
       "4  504c8ce83f1578631555421219a7067649a12dba3d3af2...       []  \n",
       "\n",
       "[5 rows x 21 columns]"
      ]
     },
     "execution_count": 9,
     "metadata": {},
     "output_type": "execute_result"
    }
   ],
   "source": [
    "df.head()"
   ]
  },
  {
   "cell_type": "code",
   "execution_count": 10,
   "id": "39a73b13",
   "metadata": {},
   "outputs": [
    {
     "data": {
      "text/plain": [
       "{'id': '59ff8102-587a-425e-9976-c4d5d6a268fe',\n",
       " 'content': \"Il faut demander aux sportifs de haut niveau d'expliquer au public en quoi l'exercice physique peut s'avérer essentiel dans la vie.\",\n",
       " 'contentLanguage': 'fr',\n",
       " 'translatedContent': None,\n",
       " 'translatedLanguage': None,\n",
       " 'slug': 'il-faut-demander-aux-sportifs-de-haut-niveau-d-expliquer-au-public-en-quoi-l-exercice-physique-peut-s-averer-essentiel-dans-la-vie',\n",
       " 'status': 'Accepted',\n",
       " 'createdAt': '2024-03-25T17:30:50.114Z',\n",
       " 'updatedAt': '2024-03-27T11:55:43.793Z',\n",
       " 'votes': [{'voteKey': 'agree',\n",
       "   'count': 39,\n",
       "   'score': 0.45,\n",
       "   'qualifications': [{'qualificationKey': 'likeIt',\n",
       "     'count': 6,\n",
       "     'hasQualified': False},\n",
       "    {'qualificationKey': 'platitudeAgree', 'count': 6, 'hasQualified': False},\n",
       "    {'qualificationKey': 'doable', 'count': 14, 'hasQualified': False}],\n",
       "   'hasVoted': False},\n",
       "  {'voteKey': 'neutral',\n",
       "   'count': 29,\n",
       "   'score': 0.34,\n",
       "   'qualifications': [{'qualificationKey': 'noOpinion',\n",
       "     'count': 14,\n",
       "     'hasQualified': False},\n",
       "    {'qualificationKey': 'doNotUnderstand', 'count': 0, 'hasQualified': False},\n",
       "    {'qualificationKey': 'doNotCare', 'count': 9, 'hasQualified': False}],\n",
       "   'hasVoted': False},\n",
       "  {'voteKey': 'disagree',\n",
       "   'count': 19,\n",
       "   'score': 0.21,\n",
       "   'qualifications': [{'qualificationKey': 'impossible',\n",
       "     'count': 2,\n",
       "     'hasQualified': False},\n",
       "    {'qualificationKey': 'noWay', 'count': 5, 'hasQualified': False},\n",
       "    {'qualificationKey': 'platitudeDisagree',\n",
       "     'count': 7,\n",
       "     'hasQualified': False}],\n",
       "   'hasVoted': False}],\n",
       " 'context': {'operation': None,\n",
       "  'source': 'core',\n",
       "  'location': 'sequence',\n",
       "  'questionSlug': 'pratiquedusport',\n",
       "  'country': 'FR',\n",
       "  'questionLanguage': 'fr',\n",
       "  'proposalLanguage': None,\n",
       "  'clientLanguage': 'fr',\n",
       "  'getParameters': []},\n",
       " 'author': {'userId': 'e1606f3c-5d45-4a0e-b2da-7455125ca204',\n",
       "  'firstName': 'Claude',\n",
       "  'displayName': 'Claude',\n",
       "  'organisationName': None,\n",
       "  'organisationSlug': None,\n",
       "  'postalCode': None,\n",
       "  'age': None,\n",
       "  'avatarUrl': 'https://assets.make.org/assets/avatars/2024/3/07d05ba2-ba21-441d-ba8b-0ef9e7dd7a38.jpeg',\n",
       "  'userType': 'USER'},\n",
       " 'organisations': [],\n",
       " 'tags': [],\n",
       " 'selectedStakeTag': None,\n",
       " 'myProposal': False,\n",
       " 'idea': None,\n",
       " 'question': {'questionId': '9ccd072f-80e3-45dc-88cb-7b2428e437be',\n",
       "  'slug': 'pratiquedusport',\n",
       "  'wording': {'title': 'Pratique du sport',\n",
       "   'question': 'Comment favoriser la pratique sportive de tous les Français en 2024 et après ?'},\n",
       "  'countries': ['FR'],\n",
       "  'preferredLanguage': None,\n",
       "  'returnedLanguage': 'fr',\n",
       "  'startDate': '2024-02-27T15:00:00.000Z',\n",
       "  'endDate': '2024-04-28T21:59:00.000Z'},\n",
       " 'operationId': '31297186-cb6d-4b0f-8bf5-0966afad5c97',\n",
       " 'proposalKey': '55346575f9c9043695e8a51987848cc5ed0ba6e769af81fa0c9472a331091c70742b6f4edc9447b74632a25714f3a0c44be3bed7864aa5ec7c5645c0f163bb44',\n",
       " 'keywords': []}"
      ]
     },
     "execution_count": 10,
     "metadata": {},
     "output_type": "execute_result"
    }
   ],
   "source": [
    "dic"
   ]
  },
  {
   "cell_type": "code",
   "execution_count": 11,
   "id": "ad0b18e6",
   "metadata": {},
   "outputs": [
    {
     "data": {
      "text/plain": [
       "keywords\n",
       "[]                                                                                                                                                                                   765\n",
       "[{'key': 'sport', 'label': 'Sport'}]                                                                                                                                                 507\n",
       "[{'key': 'activité', 'label': 'Activités'}]                                                                                                                                           96\n",
       "[{'key': 'activité physique', 'label': 'Activités physiques'}, {'key': 'activité', 'label': 'Activités'}]                                                                             75\n",
       "[{'key': 'sport', 'label': 'Sport'}, {'key': 'santé', 'label': 'Santé'}]                                                                                                              29\n",
       "[{'key': 'santé', 'label': 'Santé'}]                                                                                                                                                  25\n",
       "[{'key': 'sport', 'label': 'Sport'}, {'key': 'activité', 'label': 'Activités'}]                                                                                                       18\n",
       "[{'key': 'sport', 'label': 'Sport'}, {'key': 'activité physique', 'label': 'Activités physiques'}, {'key': 'activité', 'label': 'Activités'}]                                         12\n",
       "[{'key': 'santé', 'label': 'Santé'}, {'key': 'activité physique', 'label': 'Activités physiques'}, {'key': 'activité', 'label': 'Activités'}]                                          7\n",
       "[{'key': 'santé', 'label': 'Santé'}, {'key': 'activité', 'label': 'Activités'}]                                                                                                        4\n",
       "[{'key': 'sport', 'label': 'Sport'}, {'key': 'santé', 'label': 'Santé'}, {'key': 'activité', 'label': 'Activités'}]                                                                    1\n",
       "[{'key': 'sport', 'label': 'Sport'}, {'key': 'santé', 'label': 'Santé'}, {'key': 'activité physique', 'label': 'Activités physiques'}, {'key': 'activité', 'label': 'Activités'}]      1\n",
       "Name: count, dtype: int64"
      ]
     },
     "execution_count": 11,
     "metadata": {},
     "output_type": "execute_result"
    }
   ],
   "source": [
    "df[\"keywords\"].value_counts()"
   ]
  },
  {
   "cell_type": "code",
   "execution_count": 12,
   "id": "bb52b6df",
   "metadata": {},
   "outputs": [],
   "source": [
    "col = [\"id\", \"content\", \"slug\", \"createdAt\", \"updatedAt\", \"votes\", \"author\"]"
   ]
  },
  {
   "cell_type": "code",
   "execution_count": 13,
   "id": "cbea9a98",
   "metadata": {},
   "outputs": [],
   "source": [
    "df = df[col].copy()"
   ]
  },
  {
   "cell_type": "code",
   "execution_count": 14,
   "id": "2a4348b1",
   "metadata": {},
   "outputs": [
    {
     "data": {
      "text/html": [
       "<div>\n",
       "<style scoped>\n",
       "    .dataframe tbody tr th:only-of-type {\n",
       "        vertical-align: middle;\n",
       "    }\n",
       "\n",
       "    .dataframe tbody tr th {\n",
       "        vertical-align: top;\n",
       "    }\n",
       "\n",
       "    .dataframe thead th {\n",
       "        text-align: right;\n",
       "    }\n",
       "</style>\n",
       "<table border=\"1\" class=\"dataframe\">\n",
       "  <thead>\n",
       "    <tr style=\"text-align: right;\">\n",
       "      <th></th>\n",
       "      <th>id</th>\n",
       "      <th>content</th>\n",
       "      <th>slug</th>\n",
       "      <th>createdAt</th>\n",
       "      <th>updatedAt</th>\n",
       "      <th>votes</th>\n",
       "      <th>author</th>\n",
       "    </tr>\n",
       "  </thead>\n",
       "  <tbody>\n",
       "    <tr>\n",
       "      <th>0</th>\n",
       "      <td>82d5eb8f-f953-4e16-9015-9b775ff5f292</td>\n",
       "      <td>Il faut inciter les Français à s'équiper de mo...</td>\n",
       "      <td>il-faut-inciter-les-francais-a-s-equiper-de-mo...</td>\n",
       "      <td>2024-04-01T07:07:29.747Z</td>\n",
       "      <td>2024-04-04T13:48:06.671Z</td>\n",
       "      <td>[{'voteKey': 'agree', 'count': 0, 'score': 0.0...</td>\n",
       "      <td>{'userId': '4fad3035-1a13-4ed5-b81a-e1f400e7c6...</td>\n",
       "    </tr>\n",
       "    <tr>\n",
       "      <th>1</th>\n",
       "      <td>59ff8102-587a-425e-9976-c4d5d6a268fe</td>\n",
       "      <td>Il faut demander aux sportifs de haut niveau d...</td>\n",
       "      <td>il-faut-demander-aux-sportifs-de-haut-niveau-d...</td>\n",
       "      <td>2024-03-25T17:30:50.114Z</td>\n",
       "      <td>2024-03-27T11:55:43.793Z</td>\n",
       "      <td>[{'voteKey': 'agree', 'count': 39, 'score': 0....</td>\n",
       "      <td>{'userId': 'e1606f3c-5d45-4a0e-b2da-7455125ca2...</td>\n",
       "    </tr>\n",
       "    <tr>\n",
       "      <th>2</th>\n",
       "      <td>66b19692-f947-44c9-9126-33863021098e</td>\n",
       "      <td>Il faut piétonniser des rues ou routes ou boul...</td>\n",
       "      <td>il-faut-pietonniser-des-rues-ou-routes-ou-boul...</td>\n",
       "      <td>2024-03-24T10:05:38.434Z</td>\n",
       "      <td>2024-03-27T11:49:34.740Z</td>\n",
       "      <td>[{'voteKey': 'agree', 'count': 47, 'score': 0....</td>\n",
       "      <td>{'userId': 'b3589dd5-a215-481a-983c-0e4dff1e07...</td>\n",
       "    </tr>\n",
       "    <tr>\n",
       "      <th>3</th>\n",
       "      <td>97c4c337-15d4-4c6e-a108-aefcedeb1666</td>\n",
       "      <td>Il faut organiser des compétitions inter-entre...</td>\n",
       "      <td>il-faut-organiser-des-competitions-inter-entre...</td>\n",
       "      <td>2024-01-29T10:13:07.672Z</td>\n",
       "      <td>2024-04-09T09:18:23.844Z</td>\n",
       "      <td>[{'voteKey': 'agree', 'count': 210, 'score': 0...</td>\n",
       "      <td>{'userId': '22448ef2-cae9-42b5-9663-3bcd333fa2...</td>\n",
       "    </tr>\n",
       "    <tr>\n",
       "      <th>4</th>\n",
       "      <td>9f71ce59-200c-450a-8987-399eee4fb1dd</td>\n",
       "      <td>Il faut éduquer dès le plus jeune âge les enfa...</td>\n",
       "      <td>il-faut-eduquer-des-le-plus-jeune-age-les-enfa...</td>\n",
       "      <td>2024-03-28T08:51:45.459Z</td>\n",
       "      <td>2024-03-29T15:25:37.970Z</td>\n",
       "      <td>[{'voteKey': 'agree', 'count': 69, 'score': 0....</td>\n",
       "      <td>{'userId': 'cbc394ac-1fe0-48e0-ac3f-8b463ed719...</td>\n",
       "    </tr>\n",
       "  </tbody>\n",
       "</table>\n",
       "</div>"
      ],
      "text/plain": [
       "                                     id  \\\n",
       "0  82d5eb8f-f953-4e16-9015-9b775ff5f292   \n",
       "1  59ff8102-587a-425e-9976-c4d5d6a268fe   \n",
       "2  66b19692-f947-44c9-9126-33863021098e   \n",
       "3  97c4c337-15d4-4c6e-a108-aefcedeb1666   \n",
       "4  9f71ce59-200c-450a-8987-399eee4fb1dd   \n",
       "\n",
       "                                             content  \\\n",
       "0  Il faut inciter les Français à s'équiper de mo...   \n",
       "1  Il faut demander aux sportifs de haut niveau d...   \n",
       "2  Il faut piétonniser des rues ou routes ou boul...   \n",
       "3  Il faut organiser des compétitions inter-entre...   \n",
       "4  Il faut éduquer dès le plus jeune âge les enfa...   \n",
       "\n",
       "                                                slug  \\\n",
       "0  il-faut-inciter-les-francais-a-s-equiper-de-mo...   \n",
       "1  il-faut-demander-aux-sportifs-de-haut-niveau-d...   \n",
       "2  il-faut-pietonniser-des-rues-ou-routes-ou-boul...   \n",
       "3  il-faut-organiser-des-competitions-inter-entre...   \n",
       "4  il-faut-eduquer-des-le-plus-jeune-age-les-enfa...   \n",
       "\n",
       "                  createdAt                 updatedAt  \\\n",
       "0  2024-04-01T07:07:29.747Z  2024-04-04T13:48:06.671Z   \n",
       "1  2024-03-25T17:30:50.114Z  2024-03-27T11:55:43.793Z   \n",
       "2  2024-03-24T10:05:38.434Z  2024-03-27T11:49:34.740Z   \n",
       "3  2024-01-29T10:13:07.672Z  2024-04-09T09:18:23.844Z   \n",
       "4  2024-03-28T08:51:45.459Z  2024-03-29T15:25:37.970Z   \n",
       "\n",
       "                                               votes  \\\n",
       "0  [{'voteKey': 'agree', 'count': 0, 'score': 0.0...   \n",
       "1  [{'voteKey': 'agree', 'count': 39, 'score': 0....   \n",
       "2  [{'voteKey': 'agree', 'count': 47, 'score': 0....   \n",
       "3  [{'voteKey': 'agree', 'count': 210, 'score': 0...   \n",
       "4  [{'voteKey': 'agree', 'count': 69, 'score': 0....   \n",
       "\n",
       "                                              author  \n",
       "0  {'userId': '4fad3035-1a13-4ed5-b81a-e1f400e7c6...  \n",
       "1  {'userId': 'e1606f3c-5d45-4a0e-b2da-7455125ca2...  \n",
       "2  {'userId': 'b3589dd5-a215-481a-983c-0e4dff1e07...  \n",
       "3  {'userId': '22448ef2-cae9-42b5-9663-3bcd333fa2...  \n",
       "4  {'userId': 'cbc394ac-1fe0-48e0-ac3f-8b463ed719...  "
      ]
     },
     "execution_count": 14,
     "metadata": {},
     "output_type": "execute_result"
    }
   ],
   "source": [
    "df.head()"
   ]
  },
  {
   "cell_type": "code",
   "execution_count": 15,
   "id": "2ad77168",
   "metadata": {},
   "outputs": [],
   "source": [
    "def votes(raw) :\n",
    "    liste = []\n",
    "    for r in raw :\n",
    "        r_count = r[\"count\"]\n",
    "        qualif_r = [c[\"count\"] for c in r[\"qualifications\"]]\n",
    "        liste.append((r_count,(qualif_r)))\n",
    "    return liste\n",
    "\n",
    "    "
   ]
  },
  {
   "cell_type": "code",
   "execution_count": 16,
   "id": "737bdb12",
   "metadata": {},
   "outputs": [],
   "source": [
    "df[\"vote_ajusted\"]=df['votes'].apply(votes)"
   ]
  },
  {
   "cell_type": "code",
   "execution_count": 17,
   "id": "60821a35",
   "metadata": {},
   "outputs": [],
   "source": [
    "df[\"vote_agree\"] = df[\"vote_ajusted\"].str[0]\n",
    "df[\"vote_neutral\"] = df[\"vote_ajusted\"].str[1]\n",
    "df[\"vote_disagree\"] = df[\"vote_ajusted\"].str[2]"
   ]
  },
  {
   "cell_type": "code",
   "execution_count": 18,
   "id": "9bcb1085",
   "metadata": {},
   "outputs": [
    {
     "data": {
      "text/html": [
       "<div>\n",
       "<style scoped>\n",
       "    .dataframe tbody tr th:only-of-type {\n",
       "        vertical-align: middle;\n",
       "    }\n",
       "\n",
       "    .dataframe tbody tr th {\n",
       "        vertical-align: top;\n",
       "    }\n",
       "\n",
       "    .dataframe thead th {\n",
       "        text-align: right;\n",
       "    }\n",
       "</style>\n",
       "<table border=\"1\" class=\"dataframe\">\n",
       "  <thead>\n",
       "    <tr style=\"text-align: right;\">\n",
       "      <th></th>\n",
       "      <th>id</th>\n",
       "      <th>content</th>\n",
       "      <th>slug</th>\n",
       "      <th>createdAt</th>\n",
       "      <th>updatedAt</th>\n",
       "      <th>votes</th>\n",
       "      <th>author</th>\n",
       "      <th>vote_ajusted</th>\n",
       "      <th>vote_agree</th>\n",
       "      <th>vote_neutral</th>\n",
       "      <th>vote_disagree</th>\n",
       "    </tr>\n",
       "  </thead>\n",
       "  <tbody>\n",
       "    <tr>\n",
       "      <th>0</th>\n",
       "      <td>82d5eb8f-f953-4e16-9015-9b775ff5f292</td>\n",
       "      <td>Il faut inciter les Français à s'équiper de mo...</td>\n",
       "      <td>il-faut-inciter-les-francais-a-s-equiper-de-mo...</td>\n",
       "      <td>2024-04-01T07:07:29.747Z</td>\n",
       "      <td>2024-04-04T13:48:06.671Z</td>\n",
       "      <td>[{'voteKey': 'agree', 'count': 0, 'score': 0.0...</td>\n",
       "      <td>{'userId': '4fad3035-1a13-4ed5-b81a-e1f400e7c6...</td>\n",
       "      <td>[(0, [0, 0, 0]), (6, [1, 0, 3]), (10, [1, 5, 3])]</td>\n",
       "      <td>(0, [0, 0, 0])</td>\n",
       "      <td>(6, [1, 0, 3])</td>\n",
       "      <td>(10, [1, 5, 3])</td>\n",
       "    </tr>\n",
       "    <tr>\n",
       "      <th>1</th>\n",
       "      <td>59ff8102-587a-425e-9976-c4d5d6a268fe</td>\n",
       "      <td>Il faut demander aux sportifs de haut niveau d...</td>\n",
       "      <td>il-faut-demander-aux-sportifs-de-haut-niveau-d...</td>\n",
       "      <td>2024-03-25T17:30:50.114Z</td>\n",
       "      <td>2024-03-27T11:55:43.793Z</td>\n",
       "      <td>[{'voteKey': 'agree', 'count': 39, 'score': 0....</td>\n",
       "      <td>{'userId': 'e1606f3c-5d45-4a0e-b2da-7455125ca2...</td>\n",
       "      <td>[(39, [6, 6, 14]), (29, [14, 0, 9]), (19, [2, ...</td>\n",
       "      <td>(39, [6, 6, 14])</td>\n",
       "      <td>(29, [14, 0, 9])</td>\n",
       "      <td>(19, [2, 5, 7])</td>\n",
       "    </tr>\n",
       "    <tr>\n",
       "      <th>2</th>\n",
       "      <td>66b19692-f947-44c9-9126-33863021098e</td>\n",
       "      <td>Il faut piétonniser des rues ou routes ou boul...</td>\n",
       "      <td>il-faut-pietonniser-des-rues-ou-routes-ou-boul...</td>\n",
       "      <td>2024-03-24T10:05:38.434Z</td>\n",
       "      <td>2024-03-27T11:49:34.740Z</td>\n",
       "      <td>[{'voteKey': 'agree', 'count': 47, 'score': 0....</td>\n",
       "      <td>{'userId': 'b3589dd5-a215-481a-983c-0e4dff1e07...</td>\n",
       "      <td>[(47, [13, 4, 16]), (18, [7, 2, 3]), (18, [2, ...</td>\n",
       "      <td>(47, [13, 4, 16])</td>\n",
       "      <td>(18, [7, 2, 3])</td>\n",
       "      <td>(18, [2, 8, 3])</td>\n",
       "    </tr>\n",
       "    <tr>\n",
       "      <th>3</th>\n",
       "      <td>97c4c337-15d4-4c6e-a108-aefcedeb1666</td>\n",
       "      <td>Il faut organiser des compétitions inter-entre...</td>\n",
       "      <td>il-faut-organiser-des-competitions-inter-entre...</td>\n",
       "      <td>2024-01-29T10:13:07.672Z</td>\n",
       "      <td>2024-04-09T09:18:23.844Z</td>\n",
       "      <td>[{'voteKey': 'agree', 'count': 210, 'score': 0...</td>\n",
       "      <td>{'userId': '22448ef2-cae9-42b5-9663-3bcd333fa2...</td>\n",
       "      <td>[(210, [38, 21, 60]), (155, [48, 4, 52]), (205...</td>\n",
       "      <td>(210, [38, 21, 60])</td>\n",
       "      <td>(155, [48, 4, 52])</td>\n",
       "      <td>(205, [41, 57, 62])</td>\n",
       "    </tr>\n",
       "    <tr>\n",
       "      <th>4</th>\n",
       "      <td>9f71ce59-200c-450a-8987-399eee4fb1dd</td>\n",
       "      <td>Il faut éduquer dès le plus jeune âge les enfa...</td>\n",
       "      <td>il-faut-eduquer-des-le-plus-jeune-age-les-enfa...</td>\n",
       "      <td>2024-03-28T08:51:45.459Z</td>\n",
       "      <td>2024-03-29T15:25:37.970Z</td>\n",
       "      <td>[{'voteKey': 'agree', 'count': 69, 'score': 0....</td>\n",
       "      <td>{'userId': 'cbc394ac-1fe0-48e0-ac3f-8b463ed719...</td>\n",
       "      <td>[(69, [14, 6, 24]), (13, [2, 6, 3]), (4, [0, 1...</td>\n",
       "      <td>(69, [14, 6, 24])</td>\n",
       "      <td>(13, [2, 6, 3])</td>\n",
       "      <td>(4, [0, 1, 3])</td>\n",
       "    </tr>\n",
       "  </tbody>\n",
       "</table>\n",
       "</div>"
      ],
      "text/plain": [
       "                                     id  \\\n",
       "0  82d5eb8f-f953-4e16-9015-9b775ff5f292   \n",
       "1  59ff8102-587a-425e-9976-c4d5d6a268fe   \n",
       "2  66b19692-f947-44c9-9126-33863021098e   \n",
       "3  97c4c337-15d4-4c6e-a108-aefcedeb1666   \n",
       "4  9f71ce59-200c-450a-8987-399eee4fb1dd   \n",
       "\n",
       "                                             content  \\\n",
       "0  Il faut inciter les Français à s'équiper de mo...   \n",
       "1  Il faut demander aux sportifs de haut niveau d...   \n",
       "2  Il faut piétonniser des rues ou routes ou boul...   \n",
       "3  Il faut organiser des compétitions inter-entre...   \n",
       "4  Il faut éduquer dès le plus jeune âge les enfa...   \n",
       "\n",
       "                                                slug  \\\n",
       "0  il-faut-inciter-les-francais-a-s-equiper-de-mo...   \n",
       "1  il-faut-demander-aux-sportifs-de-haut-niveau-d...   \n",
       "2  il-faut-pietonniser-des-rues-ou-routes-ou-boul...   \n",
       "3  il-faut-organiser-des-competitions-inter-entre...   \n",
       "4  il-faut-eduquer-des-le-plus-jeune-age-les-enfa...   \n",
       "\n",
       "                  createdAt                 updatedAt  \\\n",
       "0  2024-04-01T07:07:29.747Z  2024-04-04T13:48:06.671Z   \n",
       "1  2024-03-25T17:30:50.114Z  2024-03-27T11:55:43.793Z   \n",
       "2  2024-03-24T10:05:38.434Z  2024-03-27T11:49:34.740Z   \n",
       "3  2024-01-29T10:13:07.672Z  2024-04-09T09:18:23.844Z   \n",
       "4  2024-03-28T08:51:45.459Z  2024-03-29T15:25:37.970Z   \n",
       "\n",
       "                                               votes  \\\n",
       "0  [{'voteKey': 'agree', 'count': 0, 'score': 0.0...   \n",
       "1  [{'voteKey': 'agree', 'count': 39, 'score': 0....   \n",
       "2  [{'voteKey': 'agree', 'count': 47, 'score': 0....   \n",
       "3  [{'voteKey': 'agree', 'count': 210, 'score': 0...   \n",
       "4  [{'voteKey': 'agree', 'count': 69, 'score': 0....   \n",
       "\n",
       "                                              author  \\\n",
       "0  {'userId': '4fad3035-1a13-4ed5-b81a-e1f400e7c6...   \n",
       "1  {'userId': 'e1606f3c-5d45-4a0e-b2da-7455125ca2...   \n",
       "2  {'userId': 'b3589dd5-a215-481a-983c-0e4dff1e07...   \n",
       "3  {'userId': '22448ef2-cae9-42b5-9663-3bcd333fa2...   \n",
       "4  {'userId': 'cbc394ac-1fe0-48e0-ac3f-8b463ed719...   \n",
       "\n",
       "                                        vote_ajusted           vote_agree  \\\n",
       "0  [(0, [0, 0, 0]), (6, [1, 0, 3]), (10, [1, 5, 3])]       (0, [0, 0, 0])   \n",
       "1  [(39, [6, 6, 14]), (29, [14, 0, 9]), (19, [2, ...     (39, [6, 6, 14])   \n",
       "2  [(47, [13, 4, 16]), (18, [7, 2, 3]), (18, [2, ...    (47, [13, 4, 16])   \n",
       "3  [(210, [38, 21, 60]), (155, [48, 4, 52]), (205...  (210, [38, 21, 60])   \n",
       "4  [(69, [14, 6, 24]), (13, [2, 6, 3]), (4, [0, 1...    (69, [14, 6, 24])   \n",
       "\n",
       "         vote_neutral        vote_disagree  \n",
       "0      (6, [1, 0, 3])      (10, [1, 5, 3])  \n",
       "1    (29, [14, 0, 9])      (19, [2, 5, 7])  \n",
       "2     (18, [7, 2, 3])      (18, [2, 8, 3])  \n",
       "3  (155, [48, 4, 52])  (205, [41, 57, 62])  \n",
       "4     (13, [2, 6, 3])       (4, [0, 1, 3])  "
      ]
     },
     "execution_count": 18,
     "metadata": {},
     "output_type": "execute_result"
    }
   ],
   "source": [
    "df.head()"
   ]
  },
  {
   "cell_type": "code",
   "execution_count": 19,
   "id": "56fcfc24",
   "metadata": {},
   "outputs": [
    {
     "data": {
      "text/plain": [
       "[{'voteKey': 'agree',\n",
       "  'count': 39,\n",
       "  'score': 0.45,\n",
       "  'qualifications': [{'qualificationKey': 'likeIt',\n",
       "    'count': 6,\n",
       "    'hasQualified': False},\n",
       "   {'qualificationKey': 'platitudeAgree', 'count': 6, 'hasQualified': False},\n",
       "   {'qualificationKey': 'doable', 'count': 14, 'hasQualified': False}],\n",
       "  'hasVoted': False},\n",
       " {'voteKey': 'neutral',\n",
       "  'count': 29,\n",
       "  'score': 0.34,\n",
       "  'qualifications': [{'qualificationKey': 'noOpinion',\n",
       "    'count': 14,\n",
       "    'hasQualified': False},\n",
       "   {'qualificationKey': 'doNotUnderstand', 'count': 0, 'hasQualified': False},\n",
       "   {'qualificationKey': 'doNotCare', 'count': 9, 'hasQualified': False}],\n",
       "  'hasVoted': False},\n",
       " {'voteKey': 'disagree',\n",
       "  'count': 19,\n",
       "  'score': 0.21,\n",
       "  'qualifications': [{'qualificationKey': 'impossible',\n",
       "    'count': 2,\n",
       "    'hasQualified': False},\n",
       "   {'qualificationKey': 'noWay', 'count': 5, 'hasQualified': False},\n",
       "   {'qualificationKey': 'platitudeDisagree',\n",
       "    'count': 7,\n",
       "    'hasQualified': False}],\n",
       "  'hasVoted': False}]"
      ]
     },
     "execution_count": 19,
     "metadata": {},
     "output_type": "execute_result"
    }
   ],
   "source": [
    "dic['votes']\n"
   ]
  },
  {
   "cell_type": "code",
   "execution_count": null,
   "id": "c6344fd2",
   "metadata": {},
   "outputs": [],
   "source": []
  },
  {
   "cell_type": "code",
   "execution_count": 20,
   "id": "77c09607",
   "metadata": {},
   "outputs": [],
   "source": [
    "df = df.drop(columns=[\"votes\", \"vote_ajusted\"])"
   ]
  },
  {
   "cell_type": "code",
   "execution_count": 21,
   "id": "5c246bbc",
   "metadata": {},
   "outputs": [
    {
     "data": {
      "text/html": [
       "<div>\n",
       "<style scoped>\n",
       "    .dataframe tbody tr th:only-of-type {\n",
       "        vertical-align: middle;\n",
       "    }\n",
       "\n",
       "    .dataframe tbody tr th {\n",
       "        vertical-align: top;\n",
       "    }\n",
       "\n",
       "    .dataframe thead th {\n",
       "        text-align: right;\n",
       "    }\n",
       "</style>\n",
       "<table border=\"1\" class=\"dataframe\">\n",
       "  <thead>\n",
       "    <tr style=\"text-align: right;\">\n",
       "      <th></th>\n",
       "      <th>id</th>\n",
       "      <th>content</th>\n",
       "      <th>slug</th>\n",
       "      <th>createdAt</th>\n",
       "      <th>updatedAt</th>\n",
       "      <th>author</th>\n",
       "      <th>vote_agree</th>\n",
       "      <th>vote_neutral</th>\n",
       "      <th>vote_disagree</th>\n",
       "    </tr>\n",
       "  </thead>\n",
       "  <tbody>\n",
       "    <tr>\n",
       "      <th>0</th>\n",
       "      <td>82d5eb8f-f953-4e16-9015-9b775ff5f292</td>\n",
       "      <td>Il faut inciter les Français à s'équiper de mo...</td>\n",
       "      <td>il-faut-inciter-les-francais-a-s-equiper-de-mo...</td>\n",
       "      <td>2024-04-01T07:07:29.747Z</td>\n",
       "      <td>2024-04-04T13:48:06.671Z</td>\n",
       "      <td>{'userId': '4fad3035-1a13-4ed5-b81a-e1f400e7c6...</td>\n",
       "      <td>(0, [0, 0, 0])</td>\n",
       "      <td>(6, [1, 0, 3])</td>\n",
       "      <td>(10, [1, 5, 3])</td>\n",
       "    </tr>\n",
       "    <tr>\n",
       "      <th>1</th>\n",
       "      <td>59ff8102-587a-425e-9976-c4d5d6a268fe</td>\n",
       "      <td>Il faut demander aux sportifs de haut niveau d...</td>\n",
       "      <td>il-faut-demander-aux-sportifs-de-haut-niveau-d...</td>\n",
       "      <td>2024-03-25T17:30:50.114Z</td>\n",
       "      <td>2024-03-27T11:55:43.793Z</td>\n",
       "      <td>{'userId': 'e1606f3c-5d45-4a0e-b2da-7455125ca2...</td>\n",
       "      <td>(39, [6, 6, 14])</td>\n",
       "      <td>(29, [14, 0, 9])</td>\n",
       "      <td>(19, [2, 5, 7])</td>\n",
       "    </tr>\n",
       "    <tr>\n",
       "      <th>2</th>\n",
       "      <td>66b19692-f947-44c9-9126-33863021098e</td>\n",
       "      <td>Il faut piétonniser des rues ou routes ou boul...</td>\n",
       "      <td>il-faut-pietonniser-des-rues-ou-routes-ou-boul...</td>\n",
       "      <td>2024-03-24T10:05:38.434Z</td>\n",
       "      <td>2024-03-27T11:49:34.740Z</td>\n",
       "      <td>{'userId': 'b3589dd5-a215-481a-983c-0e4dff1e07...</td>\n",
       "      <td>(47, [13, 4, 16])</td>\n",
       "      <td>(18, [7, 2, 3])</td>\n",
       "      <td>(18, [2, 8, 3])</td>\n",
       "    </tr>\n",
       "    <tr>\n",
       "      <th>3</th>\n",
       "      <td>97c4c337-15d4-4c6e-a108-aefcedeb1666</td>\n",
       "      <td>Il faut organiser des compétitions inter-entre...</td>\n",
       "      <td>il-faut-organiser-des-competitions-inter-entre...</td>\n",
       "      <td>2024-01-29T10:13:07.672Z</td>\n",
       "      <td>2024-04-09T09:18:23.844Z</td>\n",
       "      <td>{'userId': '22448ef2-cae9-42b5-9663-3bcd333fa2...</td>\n",
       "      <td>(210, [38, 21, 60])</td>\n",
       "      <td>(155, [48, 4, 52])</td>\n",
       "      <td>(205, [41, 57, 62])</td>\n",
       "    </tr>\n",
       "    <tr>\n",
       "      <th>4</th>\n",
       "      <td>9f71ce59-200c-450a-8987-399eee4fb1dd</td>\n",
       "      <td>Il faut éduquer dès le plus jeune âge les enfa...</td>\n",
       "      <td>il-faut-eduquer-des-le-plus-jeune-age-les-enfa...</td>\n",
       "      <td>2024-03-28T08:51:45.459Z</td>\n",
       "      <td>2024-03-29T15:25:37.970Z</td>\n",
       "      <td>{'userId': 'cbc394ac-1fe0-48e0-ac3f-8b463ed719...</td>\n",
       "      <td>(69, [14, 6, 24])</td>\n",
       "      <td>(13, [2, 6, 3])</td>\n",
       "      <td>(4, [0, 1, 3])</td>\n",
       "    </tr>\n",
       "    <tr>\n",
       "      <th>...</th>\n",
       "      <td>...</td>\n",
       "      <td>...</td>\n",
       "      <td>...</td>\n",
       "      <td>...</td>\n",
       "      <td>...</td>\n",
       "      <td>...</td>\n",
       "      <td>...</td>\n",
       "      <td>...</td>\n",
       "      <td>...</td>\n",
       "    </tr>\n",
       "    <tr>\n",
       "      <th>1535</th>\n",
       "      <td>16251ada-5ac5-488f-84d9-8a3a4d74c74c</td>\n",
       "      <td>Il faut qu'il y ait plus d'offres d'activités ...</td>\n",
       "      <td>il-faut-qu-il-y-ait-plus-d-offres-d-activites-...</td>\n",
       "      <td>2024-04-01T07:57:23.506Z</td>\n",
       "      <td>2024-04-11T12:47:39.853Z</td>\n",
       "      <td>{'userId': '6f660e94-cf68-4ca3-b431-0e21da54ec...</td>\n",
       "      <td>(28, [8, 1, 8])</td>\n",
       "      <td>(3, [0, 1, 0])</td>\n",
       "      <td>(2, [0, 2, 0])</td>\n",
       "    </tr>\n",
       "    <tr>\n",
       "      <th>1536</th>\n",
       "      <td>029568f5-4352-4667-b666-65a2da5565c9</td>\n",
       "      <td>Il faut faire des aménagements cyclables ainsi...</td>\n",
       "      <td>il-faut-faire-des-amenagements-cyclables-ainsi...</td>\n",
       "      <td>2024-03-30T11:59:17.932Z</td>\n",
       "      <td>2024-04-11T12:47:39.749Z</td>\n",
       "      <td>{'userId': 'd9822c10-8d91-4d56-905d-95c91234ba...</td>\n",
       "      <td>(33, [5, 3, 12])</td>\n",
       "      <td>(9, [3, 2, 3])</td>\n",
       "      <td>(3, [0, 2, 0])</td>\n",
       "    </tr>\n",
       "    <tr>\n",
       "      <th>1537</th>\n",
       "      <td>c244a312-43b0-492a-a4c3-61acb664784d</td>\n",
       "      <td>Il faut inciter à avoir des douches dans les e...</td>\n",
       "      <td>il-faut-inciter-a-avoir-des-douches-dans-les-e...</td>\n",
       "      <td>2024-03-31T07:42:57.843Z</td>\n",
       "      <td>2024-04-04T13:41:00.414Z</td>\n",
       "      <td>{'userId': '678b91c1-2f43-4336-a000-522e8fa2e4...</td>\n",
       "      <td>(33, [7, 4, 9])</td>\n",
       "      <td>(9, [3, 2, 1])</td>\n",
       "      <td>(3, [2, 0, 0])</td>\n",
       "    </tr>\n",
       "    <tr>\n",
       "      <th>1538</th>\n",
       "      <td>83738cba-e965-4eeb-873e-6e576c83118f</td>\n",
       "      <td>Il faut adapter les vestiaires des enfants à l...</td>\n",
       "      <td>il-faut-adapter-les-vestiaires-des-enfants-a-l...</td>\n",
       "      <td>2024-03-28T15:32:31.427Z</td>\n",
       "      <td>2024-04-05T09:00:40.920Z</td>\n",
       "      <td>{'userId': '3cd92c36-df5b-4392-b529-525acea3b7...</td>\n",
       "      <td>(30, [7, 4, 6])</td>\n",
       "      <td>(11, [3, 2, 3])</td>\n",
       "      <td>(4, [2, 1, 1])</td>\n",
       "    </tr>\n",
       "    <tr>\n",
       "      <th>1539</th>\n",
       "      <td>5a74cbd4-e1c0-4645-b4d0-ba5b42b0fd40</td>\n",
       "      <td>Il faut que les sports à hauts revenus partici...</td>\n",
       "      <td>il-faut-que-les-sports-a-hauts-revenus-partici...</td>\n",
       "      <td>2024-04-01T15:08:53.199Z</td>\n",
       "      <td>2024-04-11T12:47:39.922Z</td>\n",
       "      <td>{'userId': 'abafb2fd-e805-45df-8170-b551670c81...</td>\n",
       "      <td>(35, [12, 3, 8])</td>\n",
       "      <td>(3, [0, 0, 1])</td>\n",
       "      <td>(10, [2, 2, 3])</td>\n",
       "    </tr>\n",
       "  </tbody>\n",
       "</table>\n",
       "<p>1540 rows × 9 columns</p>\n",
       "</div>"
      ],
      "text/plain": [
       "                                        id  \\\n",
       "0     82d5eb8f-f953-4e16-9015-9b775ff5f292   \n",
       "1     59ff8102-587a-425e-9976-c4d5d6a268fe   \n",
       "2     66b19692-f947-44c9-9126-33863021098e   \n",
       "3     97c4c337-15d4-4c6e-a108-aefcedeb1666   \n",
       "4     9f71ce59-200c-450a-8987-399eee4fb1dd   \n",
       "...                                    ...   \n",
       "1535  16251ada-5ac5-488f-84d9-8a3a4d74c74c   \n",
       "1536  029568f5-4352-4667-b666-65a2da5565c9   \n",
       "1537  c244a312-43b0-492a-a4c3-61acb664784d   \n",
       "1538  83738cba-e965-4eeb-873e-6e576c83118f   \n",
       "1539  5a74cbd4-e1c0-4645-b4d0-ba5b42b0fd40   \n",
       "\n",
       "                                                content  \\\n",
       "0     Il faut inciter les Français à s'équiper de mo...   \n",
       "1     Il faut demander aux sportifs de haut niveau d...   \n",
       "2     Il faut piétonniser des rues ou routes ou boul...   \n",
       "3     Il faut organiser des compétitions inter-entre...   \n",
       "4     Il faut éduquer dès le plus jeune âge les enfa...   \n",
       "...                                                 ...   \n",
       "1535  Il faut qu'il y ait plus d'offres d'activités ...   \n",
       "1536  Il faut faire des aménagements cyclables ainsi...   \n",
       "1537  Il faut inciter à avoir des douches dans les e...   \n",
       "1538  Il faut adapter les vestiaires des enfants à l...   \n",
       "1539  Il faut que les sports à hauts revenus partici...   \n",
       "\n",
       "                                                   slug  \\\n",
       "0     il-faut-inciter-les-francais-a-s-equiper-de-mo...   \n",
       "1     il-faut-demander-aux-sportifs-de-haut-niveau-d...   \n",
       "2     il-faut-pietonniser-des-rues-ou-routes-ou-boul...   \n",
       "3     il-faut-organiser-des-competitions-inter-entre...   \n",
       "4     il-faut-eduquer-des-le-plus-jeune-age-les-enfa...   \n",
       "...                                                 ...   \n",
       "1535  il-faut-qu-il-y-ait-plus-d-offres-d-activites-...   \n",
       "1536  il-faut-faire-des-amenagements-cyclables-ainsi...   \n",
       "1537  il-faut-inciter-a-avoir-des-douches-dans-les-e...   \n",
       "1538  il-faut-adapter-les-vestiaires-des-enfants-a-l...   \n",
       "1539  il-faut-que-les-sports-a-hauts-revenus-partici...   \n",
       "\n",
       "                     createdAt                 updatedAt  \\\n",
       "0     2024-04-01T07:07:29.747Z  2024-04-04T13:48:06.671Z   \n",
       "1     2024-03-25T17:30:50.114Z  2024-03-27T11:55:43.793Z   \n",
       "2     2024-03-24T10:05:38.434Z  2024-03-27T11:49:34.740Z   \n",
       "3     2024-01-29T10:13:07.672Z  2024-04-09T09:18:23.844Z   \n",
       "4     2024-03-28T08:51:45.459Z  2024-03-29T15:25:37.970Z   \n",
       "...                        ...                       ...   \n",
       "1535  2024-04-01T07:57:23.506Z  2024-04-11T12:47:39.853Z   \n",
       "1536  2024-03-30T11:59:17.932Z  2024-04-11T12:47:39.749Z   \n",
       "1537  2024-03-31T07:42:57.843Z  2024-04-04T13:41:00.414Z   \n",
       "1538  2024-03-28T15:32:31.427Z  2024-04-05T09:00:40.920Z   \n",
       "1539  2024-04-01T15:08:53.199Z  2024-04-11T12:47:39.922Z   \n",
       "\n",
       "                                                 author           vote_agree  \\\n",
       "0     {'userId': '4fad3035-1a13-4ed5-b81a-e1f400e7c6...       (0, [0, 0, 0])   \n",
       "1     {'userId': 'e1606f3c-5d45-4a0e-b2da-7455125ca2...     (39, [6, 6, 14])   \n",
       "2     {'userId': 'b3589dd5-a215-481a-983c-0e4dff1e07...    (47, [13, 4, 16])   \n",
       "3     {'userId': '22448ef2-cae9-42b5-9663-3bcd333fa2...  (210, [38, 21, 60])   \n",
       "4     {'userId': 'cbc394ac-1fe0-48e0-ac3f-8b463ed719...    (69, [14, 6, 24])   \n",
       "...                                                 ...                  ...   \n",
       "1535  {'userId': '6f660e94-cf68-4ca3-b431-0e21da54ec...      (28, [8, 1, 8])   \n",
       "1536  {'userId': 'd9822c10-8d91-4d56-905d-95c91234ba...     (33, [5, 3, 12])   \n",
       "1537  {'userId': '678b91c1-2f43-4336-a000-522e8fa2e4...      (33, [7, 4, 9])   \n",
       "1538  {'userId': '3cd92c36-df5b-4392-b529-525acea3b7...      (30, [7, 4, 6])   \n",
       "1539  {'userId': 'abafb2fd-e805-45df-8170-b551670c81...     (35, [12, 3, 8])   \n",
       "\n",
       "            vote_neutral        vote_disagree  \n",
       "0         (6, [1, 0, 3])      (10, [1, 5, 3])  \n",
       "1       (29, [14, 0, 9])      (19, [2, 5, 7])  \n",
       "2        (18, [7, 2, 3])      (18, [2, 8, 3])  \n",
       "3     (155, [48, 4, 52])  (205, [41, 57, 62])  \n",
       "4        (13, [2, 6, 3])       (4, [0, 1, 3])  \n",
       "...                  ...                  ...  \n",
       "1535      (3, [0, 1, 0])       (2, [0, 2, 0])  \n",
       "1536      (9, [3, 2, 3])       (3, [0, 2, 0])  \n",
       "1537      (9, [3, 2, 1])       (3, [2, 0, 0])  \n",
       "1538     (11, [3, 2, 3])       (4, [2, 1, 1])  \n",
       "1539      (3, [0, 0, 1])      (10, [2, 2, 3])  \n",
       "\n",
       "[1540 rows x 9 columns]"
      ]
     },
     "execution_count": 21,
     "metadata": {},
     "output_type": "execute_result"
    }
   ],
   "source": [
    "df"
   ]
  },
  {
   "cell_type": "code",
   "execution_count": 22,
   "id": "7b904827",
   "metadata": {},
   "outputs": [
    {
     "data": {
      "text/plain": [
       "{'userId': 'd768571b-64f9-4251-86fc-3b7e91572b1a',\n",
       " 'firstName': 'Celine',\n",
       " 'displayName': 'Celine',\n",
       " 'organisationName': None,\n",
       " 'organisationSlug': None,\n",
       " 'postalCode': '33000',\n",
       " 'age': 43,\n",
       " 'avatarUrl': None,\n",
       " 'userType': 'USER'}"
      ]
     },
     "execution_count": 22,
     "metadata": {},
     "output_type": "execute_result"
    }
   ],
   "source": [
    "df.loc[200,\"author\"]"
   ]
  },
  {
   "cell_type": "code",
   "execution_count": 23,
   "id": "322c53cd",
   "metadata": {},
   "outputs": [],
   "source": [
    "df[\"author_id\"] = df[\"author\"].apply(lambda raw: raw[\"userId\"])\n",
    "df[\"author_age\"] = df[\"author\"].apply(lambda raw: raw[\"age\"])\n",
    "df[\"author_type\"] = df[\"author\"].apply(lambda raw: raw[\"userType\"])"
   ]
  },
  {
   "cell_type": "code",
   "execution_count": 24,
   "id": "04ef9a61",
   "metadata": {},
   "outputs": [
    {
     "data": {
      "text/html": [
       "<div>\n",
       "<style scoped>\n",
       "    .dataframe tbody tr th:only-of-type {\n",
       "        vertical-align: middle;\n",
       "    }\n",
       "\n",
       "    .dataframe tbody tr th {\n",
       "        vertical-align: top;\n",
       "    }\n",
       "\n",
       "    .dataframe thead th {\n",
       "        text-align: right;\n",
       "    }\n",
       "</style>\n",
       "<table border=\"1\" class=\"dataframe\">\n",
       "  <thead>\n",
       "    <tr style=\"text-align: right;\">\n",
       "      <th></th>\n",
       "      <th>id</th>\n",
       "      <th>content</th>\n",
       "      <th>slug</th>\n",
       "      <th>createdAt</th>\n",
       "      <th>updatedAt</th>\n",
       "      <th>author</th>\n",
       "      <th>vote_agree</th>\n",
       "      <th>vote_neutral</th>\n",
       "      <th>vote_disagree</th>\n",
       "      <th>author_id</th>\n",
       "      <th>author_age</th>\n",
       "      <th>author_type</th>\n",
       "    </tr>\n",
       "  </thead>\n",
       "  <tbody>\n",
       "    <tr>\n",
       "      <th>0</th>\n",
       "      <td>82d5eb8f-f953-4e16-9015-9b775ff5f292</td>\n",
       "      <td>Il faut inciter les Français à s'équiper de mo...</td>\n",
       "      <td>il-faut-inciter-les-francais-a-s-equiper-de-mo...</td>\n",
       "      <td>2024-04-01T07:07:29.747Z</td>\n",
       "      <td>2024-04-04T13:48:06.671Z</td>\n",
       "      <td>{'userId': '4fad3035-1a13-4ed5-b81a-e1f400e7c6...</td>\n",
       "      <td>(0, [0, 0, 0])</td>\n",
       "      <td>(6, [1, 0, 3])</td>\n",
       "      <td>(10, [1, 5, 3])</td>\n",
       "      <td>4fad3035-1a13-4ed5-b81a-e1f400e7c665</td>\n",
       "      <td>61.0</td>\n",
       "      <td>USER</td>\n",
       "    </tr>\n",
       "    <tr>\n",
       "      <th>1</th>\n",
       "      <td>59ff8102-587a-425e-9976-c4d5d6a268fe</td>\n",
       "      <td>Il faut demander aux sportifs de haut niveau d...</td>\n",
       "      <td>il-faut-demander-aux-sportifs-de-haut-niveau-d...</td>\n",
       "      <td>2024-03-25T17:30:50.114Z</td>\n",
       "      <td>2024-03-27T11:55:43.793Z</td>\n",
       "      <td>{'userId': 'e1606f3c-5d45-4a0e-b2da-7455125ca2...</td>\n",
       "      <td>(39, [6, 6, 14])</td>\n",
       "      <td>(29, [14, 0, 9])</td>\n",
       "      <td>(19, [2, 5, 7])</td>\n",
       "      <td>e1606f3c-5d45-4a0e-b2da-7455125ca204</td>\n",
       "      <td>NaN</td>\n",
       "      <td>USER</td>\n",
       "    </tr>\n",
       "    <tr>\n",
       "      <th>2</th>\n",
       "      <td>66b19692-f947-44c9-9126-33863021098e</td>\n",
       "      <td>Il faut piétonniser des rues ou routes ou boul...</td>\n",
       "      <td>il-faut-pietonniser-des-rues-ou-routes-ou-boul...</td>\n",
       "      <td>2024-03-24T10:05:38.434Z</td>\n",
       "      <td>2024-03-27T11:49:34.740Z</td>\n",
       "      <td>{'userId': 'b3589dd5-a215-481a-983c-0e4dff1e07...</td>\n",
       "      <td>(47, [13, 4, 16])</td>\n",
       "      <td>(18, [7, 2, 3])</td>\n",
       "      <td>(18, [2, 8, 3])</td>\n",
       "      <td>b3589dd5-a215-481a-983c-0e4dff1e0763</td>\n",
       "      <td>66.0</td>\n",
       "      <td>USER</td>\n",
       "    </tr>\n",
       "    <tr>\n",
       "      <th>3</th>\n",
       "      <td>97c4c337-15d4-4c6e-a108-aefcedeb1666</td>\n",
       "      <td>Il faut organiser des compétitions inter-entre...</td>\n",
       "      <td>il-faut-organiser-des-competitions-inter-entre...</td>\n",
       "      <td>2024-01-29T10:13:07.672Z</td>\n",
       "      <td>2024-04-09T09:18:23.844Z</td>\n",
       "      <td>{'userId': '22448ef2-cae9-42b5-9663-3bcd333fa2...</td>\n",
       "      <td>(210, [38, 21, 60])</td>\n",
       "      <td>(155, [48, 4, 52])</td>\n",
       "      <td>(205, [41, 57, 62])</td>\n",
       "      <td>22448ef2-cae9-42b5-9663-3bcd333fa231</td>\n",
       "      <td>20.0</td>\n",
       "      <td>USER</td>\n",
       "    </tr>\n",
       "    <tr>\n",
       "      <th>4</th>\n",
       "      <td>9f71ce59-200c-450a-8987-399eee4fb1dd</td>\n",
       "      <td>Il faut éduquer dès le plus jeune âge les enfa...</td>\n",
       "      <td>il-faut-eduquer-des-le-plus-jeune-age-les-enfa...</td>\n",
       "      <td>2024-03-28T08:51:45.459Z</td>\n",
       "      <td>2024-03-29T15:25:37.970Z</td>\n",
       "      <td>{'userId': 'cbc394ac-1fe0-48e0-ac3f-8b463ed719...</td>\n",
       "      <td>(69, [14, 6, 24])</td>\n",
       "      <td>(13, [2, 6, 3])</td>\n",
       "      <td>(4, [0, 1, 3])</td>\n",
       "      <td>cbc394ac-1fe0-48e0-ac3f-8b463ed71967</td>\n",
       "      <td>NaN</td>\n",
       "      <td>USER</td>\n",
       "    </tr>\n",
       "  </tbody>\n",
       "</table>\n",
       "</div>"
      ],
      "text/plain": [
       "                                     id  \\\n",
       "0  82d5eb8f-f953-4e16-9015-9b775ff5f292   \n",
       "1  59ff8102-587a-425e-9976-c4d5d6a268fe   \n",
       "2  66b19692-f947-44c9-9126-33863021098e   \n",
       "3  97c4c337-15d4-4c6e-a108-aefcedeb1666   \n",
       "4  9f71ce59-200c-450a-8987-399eee4fb1dd   \n",
       "\n",
       "                                             content  \\\n",
       "0  Il faut inciter les Français à s'équiper de mo...   \n",
       "1  Il faut demander aux sportifs de haut niveau d...   \n",
       "2  Il faut piétonniser des rues ou routes ou boul...   \n",
       "3  Il faut organiser des compétitions inter-entre...   \n",
       "4  Il faut éduquer dès le plus jeune âge les enfa...   \n",
       "\n",
       "                                                slug  \\\n",
       "0  il-faut-inciter-les-francais-a-s-equiper-de-mo...   \n",
       "1  il-faut-demander-aux-sportifs-de-haut-niveau-d...   \n",
       "2  il-faut-pietonniser-des-rues-ou-routes-ou-boul...   \n",
       "3  il-faut-organiser-des-competitions-inter-entre...   \n",
       "4  il-faut-eduquer-des-le-plus-jeune-age-les-enfa...   \n",
       "\n",
       "                  createdAt                 updatedAt  \\\n",
       "0  2024-04-01T07:07:29.747Z  2024-04-04T13:48:06.671Z   \n",
       "1  2024-03-25T17:30:50.114Z  2024-03-27T11:55:43.793Z   \n",
       "2  2024-03-24T10:05:38.434Z  2024-03-27T11:49:34.740Z   \n",
       "3  2024-01-29T10:13:07.672Z  2024-04-09T09:18:23.844Z   \n",
       "4  2024-03-28T08:51:45.459Z  2024-03-29T15:25:37.970Z   \n",
       "\n",
       "                                              author           vote_agree  \\\n",
       "0  {'userId': '4fad3035-1a13-4ed5-b81a-e1f400e7c6...       (0, [0, 0, 0])   \n",
       "1  {'userId': 'e1606f3c-5d45-4a0e-b2da-7455125ca2...     (39, [6, 6, 14])   \n",
       "2  {'userId': 'b3589dd5-a215-481a-983c-0e4dff1e07...    (47, [13, 4, 16])   \n",
       "3  {'userId': '22448ef2-cae9-42b5-9663-3bcd333fa2...  (210, [38, 21, 60])   \n",
       "4  {'userId': 'cbc394ac-1fe0-48e0-ac3f-8b463ed719...    (69, [14, 6, 24])   \n",
       "\n",
       "         vote_neutral        vote_disagree  \\\n",
       "0      (6, [1, 0, 3])      (10, [1, 5, 3])   \n",
       "1    (29, [14, 0, 9])      (19, [2, 5, 7])   \n",
       "2     (18, [7, 2, 3])      (18, [2, 8, 3])   \n",
       "3  (155, [48, 4, 52])  (205, [41, 57, 62])   \n",
       "4     (13, [2, 6, 3])       (4, [0, 1, 3])   \n",
       "\n",
       "                              author_id  author_age author_type  \n",
       "0  4fad3035-1a13-4ed5-b81a-e1f400e7c665        61.0        USER  \n",
       "1  e1606f3c-5d45-4a0e-b2da-7455125ca204         NaN        USER  \n",
       "2  b3589dd5-a215-481a-983c-0e4dff1e0763        66.0        USER  \n",
       "3  22448ef2-cae9-42b5-9663-3bcd333fa231        20.0        USER  \n",
       "4  cbc394ac-1fe0-48e0-ac3f-8b463ed71967         NaN        USER  "
      ]
     },
     "execution_count": 24,
     "metadata": {},
     "output_type": "execute_result"
    }
   ],
   "source": [
    "df.head()"
   ]
  },
  {
   "cell_type": "code",
   "execution_count": 25,
   "id": "a18ee287",
   "metadata": {},
   "outputs": [
    {
     "data": {
      "text/plain": [
       "author_type\n",
       "USER            1469\n",
       "ORGANISATION      71\n",
       "Name: count, dtype: int64"
      ]
     },
     "execution_count": 25,
     "metadata": {},
     "output_type": "execute_result"
    }
   ],
   "source": [
    "df[\"author_type\"].value_counts()"
   ]
  },
  {
   "cell_type": "code",
   "execution_count": 26,
   "id": "bfe264f3",
   "metadata": {},
   "outputs": [],
   "source": [
    "df = df.drop(columns=\"author\")"
   ]
  },
  {
   "cell_type": "code",
   "execution_count": 27,
   "id": "56ecdee1",
   "metadata": {},
   "outputs": [
    {
     "data": {
      "text/html": [
       "<div>\n",
       "<style scoped>\n",
       "    .dataframe tbody tr th:only-of-type {\n",
       "        vertical-align: middle;\n",
       "    }\n",
       "\n",
       "    .dataframe tbody tr th {\n",
       "        vertical-align: top;\n",
       "    }\n",
       "\n",
       "    .dataframe thead th {\n",
       "        text-align: right;\n",
       "    }\n",
       "</style>\n",
       "<table border=\"1\" class=\"dataframe\">\n",
       "  <thead>\n",
       "    <tr style=\"text-align: right;\">\n",
       "      <th></th>\n",
       "      <th>id</th>\n",
       "      <th>content</th>\n",
       "      <th>slug</th>\n",
       "      <th>createdAt</th>\n",
       "      <th>updatedAt</th>\n",
       "      <th>vote_agree</th>\n",
       "      <th>vote_neutral</th>\n",
       "      <th>vote_disagree</th>\n",
       "      <th>author_id</th>\n",
       "      <th>author_age</th>\n",
       "      <th>author_type</th>\n",
       "    </tr>\n",
       "  </thead>\n",
       "  <tbody>\n",
       "    <tr>\n",
       "      <th>0</th>\n",
       "      <td>82d5eb8f-f953-4e16-9015-9b775ff5f292</td>\n",
       "      <td>Il faut inciter les Français à s'équiper de mo...</td>\n",
       "      <td>il-faut-inciter-les-francais-a-s-equiper-de-mo...</td>\n",
       "      <td>2024-04-01T07:07:29.747Z</td>\n",
       "      <td>2024-04-04T13:48:06.671Z</td>\n",
       "      <td>(0, [0, 0, 0])</td>\n",
       "      <td>(6, [1, 0, 3])</td>\n",
       "      <td>(10, [1, 5, 3])</td>\n",
       "      <td>4fad3035-1a13-4ed5-b81a-e1f400e7c665</td>\n",
       "      <td>61.0</td>\n",
       "      <td>USER</td>\n",
       "    </tr>\n",
       "    <tr>\n",
       "      <th>1</th>\n",
       "      <td>59ff8102-587a-425e-9976-c4d5d6a268fe</td>\n",
       "      <td>Il faut demander aux sportifs de haut niveau d...</td>\n",
       "      <td>il-faut-demander-aux-sportifs-de-haut-niveau-d...</td>\n",
       "      <td>2024-03-25T17:30:50.114Z</td>\n",
       "      <td>2024-03-27T11:55:43.793Z</td>\n",
       "      <td>(39, [6, 6, 14])</td>\n",
       "      <td>(29, [14, 0, 9])</td>\n",
       "      <td>(19, [2, 5, 7])</td>\n",
       "      <td>e1606f3c-5d45-4a0e-b2da-7455125ca204</td>\n",
       "      <td>NaN</td>\n",
       "      <td>USER</td>\n",
       "    </tr>\n",
       "    <tr>\n",
       "      <th>2</th>\n",
       "      <td>66b19692-f947-44c9-9126-33863021098e</td>\n",
       "      <td>Il faut piétonniser des rues ou routes ou boul...</td>\n",
       "      <td>il-faut-pietonniser-des-rues-ou-routes-ou-boul...</td>\n",
       "      <td>2024-03-24T10:05:38.434Z</td>\n",
       "      <td>2024-03-27T11:49:34.740Z</td>\n",
       "      <td>(47, [13, 4, 16])</td>\n",
       "      <td>(18, [7, 2, 3])</td>\n",
       "      <td>(18, [2, 8, 3])</td>\n",
       "      <td>b3589dd5-a215-481a-983c-0e4dff1e0763</td>\n",
       "      <td>66.0</td>\n",
       "      <td>USER</td>\n",
       "    </tr>\n",
       "    <tr>\n",
       "      <th>3</th>\n",
       "      <td>97c4c337-15d4-4c6e-a108-aefcedeb1666</td>\n",
       "      <td>Il faut organiser des compétitions inter-entre...</td>\n",
       "      <td>il-faut-organiser-des-competitions-inter-entre...</td>\n",
       "      <td>2024-01-29T10:13:07.672Z</td>\n",
       "      <td>2024-04-09T09:18:23.844Z</td>\n",
       "      <td>(210, [38, 21, 60])</td>\n",
       "      <td>(155, [48, 4, 52])</td>\n",
       "      <td>(205, [41, 57, 62])</td>\n",
       "      <td>22448ef2-cae9-42b5-9663-3bcd333fa231</td>\n",
       "      <td>20.0</td>\n",
       "      <td>USER</td>\n",
       "    </tr>\n",
       "    <tr>\n",
       "      <th>4</th>\n",
       "      <td>9f71ce59-200c-450a-8987-399eee4fb1dd</td>\n",
       "      <td>Il faut éduquer dès le plus jeune âge les enfa...</td>\n",
       "      <td>il-faut-eduquer-des-le-plus-jeune-age-les-enfa...</td>\n",
       "      <td>2024-03-28T08:51:45.459Z</td>\n",
       "      <td>2024-03-29T15:25:37.970Z</td>\n",
       "      <td>(69, [14, 6, 24])</td>\n",
       "      <td>(13, [2, 6, 3])</td>\n",
       "      <td>(4, [0, 1, 3])</td>\n",
       "      <td>cbc394ac-1fe0-48e0-ac3f-8b463ed71967</td>\n",
       "      <td>NaN</td>\n",
       "      <td>USER</td>\n",
       "    </tr>\n",
       "  </tbody>\n",
       "</table>\n",
       "</div>"
      ],
      "text/plain": [
       "                                     id  \\\n",
       "0  82d5eb8f-f953-4e16-9015-9b775ff5f292   \n",
       "1  59ff8102-587a-425e-9976-c4d5d6a268fe   \n",
       "2  66b19692-f947-44c9-9126-33863021098e   \n",
       "3  97c4c337-15d4-4c6e-a108-aefcedeb1666   \n",
       "4  9f71ce59-200c-450a-8987-399eee4fb1dd   \n",
       "\n",
       "                                             content  \\\n",
       "0  Il faut inciter les Français à s'équiper de mo...   \n",
       "1  Il faut demander aux sportifs de haut niveau d...   \n",
       "2  Il faut piétonniser des rues ou routes ou boul...   \n",
       "3  Il faut organiser des compétitions inter-entre...   \n",
       "4  Il faut éduquer dès le plus jeune âge les enfa...   \n",
       "\n",
       "                                                slug  \\\n",
       "0  il-faut-inciter-les-francais-a-s-equiper-de-mo...   \n",
       "1  il-faut-demander-aux-sportifs-de-haut-niveau-d...   \n",
       "2  il-faut-pietonniser-des-rues-ou-routes-ou-boul...   \n",
       "3  il-faut-organiser-des-competitions-inter-entre...   \n",
       "4  il-faut-eduquer-des-le-plus-jeune-age-les-enfa...   \n",
       "\n",
       "                  createdAt                 updatedAt           vote_agree  \\\n",
       "0  2024-04-01T07:07:29.747Z  2024-04-04T13:48:06.671Z       (0, [0, 0, 0])   \n",
       "1  2024-03-25T17:30:50.114Z  2024-03-27T11:55:43.793Z     (39, [6, 6, 14])   \n",
       "2  2024-03-24T10:05:38.434Z  2024-03-27T11:49:34.740Z    (47, [13, 4, 16])   \n",
       "3  2024-01-29T10:13:07.672Z  2024-04-09T09:18:23.844Z  (210, [38, 21, 60])   \n",
       "4  2024-03-28T08:51:45.459Z  2024-03-29T15:25:37.970Z    (69, [14, 6, 24])   \n",
       "\n",
       "         vote_neutral        vote_disagree  \\\n",
       "0      (6, [1, 0, 3])      (10, [1, 5, 3])   \n",
       "1    (29, [14, 0, 9])      (19, [2, 5, 7])   \n",
       "2     (18, [7, 2, 3])      (18, [2, 8, 3])   \n",
       "3  (155, [48, 4, 52])  (205, [41, 57, 62])   \n",
       "4     (13, [2, 6, 3])       (4, [0, 1, 3])   \n",
       "\n",
       "                              author_id  author_age author_type  \n",
       "0  4fad3035-1a13-4ed5-b81a-e1f400e7c665        61.0        USER  \n",
       "1  e1606f3c-5d45-4a0e-b2da-7455125ca204         NaN        USER  \n",
       "2  b3589dd5-a215-481a-983c-0e4dff1e0763        66.0        USER  \n",
       "3  22448ef2-cae9-42b5-9663-3bcd333fa231        20.0        USER  \n",
       "4  cbc394ac-1fe0-48e0-ac3f-8b463ed71967         NaN        USER  "
      ]
     },
     "execution_count": 27,
     "metadata": {},
     "output_type": "execute_result"
    }
   ],
   "source": [
    "df.head()"
   ]
  },
  {
   "cell_type": "code",
   "execution_count": 28,
   "id": "63f95042",
   "metadata": {},
   "outputs": [
    {
     "data": {
      "text/plain": [
       "id                 0\n",
       "content            0\n",
       "slug               0\n",
       "createdAt          0\n",
       "updatedAt          0\n",
       "vote_agree         0\n",
       "vote_neutral       0\n",
       "vote_disagree      0\n",
       "author_id          0\n",
       "author_age       317\n",
       "author_type        0\n",
       "dtype: int64"
      ]
     },
     "execution_count": 28,
     "metadata": {},
     "output_type": "execute_result"
    }
   ],
   "source": [
    "df.isna().sum()"
   ]
  },
  {
   "cell_type": "code",
   "execution_count": 29,
   "id": "430b5b64",
   "metadata": {},
   "outputs": [
    {
     "name": "stderr",
     "output_type": "stream",
     "text": [
      "C:\\Users\\LENOVO PC\\AppData\\Local\\Temp\\ipykernel_3812\\565535580.py:1: FutureWarning: A value is trying to be set on a copy of a DataFrame or Series through chained assignment using an inplace method.\n",
      "The behavior will change in pandas 3.0. This inplace method will never work because the intermediate object on which we are setting values always behaves as a copy.\n",
      "\n",
      "For example, when doing 'df[col].method(value, inplace=True)', try using 'df.method({col: value}, inplace=True)' or df[col] = df[col].method(value) instead, to perform the operation inplace on the original object.\n",
      "\n",
      "\n",
      "  df[\"author_age\"].fillna(df[\"author_age\"].median(), inplace=True)\n"
     ]
    }
   ],
   "source": [
    "df[\"author_age\"].fillna(df[\"author_age\"].median(), inplace=True)"
   ]
  },
  {
   "cell_type": "code",
   "execution_count": 30,
   "id": "2bdf7640",
   "metadata": {},
   "outputs": [
    {
     "data": {
      "text/plain": [
       "id               0\n",
       "content          0\n",
       "slug             0\n",
       "createdAt        0\n",
       "updatedAt        0\n",
       "vote_agree       0\n",
       "vote_neutral     0\n",
       "vote_disagree    0\n",
       "author_id        0\n",
       "author_age       0\n",
       "author_type      0\n",
       "dtype: int64"
      ]
     },
     "execution_count": 30,
     "metadata": {},
     "output_type": "execute_result"
    }
   ],
   "source": [
    "df.isna().sum()"
   ]
  },
  {
   "cell_type": "code",
   "execution_count": 31,
   "id": "2362c6e7",
   "metadata": {},
   "outputs": [],
   "source": [
    "agree=['likeit', 'platitudeagree','doable']\n",
    "Neutral=[\"noOpinion\", \"doNotUnderstand\", \"doNotCare\"]\n",
    "desagree=[\"impossible\", \"noWay\", \"platitudeDisagree\"]\n",
    "\n",
    "votes_types = (agree, Neutral, desagree)\n",
    "votes_names = [\"agree\", \"neutral\", \"disagree\" ]"
   ]
  },
  {
   "cell_type": "code",
   "execution_count": 32,
   "id": "294d29bd",
   "metadata": {},
   "outputs": [],
   "source": [
    "def sub_votes(data) :\n",
    "    i = 0\n",
    "    for type in votes_types :\n",
    "        j = 0\n",
    "        for subtype in type :\n",
    "            data[votes_names[i] + \"_\" + subtype] = data[\"vote_\"+votes_names[i]].apply(lambda raw: raw[1][j])\n",
    "            j+=1\n",
    "        i+=1\n",
    "    return data"
   ]
  },
  {
   "cell_type": "code",
   "execution_count": 33,
   "id": "fd81b8c3",
   "metadata": {},
   "outputs": [],
   "source": [
    "df_f = sub_votes(df)"
   ]
  },
  {
   "cell_type": "code",
   "execution_count": 34,
   "id": "8c0d65bb",
   "metadata": {},
   "outputs": [],
   "source": [
    "def n_votes(data) :\n",
    "    i = 0\n",
    "    for type in votes_types :\n",
    "        data[\"vote_\"+votes_names[i]] = data[\"vote_\"+votes_names[i]].apply(lambda raw: raw[0])\n",
    "        i+=1\n",
    "    return data"
   ]
  },
  {
   "cell_type": "code",
   "execution_count": 35,
   "id": "635f86e5",
   "metadata": {},
   "outputs": [],
   "source": [
    "df_f = n_votes(df_f)"
   ]
  },
  {
   "cell_type": "code",
   "execution_count": 36,
   "id": "16628d2d",
   "metadata": {},
   "outputs": [
    {
     "data": {
      "text/html": [
       "<div>\n",
       "<style scoped>\n",
       "    .dataframe tbody tr th:only-of-type {\n",
       "        vertical-align: middle;\n",
       "    }\n",
       "\n",
       "    .dataframe tbody tr th {\n",
       "        vertical-align: top;\n",
       "    }\n",
       "\n",
       "    .dataframe thead th {\n",
       "        text-align: right;\n",
       "    }\n",
       "</style>\n",
       "<table border=\"1\" class=\"dataframe\">\n",
       "  <thead>\n",
       "    <tr style=\"text-align: right;\">\n",
       "      <th></th>\n",
       "      <th>id</th>\n",
       "      <th>content</th>\n",
       "      <th>slug</th>\n",
       "      <th>createdAt</th>\n",
       "      <th>updatedAt</th>\n",
       "      <th>vote_agree</th>\n",
       "      <th>vote_neutral</th>\n",
       "      <th>vote_disagree</th>\n",
       "      <th>author_id</th>\n",
       "      <th>author_age</th>\n",
       "      <th>author_type</th>\n",
       "      <th>agree_likeit</th>\n",
       "      <th>agree_platitudeagree</th>\n",
       "      <th>agree_doable</th>\n",
       "      <th>neutral_noOpinion</th>\n",
       "      <th>neutral_doNotUnderstand</th>\n",
       "      <th>neutral_doNotCare</th>\n",
       "      <th>disagree_impossible</th>\n",
       "      <th>disagree_noWay</th>\n",
       "      <th>disagree_platitudeDisagree</th>\n",
       "    </tr>\n",
       "  </thead>\n",
       "  <tbody>\n",
       "    <tr>\n",
       "      <th>0</th>\n",
       "      <td>82d5eb8f-f953-4e16-9015-9b775ff5f292</td>\n",
       "      <td>Il faut inciter les Français à s'équiper de mo...</td>\n",
       "      <td>il-faut-inciter-les-francais-a-s-equiper-de-mo...</td>\n",
       "      <td>2024-04-01T07:07:29.747Z</td>\n",
       "      <td>2024-04-04T13:48:06.671Z</td>\n",
       "      <td>0</td>\n",
       "      <td>6</td>\n",
       "      <td>10</td>\n",
       "      <td>4fad3035-1a13-4ed5-b81a-e1f400e7c665</td>\n",
       "      <td>61.0</td>\n",
       "      <td>USER</td>\n",
       "      <td>0</td>\n",
       "      <td>0</td>\n",
       "      <td>0</td>\n",
       "      <td>1</td>\n",
       "      <td>0</td>\n",
       "      <td>3</td>\n",
       "      <td>1</td>\n",
       "      <td>5</td>\n",
       "      <td>3</td>\n",
       "    </tr>\n",
       "    <tr>\n",
       "      <th>1</th>\n",
       "      <td>59ff8102-587a-425e-9976-c4d5d6a268fe</td>\n",
       "      <td>Il faut demander aux sportifs de haut niveau d...</td>\n",
       "      <td>il-faut-demander-aux-sportifs-de-haut-niveau-d...</td>\n",
       "      <td>2024-03-25T17:30:50.114Z</td>\n",
       "      <td>2024-03-27T11:55:43.793Z</td>\n",
       "      <td>39</td>\n",
       "      <td>29</td>\n",
       "      <td>19</td>\n",
       "      <td>e1606f3c-5d45-4a0e-b2da-7455125ca204</td>\n",
       "      <td>50.0</td>\n",
       "      <td>USER</td>\n",
       "      <td>6</td>\n",
       "      <td>6</td>\n",
       "      <td>14</td>\n",
       "      <td>14</td>\n",
       "      <td>0</td>\n",
       "      <td>9</td>\n",
       "      <td>2</td>\n",
       "      <td>5</td>\n",
       "      <td>7</td>\n",
       "    </tr>\n",
       "    <tr>\n",
       "      <th>2</th>\n",
       "      <td>66b19692-f947-44c9-9126-33863021098e</td>\n",
       "      <td>Il faut piétonniser des rues ou routes ou boul...</td>\n",
       "      <td>il-faut-pietonniser-des-rues-ou-routes-ou-boul...</td>\n",
       "      <td>2024-03-24T10:05:38.434Z</td>\n",
       "      <td>2024-03-27T11:49:34.740Z</td>\n",
       "      <td>47</td>\n",
       "      <td>18</td>\n",
       "      <td>18</td>\n",
       "      <td>b3589dd5-a215-481a-983c-0e4dff1e0763</td>\n",
       "      <td>66.0</td>\n",
       "      <td>USER</td>\n",
       "      <td>13</td>\n",
       "      <td>4</td>\n",
       "      <td>16</td>\n",
       "      <td>7</td>\n",
       "      <td>2</td>\n",
       "      <td>3</td>\n",
       "      <td>2</td>\n",
       "      <td>8</td>\n",
       "      <td>3</td>\n",
       "    </tr>\n",
       "    <tr>\n",
       "      <th>3</th>\n",
       "      <td>97c4c337-15d4-4c6e-a108-aefcedeb1666</td>\n",
       "      <td>Il faut organiser des compétitions inter-entre...</td>\n",
       "      <td>il-faut-organiser-des-competitions-inter-entre...</td>\n",
       "      <td>2024-01-29T10:13:07.672Z</td>\n",
       "      <td>2024-04-09T09:18:23.844Z</td>\n",
       "      <td>210</td>\n",
       "      <td>155</td>\n",
       "      <td>205</td>\n",
       "      <td>22448ef2-cae9-42b5-9663-3bcd333fa231</td>\n",
       "      <td>20.0</td>\n",
       "      <td>USER</td>\n",
       "      <td>38</td>\n",
       "      <td>21</td>\n",
       "      <td>60</td>\n",
       "      <td>48</td>\n",
       "      <td>4</td>\n",
       "      <td>52</td>\n",
       "      <td>41</td>\n",
       "      <td>57</td>\n",
       "      <td>62</td>\n",
       "    </tr>\n",
       "    <tr>\n",
       "      <th>4</th>\n",
       "      <td>9f71ce59-200c-450a-8987-399eee4fb1dd</td>\n",
       "      <td>Il faut éduquer dès le plus jeune âge les enfa...</td>\n",
       "      <td>il-faut-eduquer-des-le-plus-jeune-age-les-enfa...</td>\n",
       "      <td>2024-03-28T08:51:45.459Z</td>\n",
       "      <td>2024-03-29T15:25:37.970Z</td>\n",
       "      <td>69</td>\n",
       "      <td>13</td>\n",
       "      <td>4</td>\n",
       "      <td>cbc394ac-1fe0-48e0-ac3f-8b463ed71967</td>\n",
       "      <td>50.0</td>\n",
       "      <td>USER</td>\n",
       "      <td>14</td>\n",
       "      <td>6</td>\n",
       "      <td>24</td>\n",
       "      <td>2</td>\n",
       "      <td>6</td>\n",
       "      <td>3</td>\n",
       "      <td>0</td>\n",
       "      <td>1</td>\n",
       "      <td>3</td>\n",
       "    </tr>\n",
       "    <tr>\n",
       "      <th>...</th>\n",
       "      <td>...</td>\n",
       "      <td>...</td>\n",
       "      <td>...</td>\n",
       "      <td>...</td>\n",
       "      <td>...</td>\n",
       "      <td>...</td>\n",
       "      <td>...</td>\n",
       "      <td>...</td>\n",
       "      <td>...</td>\n",
       "      <td>...</td>\n",
       "      <td>...</td>\n",
       "      <td>...</td>\n",
       "      <td>...</td>\n",
       "      <td>...</td>\n",
       "      <td>...</td>\n",
       "      <td>...</td>\n",
       "      <td>...</td>\n",
       "      <td>...</td>\n",
       "      <td>...</td>\n",
       "      <td>...</td>\n",
       "    </tr>\n",
       "    <tr>\n",
       "      <th>1535</th>\n",
       "      <td>16251ada-5ac5-488f-84d9-8a3a4d74c74c</td>\n",
       "      <td>Il faut qu'il y ait plus d'offres d'activités ...</td>\n",
       "      <td>il-faut-qu-il-y-ait-plus-d-offres-d-activites-...</td>\n",
       "      <td>2024-04-01T07:57:23.506Z</td>\n",
       "      <td>2024-04-11T12:47:39.853Z</td>\n",
       "      <td>28</td>\n",
       "      <td>3</td>\n",
       "      <td>2</td>\n",
       "      <td>6f660e94-cf68-4ca3-b431-0e21da54ec46</td>\n",
       "      <td>50.0</td>\n",
       "      <td>USER</td>\n",
       "      <td>8</td>\n",
       "      <td>1</td>\n",
       "      <td>8</td>\n",
       "      <td>0</td>\n",
       "      <td>1</td>\n",
       "      <td>0</td>\n",
       "      <td>0</td>\n",
       "      <td>2</td>\n",
       "      <td>0</td>\n",
       "    </tr>\n",
       "    <tr>\n",
       "      <th>1536</th>\n",
       "      <td>029568f5-4352-4667-b666-65a2da5565c9</td>\n",
       "      <td>Il faut faire des aménagements cyclables ainsi...</td>\n",
       "      <td>il-faut-faire-des-amenagements-cyclables-ainsi...</td>\n",
       "      <td>2024-03-30T11:59:17.932Z</td>\n",
       "      <td>2024-04-11T12:47:39.749Z</td>\n",
       "      <td>33</td>\n",
       "      <td>9</td>\n",
       "      <td>3</td>\n",
       "      <td>d9822c10-8d91-4d56-905d-95c91234ba61</td>\n",
       "      <td>68.0</td>\n",
       "      <td>USER</td>\n",
       "      <td>5</td>\n",
       "      <td>3</td>\n",
       "      <td>12</td>\n",
       "      <td>3</td>\n",
       "      <td>2</td>\n",
       "      <td>3</td>\n",
       "      <td>0</td>\n",
       "      <td>2</td>\n",
       "      <td>0</td>\n",
       "    </tr>\n",
       "    <tr>\n",
       "      <th>1537</th>\n",
       "      <td>c244a312-43b0-492a-a4c3-61acb664784d</td>\n",
       "      <td>Il faut inciter à avoir des douches dans les e...</td>\n",
       "      <td>il-faut-inciter-a-avoir-des-douches-dans-les-e...</td>\n",
       "      <td>2024-03-31T07:42:57.843Z</td>\n",
       "      <td>2024-04-04T13:41:00.414Z</td>\n",
       "      <td>33</td>\n",
       "      <td>9</td>\n",
       "      <td>3</td>\n",
       "      <td>678b91c1-2f43-4336-a000-522e8fa2e400</td>\n",
       "      <td>51.0</td>\n",
       "      <td>USER</td>\n",
       "      <td>7</td>\n",
       "      <td>4</td>\n",
       "      <td>9</td>\n",
       "      <td>3</td>\n",
       "      <td>2</td>\n",
       "      <td>1</td>\n",
       "      <td>2</td>\n",
       "      <td>0</td>\n",
       "      <td>0</td>\n",
       "    </tr>\n",
       "    <tr>\n",
       "      <th>1538</th>\n",
       "      <td>83738cba-e965-4eeb-873e-6e576c83118f</td>\n",
       "      <td>Il faut adapter les vestiaires des enfants à l...</td>\n",
       "      <td>il-faut-adapter-les-vestiaires-des-enfants-a-l...</td>\n",
       "      <td>2024-03-28T15:32:31.427Z</td>\n",
       "      <td>2024-04-05T09:00:40.920Z</td>\n",
       "      <td>30</td>\n",
       "      <td>11</td>\n",
       "      <td>4</td>\n",
       "      <td>3cd92c36-df5b-4392-b529-525acea3b72c</td>\n",
       "      <td>29.0</td>\n",
       "      <td>USER</td>\n",
       "      <td>7</td>\n",
       "      <td>4</td>\n",
       "      <td>6</td>\n",
       "      <td>3</td>\n",
       "      <td>2</td>\n",
       "      <td>3</td>\n",
       "      <td>2</td>\n",
       "      <td>1</td>\n",
       "      <td>1</td>\n",
       "    </tr>\n",
       "    <tr>\n",
       "      <th>1539</th>\n",
       "      <td>5a74cbd4-e1c0-4645-b4d0-ba5b42b0fd40</td>\n",
       "      <td>Il faut que les sports à hauts revenus partici...</td>\n",
       "      <td>il-faut-que-les-sports-a-hauts-revenus-partici...</td>\n",
       "      <td>2024-04-01T15:08:53.199Z</td>\n",
       "      <td>2024-04-11T12:47:39.922Z</td>\n",
       "      <td>35</td>\n",
       "      <td>3</td>\n",
       "      <td>10</td>\n",
       "      <td>abafb2fd-e805-45df-8170-b551670c811d</td>\n",
       "      <td>50.0</td>\n",
       "      <td>USER</td>\n",
       "      <td>12</td>\n",
       "      <td>3</td>\n",
       "      <td>8</td>\n",
       "      <td>0</td>\n",
       "      <td>0</td>\n",
       "      <td>1</td>\n",
       "      <td>2</td>\n",
       "      <td>2</td>\n",
       "      <td>3</td>\n",
       "    </tr>\n",
       "  </tbody>\n",
       "</table>\n",
       "<p>1540 rows × 20 columns</p>\n",
       "</div>"
      ],
      "text/plain": [
       "                                        id  \\\n",
       "0     82d5eb8f-f953-4e16-9015-9b775ff5f292   \n",
       "1     59ff8102-587a-425e-9976-c4d5d6a268fe   \n",
       "2     66b19692-f947-44c9-9126-33863021098e   \n",
       "3     97c4c337-15d4-4c6e-a108-aefcedeb1666   \n",
       "4     9f71ce59-200c-450a-8987-399eee4fb1dd   \n",
       "...                                    ...   \n",
       "1535  16251ada-5ac5-488f-84d9-8a3a4d74c74c   \n",
       "1536  029568f5-4352-4667-b666-65a2da5565c9   \n",
       "1537  c244a312-43b0-492a-a4c3-61acb664784d   \n",
       "1538  83738cba-e965-4eeb-873e-6e576c83118f   \n",
       "1539  5a74cbd4-e1c0-4645-b4d0-ba5b42b0fd40   \n",
       "\n",
       "                                                content  \\\n",
       "0     Il faut inciter les Français à s'équiper de mo...   \n",
       "1     Il faut demander aux sportifs de haut niveau d...   \n",
       "2     Il faut piétonniser des rues ou routes ou boul...   \n",
       "3     Il faut organiser des compétitions inter-entre...   \n",
       "4     Il faut éduquer dès le plus jeune âge les enfa...   \n",
       "...                                                 ...   \n",
       "1535  Il faut qu'il y ait plus d'offres d'activités ...   \n",
       "1536  Il faut faire des aménagements cyclables ainsi...   \n",
       "1537  Il faut inciter à avoir des douches dans les e...   \n",
       "1538  Il faut adapter les vestiaires des enfants à l...   \n",
       "1539  Il faut que les sports à hauts revenus partici...   \n",
       "\n",
       "                                                   slug  \\\n",
       "0     il-faut-inciter-les-francais-a-s-equiper-de-mo...   \n",
       "1     il-faut-demander-aux-sportifs-de-haut-niveau-d...   \n",
       "2     il-faut-pietonniser-des-rues-ou-routes-ou-boul...   \n",
       "3     il-faut-organiser-des-competitions-inter-entre...   \n",
       "4     il-faut-eduquer-des-le-plus-jeune-age-les-enfa...   \n",
       "...                                                 ...   \n",
       "1535  il-faut-qu-il-y-ait-plus-d-offres-d-activites-...   \n",
       "1536  il-faut-faire-des-amenagements-cyclables-ainsi...   \n",
       "1537  il-faut-inciter-a-avoir-des-douches-dans-les-e...   \n",
       "1538  il-faut-adapter-les-vestiaires-des-enfants-a-l...   \n",
       "1539  il-faut-que-les-sports-a-hauts-revenus-partici...   \n",
       "\n",
       "                     createdAt                 updatedAt  vote_agree  \\\n",
       "0     2024-04-01T07:07:29.747Z  2024-04-04T13:48:06.671Z           0   \n",
       "1     2024-03-25T17:30:50.114Z  2024-03-27T11:55:43.793Z          39   \n",
       "2     2024-03-24T10:05:38.434Z  2024-03-27T11:49:34.740Z          47   \n",
       "3     2024-01-29T10:13:07.672Z  2024-04-09T09:18:23.844Z         210   \n",
       "4     2024-03-28T08:51:45.459Z  2024-03-29T15:25:37.970Z          69   \n",
       "...                        ...                       ...         ...   \n",
       "1535  2024-04-01T07:57:23.506Z  2024-04-11T12:47:39.853Z          28   \n",
       "1536  2024-03-30T11:59:17.932Z  2024-04-11T12:47:39.749Z          33   \n",
       "1537  2024-03-31T07:42:57.843Z  2024-04-04T13:41:00.414Z          33   \n",
       "1538  2024-03-28T15:32:31.427Z  2024-04-05T09:00:40.920Z          30   \n",
       "1539  2024-04-01T15:08:53.199Z  2024-04-11T12:47:39.922Z          35   \n",
       "\n",
       "      vote_neutral  vote_disagree                             author_id  \\\n",
       "0                6             10  4fad3035-1a13-4ed5-b81a-e1f400e7c665   \n",
       "1               29             19  e1606f3c-5d45-4a0e-b2da-7455125ca204   \n",
       "2               18             18  b3589dd5-a215-481a-983c-0e4dff1e0763   \n",
       "3              155            205  22448ef2-cae9-42b5-9663-3bcd333fa231   \n",
       "4               13              4  cbc394ac-1fe0-48e0-ac3f-8b463ed71967   \n",
       "...            ...            ...                                   ...   \n",
       "1535             3              2  6f660e94-cf68-4ca3-b431-0e21da54ec46   \n",
       "1536             9              3  d9822c10-8d91-4d56-905d-95c91234ba61   \n",
       "1537             9              3  678b91c1-2f43-4336-a000-522e8fa2e400   \n",
       "1538            11              4  3cd92c36-df5b-4392-b529-525acea3b72c   \n",
       "1539             3             10  abafb2fd-e805-45df-8170-b551670c811d   \n",
       "\n",
       "      author_age author_type  agree_likeit  agree_platitudeagree  \\\n",
       "0           61.0        USER             0                     0   \n",
       "1           50.0        USER             6                     6   \n",
       "2           66.0        USER            13                     4   \n",
       "3           20.0        USER            38                    21   \n",
       "4           50.0        USER            14                     6   \n",
       "...          ...         ...           ...                   ...   \n",
       "1535        50.0        USER             8                     1   \n",
       "1536        68.0        USER             5                     3   \n",
       "1537        51.0        USER             7                     4   \n",
       "1538        29.0        USER             7                     4   \n",
       "1539        50.0        USER            12                     3   \n",
       "\n",
       "      agree_doable  neutral_noOpinion  neutral_doNotUnderstand  \\\n",
       "0                0                  1                        0   \n",
       "1               14                 14                        0   \n",
       "2               16                  7                        2   \n",
       "3               60                 48                        4   \n",
       "4               24                  2                        6   \n",
       "...            ...                ...                      ...   \n",
       "1535             8                  0                        1   \n",
       "1536            12                  3                        2   \n",
       "1537             9                  3                        2   \n",
       "1538             6                  3                        2   \n",
       "1539             8                  0                        0   \n",
       "\n",
       "      neutral_doNotCare  disagree_impossible  disagree_noWay  \\\n",
       "0                     3                    1               5   \n",
       "1                     9                    2               5   \n",
       "2                     3                    2               8   \n",
       "3                    52                   41              57   \n",
       "4                     3                    0               1   \n",
       "...                 ...                  ...             ...   \n",
       "1535                  0                    0               2   \n",
       "1536                  3                    0               2   \n",
       "1537                  1                    2               0   \n",
       "1538                  3                    2               1   \n",
       "1539                  1                    2               2   \n",
       "\n",
       "      disagree_platitudeDisagree  \n",
       "0                              3  \n",
       "1                              7  \n",
       "2                              3  \n",
       "3                             62  \n",
       "4                              3  \n",
       "...                          ...  \n",
       "1535                           0  \n",
       "1536                           0  \n",
       "1537                           0  \n",
       "1538                           1  \n",
       "1539                           3  \n",
       "\n",
       "[1540 rows x 20 columns]"
      ]
     },
     "execution_count": 36,
     "metadata": {},
     "output_type": "execute_result"
    }
   ],
   "source": [
    "df_f"
   ]
  },
  {
   "cell_type": "code",
   "execution_count": 37,
   "id": "049b40b1",
   "metadata": {},
   "outputs": [
    {
     "data": {
      "text/plain": [
       "author_id\n",
       "6f660e94-cf68-4ca3-b431-0e21da54ec46    21\n",
       "946d70a5-b382-47ee-bf36-a13c75f8a7f8    19\n",
       "c21e71f9-aff9-43dc-bea1-75e5aeca4c4f    17\n",
       "10060f7b-5bc7-4e91-af11-2e796a9fc642    15\n",
       "dc488b7b-23f0-4d69-b5ed-00ca74eb84b5    14\n",
       "                                        ..\n",
       "f754466e-e6f9-4104-9cd0-980c607f94de     1\n",
       "1f583dd4-8027-4740-affe-ef3b447f8272     1\n",
       "aec1d07f-a49d-4e22-9996-440710786486     1\n",
       "e67078eb-beb8-477a-a39e-0e74acb621d7     1\n",
       "678b91c1-2f43-4336-a000-522e8fa2e400     1\n",
       "Name: count, Length: 969, dtype: int64"
      ]
     },
     "execution_count": 37,
     "metadata": {},
     "output_type": "execute_result"
    }
   ],
   "source": [
    "df_f[\"author_id\"].value_counts()"
   ]
  },
  {
   "cell_type": "markdown",
   "id": "83d95c8a",
   "metadata": {},
   "source": [
    "# Traitement des textes "
   ]
  },
  {
   "cell_type": "code",
   "execution_count": 38,
   "id": "69be8174",
   "metadata": {},
   "outputs": [],
   "source": [
    "df = df_f.copy()"
   ]
  },
  {
   "cell_type": "code",
   "execution_count": 39,
   "id": "7225ac88",
   "metadata": {},
   "outputs": [],
   "source": [
    "import spacy"
   ]
  },
  {
   "cell_type": "code",
   "execution_count": 40,
   "id": "9f5b7964",
   "metadata": {},
   "outputs": [
    {
     "name": "stdout",
     "output_type": "stream",
     "text": [
      "Collecting fr-core-news-md==3.8.0\n",
      "  Downloading https://github.com/explosion/spacy-models/releases/download/fr_core_news_md-3.8.0/fr_core_news_md-3.8.0-py3-none-any.whl (45.8 MB)\n",
      "     ---------------------------------------- 0.0/45.8 MB ? eta -:--:--\n",
      "     -------- ------------------------------- 9.7/45.8 MB 50.2 MB/s eta 0:00:01\n",
      "     ---------------- ---------------------- 19.1/45.8 MB 46.4 MB/s eta 0:00:01\n",
      "     --------------------- ----------------- 25.4/45.8 MB 41.3 MB/s eta 0:00:01\n",
      "     ----------------------------- --------- 34.6/45.8 MB 42.2 MB/s eta 0:00:01\n",
      "     ------------------------------------- - 44.3/45.8 MB 42.7 MB/s eta 0:00:01\n",
      "     --------------------------------------  45.6/45.8 MB 43.3 MB/s eta 0:00:01\n",
      "     --------------------------------------  45.6/45.8 MB 43.3 MB/s eta 0:00:01\n",
      "     --------------------------------------  45.6/45.8 MB 43.3 MB/s eta 0:00:01\n",
      "     --------------------------------------  45.6/45.8 MB 43.3 MB/s eta 0:00:01\n",
      "     --------------------------------------  45.6/45.8 MB 43.3 MB/s eta 0:00:01\n",
      "     --------------------------------------- 45.8/45.8 MB 21.1 MB/s eta 0:00:00\n",
      "\u001b[38;5;2m✔ Download and installation successful\u001b[0m\n",
      "You can now load the package via spacy.load('fr_core_news_md')\n"
     ]
    },
    {
     "name": "stderr",
     "output_type": "stream",
     "text": [
      "\n",
      "[notice] A new release of pip is available: 25.0.1 -> 25.1.1\n",
      "[notice] To update, run: python.exe -m pip install --upgrade pip\n"
     ]
    }
   ],
   "source": [
    "!python -m spacy download fr_core_news_md\n"
   ]
  },
  {
   "cell_type": "code",
   "execution_count": 41,
   "id": "97b708c8",
   "metadata": {},
   "outputs": [
    {
     "name": "stdout",
     "output_type": "stream",
     "text": [
      "Requirement already satisfied: unicode in c:\\users\\lenovo pc\\appdata\\local\\programs\\python\\python312\\lib\\site-packages (2.9)\n"
     ]
    },
    {
     "name": "stderr",
     "output_type": "stream",
     "text": [
      "\n",
      "[notice] A new release of pip is available: 25.0.1 -> 25.1.1\n",
      "[notice] To update, run: python.exe -m pip install --upgrade pip\n"
     ]
    }
   ],
   "source": [
    "! pip install unicode"
   ]
  },
  {
   "cell_type": "markdown",
   "id": "ed1ed889",
   "metadata": {},
   "source": [
    "## preprocessing"
   ]
  },
  {
   "cell_type": "code",
   "execution_count": 42,
   "id": "dc04f9fb",
   "metadata": {},
   "outputs": [
    {
     "name": "stdout",
     "output_type": "stream",
     "text": [
      "                                             content  \\\n",
      "0  Il faut inciter les Français à s'équiper de mo...   \n",
      "1  Il faut demander aux sportifs de haut niveau d...   \n",
      "2  Il faut piétonniser des rues ou routes ou boul...   \n",
      "3  Il faut organiser des compétitions inter-entre...   \n",
      "4  Il faut éduquer dès le plus jeune âge les enfa...   \n",
      "\n",
      "                                              tokens  \n",
      "0  [falloir, inciter, francai, equiper, montre, c...  \n",
      "1  [falloir, demander, sportif, haut, niveau, exp...  \n",
      "2  [falloir, pietonniser, rue, route, boulevard, ...  \n",
      "3      [falloir, organiser, competition, mediatiser]  \n",
      "4  [falloir, eduquer, jeune, age, enfant, exercic...  \n"
     ]
    }
   ],
   "source": [
    "import spacy\n",
    "import pandas as pd\n",
    "from unidecode import unidecode  # << IMPORT ici\n",
    "\n",
    "# 1. Chargement du modèle spaCy\n",
    "nlp = spacy.load('fr_core_news_md')\n",
    "\n",
    "# 2. Fonction de prétraitement améliorée\n",
    "def preprocess(text):\n",
    "    text = unidecode(text.lower())  # Mise en minuscules + suppression des accents\n",
    "    doc = nlp(text)\n",
    "    return [token.lemma_ for token in doc if token.is_alpha and not token.is_stop]\n",
    "\n",
    "# 3. Application sur la colonne 'content'\n",
    "df['tokens'] = df['content'].astype(str).apply(preprocess)\n",
    "\n",
    "# Aperçu\n",
    "print(df[['content', 'tokens']].head())\n"
   ]
  },
  {
   "cell_type": "code",
   "execution_count": null,
   "id": "82641d59",
   "metadata": {},
   "outputs": [],
   "source": [
    "# 2. Supprimer les mots les plus fréquents (stop words)\n",
    "from collections import Counter\n",
    "\n",
    "all_tokens = [token for tokens in df['tokens'] for token in tokens]\n",
    "top_n = 20\n",
    "most_common_words = set([w for w, _ in Counter(all_tokens).most_common(top_n)])\n",
    "\n",
    "def remove_common(tokens):\n",
    "    return [t for t in tokens if t not in most_common_words]\n",
    "\n",
    "df['tokens'] = df['tokens'].apply(remove_common)"
   ]
  },
  {
   "cell_type": "code",
   "execution_count": 44,
   "id": "0def88a6",
   "metadata": {},
   "outputs": [
    {
     "data": {
      "text/html": [
       "<div>\n",
       "<style scoped>\n",
       "    .dataframe tbody tr th:only-of-type {\n",
       "        vertical-align: middle;\n",
       "    }\n",
       "\n",
       "    .dataframe tbody tr th {\n",
       "        vertical-align: top;\n",
       "    }\n",
       "\n",
       "    .dataframe thead th {\n",
       "        text-align: right;\n",
       "    }\n",
       "</style>\n",
       "<table border=\"1\" class=\"dataframe\">\n",
       "  <thead>\n",
       "    <tr style=\"text-align: right;\">\n",
       "      <th></th>\n",
       "      <th>content</th>\n",
       "      <th>tokens</th>\n",
       "    </tr>\n",
       "  </thead>\n",
       "  <tbody>\n",
       "    <tr>\n",
       "      <th>0</th>\n",
       "      <td>Il faut inciter les Français à s'équiper de mo...</td>\n",
       "      <td>[inciter, francai, equiper, montre, connecteer...</td>\n",
       "    </tr>\n",
       "    <tr>\n",
       "      <th>1</th>\n",
       "      <td>Il faut demander aux sportifs de haut niveau d...</td>\n",
       "      <td>[demander, haut, niveau, expliquer, public, ex...</td>\n",
       "    </tr>\n",
       "    <tr>\n",
       "      <th>2</th>\n",
       "      <td>Il faut piétonniser des rues ou routes ou boul...</td>\n",
       "      <td>[pietonniser, rue, route, boulevard, inciter, ...</td>\n",
       "    </tr>\n",
       "    <tr>\n",
       "      <th>3</th>\n",
       "      <td>Il faut organiser des compétitions inter-entre...</td>\n",
       "      <td>[organiser, competition, mediatiser]</td>\n",
       "    </tr>\n",
       "    <tr>\n",
       "      <th>4</th>\n",
       "      <td>Il faut éduquer dès le plus jeune âge les enfa...</td>\n",
       "      <td>[eduquer, age, exercice, simple, disponible, a...</td>\n",
       "    </tr>\n",
       "  </tbody>\n",
       "</table>\n",
       "</div>"
      ],
      "text/plain": [
       "                                             content  \\\n",
       "0  Il faut inciter les Français à s'équiper de mo...   \n",
       "1  Il faut demander aux sportifs de haut niveau d...   \n",
       "2  Il faut piétonniser des rues ou routes ou boul...   \n",
       "3  Il faut organiser des compétitions inter-entre...   \n",
       "4  Il faut éduquer dès le plus jeune âge les enfa...   \n",
       "\n",
       "                                              tokens  \n",
       "0  [inciter, francai, equiper, montre, connecteer...  \n",
       "1  [demander, haut, niveau, expliquer, public, ex...  \n",
       "2  [pietonniser, rue, route, boulevard, inciter, ...  \n",
       "3               [organiser, competition, mediatiser]  \n",
       "4  [eduquer, age, exercice, simple, disponible, a...  "
      ]
     },
     "execution_count": 44,
     "metadata": {},
     "output_type": "execute_result"
    }
   ],
   "source": [
    "df[['content','tokens']].head()"
   ]
  },
  {
   "cell_type": "markdown",
   "id": "c4659d3b",
   "metadata": {},
   "source": [
    "## Vectorisation avec word2vec"
   ]
  },
  {
   "cell_type": "code",
   "execution_count": 45,
   "id": "84781793",
   "metadata": {},
   "outputs": [],
   "source": [
    "from gensim.models import Word2Vec"
   ]
  },
  {
   "cell_type": "code",
   "execution_count": 46,
   "id": "5241bfb6",
   "metadata": {},
   "outputs": [],
   "source": [
    "from gensim.models import Word2Vec"
   ]
  },
  {
   "cell_type": "code",
   "execution_count": 47,
   "id": "bedcfbc6",
   "metadata": {},
   "outputs": [
    {
     "data": {
      "text/plain": [
       "13"
      ]
     },
     "execution_count": 47,
     "metadata": {},
     "output_type": "execute_result"
    }
   ],
   "source": [
    "MAX=np.max([len(l) for l in df[\"tokens\"]])\n",
    "MAX"
   ]
  },
  {
   "cell_type": "code",
   "execution_count": 48,
   "id": "51d9e64b",
   "metadata": {},
   "outputs": [],
   "source": [
    "# 1. Entraînement du modèle Word2Vec\n",
    "model = Word2Vec(\n",
    "    sentences=df['tokens'],   # On utilise directement la liste de tokens\n",
    "    vector_size=50,          # Dimension des vecteurs (tu peux changer, ex: 50, 200)\n",
    "    window=MAX,                 # Taille du contexte (nombre de mots autour)\n",
    "    min_count=1,              # Ignore les mots apparaissant moins de 2 fois\n",
    "    sg=0                      # 1 = skip-gram ; 0 = CBOW\n",
    ")\n",
    "\n",
    "# 2. Sauvegarder ou charger ton modèle si besoin\n",
    "model.save(\"word2vec.model\")\n",
    "model = Word2Vec.load(\"word2vec.model\")\n"
   ]
  },
  {
   "cell_type": "code",
   "execution_count": 49,
   "id": "8c9e2092",
   "metadata": {},
   "outputs": [],
   "source": [
    " # 3. Obtenir les vecteurs pour chaque mot"
   ]
  },
  {
   "cell_type": "code",
   "execution_count": 50,
   "id": "e34de136",
   "metadata": {},
   "outputs": [
    {
     "data": {
      "text/html": [
       "<div>\n",
       "<style scoped>\n",
       "    .dataframe tbody tr th:only-of-type {\n",
       "        vertical-align: middle;\n",
       "    }\n",
       "\n",
       "    .dataframe tbody tr th {\n",
       "        vertical-align: top;\n",
       "    }\n",
       "\n",
       "    .dataframe thead th {\n",
       "        text-align: right;\n",
       "    }\n",
       "</style>\n",
       "<table border=\"1\" class=\"dataframe\">\n",
       "  <thead>\n",
       "    <tr style=\"text-align: right;\">\n",
       "      <th></th>\n",
       "      <th>tokens</th>\n",
       "      <th>vectors</th>\n",
       "    </tr>\n",
       "  </thead>\n",
       "  <tbody>\n",
       "    <tr>\n",
       "      <th>0</th>\n",
       "      <td>[inciter, francai, equiper, montre, connecteer...</td>\n",
       "      <td>[[0.014472232, -0.014728873, -0.0018971626, -0...</td>\n",
       "    </tr>\n",
       "    <tr>\n",
       "      <th>1</th>\n",
       "      <td>[demander, haut, niveau, expliquer, public, ex...</td>\n",
       "      <td>[[0.017102499, 0.0109927105, 0.017855834, 0.00...</td>\n",
       "    </tr>\n",
       "    <tr>\n",
       "      <th>2</th>\n",
       "      <td>[pietonniser, rue, route, boulevard, inciter, ...</td>\n",
       "      <td>[[0.01248389, 0.017163496, -0.004945328, 0.019...</td>\n",
       "    </tr>\n",
       "    <tr>\n",
       "      <th>3</th>\n",
       "      <td>[organiser, competition, mediatiser]</td>\n",
       "      <td>[[0.010911201, -0.009553566, -0.011851353, 2.3...</td>\n",
       "    </tr>\n",
       "    <tr>\n",
       "      <th>4</th>\n",
       "      <td>[eduquer, age, exercice, simple, disponible, a...</td>\n",
       "      <td>[[-0.005598495, 0.012054129, -0.00041394684, -...</td>\n",
       "    </tr>\n",
       "  </tbody>\n",
       "</table>\n",
       "</div>"
      ],
      "text/plain": [
       "                                              tokens  \\\n",
       "0  [inciter, francai, equiper, montre, connecteer...   \n",
       "1  [demander, haut, niveau, expliquer, public, ex...   \n",
       "2  [pietonniser, rue, route, boulevard, inciter, ...   \n",
       "3               [organiser, competition, mediatiser]   \n",
       "4  [eduquer, age, exercice, simple, disponible, a...   \n",
       "\n",
       "                                             vectors  \n",
       "0  [[0.014472232, -0.014728873, -0.0018971626, -0...  \n",
       "1  [[0.017102499, 0.0109927105, 0.017855834, 0.00...  \n",
       "2  [[0.01248389, 0.017163496, -0.004945328, 0.019...  \n",
       "3  [[0.010911201, -0.009553566, -0.011851353, 2.3...  \n",
       "4  [[-0.005598495, 0.012054129, -0.00041394684, -...  "
      ]
     },
     "execution_count": 50,
     "metadata": {},
     "output_type": "execute_result"
    }
   ],
   "source": [
    "def get_token_vector(tokens):\n",
    "    list_vector = []\n",
    "    for t in tokens :\n",
    "        list_vector.append(model.wv[t])\n",
    "    return list_vector\n",
    "\n",
    "\n",
    "# application de la fonction sur la colonne 'tokens'\n",
    "df['vectors'] = df['tokens'].apply(get_token_vector)      \n",
    "df[['tokens', 'vectors']].head()"
   ]
  },
  {
   "cell_type": "code",
   "execution_count": 51,
   "id": "5c34e5c6",
   "metadata": {},
   "outputs": [
    {
     "name": "stderr",
     "output_type": "stream",
     "text": [
      "c:\\Users\\LENOVO PC\\AppData\\Local\\Programs\\Python\\Python312\\Lib\\site-packages\\sklearn\\manifold\\_t_sne.py:1162: FutureWarning: 'n_iter' was renamed to 'max_iter' in version 1.5 and will be removed in 1.7.\n",
      "  warnings.warn(\n"
     ]
    },
    {
     "data": {
      "application/vnd.plotly.v1+json": {
       "config": {
        "plotlyServerURL": "https://plot.ly"
       },
       "data": [
        {
         "hovertemplate": "<b>%{hovertext}</b><br><br>x=%{x}<br>y=%{y}<extra></extra>",
         "hovertext": [
          "permettre",
          "creer",
          "pouvoir",
          "personne",
          "place",
          "velo",
          "public",
          "age",
          "acce",
          "salle",
          "heure",
          "pratiquer",
          "accessible",
          "cours",
          "ville",
          "gratuit",
          "donner",
          "equipement",
          "aider",
          "social",
          "scolaire",
          "non",
          "lieu",
          "encourager",
          "faciliter",
          "inciter",
          "infrastructure",
          "prendre",
          "integrer",
          "jeu",
          "benevole",
          "ep",
          "être",
          "competition",
          "espace",
          "primaire",
          "senior",
          "commune",
          "quotidien",
          "journee",
          "augmenter",
          "bienfait",
          "semaine",
          "mieux",
          "jour",
          "cyclable",
          "promouvoir",
          "moyen",
          "college",
          "ludique",
          "offrir",
          "bien",
          "pied",
          "salarie",
          "davantage",
          "plaisir",
          "parent",
          "adulte",
          "piste",
          "prix",
          "grand",
          "structure",
          "niveau",
          "horaire",
          "charge",
          "nombre",
          "organiser",
          "securite",
          "abonnement",
          "seance",
          "licence",
          "bouger",
          "marche",
          "an",
          "aide",
          "parcours",
          "famille",
          "adapter",
          "lycee",
          "terrain",
          "exemple",
          "valoriser",
          "vie",
          "petit",
          "obligatoire",
          "pause",
          "etat",
          "loisir",
          "bon",
          "local",
          "sein",
          "aller",
          "creneau",
          "federation",
          "educateur",
          "arreter",
          "formation",
          "performance",
          "francai",
          "maternelle",
          "culture",
          "employeur",
          "programme",
          "deplacement",
          "obliger",
          "multisport",
          "rembourser",
          "installation",
          "objectif",
          "materiel",
          "financier",
          "midi",
          "ouvrir",
          "emploi",
          "matin",
          "inscrire",
          "sensibiliser",
          "beaucoup",
          "sant",
          "groupe",
          "milieu",
          "handicap",
          "forme",
          "professionnel",
          "haut",
          "rural",
          "discipline",
          "gymnase",
          "plein",
          "envie",
          "femme",
          "medecin",
          "doux",
          "libre",
          "proximite",
          "transport",
          "trouver",
          "prise",
          "voir",
          "campagne",
          "dedie",
          "quartier",
          "accompagner",
          "centre",
          "budget",
          "cout",
          "nouveau",
          "fonction",
          "decouvrir",
          "education",
          "renforcer",
          "service",
          "actif",
          "annee",
          "air",
          "parc",
          "construire",
          "remettre",
          "etude",
          "exercice",
          "voiture",
          "trop",
          "equipe",
          "cher",
          "decouverte",
          "esprit",
          "ameliorer",
          "gym",
          "evenement",
          "inscription",
          "lien",
          "payer",
          "national",
          "amenager",
          "inclure",
          "stade",
          "adaptee",
          "modele",
          "yoga",
          "retraite",
          "soutenir",
          "offre",
          "maladie",
          "animateur",
          "organisation",
          "possibilite",
          "ex",
          "marcher",
          "interdire",
          "mairie",
          "baisser",
          "utiliser",
          "meilleur",
          "subvention",
          "exterieur",
          "mutuel",
          "participer",
          "partie",
          "long",
          "coach",
          "contre",
          "situation",
          "maison",
          "patient",
          "population",
          "action",
          "enseignant",
          "choix",
          "prescrire",
          "travailler",
          "ca",
          "motiver",
          "piscine",
          "systeme",
          "olympique",
          "acceder",
          "gratuitement",
          "expliquer",
          "imposer",
          "citoyen",
          "gout",
          "adapteer",
          "apa",
          "disposition",
          "medicament",
          "eleve",
          "corps",
          "minute",
          "france",
          "sedentarite",
          "territoire",
          "mouvement",
          "collectivite",
          "pass",
          "financierement",
          "douche",
          "financer",
          "savoir",
          "reduire",
          "cotisation",
          "prof",
          "jo",
          "qualite",
          "habitude",
          "avoir",
          "village",
          "regulierement",
          "tarif",
          "disponible",
          "zone",
          "passer",
          "associatif",
          "former",
          "besoin",
          "collectif",
          "application",
          "interet",
          "course",
          "financement",
          "etablissement",
          "tot",
          "gratuite",
          "aps",
          "matiere",
          "poste",
          "accer",
          "devenir",
          "diminuer",
          "soir",
          "revoir",
          "commencer",
          "limiter",
          "inclusion",
          "eviter",
          "vestiaire",
          "ensemble",
          "vrai",
          "medical",
          "partir",
          "trajet",
          "apprentissage",
          "chronique",
          "entraineur",
          "commun",
          "encadrement",
          "mobilite",
          "important",
          "lutter",
          "reseau",
          "urbain",
          "exister",
          "connaitre",
          "amenagement",
          "cesser",
          "instaurer",
          "reguliere",
          "choisir",
          "mental",
          "projet",
          "accompagnement"
         ],
         "legendgroup": "",
         "marker": {
          "color": "blue",
          "size": 6,
          "symbol": "circle"
         },
         "mode": "markers",
         "name": "",
         "orientation": "v",
         "showlegend": false,
         "textposition": "top center",
         "type": "scatter",
         "x": {
          "bdata": "f3/0QBihEUEOCBZByGcCQR6CAUEgXPpA9i8GQXlQ+0CBlOlAphbVQBAxyUDCIelA0k4FQUas4EBrluBAbgxBQJecDEHvefJAH2iqQMWWrEAzBaRAc7XNQA5alECBGLlAi+wPvpM/6kDDMO5A+SPDvy+BlkAJMLpAiv8YQTg+gEAgyeJAKxzBQCYTUEDvr7RAwot1QBVEC0F9Nc9AiqRZQC99LkAZRMJAjOU9wMaLkkADzzK+NgYvQN9FD8AfzJ5AD2/6QJrGckBd5cFAvz+gQBIHDkEHQiJAWQbtPwza1kBrzgpB/E2mP5ihpECQG7NAJdp9wGejB0FbW+FAKzbdO1IOi0A1yQNB+AeaQF//q79bLthA/fAPQZt/TkC6qF5ANR1VQM1B+z9fPNlAG/jbQMsYWD9UAC7A2TMXwBy4zz+PSLA+DlGwQESDTEAijqo/poBnP3PFR0CRInhAgYItvy0SWEAaoMxAGvNJwHw/VUD2q5m+IUV1QNaHoUB61pVArekrwERGVD/1RcZAMSfRvx/5qD8So7fAygOLQNGyAEDgkTrA/7XDv/QUFEBWzafADszGQDJ/wUCjwYM/+3yAP3oKZr1DX2JAkJ7lvoeOj0DYs7Y/8IIMQOEt8L8uDKZA82OOQPNpFkAN4IvAxu5EwEEls0DXD7BAsTEjwFNlksA534FAtVSlvZdwvz8rJ9i/uCavPuSZHMD04vk/kqVmvzjQ/b/g+ZpASIK1QDLyzL+bPwC/H3PeP500f0C8Ex9AxKPMP5PfQUDQKtk/xiDkwBgB574T75PAh0M7vSe7CT7/xYPAQsmdvnR9TD9KFQ2/6bbnQCm1FcC338/AGNg/v4j4ecDaHAvAn/mLwJZFW0Dru12/4t4SQF3/LUARy+3A50jyv7hq1sCgM+nApcT/PpABP7+kyIm/AxgSv8s0g8CyQLe/uKQWQJrXJ0BFHGdA3moFQIRSMj4bggXA6jvFwLciOL/RLqy/QBe5P4aHqMDOZp+/njW/wGYq2L/SknrAA/dvQBQ3WMB90uo+36g+wNCueMDESwPBcVoWv/Ygpr9CxJXAM6iywO8x88AR0H3AdUm2wCegDcCKABPA7LhzwLdfmj4WVfLAY68/QKk/McD/T8K/wTW+vfZMfj9kHEvAXGb1v7jBCkDWdSDAPdGLwMpUQz+iE1S/sbaavz9qlsB4PmdAs7KRwJ+7SsDIcDq/ScwFQAQ1acAhcrrAykHAvekcNL8bTrDAhTyewDkfrcC7cbLApYb3v1YMPUCgB4K93EshwC6fVcDsAq7AGJYLwU6hjcAwCrfAfUFLwOOvrcDq2eW/xMTxwAU3vsDXCaK/YqTLwB3p8MBSggY/UXp5wGuHl8BWsMnAi671wEiezsBK9I3ACtpnwLexjUBBbg3ADBXZwFCKfT+XV0zAXQajwNTYSMBIemDADWHKwPick8AF9JrADE2cwKgNkr/sIx/AtNqJwHJemcAoZOi/JgNmQOMOHsCdL7rAQKMBwVbqs7+EBkPA8j+YwEXl+b8+4oA/Ef0+wKaCkr4HpunAQJa+wEss+MBPwJC+2hUmv0Dndr850ovAfKK7v7CFaL/s+k/A",
          "dtype": "f4"
         },
         "xaxis": "x",
         "y": {
          "bdata": "GQ5xQLEOPEAm2eE/czSNQBkbKEBV3JA/XLeuPydsG0BWirpA6JOcP89ctkBhiFdABK6DQGV1BUCpR1ZA2xWHQDiHP0A6nXu+/S4wQDehhUA896lAQ6STQK7CmkDfuLQ/yGuWQM65sT6elMhA3wNTQApI40DSEbJAuy1OQPyvDL5vKZlApJdYwD5MBUDp2dBArjcTQFTORz/z2WNAj+WrQHtamkCr4QdAtq/jv3D2REBqkihAroWnQAOvp0CpZ0JAOZIfv8rcAMDYIC1A1XkPQJFHHz2g+C5A7iyjQGLCJL/2I5tAQwCpQEeK0z+WxndAM1eIQKvBRUB8Y+c/z1vuPxF/s0DPU3w+7OB+QNBPmL9nXv898k+qP/hQaMD3A0NAgQHYQFRWKr8JG1BAdFv4PxzmGUCdmsa/NgaNQDRBzT9x2qZACgf1vwUA3D/WodhAmKg0wPEcmr4KVbFAJOXmQHxmLb4S41bAacb9wF7zQEDz/I0+zHt9QFxhh7/3gndA0KJPQGnjmj88bxs/bWu3wPlC20CpVYZAg4adQDlB9b8KddK/NfChwOVlPD8uABnAEgrpvvzzWMClZixAgbKHQGfLZEBlloc/Xm7qv3G2Sb5lwEM+SiVhQJEesT6TXpW/fzacwIion8A8kY5AN16bwMUjkECULzs/QvCXPaDbjcD1hQJAsPhSwCDiuD9y1WJApJ7bPrE51T8EvbjAUa/AP6kqwL0rgK8+GJvUP33/TkDYaZHAhRV7vz5vlcB3H8+/hUZqv55rpr8hOIXAl5AZQP+nmED1BL8/nvArwBmTncDyCqfA8MWMv1k+Xr+Rx+I+XFjlvxG8nkCl45i/XM7pv5bS1b9G/5u/3iO4wBC8478CHeBAHpxowJEYxz+7N5vAK18VwKCk8b+InpbABlU2vg6xTMBidLXA/gW7vpw0esD0Nge/dSNlwO/PvsBSV5i/K3C7wFqK8j/lQCw/qpmCwMyxoECC1YTA3Y98vU17ub9ZFnjAcfr2v3VGFsCNQaC+ikt+P4vxsD9/1+bA74ZvwFRQEkDFo7C/ilRkPgOOp78IUCtANnZOPvn+BD+k0/i/OO0QQOBU8j/Ys73AxK56v2ykZMCg5qs+RdMMwEZim8D4BRFA4lXrP+zUy79pnjfAythPwMTzxj4i9hzASEXUwJSb1MAk+w/A9sqhv/xcXb9WFIjAwnK7P9B+Z8AvucfAjZ5hQN2IIcBFv1rAcvp5QIEWkcDur/2/+o8ewJIaVr+IiKrA6+0twEnGdUDx21u/rpmewOGDWT/jSgE+VUxjwGIcqcCGa8zAExs8QB24673qNgJABhdiwDl1XMC/C+rAL2Pbvm2qKT+1kZ7AH0pIwO/0TcCzVYbAwNNovfBYmD8N+XC/x7K5PmJfPsAUDN4/tnQAQPCXbsB/FYY+T5+RwOqM38BQ1g1A700YQFoflsABOOPA5+uoPjQg7MDR3GzAGwofwIK5X7/6OEjA1bgYwLeFd7/ghUg/4E/rv2JBL8CUXtvAYKZwPnqwOcClpvG/GOVZP7RpLcC9MQfAvv8vwOWaC8ApNGZAETFyPpeJjcBWQ8LAl1DuwFvLvMAxyVTA",
          "dtype": "f4"
         },
         "yaxis": "y"
        }
       ],
       "layout": {
        "height": 700,
        "legend": {
         "tracegroupgap": 0
        },
        "template": {
         "data": {
          "bar": [
           {
            "error_x": {
             "color": "#2a3f5f"
            },
            "error_y": {
             "color": "#2a3f5f"
            },
            "marker": {
             "line": {
              "color": "#E5ECF6",
              "width": 0.5
             },
             "pattern": {
              "fillmode": "overlay",
              "size": 10,
              "solidity": 0.2
             }
            },
            "type": "bar"
           }
          ],
          "barpolar": [
           {
            "marker": {
             "line": {
              "color": "#E5ECF6",
              "width": 0.5
             },
             "pattern": {
              "fillmode": "overlay",
              "size": 10,
              "solidity": 0.2
             }
            },
            "type": "barpolar"
           }
          ],
          "carpet": [
           {
            "aaxis": {
             "endlinecolor": "#2a3f5f",
             "gridcolor": "white",
             "linecolor": "white",
             "minorgridcolor": "white",
             "startlinecolor": "#2a3f5f"
            },
            "baxis": {
             "endlinecolor": "#2a3f5f",
             "gridcolor": "white",
             "linecolor": "white",
             "minorgridcolor": "white",
             "startlinecolor": "#2a3f5f"
            },
            "type": "carpet"
           }
          ],
          "choropleth": [
           {
            "colorbar": {
             "outlinewidth": 0,
             "ticks": ""
            },
            "type": "choropleth"
           }
          ],
          "contour": [
           {
            "colorbar": {
             "outlinewidth": 0,
             "ticks": ""
            },
            "colorscale": [
             [
              0,
              "#0d0887"
             ],
             [
              0.1111111111111111,
              "#46039f"
             ],
             [
              0.2222222222222222,
              "#7201a8"
             ],
             [
              0.3333333333333333,
              "#9c179e"
             ],
             [
              0.4444444444444444,
              "#bd3786"
             ],
             [
              0.5555555555555556,
              "#d8576b"
             ],
             [
              0.6666666666666666,
              "#ed7953"
             ],
             [
              0.7777777777777778,
              "#fb9f3a"
             ],
             [
              0.8888888888888888,
              "#fdca26"
             ],
             [
              1,
              "#f0f921"
             ]
            ],
            "type": "contour"
           }
          ],
          "contourcarpet": [
           {
            "colorbar": {
             "outlinewidth": 0,
             "ticks": ""
            },
            "type": "contourcarpet"
           }
          ],
          "heatmap": [
           {
            "colorbar": {
             "outlinewidth": 0,
             "ticks": ""
            },
            "colorscale": [
             [
              0,
              "#0d0887"
             ],
             [
              0.1111111111111111,
              "#46039f"
             ],
             [
              0.2222222222222222,
              "#7201a8"
             ],
             [
              0.3333333333333333,
              "#9c179e"
             ],
             [
              0.4444444444444444,
              "#bd3786"
             ],
             [
              0.5555555555555556,
              "#d8576b"
             ],
             [
              0.6666666666666666,
              "#ed7953"
             ],
             [
              0.7777777777777778,
              "#fb9f3a"
             ],
             [
              0.8888888888888888,
              "#fdca26"
             ],
             [
              1,
              "#f0f921"
             ]
            ],
            "type": "heatmap"
           }
          ],
          "histogram": [
           {
            "marker": {
             "pattern": {
              "fillmode": "overlay",
              "size": 10,
              "solidity": 0.2
             }
            },
            "type": "histogram"
           }
          ],
          "histogram2d": [
           {
            "colorbar": {
             "outlinewidth": 0,
             "ticks": ""
            },
            "colorscale": [
             [
              0,
              "#0d0887"
             ],
             [
              0.1111111111111111,
              "#46039f"
             ],
             [
              0.2222222222222222,
              "#7201a8"
             ],
             [
              0.3333333333333333,
              "#9c179e"
             ],
             [
              0.4444444444444444,
              "#bd3786"
             ],
             [
              0.5555555555555556,
              "#d8576b"
             ],
             [
              0.6666666666666666,
              "#ed7953"
             ],
             [
              0.7777777777777778,
              "#fb9f3a"
             ],
             [
              0.8888888888888888,
              "#fdca26"
             ],
             [
              1,
              "#f0f921"
             ]
            ],
            "type": "histogram2d"
           }
          ],
          "histogram2dcontour": [
           {
            "colorbar": {
             "outlinewidth": 0,
             "ticks": ""
            },
            "colorscale": [
             [
              0,
              "#0d0887"
             ],
             [
              0.1111111111111111,
              "#46039f"
             ],
             [
              0.2222222222222222,
              "#7201a8"
             ],
             [
              0.3333333333333333,
              "#9c179e"
             ],
             [
              0.4444444444444444,
              "#bd3786"
             ],
             [
              0.5555555555555556,
              "#d8576b"
             ],
             [
              0.6666666666666666,
              "#ed7953"
             ],
             [
              0.7777777777777778,
              "#fb9f3a"
             ],
             [
              0.8888888888888888,
              "#fdca26"
             ],
             [
              1,
              "#f0f921"
             ]
            ],
            "type": "histogram2dcontour"
           }
          ],
          "mesh3d": [
           {
            "colorbar": {
             "outlinewidth": 0,
             "ticks": ""
            },
            "type": "mesh3d"
           }
          ],
          "parcoords": [
           {
            "line": {
             "colorbar": {
              "outlinewidth": 0,
              "ticks": ""
             }
            },
            "type": "parcoords"
           }
          ],
          "pie": [
           {
            "automargin": true,
            "type": "pie"
           }
          ],
          "scatter": [
           {
            "fillpattern": {
             "fillmode": "overlay",
             "size": 10,
             "solidity": 0.2
            },
            "type": "scatter"
           }
          ],
          "scatter3d": [
           {
            "line": {
             "colorbar": {
              "outlinewidth": 0,
              "ticks": ""
             }
            },
            "marker": {
             "colorbar": {
              "outlinewidth": 0,
              "ticks": ""
             }
            },
            "type": "scatter3d"
           }
          ],
          "scattercarpet": [
           {
            "marker": {
             "colorbar": {
              "outlinewidth": 0,
              "ticks": ""
             }
            },
            "type": "scattercarpet"
           }
          ],
          "scattergeo": [
           {
            "marker": {
             "colorbar": {
              "outlinewidth": 0,
              "ticks": ""
             }
            },
            "type": "scattergeo"
           }
          ],
          "scattergl": [
           {
            "marker": {
             "colorbar": {
              "outlinewidth": 0,
              "ticks": ""
             }
            },
            "type": "scattergl"
           }
          ],
          "scattermap": [
           {
            "marker": {
             "colorbar": {
              "outlinewidth": 0,
              "ticks": ""
             }
            },
            "type": "scattermap"
           }
          ],
          "scattermapbox": [
           {
            "marker": {
             "colorbar": {
              "outlinewidth": 0,
              "ticks": ""
             }
            },
            "type": "scattermapbox"
           }
          ],
          "scatterpolar": [
           {
            "marker": {
             "colorbar": {
              "outlinewidth": 0,
              "ticks": ""
             }
            },
            "type": "scatterpolar"
           }
          ],
          "scatterpolargl": [
           {
            "marker": {
             "colorbar": {
              "outlinewidth": 0,
              "ticks": ""
             }
            },
            "type": "scatterpolargl"
           }
          ],
          "scatterternary": [
           {
            "marker": {
             "colorbar": {
              "outlinewidth": 0,
              "ticks": ""
             }
            },
            "type": "scatterternary"
           }
          ],
          "surface": [
           {
            "colorbar": {
             "outlinewidth": 0,
             "ticks": ""
            },
            "colorscale": [
             [
              0,
              "#0d0887"
             ],
             [
              0.1111111111111111,
              "#46039f"
             ],
             [
              0.2222222222222222,
              "#7201a8"
             ],
             [
              0.3333333333333333,
              "#9c179e"
             ],
             [
              0.4444444444444444,
              "#bd3786"
             ],
             [
              0.5555555555555556,
              "#d8576b"
             ],
             [
              0.6666666666666666,
              "#ed7953"
             ],
             [
              0.7777777777777778,
              "#fb9f3a"
             ],
             [
              0.8888888888888888,
              "#fdca26"
             ],
             [
              1,
              "#f0f921"
             ]
            ],
            "type": "surface"
           }
          ],
          "table": [
           {
            "cells": {
             "fill": {
              "color": "#EBF0F8"
             },
             "line": {
              "color": "white"
             }
            },
            "header": {
             "fill": {
              "color": "#C8D4E3"
             },
             "line": {
              "color": "white"
             }
            },
            "type": "table"
           }
          ]
         },
         "layout": {
          "annotationdefaults": {
           "arrowcolor": "#2a3f5f",
           "arrowhead": 0,
           "arrowwidth": 1
          },
          "autotypenumbers": "strict",
          "coloraxis": {
           "colorbar": {
            "outlinewidth": 0,
            "ticks": ""
           }
          },
          "colorscale": {
           "diverging": [
            [
             0,
             "#8e0152"
            ],
            [
             0.1,
             "#c51b7d"
            ],
            [
             0.2,
             "#de77ae"
            ],
            [
             0.3,
             "#f1b6da"
            ],
            [
             0.4,
             "#fde0ef"
            ],
            [
             0.5,
             "#f7f7f7"
            ],
            [
             0.6,
             "#e6f5d0"
            ],
            [
             0.7,
             "#b8e186"
            ],
            [
             0.8,
             "#7fbc41"
            ],
            [
             0.9,
             "#4d9221"
            ],
            [
             1,
             "#276419"
            ]
           ],
           "sequential": [
            [
             0,
             "#0d0887"
            ],
            [
             0.1111111111111111,
             "#46039f"
            ],
            [
             0.2222222222222222,
             "#7201a8"
            ],
            [
             0.3333333333333333,
             "#9c179e"
            ],
            [
             0.4444444444444444,
             "#bd3786"
            ],
            [
             0.5555555555555556,
             "#d8576b"
            ],
            [
             0.6666666666666666,
             "#ed7953"
            ],
            [
             0.7777777777777778,
             "#fb9f3a"
            ],
            [
             0.8888888888888888,
             "#fdca26"
            ],
            [
             1,
             "#f0f921"
            ]
           ],
           "sequentialminus": [
            [
             0,
             "#0d0887"
            ],
            [
             0.1111111111111111,
             "#46039f"
            ],
            [
             0.2222222222222222,
             "#7201a8"
            ],
            [
             0.3333333333333333,
             "#9c179e"
            ],
            [
             0.4444444444444444,
             "#bd3786"
            ],
            [
             0.5555555555555556,
             "#d8576b"
            ],
            [
             0.6666666666666666,
             "#ed7953"
            ],
            [
             0.7777777777777778,
             "#fb9f3a"
            ],
            [
             0.8888888888888888,
             "#fdca26"
            ],
            [
             1,
             "#f0f921"
            ]
           ]
          },
          "colorway": [
           "#636efa",
           "#EF553B",
           "#00cc96",
           "#ab63fa",
           "#FFA15A",
           "#19d3f3",
           "#FF6692",
           "#B6E880",
           "#FF97FF",
           "#FECB52"
          ],
          "font": {
           "color": "#2a3f5f"
          },
          "geo": {
           "bgcolor": "white",
           "lakecolor": "white",
           "landcolor": "#E5ECF6",
           "showlakes": true,
           "showland": true,
           "subunitcolor": "white"
          },
          "hoverlabel": {
           "align": "left"
          },
          "hovermode": "closest",
          "mapbox": {
           "style": "light"
          },
          "paper_bgcolor": "white",
          "plot_bgcolor": "#E5ECF6",
          "polar": {
           "angularaxis": {
            "gridcolor": "white",
            "linecolor": "white",
            "ticks": ""
           },
           "bgcolor": "#E5ECF6",
           "radialaxis": {
            "gridcolor": "white",
            "linecolor": "white",
            "ticks": ""
           }
          },
          "scene": {
           "xaxis": {
            "backgroundcolor": "#E5ECF6",
            "gridcolor": "white",
            "gridwidth": 2,
            "linecolor": "white",
            "showbackground": true,
            "ticks": "",
            "zerolinecolor": "white"
           },
           "yaxis": {
            "backgroundcolor": "#E5ECF6",
            "gridcolor": "white",
            "gridwidth": 2,
            "linecolor": "white",
            "showbackground": true,
            "ticks": "",
            "zerolinecolor": "white"
           },
           "zaxis": {
            "backgroundcolor": "#E5ECF6",
            "gridcolor": "white",
            "gridwidth": 2,
            "linecolor": "white",
            "showbackground": true,
            "ticks": "",
            "zerolinecolor": "white"
           }
          },
          "shapedefaults": {
           "line": {
            "color": "#2a3f5f"
           }
          },
          "ternary": {
           "aaxis": {
            "gridcolor": "white",
            "linecolor": "white",
            "ticks": ""
           },
           "baxis": {
            "gridcolor": "white",
            "linecolor": "white",
            "ticks": ""
           },
           "bgcolor": "#E5ECF6",
           "caxis": {
            "gridcolor": "white",
            "linecolor": "white",
            "ticks": ""
           }
          },
          "title": {
           "x": 0.05
          },
          "xaxis": {
           "automargin": true,
           "gridcolor": "white",
           "linecolor": "white",
           "ticks": "",
           "title": {
            "standoff": 15
           },
           "zerolinecolor": "white",
           "zerolinewidth": 2
          },
          "yaxis": {
           "automargin": true,
           "gridcolor": "white",
           "linecolor": "white",
           "ticks": "",
           "title": {
            "standoff": 15
           },
           "zerolinecolor": "white",
           "zerolinewidth": 2
          }
         }
        },
        "title": {
         "text": "Visualisation interactive des embeddings (t-SNE)"
        },
        "width": 1000,
        "xaxis": {
         "anchor": "y",
         "domain": [
          0,
          1
         ],
         "title": {
          "text": "x"
         }
        },
        "yaxis": {
         "anchor": "x",
         "domain": [
          0,
          1
         ],
         "title": {
          "text": "y"
         }
        }
       }
      }
     },
     "metadata": {},
     "output_type": "display_data"
    }
   ],
   "source": [
    "from sklearn.manifold import TSNE\n",
    "import plotly.express as px\n",
    "import pandas as pd\n",
    "\n",
    "# 1. Sélection des mots (ex : les 300 plus fréquents)\n",
    "mots = list(model.wv.index_to_key[:300])\n",
    "vecteurs = model.wv[mots]\n",
    "\n",
    "# 2. Réduction de dimension avec t-SNE\n",
    "tsne = TSNE(n_components=2, random_state=42, perplexity=40, n_iter=1000)\n",
    "vecteurs_2D = tsne.fit_transform(vecteurs)\n",
    "\n",
    "# 3. Mise en DataFrame pour Plotly\n",
    "df_tsne = pd.DataFrame({\n",
    "    \"mot\": mots,\n",
    "    \"x\": vecteurs_2D[:, 0],\n",
    "    \"y\": vecteurs_2D[:, 1]\n",
    "})\n",
    "\n",
    "# 4. Affichage interactif\n",
    "fig = px.scatter(df_tsne, x=\"x\", y=\"y\", hover_name=\"mot\", title=\"Visualisation interactive des embeddings (t-SNE)\")\n",
    "fig.update_traces(marker=dict(size=6, color=\"blue\"), textposition='top center')\n",
    "fig.update_layout(width=1000, height=700)\n",
    "fig.show()\n"
   ]
  },
  {
   "cell_type": "code",
   "execution_count": 54,
   "id": "a340d8e5",
   "metadata": {},
   "outputs": [],
   "source": [
    "from utils import *"
   ]
  },
  {
   "cell_type": "code",
   "execution_count": 52,
   "id": "2fa23ef6",
   "metadata": {},
   "outputs": [
    {
     "ename": "NameError",
     "evalue": "name 'vectoriser_token' is not defined",
     "output_type": "error",
     "traceback": [
      "\u001b[1;31m---------------------------------------------------------------------------\u001b[0m",
      "\u001b[1;31mNameError\u001b[0m                                 Traceback (most recent call last)",
      "Cell \u001b[1;32mIn[52], line 1\u001b[0m\n\u001b[1;32m----> 1\u001b[0m df[\u001b[38;5;124m'\u001b[39m\u001b[38;5;124mtokens_vec\u001b[39m\u001b[38;5;124m'\u001b[39m] \u001b[38;5;241m=\u001b[39m \u001b[43mdf\u001b[49m\u001b[43m[\u001b[49m\u001b[38;5;124;43m'\u001b[39;49m\u001b[38;5;124;43mtokens\u001b[39;49m\u001b[38;5;124;43m'\u001b[39;49m\u001b[43m]\u001b[49m\u001b[38;5;241;43m.\u001b[39;49m\u001b[43mapply\u001b[49m\u001b[43m(\u001b[49m\u001b[43mvectoriser_token\u001b[49m\u001b[43m \u001b[49m\u001b[38;5;28;43;01mfor\u001b[39;49;00m\u001b[43m \u001b[49m\u001b[43mtoken\u001b[49m\u001b[43m \u001b[49m\u001b[38;5;129;43;01min\u001b[39;49;00m\u001b[43m \u001b[49m\u001b[43mdf\u001b[49m\u001b[43m[\u001b[49m\u001b[38;5;124;43m'\u001b[39;49m\u001b[38;5;124;43mtokens\u001b[39;49m\u001b[38;5;124;43m'\u001b[39;49m\u001b[43m]\u001b[49m\u001b[43m)\u001b[49m\n",
      "File \u001b[1;32mc:\\Users\\LENOVO PC\\AppData\\Local\\Programs\\Python\\Python312\\Lib\\site-packages\\pandas\\core\\series.py:4924\u001b[0m, in \u001b[0;36mSeries.apply\u001b[1;34m(self, func, convert_dtype, args, by_row, **kwargs)\u001b[0m\n\u001b[0;32m   4789\u001b[0m \u001b[38;5;28;01mdef\u001b[39;00m \u001b[38;5;21mapply\u001b[39m(\n\u001b[0;32m   4790\u001b[0m     \u001b[38;5;28mself\u001b[39m,\n\u001b[0;32m   4791\u001b[0m     func: AggFuncType,\n\u001b[1;32m   (...)\u001b[0m\n\u001b[0;32m   4796\u001b[0m     \u001b[38;5;241m*\u001b[39m\u001b[38;5;241m*\u001b[39mkwargs,\n\u001b[0;32m   4797\u001b[0m ) \u001b[38;5;241m-\u001b[39m\u001b[38;5;241m>\u001b[39m DataFrame \u001b[38;5;241m|\u001b[39m Series:\n\u001b[0;32m   4798\u001b[0m \u001b[38;5;250m    \u001b[39m\u001b[38;5;124;03m\"\"\"\u001b[39;00m\n\u001b[0;32m   4799\u001b[0m \u001b[38;5;124;03m    Invoke function on values of Series.\u001b[39;00m\n\u001b[0;32m   4800\u001b[0m \n\u001b[1;32m   (...)\u001b[0m\n\u001b[0;32m   4915\u001b[0m \u001b[38;5;124;03m    dtype: float64\u001b[39;00m\n\u001b[0;32m   4916\u001b[0m \u001b[38;5;124;03m    \"\"\"\u001b[39;00m\n\u001b[0;32m   4917\u001b[0m     \u001b[38;5;28;01mreturn\u001b[39;00m \u001b[43mSeriesApply\u001b[49m\u001b[43m(\u001b[49m\n\u001b[0;32m   4918\u001b[0m \u001b[43m        \u001b[49m\u001b[38;5;28;43mself\u001b[39;49m\u001b[43m,\u001b[49m\n\u001b[0;32m   4919\u001b[0m \u001b[43m        \u001b[49m\u001b[43mfunc\u001b[49m\u001b[43m,\u001b[49m\n\u001b[0;32m   4920\u001b[0m \u001b[43m        \u001b[49m\u001b[43mconvert_dtype\u001b[49m\u001b[38;5;241;43m=\u001b[39;49m\u001b[43mconvert_dtype\u001b[49m\u001b[43m,\u001b[49m\n\u001b[0;32m   4921\u001b[0m \u001b[43m        \u001b[49m\u001b[43mby_row\u001b[49m\u001b[38;5;241;43m=\u001b[39;49m\u001b[43mby_row\u001b[49m\u001b[43m,\u001b[49m\n\u001b[0;32m   4922\u001b[0m \u001b[43m        \u001b[49m\u001b[43margs\u001b[49m\u001b[38;5;241;43m=\u001b[39;49m\u001b[43margs\u001b[49m\u001b[43m,\u001b[49m\n\u001b[0;32m   4923\u001b[0m \u001b[43m        \u001b[49m\u001b[43mkwargs\u001b[49m\u001b[38;5;241;43m=\u001b[39;49m\u001b[43mkwargs\u001b[49m\u001b[43m,\u001b[49m\n\u001b[1;32m-> 4924\u001b[0m \u001b[43m    \u001b[49m\u001b[43m)\u001b[49m\u001b[38;5;241;43m.\u001b[39;49m\u001b[43mapply\u001b[49m\u001b[43m(\u001b[49m\u001b[43m)\u001b[49m\n",
      "File \u001b[1;32mc:\\Users\\LENOVO PC\\AppData\\Local\\Programs\\Python\\Python312\\Lib\\site-packages\\pandas\\core\\apply.py:1417\u001b[0m, in \u001b[0;36mSeriesApply.apply\u001b[1;34m(self)\u001b[0m\n\u001b[0;32m   1415\u001b[0m \u001b[38;5;66;03m# dispatch to handle list-like or dict-like\u001b[39;00m\n\u001b[0;32m   1416\u001b[0m \u001b[38;5;28;01mif\u001b[39;00m is_list_like(\u001b[38;5;28mself\u001b[39m\u001b[38;5;241m.\u001b[39mfunc):\n\u001b[1;32m-> 1417\u001b[0m     \u001b[38;5;28;01mreturn\u001b[39;00m \u001b[38;5;28;43mself\u001b[39;49m\u001b[38;5;241;43m.\u001b[39;49m\u001b[43mapply_list_or_dict_like\u001b[49m\u001b[43m(\u001b[49m\u001b[43m)\u001b[49m\n\u001b[0;32m   1419\u001b[0m \u001b[38;5;28;01mif\u001b[39;00m \u001b[38;5;28misinstance\u001b[39m(\u001b[38;5;28mself\u001b[39m\u001b[38;5;241m.\u001b[39mfunc, \u001b[38;5;28mstr\u001b[39m):\n\u001b[0;32m   1420\u001b[0m     \u001b[38;5;66;03m# if we are a string, try to dispatch\u001b[39;00m\n\u001b[0;32m   1421\u001b[0m     \u001b[38;5;28;01mreturn\u001b[39;00m \u001b[38;5;28mself\u001b[39m\u001b[38;5;241m.\u001b[39mapply_str()\n",
      "File \u001b[1;32mc:\\Users\\LENOVO PC\\AppData\\Local\\Programs\\Python\\Python312\\Lib\\site-packages\\pandas\\core\\apply.py:630\u001b[0m, in \u001b[0;36mApply.apply_list_or_dict_like\u001b[1;34m(self)\u001b[0m\n\u001b[0;32m    628\u001b[0m     result \u001b[38;5;241m=\u001b[39m \u001b[38;5;28mself\u001b[39m\u001b[38;5;241m.\u001b[39magg_or_apply_dict_like(op_name\u001b[38;5;241m=\u001b[39m\u001b[38;5;124m\"\u001b[39m\u001b[38;5;124mapply\u001b[39m\u001b[38;5;124m\"\u001b[39m)\n\u001b[0;32m    629\u001b[0m \u001b[38;5;28;01melse\u001b[39;00m:\n\u001b[1;32m--> 630\u001b[0m     result \u001b[38;5;241m=\u001b[39m \u001b[38;5;28;43mself\u001b[39;49m\u001b[38;5;241;43m.\u001b[39;49m\u001b[43magg_or_apply_list_like\u001b[49m\u001b[43m(\u001b[49m\u001b[43mop_name\u001b[49m\u001b[38;5;241;43m=\u001b[39;49m\u001b[38;5;124;43m\"\u001b[39;49m\u001b[38;5;124;43mapply\u001b[39;49m\u001b[38;5;124;43m\"\u001b[39;49m\u001b[43m)\u001b[49m\n\u001b[0;32m    632\u001b[0m result \u001b[38;5;241m=\u001b[39m reconstruct_and_relabel_result(result, func, \u001b[38;5;241m*\u001b[39m\u001b[38;5;241m*\u001b[39mkwargs)\n\u001b[0;32m    634\u001b[0m \u001b[38;5;28;01mreturn\u001b[39;00m result\n",
      "File \u001b[1;32mc:\\Users\\LENOVO PC\\AppData\\Local\\Programs\\Python\\Python312\\Lib\\site-packages\\pandas\\core\\apply.py:744\u001b[0m, in \u001b[0;36mNDFrameApply.agg_or_apply_list_like\u001b[1;34m(self, op_name)\u001b[0m\n\u001b[0;32m    741\u001b[0m \u001b[38;5;28;01mif\u001b[39;00m \u001b[38;5;28mgetattr\u001b[39m(obj, \u001b[38;5;124m\"\u001b[39m\u001b[38;5;124maxis\u001b[39m\u001b[38;5;124m\"\u001b[39m, \u001b[38;5;241m0\u001b[39m) \u001b[38;5;241m==\u001b[39m \u001b[38;5;241m1\u001b[39m:\n\u001b[0;32m    742\u001b[0m     \u001b[38;5;28;01mraise\u001b[39;00m \u001b[38;5;167;01mNotImplementedError\u001b[39;00m(\u001b[38;5;124m\"\u001b[39m\u001b[38;5;124maxis other than 0 is not supported\u001b[39m\u001b[38;5;124m\"\u001b[39m)\n\u001b[1;32m--> 744\u001b[0m keys, results \u001b[38;5;241m=\u001b[39m \u001b[38;5;28;43mself\u001b[39;49m\u001b[38;5;241;43m.\u001b[39;49m\u001b[43mcompute_list_like\u001b[49m\u001b[43m(\u001b[49m\u001b[43mop_name\u001b[49m\u001b[43m,\u001b[49m\u001b[43m \u001b[49m\u001b[43mobj\u001b[49m\u001b[43m,\u001b[49m\u001b[43m \u001b[49m\u001b[43mkwargs\u001b[49m\u001b[43m)\u001b[49m\n\u001b[0;32m    745\u001b[0m result \u001b[38;5;241m=\u001b[39m \u001b[38;5;28mself\u001b[39m\u001b[38;5;241m.\u001b[39mwrap_results_list_like(keys, results)\n\u001b[0;32m    746\u001b[0m \u001b[38;5;28;01mreturn\u001b[39;00m result\n",
      "File \u001b[1;32mc:\\Users\\LENOVO PC\\AppData\\Local\\Programs\\Python\\Python312\\Lib\\site-packages\\pandas\\core\\apply.py:362\u001b[0m, in \u001b[0;36mApply.compute_list_like\u001b[1;34m(self, op_name, selected_obj, kwargs)\u001b[0m\n\u001b[0;32m    360\u001b[0m \u001b[38;5;66;03m# degenerate case\u001b[39;00m\n\u001b[0;32m    361\u001b[0m \u001b[38;5;28;01mif\u001b[39;00m selected_obj\u001b[38;5;241m.\u001b[39mndim \u001b[38;5;241m==\u001b[39m \u001b[38;5;241m1\u001b[39m:\n\u001b[1;32m--> 362\u001b[0m \u001b[43m    \u001b[49m\u001b[38;5;28;43;01mfor\u001b[39;49;00m\u001b[43m \u001b[49m\u001b[43ma\u001b[49m\u001b[43m \u001b[49m\u001b[38;5;129;43;01min\u001b[39;49;00m\u001b[43m \u001b[49m\u001b[43mfunc\u001b[49m\u001b[43m:\u001b[49m\n\u001b[0;32m    363\u001b[0m \u001b[43m        \u001b[49m\u001b[43mcolg\u001b[49m\u001b[43m \u001b[49m\u001b[38;5;241;43m=\u001b[39;49m\u001b[43m \u001b[49m\u001b[43mobj\u001b[49m\u001b[38;5;241;43m.\u001b[39;49m\u001b[43m_gotitem\u001b[49m\u001b[43m(\u001b[49m\u001b[43mselected_obj\u001b[49m\u001b[38;5;241;43m.\u001b[39;49m\u001b[43mname\u001b[49m\u001b[43m,\u001b[49m\u001b[43m \u001b[49m\u001b[43mndim\u001b[49m\u001b[38;5;241;43m=\u001b[39;49m\u001b[38;5;241;43m1\u001b[39;49m\u001b[43m,\u001b[49m\u001b[43m \u001b[49m\u001b[43msubset\u001b[49m\u001b[38;5;241;43m=\u001b[39;49m\u001b[43mselected_obj\u001b[49m\u001b[43m)\u001b[49m\n\u001b[0;32m    364\u001b[0m \u001b[43m        \u001b[49m\u001b[43margs\u001b[49m\u001b[43m \u001b[49m\u001b[38;5;241;43m=\u001b[39;49m\u001b[43m \u001b[49m\u001b[43m(\u001b[49m\n\u001b[0;32m    365\u001b[0m \u001b[43m            \u001b[49m\u001b[43m[\u001b[49m\u001b[38;5;28;43mself\u001b[39;49m\u001b[38;5;241;43m.\u001b[39;49m\u001b[43maxis\u001b[49m\u001b[43m,\u001b[49m\u001b[43m \u001b[49m\u001b[38;5;241;43m*\u001b[39;49m\u001b[38;5;28;43mself\u001b[39;49m\u001b[38;5;241;43m.\u001b[39;49m\u001b[43margs\u001b[49m\u001b[43m]\u001b[49m\n\u001b[0;32m    366\u001b[0m \u001b[43m            \u001b[49m\u001b[38;5;28;43;01mif\u001b[39;49;00m\u001b[43m \u001b[49m\u001b[43minclude_axis\u001b[49m\u001b[43m(\u001b[49m\u001b[43mop_name\u001b[49m\u001b[43m,\u001b[49m\u001b[43m \u001b[49m\u001b[43mcolg\u001b[49m\u001b[43m)\u001b[49m\n\u001b[0;32m    367\u001b[0m \u001b[43m            \u001b[49m\u001b[38;5;28;43;01melse\u001b[39;49;00m\u001b[43m \u001b[49m\u001b[38;5;28;43mself\u001b[39;49m\u001b[38;5;241;43m.\u001b[39;49m\u001b[43margs\u001b[49m\n\u001b[0;32m    368\u001b[0m \u001b[43m        \u001b[49m\u001b[43m)\u001b[49m\n",
      "Cell \u001b[1;32mIn[52], line 1\u001b[0m, in \u001b[0;36m<genexpr>\u001b[1;34m(.0)\u001b[0m\n\u001b[1;32m----> 1\u001b[0m df[\u001b[38;5;124m'\u001b[39m\u001b[38;5;124mtokens_vec\u001b[39m\u001b[38;5;124m'\u001b[39m] \u001b[38;5;241m=\u001b[39m df[\u001b[38;5;124m'\u001b[39m\u001b[38;5;124mtokens\u001b[39m\u001b[38;5;124m'\u001b[39m]\u001b[38;5;241m.\u001b[39mapply(\u001b[43mvectoriser_token\u001b[49m \u001b[38;5;28;01mfor\u001b[39;00m token \u001b[38;5;129;01min\u001b[39;00m df[\u001b[38;5;124m'\u001b[39m\u001b[38;5;124mtokens\u001b[39m\u001b[38;5;124m'\u001b[39m])\n",
      "\u001b[1;31mNameError\u001b[0m: name 'vectoriser_token' is not defined"
     ]
    }
   ],
   "source": [
    "df['tokens_vec'] = df['tokens'].apply(vectoriser_token for token in df['tokens'])"
   ]
  },
  {
   "cell_type": "code",
   "execution_count": null,
   "id": "f67cd514",
   "metadata": {},
   "outputs": [],
   "source": [
    "def vectoriser_document(tokens):\n",
    "    vectors = [model.wv[token] for token in tokens if token in model.wv]\n",
    "    if vectors:\n",
    "        return np.mean(vectors, axis=0)\n",
    "    else:\n",
    "        return np.zeros(model.vector_size)\n",
    "\n",
    "df['doc_vector'] = df['tokens'].apply(vectoriser_document)\n"
   ]
  },
  {
   "cell_type": "code",
   "execution_count": null,
   "id": "f075513c",
   "metadata": {},
   "outputs": [],
   "source": [
    "X = np.vstack(df['doc_vector'].values)\n"
   ]
  },
  {
   "cell_type": "code",
   "execution_count": null,
   "id": "5f88d301",
   "metadata": {},
   "outputs": [],
   "source": [
    "from sklearn.cluster import KMeans\n",
    "\n",
    "k = 5  # Tu peux choisir un autre nombre de thèmes\n",
    "kmeans = KMeans(n_clusters=k, random_state=42)\n",
    "df['cluster'] = kmeans.fit_predict(X)\n"
   ]
  },
  {
   "cell_type": "code",
   "execution_count": null,
   "id": "ee36cdd4",
   "metadata": {},
   "outputs": [
    {
     "data": {
      "text/plain": [
       "0    2\n",
       "1    2\n",
       "2    4\n",
       "3    2\n",
       "4    2\n",
       "Name: cluster, dtype: int32"
      ]
     },
     "execution_count": 61,
     "metadata": {},
     "output_type": "execute_result"
    }
   ],
   "source": [
    "df['cluster'].head()"
   ]
  },
  {
   "cell_type": "code",
   "execution_count": null,
   "id": "332bfbef",
   "metadata": {},
   "outputs": [
    {
     "data": {
      "text/plain": [
       "0    [0.13157366, 0.34469557, 0.13288483, -0.073321...\n",
       "1    [0.08895146, 0.30452967, 0.11526252, -0.026070...\n",
       "2    [0.101060815, 0.20552742, 0.0662844, -0.019126...\n",
       "3    [0.13776451, 0.3082678, 0.12905231, -0.0542853...\n",
       "4    [0.12018397, 0.27787185, 0.10312212, -0.042792...\n",
       "Name: doc_vector, dtype: object"
      ]
     },
     "execution_count": 58,
     "metadata": {},
     "output_type": "execute_result"
    }
   ],
   "source": [
    "df['doc_vector'].head()"
   ]
  },
  {
   "cell_type": "code",
   "execution_count": null,
   "id": "5fb2127d",
   "metadata": {},
   "outputs": [],
   "source": []
  },
  {
   "cell_type": "code",
   "execution_count": null,
   "id": "dc1622ba",
   "metadata": {},
   "outputs": [
    {
     "data": {
      "image/png": "[encoded data removed]",
      "text/plain": [
       "<Figure size 800x600 with 1 Axes>"
      ]
     },
     "metadata": {},
     "output_type": "display_data"
    }
   ],
   "source": []
  }
 ],
 "metadata": {
  "kernelspec": {
   "display_name": "Python 3",
   "language": "python",
   "name": "python3"
  },
  "language_info": {
   "codemirror_mode": {
    "name": "ipython",
    "version": 3
   },
   "file_extension": ".py",
   "mimetype": "text/x-python",
   "name": "python",
   "nbconvert_exporter": "python",
   "pygments_lexer": "ipython3",
   "version": "3.12.4"
  }
 },
 "nbformat": 4,
 "nbformat_minor": 5
}
