{
 "cells": [
  {
   "cell_type": "code",
   "execution_count": 1,
   "id": "b612f33e",
   "metadata": {},
   "outputs": [],
   "source": [
    "import json\n",
    "import spacy\n",
    "import pandas as pd\n",
    "import numpy as np\n",
    "\n",
    "\n",
    "from sklearn.cluster import KMeans\n",
    "from sklearn.decomposition import PCA\n",
    "import matplotlib.pyplot as plt"
   ]
  },
  {
   "cell_type": "code",
   "execution_count": null,
   "id": "e57c4917",
   "metadata": {},
   "outputs": [],
   "source": []
  },
  {
   "cell_type": "markdown",
   "id": "9a0fb0b3",
   "metadata": {},
   "source": [
    "# IMPORTATION ET PREPROCESSING DE LA BASE DE DONNEES"
   ]
  },
  {
   "cell_type": "code",
   "execution_count": 2,
   "id": "55077f68",
   "metadata": {},
   "outputs": [],
   "source": [
    "# 1) Charger un fichier JSON (lecture)\n",
    "data = pd.read_json(\"../data/ensai_2025_req_favoriser_sport.json\", encoding=\"utf‑8\")"
   ]
  },
  {
   "cell_type": "code",
   "execution_count": 3,
   "id": "966d595b",
   "metadata": {},
   "outputs": [
    {
     "data": {
      "text/html": [
       "<div>\n",
       "<style scoped>\n",
       "    .dataframe tbody tr th:only-of-type {\n",
       "        vertical-align: middle;\n",
       "    }\n",
       "\n",
       "    .dataframe tbody tr th {\n",
       "        vertical-align: top;\n",
       "    }\n",
       "\n",
       "    .dataframe thead th {\n",
       "        text-align: right;\n",
       "    }\n",
       "</style>\n",
       "<table border=\"1\" class=\"dataframe\">\n",
       "  <thead>\n",
       "    <tr style=\"text-align: right;\">\n",
       "      <th></th>\n",
       "      <th>total</th>\n",
       "      <th>results</th>\n",
       "      <th>seed</th>\n",
       "    </tr>\n",
       "  </thead>\n",
       "  <tbody>\n",
       "    <tr>\n",
       "      <th>0</th>\n",
       "      <td>1540</td>\n",
       "      <td>{'id': '82d5eb8f-f953-4e16-9015-9b775ff5f292',...</td>\n",
       "      <td>NaN</td>\n",
       "    </tr>\n",
       "    <tr>\n",
       "      <th>1</th>\n",
       "      <td>1540</td>\n",
       "      <td>{'id': '59ff8102-587a-425e-9976-c4d5d6a268fe',...</td>\n",
       "      <td>NaN</td>\n",
       "    </tr>\n",
       "    <tr>\n",
       "      <th>2</th>\n",
       "      <td>1540</td>\n",
       "      <td>{'id': '66b19692-f947-44c9-9126-33863021098e',...</td>\n",
       "      <td>NaN</td>\n",
       "    </tr>\n",
       "    <tr>\n",
       "      <th>3</th>\n",
       "      <td>1540</td>\n",
       "      <td>{'id': '97c4c337-15d4-4c6e-a108-aefcedeb1666',...</td>\n",
       "      <td>NaN</td>\n",
       "    </tr>\n",
       "    <tr>\n",
       "      <th>4</th>\n",
       "      <td>1540</td>\n",
       "      <td>{'id': '9f71ce59-200c-450a-8987-399eee4fb1dd',...</td>\n",
       "      <td>NaN</td>\n",
       "    </tr>\n",
       "  </tbody>\n",
       "</table>\n",
       "</div>"
      ],
      "text/plain": [
       "   total                                            results  seed\n",
       "0   1540  {'id': '82d5eb8f-f953-4e16-9015-9b775ff5f292',...   NaN\n",
       "1   1540  {'id': '59ff8102-587a-425e-9976-c4d5d6a268fe',...   NaN\n",
       "2   1540  {'id': '66b19692-f947-44c9-9126-33863021098e',...   NaN\n",
       "3   1540  {'id': '97c4c337-15d4-4c6e-a108-aefcedeb1666',...   NaN\n",
       "4   1540  {'id': '9f71ce59-200c-450a-8987-399eee4fb1dd',...   NaN"
      ]
     },
     "execution_count": 3,
     "metadata": {},
     "output_type": "execute_result"
    }
   ],
   "source": [
    "data.head()"
   ]
  },
  {
   "cell_type": "code",
   "execution_count": 4,
   "id": "a19cf82a",
   "metadata": {},
   "outputs": [
    {
     "data": {
      "text/html": [
       "<div>\n",
       "<style scoped>\n",
       "    .dataframe tbody tr th:only-of-type {\n",
       "        vertical-align: middle;\n",
       "    }\n",
       "\n",
       "    .dataframe tbody tr th {\n",
       "        vertical-align: top;\n",
       "    }\n",
       "\n",
       "    .dataframe thead th {\n",
       "        text-align: right;\n",
       "    }\n",
       "</style>\n",
       "<table border=\"1\" class=\"dataframe\">\n",
       "  <thead>\n",
       "    <tr style=\"text-align: right;\">\n",
       "      <th></th>\n",
       "      <th>total</th>\n",
       "      <th>seed</th>\n",
       "    </tr>\n",
       "  </thead>\n",
       "  <tbody>\n",
       "    <tr>\n",
       "      <th>count</th>\n",
       "      <td>1540.0</td>\n",
       "      <td>0.0</td>\n",
       "    </tr>\n",
       "    <tr>\n",
       "      <th>mean</th>\n",
       "      <td>1540.0</td>\n",
       "      <td>NaN</td>\n",
       "    </tr>\n",
       "    <tr>\n",
       "      <th>std</th>\n",
       "      <td>0.0</td>\n",
       "      <td>NaN</td>\n",
       "    </tr>\n",
       "    <tr>\n",
       "      <th>min</th>\n",
       "      <td>1540.0</td>\n",
       "      <td>NaN</td>\n",
       "    </tr>\n",
       "    <tr>\n",
       "      <th>25%</th>\n",
       "      <td>1540.0</td>\n",
       "      <td>NaN</td>\n",
       "    </tr>\n",
       "    <tr>\n",
       "      <th>50%</th>\n",
       "      <td>1540.0</td>\n",
       "      <td>NaN</td>\n",
       "    </tr>\n",
       "    <tr>\n",
       "      <th>75%</th>\n",
       "      <td>1540.0</td>\n",
       "      <td>NaN</td>\n",
       "    </tr>\n",
       "    <tr>\n",
       "      <th>max</th>\n",
       "      <td>1540.0</td>\n",
       "      <td>NaN</td>\n",
       "    </tr>\n",
       "  </tbody>\n",
       "</table>\n",
       "</div>"
      ],
      "text/plain": [
       "        total  seed\n",
       "count  1540.0   0.0\n",
       "mean   1540.0   NaN\n",
       "std       0.0   NaN\n",
       "min    1540.0   NaN\n",
       "25%    1540.0   NaN\n",
       "50%    1540.0   NaN\n",
       "75%    1540.0   NaN\n",
       "max    1540.0   NaN"
      ]
     },
     "execution_count": 4,
     "metadata": {},
     "output_type": "execute_result"
    }
   ],
   "source": [
    "data.describe()"
   ]
  },
  {
   "cell_type": "code",
   "execution_count": 5,
   "id": "45869abb",
   "metadata": {},
   "outputs": [
    {
     "name": "stdout",
     "output_type": "stream",
     "text": [
      "Index(['total', 'results', 'seed'], dtype='object')\n"
     ]
    }
   ],
   "source": [
    "print(data.columns)"
   ]
  },
  {
   "cell_type": "code",
   "execution_count": 6,
   "id": "40cfe195",
   "metadata": {},
   "outputs": [],
   "source": [
    "dic = data.iloc[1,1]"
   ]
  },
  {
   "cell_type": "code",
   "execution_count": 7,
   "id": "5b6c26a1",
   "metadata": {},
   "outputs": [
    {
     "data": {
      "text/plain": [
       "dict_keys(['id', 'content', 'contentLanguage', 'translatedContent', 'translatedLanguage', 'slug', 'status', 'createdAt', 'updatedAt', 'votes', 'context', 'author', 'organisations', 'tags', 'selectedStakeTag', 'myProposal', 'idea', 'question', 'operationId', 'proposalKey', 'keywords'])"
      ]
     },
     "execution_count": 7,
     "metadata": {},
     "output_type": "execute_result"
    }
   ],
   "source": [
    "dic.keys()"
   ]
  },
  {
   "cell_type": "code",
   "execution_count": 8,
   "id": "8419afde",
   "metadata": {},
   "outputs": [],
   "source": [
    "df = data[\"results\"].apply(pd.Series)"
   ]
  },
  {
   "cell_type": "code",
   "execution_count": 9,
   "id": "16f6d13e",
   "metadata": {},
   "outputs": [
    {
     "data": {
      "text/html": [
       "<div>\n",
       "<style scoped>\n",
       "    .dataframe tbody tr th:only-of-type {\n",
       "        vertical-align: middle;\n",
       "    }\n",
       "\n",
       "    .dataframe tbody tr th {\n",
       "        vertical-align: top;\n",
       "    }\n",
       "\n",
       "    .dataframe thead th {\n",
       "        text-align: right;\n",
       "    }\n",
       "</style>\n",
       "<table border=\"1\" class=\"dataframe\">\n",
       "  <thead>\n",
       "    <tr style=\"text-align: right;\">\n",
       "      <th></th>\n",
       "      <th>id</th>\n",
       "      <th>content</th>\n",
       "      <th>contentLanguage</th>\n",
       "      <th>translatedContent</th>\n",
       "      <th>translatedLanguage</th>\n",
       "      <th>slug</th>\n",
       "      <th>status</th>\n",
       "      <th>createdAt</th>\n",
       "      <th>updatedAt</th>\n",
       "      <th>votes</th>\n",
       "      <th>...</th>\n",
       "      <th>author</th>\n",
       "      <th>organisations</th>\n",
       "      <th>tags</th>\n",
       "      <th>selectedStakeTag</th>\n",
       "      <th>myProposal</th>\n",
       "      <th>idea</th>\n",
       "      <th>question</th>\n",
       "      <th>operationId</th>\n",
       "      <th>proposalKey</th>\n",
       "      <th>keywords</th>\n",
       "    </tr>\n",
       "  </thead>\n",
       "  <tbody>\n",
       "    <tr>\n",
       "      <th>0</th>\n",
       "      <td>82d5eb8f-f953-4e16-9015-9b775ff5f292</td>\n",
       "      <td>Il faut inciter les Français à s'équiper de mo...</td>\n",
       "      <td>fr</td>\n",
       "      <td>None</td>\n",
       "      <td>None</td>\n",
       "      <td>il-faut-inciter-les-francais-a-s-equiper-de-mo...</td>\n",
       "      <td>Accepted</td>\n",
       "      <td>2024-04-01T07:07:29.747Z</td>\n",
       "      <td>2024-04-04T13:48:06.671Z</td>\n",
       "      <td>[{'voteKey': 'agree', 'count': 0, 'score': 0.0...</td>\n",
       "      <td>...</td>\n",
       "      <td>{'userId': '4fad3035-1a13-4ed5-b81a-e1f400e7c6...</td>\n",
       "      <td>[]</td>\n",
       "      <td>[]</td>\n",
       "      <td>None</td>\n",
       "      <td>False</td>\n",
       "      <td>None</td>\n",
       "      <td>{'questionId': '9ccd072f-80e3-45dc-88cb-7b2428...</td>\n",
       "      <td>31297186-cb6d-4b0f-8bf5-0966afad5c97</td>\n",
       "      <td>7c09df8394050ca9d4d51299848e4d415e262904b64d5a...</td>\n",
       "      <td>[]</td>\n",
       "    </tr>\n",
       "    <tr>\n",
       "      <th>1</th>\n",
       "      <td>59ff8102-587a-425e-9976-c4d5d6a268fe</td>\n",
       "      <td>Il faut demander aux sportifs de haut niveau d...</td>\n",
       "      <td>fr</td>\n",
       "      <td>None</td>\n",
       "      <td>None</td>\n",
       "      <td>il-faut-demander-aux-sportifs-de-haut-niveau-d...</td>\n",
       "      <td>Accepted</td>\n",
       "      <td>2024-03-25T17:30:50.114Z</td>\n",
       "      <td>2024-03-27T11:55:43.793Z</td>\n",
       "      <td>[{'voteKey': 'agree', 'count': 39, 'score': 0....</td>\n",
       "      <td>...</td>\n",
       "      <td>{'userId': 'e1606f3c-5d45-4a0e-b2da-7455125ca2...</td>\n",
       "      <td>[]</td>\n",
       "      <td>[]</td>\n",
       "      <td>None</td>\n",
       "      <td>False</td>\n",
       "      <td>None</td>\n",
       "      <td>{'questionId': '9ccd072f-80e3-45dc-88cb-7b2428...</td>\n",
       "      <td>31297186-cb6d-4b0f-8bf5-0966afad5c97</td>\n",
       "      <td>55346575f9c9043695e8a51987848cc5ed0ba6e769af81...</td>\n",
       "      <td>[]</td>\n",
       "    </tr>\n",
       "    <tr>\n",
       "      <th>2</th>\n",
       "      <td>66b19692-f947-44c9-9126-33863021098e</td>\n",
       "      <td>Il faut piétonniser des rues ou routes ou boul...</td>\n",
       "      <td>fr</td>\n",
       "      <td>None</td>\n",
       "      <td>None</td>\n",
       "      <td>il-faut-pietonniser-des-rues-ou-routes-ou-boul...</td>\n",
       "      <td>Accepted</td>\n",
       "      <td>2024-03-24T10:05:38.434Z</td>\n",
       "      <td>2024-03-27T11:49:34.740Z</td>\n",
       "      <td>[{'voteKey': 'agree', 'count': 47, 'score': 0....</td>\n",
       "      <td>...</td>\n",
       "      <td>{'userId': 'b3589dd5-a215-481a-983c-0e4dff1e07...</td>\n",
       "      <td>[]</td>\n",
       "      <td>[]</td>\n",
       "      <td>None</td>\n",
       "      <td>False</td>\n",
       "      <td>None</td>\n",
       "      <td>{'questionId': '9ccd072f-80e3-45dc-88cb-7b2428...</td>\n",
       "      <td>31297186-cb6d-4b0f-8bf5-0966afad5c97</td>\n",
       "      <td>74af4270834811e803846bc54b259696397d2c6834211e...</td>\n",
       "      <td>[]</td>\n",
       "    </tr>\n",
       "    <tr>\n",
       "      <th>3</th>\n",
       "      <td>97c4c337-15d4-4c6e-a108-aefcedeb1666</td>\n",
       "      <td>Il faut organiser des compétitions inter-entre...</td>\n",
       "      <td>fr</td>\n",
       "      <td>None</td>\n",
       "      <td>None</td>\n",
       "      <td>il-faut-organiser-des-competitions-inter-entre...</td>\n",
       "      <td>Accepted</td>\n",
       "      <td>2024-01-29T10:13:07.672Z</td>\n",
       "      <td>2024-04-09T09:18:23.844Z</td>\n",
       "      <td>[{'voteKey': 'agree', 'count': 210, 'score': 0...</td>\n",
       "      <td>...</td>\n",
       "      <td>{'userId': '22448ef2-cae9-42b5-9663-3bcd333fa2...</td>\n",
       "      <td>[]</td>\n",
       "      <td>[{'tagId': '61c27abb-cdbe-404d-96aa-5cbb7dbc7c...</td>\n",
       "      <td>{'tagId': 'd2398cb5-3271-4e40-b28c-fcefbf08c5d...</td>\n",
       "      <td>False</td>\n",
       "      <td>None</td>\n",
       "      <td>{'questionId': '9ccd072f-80e3-45dc-88cb-7b2428...</td>\n",
       "      <td>31297186-cb6d-4b0f-8bf5-0966afad5c97</td>\n",
       "      <td>60feedad89a1827a6b6084a881a24e192d0db95342eba5...</td>\n",
       "      <td>[]</td>\n",
       "    </tr>\n",
       "    <tr>\n",
       "      <th>4</th>\n",
       "      <td>9f71ce59-200c-450a-8987-399eee4fb1dd</td>\n",
       "      <td>Il faut éduquer dès le plus jeune âge les enfa...</td>\n",
       "      <td>fr</td>\n",
       "      <td>None</td>\n",
       "      <td>None</td>\n",
       "      <td>il-faut-eduquer-des-le-plus-jeune-age-les-enfa...</td>\n",
       "      <td>Accepted</td>\n",
       "      <td>2024-03-28T08:51:45.459Z</td>\n",
       "      <td>2024-03-29T15:25:37.970Z</td>\n",
       "      <td>[{'voteKey': 'agree', 'count': 69, 'score': 0....</td>\n",
       "      <td>...</td>\n",
       "      <td>{'userId': 'cbc394ac-1fe0-48e0-ac3f-8b463ed719...</td>\n",
       "      <td>[]</td>\n",
       "      <td>[]</td>\n",
       "      <td>None</td>\n",
       "      <td>False</td>\n",
       "      <td>None</td>\n",
       "      <td>{'questionId': '9ccd072f-80e3-45dc-88cb-7b2428...</td>\n",
       "      <td>31297186-cb6d-4b0f-8bf5-0966afad5c97</td>\n",
       "      <td>504c8ce83f1578631555421219a7067649a12dba3d3af2...</td>\n",
       "      <td>[]</td>\n",
       "    </tr>\n",
       "  </tbody>\n",
       "</table>\n",
       "<p>5 rows × 21 columns</p>\n",
       "</div>"
      ],
      "text/plain": [
       "                                     id  \\\n",
       "0  82d5eb8f-f953-4e16-9015-9b775ff5f292   \n",
       "1  59ff8102-587a-425e-9976-c4d5d6a268fe   \n",
       "2  66b19692-f947-44c9-9126-33863021098e   \n",
       "3  97c4c337-15d4-4c6e-a108-aefcedeb1666   \n",
       "4  9f71ce59-200c-450a-8987-399eee4fb1dd   \n",
       "\n",
       "                                             content contentLanguage  \\\n",
       "0  Il faut inciter les Français à s'équiper de mo...              fr   \n",
       "1  Il faut demander aux sportifs de haut niveau d...              fr   \n",
       "2  Il faut piétonniser des rues ou routes ou boul...              fr   \n",
       "3  Il faut organiser des compétitions inter-entre...              fr   \n",
       "4  Il faut éduquer dès le plus jeune âge les enfa...              fr   \n",
       "\n",
       "  translatedContent translatedLanguage  \\\n",
       "0              None               None   \n",
       "1              None               None   \n",
       "2              None               None   \n",
       "3              None               None   \n",
       "4              None               None   \n",
       "\n",
       "                                                slug    status  \\\n",
       "0  il-faut-inciter-les-francais-a-s-equiper-de-mo...  Accepted   \n",
       "1  il-faut-demander-aux-sportifs-de-haut-niveau-d...  Accepted   \n",
       "2  il-faut-pietonniser-des-rues-ou-routes-ou-boul...  Accepted   \n",
       "3  il-faut-organiser-des-competitions-inter-entre...  Accepted   \n",
       "4  il-faut-eduquer-des-le-plus-jeune-age-les-enfa...  Accepted   \n",
       "\n",
       "                  createdAt                 updatedAt  \\\n",
       "0  2024-04-01T07:07:29.747Z  2024-04-04T13:48:06.671Z   \n",
       "1  2024-03-25T17:30:50.114Z  2024-03-27T11:55:43.793Z   \n",
       "2  2024-03-24T10:05:38.434Z  2024-03-27T11:49:34.740Z   \n",
       "3  2024-01-29T10:13:07.672Z  2024-04-09T09:18:23.844Z   \n",
       "4  2024-03-28T08:51:45.459Z  2024-03-29T15:25:37.970Z   \n",
       "\n",
       "                                               votes  ...  \\\n",
       "0  [{'voteKey': 'agree', 'count': 0, 'score': 0.0...  ...   \n",
       "1  [{'voteKey': 'agree', 'count': 39, 'score': 0....  ...   \n",
       "2  [{'voteKey': 'agree', 'count': 47, 'score': 0....  ...   \n",
       "3  [{'voteKey': 'agree', 'count': 210, 'score': 0...  ...   \n",
       "4  [{'voteKey': 'agree', 'count': 69, 'score': 0....  ...   \n",
       "\n",
       "                                              author organisations  \\\n",
       "0  {'userId': '4fad3035-1a13-4ed5-b81a-e1f400e7c6...            []   \n",
       "1  {'userId': 'e1606f3c-5d45-4a0e-b2da-7455125ca2...            []   \n",
       "2  {'userId': 'b3589dd5-a215-481a-983c-0e4dff1e07...            []   \n",
       "3  {'userId': '22448ef2-cae9-42b5-9663-3bcd333fa2...            []   \n",
       "4  {'userId': 'cbc394ac-1fe0-48e0-ac3f-8b463ed719...            []   \n",
       "\n",
       "                                                tags  \\\n",
       "0                                                 []   \n",
       "1                                                 []   \n",
       "2                                                 []   \n",
       "3  [{'tagId': '61c27abb-cdbe-404d-96aa-5cbb7dbc7c...   \n",
       "4                                                 []   \n",
       "\n",
       "                                    selectedStakeTag myProposal  idea  \\\n",
       "0                                               None      False  None   \n",
       "1                                               None      False  None   \n",
       "2                                               None      False  None   \n",
       "3  {'tagId': 'd2398cb5-3271-4e40-b28c-fcefbf08c5d...      False  None   \n",
       "4                                               None      False  None   \n",
       "\n",
       "                                            question  \\\n",
       "0  {'questionId': '9ccd072f-80e3-45dc-88cb-7b2428...   \n",
       "1  {'questionId': '9ccd072f-80e3-45dc-88cb-7b2428...   \n",
       "2  {'questionId': '9ccd072f-80e3-45dc-88cb-7b2428...   \n",
       "3  {'questionId': '9ccd072f-80e3-45dc-88cb-7b2428...   \n",
       "4  {'questionId': '9ccd072f-80e3-45dc-88cb-7b2428...   \n",
       "\n",
       "                            operationId  \\\n",
       "0  31297186-cb6d-4b0f-8bf5-0966afad5c97   \n",
       "1  31297186-cb6d-4b0f-8bf5-0966afad5c97   \n",
       "2  31297186-cb6d-4b0f-8bf5-0966afad5c97   \n",
       "3  31297186-cb6d-4b0f-8bf5-0966afad5c97   \n",
       "4  31297186-cb6d-4b0f-8bf5-0966afad5c97   \n",
       "\n",
       "                                         proposalKey keywords  \n",
       "0  7c09df8394050ca9d4d51299848e4d415e262904b64d5a...       []  \n",
       "1  55346575f9c9043695e8a51987848cc5ed0ba6e769af81...       []  \n",
       "2  74af4270834811e803846bc54b259696397d2c6834211e...       []  \n",
       "3  60feedad89a1827a6b6084a881a24e192d0db95342eba5...       []  \n",
       "4  504c8ce83f1578631555421219a7067649a12dba3d3af2...       []  \n",
       "\n",
       "[5 rows x 21 columns]"
      ]
     },
     "execution_count": 9,
     "metadata": {},
     "output_type": "execute_result"
    }
   ],
   "source": [
    "df.head()"
   ]
  },
  {
   "cell_type": "code",
   "execution_count": 10,
   "id": "39a73b13",
   "metadata": {},
   "outputs": [
    {
     "data": {
      "text/plain": [
       "{'id': '59ff8102-587a-425e-9976-c4d5d6a268fe',\n",
       " 'content': \"Il faut demander aux sportifs de haut niveau d'expliquer au public en quoi l'exercice physique peut s'avérer essentiel dans la vie.\",\n",
       " 'contentLanguage': 'fr',\n",
       " 'translatedContent': None,\n",
       " 'translatedLanguage': None,\n",
       " 'slug': 'il-faut-demander-aux-sportifs-de-haut-niveau-d-expliquer-au-public-en-quoi-l-exercice-physique-peut-s-averer-essentiel-dans-la-vie',\n",
       " 'status': 'Accepted',\n",
       " 'createdAt': '2024-03-25T17:30:50.114Z',\n",
       " 'updatedAt': '2024-03-27T11:55:43.793Z',\n",
       " 'votes': [{'voteKey': 'agree',\n",
       "   'count': 39,\n",
       "   'score': 0.45,\n",
       "   'qualifications': [{'qualificationKey': 'likeIt',\n",
       "     'count': 6,\n",
       "     'hasQualified': False},\n",
       "    {'qualificationKey': 'platitudeAgree', 'count': 6, 'hasQualified': False},\n",
       "    {'qualificationKey': 'doable', 'count': 14, 'hasQualified': False}],\n",
       "   'hasVoted': False},\n",
       "  {'voteKey': 'neutral',\n",
       "   'count': 29,\n",
       "   'score': 0.34,\n",
       "   'qualifications': [{'qualificationKey': 'noOpinion',\n",
       "     'count': 14,\n",
       "     'hasQualified': False},\n",
       "    {'qualificationKey': 'doNotUnderstand', 'count': 0, 'hasQualified': False},\n",
       "    {'qualificationKey': 'doNotCare', 'count': 9, 'hasQualified': False}],\n",
       "   'hasVoted': False},\n",
       "  {'voteKey': 'disagree',\n",
       "   'count': 19,\n",
       "   'score': 0.21,\n",
       "   'qualifications': [{'qualificationKey': 'impossible',\n",
       "     'count': 2,\n",
       "     'hasQualified': False},\n",
       "    {'qualificationKey': 'noWay', 'count': 5, 'hasQualified': False},\n",
       "    {'qualificationKey': 'platitudeDisagree',\n",
       "     'count': 7,\n",
       "     'hasQualified': False}],\n",
       "   'hasVoted': False}],\n",
       " 'context': {'operation': None,\n",
       "  'source': 'core',\n",
       "  'location': 'sequence',\n",
       "  'questionSlug': 'pratiquedusport',\n",
       "  'country': 'FR',\n",
       "  'questionLanguage': 'fr',\n",
       "  'proposalLanguage': None,\n",
       "  'clientLanguage': 'fr',\n",
       "  'getParameters': []},\n",
       " 'author': {'userId': 'e1606f3c-5d45-4a0e-b2da-7455125ca204',\n",
       "  'firstName': 'Claude',\n",
       "  'displayName': 'Claude',\n",
       "  'organisationName': None,\n",
       "  'organisationSlug': None,\n",
       "  'postalCode': None,\n",
       "  'age': None,\n",
       "  'avatarUrl': 'https://assets.make.org/assets/avatars/2024/3/07d05ba2-ba21-441d-ba8b-0ef9e7dd7a38.jpeg',\n",
       "  'userType': 'USER'},\n",
       " 'organisations': [],\n",
       " 'tags': [],\n",
       " 'selectedStakeTag': None,\n",
       " 'myProposal': False,\n",
       " 'idea': None,\n",
       " 'question': {'questionId': '9ccd072f-80e3-45dc-88cb-7b2428e437be',\n",
       "  'slug': 'pratiquedusport',\n",
       "  'wording': {'title': 'Pratique du sport',\n",
       "   'question': 'Comment favoriser la pratique sportive de tous les Français en 2024 et après ?'},\n",
       "  'countries': ['FR'],\n",
       "  'preferredLanguage': None,\n",
       "  'returnedLanguage': 'fr',\n",
       "  'startDate': '2024-02-27T15:00:00.000Z',\n",
       "  'endDate': '2024-04-28T21:59:00.000Z'},\n",
       " 'operationId': '31297186-cb6d-4b0f-8bf5-0966afad5c97',\n",
       " 'proposalKey': '55346575f9c9043695e8a51987848cc5ed0ba6e769af81fa0c9472a331091c70742b6f4edc9447b74632a25714f3a0c44be3bed7864aa5ec7c5645c0f163bb44',\n",
       " 'keywords': []}"
      ]
     },
     "execution_count": 10,
     "metadata": {},
     "output_type": "execute_result"
    }
   ],
   "source": [
    "dic"
   ]
  },
  {
   "cell_type": "code",
   "execution_count": 11,
   "id": "ad0b18e6",
   "metadata": {},
   "outputs": [
    {
     "data": {
      "text/plain": [
       "keywords\n",
       "[]                                                                                                                                                                                   765\n",
       "[{'key': 'sport', 'label': 'Sport'}]                                                                                                                                                 507\n",
       "[{'key': 'activité', 'label': 'Activités'}]                                                                                                                                           96\n",
       "[{'key': 'activité physique', 'label': 'Activités physiques'}, {'key': 'activité', 'label': 'Activités'}]                                                                             75\n",
       "[{'key': 'sport', 'label': 'Sport'}, {'key': 'santé', 'label': 'Santé'}]                                                                                                              29\n",
       "[{'key': 'santé', 'label': 'Santé'}]                                                                                                                                                  25\n",
       "[{'key': 'sport', 'label': 'Sport'}, {'key': 'activité', 'label': 'Activités'}]                                                                                                       18\n",
       "[{'key': 'sport', 'label': 'Sport'}, {'key': 'activité physique', 'label': 'Activités physiques'}, {'key': 'activité', 'label': 'Activités'}]                                         12\n",
       "[{'key': 'santé', 'label': 'Santé'}, {'key': 'activité physique', 'label': 'Activités physiques'}, {'key': 'activité', 'label': 'Activités'}]                                          7\n",
       "[{'key': 'santé', 'label': 'Santé'}, {'key': 'activité', 'label': 'Activités'}]                                                                                                        4\n",
       "[{'key': 'sport', 'label': 'Sport'}, {'key': 'santé', 'label': 'Santé'}, {'key': 'activité', 'label': 'Activités'}]                                                                    1\n",
       "[{'key': 'sport', 'label': 'Sport'}, {'key': 'santé', 'label': 'Santé'}, {'key': 'activité physique', 'label': 'Activités physiques'}, {'key': 'activité', 'label': 'Activités'}]      1\n",
       "Name: count, dtype: int64"
      ]
     },
     "execution_count": 11,
     "metadata": {},
     "output_type": "execute_result"
    }
   ],
   "source": [
    "df[\"keywords\"].value_counts()"
   ]
  },
  {
   "cell_type": "code",
   "execution_count": 12,
   "id": "bb52b6df",
   "metadata": {},
   "outputs": [],
   "source": [
    "col = [\"id\", \"content\", \"slug\", \"createdAt\", \"updatedAt\", \"votes\", \"author\"]"
   ]
  },
  {
   "cell_type": "code",
   "execution_count": 13,
   "id": "cbea9a98",
   "metadata": {},
   "outputs": [],
   "source": [
    "df = df[col].copy()"
   ]
  },
  {
   "cell_type": "code",
   "execution_count": 14,
   "id": "2a4348b1",
   "metadata": {},
   "outputs": [
    {
     "data": {
      "text/html": [
       "<div>\n",
       "<style scoped>\n",
       "    .dataframe tbody tr th:only-of-type {\n",
       "        vertical-align: middle;\n",
       "    }\n",
       "\n",
       "    .dataframe tbody tr th {\n",
       "        vertical-align: top;\n",
       "    }\n",
       "\n",
       "    .dataframe thead th {\n",
       "        text-align: right;\n",
       "    }\n",
       "</style>\n",
       "<table border=\"1\" class=\"dataframe\">\n",
       "  <thead>\n",
       "    <tr style=\"text-align: right;\">\n",
       "      <th></th>\n",
       "      <th>id</th>\n",
       "      <th>content</th>\n",
       "      <th>slug</th>\n",
       "      <th>createdAt</th>\n",
       "      <th>updatedAt</th>\n",
       "      <th>votes</th>\n",
       "      <th>author</th>\n",
       "    </tr>\n",
       "  </thead>\n",
       "  <tbody>\n",
       "    <tr>\n",
       "      <th>0</th>\n",
       "      <td>82d5eb8f-f953-4e16-9015-9b775ff5f292</td>\n",
       "      <td>Il faut inciter les Français à s'équiper de mo...</td>\n",
       "      <td>il-faut-inciter-les-francais-a-s-equiper-de-mo...</td>\n",
       "      <td>2024-04-01T07:07:29.747Z</td>\n",
       "      <td>2024-04-04T13:48:06.671Z</td>\n",
       "      <td>[{'voteKey': 'agree', 'count': 0, 'score': 0.0...</td>\n",
       "      <td>{'userId': '4fad3035-1a13-4ed5-b81a-e1f400e7c6...</td>\n",
       "    </tr>\n",
       "    <tr>\n",
       "      <th>1</th>\n",
       "      <td>59ff8102-587a-425e-9976-c4d5d6a268fe</td>\n",
       "      <td>Il faut demander aux sportifs de haut niveau d...</td>\n",
       "      <td>il-faut-demander-aux-sportifs-de-haut-niveau-d...</td>\n",
       "      <td>2024-03-25T17:30:50.114Z</td>\n",
       "      <td>2024-03-27T11:55:43.793Z</td>\n",
       "      <td>[{'voteKey': 'agree', 'count': 39, 'score': 0....</td>\n",
       "      <td>{'userId': 'e1606f3c-5d45-4a0e-b2da-7455125ca2...</td>\n",
       "    </tr>\n",
       "    <tr>\n",
       "      <th>2</th>\n",
       "      <td>66b19692-f947-44c9-9126-33863021098e</td>\n",
       "      <td>Il faut piétonniser des rues ou routes ou boul...</td>\n",
       "      <td>il-faut-pietonniser-des-rues-ou-routes-ou-boul...</td>\n",
       "      <td>2024-03-24T10:05:38.434Z</td>\n",
       "      <td>2024-03-27T11:49:34.740Z</td>\n",
       "      <td>[{'voteKey': 'agree', 'count': 47, 'score': 0....</td>\n",
       "      <td>{'userId': 'b3589dd5-a215-481a-983c-0e4dff1e07...</td>\n",
       "    </tr>\n",
       "    <tr>\n",
       "      <th>3</th>\n",
       "      <td>97c4c337-15d4-4c6e-a108-aefcedeb1666</td>\n",
       "      <td>Il faut organiser des compétitions inter-entre...</td>\n",
       "      <td>il-faut-organiser-des-competitions-inter-entre...</td>\n",
       "      <td>2024-01-29T10:13:07.672Z</td>\n",
       "      <td>2024-04-09T09:18:23.844Z</td>\n",
       "      <td>[{'voteKey': 'agree', 'count': 210, 'score': 0...</td>\n",
       "      <td>{'userId': '22448ef2-cae9-42b5-9663-3bcd333fa2...</td>\n",
       "    </tr>\n",
       "    <tr>\n",
       "      <th>4</th>\n",
       "      <td>9f71ce59-200c-450a-8987-399eee4fb1dd</td>\n",
       "      <td>Il faut éduquer dès le plus jeune âge les enfa...</td>\n",
       "      <td>il-faut-eduquer-des-le-plus-jeune-age-les-enfa...</td>\n",
       "      <td>2024-03-28T08:51:45.459Z</td>\n",
       "      <td>2024-03-29T15:25:37.970Z</td>\n",
       "      <td>[{'voteKey': 'agree', 'count': 69, 'score': 0....</td>\n",
       "      <td>{'userId': 'cbc394ac-1fe0-48e0-ac3f-8b463ed719...</td>\n",
       "    </tr>\n",
       "  </tbody>\n",
       "</table>\n",
       "</div>"
      ],
      "text/plain": [
       "                                     id  \\\n",
       "0  82d5eb8f-f953-4e16-9015-9b775ff5f292   \n",
       "1  59ff8102-587a-425e-9976-c4d5d6a268fe   \n",
       "2  66b19692-f947-44c9-9126-33863021098e   \n",
       "3  97c4c337-15d4-4c6e-a108-aefcedeb1666   \n",
       "4  9f71ce59-200c-450a-8987-399eee4fb1dd   \n",
       "\n",
       "                                             content  \\\n",
       "0  Il faut inciter les Français à s'équiper de mo...   \n",
       "1  Il faut demander aux sportifs de haut niveau d...   \n",
       "2  Il faut piétonniser des rues ou routes ou boul...   \n",
       "3  Il faut organiser des compétitions inter-entre...   \n",
       "4  Il faut éduquer dès le plus jeune âge les enfa...   \n",
       "\n",
       "                                                slug  \\\n",
       "0  il-faut-inciter-les-francais-a-s-equiper-de-mo...   \n",
       "1  il-faut-demander-aux-sportifs-de-haut-niveau-d...   \n",
       "2  il-faut-pietonniser-des-rues-ou-routes-ou-boul...   \n",
       "3  il-faut-organiser-des-competitions-inter-entre...   \n",
       "4  il-faut-eduquer-des-le-plus-jeune-age-les-enfa...   \n",
       "\n",
       "                  createdAt                 updatedAt  \\\n",
       "0  2024-04-01T07:07:29.747Z  2024-04-04T13:48:06.671Z   \n",
       "1  2024-03-25T17:30:50.114Z  2024-03-27T11:55:43.793Z   \n",
       "2  2024-03-24T10:05:38.434Z  2024-03-27T11:49:34.740Z   \n",
       "3  2024-01-29T10:13:07.672Z  2024-04-09T09:18:23.844Z   \n",
       "4  2024-03-28T08:51:45.459Z  2024-03-29T15:25:37.970Z   \n",
       "\n",
       "                                               votes  \\\n",
       "0  [{'voteKey': 'agree', 'count': 0, 'score': 0.0...   \n",
       "1  [{'voteKey': 'agree', 'count': 39, 'score': 0....   \n",
       "2  [{'voteKey': 'agree', 'count': 47, 'score': 0....   \n",
       "3  [{'voteKey': 'agree', 'count': 210, 'score': 0...   \n",
       "4  [{'voteKey': 'agree', 'count': 69, 'score': 0....   \n",
       "\n",
       "                                              author  \n",
       "0  {'userId': '4fad3035-1a13-4ed5-b81a-e1f400e7c6...  \n",
       "1  {'userId': 'e1606f3c-5d45-4a0e-b2da-7455125ca2...  \n",
       "2  {'userId': 'b3589dd5-a215-481a-983c-0e4dff1e07...  \n",
       "3  {'userId': '22448ef2-cae9-42b5-9663-3bcd333fa2...  \n",
       "4  {'userId': 'cbc394ac-1fe0-48e0-ac3f-8b463ed719...  "
      ]
     },
     "execution_count": 14,
     "metadata": {},
     "output_type": "execute_result"
    }
   ],
   "source": [
    "df.head()"
   ]
  },
  {
   "cell_type": "code",
   "execution_count": 15,
   "id": "2ad77168",
   "metadata": {},
   "outputs": [],
   "source": [
    "def votes(raw) :\n",
    "    liste = []\n",
    "    for r in raw :\n",
    "        r_count = r[\"count\"]\n",
    "        qualif_r = [c[\"count\"] for c in r[\"qualifications\"]]\n",
    "        liste.append((r_count,(qualif_r)))\n",
    "    return liste\n",
    "\n",
    "    "
   ]
  },
  {
   "cell_type": "code",
   "execution_count": 16,
   "id": "737bdb12",
   "metadata": {},
   "outputs": [],
   "source": [
    "df[\"vote_ajusted\"]=df['votes'].apply(votes)"
   ]
  },
  {
   "cell_type": "code",
   "execution_count": 17,
   "id": "60821a35",
   "metadata": {},
   "outputs": [],
   "source": [
    "df[\"vote_agree\"] = df[\"vote_ajusted\"].str[0]\n",
    "df[\"vote_neutral\"] = df[\"vote_ajusted\"].str[1]\n",
    "df[\"vote_disagree\"] = df[\"vote_ajusted\"].str[2]"
   ]
  },
  {
   "cell_type": "code",
   "execution_count": 18,
   "id": "9bcb1085",
   "metadata": {},
   "outputs": [
    {
     "data": {
      "text/html": [
       "<div>\n",
       "<style scoped>\n",
       "    .dataframe tbody tr th:only-of-type {\n",
       "        vertical-align: middle;\n",
       "    }\n",
       "\n",
       "    .dataframe tbody tr th {\n",
       "        vertical-align: top;\n",
       "    }\n",
       "\n",
       "    .dataframe thead th {\n",
       "        text-align: right;\n",
       "    }\n",
       "</style>\n",
       "<table border=\"1\" class=\"dataframe\">\n",
       "  <thead>\n",
       "    <tr style=\"text-align: right;\">\n",
       "      <th></th>\n",
       "      <th>id</th>\n",
       "      <th>content</th>\n",
       "      <th>slug</th>\n",
       "      <th>createdAt</th>\n",
       "      <th>updatedAt</th>\n",
       "      <th>votes</th>\n",
       "      <th>author</th>\n",
       "      <th>vote_ajusted</th>\n",
       "      <th>vote_agree</th>\n",
       "      <th>vote_neutral</th>\n",
       "      <th>vote_disagree</th>\n",
       "    </tr>\n",
       "  </thead>\n",
       "  <tbody>\n",
       "    <tr>\n",
       "      <th>0</th>\n",
       "      <td>82d5eb8f-f953-4e16-9015-9b775ff5f292</td>\n",
       "      <td>Il faut inciter les Français à s'équiper de mo...</td>\n",
       "      <td>il-faut-inciter-les-francais-a-s-equiper-de-mo...</td>\n",
       "      <td>2024-04-01T07:07:29.747Z</td>\n",
       "      <td>2024-04-04T13:48:06.671Z</td>\n",
       "      <td>[{'voteKey': 'agree', 'count': 0, 'score': 0.0...</td>\n",
       "      <td>{'userId': '4fad3035-1a13-4ed5-b81a-e1f400e7c6...</td>\n",
       "      <td>[(0, [0, 0, 0]), (6, [1, 0, 3]), (10, [1, 5, 3])]</td>\n",
       "      <td>(0, [0, 0, 0])</td>\n",
       "      <td>(6, [1, 0, 3])</td>\n",
       "      <td>(10, [1, 5, 3])</td>\n",
       "    </tr>\n",
       "    <tr>\n",
       "      <th>1</th>\n",
       "      <td>59ff8102-587a-425e-9976-c4d5d6a268fe</td>\n",
       "      <td>Il faut demander aux sportifs de haut niveau d...</td>\n",
       "      <td>il-faut-demander-aux-sportifs-de-haut-niveau-d...</td>\n",
       "      <td>2024-03-25T17:30:50.114Z</td>\n",
       "      <td>2024-03-27T11:55:43.793Z</td>\n",
       "      <td>[{'voteKey': 'agree', 'count': 39, 'score': 0....</td>\n",
       "      <td>{'userId': 'e1606f3c-5d45-4a0e-b2da-7455125ca2...</td>\n",
       "      <td>[(39, [6, 6, 14]), (29, [14, 0, 9]), (19, [2, ...</td>\n",
       "      <td>(39, [6, 6, 14])</td>\n",
       "      <td>(29, [14, 0, 9])</td>\n",
       "      <td>(19, [2, 5, 7])</td>\n",
       "    </tr>\n",
       "    <tr>\n",
       "      <th>2</th>\n",
       "      <td>66b19692-f947-44c9-9126-33863021098e</td>\n",
       "      <td>Il faut piétonniser des rues ou routes ou boul...</td>\n",
       "      <td>il-faut-pietonniser-des-rues-ou-routes-ou-boul...</td>\n",
       "      <td>2024-03-24T10:05:38.434Z</td>\n",
       "      <td>2024-03-27T11:49:34.740Z</td>\n",
       "      <td>[{'voteKey': 'agree', 'count': 47, 'score': 0....</td>\n",
       "      <td>{'userId': 'b3589dd5-a215-481a-983c-0e4dff1e07...</td>\n",
       "      <td>[(47, [13, 4, 16]), (18, [7, 2, 3]), (18, [2, ...</td>\n",
       "      <td>(47, [13, 4, 16])</td>\n",
       "      <td>(18, [7, 2, 3])</td>\n",
       "      <td>(18, [2, 8, 3])</td>\n",
       "    </tr>\n",
       "    <tr>\n",
       "      <th>3</th>\n",
       "      <td>97c4c337-15d4-4c6e-a108-aefcedeb1666</td>\n",
       "      <td>Il faut organiser des compétitions inter-entre...</td>\n",
       "      <td>il-faut-organiser-des-competitions-inter-entre...</td>\n",
       "      <td>2024-01-29T10:13:07.672Z</td>\n",
       "      <td>2024-04-09T09:18:23.844Z</td>\n",
       "      <td>[{'voteKey': 'agree', 'count': 210, 'score': 0...</td>\n",
       "      <td>{'userId': '22448ef2-cae9-42b5-9663-3bcd333fa2...</td>\n",
       "      <td>[(210, [38, 21, 60]), (155, [48, 4, 52]), (205...</td>\n",
       "      <td>(210, [38, 21, 60])</td>\n",
       "      <td>(155, [48, 4, 52])</td>\n",
       "      <td>(205, [41, 57, 62])</td>\n",
       "    </tr>\n",
       "    <tr>\n",
       "      <th>4</th>\n",
       "      <td>9f71ce59-200c-450a-8987-399eee4fb1dd</td>\n",
       "      <td>Il faut éduquer dès le plus jeune âge les enfa...</td>\n",
       "      <td>il-faut-eduquer-des-le-plus-jeune-age-les-enfa...</td>\n",
       "      <td>2024-03-28T08:51:45.459Z</td>\n",
       "      <td>2024-03-29T15:25:37.970Z</td>\n",
       "      <td>[{'voteKey': 'agree', 'count': 69, 'score': 0....</td>\n",
       "      <td>{'userId': 'cbc394ac-1fe0-48e0-ac3f-8b463ed719...</td>\n",
       "      <td>[(69, [14, 6, 24]), (13, [2, 6, 3]), (4, [0, 1...</td>\n",
       "      <td>(69, [14, 6, 24])</td>\n",
       "      <td>(13, [2, 6, 3])</td>\n",
       "      <td>(4, [0, 1, 3])</td>\n",
       "    </tr>\n",
       "  </tbody>\n",
       "</table>\n",
       "</div>"
      ],
      "text/plain": [
       "                                     id  \\\n",
       "0  82d5eb8f-f953-4e16-9015-9b775ff5f292   \n",
       "1  59ff8102-587a-425e-9976-c4d5d6a268fe   \n",
       "2  66b19692-f947-44c9-9126-33863021098e   \n",
       "3  97c4c337-15d4-4c6e-a108-aefcedeb1666   \n",
       "4  9f71ce59-200c-450a-8987-399eee4fb1dd   \n",
       "\n",
       "                                             content  \\\n",
       "0  Il faut inciter les Français à s'équiper de mo...   \n",
       "1  Il faut demander aux sportifs de haut niveau d...   \n",
       "2  Il faut piétonniser des rues ou routes ou boul...   \n",
       "3  Il faut organiser des compétitions inter-entre...   \n",
       "4  Il faut éduquer dès le plus jeune âge les enfa...   \n",
       "\n",
       "                                                slug  \\\n",
       "0  il-faut-inciter-les-francais-a-s-equiper-de-mo...   \n",
       "1  il-faut-demander-aux-sportifs-de-haut-niveau-d...   \n",
       "2  il-faut-pietonniser-des-rues-ou-routes-ou-boul...   \n",
       "3  il-faut-organiser-des-competitions-inter-entre...   \n",
       "4  il-faut-eduquer-des-le-plus-jeune-age-les-enfa...   \n",
       "\n",
       "                  createdAt                 updatedAt  \\\n",
       "0  2024-04-01T07:07:29.747Z  2024-04-04T13:48:06.671Z   \n",
       "1  2024-03-25T17:30:50.114Z  2024-03-27T11:55:43.793Z   \n",
       "2  2024-03-24T10:05:38.434Z  2024-03-27T11:49:34.740Z   \n",
       "3  2024-01-29T10:13:07.672Z  2024-04-09T09:18:23.844Z   \n",
       "4  2024-03-28T08:51:45.459Z  2024-03-29T15:25:37.970Z   \n",
       "\n",
       "                                               votes  \\\n",
       "0  [{'voteKey': 'agree', 'count': 0, 'score': 0.0...   \n",
       "1  [{'voteKey': 'agree', 'count': 39, 'score': 0....   \n",
       "2  [{'voteKey': 'agree', 'count': 47, 'score': 0....   \n",
       "3  [{'voteKey': 'agree', 'count': 210, 'score': 0...   \n",
       "4  [{'voteKey': 'agree', 'count': 69, 'score': 0....   \n",
       "\n",
       "                                              author  \\\n",
       "0  {'userId': '4fad3035-1a13-4ed5-b81a-e1f400e7c6...   \n",
       "1  {'userId': 'e1606f3c-5d45-4a0e-b2da-7455125ca2...   \n",
       "2  {'userId': 'b3589dd5-a215-481a-983c-0e4dff1e07...   \n",
       "3  {'userId': '22448ef2-cae9-42b5-9663-3bcd333fa2...   \n",
       "4  {'userId': 'cbc394ac-1fe0-48e0-ac3f-8b463ed719...   \n",
       "\n",
       "                                        vote_ajusted           vote_agree  \\\n",
       "0  [(0, [0, 0, 0]), (6, [1, 0, 3]), (10, [1, 5, 3])]       (0, [0, 0, 0])   \n",
       "1  [(39, [6, 6, 14]), (29, [14, 0, 9]), (19, [2, ...     (39, [6, 6, 14])   \n",
       "2  [(47, [13, 4, 16]), (18, [7, 2, 3]), (18, [2, ...    (47, [13, 4, 16])   \n",
       "3  [(210, [38, 21, 60]), (155, [48, 4, 52]), (205...  (210, [38, 21, 60])   \n",
       "4  [(69, [14, 6, 24]), (13, [2, 6, 3]), (4, [0, 1...    (69, [14, 6, 24])   \n",
       "\n",
       "         vote_neutral        vote_disagree  \n",
       "0      (6, [1, 0, 3])      (10, [1, 5, 3])  \n",
       "1    (29, [14, 0, 9])      (19, [2, 5, 7])  \n",
       "2     (18, [7, 2, 3])      (18, [2, 8, 3])  \n",
       "3  (155, [48, 4, 52])  (205, [41, 57, 62])  \n",
       "4     (13, [2, 6, 3])       (4, [0, 1, 3])  "
      ]
     },
     "execution_count": 18,
     "metadata": {},
     "output_type": "execute_result"
    }
   ],
   "source": [
    "df.head()"
   ]
  },
  {
   "cell_type": "code",
   "execution_count": 19,
   "id": "56fcfc24",
   "metadata": {},
   "outputs": [
    {
     "data": {
      "text/plain": [
       "[{'voteKey': 'agree',\n",
       "  'count': 39,\n",
       "  'score': 0.45,\n",
       "  'qualifications': [{'qualificationKey': 'likeIt',\n",
       "    'count': 6,\n",
       "    'hasQualified': False},\n",
       "   {'qualificationKey': 'platitudeAgree', 'count': 6, 'hasQualified': False},\n",
       "   {'qualificationKey': 'doable', 'count': 14, 'hasQualified': False}],\n",
       "  'hasVoted': False},\n",
       " {'voteKey': 'neutral',\n",
       "  'count': 29,\n",
       "  'score': 0.34,\n",
       "  'qualifications': [{'qualificationKey': 'noOpinion',\n",
       "    'count': 14,\n",
       "    'hasQualified': False},\n",
       "   {'qualificationKey': 'doNotUnderstand', 'count': 0, 'hasQualified': False},\n",
       "   {'qualificationKey': 'doNotCare', 'count': 9, 'hasQualified': False}],\n",
       "  'hasVoted': False},\n",
       " {'voteKey': 'disagree',\n",
       "  'count': 19,\n",
       "  'score': 0.21,\n",
       "  'qualifications': [{'qualificationKey': 'impossible',\n",
       "    'count': 2,\n",
       "    'hasQualified': False},\n",
       "   {'qualificationKey': 'noWay', 'count': 5, 'hasQualified': False},\n",
       "   {'qualificationKey': 'platitudeDisagree',\n",
       "    'count': 7,\n",
       "    'hasQualified': False}],\n",
       "  'hasVoted': False}]"
      ]
     },
     "execution_count": 19,
     "metadata": {},
     "output_type": "execute_result"
    }
   ],
   "source": [
    "dic['votes']\n"
   ]
  },
  {
   "cell_type": "code",
   "execution_count": null,
   "id": "c6344fd2",
   "metadata": {},
   "outputs": [],
   "source": []
  },
  {
   "cell_type": "code",
   "execution_count": 20,
   "id": "77c09607",
   "metadata": {},
   "outputs": [],
   "source": [
    "df = df.drop(columns=[\"votes\", \"vote_ajusted\"])"
   ]
  },
  {
   "cell_type": "code",
   "execution_count": 21,
   "id": "5c246bbc",
   "metadata": {},
   "outputs": [
    {
     "data": {
      "text/html": [
       "<div>\n",
       "<style scoped>\n",
       "    .dataframe tbody tr th:only-of-type {\n",
       "        vertical-align: middle;\n",
       "    }\n",
       "\n",
       "    .dataframe tbody tr th {\n",
       "        vertical-align: top;\n",
       "    }\n",
       "\n",
       "    .dataframe thead th {\n",
       "        text-align: right;\n",
       "    }\n",
       "</style>\n",
       "<table border=\"1\" class=\"dataframe\">\n",
       "  <thead>\n",
       "    <tr style=\"text-align: right;\">\n",
       "      <th></th>\n",
       "      <th>id</th>\n",
       "      <th>content</th>\n",
       "      <th>slug</th>\n",
       "      <th>createdAt</th>\n",
       "      <th>updatedAt</th>\n",
       "      <th>author</th>\n",
       "      <th>vote_agree</th>\n",
       "      <th>vote_neutral</th>\n",
       "      <th>vote_disagree</th>\n",
       "    </tr>\n",
       "  </thead>\n",
       "  <tbody>\n",
       "    <tr>\n",
       "      <th>0</th>\n",
       "      <td>82d5eb8f-f953-4e16-9015-9b775ff5f292</td>\n",
       "      <td>Il faut inciter les Français à s'équiper de mo...</td>\n",
       "      <td>il-faut-inciter-les-francais-a-s-equiper-de-mo...</td>\n",
       "      <td>2024-04-01T07:07:29.747Z</td>\n",
       "      <td>2024-04-04T13:48:06.671Z</td>\n",
       "      <td>{'userId': '4fad3035-1a13-4ed5-b81a-e1f400e7c6...</td>\n",
       "      <td>(0, [0, 0, 0])</td>\n",
       "      <td>(6, [1, 0, 3])</td>\n",
       "      <td>(10, [1, 5, 3])</td>\n",
       "    </tr>\n",
       "    <tr>\n",
       "      <th>1</th>\n",
       "      <td>59ff8102-587a-425e-9976-c4d5d6a268fe</td>\n",
       "      <td>Il faut demander aux sportifs de haut niveau d...</td>\n",
       "      <td>il-faut-demander-aux-sportifs-de-haut-niveau-d...</td>\n",
       "      <td>2024-03-25T17:30:50.114Z</td>\n",
       "      <td>2024-03-27T11:55:43.793Z</td>\n",
       "      <td>{'userId': 'e1606f3c-5d45-4a0e-b2da-7455125ca2...</td>\n",
       "      <td>(39, [6, 6, 14])</td>\n",
       "      <td>(29, [14, 0, 9])</td>\n",
       "      <td>(19, [2, 5, 7])</td>\n",
       "    </tr>\n",
       "    <tr>\n",
       "      <th>2</th>\n",
       "      <td>66b19692-f947-44c9-9126-33863021098e</td>\n",
       "      <td>Il faut piétonniser des rues ou routes ou boul...</td>\n",
       "      <td>il-faut-pietonniser-des-rues-ou-routes-ou-boul...</td>\n",
       "      <td>2024-03-24T10:05:38.434Z</td>\n",
       "      <td>2024-03-27T11:49:34.740Z</td>\n",
       "      <td>{'userId': 'b3589dd5-a215-481a-983c-0e4dff1e07...</td>\n",
       "      <td>(47, [13, 4, 16])</td>\n",
       "      <td>(18, [7, 2, 3])</td>\n",
       "      <td>(18, [2, 8, 3])</td>\n",
       "    </tr>\n",
       "    <tr>\n",
       "      <th>3</th>\n",
       "      <td>97c4c337-15d4-4c6e-a108-aefcedeb1666</td>\n",
       "      <td>Il faut organiser des compétitions inter-entre...</td>\n",
       "      <td>il-faut-organiser-des-competitions-inter-entre...</td>\n",
       "      <td>2024-01-29T10:13:07.672Z</td>\n",
       "      <td>2024-04-09T09:18:23.844Z</td>\n",
       "      <td>{'userId': '22448ef2-cae9-42b5-9663-3bcd333fa2...</td>\n",
       "      <td>(210, [38, 21, 60])</td>\n",
       "      <td>(155, [48, 4, 52])</td>\n",
       "      <td>(205, [41, 57, 62])</td>\n",
       "    </tr>\n",
       "    <tr>\n",
       "      <th>4</th>\n",
       "      <td>9f71ce59-200c-450a-8987-399eee4fb1dd</td>\n",
       "      <td>Il faut éduquer dès le plus jeune âge les enfa...</td>\n",
       "      <td>il-faut-eduquer-des-le-plus-jeune-age-les-enfa...</td>\n",
       "      <td>2024-03-28T08:51:45.459Z</td>\n",
       "      <td>2024-03-29T15:25:37.970Z</td>\n",
       "      <td>{'userId': 'cbc394ac-1fe0-48e0-ac3f-8b463ed719...</td>\n",
       "      <td>(69, [14, 6, 24])</td>\n",
       "      <td>(13, [2, 6, 3])</td>\n",
       "      <td>(4, [0, 1, 3])</td>\n",
       "    </tr>\n",
       "    <tr>\n",
       "      <th>...</th>\n",
       "      <td>...</td>\n",
       "      <td>...</td>\n",
       "      <td>...</td>\n",
       "      <td>...</td>\n",
       "      <td>...</td>\n",
       "      <td>...</td>\n",
       "      <td>...</td>\n",
       "      <td>...</td>\n",
       "      <td>...</td>\n",
       "    </tr>\n",
       "    <tr>\n",
       "      <th>1535</th>\n",
       "      <td>16251ada-5ac5-488f-84d9-8a3a4d74c74c</td>\n",
       "      <td>Il faut qu'il y ait plus d'offres d'activités ...</td>\n",
       "      <td>il-faut-qu-il-y-ait-plus-d-offres-d-activites-...</td>\n",
       "      <td>2024-04-01T07:57:23.506Z</td>\n",
       "      <td>2024-04-11T12:47:39.853Z</td>\n",
       "      <td>{'userId': '6f660e94-cf68-4ca3-b431-0e21da54ec...</td>\n",
       "      <td>(28, [8, 1, 8])</td>\n",
       "      <td>(3, [0, 1, 0])</td>\n",
       "      <td>(2, [0, 2, 0])</td>\n",
       "    </tr>\n",
       "    <tr>\n",
       "      <th>1536</th>\n",
       "      <td>029568f5-4352-4667-b666-65a2da5565c9</td>\n",
       "      <td>Il faut faire des aménagements cyclables ainsi...</td>\n",
       "      <td>il-faut-faire-des-amenagements-cyclables-ainsi...</td>\n",
       "      <td>2024-03-30T11:59:17.932Z</td>\n",
       "      <td>2024-04-11T12:47:39.749Z</td>\n",
       "      <td>{'userId': 'd9822c10-8d91-4d56-905d-95c91234ba...</td>\n",
       "      <td>(33, [5, 3, 12])</td>\n",
       "      <td>(9, [3, 2, 3])</td>\n",
       "      <td>(3, [0, 2, 0])</td>\n",
       "    </tr>\n",
       "    <tr>\n",
       "      <th>1537</th>\n",
       "      <td>c244a312-43b0-492a-a4c3-61acb664784d</td>\n",
       "      <td>Il faut inciter à avoir des douches dans les e...</td>\n",
       "      <td>il-faut-inciter-a-avoir-des-douches-dans-les-e...</td>\n",
       "      <td>2024-03-31T07:42:57.843Z</td>\n",
       "      <td>2024-04-04T13:41:00.414Z</td>\n",
       "      <td>{'userId': '678b91c1-2f43-4336-a000-522e8fa2e4...</td>\n",
       "      <td>(33, [7, 4, 9])</td>\n",
       "      <td>(9, [3, 2, 1])</td>\n",
       "      <td>(3, [2, 0, 0])</td>\n",
       "    </tr>\n",
       "    <tr>\n",
       "      <th>1538</th>\n",
       "      <td>83738cba-e965-4eeb-873e-6e576c83118f</td>\n",
       "      <td>Il faut adapter les vestiaires des enfants à l...</td>\n",
       "      <td>il-faut-adapter-les-vestiaires-des-enfants-a-l...</td>\n",
       "      <td>2024-03-28T15:32:31.427Z</td>\n",
       "      <td>2024-04-05T09:00:40.920Z</td>\n",
       "      <td>{'userId': '3cd92c36-df5b-4392-b529-525acea3b7...</td>\n",
       "      <td>(30, [7, 4, 6])</td>\n",
       "      <td>(11, [3, 2, 3])</td>\n",
       "      <td>(4, [2, 1, 1])</td>\n",
       "    </tr>\n",
       "    <tr>\n",
       "      <th>1539</th>\n",
       "      <td>5a74cbd4-e1c0-4645-b4d0-ba5b42b0fd40</td>\n",
       "      <td>Il faut que les sports à hauts revenus partici...</td>\n",
       "      <td>il-faut-que-les-sports-a-hauts-revenus-partici...</td>\n",
       "      <td>2024-04-01T15:08:53.199Z</td>\n",
       "      <td>2024-04-11T12:47:39.922Z</td>\n",
       "      <td>{'userId': 'abafb2fd-e805-45df-8170-b551670c81...</td>\n",
       "      <td>(35, [12, 3, 8])</td>\n",
       "      <td>(3, [0, 0, 1])</td>\n",
       "      <td>(10, [2, 2, 3])</td>\n",
       "    </tr>\n",
       "  </tbody>\n",
       "</table>\n",
       "<p>1540 rows × 9 columns</p>\n",
       "</div>"
      ],
      "text/plain": [
       "                                        id  \\\n",
       "0     82d5eb8f-f953-4e16-9015-9b775ff5f292   \n",
       "1     59ff8102-587a-425e-9976-c4d5d6a268fe   \n",
       "2     66b19692-f947-44c9-9126-33863021098e   \n",
       "3     97c4c337-15d4-4c6e-a108-aefcedeb1666   \n",
       "4     9f71ce59-200c-450a-8987-399eee4fb1dd   \n",
       "...                                    ...   \n",
       "1535  16251ada-5ac5-488f-84d9-8a3a4d74c74c   \n",
       "1536  029568f5-4352-4667-b666-65a2da5565c9   \n",
       "1537  c244a312-43b0-492a-a4c3-61acb664784d   \n",
       "1538  83738cba-e965-4eeb-873e-6e576c83118f   \n",
       "1539  5a74cbd4-e1c0-4645-b4d0-ba5b42b0fd40   \n",
       "\n",
       "                                                content  \\\n",
       "0     Il faut inciter les Français à s'équiper de mo...   \n",
       "1     Il faut demander aux sportifs de haut niveau d...   \n",
       "2     Il faut piétonniser des rues ou routes ou boul...   \n",
       "3     Il faut organiser des compétitions inter-entre...   \n",
       "4     Il faut éduquer dès le plus jeune âge les enfa...   \n",
       "...                                                 ...   \n",
       "1535  Il faut qu'il y ait plus d'offres d'activités ...   \n",
       "1536  Il faut faire des aménagements cyclables ainsi...   \n",
       "1537  Il faut inciter à avoir des douches dans les e...   \n",
       "1538  Il faut adapter les vestiaires des enfants à l...   \n",
       "1539  Il faut que les sports à hauts revenus partici...   \n",
       "\n",
       "                                                   slug  \\\n",
       "0     il-faut-inciter-les-francais-a-s-equiper-de-mo...   \n",
       "1     il-faut-demander-aux-sportifs-de-haut-niveau-d...   \n",
       "2     il-faut-pietonniser-des-rues-ou-routes-ou-boul...   \n",
       "3     il-faut-organiser-des-competitions-inter-entre...   \n",
       "4     il-faut-eduquer-des-le-plus-jeune-age-les-enfa...   \n",
       "...                                                 ...   \n",
       "1535  il-faut-qu-il-y-ait-plus-d-offres-d-activites-...   \n",
       "1536  il-faut-faire-des-amenagements-cyclables-ainsi...   \n",
       "1537  il-faut-inciter-a-avoir-des-douches-dans-les-e...   \n",
       "1538  il-faut-adapter-les-vestiaires-des-enfants-a-l...   \n",
       "1539  il-faut-que-les-sports-a-hauts-revenus-partici...   \n",
       "\n",
       "                     createdAt                 updatedAt  \\\n",
       "0     2024-04-01T07:07:29.747Z  2024-04-04T13:48:06.671Z   \n",
       "1     2024-03-25T17:30:50.114Z  2024-03-27T11:55:43.793Z   \n",
       "2     2024-03-24T10:05:38.434Z  2024-03-27T11:49:34.740Z   \n",
       "3     2024-01-29T10:13:07.672Z  2024-04-09T09:18:23.844Z   \n",
       "4     2024-03-28T08:51:45.459Z  2024-03-29T15:25:37.970Z   \n",
       "...                        ...                       ...   \n",
       "1535  2024-04-01T07:57:23.506Z  2024-04-11T12:47:39.853Z   \n",
       "1536  2024-03-30T11:59:17.932Z  2024-04-11T12:47:39.749Z   \n",
       "1537  2024-03-31T07:42:57.843Z  2024-04-04T13:41:00.414Z   \n",
       "1538  2024-03-28T15:32:31.427Z  2024-04-05T09:00:40.920Z   \n",
       "1539  2024-04-01T15:08:53.199Z  2024-04-11T12:47:39.922Z   \n",
       "\n",
       "                                                 author           vote_agree  \\\n",
       "0     {'userId': '4fad3035-1a13-4ed5-b81a-e1f400e7c6...       (0, [0, 0, 0])   \n",
       "1     {'userId': 'e1606f3c-5d45-4a0e-b2da-7455125ca2...     (39, [6, 6, 14])   \n",
       "2     {'userId': 'b3589dd5-a215-481a-983c-0e4dff1e07...    (47, [13, 4, 16])   \n",
       "3     {'userId': '22448ef2-cae9-42b5-9663-3bcd333fa2...  (210, [38, 21, 60])   \n",
       "4     {'userId': 'cbc394ac-1fe0-48e0-ac3f-8b463ed719...    (69, [14, 6, 24])   \n",
       "...                                                 ...                  ...   \n",
       "1535  {'userId': '6f660e94-cf68-4ca3-b431-0e21da54ec...      (28, [8, 1, 8])   \n",
       "1536  {'userId': 'd9822c10-8d91-4d56-905d-95c91234ba...     (33, [5, 3, 12])   \n",
       "1537  {'userId': '678b91c1-2f43-4336-a000-522e8fa2e4...      (33, [7, 4, 9])   \n",
       "1538  {'userId': '3cd92c36-df5b-4392-b529-525acea3b7...      (30, [7, 4, 6])   \n",
       "1539  {'userId': 'abafb2fd-e805-45df-8170-b551670c81...     (35, [12, 3, 8])   \n",
       "\n",
       "            vote_neutral        vote_disagree  \n",
       "0         (6, [1, 0, 3])      (10, [1, 5, 3])  \n",
       "1       (29, [14, 0, 9])      (19, [2, 5, 7])  \n",
       "2        (18, [7, 2, 3])      (18, [2, 8, 3])  \n",
       "3     (155, [48, 4, 52])  (205, [41, 57, 62])  \n",
       "4        (13, [2, 6, 3])       (4, [0, 1, 3])  \n",
       "...                  ...                  ...  \n",
       "1535      (3, [0, 1, 0])       (2, [0, 2, 0])  \n",
       "1536      (9, [3, 2, 3])       (3, [0, 2, 0])  \n",
       "1537      (9, [3, 2, 1])       (3, [2, 0, 0])  \n",
       "1538     (11, [3, 2, 3])       (4, [2, 1, 1])  \n",
       "1539      (3, [0, 0, 1])      (10, [2, 2, 3])  \n",
       "\n",
       "[1540 rows x 9 columns]"
      ]
     },
     "execution_count": 21,
     "metadata": {},
     "output_type": "execute_result"
    }
   ],
   "source": [
    "df"
   ]
  },
  {
   "cell_type": "code",
   "execution_count": 22,
   "id": "7b904827",
   "metadata": {},
   "outputs": [
    {
     "data": {
      "text/plain": [
       "{'userId': 'd768571b-64f9-4251-86fc-3b7e91572b1a',\n",
       " 'firstName': 'Celine',\n",
       " 'displayName': 'Celine',\n",
       " 'organisationName': None,\n",
       " 'organisationSlug': None,\n",
       " 'postalCode': '33000',\n",
       " 'age': 43,\n",
       " 'avatarUrl': None,\n",
       " 'userType': 'USER'}"
      ]
     },
     "execution_count": 22,
     "metadata": {},
     "output_type": "execute_result"
    }
   ],
   "source": [
    "df.loc[200,\"author\"]"
   ]
  },
  {
   "cell_type": "code",
   "execution_count": 23,
   "id": "322c53cd",
   "metadata": {},
   "outputs": [],
   "source": [
    "df[\"author_id\"] = df[\"author\"].apply(lambda raw: raw[\"userId\"])\n",
    "df[\"author_age\"] = df[\"author\"].apply(lambda raw: raw[\"age\"])\n",
    "df[\"author_type\"] = df[\"author\"].apply(lambda raw: raw[\"userType\"])"
   ]
  },
  {
   "cell_type": "code",
   "execution_count": 24,
   "id": "04ef9a61",
   "metadata": {},
   "outputs": [
    {
     "data": {
      "text/html": [
       "<div>\n",
       "<style scoped>\n",
       "    .dataframe tbody tr th:only-of-type {\n",
       "        vertical-align: middle;\n",
       "    }\n",
       "\n",
       "    .dataframe tbody tr th {\n",
       "        vertical-align: top;\n",
       "    }\n",
       "\n",
       "    .dataframe thead th {\n",
       "        text-align: right;\n",
       "    }\n",
       "</style>\n",
       "<table border=\"1\" class=\"dataframe\">\n",
       "  <thead>\n",
       "    <tr style=\"text-align: right;\">\n",
       "      <th></th>\n",
       "      <th>id</th>\n",
       "      <th>content</th>\n",
       "      <th>slug</th>\n",
       "      <th>createdAt</th>\n",
       "      <th>updatedAt</th>\n",
       "      <th>author</th>\n",
       "      <th>vote_agree</th>\n",
       "      <th>vote_neutral</th>\n",
       "      <th>vote_disagree</th>\n",
       "      <th>author_id</th>\n",
       "      <th>author_age</th>\n",
       "      <th>author_type</th>\n",
       "    </tr>\n",
       "  </thead>\n",
       "  <tbody>\n",
       "    <tr>\n",
       "      <th>0</th>\n",
       "      <td>82d5eb8f-f953-4e16-9015-9b775ff5f292</td>\n",
       "      <td>Il faut inciter les Français à s'équiper de mo...</td>\n",
       "      <td>il-faut-inciter-les-francais-a-s-equiper-de-mo...</td>\n",
       "      <td>2024-04-01T07:07:29.747Z</td>\n",
       "      <td>2024-04-04T13:48:06.671Z</td>\n",
       "      <td>{'userId': '4fad3035-1a13-4ed5-b81a-e1f400e7c6...</td>\n",
       "      <td>(0, [0, 0, 0])</td>\n",
       "      <td>(6, [1, 0, 3])</td>\n",
       "      <td>(10, [1, 5, 3])</td>\n",
       "      <td>4fad3035-1a13-4ed5-b81a-e1f400e7c665</td>\n",
       "      <td>61.0</td>\n",
       "      <td>USER</td>\n",
       "    </tr>\n",
       "    <tr>\n",
       "      <th>1</th>\n",
       "      <td>59ff8102-587a-425e-9976-c4d5d6a268fe</td>\n",
       "      <td>Il faut demander aux sportifs de haut niveau d...</td>\n",
       "      <td>il-faut-demander-aux-sportifs-de-haut-niveau-d...</td>\n",
       "      <td>2024-03-25T17:30:50.114Z</td>\n",
       "      <td>2024-03-27T11:55:43.793Z</td>\n",
       "      <td>{'userId': 'e1606f3c-5d45-4a0e-b2da-7455125ca2...</td>\n",
       "      <td>(39, [6, 6, 14])</td>\n",
       "      <td>(29, [14, 0, 9])</td>\n",
       "      <td>(19, [2, 5, 7])</td>\n",
       "      <td>e1606f3c-5d45-4a0e-b2da-7455125ca204</td>\n",
       "      <td>NaN</td>\n",
       "      <td>USER</td>\n",
       "    </tr>\n",
       "    <tr>\n",
       "      <th>2</th>\n",
       "      <td>66b19692-f947-44c9-9126-33863021098e</td>\n",
       "      <td>Il faut piétonniser des rues ou routes ou boul...</td>\n",
       "      <td>il-faut-pietonniser-des-rues-ou-routes-ou-boul...</td>\n",
       "      <td>2024-03-24T10:05:38.434Z</td>\n",
       "      <td>2024-03-27T11:49:34.740Z</td>\n",
       "      <td>{'userId': 'b3589dd5-a215-481a-983c-0e4dff1e07...</td>\n",
       "      <td>(47, [13, 4, 16])</td>\n",
       "      <td>(18, [7, 2, 3])</td>\n",
       "      <td>(18, [2, 8, 3])</td>\n",
       "      <td>b3589dd5-a215-481a-983c-0e4dff1e0763</td>\n",
       "      <td>66.0</td>\n",
       "      <td>USER</td>\n",
       "    </tr>\n",
       "    <tr>\n",
       "      <th>3</th>\n",
       "      <td>97c4c337-15d4-4c6e-a108-aefcedeb1666</td>\n",
       "      <td>Il faut organiser des compétitions inter-entre...</td>\n",
       "      <td>il-faut-organiser-des-competitions-inter-entre...</td>\n",
       "      <td>2024-01-29T10:13:07.672Z</td>\n",
       "      <td>2024-04-09T09:18:23.844Z</td>\n",
       "      <td>{'userId': '22448ef2-cae9-42b5-9663-3bcd333fa2...</td>\n",
       "      <td>(210, [38, 21, 60])</td>\n",
       "      <td>(155, [48, 4, 52])</td>\n",
       "      <td>(205, [41, 57, 62])</td>\n",
       "      <td>22448ef2-cae9-42b5-9663-3bcd333fa231</td>\n",
       "      <td>20.0</td>\n",
       "      <td>USER</td>\n",
       "    </tr>\n",
       "    <tr>\n",
       "      <th>4</th>\n",
       "      <td>9f71ce59-200c-450a-8987-399eee4fb1dd</td>\n",
       "      <td>Il faut éduquer dès le plus jeune âge les enfa...</td>\n",
       "      <td>il-faut-eduquer-des-le-plus-jeune-age-les-enfa...</td>\n",
       "      <td>2024-03-28T08:51:45.459Z</td>\n",
       "      <td>2024-03-29T15:25:37.970Z</td>\n",
       "      <td>{'userId': 'cbc394ac-1fe0-48e0-ac3f-8b463ed719...</td>\n",
       "      <td>(69, [14, 6, 24])</td>\n",
       "      <td>(13, [2, 6, 3])</td>\n",
       "      <td>(4, [0, 1, 3])</td>\n",
       "      <td>cbc394ac-1fe0-48e0-ac3f-8b463ed71967</td>\n",
       "      <td>NaN</td>\n",
       "      <td>USER</td>\n",
       "    </tr>\n",
       "  </tbody>\n",
       "</table>\n",
       "</div>"
      ],
      "text/plain": [
       "                                     id  \\\n",
       "0  82d5eb8f-f953-4e16-9015-9b775ff5f292   \n",
       "1  59ff8102-587a-425e-9976-c4d5d6a268fe   \n",
       "2  66b19692-f947-44c9-9126-33863021098e   \n",
       "3  97c4c337-15d4-4c6e-a108-aefcedeb1666   \n",
       "4  9f71ce59-200c-450a-8987-399eee4fb1dd   \n",
       "\n",
       "                                             content  \\\n",
       "0  Il faut inciter les Français à s'équiper de mo...   \n",
       "1  Il faut demander aux sportifs de haut niveau d...   \n",
       "2  Il faut piétonniser des rues ou routes ou boul...   \n",
       "3  Il faut organiser des compétitions inter-entre...   \n",
       "4  Il faut éduquer dès le plus jeune âge les enfa...   \n",
       "\n",
       "                                                slug  \\\n",
       "0  il-faut-inciter-les-francais-a-s-equiper-de-mo...   \n",
       "1  il-faut-demander-aux-sportifs-de-haut-niveau-d...   \n",
       "2  il-faut-pietonniser-des-rues-ou-routes-ou-boul...   \n",
       "3  il-faut-organiser-des-competitions-inter-entre...   \n",
       "4  il-faut-eduquer-des-le-plus-jeune-age-les-enfa...   \n",
       "\n",
       "                  createdAt                 updatedAt  \\\n",
       "0  2024-04-01T07:07:29.747Z  2024-04-04T13:48:06.671Z   \n",
       "1  2024-03-25T17:30:50.114Z  2024-03-27T11:55:43.793Z   \n",
       "2  2024-03-24T10:05:38.434Z  2024-03-27T11:49:34.740Z   \n",
       "3  2024-01-29T10:13:07.672Z  2024-04-09T09:18:23.844Z   \n",
       "4  2024-03-28T08:51:45.459Z  2024-03-29T15:25:37.970Z   \n",
       "\n",
       "                                              author           vote_agree  \\\n",
       "0  {'userId': '4fad3035-1a13-4ed5-b81a-e1f400e7c6...       (0, [0, 0, 0])   \n",
       "1  {'userId': 'e1606f3c-5d45-4a0e-b2da-7455125ca2...     (39, [6, 6, 14])   \n",
       "2  {'userId': 'b3589dd5-a215-481a-983c-0e4dff1e07...    (47, [13, 4, 16])   \n",
       "3  {'userId': '22448ef2-cae9-42b5-9663-3bcd333fa2...  (210, [38, 21, 60])   \n",
       "4  {'userId': 'cbc394ac-1fe0-48e0-ac3f-8b463ed719...    (69, [14, 6, 24])   \n",
       "\n",
       "         vote_neutral        vote_disagree  \\\n",
       "0      (6, [1, 0, 3])      (10, [1, 5, 3])   \n",
       "1    (29, [14, 0, 9])      (19, [2, 5, 7])   \n",
       "2     (18, [7, 2, 3])      (18, [2, 8, 3])   \n",
       "3  (155, [48, 4, 52])  (205, [41, 57, 62])   \n",
       "4     (13, [2, 6, 3])       (4, [0, 1, 3])   \n",
       "\n",
       "                              author_id  author_age author_type  \n",
       "0  4fad3035-1a13-4ed5-b81a-e1f400e7c665        61.0        USER  \n",
       "1  e1606f3c-5d45-4a0e-b2da-7455125ca204         NaN        USER  \n",
       "2  b3589dd5-a215-481a-983c-0e4dff1e0763        66.0        USER  \n",
       "3  22448ef2-cae9-42b5-9663-3bcd333fa231        20.0        USER  \n",
       "4  cbc394ac-1fe0-48e0-ac3f-8b463ed71967         NaN        USER  "
      ]
     },
     "execution_count": 24,
     "metadata": {},
     "output_type": "execute_result"
    }
   ],
   "source": [
    "df.head()"
   ]
  },
  {
   "cell_type": "code",
   "execution_count": 25,
   "id": "a18ee287",
   "metadata": {},
   "outputs": [
    {
     "data": {
      "text/plain": [
       "author_type\n",
       "USER            1469\n",
       "ORGANISATION      71\n",
       "Name: count, dtype: int64"
      ]
     },
     "execution_count": 25,
     "metadata": {},
     "output_type": "execute_result"
    }
   ],
   "source": [
    "df[\"author_type\"].value_counts()"
   ]
  },
  {
   "cell_type": "code",
   "execution_count": 26,
   "id": "bfe264f3",
   "metadata": {},
   "outputs": [],
   "source": [
    "df = df.drop(columns=\"author\")"
   ]
  },
  {
   "cell_type": "code",
   "execution_count": 27,
   "id": "56ecdee1",
   "metadata": {},
   "outputs": [
    {
     "data": {
      "text/html": [
       "<div>\n",
       "<style scoped>\n",
       "    .dataframe tbody tr th:only-of-type {\n",
       "        vertical-align: middle;\n",
       "    }\n",
       "\n",
       "    .dataframe tbody tr th {\n",
       "        vertical-align: top;\n",
       "    }\n",
       "\n",
       "    .dataframe thead th {\n",
       "        text-align: right;\n",
       "    }\n",
       "</style>\n",
       "<table border=\"1\" class=\"dataframe\">\n",
       "  <thead>\n",
       "    <tr style=\"text-align: right;\">\n",
       "      <th></th>\n",
       "      <th>id</th>\n",
       "      <th>content</th>\n",
       "      <th>slug</th>\n",
       "      <th>createdAt</th>\n",
       "      <th>updatedAt</th>\n",
       "      <th>vote_agree</th>\n",
       "      <th>vote_neutral</th>\n",
       "      <th>vote_disagree</th>\n",
       "      <th>author_id</th>\n",
       "      <th>author_age</th>\n",
       "      <th>author_type</th>\n",
       "    </tr>\n",
       "  </thead>\n",
       "  <tbody>\n",
       "    <tr>\n",
       "      <th>0</th>\n",
       "      <td>82d5eb8f-f953-4e16-9015-9b775ff5f292</td>\n",
       "      <td>Il faut inciter les Français à s'équiper de mo...</td>\n",
       "      <td>il-faut-inciter-les-francais-a-s-equiper-de-mo...</td>\n",
       "      <td>2024-04-01T07:07:29.747Z</td>\n",
       "      <td>2024-04-04T13:48:06.671Z</td>\n",
       "      <td>(0, [0, 0, 0])</td>\n",
       "      <td>(6, [1, 0, 3])</td>\n",
       "      <td>(10, [1, 5, 3])</td>\n",
       "      <td>4fad3035-1a13-4ed5-b81a-e1f400e7c665</td>\n",
       "      <td>61.0</td>\n",
       "      <td>USER</td>\n",
       "    </tr>\n",
       "    <tr>\n",
       "      <th>1</th>\n",
       "      <td>59ff8102-587a-425e-9976-c4d5d6a268fe</td>\n",
       "      <td>Il faut demander aux sportifs de haut niveau d...</td>\n",
       "      <td>il-faut-demander-aux-sportifs-de-haut-niveau-d...</td>\n",
       "      <td>2024-03-25T17:30:50.114Z</td>\n",
       "      <td>2024-03-27T11:55:43.793Z</td>\n",
       "      <td>(39, [6, 6, 14])</td>\n",
       "      <td>(29, [14, 0, 9])</td>\n",
       "      <td>(19, [2, 5, 7])</td>\n",
       "      <td>e1606f3c-5d45-4a0e-b2da-7455125ca204</td>\n",
       "      <td>NaN</td>\n",
       "      <td>USER</td>\n",
       "    </tr>\n",
       "    <tr>\n",
       "      <th>2</th>\n",
       "      <td>66b19692-f947-44c9-9126-33863021098e</td>\n",
       "      <td>Il faut piétonniser des rues ou routes ou boul...</td>\n",
       "      <td>il-faut-pietonniser-des-rues-ou-routes-ou-boul...</td>\n",
       "      <td>2024-03-24T10:05:38.434Z</td>\n",
       "      <td>2024-03-27T11:49:34.740Z</td>\n",
       "      <td>(47, [13, 4, 16])</td>\n",
       "      <td>(18, [7, 2, 3])</td>\n",
       "      <td>(18, [2, 8, 3])</td>\n",
       "      <td>b3589dd5-a215-481a-983c-0e4dff1e0763</td>\n",
       "      <td>66.0</td>\n",
       "      <td>USER</td>\n",
       "    </tr>\n",
       "    <tr>\n",
       "      <th>3</th>\n",
       "      <td>97c4c337-15d4-4c6e-a108-aefcedeb1666</td>\n",
       "      <td>Il faut organiser des compétitions inter-entre...</td>\n",
       "      <td>il-faut-organiser-des-competitions-inter-entre...</td>\n",
       "      <td>2024-01-29T10:13:07.672Z</td>\n",
       "      <td>2024-04-09T09:18:23.844Z</td>\n",
       "      <td>(210, [38, 21, 60])</td>\n",
       "      <td>(155, [48, 4, 52])</td>\n",
       "      <td>(205, [41, 57, 62])</td>\n",
       "      <td>22448ef2-cae9-42b5-9663-3bcd333fa231</td>\n",
       "      <td>20.0</td>\n",
       "      <td>USER</td>\n",
       "    </tr>\n",
       "    <tr>\n",
       "      <th>4</th>\n",
       "      <td>9f71ce59-200c-450a-8987-399eee4fb1dd</td>\n",
       "      <td>Il faut éduquer dès le plus jeune âge les enfa...</td>\n",
       "      <td>il-faut-eduquer-des-le-plus-jeune-age-les-enfa...</td>\n",
       "      <td>2024-03-28T08:51:45.459Z</td>\n",
       "      <td>2024-03-29T15:25:37.970Z</td>\n",
       "      <td>(69, [14, 6, 24])</td>\n",
       "      <td>(13, [2, 6, 3])</td>\n",
       "      <td>(4, [0, 1, 3])</td>\n",
       "      <td>cbc394ac-1fe0-48e0-ac3f-8b463ed71967</td>\n",
       "      <td>NaN</td>\n",
       "      <td>USER</td>\n",
       "    </tr>\n",
       "  </tbody>\n",
       "</table>\n",
       "</div>"
      ],
      "text/plain": [
       "                                     id  \\\n",
       "0  82d5eb8f-f953-4e16-9015-9b775ff5f292   \n",
       "1  59ff8102-587a-425e-9976-c4d5d6a268fe   \n",
       "2  66b19692-f947-44c9-9126-33863021098e   \n",
       "3  97c4c337-15d4-4c6e-a108-aefcedeb1666   \n",
       "4  9f71ce59-200c-450a-8987-399eee4fb1dd   \n",
       "\n",
       "                                             content  \\\n",
       "0  Il faut inciter les Français à s'équiper de mo...   \n",
       "1  Il faut demander aux sportifs de haut niveau d...   \n",
       "2  Il faut piétonniser des rues ou routes ou boul...   \n",
       "3  Il faut organiser des compétitions inter-entre...   \n",
       "4  Il faut éduquer dès le plus jeune âge les enfa...   \n",
       "\n",
       "                                                slug  \\\n",
       "0  il-faut-inciter-les-francais-a-s-equiper-de-mo...   \n",
       "1  il-faut-demander-aux-sportifs-de-haut-niveau-d...   \n",
       "2  il-faut-pietonniser-des-rues-ou-routes-ou-boul...   \n",
       "3  il-faut-organiser-des-competitions-inter-entre...   \n",
       "4  il-faut-eduquer-des-le-plus-jeune-age-les-enfa...   \n",
       "\n",
       "                  createdAt                 updatedAt           vote_agree  \\\n",
       "0  2024-04-01T07:07:29.747Z  2024-04-04T13:48:06.671Z       (0, [0, 0, 0])   \n",
       "1  2024-03-25T17:30:50.114Z  2024-03-27T11:55:43.793Z     (39, [6, 6, 14])   \n",
       "2  2024-03-24T10:05:38.434Z  2024-03-27T11:49:34.740Z    (47, [13, 4, 16])   \n",
       "3  2024-01-29T10:13:07.672Z  2024-04-09T09:18:23.844Z  (210, [38, 21, 60])   \n",
       "4  2024-03-28T08:51:45.459Z  2024-03-29T15:25:37.970Z    (69, [14, 6, 24])   \n",
       "\n",
       "         vote_neutral        vote_disagree  \\\n",
       "0      (6, [1, 0, 3])      (10, [1, 5, 3])   \n",
       "1    (29, [14, 0, 9])      (19, [2, 5, 7])   \n",
       "2     (18, [7, 2, 3])      (18, [2, 8, 3])   \n",
       "3  (155, [48, 4, 52])  (205, [41, 57, 62])   \n",
       "4     (13, [2, 6, 3])       (4, [0, 1, 3])   \n",
       "\n",
       "                              author_id  author_age author_type  \n",
       "0  4fad3035-1a13-4ed5-b81a-e1f400e7c665        61.0        USER  \n",
       "1  e1606f3c-5d45-4a0e-b2da-7455125ca204         NaN        USER  \n",
       "2  b3589dd5-a215-481a-983c-0e4dff1e0763        66.0        USER  \n",
       "3  22448ef2-cae9-42b5-9663-3bcd333fa231        20.0        USER  \n",
       "4  cbc394ac-1fe0-48e0-ac3f-8b463ed71967         NaN        USER  "
      ]
     },
     "execution_count": 27,
     "metadata": {},
     "output_type": "execute_result"
    }
   ],
   "source": [
    "df.head()"
   ]
  },
  {
   "cell_type": "code",
   "execution_count": 28,
   "id": "63f95042",
   "metadata": {},
   "outputs": [
    {
     "data": {
      "text/plain": [
       "id                 0\n",
       "content            0\n",
       "slug               0\n",
       "createdAt          0\n",
       "updatedAt          0\n",
       "vote_agree         0\n",
       "vote_neutral       0\n",
       "vote_disagree      0\n",
       "author_id          0\n",
       "author_age       317\n",
       "author_type        0\n",
       "dtype: int64"
      ]
     },
     "execution_count": 28,
     "metadata": {},
     "output_type": "execute_result"
    }
   ],
   "source": [
    "df.isna().sum()"
   ]
  },
  {
   "cell_type": "code",
   "execution_count": 29,
   "id": "430b5b64",
   "metadata": {},
   "outputs": [
    {
     "name": "stderr",
     "output_type": "stream",
     "text": [
      "C:\\Users\\LENOVO PC\\AppData\\Local\\Temp\\ipykernel_9784\\565535580.py:1: FutureWarning: A value is trying to be set on a copy of a DataFrame or Series through chained assignment using an inplace method.\n",
      "The behavior will change in pandas 3.0. This inplace method will never work because the intermediate object on which we are setting values always behaves as a copy.\n",
      "\n",
      "For example, when doing 'df[col].method(value, inplace=True)', try using 'df.method({col: value}, inplace=True)' or df[col] = df[col].method(value) instead, to perform the operation inplace on the original object.\n",
      "\n",
      "\n",
      "  df[\"author_age\"].fillna(df[\"author_age\"].median(), inplace=True)\n"
     ]
    }
   ],
   "source": [
    "df[\"author_age\"].fillna(df[\"author_age\"].median(), inplace=True)"
   ]
  },
  {
   "cell_type": "code",
   "execution_count": 30,
   "id": "2bdf7640",
   "metadata": {},
   "outputs": [
    {
     "data": {
      "text/plain": [
       "id               0\n",
       "content          0\n",
       "slug             0\n",
       "createdAt        0\n",
       "updatedAt        0\n",
       "vote_agree       0\n",
       "vote_neutral     0\n",
       "vote_disagree    0\n",
       "author_id        0\n",
       "author_age       0\n",
       "author_type      0\n",
       "dtype: int64"
      ]
     },
     "execution_count": 30,
     "metadata": {},
     "output_type": "execute_result"
    }
   ],
   "source": [
    "df.isna().sum()"
   ]
  },
  {
   "cell_type": "code",
   "execution_count": 31,
   "id": "2362c6e7",
   "metadata": {},
   "outputs": [],
   "source": [
    "agree=['likeit', 'platitudeagree','doable']\n",
    "Neutral=[\"noOpinion\", \"doNotUnderstand\", \"doNotCare\"]\n",
    "desagree=[\"impossible\", \"noWay\", \"platitudeDisagree\"]\n",
    "\n",
    "votes_types = (agree, Neutral, desagree)\n",
    "votes_names = [\"agree\", \"neutral\", \"disagree\" ]"
   ]
  },
  {
   "cell_type": "code",
   "execution_count": 32,
   "id": "294d29bd",
   "metadata": {},
   "outputs": [],
   "source": [
    "def sub_votes(data) :\n",
    "    i = 0\n",
    "    for type in votes_types :\n",
    "        j = 0\n",
    "        for subtype in type :\n",
    "            data[votes_names[i] + \"_\" + subtype] = data[\"vote_\"+votes_names[i]].apply(lambda raw: raw[1][j])\n",
    "            j+=1\n",
    "        i+=1\n",
    "    return data"
   ]
  },
  {
   "cell_type": "code",
   "execution_count": 33,
   "id": "fd81b8c3",
   "metadata": {},
   "outputs": [],
   "source": [
    "df_f = sub_votes(df)"
   ]
  },
  {
   "cell_type": "code",
   "execution_count": 34,
   "id": "8c0d65bb",
   "metadata": {},
   "outputs": [],
   "source": [
    "def n_votes(data) :\n",
    "    i = 0\n",
    "    for type in votes_types :\n",
    "        data[\"vote_\"+votes_names[i]] = data[\"vote_\"+votes_names[i]].apply(lambda raw: raw[0])\n",
    "        i+=1\n",
    "    return data"
   ]
  },
  {
   "cell_type": "code",
   "execution_count": 35,
   "id": "635f86e5",
   "metadata": {},
   "outputs": [],
   "source": [
    "df_f = n_votes(df_f)"
   ]
  },
  {
   "cell_type": "code",
   "execution_count": 36,
   "id": "16628d2d",
   "metadata": {},
   "outputs": [
    {
     "data": {
      "text/html": [
       "<div>\n",
       "<style scoped>\n",
       "    .dataframe tbody tr th:only-of-type {\n",
       "        vertical-align: middle;\n",
       "    }\n",
       "\n",
       "    .dataframe tbody tr th {\n",
       "        vertical-align: top;\n",
       "    }\n",
       "\n",
       "    .dataframe thead th {\n",
       "        text-align: right;\n",
       "    }\n",
       "</style>\n",
       "<table border=\"1\" class=\"dataframe\">\n",
       "  <thead>\n",
       "    <tr style=\"text-align: right;\">\n",
       "      <th></th>\n",
       "      <th>id</th>\n",
       "      <th>content</th>\n",
       "      <th>slug</th>\n",
       "      <th>createdAt</th>\n",
       "      <th>updatedAt</th>\n",
       "      <th>vote_agree</th>\n",
       "      <th>vote_neutral</th>\n",
       "      <th>vote_disagree</th>\n",
       "      <th>author_id</th>\n",
       "      <th>author_age</th>\n",
       "      <th>author_type</th>\n",
       "      <th>agree_likeit</th>\n",
       "      <th>agree_platitudeagree</th>\n",
       "      <th>agree_doable</th>\n",
       "      <th>neutral_noOpinion</th>\n",
       "      <th>neutral_doNotUnderstand</th>\n",
       "      <th>neutral_doNotCare</th>\n",
       "      <th>disagree_impossible</th>\n",
       "      <th>disagree_noWay</th>\n",
       "      <th>disagree_platitudeDisagree</th>\n",
       "    </tr>\n",
       "  </thead>\n",
       "  <tbody>\n",
       "    <tr>\n",
       "      <th>0</th>\n",
       "      <td>82d5eb8f-f953-4e16-9015-9b775ff5f292</td>\n",
       "      <td>Il faut inciter les Français à s'équiper de mo...</td>\n",
       "      <td>il-faut-inciter-les-francais-a-s-equiper-de-mo...</td>\n",
       "      <td>2024-04-01T07:07:29.747Z</td>\n",
       "      <td>2024-04-04T13:48:06.671Z</td>\n",
       "      <td>0</td>\n",
       "      <td>6</td>\n",
       "      <td>10</td>\n",
       "      <td>4fad3035-1a13-4ed5-b81a-e1f400e7c665</td>\n",
       "      <td>61.0</td>\n",
       "      <td>USER</td>\n",
       "      <td>0</td>\n",
       "      <td>0</td>\n",
       "      <td>0</td>\n",
       "      <td>1</td>\n",
       "      <td>0</td>\n",
       "      <td>3</td>\n",
       "      <td>1</td>\n",
       "      <td>5</td>\n",
       "      <td>3</td>\n",
       "    </tr>\n",
       "    <tr>\n",
       "      <th>1</th>\n",
       "      <td>59ff8102-587a-425e-9976-c4d5d6a268fe</td>\n",
       "      <td>Il faut demander aux sportifs de haut niveau d...</td>\n",
       "      <td>il-faut-demander-aux-sportifs-de-haut-niveau-d...</td>\n",
       "      <td>2024-03-25T17:30:50.114Z</td>\n",
       "      <td>2024-03-27T11:55:43.793Z</td>\n",
       "      <td>39</td>\n",
       "      <td>29</td>\n",
       "      <td>19</td>\n",
       "      <td>e1606f3c-5d45-4a0e-b2da-7455125ca204</td>\n",
       "      <td>50.0</td>\n",
       "      <td>USER</td>\n",
       "      <td>6</td>\n",
       "      <td>6</td>\n",
       "      <td>14</td>\n",
       "      <td>14</td>\n",
       "      <td>0</td>\n",
       "      <td>9</td>\n",
       "      <td>2</td>\n",
       "      <td>5</td>\n",
       "      <td>7</td>\n",
       "    </tr>\n",
       "    <tr>\n",
       "      <th>2</th>\n",
       "      <td>66b19692-f947-44c9-9126-33863021098e</td>\n",
       "      <td>Il faut piétonniser des rues ou routes ou boul...</td>\n",
       "      <td>il-faut-pietonniser-des-rues-ou-routes-ou-boul...</td>\n",
       "      <td>2024-03-24T10:05:38.434Z</td>\n",
       "      <td>2024-03-27T11:49:34.740Z</td>\n",
       "      <td>47</td>\n",
       "      <td>18</td>\n",
       "      <td>18</td>\n",
       "      <td>b3589dd5-a215-481a-983c-0e4dff1e0763</td>\n",
       "      <td>66.0</td>\n",
       "      <td>USER</td>\n",
       "      <td>13</td>\n",
       "      <td>4</td>\n",
       "      <td>16</td>\n",
       "      <td>7</td>\n",
       "      <td>2</td>\n",
       "      <td>3</td>\n",
       "      <td>2</td>\n",
       "      <td>8</td>\n",
       "      <td>3</td>\n",
       "    </tr>\n",
       "    <tr>\n",
       "      <th>3</th>\n",
       "      <td>97c4c337-15d4-4c6e-a108-aefcedeb1666</td>\n",
       "      <td>Il faut organiser des compétitions inter-entre...</td>\n",
       "      <td>il-faut-organiser-des-competitions-inter-entre...</td>\n",
       "      <td>2024-01-29T10:13:07.672Z</td>\n",
       "      <td>2024-04-09T09:18:23.844Z</td>\n",
       "      <td>210</td>\n",
       "      <td>155</td>\n",
       "      <td>205</td>\n",
       "      <td>22448ef2-cae9-42b5-9663-3bcd333fa231</td>\n",
       "      <td>20.0</td>\n",
       "      <td>USER</td>\n",
       "      <td>38</td>\n",
       "      <td>21</td>\n",
       "      <td>60</td>\n",
       "      <td>48</td>\n",
       "      <td>4</td>\n",
       "      <td>52</td>\n",
       "      <td>41</td>\n",
       "      <td>57</td>\n",
       "      <td>62</td>\n",
       "    </tr>\n",
       "    <tr>\n",
       "      <th>4</th>\n",
       "      <td>9f71ce59-200c-450a-8987-399eee4fb1dd</td>\n",
       "      <td>Il faut éduquer dès le plus jeune âge les enfa...</td>\n",
       "      <td>il-faut-eduquer-des-le-plus-jeune-age-les-enfa...</td>\n",
       "      <td>2024-03-28T08:51:45.459Z</td>\n",
       "      <td>2024-03-29T15:25:37.970Z</td>\n",
       "      <td>69</td>\n",
       "      <td>13</td>\n",
       "      <td>4</td>\n",
       "      <td>cbc394ac-1fe0-48e0-ac3f-8b463ed71967</td>\n",
       "      <td>50.0</td>\n",
       "      <td>USER</td>\n",
       "      <td>14</td>\n",
       "      <td>6</td>\n",
       "      <td>24</td>\n",
       "      <td>2</td>\n",
       "      <td>6</td>\n",
       "      <td>3</td>\n",
       "      <td>0</td>\n",
       "      <td>1</td>\n",
       "      <td>3</td>\n",
       "    </tr>\n",
       "    <tr>\n",
       "      <th>...</th>\n",
       "      <td>...</td>\n",
       "      <td>...</td>\n",
       "      <td>...</td>\n",
       "      <td>...</td>\n",
       "      <td>...</td>\n",
       "      <td>...</td>\n",
       "      <td>...</td>\n",
       "      <td>...</td>\n",
       "      <td>...</td>\n",
       "      <td>...</td>\n",
       "      <td>...</td>\n",
       "      <td>...</td>\n",
       "      <td>...</td>\n",
       "      <td>...</td>\n",
       "      <td>...</td>\n",
       "      <td>...</td>\n",
       "      <td>...</td>\n",
       "      <td>...</td>\n",
       "      <td>...</td>\n",
       "      <td>...</td>\n",
       "    </tr>\n",
       "    <tr>\n",
       "      <th>1535</th>\n",
       "      <td>16251ada-5ac5-488f-84d9-8a3a4d74c74c</td>\n",
       "      <td>Il faut qu'il y ait plus d'offres d'activités ...</td>\n",
       "      <td>il-faut-qu-il-y-ait-plus-d-offres-d-activites-...</td>\n",
       "      <td>2024-04-01T07:57:23.506Z</td>\n",
       "      <td>2024-04-11T12:47:39.853Z</td>\n",
       "      <td>28</td>\n",
       "      <td>3</td>\n",
       "      <td>2</td>\n",
       "      <td>6f660e94-cf68-4ca3-b431-0e21da54ec46</td>\n",
       "      <td>50.0</td>\n",
       "      <td>USER</td>\n",
       "      <td>8</td>\n",
       "      <td>1</td>\n",
       "      <td>8</td>\n",
       "      <td>0</td>\n",
       "      <td>1</td>\n",
       "      <td>0</td>\n",
       "      <td>0</td>\n",
       "      <td>2</td>\n",
       "      <td>0</td>\n",
       "    </tr>\n",
       "    <tr>\n",
       "      <th>1536</th>\n",
       "      <td>029568f5-4352-4667-b666-65a2da5565c9</td>\n",
       "      <td>Il faut faire des aménagements cyclables ainsi...</td>\n",
       "      <td>il-faut-faire-des-amenagements-cyclables-ainsi...</td>\n",
       "      <td>2024-03-30T11:59:17.932Z</td>\n",
       "      <td>2024-04-11T12:47:39.749Z</td>\n",
       "      <td>33</td>\n",
       "      <td>9</td>\n",
       "      <td>3</td>\n",
       "      <td>d9822c10-8d91-4d56-905d-95c91234ba61</td>\n",
       "      <td>68.0</td>\n",
       "      <td>USER</td>\n",
       "      <td>5</td>\n",
       "      <td>3</td>\n",
       "      <td>12</td>\n",
       "      <td>3</td>\n",
       "      <td>2</td>\n",
       "      <td>3</td>\n",
       "      <td>0</td>\n",
       "      <td>2</td>\n",
       "      <td>0</td>\n",
       "    </tr>\n",
       "    <tr>\n",
       "      <th>1537</th>\n",
       "      <td>c244a312-43b0-492a-a4c3-61acb664784d</td>\n",
       "      <td>Il faut inciter à avoir des douches dans les e...</td>\n",
       "      <td>il-faut-inciter-a-avoir-des-douches-dans-les-e...</td>\n",
       "      <td>2024-03-31T07:42:57.843Z</td>\n",
       "      <td>2024-04-04T13:41:00.414Z</td>\n",
       "      <td>33</td>\n",
       "      <td>9</td>\n",
       "      <td>3</td>\n",
       "      <td>678b91c1-2f43-4336-a000-522e8fa2e400</td>\n",
       "      <td>51.0</td>\n",
       "      <td>USER</td>\n",
       "      <td>7</td>\n",
       "      <td>4</td>\n",
       "      <td>9</td>\n",
       "      <td>3</td>\n",
       "      <td>2</td>\n",
       "      <td>1</td>\n",
       "      <td>2</td>\n",
       "      <td>0</td>\n",
       "      <td>0</td>\n",
       "    </tr>\n",
       "    <tr>\n",
       "      <th>1538</th>\n",
       "      <td>83738cba-e965-4eeb-873e-6e576c83118f</td>\n",
       "      <td>Il faut adapter les vestiaires des enfants à l...</td>\n",
       "      <td>il-faut-adapter-les-vestiaires-des-enfants-a-l...</td>\n",
       "      <td>2024-03-28T15:32:31.427Z</td>\n",
       "      <td>2024-04-05T09:00:40.920Z</td>\n",
       "      <td>30</td>\n",
       "      <td>11</td>\n",
       "      <td>4</td>\n",
       "      <td>3cd92c36-df5b-4392-b529-525acea3b72c</td>\n",
       "      <td>29.0</td>\n",
       "      <td>USER</td>\n",
       "      <td>7</td>\n",
       "      <td>4</td>\n",
       "      <td>6</td>\n",
       "      <td>3</td>\n",
       "      <td>2</td>\n",
       "      <td>3</td>\n",
       "      <td>2</td>\n",
       "      <td>1</td>\n",
       "      <td>1</td>\n",
       "    </tr>\n",
       "    <tr>\n",
       "      <th>1539</th>\n",
       "      <td>5a74cbd4-e1c0-4645-b4d0-ba5b42b0fd40</td>\n",
       "      <td>Il faut que les sports à hauts revenus partici...</td>\n",
       "      <td>il-faut-que-les-sports-a-hauts-revenus-partici...</td>\n",
       "      <td>2024-04-01T15:08:53.199Z</td>\n",
       "      <td>2024-04-11T12:47:39.922Z</td>\n",
       "      <td>35</td>\n",
       "      <td>3</td>\n",
       "      <td>10</td>\n",
       "      <td>abafb2fd-e805-45df-8170-b551670c811d</td>\n",
       "      <td>50.0</td>\n",
       "      <td>USER</td>\n",
       "      <td>12</td>\n",
       "      <td>3</td>\n",
       "      <td>8</td>\n",
       "      <td>0</td>\n",
       "      <td>0</td>\n",
       "      <td>1</td>\n",
       "      <td>2</td>\n",
       "      <td>2</td>\n",
       "      <td>3</td>\n",
       "    </tr>\n",
       "  </tbody>\n",
       "</table>\n",
       "<p>1540 rows × 20 columns</p>\n",
       "</div>"
      ],
      "text/plain": [
       "                                        id  \\\n",
       "0     82d5eb8f-f953-4e16-9015-9b775ff5f292   \n",
       "1     59ff8102-587a-425e-9976-c4d5d6a268fe   \n",
       "2     66b19692-f947-44c9-9126-33863021098e   \n",
       "3     97c4c337-15d4-4c6e-a108-aefcedeb1666   \n",
       "4     9f71ce59-200c-450a-8987-399eee4fb1dd   \n",
       "...                                    ...   \n",
       "1535  16251ada-5ac5-488f-84d9-8a3a4d74c74c   \n",
       "1536  029568f5-4352-4667-b666-65a2da5565c9   \n",
       "1537  c244a312-43b0-492a-a4c3-61acb664784d   \n",
       "1538  83738cba-e965-4eeb-873e-6e576c83118f   \n",
       "1539  5a74cbd4-e1c0-4645-b4d0-ba5b42b0fd40   \n",
       "\n",
       "                                                content  \\\n",
       "0     Il faut inciter les Français à s'équiper de mo...   \n",
       "1     Il faut demander aux sportifs de haut niveau d...   \n",
       "2     Il faut piétonniser des rues ou routes ou boul...   \n",
       "3     Il faut organiser des compétitions inter-entre...   \n",
       "4     Il faut éduquer dès le plus jeune âge les enfa...   \n",
       "...                                                 ...   \n",
       "1535  Il faut qu'il y ait plus d'offres d'activités ...   \n",
       "1536  Il faut faire des aménagements cyclables ainsi...   \n",
       "1537  Il faut inciter à avoir des douches dans les e...   \n",
       "1538  Il faut adapter les vestiaires des enfants à l...   \n",
       "1539  Il faut que les sports à hauts revenus partici...   \n",
       "\n",
       "                                                   slug  \\\n",
       "0     il-faut-inciter-les-francais-a-s-equiper-de-mo...   \n",
       "1     il-faut-demander-aux-sportifs-de-haut-niveau-d...   \n",
       "2     il-faut-pietonniser-des-rues-ou-routes-ou-boul...   \n",
       "3     il-faut-organiser-des-competitions-inter-entre...   \n",
       "4     il-faut-eduquer-des-le-plus-jeune-age-les-enfa...   \n",
       "...                                                 ...   \n",
       "1535  il-faut-qu-il-y-ait-plus-d-offres-d-activites-...   \n",
       "1536  il-faut-faire-des-amenagements-cyclables-ainsi...   \n",
       "1537  il-faut-inciter-a-avoir-des-douches-dans-les-e...   \n",
       "1538  il-faut-adapter-les-vestiaires-des-enfants-a-l...   \n",
       "1539  il-faut-que-les-sports-a-hauts-revenus-partici...   \n",
       "\n",
       "                     createdAt                 updatedAt  vote_agree  \\\n",
       "0     2024-04-01T07:07:29.747Z  2024-04-04T13:48:06.671Z           0   \n",
       "1     2024-03-25T17:30:50.114Z  2024-03-27T11:55:43.793Z          39   \n",
       "2     2024-03-24T10:05:38.434Z  2024-03-27T11:49:34.740Z          47   \n",
       "3     2024-01-29T10:13:07.672Z  2024-04-09T09:18:23.844Z         210   \n",
       "4     2024-03-28T08:51:45.459Z  2024-03-29T15:25:37.970Z          69   \n",
       "...                        ...                       ...         ...   \n",
       "1535  2024-04-01T07:57:23.506Z  2024-04-11T12:47:39.853Z          28   \n",
       "1536  2024-03-30T11:59:17.932Z  2024-04-11T12:47:39.749Z          33   \n",
       "1537  2024-03-31T07:42:57.843Z  2024-04-04T13:41:00.414Z          33   \n",
       "1538  2024-03-28T15:32:31.427Z  2024-04-05T09:00:40.920Z          30   \n",
       "1539  2024-04-01T15:08:53.199Z  2024-04-11T12:47:39.922Z          35   \n",
       "\n",
       "      vote_neutral  vote_disagree                             author_id  \\\n",
       "0                6             10  4fad3035-1a13-4ed5-b81a-e1f400e7c665   \n",
       "1               29             19  e1606f3c-5d45-4a0e-b2da-7455125ca204   \n",
       "2               18             18  b3589dd5-a215-481a-983c-0e4dff1e0763   \n",
       "3              155            205  22448ef2-cae9-42b5-9663-3bcd333fa231   \n",
       "4               13              4  cbc394ac-1fe0-48e0-ac3f-8b463ed71967   \n",
       "...            ...            ...                                   ...   \n",
       "1535             3              2  6f660e94-cf68-4ca3-b431-0e21da54ec46   \n",
       "1536             9              3  d9822c10-8d91-4d56-905d-95c91234ba61   \n",
       "1537             9              3  678b91c1-2f43-4336-a000-522e8fa2e400   \n",
       "1538            11              4  3cd92c36-df5b-4392-b529-525acea3b72c   \n",
       "1539             3             10  abafb2fd-e805-45df-8170-b551670c811d   \n",
       "\n",
       "      author_age author_type  agree_likeit  agree_platitudeagree  \\\n",
       "0           61.0        USER             0                     0   \n",
       "1           50.0        USER             6                     6   \n",
       "2           66.0        USER            13                     4   \n",
       "3           20.0        USER            38                    21   \n",
       "4           50.0        USER            14                     6   \n",
       "...          ...         ...           ...                   ...   \n",
       "1535        50.0        USER             8                     1   \n",
       "1536        68.0        USER             5                     3   \n",
       "1537        51.0        USER             7                     4   \n",
       "1538        29.0        USER             7                     4   \n",
       "1539        50.0        USER            12                     3   \n",
       "\n",
       "      agree_doable  neutral_noOpinion  neutral_doNotUnderstand  \\\n",
       "0                0                  1                        0   \n",
       "1               14                 14                        0   \n",
       "2               16                  7                        2   \n",
       "3               60                 48                        4   \n",
       "4               24                  2                        6   \n",
       "...            ...                ...                      ...   \n",
       "1535             8                  0                        1   \n",
       "1536            12                  3                        2   \n",
       "1537             9                  3                        2   \n",
       "1538             6                  3                        2   \n",
       "1539             8                  0                        0   \n",
       "\n",
       "      neutral_doNotCare  disagree_impossible  disagree_noWay  \\\n",
       "0                     3                    1               5   \n",
       "1                     9                    2               5   \n",
       "2                     3                    2               8   \n",
       "3                    52                   41              57   \n",
       "4                     3                    0               1   \n",
       "...                 ...                  ...             ...   \n",
       "1535                  0                    0               2   \n",
       "1536                  3                    0               2   \n",
       "1537                  1                    2               0   \n",
       "1538                  3                    2               1   \n",
       "1539                  1                    2               2   \n",
       "\n",
       "      disagree_platitudeDisagree  \n",
       "0                              3  \n",
       "1                              7  \n",
       "2                              3  \n",
       "3                             62  \n",
       "4                              3  \n",
       "...                          ...  \n",
       "1535                           0  \n",
       "1536                           0  \n",
       "1537                           0  \n",
       "1538                           1  \n",
       "1539                           3  \n",
       "\n",
       "[1540 rows x 20 columns]"
      ]
     },
     "execution_count": 36,
     "metadata": {},
     "output_type": "execute_result"
    }
   ],
   "source": [
    "df_f"
   ]
  },
  {
   "cell_type": "code",
   "execution_count": 37,
   "id": "049b40b1",
   "metadata": {},
   "outputs": [
    {
     "data": {
      "text/plain": [
       "author_id\n",
       "6f660e94-cf68-4ca3-b431-0e21da54ec46    21\n",
       "946d70a5-b382-47ee-bf36-a13c75f8a7f8    19\n",
       "c21e71f9-aff9-43dc-bea1-75e5aeca4c4f    17\n",
       "10060f7b-5bc7-4e91-af11-2e796a9fc642    15\n",
       "dc488b7b-23f0-4d69-b5ed-00ca74eb84b5    14\n",
       "                                        ..\n",
       "f754466e-e6f9-4104-9cd0-980c607f94de     1\n",
       "1f583dd4-8027-4740-affe-ef3b447f8272     1\n",
       "aec1d07f-a49d-4e22-9996-440710786486     1\n",
       "e67078eb-beb8-477a-a39e-0e74acb621d7     1\n",
       "678b91c1-2f43-4336-a000-522e8fa2e400     1\n",
       "Name: count, Length: 969, dtype: int64"
      ]
     },
     "execution_count": 37,
     "metadata": {},
     "output_type": "execute_result"
    }
   ],
   "source": [
    "df_f[\"author_id\"].value_counts()"
   ]
  },
  {
   "cell_type": "markdown",
   "id": "83d95c8a",
   "metadata": {},
   "source": [
    "# Traitement des textes "
   ]
  },
  {
   "cell_type": "code",
   "execution_count": 38,
   "id": "69be8174",
   "metadata": {},
   "outputs": [],
   "source": [
    "df = df_f.copy()"
   ]
  },
  {
   "cell_type": "code",
   "execution_count": 39,
   "id": "7225ac88",
   "metadata": {},
   "outputs": [],
   "source": [
    "import spacy"
   ]
  },
  {
   "cell_type": "code",
   "execution_count": 40,
   "id": "9f5b7964",
   "metadata": {},
   "outputs": [
    {
     "name": "stdout",
     "output_type": "stream",
     "text": [
      "Collecting fr-core-news-md==3.8.0\n",
      "  Downloading https://github.com/explosion/spacy-models/releases/download/fr_core_news_md-3.8.0/fr_core_news_md-3.8.0-py3-none-any.whl (45.8 MB)\n",
      "     ---------------------------------------- 0.0/45.8 MB ? eta -:--:--\n",
      "     ------- -------------------------------- 8.1/45.8 MB 35.9 MB/s eta 0:00:02\n",
      "     -------------- ------------------------ 16.8/45.8 MB 39.1 MB/s eta 0:00:01\n",
      "     --------------------- ----------------- 25.7/45.8 MB 39.7 MB/s eta 0:00:01\n",
      "     ---------------------------- ---------- 33.6/45.8 MB 38.8 MB/s eta 0:00:01\n",
      "     ----------------------------------- --- 41.2/45.8 MB 37.9 MB/s eta 0:00:01\n",
      "     --------------------------------------  45.6/45.8 MB 38.2 MB/s eta 0:00:01\n",
      "     --------------------------------------  45.6/45.8 MB 38.2 MB/s eta 0:00:01\n",
      "     --------------------------------------  45.6/45.8 MB 38.2 MB/s eta 0:00:01\n",
      "     --------------------------------------  45.6/45.8 MB 38.2 MB/s eta 0:00:01\n",
      "     --------------------------------------  45.6/45.8 MB 38.2 MB/s eta 0:00:01\n",
      "     --------------------------------------  45.6/45.8 MB 38.2 MB/s eta 0:00:01\n",
      "     --------------------------------------  45.6/45.8 MB 38.2 MB/s eta 0:00:01\n",
      "     --------------------------------------- 45.8/45.8 MB 17.7 MB/s eta 0:00:00\n",
      "\u001b[38;5;2m✔ Download and installation successful\u001b[0m\n",
      "You can now load the package via spacy.load('fr_core_news_md')\n"
     ]
    },
    {
     "name": "stderr",
     "output_type": "stream",
     "text": [
      "\n",
      "[notice] A new release of pip is available: 25.0.1 -> 25.1.1\n",
      "[notice] To update, run: python.exe -m pip install --upgrade pip\n"
     ]
    }
   ],
   "source": [
    "!python -m spacy download fr_core_news_md\n"
   ]
  },
  {
   "cell_type": "markdown",
   "id": "ed1ed889",
   "metadata": {},
   "source": [
    "# PREPOCESSING DES CORPUS "
   ]
  },
  {
   "cell_type": "code",
   "execution_count": 41,
   "id": "dc04f9fb",
   "metadata": {},
   "outputs": [
    {
     "name": "stdout",
     "output_type": "stream",
     "text": [
      "                                             content  \\\n",
      "0  Il faut inciter les Français à s'équiper de mo...   \n",
      "1  Il faut demander aux sportifs de haut niveau d...   \n",
      "2  Il faut piétonniser des rues ou routes ou boul...   \n",
      "3  Il faut organiser des compétitions inter-entre...   \n",
      "4  Il faut éduquer dès le plus jeune âge les enfa...   \n",
      "\n",
      "                                              tokens  \n",
      "0  [falloir, inciter, francai, equiper, montre, c...  \n",
      "1  [falloir, demander, sportif, haut, niveau, exp...  \n",
      "2  [falloir, pietonniser, rue, route, boulevard, ...  \n",
      "3      [falloir, organiser, competition, mediatiser]  \n",
      "4  [falloir, eduquer, jeune, age, enfant, exercic...  \n"
     ]
    }
   ],
   "source": [
    "import spacy\n",
    "import pandas as pd\n",
    "from unidecode import unidecode  # << IMPORT ici\n",
    "\n",
    "# 1. Chargement du modèle spaCy\n",
    "nlp = spacy.load('fr_core_news_md')\n",
    "\n",
    "# 2. Fonction de prétraitement améliorée\n",
    "def preprocess(text):\n",
    "    text = unidecode(text.lower())  # Mise en minuscules + suppression des accents\n",
    "    doc = nlp(text)\n",
    "    return [token.lemma_ for token in doc if token.is_alpha and not token.is_stop]\n",
    "\n",
    "# 3. Application sur la colonne 'content'\n",
    "df['tokens'] = df['content'].astype(str).apply(preprocess)\n",
    "\n",
    "# Aperçu\n",
    "print(df[['content', 'tokens']].head())\n"
   ]
  },
  {
   "cell_type": "code",
   "execution_count": 42,
   "id": "82641d59",
   "metadata": {},
   "outputs": [],
   "source": [
    "# 2. Supprimer les mots les plus fréquents (stop words)\n",
    "from collections import Counter\n",
    "\n",
    "all_tokens = [token for tokens in df['tokens'] for token in tokens]\n",
    "top_n = 20\n",
    "most_common_words = set([w for w, _ in Counter(all_tokens).most_common(top_n)])\n",
    "\n",
    "def remove_common(tokens):\n",
    "    return [t for t in tokens if t not in most_common_words]\n",
    "\n",
    "df['tokens'] = df['tokens'].apply(remove_common)"
   ]
  },
  {
   "cell_type": "code",
   "execution_count": 43,
   "id": "0def88a6",
   "metadata": {},
   "outputs": [
    {
     "data": {
      "text/html": [
       "<div>\n",
       "<style scoped>\n",
       "    .dataframe tbody tr th:only-of-type {\n",
       "        vertical-align: middle;\n",
       "    }\n",
       "\n",
       "    .dataframe tbody tr th {\n",
       "        vertical-align: top;\n",
       "    }\n",
       "\n",
       "    .dataframe thead th {\n",
       "        text-align: right;\n",
       "    }\n",
       "</style>\n",
       "<table border=\"1\" class=\"dataframe\">\n",
       "  <thead>\n",
       "    <tr style=\"text-align: right;\">\n",
       "      <th></th>\n",
       "      <th>content</th>\n",
       "      <th>tokens</th>\n",
       "    </tr>\n",
       "  </thead>\n",
       "  <tbody>\n",
       "    <tr>\n",
       "      <th>0</th>\n",
       "      <td>Il faut inciter les Français à s'équiper de mo...</td>\n",
       "      <td>[inciter, francai, equiper, montre, connecteer...</td>\n",
       "    </tr>\n",
       "    <tr>\n",
       "      <th>1</th>\n",
       "      <td>Il faut demander aux sportifs de haut niveau d...</td>\n",
       "      <td>[demander, haut, niveau, expliquer, public, ex...</td>\n",
       "    </tr>\n",
       "    <tr>\n",
       "      <th>2</th>\n",
       "      <td>Il faut piétonniser des rues ou routes ou boul...</td>\n",
       "      <td>[pietonniser, rue, route, boulevard, inciter, ...</td>\n",
       "    </tr>\n",
       "    <tr>\n",
       "      <th>3</th>\n",
       "      <td>Il faut organiser des compétitions inter-entre...</td>\n",
       "      <td>[organiser, competition, mediatiser]</td>\n",
       "    </tr>\n",
       "    <tr>\n",
       "      <th>4</th>\n",
       "      <td>Il faut éduquer dès le plus jeune âge les enfa...</td>\n",
       "      <td>[eduquer, age, exercice, simple, disponible, a...</td>\n",
       "    </tr>\n",
       "  </tbody>\n",
       "</table>\n",
       "</div>"
      ],
      "text/plain": [
       "                                             content  \\\n",
       "0  Il faut inciter les Français à s'équiper de mo...   \n",
       "1  Il faut demander aux sportifs de haut niveau d...   \n",
       "2  Il faut piétonniser des rues ou routes ou boul...   \n",
       "3  Il faut organiser des compétitions inter-entre...   \n",
       "4  Il faut éduquer dès le plus jeune âge les enfa...   \n",
       "\n",
       "                                              tokens  \n",
       "0  [inciter, francai, equiper, montre, connecteer...  \n",
       "1  [demander, haut, niveau, expliquer, public, ex...  \n",
       "2  [pietonniser, rue, route, boulevard, inciter, ...  \n",
       "3               [organiser, competition, mediatiser]  \n",
       "4  [eduquer, age, exercice, simple, disponible, a...  "
      ]
     },
     "execution_count": 43,
     "metadata": {},
     "output_type": "execute_result"
    }
   ],
   "source": [
    "df[['content','tokens']].head()"
   ]
  },
  {
   "cell_type": "markdown",
   "id": "c4659d3b",
   "metadata": {},
   "source": [
    "# VECTORISATION AVEC WORD2VEC"
   ]
  },
  {
   "cell_type": "code",
   "execution_count": 44,
   "id": "84781793",
   "metadata": {},
   "outputs": [],
   "source": [
    "from gensim.models import Word2Vec"
   ]
  },
  {
   "cell_type": "code",
   "execution_count": 45,
   "id": "5241bfb6",
   "metadata": {},
   "outputs": [],
   "source": [
    "from gensim.models import Word2Vec"
   ]
  },
  {
   "cell_type": "code",
   "execution_count": 46,
   "id": "bedcfbc6",
   "metadata": {},
   "outputs": [
    {
     "data": {
      "text/plain": [
       "13"
      ]
     },
     "execution_count": 46,
     "metadata": {},
     "output_type": "execute_result"
    }
   ],
   "source": [
    "MAX=np.max([len(l) for l in df[\"tokens\"]])\n",
    "MAX"
   ]
  },
  {
   "cell_type": "markdown",
   "id": "0180c3f1",
   "metadata": {},
   "source": [
    "## Vectorisation"
   ]
  },
  {
   "cell_type": "code",
   "execution_count": 47,
   "id": "51d9e64b",
   "metadata": {},
   "outputs": [],
   "source": [
    "# 1. Entraînement du modèle Word2Vec\n",
    "model = Word2Vec(\n",
    "    sentences=df['tokens'],   # On utilise directement la liste de tokens\n",
    "    vector_size=50,          # Dimension des vecteurs (tu peux changer, ex: 50, 200)\n",
    "    window=MAX,                 # Taille du contexte (nombre de mots autour)\n",
    "    min_count=1,              # Ignore les mots apparaissant moins de 2 fois\n",
    "    sg=0                      # 1 = skip-gram ; 0 = CBOW\n",
    ")\n",
    "\n",
    "# 2. Sauvegarder ou charger ton modèle si besoin\n",
    "model.save(\"word2vec.model\")\n",
    "model = Word2Vec.load(\"word2vec.model\")\n"
   ]
  },
  {
   "cell_type": "code",
   "execution_count": 48,
   "id": "8c9e2092",
   "metadata": {},
   "outputs": [],
   "source": [
    " # 3. Obtenir les vecteurs pour chaque mot"
   ]
  },
  {
   "cell_type": "code",
   "execution_count": 49,
   "id": "e34de136",
   "metadata": {},
   "outputs": [
    {
     "data": {
      "text/html": [
       "<div>\n",
       "<style scoped>\n",
       "    .dataframe tbody tr th:only-of-type {\n",
       "        vertical-align: middle;\n",
       "    }\n",
       "\n",
       "    .dataframe tbody tr th {\n",
       "        vertical-align: top;\n",
       "    }\n",
       "\n",
       "    .dataframe thead th {\n",
       "        text-align: right;\n",
       "    }\n",
       "</style>\n",
       "<table border=\"1\" class=\"dataframe\">\n",
       "  <thead>\n",
       "    <tr style=\"text-align: right;\">\n",
       "      <th></th>\n",
       "      <th>tokens</th>\n",
       "      <th>vectors</th>\n",
       "    </tr>\n",
       "  </thead>\n",
       "  <tbody>\n",
       "    <tr>\n",
       "      <th>0</th>\n",
       "      <td>[inciter, francai, equiper, montre, connecteer...</td>\n",
       "      <td>[[0.014468676, -0.014729222, -0.0018956613, -0...</td>\n",
       "    </tr>\n",
       "    <tr>\n",
       "      <th>1</th>\n",
       "      <td>[demander, haut, niveau, expliquer, public, ex...</td>\n",
       "      <td>[[0.017099988, 0.010992155, 0.017856834, 0.003...</td>\n",
       "    </tr>\n",
       "    <tr>\n",
       "      <th>2</th>\n",
       "      <td>[pietonniser, rue, route, boulevard, inciter, ...</td>\n",
       "      <td>[[0.012482426, 0.017164085, -0.00494617, 0.019...</td>\n",
       "    </tr>\n",
       "    <tr>\n",
       "      <th>3</th>\n",
       "      <td>[organiser, competition, mediatiser]</td>\n",
       "      <td>[[0.010907331, -0.009554288, -0.0118495105, 2....</td>\n",
       "    </tr>\n",
       "    <tr>\n",
       "      <th>4</th>\n",
       "      <td>[eduquer, age, exercice, simple, disponible, a...</td>\n",
       "      <td>[[-0.005599727, 0.0120543465, -0.000413138, -0...</td>\n",
       "    </tr>\n",
       "  </tbody>\n",
       "</table>\n",
       "</div>"
      ],
      "text/plain": [
       "                                              tokens  \\\n",
       "0  [inciter, francai, equiper, montre, connecteer...   \n",
       "1  [demander, haut, niveau, expliquer, public, ex...   \n",
       "2  [pietonniser, rue, route, boulevard, inciter, ...   \n",
       "3               [organiser, competition, mediatiser]   \n",
       "4  [eduquer, age, exercice, simple, disponible, a...   \n",
       "\n",
       "                                             vectors  \n",
       "0  [[0.014468676, -0.014729222, -0.0018956613, -0...  \n",
       "1  [[0.017099988, 0.010992155, 0.017856834, 0.003...  \n",
       "2  [[0.012482426, 0.017164085, -0.00494617, 0.019...  \n",
       "3  [[0.010907331, -0.009554288, -0.0118495105, 2....  \n",
       "4  [[-0.005599727, 0.0120543465, -0.000413138, -0...  "
      ]
     },
     "execution_count": 49,
     "metadata": {},
     "output_type": "execute_result"
    }
   ],
   "source": [
    "def get_token_vector(tokens):\n",
    "    list_vector = []\n",
    "    for t in tokens :\n",
    "        list_vector.append(model.wv[t])\n",
    "    return list_vector\n",
    "\n",
    "\n",
    "# application de la fonction sur la colonne 'tokens'\n",
    "df['vectors'] = df['tokens'].apply(get_token_vector)      \n",
    "df[['tokens', 'vectors']].head()"
   ]
  },
  {
   "cell_type": "markdown",
   "id": "1445e517",
   "metadata": {},
   "source": [
    "## Visualisation du nuage de point par TSNE"
   ]
  },
  {
   "cell_type": "code",
   "execution_count": 50,
   "id": "5c34e5c6",
   "metadata": {},
   "outputs": [
    {
     "name": "stderr",
     "output_type": "stream",
     "text": [
      "c:\\Users\\LENOVO PC\\AppData\\Local\\Programs\\Python\\Python312\\Lib\\site-packages\\sklearn\\manifold\\_t_sne.py:1162: FutureWarning: 'n_iter' was renamed to 'max_iter' in version 1.5 and will be removed in 1.7.\n",
      "  warnings.warn(\n"
     ]
    },
    {
     "data": {
      "application/vnd.plotly.v1+json": {
       "config": {
        "plotlyServerURL": "https://plot.ly"
       },
       "data": [
        {
         "hovertemplate": "<b>%{hovertext}</b><br><br>x=%{x}<br>y=%{y}<extra></extra>",
         "hovertext": [
          "permettre",
          "creer",
          "pouvoir",
          "personne",
          "place",
          "velo",
          "public",
          "age",
          "acce",
          "salle",
          "heure",
          "pratiquer",
          "accessible",
          "cours",
          "ville",
          "gratuit",
          "donner",
          "equipement",
          "aider",
          "social",
          "scolaire",
          "non",
          "lieu",
          "encourager",
          "faciliter",
          "inciter",
          "infrastructure",
          "prendre",
          "integrer",
          "jeu",
          "benevole",
          "ep",
          "être",
          "competition",
          "espace",
          "primaire",
          "senior",
          "commune",
          "quotidien",
          "journee",
          "augmenter",
          "bienfait",
          "semaine",
          "mieux",
          "jour",
          "cyclable",
          "promouvoir",
          "moyen",
          "college",
          "ludique",
          "offrir",
          "bien",
          "pied",
          "salarie",
          "davantage",
          "plaisir",
          "parent",
          "adulte",
          "piste",
          "prix",
          "grand",
          "structure",
          "niveau",
          "horaire",
          "charge",
          "nombre",
          "organiser",
          "securite",
          "abonnement",
          "seance",
          "licence",
          "bouger",
          "marche",
          "an",
          "aide",
          "parcours",
          "famille",
          "adapter",
          "lycee",
          "terrain",
          "exemple",
          "valoriser",
          "vie",
          "petit",
          "obligatoire",
          "pause",
          "etat",
          "loisir",
          "bon",
          "local",
          "sein",
          "aller",
          "creneau",
          "federation",
          "educateur",
          "arreter",
          "formation",
          "performance",
          "francai",
          "maternelle",
          "culture",
          "employeur",
          "programme",
          "deplacement",
          "obliger",
          "multisport",
          "rembourser",
          "installation",
          "objectif",
          "materiel",
          "financier",
          "midi",
          "ouvrir",
          "emploi",
          "matin",
          "inscrire",
          "sensibiliser",
          "beaucoup",
          "sant",
          "groupe",
          "milieu",
          "handicap",
          "forme",
          "professionnel",
          "haut",
          "rural",
          "discipline",
          "gymnase",
          "plein",
          "envie",
          "femme",
          "medecin",
          "doux",
          "libre",
          "proximite",
          "transport",
          "trouver",
          "prise",
          "voir",
          "campagne",
          "dedie",
          "quartier",
          "accompagner",
          "centre",
          "budget",
          "cout",
          "nouveau",
          "fonction",
          "decouvrir",
          "education",
          "renforcer",
          "service",
          "actif",
          "annee",
          "air",
          "parc",
          "construire",
          "remettre",
          "etude",
          "exercice",
          "voiture",
          "trop",
          "equipe",
          "cher",
          "decouverte",
          "esprit",
          "ameliorer",
          "gym",
          "evenement",
          "inscription",
          "lien",
          "payer",
          "national",
          "amenager",
          "inclure",
          "stade",
          "adaptee",
          "modele",
          "yoga",
          "retraite",
          "soutenir",
          "offre",
          "maladie",
          "animateur",
          "organisation",
          "possibilite",
          "ex",
          "marcher",
          "interdire",
          "mairie",
          "baisser",
          "utiliser",
          "meilleur",
          "subvention",
          "exterieur",
          "mutuel",
          "participer",
          "partie",
          "long",
          "coach",
          "contre",
          "situation",
          "maison",
          "patient",
          "population",
          "action",
          "enseignant",
          "choix",
          "prescrire",
          "travailler",
          "ca",
          "motiver",
          "piscine",
          "systeme",
          "olympique",
          "acceder",
          "gratuitement",
          "expliquer",
          "imposer",
          "citoyen",
          "gout",
          "adapteer",
          "apa",
          "disposition",
          "medicament",
          "eleve",
          "corps",
          "minute",
          "france",
          "sedentarite",
          "territoire",
          "mouvement",
          "collectivite",
          "pass",
          "financierement",
          "douche",
          "financer",
          "savoir",
          "reduire",
          "cotisation",
          "prof",
          "jo",
          "qualite",
          "habitude",
          "avoir",
          "village",
          "regulierement",
          "tarif",
          "disponible",
          "zone",
          "passer",
          "associatif",
          "former",
          "besoin",
          "collectif",
          "application",
          "interet",
          "course",
          "financement",
          "etablissement",
          "tot",
          "gratuite",
          "aps",
          "matiere",
          "poste",
          "accer",
          "devenir",
          "diminuer",
          "soir",
          "revoir",
          "commencer",
          "limiter",
          "inclusion",
          "eviter",
          "vestiaire",
          "ensemble",
          "vrai",
          "medical",
          "partir",
          "trajet",
          "apprentissage",
          "chronique",
          "entraineur",
          "commun",
          "encadrement",
          "mobilite",
          "important",
          "lutter",
          "reseau",
          "urbain",
          "exister",
          "connaitre",
          "amenagement",
          "cesser",
          "instaurer",
          "reguliere",
          "choisir",
          "mental",
          "projet",
          "accompagnement"
         ],
         "legendgroup": "",
         "marker": {
          "color": "blue",
          "size": 6,
          "symbol": "circle"
         },
         "mode": "markers",
         "name": "",
         "orientation": "v",
         "showlegend": false,
         "textposition": "top center",
         "type": "scatter",
         "x": {
          "bdata": "dTcsQJCXgUBkEKdA38AqPznuckB9qIpAkZSTQNNAg0BaKc1ADeptQJZHjD0QHhRAeeyMP705TUBoqQhAMKeoPy6UbUAASJhAD+7nP0+7pD45Lwm/uIemP6sccL/ZKmlAobwgQLAYfEDz5d5AZpqBQPbmyUC+KKK+a6+IQDvGHUBPig1AF+XtQCBe+r+AOhvAy6kCwAutq0DxnMg/Fk7avuw7mzqMGRpAAI1Hv8eS6z8xJlxAkDscPpAemkCuYNg/2AWeQP2XncAEQa0/SJH8PzygwUAnQCvARWpTvzJ6kEBrwX0+WEbPv6W+IEAskoU/d8bBwIMsYEAdFEpA+XshQJfkYL9SFKdAASFoPj4mC8DE/1ZAkDqmQIxkTcDhONE/XctVvyEUZb6Z/ANAkUhJQBrvRMCJlle/tuylQH8r2j/zuP2/fkCUQERcvr628oLAGs3ewMEzH0C5MCG/mWt+wNO5MUCPvO9AZWaEwA3avj/SR4e/MqLtPvlO17+QxKs+hmKawMXWGEDgKzVAFa6JwNc8gsBLqT1AHDCpv7gdW0AjvXG/gZyvwGodnz9C1TxANVJiQGs47kDdnDTAgq43v6JLkECexBw+nPjUPj5QFkCLKdA+i6SzQJPMjsDERO+/Eh6twAHLwEBMWtLAzH3zv/ybOD8S3WdA9acJwO3gQL+AYBxAyWiHv3t33z8uQJZAqfLGPzp+5j9Axb5A23IRQMZJhcCBp89AIagpQIz+c0DiyU/ALR8Kv762l8BV1WpAgUgBvxM3akB/p4RA7lzUQM8X9r8Enb3ACrs1vs9+bcADF7E/zO+uv5JyEz8kx1u/eu2iQFdAjUARLlg/lHqiP2eS/T94KSzAt9eEP7+ecEAmOYTADgAxwI72Kr+Rt4tAPM1RwGyhYb6+RYZACjhcPx+z0b/xUI/AMkilv+TyFD/fjMA/EEkswFgau0BpQnBAAHK4QJNc/z/oPYTAs8+OQG757L9z1lDAeDsbPmAWIUDLmzXASr0mPk2QqL9iplw/2TQSP2f3Q8AkIedALQUsv8T5kr7T2tu/Aw72vhx5CMBik25AZwuBwO+/v8AqGAFAvIjfwPcZDkCbi4TAvGLTP1htGL+b+LLAn+CIQK2o/b9k/kxA1c0GQEQchb92nhbA0oUhwC2Xkz/sGgXAMy6ZP7Bl00D1hGc/yToYwFRx5D+MDoLAkt7LwNMNDL48Z6DA7MG0QAAUCT5ctHVASnuQQO0aScBkVitACqApQKPlS0BDLRHAtErvvwUUtD/cxJq/0tPivwDrP8AtmoLApMJXwA6BXz85RzbARMqawNp2fj/8QixAi0knwP7UekDCobbACiH9PepIxcBZuHrAHs14QBziYsDFaJFA/d2twMUsZD/PB8A/bqFJwM4+a8BolvM/po+LwOuK9r71EiLAgrKzPF6cncBDS0jAgm+pwCTUBz/o5i4/2OsHwDTxs8D6jQ2/rqYtQJ3HDkDExB/AkQCxwOHOUMAMeZTAoz+0v7Sp4L+jkJvAssgJwDVvCMBkl0+/NcFEwPyGt76Kr0W/a6ZEQLYhk7++e5NA2IVWvwIgSMA9H0Y/nFS+wB+qmMBrj2W9",
          "dtype": "f4"
         },
         "xaxis": "x",
         "y": {
          "bdata": "Qp8bQdzmFEFaqgZBVQ0QQTXdBUEWsdlA4cXiQOeo+EBM0d1AlYrDQJ0g+0DNHw5BbvYTQQk750BIbQpB0Ox2QJdBEUGxlq9AyA7SQBNlyUCKB+9A1zPfQI713kCP+0tAiZ99PzQ0rkChh95A6EqSv11YlEDXjAFBGgAcQVi7NECsoRxBA8hLQPejrECW7flAx4O2QE8Q4kCbGwVBo62hQH/Aj0AWse9Av8vHwK4hrkB8HUu+fT+WQHDD7MDxuLJA6iKwQC2YjUBHjvlAVarOQGZW0EAUuok/jIByQOSPkED/NxtB4PNSQO+/y0Cfh7VAbnhiP+rRDUGKTfBABCczv/Ccz0ArnMlACo/cQJBy1b/tgJpAcIP3QFHUM0DZtJFAgfMRQQ50yD8nzARBRnvlQB24YkCbccDAgmfdv/tqvj+ERiNA1hhtQKI9YkD1KItA85qIwEyy+T8W6bNAkC3SQFjeC0BpvzFAHSm+P49sjEBZ5IbAezizQAlFiECw685ALEEzP72HJr0imKxA1jWEwG9Ni0B5yRDBCs/cQK3qNj8x+s7Ad36FwKazCECRLHXAViCHQJuMWEDvhZVAKKwQQEnx6T6IXUBANhmVvyIsT0DnxIc/+PU/QJzVEr/uOY5Aua8hQLxQIsDuaWs/eDq4wLPowkCUuL5AjyfgvVRSocBZEpJA0KkKwB4Ekz+iQKS//dj+PKM6HMCkXYHAsrN5wKE7VL+zs6I/+eHOQPrHir9r0bHAV86XP1GdKEDlnYo/RPSMPwkT/D/bzIbAFp8fP6ajzD9/dFa/4Y7pv+KnxsBMknHAFpRbv+o7Fz7NboDA3+DSP0TD58DrwefAVNjdv7W3z8CjSRzAjVNSwDVMEUBvZMRApHUgQG++T0ADNlfA2f9qwHRg48AFEmDAtXVsvoV3KsC9+I3A5tjYv1DQrMCRhAnBJMcmQL2Bl8DGuhtAwU6LwPpmkb+++rm+JJydwAphtz8muY7AdamCP7sgmcBaMZjAuCzLwMcoLcBlp0S/zZc/QKGvCz7BXau/zhpgwNWRFsF10QnBv2aIwJ743L/84hfAk/Tpv0aINsDNDurAzZaev3l5G8B3017A+raTwG8zpL998EnANpv6P+QuvMAeMdO/zPJzv3cM1T4zlDjA7tR2wKrG/D+FU4/AFdVLwKUeSr+FKfe/hf+/v1VjpsBMjydAQmVAvxLFPsD2M6DAHt06QH2xusDxQsXAA2MeP4bjrcC7cK/AN4xowF7NoMAjntS+fDhzwJHceEAY4iu/P3atwFt/rr5/rtS/fzIGwQKKecA0ndXABmIdP5vx5cBJUv6/pbL9wKtNoMDjz7rAYZgXwSgZM8BUFdLA+3DmwO6pLcDNfqPAxxFXwCOvAMHXMsHAu30dv6znyD/nQAXAMLkowN76U7+0Pa++dgOdwMrj68A1Px0/jejev4zdiMAFwovAhnbnwLsuv8DLPjPAeOfiwLy6l8AVPnrAIdl7QJlVIcALsbK/yUQHwSCgTcCFWOnAnuLlwM3qa8AEYz8+Mx6OvzpdA8DwOunADES8wJjt/sCYSEY+eomIwCzFqsC9YmbA8Gq6wH/mlcCEzTnA",
          "dtype": "f4"
         },
         "yaxis": "y"
        }
       ],
       "layout": {
        "height": 700,
        "legend": {
         "tracegroupgap": 0
        },
        "template": {
         "data": {
          "bar": [
           {
            "error_x": {
             "color": "#2a3f5f"
            },
            "error_y": {
             "color": "#2a3f5f"
            },
            "marker": {
             "line": {
              "color": "#E5ECF6",
              "width": 0.5
             },
             "pattern": {
              "fillmode": "overlay",
              "size": 10,
              "solidity": 0.2
             }
            },
            "type": "bar"
           }
          ],
          "barpolar": [
           {
            "marker": {
             "line": {
              "color": "#E5ECF6",
              "width": 0.5
             },
             "pattern": {
              "fillmode": "overlay",
              "size": 10,
              "solidity": 0.2
             }
            },
            "type": "barpolar"
           }
          ],
          "carpet": [
           {
            "aaxis": {
             "endlinecolor": "#2a3f5f",
             "gridcolor": "white",
             "linecolor": "white",
             "minorgridcolor": "white",
             "startlinecolor": "#2a3f5f"
            },
            "baxis": {
             "endlinecolor": "#2a3f5f",
             "gridcolor": "white",
             "linecolor": "white",
             "minorgridcolor": "white",
             "startlinecolor": "#2a3f5f"
            },
            "type": "carpet"
           }
          ],
          "choropleth": [
           {
            "colorbar": {
             "outlinewidth": 0,
             "ticks": ""
            },
            "type": "choropleth"
           }
          ],
          "contour": [
           {
            "colorbar": {
             "outlinewidth": 0,
             "ticks": ""
            },
            "colorscale": [
             [
              0,
              "#0d0887"
             ],
             [
              0.1111111111111111,
              "#46039f"
             ],
             [
              0.2222222222222222,
              "#7201a8"
             ],
             [
              0.3333333333333333,
              "#9c179e"
             ],
             [
              0.4444444444444444,
              "#bd3786"
             ],
             [
              0.5555555555555556,
              "#d8576b"
             ],
             [
              0.6666666666666666,
              "#ed7953"
             ],
             [
              0.7777777777777778,
              "#fb9f3a"
             ],
             [
              0.8888888888888888,
              "#fdca26"
             ],
             [
              1,
              "#f0f921"
             ]
            ],
            "type": "contour"
           }
          ],
          "contourcarpet": [
           {
            "colorbar": {
             "outlinewidth": 0,
             "ticks": ""
            },
            "type": "contourcarpet"
           }
          ],
          "heatmap": [
           {
            "colorbar": {
             "outlinewidth": 0,
             "ticks": ""
            },
            "colorscale": [
             [
              0,
              "#0d0887"
             ],
             [
              0.1111111111111111,
              "#46039f"
             ],
             [
              0.2222222222222222,
              "#7201a8"
             ],
             [
              0.3333333333333333,
              "#9c179e"
             ],
             [
              0.4444444444444444,
              "#bd3786"
             ],
             [
              0.5555555555555556,
              "#d8576b"
             ],
             [
              0.6666666666666666,
              "#ed7953"
             ],
             [
              0.7777777777777778,
              "#fb9f3a"
             ],
             [
              0.8888888888888888,
              "#fdca26"
             ],
             [
              1,
              "#f0f921"
             ]
            ],
            "type": "heatmap"
           }
          ],
          "histogram": [
           {
            "marker": {
             "pattern": {
              "fillmode": "overlay",
              "size": 10,
              "solidity": 0.2
             }
            },
            "type": "histogram"
           }
          ],
          "histogram2d": [
           {
            "colorbar": {
             "outlinewidth": 0,
             "ticks": ""
            },
            "colorscale": [
             [
              0,
              "#0d0887"
             ],
             [
              0.1111111111111111,
              "#46039f"
             ],
             [
              0.2222222222222222,
              "#7201a8"
             ],
             [
              0.3333333333333333,
              "#9c179e"
             ],
             [
              0.4444444444444444,
              "#bd3786"
             ],
             [
              0.5555555555555556,
              "#d8576b"
             ],
             [
              0.6666666666666666,
              "#ed7953"
             ],
             [
              0.7777777777777778,
              "#fb9f3a"
             ],
             [
              0.8888888888888888,
              "#fdca26"
             ],
             [
              1,
              "#f0f921"
             ]
            ],
            "type": "histogram2d"
           }
          ],
          "histogram2dcontour": [
           {
            "colorbar": {
             "outlinewidth": 0,
             "ticks": ""
            },
            "colorscale": [
             [
              0,
              "#0d0887"
             ],
             [
              0.1111111111111111,
              "#46039f"
             ],
             [
              0.2222222222222222,
              "#7201a8"
             ],
             [
              0.3333333333333333,
              "#9c179e"
             ],
             [
              0.4444444444444444,
              "#bd3786"
             ],
             [
              0.5555555555555556,
              "#d8576b"
             ],
             [
              0.6666666666666666,
              "#ed7953"
             ],
             [
              0.7777777777777778,
              "#fb9f3a"
             ],
             [
              0.8888888888888888,
              "#fdca26"
             ],
             [
              1,
              "#f0f921"
             ]
            ],
            "type": "histogram2dcontour"
           }
          ],
          "mesh3d": [
           {
            "colorbar": {
             "outlinewidth": 0,
             "ticks": ""
            },
            "type": "mesh3d"
           }
          ],
          "parcoords": [
           {
            "line": {
             "colorbar": {
              "outlinewidth": 0,
              "ticks": ""
             }
            },
            "type": "parcoords"
           }
          ],
          "pie": [
           {
            "automargin": true,
            "type": "pie"
           }
          ],
          "scatter": [
           {
            "fillpattern": {
             "fillmode": "overlay",
             "size": 10,
             "solidity": 0.2
            },
            "type": "scatter"
           }
          ],
          "scatter3d": [
           {
            "line": {
             "colorbar": {
              "outlinewidth": 0,
              "ticks": ""
             }
            },
            "marker": {
             "colorbar": {
              "outlinewidth": 0,
              "ticks": ""
             }
            },
            "type": "scatter3d"
           }
          ],
          "scattercarpet": [
           {
            "marker": {
             "colorbar": {
              "outlinewidth": 0,
              "ticks": ""
             }
            },
            "type": "scattercarpet"
           }
          ],
          "scattergeo": [
           {
            "marker": {
             "colorbar": {
              "outlinewidth": 0,
              "ticks": ""
             }
            },
            "type": "scattergeo"
           }
          ],
          "scattergl": [
           {
            "marker": {
             "colorbar": {
              "outlinewidth": 0,
              "ticks": ""
             }
            },
            "type": "scattergl"
           }
          ],
          "scattermap": [
           {
            "marker": {
             "colorbar": {
              "outlinewidth": 0,
              "ticks": ""
             }
            },
            "type": "scattermap"
           }
          ],
          "scattermapbox": [
           {
            "marker": {
             "colorbar": {
              "outlinewidth": 0,
              "ticks": ""
             }
            },
            "type": "scattermapbox"
           }
          ],
          "scatterpolar": [
           {
            "marker": {
             "colorbar": {
              "outlinewidth": 0,
              "ticks": ""
             }
            },
            "type": "scatterpolar"
           }
          ],
          "scatterpolargl": [
           {
            "marker": {
             "colorbar": {
              "outlinewidth": 0,
              "ticks": ""
             }
            },
            "type": "scatterpolargl"
           }
          ],
          "scatterternary": [
           {
            "marker": {
             "colorbar": {
              "outlinewidth": 0,
              "ticks": ""
             }
            },
            "type": "scatterternary"
           }
          ],
          "surface": [
           {
            "colorbar": {
             "outlinewidth": 0,
             "ticks": ""
            },
            "colorscale": [
             [
              0,
              "#0d0887"
             ],
             [
              0.1111111111111111,
              "#46039f"
             ],
             [
              0.2222222222222222,
              "#7201a8"
             ],
             [
              0.3333333333333333,
              "#9c179e"
             ],
             [
              0.4444444444444444,
              "#bd3786"
             ],
             [
              0.5555555555555556,
              "#d8576b"
             ],
             [
              0.6666666666666666,
              "#ed7953"
             ],
             [
              0.7777777777777778,
              "#fb9f3a"
             ],
             [
              0.8888888888888888,
              "#fdca26"
             ],
             [
              1,
              "#f0f921"
             ]
            ],
            "type": "surface"
           }
          ],
          "table": [
           {
            "cells": {
             "fill": {
              "color": "#EBF0F8"
             },
             "line": {
              "color": "white"
             }
            },
            "header": {
             "fill": {
              "color": "#C8D4E3"
             },
             "line": {
              "color": "white"
             }
            },
            "type": "table"
           }
          ]
         },
         "layout": {
          "annotationdefaults": {
           "arrowcolor": "#2a3f5f",
           "arrowhead": 0,
           "arrowwidth": 1
          },
          "autotypenumbers": "strict",
          "coloraxis": {
           "colorbar": {
            "outlinewidth": 0,
            "ticks": ""
           }
          },
          "colorscale": {
           "diverging": [
            [
             0,
             "#8e0152"
            ],
            [
             0.1,
             "#c51b7d"
            ],
            [
             0.2,
             "#de77ae"
            ],
            [
             0.3,
             "#f1b6da"
            ],
            [
             0.4,
             "#fde0ef"
            ],
            [
             0.5,
             "#f7f7f7"
            ],
            [
             0.6,
             "#e6f5d0"
            ],
            [
             0.7,
             "#b8e186"
            ],
            [
             0.8,
             "#7fbc41"
            ],
            [
             0.9,
             "#4d9221"
            ],
            [
             1,
             "#276419"
            ]
           ],
           "sequential": [
            [
             0,
             "#0d0887"
            ],
            [
             0.1111111111111111,
             "#46039f"
            ],
            [
             0.2222222222222222,
             "#7201a8"
            ],
            [
             0.3333333333333333,
             "#9c179e"
            ],
            [
             0.4444444444444444,
             "#bd3786"
            ],
            [
             0.5555555555555556,
             "#d8576b"
            ],
            [
             0.6666666666666666,
             "#ed7953"
            ],
            [
             0.7777777777777778,
             "#fb9f3a"
            ],
            [
             0.8888888888888888,
             "#fdca26"
            ],
            [
             1,
             "#f0f921"
            ]
           ],
           "sequentialminus": [
            [
             0,
             "#0d0887"
            ],
            [
             0.1111111111111111,
             "#46039f"
            ],
            [
             0.2222222222222222,
             "#7201a8"
            ],
            [
             0.3333333333333333,
             "#9c179e"
            ],
            [
             0.4444444444444444,
             "#bd3786"
            ],
            [
             0.5555555555555556,
             "#d8576b"
            ],
            [
             0.6666666666666666,
             "#ed7953"
            ],
            [
             0.7777777777777778,
             "#fb9f3a"
            ],
            [
             0.8888888888888888,
             "#fdca26"
            ],
            [
             1,
             "#f0f921"
            ]
           ]
          },
          "colorway": [
           "#636efa",
           "#EF553B",
           "#00cc96",
           "#ab63fa",
           "#FFA15A",
           "#19d3f3",
           "#FF6692",
           "#B6E880",
           "#FF97FF",
           "#FECB52"
          ],
          "font": {
           "color": "#2a3f5f"
          },
          "geo": {
           "bgcolor": "white",
           "lakecolor": "white",
           "landcolor": "#E5ECF6",
           "showlakes": true,
           "showland": true,
           "subunitcolor": "white"
          },
          "hoverlabel": {
           "align": "left"
          },
          "hovermode": "closest",
          "mapbox": {
           "style": "light"
          },
          "paper_bgcolor": "white",
          "plot_bgcolor": "#E5ECF6",
          "polar": {
           "angularaxis": {
            "gridcolor": "white",
            "linecolor": "white",
            "ticks": ""
           },
           "bgcolor": "#E5ECF6",
           "radialaxis": {
            "gridcolor": "white",
            "linecolor": "white",
            "ticks": ""
           }
          },
          "scene": {
           "xaxis": {
            "backgroundcolor": "#E5ECF6",
            "gridcolor": "white",
            "gridwidth": 2,
            "linecolor": "white",
            "showbackground": true,
            "ticks": "",
            "zerolinecolor": "white"
           },
           "yaxis": {
            "backgroundcolor": "#E5ECF6",
            "gridcolor": "white",
            "gridwidth": 2,
            "linecolor": "white",
            "showbackground": true,
            "ticks": "",
            "zerolinecolor": "white"
           },
           "zaxis": {
            "backgroundcolor": "#E5ECF6",
            "gridcolor": "white",
            "gridwidth": 2,
            "linecolor": "white",
            "showbackground": true,
            "ticks": "",
            "zerolinecolor": "white"
           }
          },
          "shapedefaults": {
           "line": {
            "color": "#2a3f5f"
           }
          },
          "ternary": {
           "aaxis": {
            "gridcolor": "white",
            "linecolor": "white",
            "ticks": ""
           },
           "baxis": {
            "gridcolor": "white",
            "linecolor": "white",
            "ticks": ""
           },
           "bgcolor": "#E5ECF6",
           "caxis": {
            "gridcolor": "white",
            "linecolor": "white",
            "ticks": ""
           }
          },
          "title": {
           "x": 0.05
          },
          "xaxis": {
           "automargin": true,
           "gridcolor": "white",
           "linecolor": "white",
           "ticks": "",
           "title": {
            "standoff": 15
           },
           "zerolinecolor": "white",
           "zerolinewidth": 2
          },
          "yaxis": {
           "automargin": true,
           "gridcolor": "white",
           "linecolor": "white",
           "ticks": "",
           "title": {
            "standoff": 15
           },
           "zerolinecolor": "white",
           "zerolinewidth": 2
          }
         }
        },
        "title": {
         "text": "Visualisation interactive des embeddings (t-SNE)"
        },
        "width": 1000,
        "xaxis": {
         "anchor": "y",
         "domain": [
          0,
          1
         ],
         "title": {
          "text": "x"
         }
        },
        "yaxis": {
         "anchor": "x",
         "domain": [
          0,
          1
         ],
         "title": {
          "text": "y"
         }
        }
       }
      }
     },
     "metadata": {},
     "output_type": "display_data"
    }
   ],
   "source": [
    "from sklearn.manifold import TSNE\n",
    "import plotly.express as px\n",
    "import pandas as pd\n",
    "\n",
    "# 1. Sélection des mots (ex : les 300 plus fréquents)\n",
    "mots = list(model.wv.index_to_key[:300])\n",
    "vecteurs = model.wv[mots]\n",
    "\n",
    "# 2. Réduction de dimension avec t-SNE\n",
    "tsne = TSNE(n_components=2, random_state=42, perplexity=40, n_iter=1000)\n",
    "vecteurs_2D = tsne.fit_transform(vecteurs)\n",
    "\n",
    "# 3. Mise en DataFrame pour Plotly\n",
    "df_tsne = pd.DataFrame({\n",
    "    \"mot\": mots,\n",
    "    \"x\": vecteurs_2D[:, 0],\n",
    "    \"y\": vecteurs_2D[:, 1]\n",
    "})\n",
    "\n",
    "# 4. Affichage interactif\n",
    "fig = px.scatter(df_tsne, x=\"x\", y=\"y\", hover_name=\"mot\", title=\"Visualisation interactive des embeddings (t-SNE)\")\n",
    "fig.update_traces(marker=dict(size=6, color=\"blue\"), textposition='top center')\n",
    "fig.update_layout(width=1000, height=700)\n",
    "fig.show()\n"
   ]
  },
  {
   "cell_type": "code",
   "execution_count": 51,
   "id": "a340d8e5",
   "metadata": {},
   "outputs": [],
   "source": [
    "from utils import *"
   ]
  },
  {
   "cell_type": "markdown",
   "id": "bbd558eb",
   "metadata": {},
   "source": [
    "## Calcul de l'embedding moyen "
   ]
  },
  {
   "cell_type": "code",
   "execution_count": 52,
   "id": "2fa23ef6",
   "metadata": {},
   "outputs": [],
   "source": [
    "# Application de la fonction sur la colonne 'vectors' pour le calcul de la moyenne\n",
    "df['doc_vector'] = df['vectors'].apply(lambda v: compute_mean_embedding(v, vector_size=50))"
   ]
  },
  {
   "cell_type": "markdown",
   "id": "0875af54",
   "metadata": {},
   "source": [
    "# CLUSTERING AVEC KMEANS"
   ]
  },
  {
   "cell_type": "markdown",
   "id": "0bab0b22",
   "metadata": {},
   "source": [
    "## Clustering"
   ]
  },
  {
   "cell_type": "code",
   "execution_count": 53,
   "id": "5f88d301",
   "metadata": {},
   "outputs": [],
   "source": [
    "# Supposons que tu as une colonne `doc_vector` (vecteurs moyens de chaque document)\n",
    "X = stack(df['doc_vector'].values)\n",
    "\n",
    "# Application du clustering\n",
    "kmeans_model, df['cluster'] = apply_kmeans_clustering(X, k=5, save_path=\"kmeans_model.joblib\")\n"
   ]
  },
  {
   "cell_type": "code",
   "execution_count": 54,
   "id": "ee36cdd4",
   "metadata": {},
   "outputs": [
    {
     "data": {
      "text/html": [
       "<div>\n",
       "<style scoped>\n",
       "    .dataframe tbody tr th:only-of-type {\n",
       "        vertical-align: middle;\n",
       "    }\n",
       "\n",
       "    .dataframe tbody tr th {\n",
       "        vertical-align: top;\n",
       "    }\n",
       "\n",
       "    .dataframe thead th {\n",
       "        text-align: right;\n",
       "    }\n",
       "</style>\n",
       "<table border=\"1\" class=\"dataframe\">\n",
       "  <thead>\n",
       "    <tr style=\"text-align: right;\">\n",
       "      <th></th>\n",
       "      <th>doc_vector</th>\n",
       "      <th>cluster</th>\n",
       "    </tr>\n",
       "  </thead>\n",
       "  <tbody>\n",
       "    <tr>\n",
       "      <th>0</th>\n",
       "      <td>[0.00013418114, -0.0014326266, -0.0045993463, ...</td>\n",
       "      <td>1</td>\n",
       "    </tr>\n",
       "    <tr>\n",
       "      <th>1</th>\n",
       "      <td>[-0.0028629052, -0.002931041, 0.0024520631, -0...</td>\n",
       "      <td>1</td>\n",
       "    </tr>\n",
       "    <tr>\n",
       "      <th>2</th>\n",
       "      <td>[-0.0023490705, -0.0011379829, -2.5414047e-06,...</td>\n",
       "      <td>2</td>\n",
       "    </tr>\n",
       "    <tr>\n",
       "      <th>3</th>\n",
       "      <td>[-0.0048947404, -0.013401367, -0.004077067, 0....</td>\n",
       "      <td>4</td>\n",
       "    </tr>\n",
       "    <tr>\n",
       "      <th>4</th>\n",
       "      <td>[-0.00012725356, 0.0015221629, -0.0063089686, ...</td>\n",
       "      <td>1</td>\n",
       "    </tr>\n",
       "  </tbody>\n",
       "</table>\n",
       "</div>"
      ],
      "text/plain": [
       "                                          doc_vector  cluster\n",
       "0  [0.00013418114, -0.0014326266, -0.0045993463, ...        1\n",
       "1  [-0.0028629052, -0.002931041, 0.0024520631, -0...        1\n",
       "2  [-0.0023490705, -0.0011379829, -2.5414047e-06,...        2\n",
       "3  [-0.0048947404, -0.013401367, -0.004077067, 0....        4\n",
       "4  [-0.00012725356, 0.0015221629, -0.0063089686, ...        1"
      ]
     },
     "execution_count": 54,
     "metadata": {},
     "output_type": "execute_result"
    }
   ],
   "source": [
    "df[['doc_vector','cluster']].head()"
   ]
  },
  {
   "cell_type": "code",
   "execution_count": 55,
   "id": "5fb2127d",
   "metadata": {},
   "outputs": [
    {
     "data": {
      "application/vnd.plotly.v1+json": {
       "config": {
        "plotlyServerURL": "https://plot.ly"
       },
       "data": [
        {
         "hovertemplate": "Cluster=1<br>x=%{x}<br>y=%{y}<extra></extra>",
         "legendgroup": "1",
         "marker": {
          "color": "#636efa",
          "size": 6,
          "symbol": "circle"
         },
         "mode": "markers",
         "name": "1",
         "showlegend": true,
         "type": "scattergl",
         "x": {
          "bdata": "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",
          "dtype": "f4"
         },
         "xaxis": "x",
         "y": {
          "bdata": "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",
          "dtype": "f4"
         },
         "yaxis": "y"
        },
        {
         "hovertemplate": "Cluster=2<br>x=%{x}<br>y=%{y}<extra></extra>",
         "legendgroup": "2",
         "marker": {
          "color": "#EF553B",
          "size": 6,
          "symbol": "circle"
         },
         "mode": "markers",
         "name": "2",
         "showlegend": true,
         "type": "scattergl",
         "x": {
          "bdata": "ypvLQbGDlkFVBwpCQG0CQlJ240E3kAZCiGLNQZSW8UG3UOhBwEutQVLfAELPrvpBKNb7Qeam8kELBbhBOJ1ZQb44n0GvsnRBVgraQTTT+EHOEAVCwg/IQeeLzUE+JetB312tQUB7E0I3StRB50zaQSky+0GLJwBCSTT1QYz6BkIEfQtC1ifxQSky+0FUIa1BgQH1QYLrq0GmF3hBb2LRQZTR5EHx+M1By8HlQbA210F+FOlBCWX9QbE/2EEp469Bp6T3Qa+p5EHm3oVBWE7/QULQikEyqYhBlMjVQXHEvkFRLPRB0JD3QQqKD0IpMvtBq+riQV7MwEEOJNlBfOn+QUhS4EFTLb9Bf77sQSCktEECnshBP5/HQZohBUIBKANC2kiLQWu6z0EyAeFBH9ESQuCFTEEJiqlBwEyeQAHOiEGSRNpBfxrMQcVsnkECnNJBpv/CQQ1P9UHTRbRB9u/HQZLYwkEW1+FBAszQQbpb9EHEVs1B2sDEQQ0fnUC+oAJCc5ewQY+vqkEab6hB3gjhQeHS30FlRPFBPPu1Qf9530EaHgJC+O/xQf3wD0I5OuNBALoKQtgAEEIPnOhBuT74QdjpzUGc1QlCzLizQZuL1kG+dAxCJfTcQfvArEG2RN1BDRSsQUvTBkIACQFCGBcYQumszkEyepFBy6+cQTg310EUaL9B6pbwQeOWBUKlWMtBJ9sAQjUl10E4yfRBSFS0QVBJ80Hc9q5BVLnrQf0Wu0FEHMxBy++gQUeLnEGx0d1BNuGtQSSktkGunrlBGYvNQVVB00F0YJZB+rvuQT/lo0E4gPVBig3xQfHLbkFm8ahBxzULQsNy4EG4aw1CA6ujQUxRsEFCJK9B0rULQi8+3UFPMftBjWMCQk8X7kHM8MtBrsO/QbQbpkFVdgJCOaQGQpoCk0GGkKJBG/XtQWRW+UG7BoxBCUTzQcLTz0EQAcBBtHfoQT8Kx0F7l/1B4MAEQsK7oUFGY+FBX47cQY/gvEEBUgxC5mm7Qf4XyUGwpuhBLRb4QUNW+kFQXNtBnjHjQTwYv0FzjAZC9l7fQeofnUGzH81BCYa5QRtliEGiJQ1CxAKrQVj7vkGg8thBZ5TeQSaUF0JuDv1Bp9KZQVtytEHoWLpBu3+4QX8njkHPch1BY5HxQfHN8UGr2HtBXBkCQmU4wEGriwFCuszpQTECJEF/Kf1ByMLuQSNJwkEfj/VBzggBQiOPBEI=",
          "dtype": "f4"
         },
         "xaxis": "x",
         "y": {
          "bdata": "FyCDwI+6lcEW72TB7SF7wSF0XcHSUobBCVMEwX1MdcGEcELBivdtQM+ypMEyARTBiWd8we6SZMHkWanBem6LwQyGccFf9YG/RlUpwesPAsG0VZDBrH3VwKSZksE11SzB55npv2vLVcG508vA9VWmwdufk8HcYJ/BHQKiwZqvn8GpN67BfprDwdufk8HkgTTBU1BcwTSpvcHW7STB5n8+wWw6sMFy2F7Bq79uwUoJtcEMMP7AAzlSwculMMEV7WvB8CqHwej6FMHe5HzB+a9ywSu2NMFSz0fB5q/8wHnFTcAwBvHAHzyZwS42bcHbn5PBcmPFwI+kg8GUhRPBKONnwQDcl8HyflTBifCowVMdk8F8h4rBTDobwdpDUcHdy8rAu2RMwQnTnsFRB0xArWkvwTjrpEA8Xl/BZP+8QTisl8GkWZzB+iH9wKfbr8FvvF3A8NkTwY3Ps8CCalrBLnN7wcT3lsHjNp/B3zeNwaiE9MBCB4jA0RVUQaoKBcHX5LnBRM+iwUeFucB+YHPBVdgJwZv50sC/VsPB/JeTwL1PYcGVCpzBE1CRwd496MBPFZS/w+aPwUya48Bk9XLBnjiqwWyyM8FTCxTBGBqVwUTOdsH+cp7BBKLawVo/IMHy0dnBAZ2FwauhScHecSLBG8WMwVBIVMF02ofB1dXHwbXXl8B4UXfBYJmKwQMqacHYJ67Bk1yRwZnRTsEQCr/A2bstwPRt28BTwLrBNb6dwUN4gMFPZcDAKy5cwY46jMEbG43BbSFrwfeYvcGDXm3B/Mk2wQMticGKQn/BDTaBwYBDgsE/CbTBtfSWwT4b0cHonmbBzbKwwWCFiMEi+YLB+VIBwZDNO8FcyLvBumOGwdTK4sCOn5PB9kSXwUxWWMFerhrBYTmjwa76K8F6ebjB4+VswfuKN8EHNZrBauuAwYKujsEaU1vBuvUpwAEErr+MGljBA3KVwdGaSMGuQZfB/SirwWuuN8GCaofBXtw3wcyl/sB5i5HB3iOOwZEQwsGWjELBAUeewfFMPMFUb2XBuUWiwftIRMHROZnBaWyDwQIIjcHA32vBLF5jwYHic8FbjYDApV+QwZ/AKcFTyB3Bo+I6wRjsjMHm9IbBgpUmwa7WF8HaPb3AD0eqP+PwqMFCrsLBYljAP6LxOcF7TkzBXwl1wFJTMcALLwnBGU6Nwdtdp8EHdxzB0cUqwYynZMEGXoM/rtaMwVitiME=",
          "dtype": "f4"
         },
         "yaxis": "y"
        },
        {
         "hovertemplate": "Cluster=4<br>x=%{x}<br>y=%{y}<extra></extra>",
         "legendgroup": "4",
         "marker": {
          "color": "#00cc96",
          "size": 6,
          "symbol": "circle"
         },
         "mode": "markers",
         "name": "4",
         "showlegend": true,
         "type": "scattergl",
         "x": {
          "bdata": "PwyTwRGZXsElDVnBDyt/waHr18HpksnBDRQDwiik5cGYf77Brp2oweqao8F5cYbB7SaSwd2Zg8HnLYfBMYj1wfp4ucGldcDBy1JvwXLZnsHNPfPBii7LwfCDjcHFpNrB9V3XwY5LMcHtRbfBK2egwWgngsE3XiPBLq7Dwdsp1sHdN7TBBzqowe9ivMEb17nBAPSkwey4EMEK/aTBDzC0wRiYt8EtambBzLatwcuC/MFudLDBXbKhwUJJhMEbB6zB8WeEwf7P7cG3kqfBupSkwSgehcHHxN3BX5++wUbe7MHuBIvBbt67wWsg08GiJq7B6JDOweG+gMETwW7BpFeXwRXapsFP5rLB6MAnwYuDq8Gnsr3BUF/fwR7BqcH1ddnBbqk6wWVJ0MEubjjBqHy+we/os8G/HcFA2q+XwcSQA8INBDDByPWOweEAhsEV3IDBFhvSweLCscHAJN7BVsKRwV7Hw8EIVlbBPxqlwd7crsGzisjB1FlMwT5I4MGLawLCaU7iwXIWxb8Pyp/BX27kwZThdsHgkonB/0XdwetBrcEfMTnB7xkKwrFAScHIbaXB3WSdwVi73sFhLyjBMMXswQwcpsENSPLBMbkiwTKxXcHv3/zBb+JYwVIg8MEgmcDBOph5wTffyMGr7xDBiRDEwULxgkE33ebBkJkEwp73m8EXqrbBUoWmwQjWkMGNLL3BREahwcpdsMF67LDBJ8eGwRpDaMFVe2HArbwqwa05t8EL3rXBkivcwZF2kcG48LXBTi8ywaThlMG99uDBf6e7wRgw+sGfBvPBan6wwXYnx8HzJurBsVoJwfWXcMFmuUjBfOSIwaxGlcFPz57BmN7Wwbw5kcEAKQrCzlStwZv0CsIfVqzBXprWwbTh48GvRqHBV/SowYI8pMGNNZ3BLILPwR6wDMLdAxXCMQj8wSq8wME25oHBy+9WwRCdycFZD7bB2FGcwU1Z8MGC55bBGPpYwRPfz8H+PQLCWbo6wT2yxMG9nvXBwsu3wXJY2MH1+4rBM+q2wbrog8G+/wzCSHavwXtyBcIFbCjBRptFwcR1mMHqShLBuGTWwUlgzsF9+IrBx4UDwup8AsIL2LLBa7aqwW0zBcKHy4/BVFvCwY1vh8G44MHAW6LEwa3AZ8EmGgfCk23gwUXXVMG2k5/BF3SvweYVgsECrq/BsXPEwR9PkMFXFunBAXYCwmnSwMF2hpXBJAj1waJYlsHuGgLCeB91wSTJmcHxt87BuEfAwRf+xcFTHurBvAHwwbexkcH0HqfBGngGwpfS+sHvwyzBhn2TwaYTEsHW5/3B4pfywQxQ0sGcXJfBurMMwok6AcLOAJDBA7x1wT0xgcGc6JbBN2THwc96xsHfg8zBPYVEwY1ajMEIQwLCaBapwc5t9cH8Wu3BVlPfwZNU0MH7wivBPdSxwQShXcHR28PBej6TwagQlMH5YAPC+2nhwfNIhsGCf3rBbt+/wbns68E=",
          "dtype": "f4"
         },
         "xaxis": "x",
         "y": {
          "bdata": "ya4SQaBXEEEtWhBBCNqfQaj92sDw9WVATJO1QfZcbkFfqNVAHetPwLipiUElGKZAN+xGQcV21EH4OpJB7hFLQYS0lUBYspVBIxqkQeqxIEGM4C7AmIcEQYHEHkG1sTNARGDYwPyuSEEmDdtBJxcEv/jHRUHPWoxB3CYAQZNqbUHw+AlBJMEkQIdyzUBpRjdBE5DjQEOPmEHIJ5NBnr0RwFsHsj8x4xRAXLxhQeDYAkGAdNjAMOMxvgqkCUEQq6K/SNiqQOc7aUEwl6VByunsQDuwAMEBnk5BBopGQIvOP0GLfI4/r8ONQOHRikCyJ0NBz7EGQaT3VT/jNAZA/Qy3QOZh/0BmWvQ+uBCOQfkZc0ELGKfANTCIQWvqjcAt3J/A9WuQQVCmM8Fny8Q/7/8SQZU2RkCQQIJBTn5rQYIoLEF8eEZBbaFCQTcJkUEDO4rB+NcqQWhRiD931LJAlKJ2QZUFVT/RjDJBCQMSQZcNikDnWJBAaiS1QWrZhz/LWz+/vhExQdIys0GGHDdBSOvuQNCoyUCYWYpBTJfEQGa0Xz79dY9BPANgQH3YPkA/uc8/dVDcP+y8sEBQGHxBaiDTQI7iBUGqRuk+y/mcQaPT8EBkiLVBqLU9QehCV0H2MBHAzKmKQCoy28CH0pRBXtl1QGo4mUG/DPlAj7ANQJabSEH9lx/B+6eQQJ4VYUAcpai+gLeiwHha1UAtoX1B3dDAQMqzUEGDY5ZB9RyxwNk7Sb9ZSytBPkFNQesWbUG/xU/BELEfQXgMWUHJ6om/tq12vqcy0kBdLa1AN/wQQb93K0FZeoxAmCKjwelHZ0HcaKJBxJQDQPYVYUGKmjxA1sGSv4MnpEGRHOpAR6BCQRQd4kCE0XZAz9ZBQElTL0FTkCdBy8ynQEZNK0HkwYxBuiEIQTq4jcCWoVxA68T9QA0TlkHyWALBHQhSvw2wE8DtbQRB0EPJQO8SF0Dl43FBPP4rQXgY10CssQpB70EkvhDNJkFW5tJAgAO8P5Tj/EDzU1pB7MqSQbipjkH/peNAkhz4P6Q0skE/NnxBaoZeQR0MkkAXb4pBRLQlQVdzI8DwuJdBFarNQC2tk0BwpJ8/PWyNwHqzF0HwPONAe35kQZz1l0CJShLBEgcOwNpojEA9NdpAv/iAwO0bdUFE9ktBoldtQVc3dD8LXedAuepJQRnBGsEJPI5Au5NBv9bXSEHjR+fA2uGbwEeas0Cy37VABBpTQejHDMA0xQa/QPS6QEjowUDjMqxBszcewdIJGsGnZ2NBpaE0QPyXU0FY0zFBiPsOQcFwiUHC+P0/f/MZwBG4ZkFD4Y5AWsSNwFtPF0Cosu1A7VixQAzwBsHUjQU9W5B9QE2ia0E/dj1A3C2+QdGUI0HPU/7ACxxtQC2dnsAeGRRAKreLv5QwiMAKpg1BIhdzQWBcTECftYRBs3hdwAVlTsBjSVhB9reAQJWh1MDd3GRAh3KGQS/gKUE=",
          "dtype": "f4"
         },
         "yaxis": "y"
        },
        {
         "hovertemplate": "Cluster=0<br>x=%{x}<br>y=%{y}<extra></extra>",
         "legendgroup": "0",
         "marker": {
          "color": "#ab63fa",
          "size": 6,
          "symbol": "circle"
         },
         "mode": "markers",
         "name": "0",
         "showlegend": true,
         "type": "scattergl",
         "x": {
          "bdata": "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",
          "dtype": "f4"
         },
         "xaxis": "x",
         "y": {
          "bdata": "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",
          "dtype": "f4"
         },
         "yaxis": "y"
        },
        {
         "hovertemplate": "Cluster=3<br>x=%{x}<br>y=%{y}<extra></extra>",
         "legendgroup": "3",
         "marker": {
          "color": "#FFA15A",
          "size": 6,
          "symbol": "circle"
         },
         "mode": "markers",
         "name": "3",
         "showlegend": true,
         "type": "scattergl",
         "x": {
          "bdata": "XEoFwrlrBcJA4MjBEVoPwoDFBsJrJwnCfIftwQyF2ME+ThvC3XX2wePn18FADcbB3t3owZqn9MHM7MvBCzHWwUH178E3bODB1ywAwrQWCsKfefTBJMrnwMdsy8FgR+PBiYUGwssACcII/O7B0Uv5wZ1AAsJO5tTBGtjpwYdcuMGKaQzCxjcPwvtOBcIR4QjCvkSjwePyt8FYe7jBZasGwiEd5sGB9bLB/FqzwV0w/cHK+Q/CFXLfwe+6A8K57efBFLX7weeMjcFohAbCVIwYwkhC8sGVX83B3D0LwhH66sEFGAHC6JzRwR8h/cH3dtDBZrXowYT3/cHRPQ7CuP8DwlGUEMJ3wtzBqCXHwfLx0cEHfrTBLuGvwaZy0MFiKKfBo4YBwuMHqsEEG9LB2jT8wXSTz8HMO9TB5ivLwXMlEMITEcjB4rwYwv+imcEUYhDCiuXiwaty68Hhw+nBrC+qwd4Bu8GM6QPCLSG5wYTvCcICy8rBmparwTl0scFwiL/B/CcDwqGx/sGrUsHB1F70wdsS8sFgmdLBmqf0wcW5AMLSbr/BxHENwrQ0ssHFmQvCh7kDwqKOCsI/ZtLBJ8b3wQcOlsENmAnCIXCFwVbg98E=",
          "dtype": "f4"
         },
         "xaxis": "x",
         "y": {
          "bdata": "yWekQXaypEEaKzNBW+qAQahHHUHtsUVB21uHQTAudkEXcDpB+sdPQYemc0G4NG9BfkYFQU0P10Hk3MhBeM98QcMUEUHgkYdBBy+aQSivDkEIAYBAQumnQW1JykF++lZB98jBQTXNlUFj9iRB8fK8QaQTXUF+vJpB8kl4QbvZoUH88W9BHCfmQIZjgEF+5l9BzaiMQXdRXUGQtJJBxJg2QTTdeUGiD65BLKdnQfqzhEFpZxhB8zKPQYi8oEEIIZBBnGuQQalLI8F0QsNBIWkgQUs+FEFS+KFB9OaXQZ+dXEHV0jdBy3gwQaCZiEHRQsFB8nWhQU0Ai0FtjCBBTtNGQZx9gUGljBhB6dKVQQW3WUHDJrJBdhqvQSX/wkEsXbRBcneUQS5Mr0EuJpBBUZ9yQbkkikGJYqpBmjjOQYdQU0FqbYRBTPofQZpKtkHV8FJBO3CHQXM+pEG5PKZBgkmyQf8Jp0GL6TVB5sG1QdnAw0DoDaBBvH6qQRUZHEG4krdBmXKQQXCEMEFRGklBMFriQDecm0G8YY9BTQ/XQZygQ0CsLOU/Ti8ZQWc7ukGvSJdB6+61QRH1gkHVvqVBlY5BQRUjRUGjuoNBLn7VQa3hWkE=",
          "dtype": "f4"
         },
         "yaxis": "y"
        }
       ],
       "layout": {
        "height": 600,
        "legend": {
         "title": {
          "text": "Cluster"
         },
         "tracegroupgap": 0
        },
        "template": {
         "data": {
          "bar": [
           {
            "error_x": {
             "color": "#2a3f5f"
            },
            "error_y": {
             "color": "#2a3f5f"
            },
            "marker": {
             "line": {
              "color": "#E5ECF6",
              "width": 0.5
             },
             "pattern": {
              "fillmode": "overlay",
              "size": 10,
              "solidity": 0.2
             }
            },
            "type": "bar"
           }
          ],
          "barpolar": [
           {
            "marker": {
             "line": {
              "color": "#E5ECF6",
              "width": 0.5
             },
             "pattern": {
              "fillmode": "overlay",
              "size": 10,
              "solidity": 0.2
             }
            },
            "type": "barpolar"
           }
          ],
          "carpet": [
           {
            "aaxis": {
             "endlinecolor": "#2a3f5f",
             "gridcolor": "white",
             "linecolor": "white",
             "minorgridcolor": "white",
             "startlinecolor": "#2a3f5f"
            },
            "baxis": {
             "endlinecolor": "#2a3f5f",
             "gridcolor": "white",
             "linecolor": "white",
             "minorgridcolor": "white",
             "startlinecolor": "#2a3f5f"
            },
            "type": "carpet"
           }
          ],
          "choropleth": [
           {
            "colorbar": {
             "outlinewidth": 0,
             "ticks": ""
            },
            "type": "choropleth"
           }
          ],
          "contour": [
           {
            "colorbar": {
             "outlinewidth": 0,
             "ticks": ""
            },
            "colorscale": [
             [
              0,
              "#0d0887"
             ],
             [
              0.1111111111111111,
              "#46039f"
             ],
             [
              0.2222222222222222,
              "#7201a8"
             ],
             [
              0.3333333333333333,
              "#9c179e"
             ],
             [
              0.4444444444444444,
              "#bd3786"
             ],
             [
              0.5555555555555556,
              "#d8576b"
             ],
             [
              0.6666666666666666,
              "#ed7953"
             ],
             [
              0.7777777777777778,
              "#fb9f3a"
             ],
             [
              0.8888888888888888,
              "#fdca26"
             ],
             [
              1,
              "#f0f921"
             ]
            ],
            "type": "contour"
           }
          ],
          "contourcarpet": [
           {
            "colorbar": {
             "outlinewidth": 0,
             "ticks": ""
            },
            "type": "contourcarpet"
           }
          ],
          "heatmap": [
           {
            "colorbar": {
             "outlinewidth": 0,
             "ticks": ""
            },
            "colorscale": [
             [
              0,
              "#0d0887"
             ],
             [
              0.1111111111111111,
              "#46039f"
             ],
             [
              0.2222222222222222,
              "#7201a8"
             ],
             [
              0.3333333333333333,
              "#9c179e"
             ],
             [
              0.4444444444444444,
              "#bd3786"
             ],
             [
              0.5555555555555556,
              "#d8576b"
             ],
             [
              0.6666666666666666,
              "#ed7953"
             ],
             [
              0.7777777777777778,
              "#fb9f3a"
             ],
             [
              0.8888888888888888,
              "#fdca26"
             ],
             [
              1,
              "#f0f921"
             ]
            ],
            "type": "heatmap"
           }
          ],
          "histogram": [
           {
            "marker": {
             "pattern": {
              "fillmode": "overlay",
              "size": 10,
              "solidity": 0.2
             }
            },
            "type": "histogram"
           }
          ],
          "histogram2d": [
           {
            "colorbar": {
             "outlinewidth": 0,
             "ticks": ""
            },
            "colorscale": [
             [
              0,
              "#0d0887"
             ],
             [
              0.1111111111111111,
              "#46039f"
             ],
             [
              0.2222222222222222,
              "#7201a8"
             ],
             [
              0.3333333333333333,
              "#9c179e"
             ],
             [
              0.4444444444444444,
              "#bd3786"
             ],
             [
              0.5555555555555556,
              "#d8576b"
             ],
             [
              0.6666666666666666,
              "#ed7953"
             ],
             [
              0.7777777777777778,
              "#fb9f3a"
             ],
             [
              0.8888888888888888,
              "#fdca26"
             ],
             [
              1,
              "#f0f921"
             ]
            ],
            "type": "histogram2d"
           }
          ],
          "histogram2dcontour": [
           {
            "colorbar": {
             "outlinewidth": 0,
             "ticks": ""
            },
            "colorscale": [
             [
              0,
              "#0d0887"
             ],
             [
              0.1111111111111111,
              "#46039f"
             ],
             [
              0.2222222222222222,
              "#7201a8"
             ],
             [
              0.3333333333333333,
              "#9c179e"
             ],
             [
              0.4444444444444444,
              "#bd3786"
             ],
             [
              0.5555555555555556,
              "#d8576b"
             ],
             [
              0.6666666666666666,
              "#ed7953"
             ],
             [
              0.7777777777777778,
              "#fb9f3a"
             ],
             [
              0.8888888888888888,
              "#fdca26"
             ],
             [
              1,
              "#f0f921"
             ]
            ],
            "type": "histogram2dcontour"
           }
          ],
          "mesh3d": [
           {
            "colorbar": {
             "outlinewidth": 0,
             "ticks": ""
            },
            "type": "mesh3d"
           }
          ],
          "parcoords": [
           {
            "line": {
             "colorbar": {
              "outlinewidth": 0,
              "ticks": ""
             }
            },
            "type": "parcoords"
           }
          ],
          "pie": [
           {
            "automargin": true,
            "type": "pie"
           }
          ],
          "scatter": [
           {
            "fillpattern": {
             "fillmode": "overlay",
             "size": 10,
             "solidity": 0.2
            },
            "type": "scatter"
           }
          ],
          "scatter3d": [
           {
            "line": {
             "colorbar": {
              "outlinewidth": 0,
              "ticks": ""
             }
            },
            "marker": {
             "colorbar": {
              "outlinewidth": 0,
              "ticks": ""
             }
            },
            "type": "scatter3d"
           }
          ],
          "scattercarpet": [
           {
            "marker": {
             "colorbar": {
              "outlinewidth": 0,
              "ticks": ""
             }
            },
            "type": "scattercarpet"
           }
          ],
          "scattergeo": [
           {
            "marker": {
             "colorbar": {
              "outlinewidth": 0,
              "ticks": ""
             }
            },
            "type": "scattergeo"
           }
          ],
          "scattergl": [
           {
            "marker": {
             "colorbar": {
              "outlinewidth": 0,
              "ticks": ""
             }
            },
            "type": "scattergl"
           }
          ],
          "scattermap": [
           {
            "marker": {
             "colorbar": {
              "outlinewidth": 0,
              "ticks": ""
             }
            },
            "type": "scattermap"
           }
          ],
          "scattermapbox": [
           {
            "marker": {
             "colorbar": {
              "outlinewidth": 0,
              "ticks": ""
             }
            },
            "type": "scattermapbox"
           }
          ],
          "scatterpolar": [
           {
            "marker": {
             "colorbar": {
              "outlinewidth": 0,
              "ticks": ""
             }
            },
            "type": "scatterpolar"
           }
          ],
          "scatterpolargl": [
           {
            "marker": {
             "colorbar": {
              "outlinewidth": 0,
              "ticks": ""
             }
            },
            "type": "scatterpolargl"
           }
          ],
          "scatterternary": [
           {
            "marker": {
             "colorbar": {
              "outlinewidth": 0,
              "ticks": ""
             }
            },
            "type": "scatterternary"
           }
          ],
          "surface": [
           {
            "colorbar": {
             "outlinewidth": 0,
             "ticks": ""
            },
            "colorscale": [
             [
              0,
              "#0d0887"
             ],
             [
              0.1111111111111111,
              "#46039f"
             ],
             [
              0.2222222222222222,
              "#7201a8"
             ],
             [
              0.3333333333333333,
              "#9c179e"
             ],
             [
              0.4444444444444444,
              "#bd3786"
             ],
             [
              0.5555555555555556,
              "#d8576b"
             ],
             [
              0.6666666666666666,
              "#ed7953"
             ],
             [
              0.7777777777777778,
              "#fb9f3a"
             ],
             [
              0.8888888888888888,
              "#fdca26"
             ],
             [
              1,
              "#f0f921"
             ]
            ],
            "type": "surface"
           }
          ],
          "table": [
           {
            "cells": {
             "fill": {
              "color": "#EBF0F8"
             },
             "line": {
              "color": "white"
             }
            },
            "header": {
             "fill": {
              "color": "#C8D4E3"
             },
             "line": {
              "color": "white"
             }
            },
            "type": "table"
           }
          ]
         },
         "layout": {
          "annotationdefaults": {
           "arrowcolor": "#2a3f5f",
           "arrowhead": 0,
           "arrowwidth": 1
          },
          "autotypenumbers": "strict",
          "coloraxis": {
           "colorbar": {
            "outlinewidth": 0,
            "ticks": ""
           }
          },
          "colorscale": {
           "diverging": [
            [
             0,
             "#8e0152"
            ],
            [
             0.1,
             "#c51b7d"
            ],
            [
             0.2,
             "#de77ae"
            ],
            [
             0.3,
             "#f1b6da"
            ],
            [
             0.4,
             "#fde0ef"
            ],
            [
             0.5,
             "#f7f7f7"
            ],
            [
             0.6,
             "#e6f5d0"
            ],
            [
             0.7,
             "#b8e186"
            ],
            [
             0.8,
             "#7fbc41"
            ],
            [
             0.9,
             "#4d9221"
            ],
            [
             1,
             "#276419"
            ]
           ],
           "sequential": [
            [
             0,
             "#0d0887"
            ],
            [
             0.1111111111111111,
             "#46039f"
            ],
            [
             0.2222222222222222,
             "#7201a8"
            ],
            [
             0.3333333333333333,
             "#9c179e"
            ],
            [
             0.4444444444444444,
             "#bd3786"
            ],
            [
             0.5555555555555556,
             "#d8576b"
            ],
            [
             0.6666666666666666,
             "#ed7953"
            ],
            [
             0.7777777777777778,
             "#fb9f3a"
            ],
            [
             0.8888888888888888,
             "#fdca26"
            ],
            [
             1,
             "#f0f921"
            ]
           ],
           "sequentialminus": [
            [
             0,
             "#0d0887"
            ],
            [
             0.1111111111111111,
             "#46039f"
            ],
            [
             0.2222222222222222,
             "#7201a8"
            ],
            [
             0.3333333333333333,
             "#9c179e"
            ],
            [
             0.4444444444444444,
             "#bd3786"
            ],
            [
             0.5555555555555556,
             "#d8576b"
            ],
            [
             0.6666666666666666,
             "#ed7953"
            ],
            [
             0.7777777777777778,
             "#fb9f3a"
            ],
            [
             0.8888888888888888,
             "#fdca26"
            ],
            [
             1,
             "#f0f921"
            ]
           ]
          },
          "colorway": [
           "#636efa",
           "#EF553B",
           "#00cc96",
           "#ab63fa",
           "#FFA15A",
           "#19d3f3",
           "#FF6692",
           "#B6E880",
           "#FF97FF",
           "#FECB52"
          ],
          "font": {
           "color": "#2a3f5f"
          },
          "geo": {
           "bgcolor": "white",
           "lakecolor": "white",
           "landcolor": "#E5ECF6",
           "showlakes": true,
           "showland": true,
           "subunitcolor": "white"
          },
          "hoverlabel": {
           "align": "left"
          },
          "hovermode": "closest",
          "mapbox": {
           "style": "light"
          },
          "paper_bgcolor": "white",
          "plot_bgcolor": "#E5ECF6",
          "polar": {
           "angularaxis": {
            "gridcolor": "white",
            "linecolor": "white",
            "ticks": ""
           },
           "bgcolor": "#E5ECF6",
           "radialaxis": {
            "gridcolor": "white",
            "linecolor": "white",
            "ticks": ""
           }
          },
          "scene": {
           "xaxis": {
            "backgroundcolor": "#E5ECF6",
            "gridcolor": "white",
            "gridwidth": 2,
            "linecolor": "white",
            "showbackground": true,
            "ticks": "",
            "zerolinecolor": "white"
           },
           "yaxis": {
            "backgroundcolor": "#E5ECF6",
            "gridcolor": "white",
            "gridwidth": 2,
            "linecolor": "white",
            "showbackground": true,
            "ticks": "",
            "zerolinecolor": "white"
           },
           "zaxis": {
            "backgroundcolor": "#E5ECF6",
            "gridcolor": "white",
            "gridwidth": 2,
            "linecolor": "white",
            "showbackground": true,
            "ticks": "",
            "zerolinecolor": "white"
           }
          },
          "shapedefaults": {
           "line": {
            "color": "#2a3f5f"
           }
          },
          "ternary": {
           "aaxis": {
            "gridcolor": "white",
            "linecolor": "white",
            "ticks": ""
           },
           "baxis": {
            "gridcolor": "white",
            "linecolor": "white",
            "ticks": ""
           },
           "bgcolor": "#E5ECF6",
           "caxis": {
            "gridcolor": "white",
            "linecolor": "white",
            "ticks": ""
           }
          },
          "title": {
           "x": 0.05
          },
          "xaxis": {
           "automargin": true,
           "gridcolor": "white",
           "linecolor": "white",
           "ticks": "",
           "title": {
            "standoff": 15
           },
           "zerolinecolor": "white",
           "zerolinewidth": 2
          },
          "yaxis": {
           "automargin": true,
           "gridcolor": "white",
           "linecolor": "white",
           "ticks": "",
           "title": {
            "standoff": 15
           },
           "zerolinecolor": "white",
           "zerolinewidth": 2
          }
         }
        },
        "title": {
         "text": "Visualisation des clusters"
        },
        "width": 900,
        "xaxis": {
         "anchor": "y",
         "domain": [
          0,
          1
         ],
         "title": {
          "text": "x"
         }
        },
        "yaxis": {
         "anchor": "x",
         "domain": [
          0,
          1
         ],
         "title": {
          "text": "y"
         }
        }
       }
      }
     },
     "metadata": {},
     "output_type": "display_data"
    }
   ],
   "source": [
    "from numpy import stack\n",
    "\n",
    "X = stack(df['doc_vector'].values)  # Matrice des vecteurs\n",
    "visualize_clusters_2d(X, df['cluster'], method='tsne')\n"
   ]
  },
  {
   "cell_type": "markdown",
   "id": "b7e2b63b",
   "metadata": {},
   "source": [
    "## Représentation des 5 tokens les plus utilisés par cluster"
   ]
  },
  {
   "cell_type": "code",
   "execution_count": 60,
   "id": "a7184c68",
   "metadata": {},
   "outputs": [
    {
     "data": {
      "image/png": "[encoded data removed]",
      "text/plain": [
       "<Figure size 1000x500 with 1 Axes>"
      ]
     },
     "metadata": {},
     "output_type": "display_data"
    },
    {
     "data": {
      "image/png": "[encoded data removed]",
      "text/plain": [
       "<Figure size 1000x500 with 1 Axes>"
      ]
     },
     "metadata": {},
     "output_type": "display_data"
    },
    {
     "data": {
      "image/png": "[encoded data removed]",
      "text/plain": [
       "<Figure size 1000x500 with 1 Axes>"
      ]
     },
     "metadata": {},
     "output_type": "display_data"
    },
    {
     "data": {
      "image/png": "[encoded data removed]",
      "text/plain": [
       "<Figure size 1000x500 with 1 Axes>"
      ]
     },
     "metadata": {},
     "output_type": "display_data"
    },
    {
     "data": {
      "image/png": "[encoded data removed]",
      "text/plain": [
       "<Figure size 1000x500 with 1 Axes>"
      ]
     },
     "metadata": {},
     "output_type": "display_data"
    }
   ],
   "source": [
    "from collections import Counter\n",
    "\n",
    "# Calculer la fréquence des tokens par cluster\n",
    "top_tokens_by_cluster = {}\n",
    "\n",
    "for cluster in df['cluster'].unique():\n",
    "    # Sélectionner les tokens de chaque cluster\n",
    "    cluster_tokens = df[df['cluster'] == cluster]['tokens'].sum()\n",
    "    \n",
    "    # Compter les occurrences de chaque token\n",
    "    token_counts = Counter(cluster_tokens)\n",
    "    \n",
    "    # Obtenir les 5 tokens les plus fréquents\n",
    "    top_tokens = token_counts.most_common(5)\n",
    "    top_tokens_by_cluster[cluster] = top_tokens\n",
    "\n",
    "# Visualiser les 5 tokens les plus fréquents par cluster\n",
    "for cluster, tokens in top_tokens_by_cluster.items():\n",
    "    tokens_list, counts = zip(*tokens)\n",
    "    \n",
    "    plt.figure(figsize=(10, 5))\n",
    "    plt.bar(tokens_list, counts, color='skyblue')\n",
    "    plt.title(f'Top 5 Tokens dans le Cluster {cluster}')\n",
    "    plt.xlabel('Tokens')\n",
    "    plt.ylabel('Occurrences')\n",
    "    plt.show()\n"
   ]
  },
  {
   "cell_type": "code",
   "execution_count": 61,
   "id": "555ade9a",
   "metadata": {},
   "outputs": [
    {
     "data": {
      "text/plain": [
       "{1: [('pouvoir', 29),\n",
       "  ('public', 28),\n",
       "  ('personne', 28),\n",
       "  ('aider', 26),\n",
       "  ('creer', 25)],\n",
       " 2: [('matiere', 7),\n",
       "  ('competition', 6),\n",
       "  ('organisation', 6),\n",
       "  ('etude', 6),\n",
       "  ('maternelle', 5)],\n",
       " 4: [('permettre', 34),\n",
       "  ('acce', 31),\n",
       "  ('age', 28),\n",
       "  ('accessible', 26),\n",
       "  ('place', 24)],\n",
       " 0: [('creer', 19),\n",
       "  ('salle', 19),\n",
       "  ('scolaire', 17),\n",
       "  ('personne', 16),\n",
       "  ('bienfait', 16)],\n",
       " 3: [('pouvoir', 25),\n",
       "  ('pratiquer', 16),\n",
       "  ('creer', 16),\n",
       "  ('heure', 14),\n",
       "  ('permettre', 12)]}"
      ]
     },
     "execution_count": 61,
     "metadata": {},
     "output_type": "execute_result"
    }
   ],
   "source": [
    "top_tokens_by_cluster"
   ]
  },
  {
   "cell_type": "code",
   "execution_count": 63,
   "id": "840ff787",
   "metadata": {},
   "outputs": [],
   "source": [
    "## Définition de la thématique de chaque cluster\n",
    "def get_cluster_theme(cluster_id):\n",
    "    themes = {\n",
    "        0: \"Thème 1 : Création de nouvelles infrastructures sportives\",\n",
    "        1: \"Thème 2 : Soutien public et accompagnement des personnes\",\n",
    "        2: \"Thème 3 : Sport et éducation\",\n",
    "        3: \"Thème 4 : Manque de temps pour pratiquer le sport\",\n",
    "        4: \"Thème 5 : Accessibilité aux installations sportives\"\n",
    "    }\n",
    "    return themes.get(cluster_id, \"Thème inconnu\")"
   ]
  },
  {
   "cell_type": "code",
   "execution_count": 64,
   "id": "fef71dfc",
   "metadata": {},
   "outputs": [],
   "source": [
    "## Utulisation de la fonction afin de correspondre chaque cluster à un thème\n",
    "df['cluster_theme'] = df['cluster'].apply(get_cluster_theme)"
   ]
  },
  {
   "cell_type": "code",
   "execution_count": 65,
   "id": "38313150",
   "metadata": {},
   "outputs": [
    {
     "data": {
      "text/plain": [
       "0    Thème 2 : Soutien public et accompagnement des...\n",
       "1    Thème 2 : Soutien public et accompagnement des...\n",
       "2                         Thème 3 : Sport et éducation\n",
       "3    Thème 5 : Accessibilité aux installations spor...\n",
       "4    Thème 2 : Soutien public et accompagnement des...\n",
       "Name: cluster_theme, dtype: object"
      ]
     },
     "execution_count": 65,
     "metadata": {},
     "output_type": "execute_result"
    }
   ],
   "source": [
    "df['cluster_theme'].head()"
   ]
  },
  {
   "cell_type": "markdown",
   "id": "8ea631a8",
   "metadata": {},
   "source": [
    " # PROFILING DE CHAQUE CLUSTER"
   ]
  },
  {
   "cell_type": "code",
   "execution_count": 67,
   "id": "98697321",
   "metadata": {},
   "outputs": [
    {
     "name": "stdout",
     "output_type": "stream",
     "text": [
      "<class 'pandas.core.frame.DataFrame'>\n",
      "RangeIndex: 1540 entries, 0 to 1539\n",
      "Data columns (total 25 columns):\n",
      " #   Column                      Non-Null Count  Dtype  \n",
      "---  ------                      --------------  -----  \n",
      " 0   id                          1540 non-null   object \n",
      " 1   content                     1540 non-null   object \n",
      " 2   slug                        1540 non-null   object \n",
      " 3   createdAt                   1540 non-null   object \n",
      " 4   updatedAt                   1540 non-null   object \n",
      " 5   vote_agree                  1540 non-null   int64  \n",
      " 6   vote_neutral                1540 non-null   int64  \n",
      " 7   vote_disagree               1540 non-null   int64  \n",
      " 8   author_id                   1540 non-null   object \n",
      " 9   author_age                  1540 non-null   float64\n",
      " 10  author_type                 1540 non-null   object \n",
      " 11  agree_likeit                1540 non-null   int64  \n",
      " 12  agree_platitudeagree        1540 non-null   int64  \n",
      " 13  agree_doable                1540 non-null   int64  \n",
      " 14  neutral_noOpinion           1540 non-null   int64  \n",
      " 15  neutral_doNotUnderstand     1540 non-null   int64  \n",
      " 16  neutral_doNotCare           1540 non-null   int64  \n",
      " 17  disagree_impossible         1540 non-null   int64  \n",
      " 18  disagree_noWay              1540 non-null   int64  \n",
      " 19  disagree_platitudeDisagree  1540 non-null   int64  \n",
      " 20  tokens                      1540 non-null   object \n",
      " 21  vectors                     1540 non-null   object \n",
      " 22  doc_vector                  1540 non-null   object \n",
      " 23  cluster                     1540 non-null   int32  \n",
      " 24  cluster_theme               1540 non-null   object \n",
      "dtypes: float64(1), int32(1), int64(12), object(11)\n",
      "memory usage: 294.9+ KB\n"
     ]
    }
   ],
   "source": [
    "df.info()"
   ]
  },
  {
   "cell_type": "code",
   "execution_count": 68,
   "id": "ed11ec56",
   "metadata": {},
   "outputs": [
    {
     "data": {
      "image/png": "[encoded data removed]",
      "text/plain": [
       "<Figure size 1200x600 with 1 Axes>"
      ]
     },
     "metadata": {},
     "output_type": "display_data"
    },
    {
     "data": {
      "image/png": "[encoded data removed]",
      "text/plain": [
       "<Figure size 1200x600 with 1 Axes>"
      ]
     },
     "metadata": {},
     "output_type": "display_data"
    },
    {
     "data": {
      "image/png": "[encoded data removed]",
      "text/plain": [
       "<Figure size 1200x600 with 1 Axes>"
      ]
     },
     "metadata": {},
     "output_type": "display_data"
    }
   ],
   "source": [
    "import matplotlib.pyplot as plt\n",
    "import seaborn as sns\n",
    "\n",
    "# Vérifier l'existence de la colonne 'author_age' dans df\n",
    "if 'author_age' in df.columns:\n",
    "    # 1. Répartition de l'âge par cluster\n",
    "    plt.figure(figsize=(12, 6))\n",
    "    sns.boxplot(x='cluster', y='author_age', data=df)\n",
    "    plt.title(\"Répartition de l'âge par cluster\")\n",
    "    plt.show()\n",
    "    \n",
    "    # 2. Répartition globale de l'âge (toute la base de données)\n",
    "    plt.figure(figsize=(12, 6))\n",
    "    sns.histplot(df['author_age'], bins=30, kde=True)\n",
    "    plt.title(\"Répartition de l'âge dans toute la base de données\")\n",
    "    plt.show()\n",
    "    \n",
    "    # 3. Répartition de l'âge selon le cluster (graphique de densité)\n",
    "    plt.figure(figsize=(12, 6))\n",
    "    sns.kdeplot(data=df, x=\"author_age\", hue=\"cluster\", common_norm=False, fill=True)\n",
    "    plt.title(\"Répartition de l'âge selon le cluster\")\n",
    "    plt.show()\n",
    "else:\n",
    "    print(\"La colonne 'author_age' n'existe pas dans le DataFrame.\")\n"
   ]
  },
  {
   "cell_type": "code",
   "execution_count": 69,
   "id": "330615ff",
   "metadata": {},
   "outputs": [
    {
     "data": {
      "image/png": "[encoded data removed]",
      "text/plain": [
       "<Figure size 1000x500 with 1 Axes>"
      ]
     },
     "metadata": {},
     "output_type": "display_data"
    },
    {
     "data": {
      "image/png": "[encoded data removed]",
      "text/plain": [
       "<Figure size 1000x500 with 1 Axes>"
      ]
     },
     "metadata": {},
     "output_type": "display_data"
    },
    {
     "data": {
      "image/png": "[encoded data removed]",
      "text/plain": [
       "<Figure size 1000x500 with 1 Axes>"
      ]
     },
     "metadata": {},
     "output_type": "display_data"
    },
    {
     "data": {
      "image/png": "[encoded data removed]",
      "text/plain": [
       "<Figure size 1000x500 with 1 Axes>"
      ]
     },
     "metadata": {},
     "output_type": "display_data"
    },
    {
     "data": {
      "image/png": "[encoded data removed]",
      "text/plain": [
       "<Figure size 1000x500 with 1 Axes>"
      ]
     },
     "metadata": {},
     "output_type": "display_data"
    }
   ],
   "source": [
    "# Liste des clusters uniques\n",
    "clusters = df['cluster'].unique()\n",
    "\n",
    "# Générer un graphique de répartition de l'âge pour chaque cluster\n",
    "for cluster in clusters:\n",
    "    plt.figure(figsize=(10, 5))\n",
    "    sns.histplot(df[df['cluster'] == cluster]['author_age'], bins=15, kde=True, color='skyblue')\n",
    "    plt.title(f\"Répartition de l'âge pour le Cluster {cluster}\")\n",
    "    plt.xlabel(\"Âge\")\n",
    "    plt.ylabel(\"Fréquence\")\n",
    "    plt.show()"
   ]
  }
 ],
 "metadata": {
  "kernelspec": {
   "display_name": "Python 3",
   "language": "python",
   "name": "python3"
  },
  "language_info": {
   "codemirror_mode": {
    "name": "ipython",
    "version": 3
   },
   "file_extension": ".py",
   "mimetype": "text/x-python",
   "name": "python",
   "nbconvert_exporter": "python",
   "pygments_lexer": "ipython3",
   "version": "3.12.4"
  }
 },
 "nbformat": 4,
 "nbformat_minor": 5
}
