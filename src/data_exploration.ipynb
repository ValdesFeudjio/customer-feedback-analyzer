{
 "cells": [
  {
   "cell_type": "code",
   "execution_count": 1,
   "id": "b612f33e",
   "metadata": {},
   "outputs": [],
   "source": [
    "import json\n",
    "import spacy\n",
    "import pandas as pd\n",
    "import numpy as np\n",
    "from utils import *\n",
    "\n",
    "from sklearn.cluster import KMeans\n",
    "from sklearn.decomposition import PCA\n",
    "import matplotlib.pyplot as plt"
   ]
  },
  {
   "cell_type": "code",
   "execution_count": null,
   "id": "e57c4917",
   "metadata": {},
   "outputs": [],
   "source": []
  },
  {
   "cell_type": "markdown",
   "id": "9a0fb0b3",
   "metadata": {},
   "source": [
    "# IMPORTATION ET PREPROCESSING DE LA BASE DE DONNEES"
   ]
  },
  {
   "cell_type": "code",
   "execution_count": 2,
   "id": "55077f68",
   "metadata": {},
   "outputs": [],
   "source": [
    "# 1) Charger un fichier JSON (lecture)\n",
    "data = pd.read_json(\"../data/ensai_2025_req_favoriser_sport.json\", encoding=\"utf‑8\")"
   ]
  },
  {
   "cell_type": "code",
   "execution_count": 3,
   "id": "966d595b",
   "metadata": {},
   "outputs": [
    {
     "data": {
      "text/html": [
       "<div>\n",
       "<style scoped>\n",
       "    .dataframe tbody tr th:only-of-type {\n",
       "        vertical-align: middle;\n",
       "    }\n",
       "\n",
       "    .dataframe tbody tr th {\n",
       "        vertical-align: top;\n",
       "    }\n",
       "\n",
       "    .dataframe thead th {\n",
       "        text-align: right;\n",
       "    }\n",
       "</style>\n",
       "<table border=\"1\" class=\"dataframe\">\n",
       "  <thead>\n",
       "    <tr style=\"text-align: right;\">\n",
       "      <th></th>\n",
       "      <th>total</th>\n",
       "      <th>results</th>\n",
       "      <th>seed</th>\n",
       "    </tr>\n",
       "  </thead>\n",
       "  <tbody>\n",
       "    <tr>\n",
       "      <th>0</th>\n",
       "      <td>1540</td>\n",
       "      <td>{'id': '82d5eb8f-f953-4e16-9015-9b775ff5f292',...</td>\n",
       "      <td>NaN</td>\n",
       "    </tr>\n",
       "    <tr>\n",
       "      <th>1</th>\n",
       "      <td>1540</td>\n",
       "      <td>{'id': '59ff8102-587a-425e-9976-c4d5d6a268fe',...</td>\n",
       "      <td>NaN</td>\n",
       "    </tr>\n",
       "    <tr>\n",
       "      <th>2</th>\n",
       "      <td>1540</td>\n",
       "      <td>{'id': '66b19692-f947-44c9-9126-33863021098e',...</td>\n",
       "      <td>NaN</td>\n",
       "    </tr>\n",
       "    <tr>\n",
       "      <th>3</th>\n",
       "      <td>1540</td>\n",
       "      <td>{'id': '97c4c337-15d4-4c6e-a108-aefcedeb1666',...</td>\n",
       "      <td>NaN</td>\n",
       "    </tr>\n",
       "    <tr>\n",
       "      <th>4</th>\n",
       "      <td>1540</td>\n",
       "      <td>{'id': '9f71ce59-200c-450a-8987-399eee4fb1dd',...</td>\n",
       "      <td>NaN</td>\n",
       "    </tr>\n",
       "  </tbody>\n",
       "</table>\n",
       "</div>"
      ],
      "text/plain": [
       "   total                                            results  seed\n",
       "0   1540  {'id': '82d5eb8f-f953-4e16-9015-9b775ff5f292',...   NaN\n",
       "1   1540  {'id': '59ff8102-587a-425e-9976-c4d5d6a268fe',...   NaN\n",
       "2   1540  {'id': '66b19692-f947-44c9-9126-33863021098e',...   NaN\n",
       "3   1540  {'id': '97c4c337-15d4-4c6e-a108-aefcedeb1666',...   NaN\n",
       "4   1540  {'id': '9f71ce59-200c-450a-8987-399eee4fb1dd',...   NaN"
      ]
     },
     "execution_count": 3,
     "metadata": {},
     "output_type": "execute_result"
    }
   ],
   "source": [
    "data.head()"
   ]
  },
  {
   "cell_type": "code",
   "execution_count": 4,
   "id": "a19cf82a",
   "metadata": {},
   "outputs": [
    {
     "data": {
      "text/html": [
       "<div>\n",
       "<style scoped>\n",
       "    .dataframe tbody tr th:only-of-type {\n",
       "        vertical-align: middle;\n",
       "    }\n",
       "\n",
       "    .dataframe tbody tr th {\n",
       "        vertical-align: top;\n",
       "    }\n",
       "\n",
       "    .dataframe thead th {\n",
       "        text-align: right;\n",
       "    }\n",
       "</style>\n",
       "<table border=\"1\" class=\"dataframe\">\n",
       "  <thead>\n",
       "    <tr style=\"text-align: right;\">\n",
       "      <th></th>\n",
       "      <th>total</th>\n",
       "      <th>seed</th>\n",
       "    </tr>\n",
       "  </thead>\n",
       "  <tbody>\n",
       "    <tr>\n",
       "      <th>count</th>\n",
       "      <td>1540.0</td>\n",
       "      <td>0.0</td>\n",
       "    </tr>\n",
       "    <tr>\n",
       "      <th>mean</th>\n",
       "      <td>1540.0</td>\n",
       "      <td>NaN</td>\n",
       "    </tr>\n",
       "    <tr>\n",
       "      <th>std</th>\n",
       "      <td>0.0</td>\n",
       "      <td>NaN</td>\n",
       "    </tr>\n",
       "    <tr>\n",
       "      <th>min</th>\n",
       "      <td>1540.0</td>\n",
       "      <td>NaN</td>\n",
       "    </tr>\n",
       "    <tr>\n",
       "      <th>25%</th>\n",
       "      <td>1540.0</td>\n",
       "      <td>NaN</td>\n",
       "    </tr>\n",
       "    <tr>\n",
       "      <th>50%</th>\n",
       "      <td>1540.0</td>\n",
       "      <td>NaN</td>\n",
       "    </tr>\n",
       "    <tr>\n",
       "      <th>75%</th>\n",
       "      <td>1540.0</td>\n",
       "      <td>NaN</td>\n",
       "    </tr>\n",
       "    <tr>\n",
       "      <th>max</th>\n",
       "      <td>1540.0</td>\n",
       "      <td>NaN</td>\n",
       "    </tr>\n",
       "  </tbody>\n",
       "</table>\n",
       "</div>"
      ],
      "text/plain": [
       "        total  seed\n",
       "count  1540.0   0.0\n",
       "mean   1540.0   NaN\n",
       "std       0.0   NaN\n",
       "min    1540.0   NaN\n",
       "25%    1540.0   NaN\n",
       "50%    1540.0   NaN\n",
       "75%    1540.0   NaN\n",
       "max    1540.0   NaN"
      ]
     },
     "execution_count": 4,
     "metadata": {},
     "output_type": "execute_result"
    }
   ],
   "source": [
    "data.describe()"
   ]
  },
  {
   "cell_type": "code",
   "execution_count": 5,
   "id": "45869abb",
   "metadata": {},
   "outputs": [
    {
     "name": "stdout",
     "output_type": "stream",
     "text": [
      "Index(['total', 'results', 'seed'], dtype='object')\n"
     ]
    }
   ],
   "source": [
    "print(data.columns)"
   ]
  },
  {
   "cell_type": "code",
   "execution_count": 6,
   "id": "40cfe195",
   "metadata": {},
   "outputs": [],
   "source": [
    "dic = data.iloc[1,1]"
   ]
  },
  {
   "cell_type": "code",
   "execution_count": 7,
   "id": "5b6c26a1",
   "metadata": {},
   "outputs": [
    {
     "data": {
      "text/plain": [
       "dict_keys(['id', 'content', 'contentLanguage', 'translatedContent', 'translatedLanguage', 'slug', 'status', 'createdAt', 'updatedAt', 'votes', 'context', 'author', 'organisations', 'tags', 'selectedStakeTag', 'myProposal', 'idea', 'question', 'operationId', 'proposalKey', 'keywords'])"
      ]
     },
     "execution_count": 7,
     "metadata": {},
     "output_type": "execute_result"
    }
   ],
   "source": [
    "dic.keys()"
   ]
  },
  {
   "cell_type": "code",
   "execution_count": 8,
   "id": "8419afde",
   "metadata": {},
   "outputs": [],
   "source": [
    "df = data[\"results\"].apply(pd.Series)"
   ]
  },
  {
   "cell_type": "code",
   "execution_count": 9,
   "id": "16f6d13e",
   "metadata": {},
   "outputs": [
    {
     "data": {
      "text/html": [
       "<div>\n",
       "<style scoped>\n",
       "    .dataframe tbody tr th:only-of-type {\n",
       "        vertical-align: middle;\n",
       "    }\n",
       "\n",
       "    .dataframe tbody tr th {\n",
       "        vertical-align: top;\n",
       "    }\n",
       "\n",
       "    .dataframe thead th {\n",
       "        text-align: right;\n",
       "    }\n",
       "</style>\n",
       "<table border=\"1\" class=\"dataframe\">\n",
       "  <thead>\n",
       "    <tr style=\"text-align: right;\">\n",
       "      <th></th>\n",
       "      <th>id</th>\n",
       "      <th>content</th>\n",
       "      <th>contentLanguage</th>\n",
       "      <th>translatedContent</th>\n",
       "      <th>translatedLanguage</th>\n",
       "      <th>slug</th>\n",
       "      <th>status</th>\n",
       "      <th>createdAt</th>\n",
       "      <th>updatedAt</th>\n",
       "      <th>votes</th>\n",
       "      <th>...</th>\n",
       "      <th>author</th>\n",
       "      <th>organisations</th>\n",
       "      <th>tags</th>\n",
       "      <th>selectedStakeTag</th>\n",
       "      <th>myProposal</th>\n",
       "      <th>idea</th>\n",
       "      <th>question</th>\n",
       "      <th>operationId</th>\n",
       "      <th>proposalKey</th>\n",
       "      <th>keywords</th>\n",
       "    </tr>\n",
       "  </thead>\n",
       "  <tbody>\n",
       "    <tr>\n",
       "      <th>0</th>\n",
       "      <td>82d5eb8f-f953-4e16-9015-9b775ff5f292</td>\n",
       "      <td>Il faut inciter les Français à s'équiper de mo...</td>\n",
       "      <td>fr</td>\n",
       "      <td>None</td>\n",
       "      <td>None</td>\n",
       "      <td>il-faut-inciter-les-francais-a-s-equiper-de-mo...</td>\n",
       "      <td>Accepted</td>\n",
       "      <td>2024-04-01T07:07:29.747Z</td>\n",
       "      <td>2024-04-04T13:48:06.671Z</td>\n",
       "      <td>[{'voteKey': 'agree', 'count': 0, 'score': 0.0...</td>\n",
       "      <td>...</td>\n",
       "      <td>{'userId': '4fad3035-1a13-4ed5-b81a-e1f400e7c6...</td>\n",
       "      <td>[]</td>\n",
       "      <td>[]</td>\n",
       "      <td>None</td>\n",
       "      <td>False</td>\n",
       "      <td>None</td>\n",
       "      <td>{'questionId': '9ccd072f-80e3-45dc-88cb-7b2428...</td>\n",
       "      <td>31297186-cb6d-4b0f-8bf5-0966afad5c97</td>\n",
       "      <td>7c09df8394050ca9d4d51299848e4d415e262904b64d5a...</td>\n",
       "      <td>[]</td>\n",
       "    </tr>\n",
       "    <tr>\n",
       "      <th>1</th>\n",
       "      <td>59ff8102-587a-425e-9976-c4d5d6a268fe</td>\n",
       "      <td>Il faut demander aux sportifs de haut niveau d...</td>\n",
       "      <td>fr</td>\n",
       "      <td>None</td>\n",
       "      <td>None</td>\n",
       "      <td>il-faut-demander-aux-sportifs-de-haut-niveau-d...</td>\n",
       "      <td>Accepted</td>\n",
       "      <td>2024-03-25T17:30:50.114Z</td>\n",
       "      <td>2024-03-27T11:55:43.793Z</td>\n",
       "      <td>[{'voteKey': 'agree', 'count': 39, 'score': 0....</td>\n",
       "      <td>...</td>\n",
       "      <td>{'userId': 'e1606f3c-5d45-4a0e-b2da-7455125ca2...</td>\n",
       "      <td>[]</td>\n",
       "      <td>[]</td>\n",
       "      <td>None</td>\n",
       "      <td>False</td>\n",
       "      <td>None</td>\n",
       "      <td>{'questionId': '9ccd072f-80e3-45dc-88cb-7b2428...</td>\n",
       "      <td>31297186-cb6d-4b0f-8bf5-0966afad5c97</td>\n",
       "      <td>55346575f9c9043695e8a51987848cc5ed0ba6e769af81...</td>\n",
       "      <td>[]</td>\n",
       "    </tr>\n",
       "    <tr>\n",
       "      <th>2</th>\n",
       "      <td>66b19692-f947-44c9-9126-33863021098e</td>\n",
       "      <td>Il faut piétonniser des rues ou routes ou boul...</td>\n",
       "      <td>fr</td>\n",
       "      <td>None</td>\n",
       "      <td>None</td>\n",
       "      <td>il-faut-pietonniser-des-rues-ou-routes-ou-boul...</td>\n",
       "      <td>Accepted</td>\n",
       "      <td>2024-03-24T10:05:38.434Z</td>\n",
       "      <td>2024-03-27T11:49:34.740Z</td>\n",
       "      <td>[{'voteKey': 'agree', 'count': 47, 'score': 0....</td>\n",
       "      <td>...</td>\n",
       "      <td>{'userId': 'b3589dd5-a215-481a-983c-0e4dff1e07...</td>\n",
       "      <td>[]</td>\n",
       "      <td>[]</td>\n",
       "      <td>None</td>\n",
       "      <td>False</td>\n",
       "      <td>None</td>\n",
       "      <td>{'questionId': '9ccd072f-80e3-45dc-88cb-7b2428...</td>\n",
       "      <td>31297186-cb6d-4b0f-8bf5-0966afad5c97</td>\n",
       "      <td>74af4270834811e803846bc54b259696397d2c6834211e...</td>\n",
       "      <td>[]</td>\n",
       "    </tr>\n",
       "    <tr>\n",
       "      <th>3</th>\n",
       "      <td>97c4c337-15d4-4c6e-a108-aefcedeb1666</td>\n",
       "      <td>Il faut organiser des compétitions inter-entre...</td>\n",
       "      <td>fr</td>\n",
       "      <td>None</td>\n",
       "      <td>None</td>\n",
       "      <td>il-faut-organiser-des-competitions-inter-entre...</td>\n",
       "      <td>Accepted</td>\n",
       "      <td>2024-01-29T10:13:07.672Z</td>\n",
       "      <td>2024-04-09T09:18:23.844Z</td>\n",
       "      <td>[{'voteKey': 'agree', 'count': 210, 'score': 0...</td>\n",
       "      <td>...</td>\n",
       "      <td>{'userId': '22448ef2-cae9-42b5-9663-3bcd333fa2...</td>\n",
       "      <td>[]</td>\n",
       "      <td>[{'tagId': '61c27abb-cdbe-404d-96aa-5cbb7dbc7c...</td>\n",
       "      <td>{'tagId': 'd2398cb5-3271-4e40-b28c-fcefbf08c5d...</td>\n",
       "      <td>False</td>\n",
       "      <td>None</td>\n",
       "      <td>{'questionId': '9ccd072f-80e3-45dc-88cb-7b2428...</td>\n",
       "      <td>31297186-cb6d-4b0f-8bf5-0966afad5c97</td>\n",
       "      <td>60feedad89a1827a6b6084a881a24e192d0db95342eba5...</td>\n",
       "      <td>[]</td>\n",
       "    </tr>\n",
       "    <tr>\n",
       "      <th>4</th>\n",
       "      <td>9f71ce59-200c-450a-8987-399eee4fb1dd</td>\n",
       "      <td>Il faut éduquer dès le plus jeune âge les enfa...</td>\n",
       "      <td>fr</td>\n",
       "      <td>None</td>\n",
       "      <td>None</td>\n",
       "      <td>il-faut-eduquer-des-le-plus-jeune-age-les-enfa...</td>\n",
       "      <td>Accepted</td>\n",
       "      <td>2024-03-28T08:51:45.459Z</td>\n",
       "      <td>2024-03-29T15:25:37.970Z</td>\n",
       "      <td>[{'voteKey': 'agree', 'count': 69, 'score': 0....</td>\n",
       "      <td>...</td>\n",
       "      <td>{'userId': 'cbc394ac-1fe0-48e0-ac3f-8b463ed719...</td>\n",
       "      <td>[]</td>\n",
       "      <td>[]</td>\n",
       "      <td>None</td>\n",
       "      <td>False</td>\n",
       "      <td>None</td>\n",
       "      <td>{'questionId': '9ccd072f-80e3-45dc-88cb-7b2428...</td>\n",
       "      <td>31297186-cb6d-4b0f-8bf5-0966afad5c97</td>\n",
       "      <td>504c8ce83f1578631555421219a7067649a12dba3d3af2...</td>\n",
       "      <td>[]</td>\n",
       "    </tr>\n",
       "  </tbody>\n",
       "</table>\n",
       "<p>5 rows × 21 columns</p>\n",
       "</div>"
      ],
      "text/plain": [
       "                                     id  \\\n",
       "0  82d5eb8f-f953-4e16-9015-9b775ff5f292   \n",
       "1  59ff8102-587a-425e-9976-c4d5d6a268fe   \n",
       "2  66b19692-f947-44c9-9126-33863021098e   \n",
       "3  97c4c337-15d4-4c6e-a108-aefcedeb1666   \n",
       "4  9f71ce59-200c-450a-8987-399eee4fb1dd   \n",
       "\n",
       "                                             content contentLanguage  \\\n",
       "0  Il faut inciter les Français à s'équiper de mo...              fr   \n",
       "1  Il faut demander aux sportifs de haut niveau d...              fr   \n",
       "2  Il faut piétonniser des rues ou routes ou boul...              fr   \n",
       "3  Il faut organiser des compétitions inter-entre...              fr   \n",
       "4  Il faut éduquer dès le plus jeune âge les enfa...              fr   \n",
       "\n",
       "  translatedContent translatedLanguage  \\\n",
       "0              None               None   \n",
       "1              None               None   \n",
       "2              None               None   \n",
       "3              None               None   \n",
       "4              None               None   \n",
       "\n",
       "                                                slug    status  \\\n",
       "0  il-faut-inciter-les-francais-a-s-equiper-de-mo...  Accepted   \n",
       "1  il-faut-demander-aux-sportifs-de-haut-niveau-d...  Accepted   \n",
       "2  il-faut-pietonniser-des-rues-ou-routes-ou-boul...  Accepted   \n",
       "3  il-faut-organiser-des-competitions-inter-entre...  Accepted   \n",
       "4  il-faut-eduquer-des-le-plus-jeune-age-les-enfa...  Accepted   \n",
       "\n",
       "                  createdAt                 updatedAt  \\\n",
       "0  2024-04-01T07:07:29.747Z  2024-04-04T13:48:06.671Z   \n",
       "1  2024-03-25T17:30:50.114Z  2024-03-27T11:55:43.793Z   \n",
       "2  2024-03-24T10:05:38.434Z  2024-03-27T11:49:34.740Z   \n",
       "3  2024-01-29T10:13:07.672Z  2024-04-09T09:18:23.844Z   \n",
       "4  2024-03-28T08:51:45.459Z  2024-03-29T15:25:37.970Z   \n",
       "\n",
       "                                               votes  ...  \\\n",
       "0  [{'voteKey': 'agree', 'count': 0, 'score': 0.0...  ...   \n",
       "1  [{'voteKey': 'agree', 'count': 39, 'score': 0....  ...   \n",
       "2  [{'voteKey': 'agree', 'count': 47, 'score': 0....  ...   \n",
       "3  [{'voteKey': 'agree', 'count': 210, 'score': 0...  ...   \n",
       "4  [{'voteKey': 'agree', 'count': 69, 'score': 0....  ...   \n",
       "\n",
       "                                              author organisations  \\\n",
       "0  {'userId': '4fad3035-1a13-4ed5-b81a-e1f400e7c6...            []   \n",
       "1  {'userId': 'e1606f3c-5d45-4a0e-b2da-7455125ca2...            []   \n",
       "2  {'userId': 'b3589dd5-a215-481a-983c-0e4dff1e07...            []   \n",
       "3  {'userId': '22448ef2-cae9-42b5-9663-3bcd333fa2...            []   \n",
       "4  {'userId': 'cbc394ac-1fe0-48e0-ac3f-8b463ed719...            []   \n",
       "\n",
       "                                                tags  \\\n",
       "0                                                 []   \n",
       "1                                                 []   \n",
       "2                                                 []   \n",
       "3  [{'tagId': '61c27abb-cdbe-404d-96aa-5cbb7dbc7c...   \n",
       "4                                                 []   \n",
       "\n",
       "                                    selectedStakeTag myProposal  idea  \\\n",
       "0                                               None      False  None   \n",
       "1                                               None      False  None   \n",
       "2                                               None      False  None   \n",
       "3  {'tagId': 'd2398cb5-3271-4e40-b28c-fcefbf08c5d...      False  None   \n",
       "4                                               None      False  None   \n",
       "\n",
       "                                            question  \\\n",
       "0  {'questionId': '9ccd072f-80e3-45dc-88cb-7b2428...   \n",
       "1  {'questionId': '9ccd072f-80e3-45dc-88cb-7b2428...   \n",
       "2  {'questionId': '9ccd072f-80e3-45dc-88cb-7b2428...   \n",
       "3  {'questionId': '9ccd072f-80e3-45dc-88cb-7b2428...   \n",
       "4  {'questionId': '9ccd072f-80e3-45dc-88cb-7b2428...   \n",
       "\n",
       "                            operationId  \\\n",
       "0  31297186-cb6d-4b0f-8bf5-0966afad5c97   \n",
       "1  31297186-cb6d-4b0f-8bf5-0966afad5c97   \n",
       "2  31297186-cb6d-4b0f-8bf5-0966afad5c97   \n",
       "3  31297186-cb6d-4b0f-8bf5-0966afad5c97   \n",
       "4  31297186-cb6d-4b0f-8bf5-0966afad5c97   \n",
       "\n",
       "                                         proposalKey keywords  \n",
       "0  7c09df8394050ca9d4d51299848e4d415e262904b64d5a...       []  \n",
       "1  55346575f9c9043695e8a51987848cc5ed0ba6e769af81...       []  \n",
       "2  74af4270834811e803846bc54b259696397d2c6834211e...       []  \n",
       "3  60feedad89a1827a6b6084a881a24e192d0db95342eba5...       []  \n",
       "4  504c8ce83f1578631555421219a7067649a12dba3d3af2...       []  \n",
       "\n",
       "[5 rows x 21 columns]"
      ]
     },
     "execution_count": 9,
     "metadata": {},
     "output_type": "execute_result"
    }
   ],
   "source": [
    "df.head()"
   ]
  },
  {
   "cell_type": "code",
   "execution_count": 10,
   "id": "39a73b13",
   "metadata": {},
   "outputs": [
    {
     "data": {
      "text/plain": [
       "{'id': '59ff8102-587a-425e-9976-c4d5d6a268fe',\n",
       " 'content': \"Il faut demander aux sportifs de haut niveau d'expliquer au public en quoi l'exercice physique peut s'avérer essentiel dans la vie.\",\n",
       " 'contentLanguage': 'fr',\n",
       " 'translatedContent': None,\n",
       " 'translatedLanguage': None,\n",
       " 'slug': 'il-faut-demander-aux-sportifs-de-haut-niveau-d-expliquer-au-public-en-quoi-l-exercice-physique-peut-s-averer-essentiel-dans-la-vie',\n",
       " 'status': 'Accepted',\n",
       " 'createdAt': '2024-03-25T17:30:50.114Z',\n",
       " 'updatedAt': '2024-03-27T11:55:43.793Z',\n",
       " 'votes': [{'voteKey': 'agree',\n",
       "   'count': 39,\n",
       "   'score': 0.45,\n",
       "   'qualifications': [{'qualificationKey': 'likeIt',\n",
       "     'count': 6,\n",
       "     'hasQualified': False},\n",
       "    {'qualificationKey': 'platitudeAgree', 'count': 6, 'hasQualified': False},\n",
       "    {'qualificationKey': 'doable', 'count': 14, 'hasQualified': False}],\n",
       "   'hasVoted': False},\n",
       "  {'voteKey': 'neutral',\n",
       "   'count': 29,\n",
       "   'score': 0.34,\n",
       "   'qualifications': [{'qualificationKey': 'noOpinion',\n",
       "     'count': 14,\n",
       "     'hasQualified': False},\n",
       "    {'qualificationKey': 'doNotUnderstand', 'count': 0, 'hasQualified': False},\n",
       "    {'qualificationKey': 'doNotCare', 'count': 9, 'hasQualified': False}],\n",
       "   'hasVoted': False},\n",
       "  {'voteKey': 'disagree',\n",
       "   'count': 19,\n",
       "   'score': 0.21,\n",
       "   'qualifications': [{'qualificationKey': 'impossible',\n",
       "     'count': 2,\n",
       "     'hasQualified': False},\n",
       "    {'qualificationKey': 'noWay', 'count': 5, 'hasQualified': False},\n",
       "    {'qualificationKey': 'platitudeDisagree',\n",
       "     'count': 7,\n",
       "     'hasQualified': False}],\n",
       "   'hasVoted': False}],\n",
       " 'context': {'operation': None,\n",
       "  'source': 'core',\n",
       "  'location': 'sequence',\n",
       "  'questionSlug': 'pratiquedusport',\n",
       "  'country': 'FR',\n",
       "  'questionLanguage': 'fr',\n",
       "  'proposalLanguage': None,\n",
       "  'clientLanguage': 'fr',\n",
       "  'getParameters': []},\n",
       " 'author': {'userId': 'e1606f3c-5d45-4a0e-b2da-7455125ca204',\n",
       "  'firstName': 'Claude',\n",
       "  'displayName': 'Claude',\n",
       "  'organisationName': None,\n",
       "  'organisationSlug': None,\n",
       "  'postalCode': None,\n",
       "  'age': None,\n",
       "  'avatarUrl': 'https://assets.make.org/assets/avatars/2024/3/07d05ba2-ba21-441d-ba8b-0ef9e7dd7a38.jpeg',\n",
       "  'userType': 'USER'},\n",
       " 'organisations': [],\n",
       " 'tags': [],\n",
       " 'selectedStakeTag': None,\n",
       " 'myProposal': False,\n",
       " 'idea': None,\n",
       " 'question': {'questionId': '9ccd072f-80e3-45dc-88cb-7b2428e437be',\n",
       "  'slug': 'pratiquedusport',\n",
       "  'wording': {'title': 'Pratique du sport',\n",
       "   'question': 'Comment favoriser la pratique sportive de tous les Français en 2024 et après ?'},\n",
       "  'countries': ['FR'],\n",
       "  'preferredLanguage': None,\n",
       "  'returnedLanguage': 'fr',\n",
       "  'startDate': '2024-02-27T15:00:00.000Z',\n",
       "  'endDate': '2024-04-28T21:59:00.000Z'},\n",
       " 'operationId': '31297186-cb6d-4b0f-8bf5-0966afad5c97',\n",
       " 'proposalKey': '55346575f9c9043695e8a51987848cc5ed0ba6e769af81fa0c9472a331091c70742b6f4edc9447b74632a25714f3a0c44be3bed7864aa5ec7c5645c0f163bb44',\n",
       " 'keywords': []}"
      ]
     },
     "execution_count": 10,
     "metadata": {},
     "output_type": "execute_result"
    }
   ],
   "source": [
    "dic"
   ]
  },
  {
   "cell_type": "code",
   "execution_count": 11,
   "id": "ad0b18e6",
   "metadata": {},
   "outputs": [
    {
     "data": {
      "text/plain": [
       "keywords\n",
       "[]                                                                                                                                                                                   765\n",
       "[{'key': 'sport', 'label': 'Sport'}]                                                                                                                                                 507\n",
       "[{'key': 'activité', 'label': 'Activités'}]                                                                                                                                           96\n",
       "[{'key': 'activité physique', 'label': 'Activités physiques'}, {'key': 'activité', 'label': 'Activités'}]                                                                             75\n",
       "[{'key': 'sport', 'label': 'Sport'}, {'key': 'santé', 'label': 'Santé'}]                                                                                                              29\n",
       "[{'key': 'santé', 'label': 'Santé'}]                                                                                                                                                  25\n",
       "[{'key': 'sport', 'label': 'Sport'}, {'key': 'activité', 'label': 'Activités'}]                                                                                                       18\n",
       "[{'key': 'sport', 'label': 'Sport'}, {'key': 'activité physique', 'label': 'Activités physiques'}, {'key': 'activité', 'label': 'Activités'}]                                         12\n",
       "[{'key': 'santé', 'label': 'Santé'}, {'key': 'activité physique', 'label': 'Activités physiques'}, {'key': 'activité', 'label': 'Activités'}]                                          7\n",
       "[{'key': 'santé', 'label': 'Santé'}, {'key': 'activité', 'label': 'Activités'}]                                                                                                        4\n",
       "[{'key': 'sport', 'label': 'Sport'}, {'key': 'santé', 'label': 'Santé'}, {'key': 'activité', 'label': 'Activités'}]                                                                    1\n",
       "[{'key': 'sport', 'label': 'Sport'}, {'key': 'santé', 'label': 'Santé'}, {'key': 'activité physique', 'label': 'Activités physiques'}, {'key': 'activité', 'label': 'Activités'}]      1\n",
       "Name: count, dtype: int64"
      ]
     },
     "execution_count": 11,
     "metadata": {},
     "output_type": "execute_result"
    }
   ],
   "source": [
    "df[\"keywords\"].value_counts()"
   ]
  },
  {
   "cell_type": "code",
   "execution_count": 12,
   "id": "bb52b6df",
   "metadata": {},
   "outputs": [],
   "source": [
    "col = [\"id\", \"content\", \"slug\", \"createdAt\", \"updatedAt\", \"votes\", \"author\"]"
   ]
  },
  {
   "cell_type": "code",
   "execution_count": 13,
   "id": "cbea9a98",
   "metadata": {},
   "outputs": [],
   "source": [
    "df = df[col].copy()"
   ]
  },
  {
   "cell_type": "code",
   "execution_count": 14,
   "id": "2a4348b1",
   "metadata": {},
   "outputs": [
    {
     "data": {
      "text/html": [
       "<div>\n",
       "<style scoped>\n",
       "    .dataframe tbody tr th:only-of-type {\n",
       "        vertical-align: middle;\n",
       "    }\n",
       "\n",
       "    .dataframe tbody tr th {\n",
       "        vertical-align: top;\n",
       "    }\n",
       "\n",
       "    .dataframe thead th {\n",
       "        text-align: right;\n",
       "    }\n",
       "</style>\n",
       "<table border=\"1\" class=\"dataframe\">\n",
       "  <thead>\n",
       "    <tr style=\"text-align: right;\">\n",
       "      <th></th>\n",
       "      <th>id</th>\n",
       "      <th>content</th>\n",
       "      <th>slug</th>\n",
       "      <th>createdAt</th>\n",
       "      <th>updatedAt</th>\n",
       "      <th>votes</th>\n",
       "      <th>author</th>\n",
       "    </tr>\n",
       "  </thead>\n",
       "  <tbody>\n",
       "    <tr>\n",
       "      <th>0</th>\n",
       "      <td>82d5eb8f-f953-4e16-9015-9b775ff5f292</td>\n",
       "      <td>Il faut inciter les Français à s'équiper de mo...</td>\n",
       "      <td>il-faut-inciter-les-francais-a-s-equiper-de-mo...</td>\n",
       "      <td>2024-04-01T07:07:29.747Z</td>\n",
       "      <td>2024-04-04T13:48:06.671Z</td>\n",
       "      <td>[{'voteKey': 'agree', 'count': 0, 'score': 0.0...</td>\n",
       "      <td>{'userId': '4fad3035-1a13-4ed5-b81a-e1f400e7c6...</td>\n",
       "    </tr>\n",
       "    <tr>\n",
       "      <th>1</th>\n",
       "      <td>59ff8102-587a-425e-9976-c4d5d6a268fe</td>\n",
       "      <td>Il faut demander aux sportifs de haut niveau d...</td>\n",
       "      <td>il-faut-demander-aux-sportifs-de-haut-niveau-d...</td>\n",
       "      <td>2024-03-25T17:30:50.114Z</td>\n",
       "      <td>2024-03-27T11:55:43.793Z</td>\n",
       "      <td>[{'voteKey': 'agree', 'count': 39, 'score': 0....</td>\n",
       "      <td>{'userId': 'e1606f3c-5d45-4a0e-b2da-7455125ca2...</td>\n",
       "    </tr>\n",
       "    <tr>\n",
       "      <th>2</th>\n",
       "      <td>66b19692-f947-44c9-9126-33863021098e</td>\n",
       "      <td>Il faut piétonniser des rues ou routes ou boul...</td>\n",
       "      <td>il-faut-pietonniser-des-rues-ou-routes-ou-boul...</td>\n",
       "      <td>2024-03-24T10:05:38.434Z</td>\n",
       "      <td>2024-03-27T11:49:34.740Z</td>\n",
       "      <td>[{'voteKey': 'agree', 'count': 47, 'score': 0....</td>\n",
       "      <td>{'userId': 'b3589dd5-a215-481a-983c-0e4dff1e07...</td>\n",
       "    </tr>\n",
       "    <tr>\n",
       "      <th>3</th>\n",
       "      <td>97c4c337-15d4-4c6e-a108-aefcedeb1666</td>\n",
       "      <td>Il faut organiser des compétitions inter-entre...</td>\n",
       "      <td>il-faut-organiser-des-competitions-inter-entre...</td>\n",
       "      <td>2024-01-29T10:13:07.672Z</td>\n",
       "      <td>2024-04-09T09:18:23.844Z</td>\n",
       "      <td>[{'voteKey': 'agree', 'count': 210, 'score': 0...</td>\n",
       "      <td>{'userId': '22448ef2-cae9-42b5-9663-3bcd333fa2...</td>\n",
       "    </tr>\n",
       "    <tr>\n",
       "      <th>4</th>\n",
       "      <td>9f71ce59-200c-450a-8987-399eee4fb1dd</td>\n",
       "      <td>Il faut éduquer dès le plus jeune âge les enfa...</td>\n",
       "      <td>il-faut-eduquer-des-le-plus-jeune-age-les-enfa...</td>\n",
       "      <td>2024-03-28T08:51:45.459Z</td>\n",
       "      <td>2024-03-29T15:25:37.970Z</td>\n",
       "      <td>[{'voteKey': 'agree', 'count': 69, 'score': 0....</td>\n",
       "      <td>{'userId': 'cbc394ac-1fe0-48e0-ac3f-8b463ed719...</td>\n",
       "    </tr>\n",
       "  </tbody>\n",
       "</table>\n",
       "</div>"
      ],
      "text/plain": [
       "                                     id  \\\n",
       "0  82d5eb8f-f953-4e16-9015-9b775ff5f292   \n",
       "1  59ff8102-587a-425e-9976-c4d5d6a268fe   \n",
       "2  66b19692-f947-44c9-9126-33863021098e   \n",
       "3  97c4c337-15d4-4c6e-a108-aefcedeb1666   \n",
       "4  9f71ce59-200c-450a-8987-399eee4fb1dd   \n",
       "\n",
       "                                             content  \\\n",
       "0  Il faut inciter les Français à s'équiper de mo...   \n",
       "1  Il faut demander aux sportifs de haut niveau d...   \n",
       "2  Il faut piétonniser des rues ou routes ou boul...   \n",
       "3  Il faut organiser des compétitions inter-entre...   \n",
       "4  Il faut éduquer dès le plus jeune âge les enfa...   \n",
       "\n",
       "                                                slug  \\\n",
       "0  il-faut-inciter-les-francais-a-s-equiper-de-mo...   \n",
       "1  il-faut-demander-aux-sportifs-de-haut-niveau-d...   \n",
       "2  il-faut-pietonniser-des-rues-ou-routes-ou-boul...   \n",
       "3  il-faut-organiser-des-competitions-inter-entre...   \n",
       "4  il-faut-eduquer-des-le-plus-jeune-age-les-enfa...   \n",
       "\n",
       "                  createdAt                 updatedAt  \\\n",
       "0  2024-04-01T07:07:29.747Z  2024-04-04T13:48:06.671Z   \n",
       "1  2024-03-25T17:30:50.114Z  2024-03-27T11:55:43.793Z   \n",
       "2  2024-03-24T10:05:38.434Z  2024-03-27T11:49:34.740Z   \n",
       "3  2024-01-29T10:13:07.672Z  2024-04-09T09:18:23.844Z   \n",
       "4  2024-03-28T08:51:45.459Z  2024-03-29T15:25:37.970Z   \n",
       "\n",
       "                                               votes  \\\n",
       "0  [{'voteKey': 'agree', 'count': 0, 'score': 0.0...   \n",
       "1  [{'voteKey': 'agree', 'count': 39, 'score': 0....   \n",
       "2  [{'voteKey': 'agree', 'count': 47, 'score': 0....   \n",
       "3  [{'voteKey': 'agree', 'count': 210, 'score': 0...   \n",
       "4  [{'voteKey': 'agree', 'count': 69, 'score': 0....   \n",
       "\n",
       "                                              author  \n",
       "0  {'userId': '4fad3035-1a13-4ed5-b81a-e1f400e7c6...  \n",
       "1  {'userId': 'e1606f3c-5d45-4a0e-b2da-7455125ca2...  \n",
       "2  {'userId': 'b3589dd5-a215-481a-983c-0e4dff1e07...  \n",
       "3  {'userId': '22448ef2-cae9-42b5-9663-3bcd333fa2...  \n",
       "4  {'userId': 'cbc394ac-1fe0-48e0-ac3f-8b463ed719...  "
      ]
     },
     "execution_count": 14,
     "metadata": {},
     "output_type": "execute_result"
    }
   ],
   "source": [
    "df.head()"
   ]
  },
  {
   "cell_type": "code",
   "execution_count": 15,
   "id": "2ad77168",
   "metadata": {},
   "outputs": [],
   "source": [
    "def votes(raw) :\n",
    "    liste = []\n",
    "    for r in raw :\n",
    "        r_count = r[\"count\"]\n",
    "        qualif_r = [c[\"count\"] for c in r[\"qualifications\"]]\n",
    "        liste.append((r_count,(qualif_r)))\n",
    "    return liste\n",
    "\n",
    "    "
   ]
  },
  {
   "cell_type": "code",
   "execution_count": 16,
   "id": "737bdb12",
   "metadata": {},
   "outputs": [],
   "source": [
    "df[\"vote_ajusted\"]=df['votes'].apply(votes)"
   ]
  },
  {
   "cell_type": "code",
   "execution_count": 17,
   "id": "60821a35",
   "metadata": {},
   "outputs": [],
   "source": [
    "df[\"vote_agree\"] = df[\"vote_ajusted\"].str[0]\n",
    "df[\"vote_neutral\"] = df[\"vote_ajusted\"].str[1]\n",
    "df[\"vote_disagree\"] = df[\"vote_ajusted\"].str[2]"
   ]
  },
  {
   "cell_type": "code",
   "execution_count": 18,
   "id": "9bcb1085",
   "metadata": {},
   "outputs": [
    {
     "data": {
      "text/html": [
       "<div>\n",
       "<style scoped>\n",
       "    .dataframe tbody tr th:only-of-type {\n",
       "        vertical-align: middle;\n",
       "    }\n",
       "\n",
       "    .dataframe tbody tr th {\n",
       "        vertical-align: top;\n",
       "    }\n",
       "\n",
       "    .dataframe thead th {\n",
       "        text-align: right;\n",
       "    }\n",
       "</style>\n",
       "<table border=\"1\" class=\"dataframe\">\n",
       "  <thead>\n",
       "    <tr style=\"text-align: right;\">\n",
       "      <th></th>\n",
       "      <th>id</th>\n",
       "      <th>content</th>\n",
       "      <th>slug</th>\n",
       "      <th>createdAt</th>\n",
       "      <th>updatedAt</th>\n",
       "      <th>votes</th>\n",
       "      <th>author</th>\n",
       "      <th>vote_ajusted</th>\n",
       "      <th>vote_agree</th>\n",
       "      <th>vote_neutral</th>\n",
       "      <th>vote_disagree</th>\n",
       "    </tr>\n",
       "  </thead>\n",
       "  <tbody>\n",
       "    <tr>\n",
       "      <th>0</th>\n",
       "      <td>82d5eb8f-f953-4e16-9015-9b775ff5f292</td>\n",
       "      <td>Il faut inciter les Français à s'équiper de mo...</td>\n",
       "      <td>il-faut-inciter-les-francais-a-s-equiper-de-mo...</td>\n",
       "      <td>2024-04-01T07:07:29.747Z</td>\n",
       "      <td>2024-04-04T13:48:06.671Z</td>\n",
       "      <td>[{'voteKey': 'agree', 'count': 0, 'score': 0.0...</td>\n",
       "      <td>{'userId': '4fad3035-1a13-4ed5-b81a-e1f400e7c6...</td>\n",
       "      <td>[(0, [0, 0, 0]), (6, [1, 0, 3]), (10, [1, 5, 3])]</td>\n",
       "      <td>(0, [0, 0, 0])</td>\n",
       "      <td>(6, [1, 0, 3])</td>\n",
       "      <td>(10, [1, 5, 3])</td>\n",
       "    </tr>\n",
       "    <tr>\n",
       "      <th>1</th>\n",
       "      <td>59ff8102-587a-425e-9976-c4d5d6a268fe</td>\n",
       "      <td>Il faut demander aux sportifs de haut niveau d...</td>\n",
       "      <td>il-faut-demander-aux-sportifs-de-haut-niveau-d...</td>\n",
       "      <td>2024-03-25T17:30:50.114Z</td>\n",
       "      <td>2024-03-27T11:55:43.793Z</td>\n",
       "      <td>[{'voteKey': 'agree', 'count': 39, 'score': 0....</td>\n",
       "      <td>{'userId': 'e1606f3c-5d45-4a0e-b2da-7455125ca2...</td>\n",
       "      <td>[(39, [6, 6, 14]), (29, [14, 0, 9]), (19, [2, ...</td>\n",
       "      <td>(39, [6, 6, 14])</td>\n",
       "      <td>(29, [14, 0, 9])</td>\n",
       "      <td>(19, [2, 5, 7])</td>\n",
       "    </tr>\n",
       "    <tr>\n",
       "      <th>2</th>\n",
       "      <td>66b19692-f947-44c9-9126-33863021098e</td>\n",
       "      <td>Il faut piétonniser des rues ou routes ou boul...</td>\n",
       "      <td>il-faut-pietonniser-des-rues-ou-routes-ou-boul...</td>\n",
       "      <td>2024-03-24T10:05:38.434Z</td>\n",
       "      <td>2024-03-27T11:49:34.740Z</td>\n",
       "      <td>[{'voteKey': 'agree', 'count': 47, 'score': 0....</td>\n",
       "      <td>{'userId': 'b3589dd5-a215-481a-983c-0e4dff1e07...</td>\n",
       "      <td>[(47, [13, 4, 16]), (18, [7, 2, 3]), (18, [2, ...</td>\n",
       "      <td>(47, [13, 4, 16])</td>\n",
       "      <td>(18, [7, 2, 3])</td>\n",
       "      <td>(18, [2, 8, 3])</td>\n",
       "    </tr>\n",
       "    <tr>\n",
       "      <th>3</th>\n",
       "      <td>97c4c337-15d4-4c6e-a108-aefcedeb1666</td>\n",
       "      <td>Il faut organiser des compétitions inter-entre...</td>\n",
       "      <td>il-faut-organiser-des-competitions-inter-entre...</td>\n",
       "      <td>2024-01-29T10:13:07.672Z</td>\n",
       "      <td>2024-04-09T09:18:23.844Z</td>\n",
       "      <td>[{'voteKey': 'agree', 'count': 210, 'score': 0...</td>\n",
       "      <td>{'userId': '22448ef2-cae9-42b5-9663-3bcd333fa2...</td>\n",
       "      <td>[(210, [38, 21, 60]), (155, [48, 4, 52]), (205...</td>\n",
       "      <td>(210, [38, 21, 60])</td>\n",
       "      <td>(155, [48, 4, 52])</td>\n",
       "      <td>(205, [41, 57, 62])</td>\n",
       "    </tr>\n",
       "    <tr>\n",
       "      <th>4</th>\n",
       "      <td>9f71ce59-200c-450a-8987-399eee4fb1dd</td>\n",
       "      <td>Il faut éduquer dès le plus jeune âge les enfa...</td>\n",
       "      <td>il-faut-eduquer-des-le-plus-jeune-age-les-enfa...</td>\n",
       "      <td>2024-03-28T08:51:45.459Z</td>\n",
       "      <td>2024-03-29T15:25:37.970Z</td>\n",
       "      <td>[{'voteKey': 'agree', 'count': 69, 'score': 0....</td>\n",
       "      <td>{'userId': 'cbc394ac-1fe0-48e0-ac3f-8b463ed719...</td>\n",
       "      <td>[(69, [14, 6, 24]), (13, [2, 6, 3]), (4, [0, 1...</td>\n",
       "      <td>(69, [14, 6, 24])</td>\n",
       "      <td>(13, [2, 6, 3])</td>\n",
       "      <td>(4, [0, 1, 3])</td>\n",
       "    </tr>\n",
       "  </tbody>\n",
       "</table>\n",
       "</div>"
      ],
      "text/plain": [
       "                                     id  \\\n",
       "0  82d5eb8f-f953-4e16-9015-9b775ff5f292   \n",
       "1  59ff8102-587a-425e-9976-c4d5d6a268fe   \n",
       "2  66b19692-f947-44c9-9126-33863021098e   \n",
       "3  97c4c337-15d4-4c6e-a108-aefcedeb1666   \n",
       "4  9f71ce59-200c-450a-8987-399eee4fb1dd   \n",
       "\n",
       "                                             content  \\\n",
       "0  Il faut inciter les Français à s'équiper de mo...   \n",
       "1  Il faut demander aux sportifs de haut niveau d...   \n",
       "2  Il faut piétonniser des rues ou routes ou boul...   \n",
       "3  Il faut organiser des compétitions inter-entre...   \n",
       "4  Il faut éduquer dès le plus jeune âge les enfa...   \n",
       "\n",
       "                                                slug  \\\n",
       "0  il-faut-inciter-les-francais-a-s-equiper-de-mo...   \n",
       "1  il-faut-demander-aux-sportifs-de-haut-niveau-d...   \n",
       "2  il-faut-pietonniser-des-rues-ou-routes-ou-boul...   \n",
       "3  il-faut-organiser-des-competitions-inter-entre...   \n",
       "4  il-faut-eduquer-des-le-plus-jeune-age-les-enfa...   \n",
       "\n",
       "                  createdAt                 updatedAt  \\\n",
       "0  2024-04-01T07:07:29.747Z  2024-04-04T13:48:06.671Z   \n",
       "1  2024-03-25T17:30:50.114Z  2024-03-27T11:55:43.793Z   \n",
       "2  2024-03-24T10:05:38.434Z  2024-03-27T11:49:34.740Z   \n",
       "3  2024-01-29T10:13:07.672Z  2024-04-09T09:18:23.844Z   \n",
       "4  2024-03-28T08:51:45.459Z  2024-03-29T15:25:37.970Z   \n",
       "\n",
       "                                               votes  \\\n",
       "0  [{'voteKey': 'agree', 'count': 0, 'score': 0.0...   \n",
       "1  [{'voteKey': 'agree', 'count': 39, 'score': 0....   \n",
       "2  [{'voteKey': 'agree', 'count': 47, 'score': 0....   \n",
       "3  [{'voteKey': 'agree', 'count': 210, 'score': 0...   \n",
       "4  [{'voteKey': 'agree', 'count': 69, 'score': 0....   \n",
       "\n",
       "                                              author  \\\n",
       "0  {'userId': '4fad3035-1a13-4ed5-b81a-e1f400e7c6...   \n",
       "1  {'userId': 'e1606f3c-5d45-4a0e-b2da-7455125ca2...   \n",
       "2  {'userId': 'b3589dd5-a215-481a-983c-0e4dff1e07...   \n",
       "3  {'userId': '22448ef2-cae9-42b5-9663-3bcd333fa2...   \n",
       "4  {'userId': 'cbc394ac-1fe0-48e0-ac3f-8b463ed719...   \n",
       "\n",
       "                                        vote_ajusted           vote_agree  \\\n",
       "0  [(0, [0, 0, 0]), (6, [1, 0, 3]), (10, [1, 5, 3])]       (0, [0, 0, 0])   \n",
       "1  [(39, [6, 6, 14]), (29, [14, 0, 9]), (19, [2, ...     (39, [6, 6, 14])   \n",
       "2  [(47, [13, 4, 16]), (18, [7, 2, 3]), (18, [2, ...    (47, [13, 4, 16])   \n",
       "3  [(210, [38, 21, 60]), (155, [48, 4, 52]), (205...  (210, [38, 21, 60])   \n",
       "4  [(69, [14, 6, 24]), (13, [2, 6, 3]), (4, [0, 1...    (69, [14, 6, 24])   \n",
       "\n",
       "         vote_neutral        vote_disagree  \n",
       "0      (6, [1, 0, 3])      (10, [1, 5, 3])  \n",
       "1    (29, [14, 0, 9])      (19, [2, 5, 7])  \n",
       "2     (18, [7, 2, 3])      (18, [2, 8, 3])  \n",
       "3  (155, [48, 4, 52])  (205, [41, 57, 62])  \n",
       "4     (13, [2, 6, 3])       (4, [0, 1, 3])  "
      ]
     },
     "execution_count": 18,
     "metadata": {},
     "output_type": "execute_result"
    }
   ],
   "source": [
    "df.head()"
   ]
  },
  {
   "cell_type": "code",
   "execution_count": 19,
   "id": "56fcfc24",
   "metadata": {},
   "outputs": [
    {
     "data": {
      "text/plain": [
       "[{'voteKey': 'agree',\n",
       "  'count': 39,\n",
       "  'score': 0.45,\n",
       "  'qualifications': [{'qualificationKey': 'likeIt',\n",
       "    'count': 6,\n",
       "    'hasQualified': False},\n",
       "   {'qualificationKey': 'platitudeAgree', 'count': 6, 'hasQualified': False},\n",
       "   {'qualificationKey': 'doable', 'count': 14, 'hasQualified': False}],\n",
       "  'hasVoted': False},\n",
       " {'voteKey': 'neutral',\n",
       "  'count': 29,\n",
       "  'score': 0.34,\n",
       "  'qualifications': [{'qualificationKey': 'noOpinion',\n",
       "    'count': 14,\n",
       "    'hasQualified': False},\n",
       "   {'qualificationKey': 'doNotUnderstand', 'count': 0, 'hasQualified': False},\n",
       "   {'qualificationKey': 'doNotCare', 'count': 9, 'hasQualified': False}],\n",
       "  'hasVoted': False},\n",
       " {'voteKey': 'disagree',\n",
       "  'count': 19,\n",
       "  'score': 0.21,\n",
       "  'qualifications': [{'qualificationKey': 'impossible',\n",
       "    'count': 2,\n",
       "    'hasQualified': False},\n",
       "   {'qualificationKey': 'noWay', 'count': 5, 'hasQualified': False},\n",
       "   {'qualificationKey': 'platitudeDisagree',\n",
       "    'count': 7,\n",
       "    'hasQualified': False}],\n",
       "  'hasVoted': False}]"
      ]
     },
     "execution_count": 19,
     "metadata": {},
     "output_type": "execute_result"
    }
   ],
   "source": [
    "dic['votes']\n"
   ]
  },
  {
   "cell_type": "code",
   "execution_count": 20,
   "id": "77c09607",
   "metadata": {},
   "outputs": [],
   "source": [
    "df = df.drop(columns=[\"votes\", \"vote_ajusted\"])"
   ]
  },
  {
   "cell_type": "code",
   "execution_count": 21,
   "id": "5c246bbc",
   "metadata": {},
   "outputs": [
    {
     "data": {
      "text/html": [
       "<div>\n",
       "<style scoped>\n",
       "    .dataframe tbody tr th:only-of-type {\n",
       "        vertical-align: middle;\n",
       "    }\n",
       "\n",
       "    .dataframe tbody tr th {\n",
       "        vertical-align: top;\n",
       "    }\n",
       "\n",
       "    .dataframe thead th {\n",
       "        text-align: right;\n",
       "    }\n",
       "</style>\n",
       "<table border=\"1\" class=\"dataframe\">\n",
       "  <thead>\n",
       "    <tr style=\"text-align: right;\">\n",
       "      <th></th>\n",
       "      <th>id</th>\n",
       "      <th>content</th>\n",
       "      <th>slug</th>\n",
       "      <th>createdAt</th>\n",
       "      <th>updatedAt</th>\n",
       "      <th>author</th>\n",
       "      <th>vote_agree</th>\n",
       "      <th>vote_neutral</th>\n",
       "      <th>vote_disagree</th>\n",
       "    </tr>\n",
       "  </thead>\n",
       "  <tbody>\n",
       "    <tr>\n",
       "      <th>0</th>\n",
       "      <td>82d5eb8f-f953-4e16-9015-9b775ff5f292</td>\n",
       "      <td>Il faut inciter les Français à s'équiper de mo...</td>\n",
       "      <td>il-faut-inciter-les-francais-a-s-equiper-de-mo...</td>\n",
       "      <td>2024-04-01T07:07:29.747Z</td>\n",
       "      <td>2024-04-04T13:48:06.671Z</td>\n",
       "      <td>{'userId': '4fad3035-1a13-4ed5-b81a-e1f400e7c6...</td>\n",
       "      <td>(0, [0, 0, 0])</td>\n",
       "      <td>(6, [1, 0, 3])</td>\n",
       "      <td>(10, [1, 5, 3])</td>\n",
       "    </tr>\n",
       "    <tr>\n",
       "      <th>1</th>\n",
       "      <td>59ff8102-587a-425e-9976-c4d5d6a268fe</td>\n",
       "      <td>Il faut demander aux sportifs de haut niveau d...</td>\n",
       "      <td>il-faut-demander-aux-sportifs-de-haut-niveau-d...</td>\n",
       "      <td>2024-03-25T17:30:50.114Z</td>\n",
       "      <td>2024-03-27T11:55:43.793Z</td>\n",
       "      <td>{'userId': 'e1606f3c-5d45-4a0e-b2da-7455125ca2...</td>\n",
       "      <td>(39, [6, 6, 14])</td>\n",
       "      <td>(29, [14, 0, 9])</td>\n",
       "      <td>(19, [2, 5, 7])</td>\n",
       "    </tr>\n",
       "    <tr>\n",
       "      <th>2</th>\n",
       "      <td>66b19692-f947-44c9-9126-33863021098e</td>\n",
       "      <td>Il faut piétonniser des rues ou routes ou boul...</td>\n",
       "      <td>il-faut-pietonniser-des-rues-ou-routes-ou-boul...</td>\n",
       "      <td>2024-03-24T10:05:38.434Z</td>\n",
       "      <td>2024-03-27T11:49:34.740Z</td>\n",
       "      <td>{'userId': 'b3589dd5-a215-481a-983c-0e4dff1e07...</td>\n",
       "      <td>(47, [13, 4, 16])</td>\n",
       "      <td>(18, [7, 2, 3])</td>\n",
       "      <td>(18, [2, 8, 3])</td>\n",
       "    </tr>\n",
       "    <tr>\n",
       "      <th>3</th>\n",
       "      <td>97c4c337-15d4-4c6e-a108-aefcedeb1666</td>\n",
       "      <td>Il faut organiser des compétitions inter-entre...</td>\n",
       "      <td>il-faut-organiser-des-competitions-inter-entre...</td>\n",
       "      <td>2024-01-29T10:13:07.672Z</td>\n",
       "      <td>2024-04-09T09:18:23.844Z</td>\n",
       "      <td>{'userId': '22448ef2-cae9-42b5-9663-3bcd333fa2...</td>\n",
       "      <td>(210, [38, 21, 60])</td>\n",
       "      <td>(155, [48, 4, 52])</td>\n",
       "      <td>(205, [41, 57, 62])</td>\n",
       "    </tr>\n",
       "    <tr>\n",
       "      <th>4</th>\n",
       "      <td>9f71ce59-200c-450a-8987-399eee4fb1dd</td>\n",
       "      <td>Il faut éduquer dès le plus jeune âge les enfa...</td>\n",
       "      <td>il-faut-eduquer-des-le-plus-jeune-age-les-enfa...</td>\n",
       "      <td>2024-03-28T08:51:45.459Z</td>\n",
       "      <td>2024-03-29T15:25:37.970Z</td>\n",
       "      <td>{'userId': 'cbc394ac-1fe0-48e0-ac3f-8b463ed719...</td>\n",
       "      <td>(69, [14, 6, 24])</td>\n",
       "      <td>(13, [2, 6, 3])</td>\n",
       "      <td>(4, [0, 1, 3])</td>\n",
       "    </tr>\n",
       "    <tr>\n",
       "      <th>...</th>\n",
       "      <td>...</td>\n",
       "      <td>...</td>\n",
       "      <td>...</td>\n",
       "      <td>...</td>\n",
       "      <td>...</td>\n",
       "      <td>...</td>\n",
       "      <td>...</td>\n",
       "      <td>...</td>\n",
       "      <td>...</td>\n",
       "    </tr>\n",
       "    <tr>\n",
       "      <th>1535</th>\n",
       "      <td>16251ada-5ac5-488f-84d9-8a3a4d74c74c</td>\n",
       "      <td>Il faut qu'il y ait plus d'offres d'activités ...</td>\n",
       "      <td>il-faut-qu-il-y-ait-plus-d-offres-d-activites-...</td>\n",
       "      <td>2024-04-01T07:57:23.506Z</td>\n",
       "      <td>2024-04-11T12:47:39.853Z</td>\n",
       "      <td>{'userId': '6f660e94-cf68-4ca3-b431-0e21da54ec...</td>\n",
       "      <td>(28, [8, 1, 8])</td>\n",
       "      <td>(3, [0, 1, 0])</td>\n",
       "      <td>(2, [0, 2, 0])</td>\n",
       "    </tr>\n",
       "    <tr>\n",
       "      <th>1536</th>\n",
       "      <td>029568f5-4352-4667-b666-65a2da5565c9</td>\n",
       "      <td>Il faut faire des aménagements cyclables ainsi...</td>\n",
       "      <td>il-faut-faire-des-amenagements-cyclables-ainsi...</td>\n",
       "      <td>2024-03-30T11:59:17.932Z</td>\n",
       "      <td>2024-04-11T12:47:39.749Z</td>\n",
       "      <td>{'userId': 'd9822c10-8d91-4d56-905d-95c91234ba...</td>\n",
       "      <td>(33, [5, 3, 12])</td>\n",
       "      <td>(9, [3, 2, 3])</td>\n",
       "      <td>(3, [0, 2, 0])</td>\n",
       "    </tr>\n",
       "    <tr>\n",
       "      <th>1537</th>\n",
       "      <td>c244a312-43b0-492a-a4c3-61acb664784d</td>\n",
       "      <td>Il faut inciter à avoir des douches dans les e...</td>\n",
       "      <td>il-faut-inciter-a-avoir-des-douches-dans-les-e...</td>\n",
       "      <td>2024-03-31T07:42:57.843Z</td>\n",
       "      <td>2024-04-04T13:41:00.414Z</td>\n",
       "      <td>{'userId': '678b91c1-2f43-4336-a000-522e8fa2e4...</td>\n",
       "      <td>(33, [7, 4, 9])</td>\n",
       "      <td>(9, [3, 2, 1])</td>\n",
       "      <td>(3, [2, 0, 0])</td>\n",
       "    </tr>\n",
       "    <tr>\n",
       "      <th>1538</th>\n",
       "      <td>83738cba-e965-4eeb-873e-6e576c83118f</td>\n",
       "      <td>Il faut adapter les vestiaires des enfants à l...</td>\n",
       "      <td>il-faut-adapter-les-vestiaires-des-enfants-a-l...</td>\n",
       "      <td>2024-03-28T15:32:31.427Z</td>\n",
       "      <td>2024-04-05T09:00:40.920Z</td>\n",
       "      <td>{'userId': '3cd92c36-df5b-4392-b529-525acea3b7...</td>\n",
       "      <td>(30, [7, 4, 6])</td>\n",
       "      <td>(11, [3, 2, 3])</td>\n",
       "      <td>(4, [2, 1, 1])</td>\n",
       "    </tr>\n",
       "    <tr>\n",
       "      <th>1539</th>\n",
       "      <td>5a74cbd4-e1c0-4645-b4d0-ba5b42b0fd40</td>\n",
       "      <td>Il faut que les sports à hauts revenus partici...</td>\n",
       "      <td>il-faut-que-les-sports-a-hauts-revenus-partici...</td>\n",
       "      <td>2024-04-01T15:08:53.199Z</td>\n",
       "      <td>2024-04-11T12:47:39.922Z</td>\n",
       "      <td>{'userId': 'abafb2fd-e805-45df-8170-b551670c81...</td>\n",
       "      <td>(35, [12, 3, 8])</td>\n",
       "      <td>(3, [0, 0, 1])</td>\n",
       "      <td>(10, [2, 2, 3])</td>\n",
       "    </tr>\n",
       "  </tbody>\n",
       "</table>\n",
       "<p>1540 rows × 9 columns</p>\n",
       "</div>"
      ],
      "text/plain": [
       "                                        id  \\\n",
       "0     82d5eb8f-f953-4e16-9015-9b775ff5f292   \n",
       "1     59ff8102-587a-425e-9976-c4d5d6a268fe   \n",
       "2     66b19692-f947-44c9-9126-33863021098e   \n",
       "3     97c4c337-15d4-4c6e-a108-aefcedeb1666   \n",
       "4     9f71ce59-200c-450a-8987-399eee4fb1dd   \n",
       "...                                    ...   \n",
       "1535  16251ada-5ac5-488f-84d9-8a3a4d74c74c   \n",
       "1536  029568f5-4352-4667-b666-65a2da5565c9   \n",
       "1537  c244a312-43b0-492a-a4c3-61acb664784d   \n",
       "1538  83738cba-e965-4eeb-873e-6e576c83118f   \n",
       "1539  5a74cbd4-e1c0-4645-b4d0-ba5b42b0fd40   \n",
       "\n",
       "                                                content  \\\n",
       "0     Il faut inciter les Français à s'équiper de mo...   \n",
       "1     Il faut demander aux sportifs de haut niveau d...   \n",
       "2     Il faut piétonniser des rues ou routes ou boul...   \n",
       "3     Il faut organiser des compétitions inter-entre...   \n",
       "4     Il faut éduquer dès le plus jeune âge les enfa...   \n",
       "...                                                 ...   \n",
       "1535  Il faut qu'il y ait plus d'offres d'activités ...   \n",
       "1536  Il faut faire des aménagements cyclables ainsi...   \n",
       "1537  Il faut inciter à avoir des douches dans les e...   \n",
       "1538  Il faut adapter les vestiaires des enfants à l...   \n",
       "1539  Il faut que les sports à hauts revenus partici...   \n",
       "\n",
       "                                                   slug  \\\n",
       "0     il-faut-inciter-les-francais-a-s-equiper-de-mo...   \n",
       "1     il-faut-demander-aux-sportifs-de-haut-niveau-d...   \n",
       "2     il-faut-pietonniser-des-rues-ou-routes-ou-boul...   \n",
       "3     il-faut-organiser-des-competitions-inter-entre...   \n",
       "4     il-faut-eduquer-des-le-plus-jeune-age-les-enfa...   \n",
       "...                                                 ...   \n",
       "1535  il-faut-qu-il-y-ait-plus-d-offres-d-activites-...   \n",
       "1536  il-faut-faire-des-amenagements-cyclables-ainsi...   \n",
       "1537  il-faut-inciter-a-avoir-des-douches-dans-les-e...   \n",
       "1538  il-faut-adapter-les-vestiaires-des-enfants-a-l...   \n",
       "1539  il-faut-que-les-sports-a-hauts-revenus-partici...   \n",
       "\n",
       "                     createdAt                 updatedAt  \\\n",
       "0     2024-04-01T07:07:29.747Z  2024-04-04T13:48:06.671Z   \n",
       "1     2024-03-25T17:30:50.114Z  2024-03-27T11:55:43.793Z   \n",
       "2     2024-03-24T10:05:38.434Z  2024-03-27T11:49:34.740Z   \n",
       "3     2024-01-29T10:13:07.672Z  2024-04-09T09:18:23.844Z   \n",
       "4     2024-03-28T08:51:45.459Z  2024-03-29T15:25:37.970Z   \n",
       "...                        ...                       ...   \n",
       "1535  2024-04-01T07:57:23.506Z  2024-04-11T12:47:39.853Z   \n",
       "1536  2024-03-30T11:59:17.932Z  2024-04-11T12:47:39.749Z   \n",
       "1537  2024-03-31T07:42:57.843Z  2024-04-04T13:41:00.414Z   \n",
       "1538  2024-03-28T15:32:31.427Z  2024-04-05T09:00:40.920Z   \n",
       "1539  2024-04-01T15:08:53.199Z  2024-04-11T12:47:39.922Z   \n",
       "\n",
       "                                                 author           vote_agree  \\\n",
       "0     {'userId': '4fad3035-1a13-4ed5-b81a-e1f400e7c6...       (0, [0, 0, 0])   \n",
       "1     {'userId': 'e1606f3c-5d45-4a0e-b2da-7455125ca2...     (39, [6, 6, 14])   \n",
       "2     {'userId': 'b3589dd5-a215-481a-983c-0e4dff1e07...    (47, [13, 4, 16])   \n",
       "3     {'userId': '22448ef2-cae9-42b5-9663-3bcd333fa2...  (210, [38, 21, 60])   \n",
       "4     {'userId': 'cbc394ac-1fe0-48e0-ac3f-8b463ed719...    (69, [14, 6, 24])   \n",
       "...                                                 ...                  ...   \n",
       "1535  {'userId': '6f660e94-cf68-4ca3-b431-0e21da54ec...      (28, [8, 1, 8])   \n",
       "1536  {'userId': 'd9822c10-8d91-4d56-905d-95c91234ba...     (33, [5, 3, 12])   \n",
       "1537  {'userId': '678b91c1-2f43-4336-a000-522e8fa2e4...      (33, [7, 4, 9])   \n",
       "1538  {'userId': '3cd92c36-df5b-4392-b529-525acea3b7...      (30, [7, 4, 6])   \n",
       "1539  {'userId': 'abafb2fd-e805-45df-8170-b551670c81...     (35, [12, 3, 8])   \n",
       "\n",
       "            vote_neutral        vote_disagree  \n",
       "0         (6, [1, 0, 3])      (10, [1, 5, 3])  \n",
       "1       (29, [14, 0, 9])      (19, [2, 5, 7])  \n",
       "2        (18, [7, 2, 3])      (18, [2, 8, 3])  \n",
       "3     (155, [48, 4, 52])  (205, [41, 57, 62])  \n",
       "4        (13, [2, 6, 3])       (4, [0, 1, 3])  \n",
       "...                  ...                  ...  \n",
       "1535      (3, [0, 1, 0])       (2, [0, 2, 0])  \n",
       "1536      (9, [3, 2, 3])       (3, [0, 2, 0])  \n",
       "1537      (9, [3, 2, 1])       (3, [2, 0, 0])  \n",
       "1538     (11, [3, 2, 3])       (4, [2, 1, 1])  \n",
       "1539      (3, [0, 0, 1])      (10, [2, 2, 3])  \n",
       "\n",
       "[1540 rows x 9 columns]"
      ]
     },
     "execution_count": 21,
     "metadata": {},
     "output_type": "execute_result"
    }
   ],
   "source": [
    "df"
   ]
  },
  {
   "cell_type": "code",
   "execution_count": 22,
   "id": "7b904827",
   "metadata": {},
   "outputs": [
    {
     "data": {
      "text/plain": [
       "{'userId': 'd768571b-64f9-4251-86fc-3b7e91572b1a',\n",
       " 'firstName': 'Celine',\n",
       " 'displayName': 'Celine',\n",
       " 'organisationName': None,\n",
       " 'organisationSlug': None,\n",
       " 'postalCode': '33000',\n",
       " 'age': 43,\n",
       " 'avatarUrl': None,\n",
       " 'userType': 'USER'}"
      ]
     },
     "execution_count": 22,
     "metadata": {},
     "output_type": "execute_result"
    }
   ],
   "source": [
    "df.loc[200,\"author\"]"
   ]
  },
  {
   "cell_type": "code",
   "execution_count": 23,
   "id": "322c53cd",
   "metadata": {},
   "outputs": [],
   "source": [
    "df[\"author_id\"] = df[\"author\"].apply(lambda raw: raw[\"userId\"])\n",
    "df[\"author_age\"] = df[\"author\"].apply(lambda raw: raw[\"age\"])\n",
    "df[\"author_type\"] = df[\"author\"].apply(lambda raw: raw[\"userType\"])"
   ]
  },
  {
   "cell_type": "code",
   "execution_count": 24,
   "id": "04ef9a61",
   "metadata": {},
   "outputs": [
    {
     "data": {
      "text/html": [
       "<div>\n",
       "<style scoped>\n",
       "    .dataframe tbody tr th:only-of-type {\n",
       "        vertical-align: middle;\n",
       "    }\n",
       "\n",
       "    .dataframe tbody tr th {\n",
       "        vertical-align: top;\n",
       "    }\n",
       "\n",
       "    .dataframe thead th {\n",
       "        text-align: right;\n",
       "    }\n",
       "</style>\n",
       "<table border=\"1\" class=\"dataframe\">\n",
       "  <thead>\n",
       "    <tr style=\"text-align: right;\">\n",
       "      <th></th>\n",
       "      <th>id</th>\n",
       "      <th>content</th>\n",
       "      <th>slug</th>\n",
       "      <th>createdAt</th>\n",
       "      <th>updatedAt</th>\n",
       "      <th>author</th>\n",
       "      <th>vote_agree</th>\n",
       "      <th>vote_neutral</th>\n",
       "      <th>vote_disagree</th>\n",
       "      <th>author_id</th>\n",
       "      <th>author_age</th>\n",
       "      <th>author_type</th>\n",
       "    </tr>\n",
       "  </thead>\n",
       "  <tbody>\n",
       "    <tr>\n",
       "      <th>0</th>\n",
       "      <td>82d5eb8f-f953-4e16-9015-9b775ff5f292</td>\n",
       "      <td>Il faut inciter les Français à s'équiper de mo...</td>\n",
       "      <td>il-faut-inciter-les-francais-a-s-equiper-de-mo...</td>\n",
       "      <td>2024-04-01T07:07:29.747Z</td>\n",
       "      <td>2024-04-04T13:48:06.671Z</td>\n",
       "      <td>{'userId': '4fad3035-1a13-4ed5-b81a-e1f400e7c6...</td>\n",
       "      <td>(0, [0, 0, 0])</td>\n",
       "      <td>(6, [1, 0, 3])</td>\n",
       "      <td>(10, [1, 5, 3])</td>\n",
       "      <td>4fad3035-1a13-4ed5-b81a-e1f400e7c665</td>\n",
       "      <td>61.0</td>\n",
       "      <td>USER</td>\n",
       "    </tr>\n",
       "    <tr>\n",
       "      <th>1</th>\n",
       "      <td>59ff8102-587a-425e-9976-c4d5d6a268fe</td>\n",
       "      <td>Il faut demander aux sportifs de haut niveau d...</td>\n",
       "      <td>il-faut-demander-aux-sportifs-de-haut-niveau-d...</td>\n",
       "      <td>2024-03-25T17:30:50.114Z</td>\n",
       "      <td>2024-03-27T11:55:43.793Z</td>\n",
       "      <td>{'userId': 'e1606f3c-5d45-4a0e-b2da-7455125ca2...</td>\n",
       "      <td>(39, [6, 6, 14])</td>\n",
       "      <td>(29, [14, 0, 9])</td>\n",
       "      <td>(19, [2, 5, 7])</td>\n",
       "      <td>e1606f3c-5d45-4a0e-b2da-7455125ca204</td>\n",
       "      <td>NaN</td>\n",
       "      <td>USER</td>\n",
       "    </tr>\n",
       "    <tr>\n",
       "      <th>2</th>\n",
       "      <td>66b19692-f947-44c9-9126-33863021098e</td>\n",
       "      <td>Il faut piétonniser des rues ou routes ou boul...</td>\n",
       "      <td>il-faut-pietonniser-des-rues-ou-routes-ou-boul...</td>\n",
       "      <td>2024-03-24T10:05:38.434Z</td>\n",
       "      <td>2024-03-27T11:49:34.740Z</td>\n",
       "      <td>{'userId': 'b3589dd5-a215-481a-983c-0e4dff1e07...</td>\n",
       "      <td>(47, [13, 4, 16])</td>\n",
       "      <td>(18, [7, 2, 3])</td>\n",
       "      <td>(18, [2, 8, 3])</td>\n",
       "      <td>b3589dd5-a215-481a-983c-0e4dff1e0763</td>\n",
       "      <td>66.0</td>\n",
       "      <td>USER</td>\n",
       "    </tr>\n",
       "    <tr>\n",
       "      <th>3</th>\n",
       "      <td>97c4c337-15d4-4c6e-a108-aefcedeb1666</td>\n",
       "      <td>Il faut organiser des compétitions inter-entre...</td>\n",
       "      <td>il-faut-organiser-des-competitions-inter-entre...</td>\n",
       "      <td>2024-01-29T10:13:07.672Z</td>\n",
       "      <td>2024-04-09T09:18:23.844Z</td>\n",
       "      <td>{'userId': '22448ef2-cae9-42b5-9663-3bcd333fa2...</td>\n",
       "      <td>(210, [38, 21, 60])</td>\n",
       "      <td>(155, [48, 4, 52])</td>\n",
       "      <td>(205, [41, 57, 62])</td>\n",
       "      <td>22448ef2-cae9-42b5-9663-3bcd333fa231</td>\n",
       "      <td>20.0</td>\n",
       "      <td>USER</td>\n",
       "    </tr>\n",
       "    <tr>\n",
       "      <th>4</th>\n",
       "      <td>9f71ce59-200c-450a-8987-399eee4fb1dd</td>\n",
       "      <td>Il faut éduquer dès le plus jeune âge les enfa...</td>\n",
       "      <td>il-faut-eduquer-des-le-plus-jeune-age-les-enfa...</td>\n",
       "      <td>2024-03-28T08:51:45.459Z</td>\n",
       "      <td>2024-03-29T15:25:37.970Z</td>\n",
       "      <td>{'userId': 'cbc394ac-1fe0-48e0-ac3f-8b463ed719...</td>\n",
       "      <td>(69, [14, 6, 24])</td>\n",
       "      <td>(13, [2, 6, 3])</td>\n",
       "      <td>(4, [0, 1, 3])</td>\n",
       "      <td>cbc394ac-1fe0-48e0-ac3f-8b463ed71967</td>\n",
       "      <td>NaN</td>\n",
       "      <td>USER</td>\n",
       "    </tr>\n",
       "  </tbody>\n",
       "</table>\n",
       "</div>"
      ],
      "text/plain": [
       "                                     id  \\\n",
       "0  82d5eb8f-f953-4e16-9015-9b775ff5f292   \n",
       "1  59ff8102-587a-425e-9976-c4d5d6a268fe   \n",
       "2  66b19692-f947-44c9-9126-33863021098e   \n",
       "3  97c4c337-15d4-4c6e-a108-aefcedeb1666   \n",
       "4  9f71ce59-200c-450a-8987-399eee4fb1dd   \n",
       "\n",
       "                                             content  \\\n",
       "0  Il faut inciter les Français à s'équiper de mo...   \n",
       "1  Il faut demander aux sportifs de haut niveau d...   \n",
       "2  Il faut piétonniser des rues ou routes ou boul...   \n",
       "3  Il faut organiser des compétitions inter-entre...   \n",
       "4  Il faut éduquer dès le plus jeune âge les enfa...   \n",
       "\n",
       "                                                slug  \\\n",
       "0  il-faut-inciter-les-francais-a-s-equiper-de-mo...   \n",
       "1  il-faut-demander-aux-sportifs-de-haut-niveau-d...   \n",
       "2  il-faut-pietonniser-des-rues-ou-routes-ou-boul...   \n",
       "3  il-faut-organiser-des-competitions-inter-entre...   \n",
       "4  il-faut-eduquer-des-le-plus-jeune-age-les-enfa...   \n",
       "\n",
       "                  createdAt                 updatedAt  \\\n",
       "0  2024-04-01T07:07:29.747Z  2024-04-04T13:48:06.671Z   \n",
       "1  2024-03-25T17:30:50.114Z  2024-03-27T11:55:43.793Z   \n",
       "2  2024-03-24T10:05:38.434Z  2024-03-27T11:49:34.740Z   \n",
       "3  2024-01-29T10:13:07.672Z  2024-04-09T09:18:23.844Z   \n",
       "4  2024-03-28T08:51:45.459Z  2024-03-29T15:25:37.970Z   \n",
       "\n",
       "                                              author           vote_agree  \\\n",
       "0  {'userId': '4fad3035-1a13-4ed5-b81a-e1f400e7c6...       (0, [0, 0, 0])   \n",
       "1  {'userId': 'e1606f3c-5d45-4a0e-b2da-7455125ca2...     (39, [6, 6, 14])   \n",
       "2  {'userId': 'b3589dd5-a215-481a-983c-0e4dff1e07...    (47, [13, 4, 16])   \n",
       "3  {'userId': '22448ef2-cae9-42b5-9663-3bcd333fa2...  (210, [38, 21, 60])   \n",
       "4  {'userId': 'cbc394ac-1fe0-48e0-ac3f-8b463ed719...    (69, [14, 6, 24])   \n",
       "\n",
       "         vote_neutral        vote_disagree  \\\n",
       "0      (6, [1, 0, 3])      (10, [1, 5, 3])   \n",
       "1    (29, [14, 0, 9])      (19, [2, 5, 7])   \n",
       "2     (18, [7, 2, 3])      (18, [2, 8, 3])   \n",
       "3  (155, [48, 4, 52])  (205, [41, 57, 62])   \n",
       "4     (13, [2, 6, 3])       (4, [0, 1, 3])   \n",
       "\n",
       "                              author_id  author_age author_type  \n",
       "0  4fad3035-1a13-4ed5-b81a-e1f400e7c665        61.0        USER  \n",
       "1  e1606f3c-5d45-4a0e-b2da-7455125ca204         NaN        USER  \n",
       "2  b3589dd5-a215-481a-983c-0e4dff1e0763        66.0        USER  \n",
       "3  22448ef2-cae9-42b5-9663-3bcd333fa231        20.0        USER  \n",
       "4  cbc394ac-1fe0-48e0-ac3f-8b463ed71967         NaN        USER  "
      ]
     },
     "execution_count": 24,
     "metadata": {},
     "output_type": "execute_result"
    }
   ],
   "source": [
    "df.head()"
   ]
  },
  {
   "cell_type": "code",
   "execution_count": 25,
   "id": "a18ee287",
   "metadata": {},
   "outputs": [
    {
     "data": {
      "text/plain": [
       "author_type\n",
       "USER            1469\n",
       "ORGANISATION      71\n",
       "Name: count, dtype: int64"
      ]
     },
     "execution_count": 25,
     "metadata": {},
     "output_type": "execute_result"
    }
   ],
   "source": [
    "df[\"author_type\"].value_counts()"
   ]
  },
  {
   "cell_type": "code",
   "execution_count": 26,
   "id": "bfe264f3",
   "metadata": {},
   "outputs": [],
   "source": [
    "df = df.drop(columns=\"author\")"
   ]
  },
  {
   "cell_type": "code",
   "execution_count": 27,
   "id": "56ecdee1",
   "metadata": {},
   "outputs": [
    {
     "data": {
      "text/html": [
       "<div>\n",
       "<style scoped>\n",
       "    .dataframe tbody tr th:only-of-type {\n",
       "        vertical-align: middle;\n",
       "    }\n",
       "\n",
       "    .dataframe tbody tr th {\n",
       "        vertical-align: top;\n",
       "    }\n",
       "\n",
       "    .dataframe thead th {\n",
       "        text-align: right;\n",
       "    }\n",
       "</style>\n",
       "<table border=\"1\" class=\"dataframe\">\n",
       "  <thead>\n",
       "    <tr style=\"text-align: right;\">\n",
       "      <th></th>\n",
       "      <th>id</th>\n",
       "      <th>content</th>\n",
       "      <th>slug</th>\n",
       "      <th>createdAt</th>\n",
       "      <th>updatedAt</th>\n",
       "      <th>vote_agree</th>\n",
       "      <th>vote_neutral</th>\n",
       "      <th>vote_disagree</th>\n",
       "      <th>author_id</th>\n",
       "      <th>author_age</th>\n",
       "      <th>author_type</th>\n",
       "    </tr>\n",
       "  </thead>\n",
       "  <tbody>\n",
       "    <tr>\n",
       "      <th>0</th>\n",
       "      <td>82d5eb8f-f953-4e16-9015-9b775ff5f292</td>\n",
       "      <td>Il faut inciter les Français à s'équiper de mo...</td>\n",
       "      <td>il-faut-inciter-les-francais-a-s-equiper-de-mo...</td>\n",
       "      <td>2024-04-01T07:07:29.747Z</td>\n",
       "      <td>2024-04-04T13:48:06.671Z</td>\n",
       "      <td>(0, [0, 0, 0])</td>\n",
       "      <td>(6, [1, 0, 3])</td>\n",
       "      <td>(10, [1, 5, 3])</td>\n",
       "      <td>4fad3035-1a13-4ed5-b81a-e1f400e7c665</td>\n",
       "      <td>61.0</td>\n",
       "      <td>USER</td>\n",
       "    </tr>\n",
       "    <tr>\n",
       "      <th>1</th>\n",
       "      <td>59ff8102-587a-425e-9976-c4d5d6a268fe</td>\n",
       "      <td>Il faut demander aux sportifs de haut niveau d...</td>\n",
       "      <td>il-faut-demander-aux-sportifs-de-haut-niveau-d...</td>\n",
       "      <td>2024-03-25T17:30:50.114Z</td>\n",
       "      <td>2024-03-27T11:55:43.793Z</td>\n",
       "      <td>(39, [6, 6, 14])</td>\n",
       "      <td>(29, [14, 0, 9])</td>\n",
       "      <td>(19, [2, 5, 7])</td>\n",
       "      <td>e1606f3c-5d45-4a0e-b2da-7455125ca204</td>\n",
       "      <td>NaN</td>\n",
       "      <td>USER</td>\n",
       "    </tr>\n",
       "    <tr>\n",
       "      <th>2</th>\n",
       "      <td>66b19692-f947-44c9-9126-33863021098e</td>\n",
       "      <td>Il faut piétonniser des rues ou routes ou boul...</td>\n",
       "      <td>il-faut-pietonniser-des-rues-ou-routes-ou-boul...</td>\n",
       "      <td>2024-03-24T10:05:38.434Z</td>\n",
       "      <td>2024-03-27T11:49:34.740Z</td>\n",
       "      <td>(47, [13, 4, 16])</td>\n",
       "      <td>(18, [7, 2, 3])</td>\n",
       "      <td>(18, [2, 8, 3])</td>\n",
       "      <td>b3589dd5-a215-481a-983c-0e4dff1e0763</td>\n",
       "      <td>66.0</td>\n",
       "      <td>USER</td>\n",
       "    </tr>\n",
       "    <tr>\n",
       "      <th>3</th>\n",
       "      <td>97c4c337-15d4-4c6e-a108-aefcedeb1666</td>\n",
       "      <td>Il faut organiser des compétitions inter-entre...</td>\n",
       "      <td>il-faut-organiser-des-competitions-inter-entre...</td>\n",
       "      <td>2024-01-29T10:13:07.672Z</td>\n",
       "      <td>2024-04-09T09:18:23.844Z</td>\n",
       "      <td>(210, [38, 21, 60])</td>\n",
       "      <td>(155, [48, 4, 52])</td>\n",
       "      <td>(205, [41, 57, 62])</td>\n",
       "      <td>22448ef2-cae9-42b5-9663-3bcd333fa231</td>\n",
       "      <td>20.0</td>\n",
       "      <td>USER</td>\n",
       "    </tr>\n",
       "    <tr>\n",
       "      <th>4</th>\n",
       "      <td>9f71ce59-200c-450a-8987-399eee4fb1dd</td>\n",
       "      <td>Il faut éduquer dès le plus jeune âge les enfa...</td>\n",
       "      <td>il-faut-eduquer-des-le-plus-jeune-age-les-enfa...</td>\n",
       "      <td>2024-03-28T08:51:45.459Z</td>\n",
       "      <td>2024-03-29T15:25:37.970Z</td>\n",
       "      <td>(69, [14, 6, 24])</td>\n",
       "      <td>(13, [2, 6, 3])</td>\n",
       "      <td>(4, [0, 1, 3])</td>\n",
       "      <td>cbc394ac-1fe0-48e0-ac3f-8b463ed71967</td>\n",
       "      <td>NaN</td>\n",
       "      <td>USER</td>\n",
       "    </tr>\n",
       "  </tbody>\n",
       "</table>\n",
       "</div>"
      ],
      "text/plain": [
       "                                     id  \\\n",
       "0  82d5eb8f-f953-4e16-9015-9b775ff5f292   \n",
       "1  59ff8102-587a-425e-9976-c4d5d6a268fe   \n",
       "2  66b19692-f947-44c9-9126-33863021098e   \n",
       "3  97c4c337-15d4-4c6e-a108-aefcedeb1666   \n",
       "4  9f71ce59-200c-450a-8987-399eee4fb1dd   \n",
       "\n",
       "                                             content  \\\n",
       "0  Il faut inciter les Français à s'équiper de mo...   \n",
       "1  Il faut demander aux sportifs de haut niveau d...   \n",
       "2  Il faut piétonniser des rues ou routes ou boul...   \n",
       "3  Il faut organiser des compétitions inter-entre...   \n",
       "4  Il faut éduquer dès le plus jeune âge les enfa...   \n",
       "\n",
       "                                                slug  \\\n",
       "0  il-faut-inciter-les-francais-a-s-equiper-de-mo...   \n",
       "1  il-faut-demander-aux-sportifs-de-haut-niveau-d...   \n",
       "2  il-faut-pietonniser-des-rues-ou-routes-ou-boul...   \n",
       "3  il-faut-organiser-des-competitions-inter-entre...   \n",
       "4  il-faut-eduquer-des-le-plus-jeune-age-les-enfa...   \n",
       "\n",
       "                  createdAt                 updatedAt           vote_agree  \\\n",
       "0  2024-04-01T07:07:29.747Z  2024-04-04T13:48:06.671Z       (0, [0, 0, 0])   \n",
       "1  2024-03-25T17:30:50.114Z  2024-03-27T11:55:43.793Z     (39, [6, 6, 14])   \n",
       "2  2024-03-24T10:05:38.434Z  2024-03-27T11:49:34.740Z    (47, [13, 4, 16])   \n",
       "3  2024-01-29T10:13:07.672Z  2024-04-09T09:18:23.844Z  (210, [38, 21, 60])   \n",
       "4  2024-03-28T08:51:45.459Z  2024-03-29T15:25:37.970Z    (69, [14, 6, 24])   \n",
       "\n",
       "         vote_neutral        vote_disagree  \\\n",
       "0      (6, [1, 0, 3])      (10, [1, 5, 3])   \n",
       "1    (29, [14, 0, 9])      (19, [2, 5, 7])   \n",
       "2     (18, [7, 2, 3])      (18, [2, 8, 3])   \n",
       "3  (155, [48, 4, 52])  (205, [41, 57, 62])   \n",
       "4     (13, [2, 6, 3])       (4, [0, 1, 3])   \n",
       "\n",
       "                              author_id  author_age author_type  \n",
       "0  4fad3035-1a13-4ed5-b81a-e1f400e7c665        61.0        USER  \n",
       "1  e1606f3c-5d45-4a0e-b2da-7455125ca204         NaN        USER  \n",
       "2  b3589dd5-a215-481a-983c-0e4dff1e0763        66.0        USER  \n",
       "3  22448ef2-cae9-42b5-9663-3bcd333fa231        20.0        USER  \n",
       "4  cbc394ac-1fe0-48e0-ac3f-8b463ed71967         NaN        USER  "
      ]
     },
     "execution_count": 27,
     "metadata": {},
     "output_type": "execute_result"
    }
   ],
   "source": [
    "df.head()"
   ]
  },
  {
   "cell_type": "code",
   "execution_count": 28,
   "id": "63f95042",
   "metadata": {},
   "outputs": [
    {
     "data": {
      "text/plain": [
       "id                 0\n",
       "content            0\n",
       "slug               0\n",
       "createdAt          0\n",
       "updatedAt          0\n",
       "vote_agree         0\n",
       "vote_neutral       0\n",
       "vote_disagree      0\n",
       "author_id          0\n",
       "author_age       317\n",
       "author_type        0\n",
       "dtype: int64"
      ]
     },
     "execution_count": 28,
     "metadata": {},
     "output_type": "execute_result"
    }
   ],
   "source": [
    "df.isna().sum()"
   ]
  },
  {
   "cell_type": "code",
   "execution_count": 29,
   "id": "430b5b64",
   "metadata": {},
   "outputs": [
    {
     "name": "stderr",
     "output_type": "stream",
     "text": [
      "C:\\Users\\LENOVO PC\\AppData\\Local\\Temp\\ipykernel_8452\\565535580.py:1: FutureWarning: A value is trying to be set on a copy of a DataFrame or Series through chained assignment using an inplace method.\n",
      "The behavior will change in pandas 3.0. This inplace method will never work because the intermediate object on which we are setting values always behaves as a copy.\n",
      "\n",
      "For example, when doing 'df[col].method(value, inplace=True)', try using 'df.method({col: value}, inplace=True)' or df[col] = df[col].method(value) instead, to perform the operation inplace on the original object.\n",
      "\n",
      "\n",
      "  df[\"author_age\"].fillna(df[\"author_age\"].median(), inplace=True)\n"
     ]
    }
   ],
   "source": [
    "df[\"author_age\"].fillna(df[\"author_age\"].median(), inplace=True)"
   ]
  },
  {
   "cell_type": "code",
   "execution_count": 30,
   "id": "2bdf7640",
   "metadata": {},
   "outputs": [
    {
     "data": {
      "text/plain": [
       "id               0\n",
       "content          0\n",
       "slug             0\n",
       "createdAt        0\n",
       "updatedAt        0\n",
       "vote_agree       0\n",
       "vote_neutral     0\n",
       "vote_disagree    0\n",
       "author_id        0\n",
       "author_age       0\n",
       "author_type      0\n",
       "dtype: int64"
      ]
     },
     "execution_count": 30,
     "metadata": {},
     "output_type": "execute_result"
    }
   ],
   "source": [
    "df.isna().sum()"
   ]
  },
  {
   "cell_type": "code",
   "execution_count": 31,
   "id": "2362c6e7",
   "metadata": {},
   "outputs": [],
   "source": [
    "agree=['likeit', 'platitudeagree','doable']\n",
    "Neutral=[\"noOpinion\", \"doNotUnderstand\", \"doNotCare\"]\n",
    "desagree=[\"impossible\", \"noWay\", \"platitudeDisagree\"]\n",
    "\n",
    "votes_types = (agree, Neutral, desagree)\n",
    "votes_names = [\"agree\", \"neutral\", \"disagree\" ]"
   ]
  },
  {
   "cell_type": "code",
   "execution_count": 32,
   "id": "294d29bd",
   "metadata": {},
   "outputs": [],
   "source": [
    "def sub_votes(data) :\n",
    "    i = 0\n",
    "    for type in votes_types :\n",
    "        j = 0\n",
    "        for subtype in type :\n",
    "            data[votes_names[i] + \"_\" + subtype] = data[\"vote_\"+votes_names[i]].apply(lambda raw: raw[1][j])\n",
    "            j+=1\n",
    "        i+=1\n",
    "    return data"
   ]
  },
  {
   "cell_type": "code",
   "execution_count": 33,
   "id": "fd81b8c3",
   "metadata": {},
   "outputs": [],
   "source": [
    "df_f = sub_votes(df)"
   ]
  },
  {
   "cell_type": "code",
   "execution_count": 34,
   "id": "8c0d65bb",
   "metadata": {},
   "outputs": [],
   "source": [
    "def n_votes(data) :\n",
    "    i = 0\n",
    "    for type in votes_types :\n",
    "        data[\"vote_\"+votes_names[i]] = data[\"vote_\"+votes_names[i]].apply(lambda raw: raw[0])\n",
    "        i+=1\n",
    "    return data"
   ]
  },
  {
   "cell_type": "code",
   "execution_count": 35,
   "id": "635f86e5",
   "metadata": {},
   "outputs": [],
   "source": [
    "df_f = n_votes(df_f)"
   ]
  },
  {
   "cell_type": "code",
   "execution_count": 36,
   "id": "16628d2d",
   "metadata": {},
   "outputs": [
    {
     "data": {
      "text/html": [
       "<div>\n",
       "<style scoped>\n",
       "    .dataframe tbody tr th:only-of-type {\n",
       "        vertical-align: middle;\n",
       "    }\n",
       "\n",
       "    .dataframe tbody tr th {\n",
       "        vertical-align: top;\n",
       "    }\n",
       "\n",
       "    .dataframe thead th {\n",
       "        text-align: right;\n",
       "    }\n",
       "</style>\n",
       "<table border=\"1\" class=\"dataframe\">\n",
       "  <thead>\n",
       "    <tr style=\"text-align: right;\">\n",
       "      <th></th>\n",
       "      <th>id</th>\n",
       "      <th>content</th>\n",
       "      <th>slug</th>\n",
       "      <th>createdAt</th>\n",
       "      <th>updatedAt</th>\n",
       "      <th>vote_agree</th>\n",
       "      <th>vote_neutral</th>\n",
       "      <th>vote_disagree</th>\n",
       "      <th>author_id</th>\n",
       "      <th>author_age</th>\n",
       "      <th>author_type</th>\n",
       "      <th>agree_likeit</th>\n",
       "      <th>agree_platitudeagree</th>\n",
       "      <th>agree_doable</th>\n",
       "      <th>neutral_noOpinion</th>\n",
       "      <th>neutral_doNotUnderstand</th>\n",
       "      <th>neutral_doNotCare</th>\n",
       "      <th>disagree_impossible</th>\n",
       "      <th>disagree_noWay</th>\n",
       "      <th>disagree_platitudeDisagree</th>\n",
       "    </tr>\n",
       "  </thead>\n",
       "  <tbody>\n",
       "    <tr>\n",
       "      <th>0</th>\n",
       "      <td>82d5eb8f-f953-4e16-9015-9b775ff5f292</td>\n",
       "      <td>Il faut inciter les Français à s'équiper de mo...</td>\n",
       "      <td>il-faut-inciter-les-francais-a-s-equiper-de-mo...</td>\n",
       "      <td>2024-04-01T07:07:29.747Z</td>\n",
       "      <td>2024-04-04T13:48:06.671Z</td>\n",
       "      <td>0</td>\n",
       "      <td>6</td>\n",
       "      <td>10</td>\n",
       "      <td>4fad3035-1a13-4ed5-b81a-e1f400e7c665</td>\n",
       "      <td>61.0</td>\n",
       "      <td>USER</td>\n",
       "      <td>0</td>\n",
       "      <td>0</td>\n",
       "      <td>0</td>\n",
       "      <td>1</td>\n",
       "      <td>0</td>\n",
       "      <td>3</td>\n",
       "      <td>1</td>\n",
       "      <td>5</td>\n",
       "      <td>3</td>\n",
       "    </tr>\n",
       "    <tr>\n",
       "      <th>1</th>\n",
       "      <td>59ff8102-587a-425e-9976-c4d5d6a268fe</td>\n",
       "      <td>Il faut demander aux sportifs de haut niveau d...</td>\n",
       "      <td>il-faut-demander-aux-sportifs-de-haut-niveau-d...</td>\n",
       "      <td>2024-03-25T17:30:50.114Z</td>\n",
       "      <td>2024-03-27T11:55:43.793Z</td>\n",
       "      <td>39</td>\n",
       "      <td>29</td>\n",
       "      <td>19</td>\n",
       "      <td>e1606f3c-5d45-4a0e-b2da-7455125ca204</td>\n",
       "      <td>50.0</td>\n",
       "      <td>USER</td>\n",
       "      <td>6</td>\n",
       "      <td>6</td>\n",
       "      <td>14</td>\n",
       "      <td>14</td>\n",
       "      <td>0</td>\n",
       "      <td>9</td>\n",
       "      <td>2</td>\n",
       "      <td>5</td>\n",
       "      <td>7</td>\n",
       "    </tr>\n",
       "    <tr>\n",
       "      <th>2</th>\n",
       "      <td>66b19692-f947-44c9-9126-33863021098e</td>\n",
       "      <td>Il faut piétonniser des rues ou routes ou boul...</td>\n",
       "      <td>il-faut-pietonniser-des-rues-ou-routes-ou-boul...</td>\n",
       "      <td>2024-03-24T10:05:38.434Z</td>\n",
       "      <td>2024-03-27T11:49:34.740Z</td>\n",
       "      <td>47</td>\n",
       "      <td>18</td>\n",
       "      <td>18</td>\n",
       "      <td>b3589dd5-a215-481a-983c-0e4dff1e0763</td>\n",
       "      <td>66.0</td>\n",
       "      <td>USER</td>\n",
       "      <td>13</td>\n",
       "      <td>4</td>\n",
       "      <td>16</td>\n",
       "      <td>7</td>\n",
       "      <td>2</td>\n",
       "      <td>3</td>\n",
       "      <td>2</td>\n",
       "      <td>8</td>\n",
       "      <td>3</td>\n",
       "    </tr>\n",
       "    <tr>\n",
       "      <th>3</th>\n",
       "      <td>97c4c337-15d4-4c6e-a108-aefcedeb1666</td>\n",
       "      <td>Il faut organiser des compétitions inter-entre...</td>\n",
       "      <td>il-faut-organiser-des-competitions-inter-entre...</td>\n",
       "      <td>2024-01-29T10:13:07.672Z</td>\n",
       "      <td>2024-04-09T09:18:23.844Z</td>\n",
       "      <td>210</td>\n",
       "      <td>155</td>\n",
       "      <td>205</td>\n",
       "      <td>22448ef2-cae9-42b5-9663-3bcd333fa231</td>\n",
       "      <td>20.0</td>\n",
       "      <td>USER</td>\n",
       "      <td>38</td>\n",
       "      <td>21</td>\n",
       "      <td>60</td>\n",
       "      <td>48</td>\n",
       "      <td>4</td>\n",
       "      <td>52</td>\n",
       "      <td>41</td>\n",
       "      <td>57</td>\n",
       "      <td>62</td>\n",
       "    </tr>\n",
       "    <tr>\n",
       "      <th>4</th>\n",
       "      <td>9f71ce59-200c-450a-8987-399eee4fb1dd</td>\n",
       "      <td>Il faut éduquer dès le plus jeune âge les enfa...</td>\n",
       "      <td>il-faut-eduquer-des-le-plus-jeune-age-les-enfa...</td>\n",
       "      <td>2024-03-28T08:51:45.459Z</td>\n",
       "      <td>2024-03-29T15:25:37.970Z</td>\n",
       "      <td>69</td>\n",
       "      <td>13</td>\n",
       "      <td>4</td>\n",
       "      <td>cbc394ac-1fe0-48e0-ac3f-8b463ed71967</td>\n",
       "      <td>50.0</td>\n",
       "      <td>USER</td>\n",
       "      <td>14</td>\n",
       "      <td>6</td>\n",
       "      <td>24</td>\n",
       "      <td>2</td>\n",
       "      <td>6</td>\n",
       "      <td>3</td>\n",
       "      <td>0</td>\n",
       "      <td>1</td>\n",
       "      <td>3</td>\n",
       "    </tr>\n",
       "    <tr>\n",
       "      <th>...</th>\n",
       "      <td>...</td>\n",
       "      <td>...</td>\n",
       "      <td>...</td>\n",
       "      <td>...</td>\n",
       "      <td>...</td>\n",
       "      <td>...</td>\n",
       "      <td>...</td>\n",
       "      <td>...</td>\n",
       "      <td>...</td>\n",
       "      <td>...</td>\n",
       "      <td>...</td>\n",
       "      <td>...</td>\n",
       "      <td>...</td>\n",
       "      <td>...</td>\n",
       "      <td>...</td>\n",
       "      <td>...</td>\n",
       "      <td>...</td>\n",
       "      <td>...</td>\n",
       "      <td>...</td>\n",
       "      <td>...</td>\n",
       "    </tr>\n",
       "    <tr>\n",
       "      <th>1535</th>\n",
       "      <td>16251ada-5ac5-488f-84d9-8a3a4d74c74c</td>\n",
       "      <td>Il faut qu'il y ait plus d'offres d'activités ...</td>\n",
       "      <td>il-faut-qu-il-y-ait-plus-d-offres-d-activites-...</td>\n",
       "      <td>2024-04-01T07:57:23.506Z</td>\n",
       "      <td>2024-04-11T12:47:39.853Z</td>\n",
       "      <td>28</td>\n",
       "      <td>3</td>\n",
       "      <td>2</td>\n",
       "      <td>6f660e94-cf68-4ca3-b431-0e21da54ec46</td>\n",
       "      <td>50.0</td>\n",
       "      <td>USER</td>\n",
       "      <td>8</td>\n",
       "      <td>1</td>\n",
       "      <td>8</td>\n",
       "      <td>0</td>\n",
       "      <td>1</td>\n",
       "      <td>0</td>\n",
       "      <td>0</td>\n",
       "      <td>2</td>\n",
       "      <td>0</td>\n",
       "    </tr>\n",
       "    <tr>\n",
       "      <th>1536</th>\n",
       "      <td>029568f5-4352-4667-b666-65a2da5565c9</td>\n",
       "      <td>Il faut faire des aménagements cyclables ainsi...</td>\n",
       "      <td>il-faut-faire-des-amenagements-cyclables-ainsi...</td>\n",
       "      <td>2024-03-30T11:59:17.932Z</td>\n",
       "      <td>2024-04-11T12:47:39.749Z</td>\n",
       "      <td>33</td>\n",
       "      <td>9</td>\n",
       "      <td>3</td>\n",
       "      <td>d9822c10-8d91-4d56-905d-95c91234ba61</td>\n",
       "      <td>68.0</td>\n",
       "      <td>USER</td>\n",
       "      <td>5</td>\n",
       "      <td>3</td>\n",
       "      <td>12</td>\n",
       "      <td>3</td>\n",
       "      <td>2</td>\n",
       "      <td>3</td>\n",
       "      <td>0</td>\n",
       "      <td>2</td>\n",
       "      <td>0</td>\n",
       "    </tr>\n",
       "    <tr>\n",
       "      <th>1537</th>\n",
       "      <td>c244a312-43b0-492a-a4c3-61acb664784d</td>\n",
       "      <td>Il faut inciter à avoir des douches dans les e...</td>\n",
       "      <td>il-faut-inciter-a-avoir-des-douches-dans-les-e...</td>\n",
       "      <td>2024-03-31T07:42:57.843Z</td>\n",
       "      <td>2024-04-04T13:41:00.414Z</td>\n",
       "      <td>33</td>\n",
       "      <td>9</td>\n",
       "      <td>3</td>\n",
       "      <td>678b91c1-2f43-4336-a000-522e8fa2e400</td>\n",
       "      <td>51.0</td>\n",
       "      <td>USER</td>\n",
       "      <td>7</td>\n",
       "      <td>4</td>\n",
       "      <td>9</td>\n",
       "      <td>3</td>\n",
       "      <td>2</td>\n",
       "      <td>1</td>\n",
       "      <td>2</td>\n",
       "      <td>0</td>\n",
       "      <td>0</td>\n",
       "    </tr>\n",
       "    <tr>\n",
       "      <th>1538</th>\n",
       "      <td>83738cba-e965-4eeb-873e-6e576c83118f</td>\n",
       "      <td>Il faut adapter les vestiaires des enfants à l...</td>\n",
       "      <td>il-faut-adapter-les-vestiaires-des-enfants-a-l...</td>\n",
       "      <td>2024-03-28T15:32:31.427Z</td>\n",
       "      <td>2024-04-05T09:00:40.920Z</td>\n",
       "      <td>30</td>\n",
       "      <td>11</td>\n",
       "      <td>4</td>\n",
       "      <td>3cd92c36-df5b-4392-b529-525acea3b72c</td>\n",
       "      <td>29.0</td>\n",
       "      <td>USER</td>\n",
       "      <td>7</td>\n",
       "      <td>4</td>\n",
       "      <td>6</td>\n",
       "      <td>3</td>\n",
       "      <td>2</td>\n",
       "      <td>3</td>\n",
       "      <td>2</td>\n",
       "      <td>1</td>\n",
       "      <td>1</td>\n",
       "    </tr>\n",
       "    <tr>\n",
       "      <th>1539</th>\n",
       "      <td>5a74cbd4-e1c0-4645-b4d0-ba5b42b0fd40</td>\n",
       "      <td>Il faut que les sports à hauts revenus partici...</td>\n",
       "      <td>il-faut-que-les-sports-a-hauts-revenus-partici...</td>\n",
       "      <td>2024-04-01T15:08:53.199Z</td>\n",
       "      <td>2024-04-11T12:47:39.922Z</td>\n",
       "      <td>35</td>\n",
       "      <td>3</td>\n",
       "      <td>10</td>\n",
       "      <td>abafb2fd-e805-45df-8170-b551670c811d</td>\n",
       "      <td>50.0</td>\n",
       "      <td>USER</td>\n",
       "      <td>12</td>\n",
       "      <td>3</td>\n",
       "      <td>8</td>\n",
       "      <td>0</td>\n",
       "      <td>0</td>\n",
       "      <td>1</td>\n",
       "      <td>2</td>\n",
       "      <td>2</td>\n",
       "      <td>3</td>\n",
       "    </tr>\n",
       "  </tbody>\n",
       "</table>\n",
       "<p>1540 rows × 20 columns</p>\n",
       "</div>"
      ],
      "text/plain": [
       "                                        id  \\\n",
       "0     82d5eb8f-f953-4e16-9015-9b775ff5f292   \n",
       "1     59ff8102-587a-425e-9976-c4d5d6a268fe   \n",
       "2     66b19692-f947-44c9-9126-33863021098e   \n",
       "3     97c4c337-15d4-4c6e-a108-aefcedeb1666   \n",
       "4     9f71ce59-200c-450a-8987-399eee4fb1dd   \n",
       "...                                    ...   \n",
       "1535  16251ada-5ac5-488f-84d9-8a3a4d74c74c   \n",
       "1536  029568f5-4352-4667-b666-65a2da5565c9   \n",
       "1537  c244a312-43b0-492a-a4c3-61acb664784d   \n",
       "1538  83738cba-e965-4eeb-873e-6e576c83118f   \n",
       "1539  5a74cbd4-e1c0-4645-b4d0-ba5b42b0fd40   \n",
       "\n",
       "                                                content  \\\n",
       "0     Il faut inciter les Français à s'équiper de mo...   \n",
       "1     Il faut demander aux sportifs de haut niveau d...   \n",
       "2     Il faut piétonniser des rues ou routes ou boul...   \n",
       "3     Il faut organiser des compétitions inter-entre...   \n",
       "4     Il faut éduquer dès le plus jeune âge les enfa...   \n",
       "...                                                 ...   \n",
       "1535  Il faut qu'il y ait plus d'offres d'activités ...   \n",
       "1536  Il faut faire des aménagements cyclables ainsi...   \n",
       "1537  Il faut inciter à avoir des douches dans les e...   \n",
       "1538  Il faut adapter les vestiaires des enfants à l...   \n",
       "1539  Il faut que les sports à hauts revenus partici...   \n",
       "\n",
       "                                                   slug  \\\n",
       "0     il-faut-inciter-les-francais-a-s-equiper-de-mo...   \n",
       "1     il-faut-demander-aux-sportifs-de-haut-niveau-d...   \n",
       "2     il-faut-pietonniser-des-rues-ou-routes-ou-boul...   \n",
       "3     il-faut-organiser-des-competitions-inter-entre...   \n",
       "4     il-faut-eduquer-des-le-plus-jeune-age-les-enfa...   \n",
       "...                                                 ...   \n",
       "1535  il-faut-qu-il-y-ait-plus-d-offres-d-activites-...   \n",
       "1536  il-faut-faire-des-amenagements-cyclables-ainsi...   \n",
       "1537  il-faut-inciter-a-avoir-des-douches-dans-les-e...   \n",
       "1538  il-faut-adapter-les-vestiaires-des-enfants-a-l...   \n",
       "1539  il-faut-que-les-sports-a-hauts-revenus-partici...   \n",
       "\n",
       "                     createdAt                 updatedAt  vote_agree  \\\n",
       "0     2024-04-01T07:07:29.747Z  2024-04-04T13:48:06.671Z           0   \n",
       "1     2024-03-25T17:30:50.114Z  2024-03-27T11:55:43.793Z          39   \n",
       "2     2024-03-24T10:05:38.434Z  2024-03-27T11:49:34.740Z          47   \n",
       "3     2024-01-29T10:13:07.672Z  2024-04-09T09:18:23.844Z         210   \n",
       "4     2024-03-28T08:51:45.459Z  2024-03-29T15:25:37.970Z          69   \n",
       "...                        ...                       ...         ...   \n",
       "1535  2024-04-01T07:57:23.506Z  2024-04-11T12:47:39.853Z          28   \n",
       "1536  2024-03-30T11:59:17.932Z  2024-04-11T12:47:39.749Z          33   \n",
       "1537  2024-03-31T07:42:57.843Z  2024-04-04T13:41:00.414Z          33   \n",
       "1538  2024-03-28T15:32:31.427Z  2024-04-05T09:00:40.920Z          30   \n",
       "1539  2024-04-01T15:08:53.199Z  2024-04-11T12:47:39.922Z          35   \n",
       "\n",
       "      vote_neutral  vote_disagree                             author_id  \\\n",
       "0                6             10  4fad3035-1a13-4ed5-b81a-e1f400e7c665   \n",
       "1               29             19  e1606f3c-5d45-4a0e-b2da-7455125ca204   \n",
       "2               18             18  b3589dd5-a215-481a-983c-0e4dff1e0763   \n",
       "3              155            205  22448ef2-cae9-42b5-9663-3bcd333fa231   \n",
       "4               13              4  cbc394ac-1fe0-48e0-ac3f-8b463ed71967   \n",
       "...            ...            ...                                   ...   \n",
       "1535             3              2  6f660e94-cf68-4ca3-b431-0e21da54ec46   \n",
       "1536             9              3  d9822c10-8d91-4d56-905d-95c91234ba61   \n",
       "1537             9              3  678b91c1-2f43-4336-a000-522e8fa2e400   \n",
       "1538            11              4  3cd92c36-df5b-4392-b529-525acea3b72c   \n",
       "1539             3             10  abafb2fd-e805-45df-8170-b551670c811d   \n",
       "\n",
       "      author_age author_type  agree_likeit  agree_platitudeagree  \\\n",
       "0           61.0        USER             0                     0   \n",
       "1           50.0        USER             6                     6   \n",
       "2           66.0        USER            13                     4   \n",
       "3           20.0        USER            38                    21   \n",
       "4           50.0        USER            14                     6   \n",
       "...          ...         ...           ...                   ...   \n",
       "1535        50.0        USER             8                     1   \n",
       "1536        68.0        USER             5                     3   \n",
       "1537        51.0        USER             7                     4   \n",
       "1538        29.0        USER             7                     4   \n",
       "1539        50.0        USER            12                     3   \n",
       "\n",
       "      agree_doable  neutral_noOpinion  neutral_doNotUnderstand  \\\n",
       "0                0                  1                        0   \n",
       "1               14                 14                        0   \n",
       "2               16                  7                        2   \n",
       "3               60                 48                        4   \n",
       "4               24                  2                        6   \n",
       "...            ...                ...                      ...   \n",
       "1535             8                  0                        1   \n",
       "1536            12                  3                        2   \n",
       "1537             9                  3                        2   \n",
       "1538             6                  3                        2   \n",
       "1539             8                  0                        0   \n",
       "\n",
       "      neutral_doNotCare  disagree_impossible  disagree_noWay  \\\n",
       "0                     3                    1               5   \n",
       "1                     9                    2               5   \n",
       "2                     3                    2               8   \n",
       "3                    52                   41              57   \n",
       "4                     3                    0               1   \n",
       "...                 ...                  ...             ...   \n",
       "1535                  0                    0               2   \n",
       "1536                  3                    0               2   \n",
       "1537                  1                    2               0   \n",
       "1538                  3                    2               1   \n",
       "1539                  1                    2               2   \n",
       "\n",
       "      disagree_platitudeDisagree  \n",
       "0                              3  \n",
       "1                              7  \n",
       "2                              3  \n",
       "3                             62  \n",
       "4                              3  \n",
       "...                          ...  \n",
       "1535                           0  \n",
       "1536                           0  \n",
       "1537                           0  \n",
       "1538                           1  \n",
       "1539                           3  \n",
       "\n",
       "[1540 rows x 20 columns]"
      ]
     },
     "execution_count": 36,
     "metadata": {},
     "output_type": "execute_result"
    }
   ],
   "source": [
    "df_f"
   ]
  },
  {
   "cell_type": "code",
   "execution_count": 37,
   "id": "049b40b1",
   "metadata": {},
   "outputs": [
    {
     "data": {
      "text/plain": [
       "author_id\n",
       "6f660e94-cf68-4ca3-b431-0e21da54ec46    21\n",
       "946d70a5-b382-47ee-bf36-a13c75f8a7f8    19\n",
       "c21e71f9-aff9-43dc-bea1-75e5aeca4c4f    17\n",
       "10060f7b-5bc7-4e91-af11-2e796a9fc642    15\n",
       "dc488b7b-23f0-4d69-b5ed-00ca74eb84b5    14\n",
       "                                        ..\n",
       "f754466e-e6f9-4104-9cd0-980c607f94de     1\n",
       "1f583dd4-8027-4740-affe-ef3b447f8272     1\n",
       "aec1d07f-a49d-4e22-9996-440710786486     1\n",
       "e67078eb-beb8-477a-a39e-0e74acb621d7     1\n",
       "678b91c1-2f43-4336-a000-522e8fa2e400     1\n",
       "Name: count, Length: 969, dtype: int64"
      ]
     },
     "execution_count": 37,
     "metadata": {},
     "output_type": "execute_result"
    }
   ],
   "source": [
    "df_f[\"author_id\"].value_counts()"
   ]
  },
  {
   "cell_type": "markdown",
   "id": "83d95c8a",
   "metadata": {},
   "source": [
    "# Traitement des textes "
   ]
  },
  {
   "cell_type": "code",
   "execution_count": 38,
   "id": "69be8174",
   "metadata": {},
   "outputs": [],
   "source": [
    "df = df_f.copy()"
   ]
  },
  {
   "cell_type": "code",
   "execution_count": 39,
   "id": "7225ac88",
   "metadata": {},
   "outputs": [],
   "source": [
    "import spacy"
   ]
  },
  {
   "cell_type": "code",
   "execution_count": 40,
   "id": "9f5b7964",
   "metadata": {},
   "outputs": [
    {
     "name": "stdout",
     "output_type": "stream",
     "text": [
      "Collecting fr-core-news-md==3.8.0\n",
      "  Downloading https://github.com/explosion/spacy-models/releases/download/fr_core_news_md-3.8.0/fr_core_news_md-3.8.0-py3-none-any.whl (45.8 MB)\n",
      "     ---------------------------------------- 0.0/45.8 MB ? eta -:--:--\n",
      "     ---------------------------------------- 0.0/45.8 MB ? eta -:--:--\n",
      "     ---------------------------------------- 0.3/45.8 MB ? eta -:--:--\n",
      "      --------------------------------------- 0.8/45.8 MB 1.3 MB/s eta 0:00:34\n",
      "      --------------------------------------- 1.0/45.8 MB 1.4 MB/s eta 0:00:32\n",
      "     - -------------------------------------- 1.3/45.8 MB 1.5 MB/s eta 0:00:30\n",
      "     - -------------------------------------- 1.8/45.8 MB 1.6 MB/s eta 0:00:28\n",
      "     - -------------------------------------- 2.1/45.8 MB 1.7 MB/s eta 0:00:27\n",
      "     -- ------------------------------------- 2.6/45.8 MB 1.7 MB/s eta 0:00:27\n",
      "     -- ------------------------------------- 2.6/45.8 MB 1.7 MB/s eta 0:00:27\n",
      "     -- ------------------------------------- 2.6/45.8 MB 1.7 MB/s eta 0:00:27\n",
      "     -- ------------------------------------- 2.9/45.8 MB 1.4 MB/s eta 0:00:32\n",
      "     -- ------------------------------------- 3.1/45.8 MB 1.4 MB/s eta 0:00:32\n",
      "     -- ------------------------------------- 3.1/45.8 MB 1.4 MB/s eta 0:00:32\n",
      "     -- ------------------------------------- 3.4/45.8 MB 1.2 MB/s eta 0:00:36\n",
      "     --- ------------------------------------ 3.7/45.8 MB 1.2 MB/s eta 0:00:36\n",
      "     --- ------------------------------------ 3.7/45.8 MB 1.2 MB/s eta 0:00:36\n",
      "     --- ------------------------------------ 3.9/45.8 MB 1.1 MB/s eta 0:00:38\n",
      "     --- ------------------------------------ 4.2/45.8 MB 1.1 MB/s eta 0:00:38\n",
      "     --- ------------------------------------ 4.5/45.8 MB 1.1 MB/s eta 0:00:37\n",
      "     ---- ----------------------------------- 5.0/45.8 MB 1.2 MB/s eta 0:00:35\n",
      "     ---- ----------------------------------- 5.2/45.8 MB 1.2 MB/s eta 0:00:34\n",
      "     ----- ---------------------------------- 5.8/45.8 MB 1.3 MB/s eta 0:00:32\n",
      "     ----- ---------------------------------- 6.0/45.8 MB 1.3 MB/s eta 0:00:32\n",
      "     ----- ---------------------------------- 6.6/45.8 MB 1.3 MB/s eta 0:00:30\n",
      "     ------ --------------------------------- 7.1/45.8 MB 1.4 MB/s eta 0:00:29\n",
      "     ------ --------------------------------- 7.6/45.8 MB 1.4 MB/s eta 0:00:28\n",
      "     ------- -------------------------------- 8.1/45.8 MB 1.5 MB/s eta 0:00:26\n",
      "     ------- -------------------------------- 8.7/45.8 MB 1.5 MB/s eta 0:00:26\n",
      "     -------- ------------------------------- 9.2/45.8 MB 1.5 MB/s eta 0:00:25\n",
      "     -------- ------------------------------- 9.7/45.8 MB 1.5 MB/s eta 0:00:24\n",
      "     -------- ------------------------------- 10.2/45.8 MB 1.6 MB/s eta 0:00:23\n",
      "     --------- ------------------------------ 10.7/45.8 MB 1.6 MB/s eta 0:00:22\n",
      "     --------- ------------------------------ 11.3/45.8 MB 1.6 MB/s eta 0:00:22\n",
      "     ---------- ----------------------------- 11.8/45.8 MB 1.7 MB/s eta 0:00:21\n",
      "     ---------- ----------------------------- 12.3/45.8 MB 1.7 MB/s eta 0:00:20\n",
      "     ----------- ---------------------------- 12.8/45.8 MB 1.7 MB/s eta 0:00:20\n",
      "     ----------- ---------------------------- 13.4/45.8 MB 1.7 MB/s eta 0:00:19\n",
      "     ------------ --------------------------- 14.2/45.8 MB 1.8 MB/s eta 0:00:18\n",
      "     ------------ --------------------------- 14.4/45.8 MB 1.8 MB/s eta 0:00:18\n",
      "     ------------- -------------------------- 15.2/45.8 MB 1.8 MB/s eta 0:00:17\n",
      "     ------------- -------------------------- 15.7/45.8 MB 1.8 MB/s eta 0:00:17\n",
      "     -------------- ------------------------- 16.5/45.8 MB 1.9 MB/s eta 0:00:16\n",
      "     -------------- ------------------------- 17.0/45.8 MB 1.9 MB/s eta 0:00:16\n",
      "     --------------- ------------------------ 17.6/45.8 MB 1.9 MB/s eta 0:00:15\n",
      "     ---------------- ----------------------- 18.4/45.8 MB 2.0 MB/s eta 0:00:15\n",
      "     ---------------- ----------------------- 18.9/45.8 MB 2.0 MB/s eta 0:00:14\n",
      "     ----------------- ---------------------- 19.7/45.8 MB 2.0 MB/s eta 0:00:14\n",
      "     ----------------- ---------------------- 20.2/45.8 MB 2.0 MB/s eta 0:00:13\n",
      "     ------------------ --------------------- 21.0/45.8 MB 2.0 MB/s eta 0:00:13\n",
      "     ------------------ --------------------- 21.5/45.8 MB 2.1 MB/s eta 0:00:12\n",
      "     ------------------- -------------------- 22.3/45.8 MB 2.1 MB/s eta 0:00:12\n",
      "     ------------------- -------------------- 22.8/45.8 MB 2.1 MB/s eta 0:00:11\n",
      "     -------------------- ------------------- 23.3/45.8 MB 2.1 MB/s eta 0:00:11\n",
      "     --------------------- ------------------ 24.1/45.8 MB 2.1 MB/s eta 0:00:11\n",
      "     --------------------- ------------------ 24.6/45.8 MB 2.2 MB/s eta 0:00:10\n",
      "     ---------------------- ----------------- 25.4/45.8 MB 2.2 MB/s eta 0:00:10\n",
      "     ---------------------- ----------------- 26.0/45.8 MB 2.2 MB/s eta 0:00:10\n",
      "     ----------------------- ---------------- 26.5/45.8 MB 2.2 MB/s eta 0:00:09\n",
      "     ----------------------- ---------------- 27.0/45.8 MB 2.2 MB/s eta 0:00:09\n",
      "     ------------------------ --------------- 27.8/45.8 MB 2.2 MB/s eta 0:00:09\n",
      "     ------------------------ --------------- 28.3/45.8 MB 2.2 MB/s eta 0:00:08\n",
      "     ------------------------- -------------- 28.8/45.8 MB 2.2 MB/s eta 0:00:08\n",
      "     ------------------------- -------------- 29.6/45.8 MB 2.2 MB/s eta 0:00:08\n",
      "     -------------------------- ------------- 30.1/45.8 MB 2.3 MB/s eta 0:00:07\n",
      "     -------------------------- ------------- 30.9/45.8 MB 2.3 MB/s eta 0:00:07\n",
      "     --------------------------- ------------ 31.5/45.8 MB 2.3 MB/s eta 0:00:07\n",
      "     ---------------------------- ----------- 32.2/45.8 MB 2.3 MB/s eta 0:00:06\n",
      "     ---------------------------- ----------- 33.0/45.8 MB 2.3 MB/s eta 0:00:06\n",
      "     ----------------------------- ---------- 33.8/45.8 MB 2.3 MB/s eta 0:00:06\n",
      "     ------------------------------ --------- 34.6/45.8 MB 2.4 MB/s eta 0:00:05\n",
      "     ------------------------------ --------- 35.4/45.8 MB 2.4 MB/s eta 0:00:05\n",
      "     ------------------------------- -------- 35.9/45.8 MB 2.4 MB/s eta 0:00:05\n",
      "     -------------------------------- ------- 36.7/45.8 MB 2.4 MB/s eta 0:00:04\n",
      "     -------------------------------- ------- 37.5/45.8 MB 2.4 MB/s eta 0:00:04\n",
      "     --------------------------------- ------ 38.3/45.8 MB 2.4 MB/s eta 0:00:04\n",
      "     --------------------------------- ------ 38.5/45.8 MB 2.4 MB/s eta 0:00:04\n",
      "     --------------------------------- ------ 38.5/45.8 MB 2.4 MB/s eta 0:00:04\n",
      "     --------------------------------- ------ 38.5/45.8 MB 2.4 MB/s eta 0:00:04\n",
      "     --------------------------------- ------ 38.5/45.8 MB 2.4 MB/s eta 0:00:04\n",
      "     --------------------------------- ------ 38.5/45.8 MB 2.4 MB/s eta 0:00:04\n",
      "     --------------------------------- ------ 38.8/45.8 MB 2.3 MB/s eta 0:00:04\n",
      "     --------------------------------- ------ 38.8/45.8 MB 2.3 MB/s eta 0:00:04\n",
      "     --------------------------------- ------ 38.8/45.8 MB 2.3 MB/s eta 0:00:04\n",
      "     --------------------------------- ------ 38.8/45.8 MB 2.3 MB/s eta 0:00:04\n",
      "     --------------------------------- ------ 38.8/45.8 MB 2.3 MB/s eta 0:00:04\n",
      "     ---------------------------------- ----- 39.1/45.8 MB 2.2 MB/s eta 0:00:04\n",
      "     ---------------------------------- ----- 39.1/45.8 MB 2.2 MB/s eta 0:00:04\n",
      "     ---------------------------------- ----- 39.3/45.8 MB 2.1 MB/s eta 0:00:04\n",
      "     ---------------------------------- ----- 39.3/45.8 MB 2.1 MB/s eta 0:00:04\n",
      "     ---------------------------------- ----- 39.3/45.8 MB 2.1 MB/s eta 0:00:04\n",
      "     ---------------------------------- ----- 39.3/45.8 MB 2.1 MB/s eta 0:00:04\n",
      "     ---------------------------------- ----- 39.6/45.8 MB 2.0 MB/s eta 0:00:04\n",
      "     ---------------------------------- ----- 39.6/45.8 MB 2.0 MB/s eta 0:00:04\n",
      "     ---------------------------------- ----- 39.6/45.8 MB 2.0 MB/s eta 0:00:04\n",
      "     ---------------------------------- ----- 39.8/45.8 MB 2.0 MB/s eta 0:00:04\n",
      "     ---------------------------------- ----- 39.8/45.8 MB 2.0 MB/s eta 0:00:04\n",
      "     ----------------------------------- ---- 40.1/45.8 MB 2.0 MB/s eta 0:00:03\n",
      "     ----------------------------------- ---- 40.1/45.8 MB 2.0 MB/s eta 0:00:03\n",
      "     ----------------------------------- ---- 40.1/45.8 MB 2.0 MB/s eta 0:00:03\n",
      "     ----------------------------------- ---- 40.4/45.8 MB 1.9 MB/s eta 0:00:03\n",
      "     ----------------------------------- ---- 40.4/45.8 MB 1.9 MB/s eta 0:00:03\n",
      "     ----------------------------------- ---- 40.4/45.8 MB 1.9 MB/s eta 0:00:03\n",
      "     ----------------------------------- ---- 40.4/45.8 MB 1.9 MB/s eta 0:00:03\n",
      "     ----------------------------------- ---- 40.4/45.8 MB 1.9 MB/s eta 0:00:03\n",
      "     ----------------------------------- ---- 40.6/45.8 MB 1.8 MB/s eta 0:00:03\n",
      "     ----------------------------------- ---- 40.6/45.8 MB 1.8 MB/s eta 0:00:03\n",
      "     ----------------------------------- ---- 40.6/45.8 MB 1.8 MB/s eta 0:00:03\n",
      "     ----------------------------------- ---- 40.9/45.8 MB 1.8 MB/s eta 0:00:03\n",
      "     ----------------------------------- ---- 40.9/45.8 MB 1.8 MB/s eta 0:00:03\n",
      "     ----------------------------------- ---- 40.9/45.8 MB 1.8 MB/s eta 0:00:03\n",
      "     ----------------------------------- ---- 41.2/45.8 MB 1.8 MB/s eta 0:00:03\n",
      "     ----------------------------------- ---- 41.2/45.8 MB 1.8 MB/s eta 0:00:03\n",
      "     ----------------------------------- ---- 41.2/45.8 MB 1.8 MB/s eta 0:00:03\n",
      "     ------------------------------------ --- 41.4/45.8 MB 1.7 MB/s eta 0:00:03\n",
      "     ------------------------------------ --- 41.4/45.8 MB 1.7 MB/s eta 0:00:03\n",
      "     ------------------------------------ --- 41.7/45.8 MB 1.7 MB/s eta 0:00:03\n",
      "     ------------------------------------ --- 41.7/45.8 MB 1.7 MB/s eta 0:00:03\n",
      "     ------------------------------------ --- 41.7/45.8 MB 1.7 MB/s eta 0:00:03\n",
      "     ------------------------------------ --- 41.7/45.8 MB 1.7 MB/s eta 0:00:03\n"
     ]
    },
    {
     "name": "stderr",
     "output_type": "stream",
     "text": [
      "\n",
      "[notice] A new release of pip is available: 25.0.1 -> 25.1.1\n",
      "[notice] To update, run: python.exe -m pip install --upgrade pip\n",
      "ERROR: Exception:\n",
      "Traceback (most recent call last):\n",
      "  File \"c:\\Users\\LENOVO PC\\AppData\\Local\\Programs\\Python\\Python312\\Lib\\site-packages\\pip\\_vendor\\urllib3\\response.py\", line 438, in _error_catcher\n",
      "    yield\n",
      "  File \"c:\\Users\\LENOVO PC\\AppData\\Local\\Programs\\Python\\Python312\\Lib\\site-packages\\pip\\_vendor\\urllib3\\response.py\", line 561, in read\n",
      "    data = self._fp_read(amt) if not fp_closed else b\"\"\n",
      "           ^^^^^^^^^^^^^^^^^^\n",
      "  File \"c:\\Users\\LENOVO PC\\AppData\\Local\\Programs\\Python\\Python312\\Lib\\site-packages\\pip\\_vendor\\urllib3\\response.py\", line 527, in _fp_read\n",
      "    return self._fp.read(amt) if amt is not None else self._fp.read()\n",
      "           ^^^^^^^^^^^^^^^^^^\n",
      "  File \"c:\\Users\\LENOVO PC\\AppData\\Local\\Programs\\Python\\Python312\\Lib\\site-packages\\pip\\_vendor\\cachecontrol\\filewrapper.py\", line 102, in read\n",
      "    self.__buf.write(data)\n",
      "  File \"c:\\Users\\LENOVO PC\\AppData\\Local\\Programs\\Python\\Python312\\Lib\\tempfile.py\", line 499, in func_wrapper\n",
      "    return func(*args, **kwargs)\n",
      "           ^^^^^^^^^^^^^^^^^^^^^\n",
      "OSError: [Errno 28] No space left on device\n",
      "\n",
      "During handling of the above exception, another exception occurred:\n",
      "\n",
      "Traceback (most recent call last):\n",
      "  File \"c:\\Users\\LENOVO PC\\AppData\\Local\\Programs\\Python\\Python312\\Lib\\site-packages\\pip\\_internal\\cli\\base_command.py\", line 106, in _run_wrapper\n",
      "    status = _inner_run()\n",
      "             ^^^^^^^^^^^^\n",
      "  File \"c:\\Users\\LENOVO PC\\AppData\\Local\\Programs\\Python\\Python312\\Lib\\site-packages\\pip\\_internal\\cli\\base_command.py\", line 97, in _inner_run\n",
      "    return self.run(options, args)\n",
      "           ^^^^^^^^^^^^^^^^^^^^^^^\n",
      "  File \"c:\\Users\\LENOVO PC\\AppData\\Local\\Programs\\Python\\Python312\\Lib\\site-packages\\pip\\_internal\\cli\\req_command.py\", line 67, in wrapper\n",
      "    return func(self, options, args)\n",
      "           ^^^^^^^^^^^^^^^^^^^^^^^^^\n",
      "  File \"c:\\Users\\LENOVO PC\\AppData\\Local\\Programs\\Python\\Python312\\Lib\\site-packages\\pip\\_internal\\commands\\install.py\", line 386, in run\n",
      "    requirement_set = resolver.resolve(\n",
      "                      ^^^^^^^^^^^^^^^^^\n",
      "  File \"c:\\Users\\LENOVO PC\\AppData\\Local\\Programs\\Python\\Python312\\Lib\\site-packages\\pip\\_internal\\resolution\\resolvelib\\resolver.py\", line 76, in resolve\n",
      "    collected = self.factory.collect_root_requirements(root_reqs)\n",
      "                ^^^^^^^^^^^^^^^^^^^^^^^^^^^^^^^^^^^^^^^^^^^^^^^^^\n",
      "  File \"c:\\Users\\LENOVO PC\\AppData\\Local\\Programs\\Python\\Python312\\Lib\\site-packages\\pip\\_internal\\resolution\\resolvelib\\factory.py\", line 545, in collect_root_requirements\n",
      "    reqs = list(\n",
      "           ^^^^^\n",
      "  File \"c:\\Users\\LENOVO PC\\AppData\\Local\\Programs\\Python\\Python312\\Lib\\site-packages\\pip\\_internal\\resolution\\resolvelib\\factory.py\", line 501, in _make_requirements_from_install_req\n",
      "    cand = self._make_base_candidate_from_link(\n",
      "           ^^^^^^^^^^^^^^^^^^^^^^^^^^^^^^^^^^^^\n",
      "  File \"c:\\Users\\LENOVO PC\\AppData\\Local\\Programs\\Python\\Python312\\Lib\\site-packages\\pip\\_internal\\resolution\\resolvelib\\factory.py\", line 233, in _make_base_candidate_from_link\n",
      "    self._link_candidate_cache[link] = LinkCandidate(\n",
      "                                       ^^^^^^^^^^^^^^\n",
      "  File \"c:\\Users\\LENOVO PC\\AppData\\Local\\Programs\\Python\\Python312\\Lib\\site-packages\\pip\\_internal\\resolution\\resolvelib\\candidates.py\", line 304, in __init__\n",
      "    super().__init__(\n",
      "  File \"c:\\Users\\LENOVO PC\\AppData\\Local\\Programs\\Python\\Python312\\Lib\\site-packages\\pip\\_internal\\resolution\\resolvelib\\candidates.py\", line 159, in __init__\n",
      "    self.dist = self._prepare()\n",
      "                ^^^^^^^^^^^^^^^\n",
      "  File \"c:\\Users\\LENOVO PC\\AppData\\Local\\Programs\\Python\\Python312\\Lib\\site-packages\\pip\\_internal\\resolution\\resolvelib\\candidates.py\", line 236, in _prepare\n",
      "    dist = self._prepare_distribution()\n",
      "           ^^^^^^^^^^^^^^^^^^^^^^^^^^^^\n",
      "  File \"c:\\Users\\LENOVO PC\\AppData\\Local\\Programs\\Python\\Python312\\Lib\\site-packages\\pip\\_internal\\resolution\\resolvelib\\candidates.py\", line 315, in _prepare_distribution\n",
      "    return preparer.prepare_linked_requirement(self._ireq, parallel_builds=True)\n",
      "           ^^^^^^^^^^^^^^^^^^^^^^^^^^^^^^^^^^^^^^^^^^^^^^^^^^^^^^^^^^^^^^^^^^^^^\n",
      "  File \"c:\\Users\\LENOVO PC\\AppData\\Local\\Programs\\Python\\Python312\\Lib\\site-packages\\pip\\_internal\\operations\\prepare.py\", line 527, in prepare_linked_requirement\n",
      "    return self._prepare_linked_requirement(req, parallel_builds)\n",
      "           ^^^^^^^^^^^^^^^^^^^^^^^^^^^^^^^^^^^^^^^^^^^^^^^^^^^^^^\n",
      "  File \"c:\\Users\\LENOVO PC\\AppData\\Local\\Programs\\Python\\Python312\\Lib\\site-packages\\pip\\_internal\\operations\\prepare.py\", line 598, in _prepare_linked_requirement\n",
      "    local_file = unpack_url(\n",
      "                 ^^^^^^^^^^^\n",
      "  File \"c:\\Users\\LENOVO PC\\AppData\\Local\\Programs\\Python\\Python312\\Lib\\site-packages\\pip\\_internal\\operations\\prepare.py\", line 170, in unpack_url\n",
      "    file = get_http_url(\n",
      "           ^^^^^^^^^^^^^\n",
      "  File \"c:\\Users\\LENOVO PC\\AppData\\Local\\Programs\\Python\\Python312\\Lib\\site-packages\\pip\\_internal\\operations\\prepare.py\", line 111, in get_http_url\n",
      "    from_path, content_type = download(link, temp_dir.path)\n",
      "                              ^^^^^^^^^^^^^^^^^^^^^^^^^^^^^\n",
      "  File \"c:\\Users\\LENOVO PC\\AppData\\Local\\Programs\\Python\\Python312\\Lib\\site-packages\\pip\\_internal\\network\\download.py\", line 148, in __call__\n",
      "    for chunk in chunks:\n",
      "  File \"c:\\Users\\LENOVO PC\\AppData\\Local\\Programs\\Python\\Python312\\Lib\\site-packages\\pip\\_internal\\cli\\progress_bars.py\", line 55, in _rich_progress_bar\n",
      "    for chunk in iterable:\n",
      "  File \"c:\\Users\\LENOVO PC\\AppData\\Local\\Programs\\Python\\Python312\\Lib\\site-packages\\pip\\_internal\\network\\utils.py\", line 65, in response_chunks\n",
      "    for chunk in response.raw.stream(\n",
      "  File \"c:\\Users\\LENOVO PC\\AppData\\Local\\Programs\\Python\\Python312\\Lib\\site-packages\\pip\\_vendor\\urllib3\\response.py\", line 622, in stream\n",
      "    data = self.read(amt=amt, decode_content=decode_content)\n",
      "           ^^^^^^^^^^^^^^^^^^^^^^^^^^^^^^^^^^^^^^^^^^^^^^^^^\n",
      "  File \"c:\\Users\\LENOVO PC\\AppData\\Local\\Programs\\Python\\Python312\\Lib\\site-packages\\pip\\_vendor\\urllib3\\response.py\", line 560, in read\n",
      "    with self._error_catcher():\n",
      "  File \"c:\\Users\\LENOVO PC\\AppData\\Local\\Programs\\Python\\Python312\\Lib\\contextlib.py\", line 158, in __exit__\n",
      "    self.gen.throw(value)\n",
      "  File \"c:\\Users\\LENOVO PC\\AppData\\Local\\Programs\\Python\\Python312\\Lib\\site-packages\\pip\\_vendor\\urllib3\\response.py\", line 455, in _error_catcher\n",
      "    raise ProtocolError(\"Connection broken: %r\" % e, e)\n",
      "pip._vendor.urllib3.exceptions.ProtocolError: (\"Connection broken: OSError(28, 'No space left on device')\", OSError(28, 'No space left on device'))\n"
     ]
    }
   ],
   "source": [
    "!python -m spacy download fr_core_news_md\n"
   ]
  },
  {
   "cell_type": "markdown",
   "id": "ed1ed889",
   "metadata": {},
   "source": [
    "# PREPOCESSING DES CORPUS "
   ]
  },
  {
   "cell_type": "code",
   "execution_count": 41,
   "id": "dc04f9fb",
   "metadata": {},
   "outputs": [
    {
     "name": "stdout",
     "output_type": "stream",
     "text": [
      "                                             content  \\\n",
      "0  Il faut inciter les Français à s'équiper de mo...   \n",
      "1  Il faut demander aux sportifs de haut niveau d...   \n",
      "2  Il faut piétonniser des rues ou routes ou boul...   \n",
      "3  Il faut organiser des compétitions inter-entre...   \n",
      "4  Il faut éduquer dès le plus jeune âge les enfa...   \n",
      "\n",
      "                                              tokens  \n",
      "0  [falloir, inciter, francai, equiper, montre, c...  \n",
      "1  [falloir, demander, sportif, haut, niveau, exp...  \n",
      "2  [falloir, pietonniser, rue, route, boulevard, ...  \n",
      "3      [falloir, organiser, competition, mediatiser]  \n",
      "4  [falloir, eduquer, jeune, age, enfant, exercic...  \n"
     ]
    }
   ],
   "source": [
    "import spacy\n",
    "import pandas as pd\n",
    "from unidecode import unidecode  # << IMPORT ici\n",
    "\n",
    "# 1. Chargement du modèle spaCy\n",
    "nlp = spacy.load('fr_core_news_md')\n",
    "\n",
    "# 2. Fonction de prétraitement améliorée\n",
    "def preprocess(text):\n",
    "    text = unidecode(text.lower())  # Mise en minuscules + suppression des accents\n",
    "    doc = nlp(text)\n",
    "    return [token.lemma_ for token in doc if token.is_alpha and not token.is_stop]\n",
    "\n",
    "# 3. Application sur la colonne 'content'\n",
    "df['tokens'] = df['content'].astype(str).apply(preprocess)\n",
    "\n",
    "# Aperçu\n",
    "print(df[['content', 'tokens']].head())\n"
   ]
  },
  {
   "cell_type": "code",
   "execution_count": 42,
   "id": "82641d59",
   "metadata": {},
   "outputs": [],
   "source": [
    "# 2. Supprimer les mots les plus fréquents (stop words)\n",
    "from collections import Counter\n",
    "\n",
    "all_tokens = [token for tokens in df['tokens'] for token in tokens]\n",
    "top_n = 20\n",
    "most_common_words = set([w for w, _ in Counter(all_tokens).most_common(top_n)])\n",
    "\n",
    "def remove_common(tokens):\n",
    "    return [t for t in tokens if t not in most_common_words]\n",
    "\n",
    "df['tokens'] = df['tokens'].apply(remove_common)"
   ]
  },
  {
   "cell_type": "code",
   "execution_count": 43,
   "id": "0def88a6",
   "metadata": {},
   "outputs": [
    {
     "data": {
      "text/html": [
       "<div>\n",
       "<style scoped>\n",
       "    .dataframe tbody tr th:only-of-type {\n",
       "        vertical-align: middle;\n",
       "    }\n",
       "\n",
       "    .dataframe tbody tr th {\n",
       "        vertical-align: top;\n",
       "    }\n",
       "\n",
       "    .dataframe thead th {\n",
       "        text-align: right;\n",
       "    }\n",
       "</style>\n",
       "<table border=\"1\" class=\"dataframe\">\n",
       "  <thead>\n",
       "    <tr style=\"text-align: right;\">\n",
       "      <th></th>\n",
       "      <th>content</th>\n",
       "      <th>tokens</th>\n",
       "    </tr>\n",
       "  </thead>\n",
       "  <tbody>\n",
       "    <tr>\n",
       "      <th>0</th>\n",
       "      <td>Il faut inciter les Français à s'équiper de mo...</td>\n",
       "      <td>[inciter, francai, equiper, montre, connecteer...</td>\n",
       "    </tr>\n",
       "    <tr>\n",
       "      <th>1</th>\n",
       "      <td>Il faut demander aux sportifs de haut niveau d...</td>\n",
       "      <td>[demander, haut, niveau, expliquer, public, ex...</td>\n",
       "    </tr>\n",
       "    <tr>\n",
       "      <th>2</th>\n",
       "      <td>Il faut piétonniser des rues ou routes ou boul...</td>\n",
       "      <td>[pietonniser, rue, route, boulevard, inciter, ...</td>\n",
       "    </tr>\n",
       "    <tr>\n",
       "      <th>3</th>\n",
       "      <td>Il faut organiser des compétitions inter-entre...</td>\n",
       "      <td>[organiser, competition, mediatiser]</td>\n",
       "    </tr>\n",
       "    <tr>\n",
       "      <th>4</th>\n",
       "      <td>Il faut éduquer dès le plus jeune âge les enfa...</td>\n",
       "      <td>[eduquer, age, exercice, simple, disponible, a...</td>\n",
       "    </tr>\n",
       "  </tbody>\n",
       "</table>\n",
       "</div>"
      ],
      "text/plain": [
       "                                             content  \\\n",
       "0  Il faut inciter les Français à s'équiper de mo...   \n",
       "1  Il faut demander aux sportifs de haut niveau d...   \n",
       "2  Il faut piétonniser des rues ou routes ou boul...   \n",
       "3  Il faut organiser des compétitions inter-entre...   \n",
       "4  Il faut éduquer dès le plus jeune âge les enfa...   \n",
       "\n",
       "                                              tokens  \n",
       "0  [inciter, francai, equiper, montre, connecteer...  \n",
       "1  [demander, haut, niveau, expliquer, public, ex...  \n",
       "2  [pietonniser, rue, route, boulevard, inciter, ...  \n",
       "3               [organiser, competition, mediatiser]  \n",
       "4  [eduquer, age, exercice, simple, disponible, a...  "
      ]
     },
     "execution_count": 43,
     "metadata": {},
     "output_type": "execute_result"
    }
   ],
   "source": [
    "df[['content','tokens']].head()"
   ]
  },
  {
   "cell_type": "markdown",
   "id": "c4659d3b",
   "metadata": {},
   "source": [
    "# VECTORISATION AVEC WORD2VEC"
   ]
  },
  {
   "cell_type": "code",
   "execution_count": 44,
   "id": "84781793",
   "metadata": {},
   "outputs": [],
   "source": [
    "from gensim.models import Word2Vec"
   ]
  },
  {
   "cell_type": "code",
   "execution_count": 45,
   "id": "5241bfb6",
   "metadata": {},
   "outputs": [],
   "source": [
    "from gensim.models import Word2Vec"
   ]
  },
  {
   "cell_type": "code",
   "execution_count": 46,
   "id": "bedcfbc6",
   "metadata": {},
   "outputs": [
    {
     "data": {
      "text/plain": [
       "13"
      ]
     },
     "execution_count": 46,
     "metadata": {},
     "output_type": "execute_result"
    }
   ],
   "source": [
    "MAX=np.max([len(l) for l in df[\"tokens\"]])\n",
    "MAX"
   ]
  },
  {
   "cell_type": "markdown",
   "id": "0180c3f1",
   "metadata": {},
   "source": [
    "## Vectorisation"
   ]
  },
  {
   "cell_type": "code",
   "execution_count": 47,
   "id": "51d9e64b",
   "metadata": {},
   "outputs": [],
   "source": [
    "# 1. Entraînement du modèle Word2Vec\n",
    "model = Word2Vec(\n",
    "    sentences=df['tokens'],   # On utilise directement la liste de tokens\n",
    "    vector_size=50,          # Dimension des vecteurs (tu peux changer, ex: 50, 200)\n",
    "    window=MAX,                 # Taille du contexte (nombre de mots autour)\n",
    "    min_count=1,              # Ignore les mots apparaissant moins de 2 fois\n",
    "    sg=0                      # 1 = skip-gram ; 0 = CBOW\n",
    ")\n",
    "\n",
    "# 2. Sauvegarder ou charger ton modèle si besoin\n",
    "model.save(\"word2vec.model\")\n",
    "model = Word2Vec.load(\"word2vec.model\")\n"
   ]
  },
  {
   "cell_type": "code",
   "execution_count": 48,
   "id": "8c9e2092",
   "metadata": {},
   "outputs": [],
   "source": [
    " # 3. Obtenir les vecteurs pour chaque mot"
   ]
  },
  {
   "cell_type": "code",
   "execution_count": 49,
   "id": "e34de136",
   "metadata": {},
   "outputs": [
    {
     "data": {
      "text/html": [
       "<div>\n",
       "<style scoped>\n",
       "    .dataframe tbody tr th:only-of-type {\n",
       "        vertical-align: middle;\n",
       "    }\n",
       "\n",
       "    .dataframe tbody tr th {\n",
       "        vertical-align: top;\n",
       "    }\n",
       "\n",
       "    .dataframe thead th {\n",
       "        text-align: right;\n",
       "    }\n",
       "</style>\n",
       "<table border=\"1\" class=\"dataframe\">\n",
       "  <thead>\n",
       "    <tr style=\"text-align: right;\">\n",
       "      <th></th>\n",
       "      <th>tokens</th>\n",
       "      <th>vectors</th>\n",
       "    </tr>\n",
       "  </thead>\n",
       "  <tbody>\n",
       "    <tr>\n",
       "      <th>0</th>\n",
       "      <td>[inciter, francai, equiper, montre, connecteer...</td>\n",
       "      <td>[[0.014464723, -0.014730281, -0.001896803, -0....</td>\n",
       "    </tr>\n",
       "    <tr>\n",
       "      <th>1</th>\n",
       "      <td>[demander, haut, niveau, expliquer, public, ex...</td>\n",
       "      <td>[[0.017098892, 0.010991822, 0.01785649, 0.0034...</td>\n",
       "    </tr>\n",
       "    <tr>\n",
       "      <th>2</th>\n",
       "      <td>[pietonniser, rue, route, boulevard, inciter, ...</td>\n",
       "      <td>[[0.012482294, 0.01716405, -0.0049462076, 0.01...</td>\n",
       "    </tr>\n",
       "    <tr>\n",
       "      <th>3</th>\n",
       "      <td>[organiser, competition, mediatiser]</td>\n",
       "      <td>[[0.010903161, -0.009555468, -0.0118506765, 2....</td>\n",
       "    </tr>\n",
       "    <tr>\n",
       "      <th>4</th>\n",
       "      <td>[eduquer, age, exercice, simple, disponible, a...</td>\n",
       "      <td>[[-0.005600792, 0.012054055, -0.00041346325, -...</td>\n",
       "    </tr>\n",
       "  </tbody>\n",
       "</table>\n",
       "</div>"
      ],
      "text/plain": [
       "                                              tokens  \\\n",
       "0  [inciter, francai, equiper, montre, connecteer...   \n",
       "1  [demander, haut, niveau, expliquer, public, ex...   \n",
       "2  [pietonniser, rue, route, boulevard, inciter, ...   \n",
       "3               [organiser, competition, mediatiser]   \n",
       "4  [eduquer, age, exercice, simple, disponible, a...   \n",
       "\n",
       "                                             vectors  \n",
       "0  [[0.014464723, -0.014730281, -0.001896803, -0....  \n",
       "1  [[0.017098892, 0.010991822, 0.01785649, 0.0034...  \n",
       "2  [[0.012482294, 0.01716405, -0.0049462076, 0.01...  \n",
       "3  [[0.010903161, -0.009555468, -0.0118506765, 2....  \n",
       "4  [[-0.005600792, 0.012054055, -0.00041346325, -...  "
      ]
     },
     "execution_count": 49,
     "metadata": {},
     "output_type": "execute_result"
    }
   ],
   "source": [
    "def get_token_vector(tokens):\n",
    "    list_vector = []\n",
    "    for t in tokens :\n",
    "        list_vector.append(model.wv[t])\n",
    "    return list_vector\n",
    "\n",
    "\n",
    "# application de la fonction sur la colonne 'tokens'\n",
    "df['vectors'] = df['tokens'].apply(get_token_vector)      \n",
    "df[['tokens', 'vectors']].head()"
   ]
  },
  {
   "cell_type": "markdown",
   "id": "1445e517",
   "metadata": {},
   "source": [
    "## Visualisation du nuage de point par TSNE"
   ]
  },
  {
   "cell_type": "code",
   "execution_count": 50,
   "id": "5c34e5c6",
   "metadata": {},
   "outputs": [
    {
     "name": "stderr",
     "output_type": "stream",
     "text": [
      "c:\\Users\\LENOVO PC\\AppData\\Local\\Programs\\Python\\Python312\\Lib\\site-packages\\sklearn\\manifold\\_t_sne.py:1162: FutureWarning: 'n_iter' was renamed to 'max_iter' in version 1.5 and will be removed in 1.7.\n",
      "  warnings.warn(\n"
     ]
    },
    {
     "data": {
      "application/vnd.plotly.v1+json": {
       "config": {
        "plotlyServerURL": "https://plot.ly"
       },
       "data": [
        {
         "hovertemplate": "<b>%{hovertext}</b><br><br>x=%{x}<br>y=%{y}<extra></extra>",
         "hovertext": [
          "permettre",
          "creer",
          "pouvoir",
          "personne",
          "place",
          "velo",
          "public",
          "age",
          "acce",
          "salle",
          "heure",
          "pratiquer",
          "accessible",
          "cours",
          "ville",
          "gratuit",
          "donner",
          "equipement",
          "aider",
          "social",
          "scolaire",
          "non",
          "lieu",
          "encourager",
          "faciliter",
          "inciter",
          "infrastructure",
          "prendre",
          "integrer",
          "jeu",
          "benevole",
          "ep",
          "être",
          "competition",
          "espace",
          "primaire",
          "senior",
          "commune",
          "quotidien",
          "journee",
          "augmenter",
          "bienfait",
          "semaine",
          "mieux",
          "jour",
          "cyclable",
          "promouvoir",
          "moyen",
          "college",
          "ludique",
          "offrir",
          "bien",
          "pied",
          "salarie",
          "davantage",
          "plaisir",
          "parent",
          "adulte",
          "piste",
          "prix",
          "grand",
          "structure",
          "niveau",
          "horaire",
          "charge",
          "nombre",
          "organiser",
          "securite",
          "abonnement",
          "seance",
          "licence",
          "bouger",
          "marche",
          "an",
          "aide",
          "parcours",
          "famille",
          "adapter",
          "lycee",
          "terrain",
          "exemple",
          "valoriser",
          "vie",
          "petit",
          "obligatoire",
          "pause",
          "etat",
          "loisir",
          "bon",
          "local",
          "sein",
          "aller",
          "creneau",
          "federation",
          "educateur",
          "arreter",
          "formation",
          "performance",
          "francai",
          "maternelle",
          "culture",
          "employeur",
          "programme",
          "deplacement",
          "obliger",
          "multisport",
          "rembourser",
          "installation",
          "objectif",
          "materiel",
          "financier",
          "midi",
          "ouvrir",
          "emploi",
          "matin",
          "inscrire",
          "sensibiliser",
          "beaucoup",
          "sant",
          "groupe",
          "milieu",
          "handicap",
          "forme",
          "professionnel",
          "haut",
          "rural",
          "discipline",
          "gymnase",
          "plein",
          "envie",
          "femme",
          "medecin",
          "doux",
          "libre",
          "proximite",
          "transport",
          "trouver",
          "prise",
          "voir",
          "campagne",
          "dedie",
          "quartier",
          "accompagner",
          "centre",
          "budget",
          "cout",
          "nouveau",
          "fonction",
          "decouvrir",
          "education",
          "renforcer",
          "service",
          "actif",
          "annee",
          "air",
          "parc",
          "construire",
          "remettre",
          "etude",
          "exercice",
          "voiture",
          "trop",
          "equipe",
          "cher",
          "decouverte",
          "esprit",
          "ameliorer",
          "gym",
          "evenement",
          "inscription",
          "lien",
          "payer",
          "national",
          "amenager",
          "inclure",
          "stade",
          "adaptee",
          "modele",
          "yoga",
          "retraite",
          "soutenir",
          "offre",
          "maladie",
          "animateur",
          "organisation",
          "possibilite",
          "ex",
          "marcher",
          "interdire",
          "mairie",
          "baisser",
          "utiliser",
          "meilleur",
          "subvention",
          "exterieur",
          "mutuel",
          "participer",
          "partie",
          "long",
          "coach",
          "contre",
          "situation",
          "maison",
          "patient",
          "population",
          "action",
          "enseignant",
          "choix",
          "prescrire",
          "travailler",
          "ca",
          "motiver",
          "piscine",
          "systeme",
          "olympique",
          "acceder",
          "gratuitement",
          "expliquer",
          "imposer",
          "citoyen",
          "gout",
          "adapteer",
          "apa",
          "disposition",
          "medicament",
          "eleve",
          "corps",
          "minute",
          "france",
          "sedentarite",
          "territoire",
          "mouvement",
          "collectivite",
          "pass",
          "financierement",
          "douche",
          "financer",
          "savoir",
          "reduire",
          "cotisation",
          "prof",
          "jo",
          "qualite",
          "habitude",
          "avoir",
          "village",
          "regulierement",
          "tarif",
          "disponible",
          "zone",
          "passer",
          "associatif",
          "former",
          "besoin",
          "collectif",
          "application",
          "interet",
          "course",
          "financement",
          "etablissement",
          "tot",
          "gratuite",
          "aps",
          "matiere",
          "poste",
          "accer",
          "devenir",
          "diminuer",
          "soir",
          "revoir",
          "commencer",
          "limiter",
          "inclusion",
          "eviter",
          "vestiaire",
          "ensemble",
          "vrai",
          "medical",
          "partir",
          "trajet",
          "apprentissage",
          "chronique",
          "entraineur",
          "commun",
          "encadrement",
          "mobilite",
          "important",
          "lutter",
          "reseau",
          "urbain",
          "exister",
          "connaitre",
          "amenagement",
          "cesser",
          "instaurer",
          "reguliere",
          "choisir",
          "mental",
          "projet",
          "accompagnement"
         ],
         "legendgroup": "",
         "marker": {
          "color": "blue",
          "size": 6,
          "symbol": "circle"
         },
         "mode": "markers",
         "name": "",
         "orientation": "v",
         "showlegend": false,
         "textposition": "top center",
         "type": "scatter",
         "x": {
          "bdata": "xOE6wVvoKMErkhrBUV8dwWNjHMER8gjBlt0HwcHJEcH6V+7Aq3nLwBRWDsGcozrB788pwe0mEcGJFTXBzVTowNnXJ8E1mvDANHEHwc159cASbhrB2i38wDNvGMFmZibBvby6PtWC8sDwad/AXAeZwG0dysCIcBbBALAuwUVdmsArrTjBVHs2wQtwtsC9HMHA2XPAwJJSCMEzvTPBAar/wLsf6MAfzSTB9buzP+adA8GY1VTAIEIDwXd0zkDmA/zAYzTiwPlON8AKDyvBh+4KwfQR9MBSWeO/LMnVwPZ/38DZDv3AyinKwEZrF8HDu+vAr/IXwJoHJ8FEshnBcdi2wPTzEcFhKP3AMxUGwQMFwb/R3N7AkVASweGeHb9o093AHqEDwX3qsMBf4C7Bse8TwbZIqr+lzU0/vreOwKUkdMD4drfAOs4TwAFkrsC92iPAQZtfwLQ6gMC1fQbBwevLwMMXgcC4X7DAKEKlQIlo2MDTouY/hnLjwAban8DW7vzAHxBRQIy8rMC2xhHB9ROlvqzBIsBsni7AeUUbwTaQ6b8014w/fPK+QNhgc8BL9wNAT0fFwELANsF3qQLADRmawHtDQr+QhJbA6+6fv4uTpcBg+4PAK+AdwTiND8DUuKLAYn73QFOLJsBrKAlAKQanQP7Z4sAd48rAq7a8v4krbkCEb83AkQHSv03qa8ApmpvAM+iOwGrhCkBkz2RAjumsPrA/378duTHBr6McwWDMkMA2F3E/ALBiwN1tZD5+Neq/83xzwKECPsAwuh1AcbfHQKqhaT8SoKNA3RGOv8+/Lj/3eUxAL64ZwLexbcBja+o/MkeKv8ETwkAa9llAfJkqv8qjcD/rLwfASmFLQISpNMC967HACG9mvhNVo8CoiT/AzD1Yv8cxJ0ABVTbAECKFwBMqt7/CYCm/ksgMwK8nzUCeui7AMEnUvi6vQEAeZFbAHa9ZQLZ3/L/WYxTA6utbQPFTpD8It6a9gYJvwKWKpT8ZDwE/PigLQH4HuL4Px/E/7q6WwC+kdr+5Fmi/tjGNP29WFL/McoZAvd8PQL4Ux79cTjg/9+U+QG9tnkABBZY/7AXbQNgmCECJMypA//53P2wbMT5/gKJAdY0vwHuHnkBgVjrAKTohwJ2yMsBIQVjAghrOvYXtacC4xBU/CTOBQK+YzMDkQ1q+cnPbv0SxtD/BLJI9MjCzQOFbgD8FA3i/+6kdwVuZ+j+fPYVA4swLv2uqTj9I/Mw/BBUDQF3FqUBX0Z++0DgFPato3sASeynA4mWVQPnQ+77FHEdAXoyAQPabWUDvmOg/JPhDQEvNUkCX4N4/COR6QFKoVUCC/qi/snIQQKvGl0DcLyU/HEi7QE+gkkDJmGZAzjuhQNcFvUARRcE/+74kPrOFhT/aHAVA3xe7QDGHFr+ksTu/wgWiQAINC0BDQoW/YZfVQD7WZUDe/YdAFtFLQCE8h7+eM7M+tT95wKgHjz+Z5NI9MmMgwO1OBcBX/HJA3JF+QHDvML9q5QVAKEZDQOnHkb7XwEHAqW6FvYiFgr9s2y9AxzoHQO9AY0AXVyC/xKoCQFWsPD+EQGNAZl/Lv6aCRb+GFqk/",
          "dtype": "f4"
         },
         "xaxis": "x",
         "y": {
          "bdata": "R5h5QGeHp0BZHsJAY0nUP4T9lEAdG5VAMhinQPK4lkASINtAJkOdQPYZdz8+8zFAgR1gQCMKb0BArCpASeYhv1enl0DDU55AHVQ9QFESsj/4R9Q+0gNUQFQS9LtxJzlAA8e/QB8OiEBLAehALMSmQDNlC0D5z3E/Rv6yQImoYED2rY5Abo0gv6fFmz40ByZALxyEP/u4vEBxEfw/UgdJv/mAl7+9yx1AeJyov/1VAUBdMzVALOXEvwuKScBiGCJA7nGpQC8PxEA227c/IZUzQBYOz0Dm+Ys/jfkDwFqPhUDccGTAU3YXwNx1J0ANLQtAh1TpPmNHikDzmG1AXhu0wCBix74jvLBAl9SIP191679h/VpAz0m8QAQYYkC8gqw+ib0hwGkbCkC+RiBAngpnQMlpIUBL0aS/80HjQF58FkCcyx/A8sYeQPs9IL6s1OdAH50ewDluVUC8HBK/voWDwCZZYkAM6M1Aj3mcwHXG2rzK0ovApXmHP2NH2D6kNI0/QZeawPXOo7+Rovo/ttGtwNy27EBE1InAqW7mvrwLh0DApam/nSphQHjpsT8Zig9AO8FuQNqzH783tAtADEAXwAMKqUC3g5Y/BcMNwNbMXEA6Yey+RXkLwB/eZL7druk+f7wJvyzRdEDnHspAc2PuvxldA0BjAppARKjovqwg679Tbrc/JUJhwFTSEkC19cNA/VpUwPQyFsBaGZtAEYDQP0ZKPb/s3CDAS9odQBWlnkCdoLLA1k4nvu7AhkBHNJVATVdov55EjkD2XF9A8c1EPXjNnEAVKUJAGzg8wEjU1MDuGyXATnL+v8RKx79PInjAZP/IQMiKScCnLgVAbBTXvzy/ob5U2YLAG1o9wAzYnEBmzoTA3RM+QCPzKb8O+7/ACd+NwAQXVL+XI7vAU58XwIiuasDgWa/AIA4ewP9hrb+r6j3Ayw1CQKldk0AzeJNAMRaTQNI4+z9c7Uk+IqBfQD+QnEAstZXAZtiYvr5HC0AMNpnAYVa8vrcUMMBV5tY+zcXKP9wx4D45FOm+QjtFwMitij8Nt52+/qh7wJVF97+nNBVAjCaMPy7+kj856Fi/t5oIQPKYGcD+nbXA9mw5Pwup67975Vs/hK6VQLX7BcDnZ2BAQ6vBPz5pbr8BR2rAnKZ+wNVsiT+UKG7AZyNiwLczgb/p+/i/bRjNv8nTnT9tKXtAjeVSQI/JKMBUGsXAkJYQwKxpC7+iA0FACEuuQHGyrcAv7ixAA2v1P0AmmsBoMXa+NYZgwKp0Er8mxee/fAsVwOPB3z0DWrI/JQ/hwNjkH8DtNbTA1ZCdwBPprD82ZAzAJKS+wCEEPkA3heHA6CuXP3Q2yz8dPObAqOdMwDbg1r4sF2JABp+1PqmY7z+XaAo/GjnWPgJjekBGyQHASQsdPoECBkDm0mC+vDpnvwi93sDyFmc/GBCCP7q39L8g7XHAFKbCPpXJ5sAAEiPApRGUwIQNxD+6MmnA19e1QEK3j8BEjds/MI41vwZCYsCCXdvAJKc9PoF4bsBZwZ2/oaQ4v4HwPMC/WZa/A3NCQHGUjb9VHqhAXXaBwMilqcDMTVTAuBbjwEw8usBMEknA",
          "dtype": "f4"
         },
         "yaxis": "y"
        }
       ],
       "layout": {
        "height": 700,
        "legend": {
         "tracegroupgap": 0
        },
        "template": {
         "data": {
          "bar": [
           {
            "error_x": {
             "color": "#2a3f5f"
            },
            "error_y": {
             "color": "#2a3f5f"
            },
            "marker": {
             "line": {
              "color": "#E5ECF6",
              "width": 0.5
             },
             "pattern": {
              "fillmode": "overlay",
              "size": 10,
              "solidity": 0.2
             }
            },
            "type": "bar"
           }
          ],
          "barpolar": [
           {
            "marker": {
             "line": {
              "color": "#E5ECF6",
              "width": 0.5
             },
             "pattern": {
              "fillmode": "overlay",
              "size": 10,
              "solidity": 0.2
             }
            },
            "type": "barpolar"
           }
          ],
          "carpet": [
           {
            "aaxis": {
             "endlinecolor": "#2a3f5f",
             "gridcolor": "white",
             "linecolor": "white",
             "minorgridcolor": "white",
             "startlinecolor": "#2a3f5f"
            },
            "baxis": {
             "endlinecolor": "#2a3f5f",
             "gridcolor": "white",
             "linecolor": "white",
             "minorgridcolor": "white",
             "startlinecolor": "#2a3f5f"
            },
            "type": "carpet"
           }
          ],
          "choropleth": [
           {
            "colorbar": {
             "outlinewidth": 0,
             "ticks": ""
            },
            "type": "choropleth"
           }
          ],
          "contour": [
           {
            "colorbar": {
             "outlinewidth": 0,
             "ticks": ""
            },
            "colorscale": [
             [
              0,
              "#0d0887"
             ],
             [
              0.1111111111111111,
              "#46039f"
             ],
             [
              0.2222222222222222,
              "#7201a8"
             ],
             [
              0.3333333333333333,
              "#9c179e"
             ],
             [
              0.4444444444444444,
              "#bd3786"
             ],
             [
              0.5555555555555556,
              "#d8576b"
             ],
             [
              0.6666666666666666,
              "#ed7953"
             ],
             [
              0.7777777777777778,
              "#fb9f3a"
             ],
             [
              0.8888888888888888,
              "#fdca26"
             ],
             [
              1,
              "#f0f921"
             ]
            ],
            "type": "contour"
           }
          ],
          "contourcarpet": [
           {
            "colorbar": {
             "outlinewidth": 0,
             "ticks": ""
            },
            "type": "contourcarpet"
           }
          ],
          "heatmap": [
           {
            "colorbar": {
             "outlinewidth": 0,
             "ticks": ""
            },
            "colorscale": [
             [
              0,
              "#0d0887"
             ],
             [
              0.1111111111111111,
              "#46039f"
             ],
             [
              0.2222222222222222,
              "#7201a8"
             ],
             [
              0.3333333333333333,
              "#9c179e"
             ],
             [
              0.4444444444444444,
              "#bd3786"
             ],
             [
              0.5555555555555556,
              "#d8576b"
             ],
             [
              0.6666666666666666,
              "#ed7953"
             ],
             [
              0.7777777777777778,
              "#fb9f3a"
             ],
             [
              0.8888888888888888,
              "#fdca26"
             ],
             [
              1,
              "#f0f921"
             ]
            ],
            "type": "heatmap"
           }
          ],
          "histogram": [
           {
            "marker": {
             "pattern": {
              "fillmode": "overlay",
              "size": 10,
              "solidity": 0.2
             }
            },
            "type": "histogram"
           }
          ],
          "histogram2d": [
           {
            "colorbar": {
             "outlinewidth": 0,
             "ticks": ""
            },
            "colorscale": [
             [
              0,
              "#0d0887"
             ],
             [
              0.1111111111111111,
              "#46039f"
             ],
             [
              0.2222222222222222,
              "#7201a8"
             ],
             [
              0.3333333333333333,
              "#9c179e"
             ],
             [
              0.4444444444444444,
              "#bd3786"
             ],
             [
              0.5555555555555556,
              "#d8576b"
             ],
             [
              0.6666666666666666,
              "#ed7953"
             ],
             [
              0.7777777777777778,
              "#fb9f3a"
             ],
             [
              0.8888888888888888,
              "#fdca26"
             ],
             [
              1,
              "#f0f921"
             ]
            ],
            "type": "histogram2d"
           }
          ],
          "histogram2dcontour": [
           {
            "colorbar": {
             "outlinewidth": 0,
             "ticks": ""
            },
            "colorscale": [
             [
              0,
              "#0d0887"
             ],
             [
              0.1111111111111111,
              "#46039f"
             ],
             [
              0.2222222222222222,
              "#7201a8"
             ],
             [
              0.3333333333333333,
              "#9c179e"
             ],
             [
              0.4444444444444444,
              "#bd3786"
             ],
             [
              0.5555555555555556,
              "#d8576b"
             ],
             [
              0.6666666666666666,
              "#ed7953"
             ],
             [
              0.7777777777777778,
              "#fb9f3a"
             ],
             [
              0.8888888888888888,
              "#fdca26"
             ],
             [
              1,
              "#f0f921"
             ]
            ],
            "type": "histogram2dcontour"
           }
          ],
          "mesh3d": [
           {
            "colorbar": {
             "outlinewidth": 0,
             "ticks": ""
            },
            "type": "mesh3d"
           }
          ],
          "parcoords": [
           {
            "line": {
             "colorbar": {
              "outlinewidth": 0,
              "ticks": ""
             }
            },
            "type": "parcoords"
           }
          ],
          "pie": [
           {
            "automargin": true,
            "type": "pie"
           }
          ],
          "scatter": [
           {
            "fillpattern": {
             "fillmode": "overlay",
             "size": 10,
             "solidity": 0.2
            },
            "type": "scatter"
           }
          ],
          "scatter3d": [
           {
            "line": {
             "colorbar": {
              "outlinewidth": 0,
              "ticks": ""
             }
            },
            "marker": {
             "colorbar": {
              "outlinewidth": 0,
              "ticks": ""
             }
            },
            "type": "scatter3d"
           }
          ],
          "scattercarpet": [
           {
            "marker": {
             "colorbar": {
              "outlinewidth": 0,
              "ticks": ""
             }
            },
            "type": "scattercarpet"
           }
          ],
          "scattergeo": [
           {
            "marker": {
             "colorbar": {
              "outlinewidth": 0,
              "ticks": ""
             }
            },
            "type": "scattergeo"
           }
          ],
          "scattergl": [
           {
            "marker": {
             "colorbar": {
              "outlinewidth": 0,
              "ticks": ""
             }
            },
            "type": "scattergl"
           }
          ],
          "scattermap": [
           {
            "marker": {
             "colorbar": {
              "outlinewidth": 0,
              "ticks": ""
             }
            },
            "type": "scattermap"
           }
          ],
          "scattermapbox": [
           {
            "marker": {
             "colorbar": {
              "outlinewidth": 0,
              "ticks": ""
             }
            },
            "type": "scattermapbox"
           }
          ],
          "scatterpolar": [
           {
            "marker": {
             "colorbar": {
              "outlinewidth": 0,
              "ticks": ""
             }
            },
            "type": "scatterpolar"
           }
          ],
          "scatterpolargl": [
           {
            "marker": {
             "colorbar": {
              "outlinewidth": 0,
              "ticks": ""
             }
            },
            "type": "scatterpolargl"
           }
          ],
          "scatterternary": [
           {
            "marker": {
             "colorbar": {
              "outlinewidth": 0,
              "ticks": ""
             }
            },
            "type": "scatterternary"
           }
          ],
          "surface": [
           {
            "colorbar": {
             "outlinewidth": 0,
             "ticks": ""
            },
            "colorscale": [
             [
              0,
              "#0d0887"
             ],
             [
              0.1111111111111111,
              "#46039f"
             ],
             [
              0.2222222222222222,
              "#7201a8"
             ],
             [
              0.3333333333333333,
              "#9c179e"
             ],
             [
              0.4444444444444444,
              "#bd3786"
             ],
             [
              0.5555555555555556,
              "#d8576b"
             ],
             [
              0.6666666666666666,
              "#ed7953"
             ],
             [
              0.7777777777777778,
              "#fb9f3a"
             ],
             [
              0.8888888888888888,
              "#fdca26"
             ],
             [
              1,
              "#f0f921"
             ]
            ],
            "type": "surface"
           }
          ],
          "table": [
           {
            "cells": {
             "fill": {
              "color": "#EBF0F8"
             },
             "line": {
              "color": "white"
             }
            },
            "header": {
             "fill": {
              "color": "#C8D4E3"
             },
             "line": {
              "color": "white"
             }
            },
            "type": "table"
           }
          ]
         },
         "layout": {
          "annotationdefaults": {
           "arrowcolor": "#2a3f5f",
           "arrowhead": 0,
           "arrowwidth": 1
          },
          "autotypenumbers": "strict",
          "coloraxis": {
           "colorbar": {
            "outlinewidth": 0,
            "ticks": ""
           }
          },
          "colorscale": {
           "diverging": [
            [
             0,
             "#8e0152"
            ],
            [
             0.1,
             "#c51b7d"
            ],
            [
             0.2,
             "#de77ae"
            ],
            [
             0.3,
             "#f1b6da"
            ],
            [
             0.4,
             "#fde0ef"
            ],
            [
             0.5,
             "#f7f7f7"
            ],
            [
             0.6,
             "#e6f5d0"
            ],
            [
             0.7,
             "#b8e186"
            ],
            [
             0.8,
             "#7fbc41"
            ],
            [
             0.9,
             "#4d9221"
            ],
            [
             1,
             "#276419"
            ]
           ],
           "sequential": [
            [
             0,
             "#0d0887"
            ],
            [
             0.1111111111111111,
             "#46039f"
            ],
            [
             0.2222222222222222,
             "#7201a8"
            ],
            [
             0.3333333333333333,
             "#9c179e"
            ],
            [
             0.4444444444444444,
             "#bd3786"
            ],
            [
             0.5555555555555556,
             "#d8576b"
            ],
            [
             0.6666666666666666,
             "#ed7953"
            ],
            [
             0.7777777777777778,
             "#fb9f3a"
            ],
            [
             0.8888888888888888,
             "#fdca26"
            ],
            [
             1,
             "#f0f921"
            ]
           ],
           "sequentialminus": [
            [
             0,
             "#0d0887"
            ],
            [
             0.1111111111111111,
             "#46039f"
            ],
            [
             0.2222222222222222,
             "#7201a8"
            ],
            [
             0.3333333333333333,
             "#9c179e"
            ],
            [
             0.4444444444444444,
             "#bd3786"
            ],
            [
             0.5555555555555556,
             "#d8576b"
            ],
            [
             0.6666666666666666,
             "#ed7953"
            ],
            [
             0.7777777777777778,
             "#fb9f3a"
            ],
            [
             0.8888888888888888,
             "#fdca26"
            ],
            [
             1,
             "#f0f921"
            ]
           ]
          },
          "colorway": [
           "#636efa",
           "#EF553B",
           "#00cc96",
           "#ab63fa",
           "#FFA15A",
           "#19d3f3",
           "#FF6692",
           "#B6E880",
           "#FF97FF",
           "#FECB52"
          ],
          "font": {
           "color": "#2a3f5f"
          },
          "geo": {
           "bgcolor": "white",
           "lakecolor": "white",
           "landcolor": "#E5ECF6",
           "showlakes": true,
           "showland": true,
           "subunitcolor": "white"
          },
          "hoverlabel": {
           "align": "left"
          },
          "hovermode": "closest",
          "mapbox": {
           "style": "light"
          },
          "paper_bgcolor": "white",
          "plot_bgcolor": "#E5ECF6",
          "polar": {
           "angularaxis": {
            "gridcolor": "white",
            "linecolor": "white",
            "ticks": ""
           },
           "bgcolor": "#E5ECF6",
           "radialaxis": {
            "gridcolor": "white",
            "linecolor": "white",
            "ticks": ""
           }
          },
          "scene": {
           "xaxis": {
            "backgroundcolor": "#E5ECF6",
            "gridcolor": "white",
            "gridwidth": 2,
            "linecolor": "white",
            "showbackground": true,
            "ticks": "",
            "zerolinecolor": "white"
           },
           "yaxis": {
            "backgroundcolor": "#E5ECF6",
            "gridcolor": "white",
            "gridwidth": 2,
            "linecolor": "white",
            "showbackground": true,
            "ticks": "",
            "zerolinecolor": "white"
           },
           "zaxis": {
            "backgroundcolor": "#E5ECF6",
            "gridcolor": "white",
            "gridwidth": 2,
            "linecolor": "white",
            "showbackground": true,
            "ticks": "",
            "zerolinecolor": "white"
           }
          },
          "shapedefaults": {
           "line": {
            "color": "#2a3f5f"
           }
          },
          "ternary": {
           "aaxis": {
            "gridcolor": "white",
            "linecolor": "white",
            "ticks": ""
           },
           "baxis": {
            "gridcolor": "white",
            "linecolor": "white",
            "ticks": ""
           },
           "bgcolor": "#E5ECF6",
           "caxis": {
            "gridcolor": "white",
            "linecolor": "white",
            "ticks": ""
           }
          },
          "title": {
           "x": 0.05
          },
          "xaxis": {
           "automargin": true,
           "gridcolor": "white",
           "linecolor": "white",
           "ticks": "",
           "title": {
            "standoff": 15
           },
           "zerolinecolor": "white",
           "zerolinewidth": 2
          },
          "yaxis": {
           "automargin": true,
           "gridcolor": "white",
           "linecolor": "white",
           "ticks": "",
           "title": {
            "standoff": 15
           },
           "zerolinecolor": "white",
           "zerolinewidth": 2
          }
         }
        },
        "title": {
         "text": "Visualisation interactive des embeddings (t-SNE)"
        },
        "width": 1000,
        "xaxis": {
         "anchor": "y",
         "domain": [
          0,
          1
         ],
         "title": {
          "text": "x"
         }
        },
        "yaxis": {
         "anchor": "x",
         "domain": [
          0,
          1
         ],
         "title": {
          "text": "y"
         }
        }
       }
      }
     },
     "metadata": {},
     "output_type": "display_data"
    }
   ],
   "source": [
    "from sklearn.manifold import TSNE\n",
    "import plotly.express as px\n",
    "import pandas as pd\n",
    "\n",
    "# 1. Sélection des mots (ex : les 300 plus fréquents)\n",
    "mots = list(model.wv.index_to_key[:300])\n",
    "vecteurs = model.wv[mots]\n",
    "\n",
    "# 2. Réduction de dimension avec t-SNE\n",
    "tsne = TSNE(n_components=2, random_state=42, perplexity=40, n_iter=1000)\n",
    "vecteurs_2D = tsne.fit_transform(vecteurs)\n",
    "\n",
    "# 3. Mise en DataFrame pour Plotly\n",
    "df_tsne = pd.DataFrame({\n",
    "    \"mot\": mots,\n",
    "    \"x\": vecteurs_2D[:, 0],\n",
    "    \"y\": vecteurs_2D[:, 1]\n",
    "})\n",
    "\n",
    "# 4. Affichage interactif\n",
    "fig = px.scatter(df_tsne, x=\"x\", y=\"y\", hover_name=\"mot\", title=\"Visualisation interactive des embeddings (t-SNE)\")\n",
    "fig.update_traces(marker=dict(size=6, color=\"blue\"), textposition='top center')\n",
    "fig.update_layout(width=1000, height=700)\n",
    "fig.show()\n"
   ]
  },
  {
   "cell_type": "code",
   "execution_count": 51,
   "id": "a340d8e5",
   "metadata": {},
   "outputs": [],
   "source": [
    "from utils import *"
   ]
  },
  {
   "cell_type": "markdown",
   "id": "bbd558eb",
   "metadata": {},
   "source": [
    "## Calcul de l'embedding moyen "
   ]
  },
  {
   "cell_type": "code",
   "execution_count": 52,
   "id": "2fa23ef6",
   "metadata": {},
   "outputs": [],
   "source": [
    "# Application de la fonction sur la colonne 'vectors' pour le calcul de la moyenne\n",
    "df['doc_vector'] = df['vectors'].apply(lambda v: compute_mean_embedding(v, vector_size=50))"
   ]
  },
  {
   "cell_type": "code",
   "execution_count": 53,
   "id": "adc783bc",
   "metadata": {},
   "outputs": [
    {
     "data": {
      "text/html": [
       "<div>\n",
       "<style scoped>\n",
       "    .dataframe tbody tr th:only-of-type {\n",
       "        vertical-align: middle;\n",
       "    }\n",
       "\n",
       "    .dataframe tbody tr th {\n",
       "        vertical-align: top;\n",
       "    }\n",
       "\n",
       "    .dataframe thead th {\n",
       "        text-align: right;\n",
       "    }\n",
       "</style>\n",
       "<table border=\"1\" class=\"dataframe\">\n",
       "  <thead>\n",
       "    <tr style=\"text-align: right;\">\n",
       "      <th></th>\n",
       "      <th>id</th>\n",
       "      <th>content</th>\n",
       "      <th>slug</th>\n",
       "      <th>createdAt</th>\n",
       "      <th>updatedAt</th>\n",
       "      <th>vote_agree</th>\n",
       "      <th>vote_neutral</th>\n",
       "      <th>vote_disagree</th>\n",
       "      <th>author_id</th>\n",
       "      <th>author_age</th>\n",
       "      <th>...</th>\n",
       "      <th>agree_doable</th>\n",
       "      <th>neutral_noOpinion</th>\n",
       "      <th>neutral_doNotUnderstand</th>\n",
       "      <th>neutral_doNotCare</th>\n",
       "      <th>disagree_impossible</th>\n",
       "      <th>disagree_noWay</th>\n",
       "      <th>disagree_platitudeDisagree</th>\n",
       "      <th>tokens</th>\n",
       "      <th>vectors</th>\n",
       "      <th>doc_vector</th>\n",
       "    </tr>\n",
       "  </thead>\n",
       "  <tbody>\n",
       "    <tr>\n",
       "      <th>0</th>\n",
       "      <td>82d5eb8f-f953-4e16-9015-9b775ff5f292</td>\n",
       "      <td>Il faut inciter les Français à s'équiper de mo...</td>\n",
       "      <td>il-faut-inciter-les-francais-a-s-equiper-de-mo...</td>\n",
       "      <td>2024-04-01T07:07:29.747Z</td>\n",
       "      <td>2024-04-04T13:48:06.671Z</td>\n",
       "      <td>0</td>\n",
       "      <td>6</td>\n",
       "      <td>10</td>\n",
       "      <td>4fad3035-1a13-4ed5-b81a-e1f400e7c665</td>\n",
       "      <td>61.0</td>\n",
       "      <td>...</td>\n",
       "      <td>0</td>\n",
       "      <td>1</td>\n",
       "      <td>0</td>\n",
       "      <td>3</td>\n",
       "      <td>1</td>\n",
       "      <td>5</td>\n",
       "      <td>3</td>\n",
       "      <td>[inciter, francai, equiper, montre, connecteer...</td>\n",
       "      <td>[[0.014464723, -0.014730281, -0.001896803, -0....</td>\n",
       "      <td>[0.00013154763, -0.0014333333, -0.004600099, -...</td>\n",
       "    </tr>\n",
       "    <tr>\n",
       "      <th>1</th>\n",
       "      <td>59ff8102-587a-425e-9976-c4d5d6a268fe</td>\n",
       "      <td>Il faut demander aux sportifs de haut niveau d...</td>\n",
       "      <td>il-faut-demander-aux-sportifs-de-haut-niveau-d...</td>\n",
       "      <td>2024-03-25T17:30:50.114Z</td>\n",
       "      <td>2024-03-27T11:55:43.793Z</td>\n",
       "      <td>39</td>\n",
       "      <td>29</td>\n",
       "      <td>19</td>\n",
       "      <td>e1606f3c-5d45-4a0e-b2da-7455125ca204</td>\n",
       "      <td>50.0</td>\n",
       "      <td>...</td>\n",
       "      <td>14</td>\n",
       "      <td>14</td>\n",
       "      <td>0</td>\n",
       "      <td>9</td>\n",
       "      <td>2</td>\n",
       "      <td>5</td>\n",
       "      <td>7</td>\n",
       "      <td>[demander, haut, niveau, expliquer, public, ex...</td>\n",
       "      <td>[[0.017098892, 0.010991822, 0.01785649, 0.0034...</td>\n",
       "      <td>[-0.0028657597, -0.0029319448, 0.0024507775, -...</td>\n",
       "    </tr>\n",
       "    <tr>\n",
       "      <th>2</th>\n",
       "      <td>66b19692-f947-44c9-9126-33863021098e</td>\n",
       "      <td>Il faut piétonniser des rues ou routes ou boul...</td>\n",
       "      <td>il-faut-pietonniser-des-rues-ou-routes-ou-boul...</td>\n",
       "      <td>2024-03-24T10:05:38.434Z</td>\n",
       "      <td>2024-03-27T11:49:34.740Z</td>\n",
       "      <td>47</td>\n",
       "      <td>18</td>\n",
       "      <td>18</td>\n",
       "      <td>b3589dd5-a215-481a-983c-0e4dff1e0763</td>\n",
       "      <td>66.0</td>\n",
       "      <td>...</td>\n",
       "      <td>16</td>\n",
       "      <td>7</td>\n",
       "      <td>2</td>\n",
       "      <td>3</td>\n",
       "      <td>2</td>\n",
       "      <td>8</td>\n",
       "      <td>3</td>\n",
       "      <td>[pietonniser, rue, route, boulevard, inciter, ...</td>\n",
       "      <td>[[0.012482294, 0.01716405, -0.0049462076, 0.01...</td>\n",
       "      <td>[-0.0023503795, -0.0011383365, -2.8950162e-06,...</td>\n",
       "    </tr>\n",
       "    <tr>\n",
       "      <th>3</th>\n",
       "      <td>97c4c337-15d4-4c6e-a108-aefcedeb1666</td>\n",
       "      <td>Il faut organiser des compétitions inter-entre...</td>\n",
       "      <td>il-faut-organiser-des-competitions-inter-entre...</td>\n",
       "      <td>2024-01-29T10:13:07.672Z</td>\n",
       "      <td>2024-04-09T09:18:23.844Z</td>\n",
       "      <td>210</td>\n",
       "      <td>155</td>\n",
       "      <td>205</td>\n",
       "      <td>22448ef2-cae9-42b5-9663-3bcd333fa231</td>\n",
       "      <td>20.0</td>\n",
       "      <td>...</td>\n",
       "      <td>60</td>\n",
       "      <td>48</td>\n",
       "      <td>4</td>\n",
       "      <td>52</td>\n",
       "      <td>41</td>\n",
       "      <td>57</td>\n",
       "      <td>62</td>\n",
       "      <td>[organiser, competition, mediatiser]</td>\n",
       "      <td>[[0.010903161, -0.009555468, -0.0118506765, 2....</td>\n",
       "      <td>[-0.0048976666, -0.013402201, -0.0040778867, 0...</td>\n",
       "    </tr>\n",
       "    <tr>\n",
       "      <th>4</th>\n",
       "      <td>9f71ce59-200c-450a-8987-399eee4fb1dd</td>\n",
       "      <td>Il faut éduquer dès le plus jeune âge les enfa...</td>\n",
       "      <td>il-faut-eduquer-des-le-plus-jeune-age-les-enfa...</td>\n",
       "      <td>2024-03-28T08:51:45.459Z</td>\n",
       "      <td>2024-03-29T15:25:37.970Z</td>\n",
       "      <td>69</td>\n",
       "      <td>13</td>\n",
       "      <td>4</td>\n",
       "      <td>cbc394ac-1fe0-48e0-ac3f-8b463ed71967</td>\n",
       "      <td>50.0</td>\n",
       "      <td>...</td>\n",
       "      <td>24</td>\n",
       "      <td>2</td>\n",
       "      <td>6</td>\n",
       "      <td>3</td>\n",
       "      <td>0</td>\n",
       "      <td>1</td>\n",
       "      <td>3</td>\n",
       "      <td>[eduquer, age, exercice, simple, disponible, a...</td>\n",
       "      <td>[[-0.005600792, 0.012054055, -0.00041346325, -...</td>\n",
       "      <td>[-0.00012973999, 0.0015214895, -0.0063096513, ...</td>\n",
       "    </tr>\n",
       "  </tbody>\n",
       "</table>\n",
       "<p>5 rows × 23 columns</p>\n",
       "</div>"
      ],
      "text/plain": [
       "                                     id  \\\n",
       "0  82d5eb8f-f953-4e16-9015-9b775ff5f292   \n",
       "1  59ff8102-587a-425e-9976-c4d5d6a268fe   \n",
       "2  66b19692-f947-44c9-9126-33863021098e   \n",
       "3  97c4c337-15d4-4c6e-a108-aefcedeb1666   \n",
       "4  9f71ce59-200c-450a-8987-399eee4fb1dd   \n",
       "\n",
       "                                             content  \\\n",
       "0  Il faut inciter les Français à s'équiper de mo...   \n",
       "1  Il faut demander aux sportifs de haut niveau d...   \n",
       "2  Il faut piétonniser des rues ou routes ou boul...   \n",
       "3  Il faut organiser des compétitions inter-entre...   \n",
       "4  Il faut éduquer dès le plus jeune âge les enfa...   \n",
       "\n",
       "                                                slug  \\\n",
       "0  il-faut-inciter-les-francais-a-s-equiper-de-mo...   \n",
       "1  il-faut-demander-aux-sportifs-de-haut-niveau-d...   \n",
       "2  il-faut-pietonniser-des-rues-ou-routes-ou-boul...   \n",
       "3  il-faut-organiser-des-competitions-inter-entre...   \n",
       "4  il-faut-eduquer-des-le-plus-jeune-age-les-enfa...   \n",
       "\n",
       "                  createdAt                 updatedAt  vote_agree  \\\n",
       "0  2024-04-01T07:07:29.747Z  2024-04-04T13:48:06.671Z           0   \n",
       "1  2024-03-25T17:30:50.114Z  2024-03-27T11:55:43.793Z          39   \n",
       "2  2024-03-24T10:05:38.434Z  2024-03-27T11:49:34.740Z          47   \n",
       "3  2024-01-29T10:13:07.672Z  2024-04-09T09:18:23.844Z         210   \n",
       "4  2024-03-28T08:51:45.459Z  2024-03-29T15:25:37.970Z          69   \n",
       "\n",
       "   vote_neutral  vote_disagree                             author_id  \\\n",
       "0             6             10  4fad3035-1a13-4ed5-b81a-e1f400e7c665   \n",
       "1            29             19  e1606f3c-5d45-4a0e-b2da-7455125ca204   \n",
       "2            18             18  b3589dd5-a215-481a-983c-0e4dff1e0763   \n",
       "3           155            205  22448ef2-cae9-42b5-9663-3bcd333fa231   \n",
       "4            13              4  cbc394ac-1fe0-48e0-ac3f-8b463ed71967   \n",
       "\n",
       "   author_age  ... agree_doable  neutral_noOpinion  neutral_doNotUnderstand  \\\n",
       "0        61.0  ...            0                  1                        0   \n",
       "1        50.0  ...           14                 14                        0   \n",
       "2        66.0  ...           16                  7                        2   \n",
       "3        20.0  ...           60                 48                        4   \n",
       "4        50.0  ...           24                  2                        6   \n",
       "\n",
       "   neutral_doNotCare  disagree_impossible  disagree_noWay  \\\n",
       "0                  3                    1               5   \n",
       "1                  9                    2               5   \n",
       "2                  3                    2               8   \n",
       "3                 52                   41              57   \n",
       "4                  3                    0               1   \n",
       "\n",
       "   disagree_platitudeDisagree  \\\n",
       "0                           3   \n",
       "1                           7   \n",
       "2                           3   \n",
       "3                          62   \n",
       "4                           3   \n",
       "\n",
       "                                              tokens  \\\n",
       "0  [inciter, francai, equiper, montre, connecteer...   \n",
       "1  [demander, haut, niveau, expliquer, public, ex...   \n",
       "2  [pietonniser, rue, route, boulevard, inciter, ...   \n",
       "3               [organiser, competition, mediatiser]   \n",
       "4  [eduquer, age, exercice, simple, disponible, a...   \n",
       "\n",
       "                                             vectors  \\\n",
       "0  [[0.014464723, -0.014730281, -0.001896803, -0....   \n",
       "1  [[0.017098892, 0.010991822, 0.01785649, 0.0034...   \n",
       "2  [[0.012482294, 0.01716405, -0.0049462076, 0.01...   \n",
       "3  [[0.010903161, -0.009555468, -0.0118506765, 2....   \n",
       "4  [[-0.005600792, 0.012054055, -0.00041346325, -...   \n",
       "\n",
       "                                          doc_vector  \n",
       "0  [0.00013154763, -0.0014333333, -0.004600099, -...  \n",
       "1  [-0.0028657597, -0.0029319448, 0.0024507775, -...  \n",
       "2  [-0.0023503795, -0.0011383365, -2.8950162e-06,...  \n",
       "3  [-0.0048976666, -0.013402201, -0.0040778867, 0...  \n",
       "4  [-0.00012973999, 0.0015214895, -0.0063096513, ...  \n",
       "\n",
       "[5 rows x 23 columns]"
      ]
     },
     "execution_count": 53,
     "metadata": {},
     "output_type": "execute_result"
    }
   ],
   "source": [
    "df.head()"
   ]
  },
  {
   "cell_type": "markdown",
   "id": "0875af54",
   "metadata": {},
   "source": [
    "# CLUSTERING AVEC KMEANS"
   ]
  },
  {
   "cell_type": "markdown",
   "id": "0bab0b22",
   "metadata": {},
   "source": [
    "## Clustering"
   ]
  },
  {
   "cell_type": "markdown",
   "id": "b15cbd00",
   "metadata": {},
   "source": [
    "### Recherche du k optimal"
   ]
  },
  {
   "cell_type": "code",
   "execution_count": 54,
   "id": "5f88d301",
   "metadata": {},
   "outputs": [],
   "source": [
    "# Supposons que tu as une colonne `doc_vector` (vecteurs moyens de chaque document)\n",
    "X = stack(df['doc_vector'].values)\n",
    "\n",
    "# Application du clustering\n",
    "# kmeans_model, df['cluster'] = apply_kmeans_clustering(X, k=5, save_path=\"kmeans_model.joblib\")\n"
   ]
  },
  {
   "cell_type": "code",
   "execution_count": 55,
   "id": "454b3000",
   "metadata": {},
   "outputs": [
    {
     "data": {
      "image/png": "[encoded data removed]",
      "text/plain": [
       "<Figure size 1000x600 with 1 Axes>"
      ]
     },
     "metadata": {},
     "output_type": "display_data"
    },
    {
     "data": {
      "image/png": "[encoded data removed]",
      "text/plain": [
       "<Figure size 1000x600 with 1 Axes>"
      ]
     },
     "metadata": {},
     "output_type": "display_data"
    }
   ],
   "source": [
    "# 3. Recherche du Nombre Optimal de Clusters\n",
    "range_n_clusters, inertia, silhouette_scores = find_optimal_k(X)\n",
    "\n",
    "# Visualisation Méthode du Coude\n",
    "plt.figure(figsize=(10, 6))\n",
    "plt.plot(range_n_clusters, inertia, marker='o')\n",
    "plt.title(\"Méthode du Coude\")\n",
    "plt.xlabel(\"Nombre de clusters\")\n",
    "plt.ylabel(\"Inertie\")\n",
    "# Sauvegarde de l'image Méthode du Coude\n",
    "\n",
    "\n",
    "plt.show()\n",
    "\n",
    "\n",
    "# Visualisation Score de Silhouette\n",
    "plt.figure(figsize=(10, 6))\n",
    "plt.plot(range_n_clusters, silhouette_scores, marker='o')\n",
    "plt.title(\"Score de silhouette pour chaque nombre de clusters\")\n",
    "plt.xlabel(\"Nombre de clusters\")\n",
    "plt.ylabel(\"Score de silhouette\")\n",
    "# Sauvegarde de l'image Score de Silhouette\n",
    "\n",
    "\n",
    "plt.show()"
   ]
  },
  {
   "cell_type": "code",
   "execution_count": 57,
   "id": "51109ae3",
   "metadata": {},
   "outputs": [],
   "source": [
    "kmeans_model, df['cluster'] = apply_kmeans_clustering(X, k=5, save_path=\"kmeans_model.joblib\")"
   ]
  },
  {
   "cell_type": "code",
   "execution_count": 58,
   "id": "5fb2127d",
   "metadata": {},
   "outputs": [
    {
     "data": {
      "application/vnd.plotly.v1+json": {
       "config": {
        "plotlyServerURL": "https://plot.ly"
       },
       "data": [
        {
         "hovertemplate": "Cluster=1<br>x=%{x}<br>y=%{y}<extra></extra>",
         "legendgroup": "1",
         "marker": {
          "color": "#636efa",
          "size": 6,
          "symbol": "circle"
         },
         "mode": "markers",
         "name": "1",
         "showlegend": true,
         "type": "scattergl",
         "x": {
          "bdata": "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",
          "dtype": "f4"
         },
         "xaxis": "x",
         "y": {
          "bdata": "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",
          "dtype": "f4"
         },
         "yaxis": "y"
        },
        {
         "hovertemplate": "Cluster=2<br>x=%{x}<br>y=%{y}<extra></extra>",
         "legendgroup": "2",
         "marker": {
          "color": "#EF553B",
          "size": 6,
          "symbol": "circle"
         },
         "mode": "markers",
         "name": "2",
         "showlegend": true,
         "type": "scattergl",
         "x": {
          "bdata": "GLUnP/DmmsGODWXBcVcBwU82xMBimuDAdCuhwMrfHsF7nbXAIXMCQVj4MsEb10/ASN8PwY787MBnsovB70uMwbFJJ8G3WoW/agBxweni579sQwjB9AWxwEJnKMHz8IzAAda9ueUsP8DYTc2/eMxiweicJsGQuC7BVDhAweRzEMEUU8DATqwwweicJsH6eOnA50a/wIGUlsHITO6/BOGKwRODbsG/W3rAEx7uwPqchMGxIUHAUbztwNJqbcG/YRbBL1IPwaICD7/BtEjAKeEMwaU/EMEpVyTBPe43wC3gacEDHLa/F+EbwW19a8HonCbBVDxXwbMaOsGqXgnAceEHwdZWTcGVrwLBdi5mwZD2WMHplBnBw1w9wLgTFsFXOEu+G4YtwWZDRsFqZabBaMQkwMbc4j8zxCFA5qmzQZSztz/ER1vBZBmfwJeHlMHHxpg/BtQKwGfbIz9zRAXBrKn2v/w8DsE46EnBlTwmwVLzxr//RQQ/LUy/wSrbLMEudPvAJsOCwamRZMCSWizBZHW5vxyIUcFNizDBDSmxwAuZucB9mSrBaw0xwdr1kz7QJFNAYZpNwU1L2D7tUv3AYxXmwOmluMAJADhAn6ldwQWDu8AbgxrBfYUOQI/04cCjR/Y/JW42wQUGF8Hun4HAt+uIwcyiXMA1ST7BwTs8QAFV7L540ATBkYEnwQLlJsEiUpzA3N0OwfIN38DGXaY9OcZ+viDeQL9eE5TBwSM8wTquG8FkJmPBT6hpwd+ZUMHHeU/BFsgdwexml8GL/wjB3k66wOKMMcEX1TjByT8lwcVgdcGndifBFVlOwWgfxMHJqyTBid/EwEt4ScHnYkzB7fmuwKpwQECa8pTB8iVIweiHdMBUnCbBo+spwW+13MATnkfAsPB5wdXV9MAHpv3AGoYpwTj2sT95SGvBhJcpwU5sMsG0fCTBoSE7vy7BkD9u3wbBjdfFwA2578DLCB3BilIAwQ++CsEVYEPBiv5vwavsQb43/1DBDVNOwVpg/sArC7bA1F45wVrRicBq7qHAAGxPwdTy2cCuJB3BK/M/wVLPUcH+gVLAbS8AwTO2TsB6TLVAAXFNwSp00MC2lIDB60x2wbHdh8GSbyDBDXsEwYs/u8DgbKHBFwuLQCT5hsHpGndBjyfDQNmTmcA+OTzBgamzwEEKb8HmISLAp8E7wafxg0EcbGvAGbeAwD0IDsEAKbtAfC0YwQBB8sA=",
          "dtype": "f4"
         },
         "xaxis": "x",
         "y": {
          "bdata": "udjlwVZS0sHkIADCfTELwo0G/cGQ7RDCySXiwWq1AcJaWPPBsgC2wQBvGMKAtAbC/mkFwveqAsI/gNLB0fmNwVqlwsEGAYvBGCbswaZZB8L08RLCx97GwZAu48HYEfPBvRCbwZjcIMLdSOjB0n8LwuGdDsIt/BXC1cgQwhgHF8JDdhrCHrsmwuGdDsIOzr3BFJYGwhwR6MGfS4zBxSkAwmR+BsIVz8/Bq9n7wZHLB8LgO//BXScIwoRF7sGtotPBb2AJwnC98sEbfpTBOIQCwozHrMELXK7B1XDtwYFblcFlPwTC9oMRwiHQGcLhnQ7CCr2uwfcV38HJCfTBJjwAwpovBsKDG+DB8PcQwnLN3MHPt+fBILLcwV8c9sFoygzCNoOwwXYB78Fims/BcrYUwvM4QsHFBMjBMdPJwAX+t8FilwXCYZ/fwe5Lw8HdbOzBGhrdwYkZAsI+w8jB1OrRwT8zwMG4tAnCIX7qwVGABMKcWuXBI2pfwVNZ+8C+byLC95HUwQf4rsE0udfBEvX3wY/CsMH2mSbCyXyQwR3q/8HTExTCFXUKwjhbGMLSod3BNrgWwjZeGMKSTPzBvxcWwgPy6MF57/TBcp/ewUL118EPRRvCEM0Gwh6VsMGY3gXCvyPSwUmw9cEzzQnCT9MSwhpTxcETFb/B/6ijwReJ3sFelc/B79MHwjoj+cF15RDCKs0PwiDd7MEIYwLCRhajwfZNA8K2qerBPcUKwn9C2sEepdHBY/2cwYTrw8GgvfrBO73UwbKl8sEo29fB3qLowTs97cEcBsjBOQcDwkA6ucGNZR/CcdkPwmL4vsHmYdPB5UQcwk3e/8HUFR7Cmp2qwaRGusGXBevBe2wbwmn368GVnQ7Cry8Swl7uA8J43uLBWwbdwcSbtsG63CHCGhD7wTE7/MGfTcbBBsICwl42DsKtjrXB3tDMwdP60sEMfuDBvCcMwmd+5cFX+A7CPwcawt3KusGzw//BT9X0wQHer8HyhBbCK9TUwfxT8sERO/PB7SARwlBeF8JPWQHCCVoKwjq918GJLhbCmwH+wXvnxMGyydLBcKbWwbt7mcHw8AbCDSjkwYjz4MHs5evBaKr3wc7KEsJEagrCXeahwZ+jtsHwKaLBhXfHwd2RucF31XjBdu7swWSW9sHFg6XBkbjSwR0XksE2pQvCm3oFwrhhlcGAyQfCzej2waZW5MFS9/HBOVUNwr2BEMI=",
          "dtype": "f4"
         },
         "yaxis": "y"
        },
        {
         "hovertemplate": "Cluster=4<br>x=%{x}<br>y=%{y}<extra></extra>",
         "legendgroup": "4",
         "marker": {
          "color": "#00cc96",
          "size": 6,
          "symbol": "circle"
         },
         "mode": "markers",
         "name": "4",
         "showlegend": true,
         "type": "scattergl",
         "x": {
          "bdata": "UmOqQa3Q4kCo0NRAY05vQRTPoEGbQfNAET0cwA7GNEFuTiJBkHTjwE2vdEFkySBASQVUQbBj0UEYxWVBqQUIQQWaNkFRHHdBE5Z2QZSfWEFNl/nAeXDBP4mWnEFuuQpBJ6KgQTZdJkFcCPzARVGSv+ArPkFSVqRBBNDswOPMlUF16SZBQ35TQD4YJEHYDApBKuoXQaFktUG+EolBEGdBQJ3hjkDk7l5BULKWQLeX6D+OEBfBGK0Xv5crhUEufKxA4lM+QdwNKEFPeZVBN9wVQbSCvMDjLTFBy94nQZ4NA0Gm8YdBpDcuQdI54EBOqTxBdiEJQCrRfEHNZUtBfJndvp83BUFe4nxApj6nQbTMwECBjlFB7tdLQTYqzcDcEz1BA8OuQXf00L5b7UI/OTKlQBR1qUC9SItBx0yNvzqGhkDR+iNBMke3QHq7ZUH796jBRK8qQZN5nUAWwGtAjpcJwBOKGUFHuuZAJddzQWg+wkCh+t1A7JyuQf/JmkBNUJfARB75QL0H0EGgKV9BIPddQIIdgUBC2WFBACCOQAFCvUC7Q61BfxnSPj/sJUFe6HNACgo6P502X0BHnppBGYkvQNhAB0H7z6HAlcG5QWsp1kCFAiHAo09PQKzME0F5Oi5AgJohQNzXgECCQrBB4abGQKXns0Eg8GlAT4XZv7PBWUEspRbBa5ZZwPRZikG1JatA4sDowOKlCkF8jsZABEm5Pn1lS0EKRaJBa2f6wNdYjUDreAdBg6AxQW7x7b8dY9HASPEQQeVvjb7rIDTB/rajQHG+nr8CGxZAndwsQVkDKEF5wMY/SpqZQd9XYkG/r4BBfdWQQRKdKb/TEsA/VDoFwOu/hUH5gBG/DqA8QdKCFb+X/p1AESAEQaVx+kA4gWBBGBBOwKDrYEE7oINBDf8KQCpnyEF8n5jAfCQeQJzVd0GAKsLAR4kxv63PHUB0EQNBHUfcPa3BY0HKa8G/gsrzQO5M4T8rxu4/5phYwQTnJ0E+ShpA1W+PQOWMWkC9Aty/GK9wQYfPXEF6llm/2g23QNpCO8BBoZpBZDthwC7bt7+q8alBqjwvQTyjJECcwmhB7AqHP4Jnaz7pNp1A/qDHwAGIOUAn1NBANCSAQV+QIkDGU5dBViMmQCeEbEB2OrY+1QApQR+JbUCcXlVBzNi2QP/wgEE8owlBlGcSQY7EJsFGudk/07WXwJmCFEEje8HAeefowFITir6mmbI/X6VMQUpnlsCii/w/hMwZQeTPvEHz7fg/wNRzwRV7J8FWGJhAd91Lv7Tl+kCIExBBTbOpQb6sqUF/yhLAM4MFwcyBiEFw4Pa/1m/IQbDv1r8gxuVA031iQIkF0cAjRONAxoXTQH9WhEGTqvxAAT2xQedwnEEstV3Bc8WhQDEU6cDa8mFBysQzwWR4T0ES+H5BVUy9QMzWmEDBcFBBSq5OwHuGb8An8dFAtNuPQGgmh8BNHRFAwYFXQb0v7kA=",
          "dtype": "f4"
         },
         "xaxis": "x",
         "y": {
          "bdata": "2oCIQbn9eEFIzXdBSMejQV5ypEEtw71BuxkTQkLPBkKbQ75B+y60Qa9Wt0H9vohBeH0yQTgUa0E+c49Bj78CQqBKkkHNI/FBUlqjQS3JpkFKRARC31cRQhaygUFcB8dBSQ6kQdUFJUEkEOpBrzGjQRqIOUFVmxlBCbjbQdf7z0Fk9qZB+Yi0QV9pu0HZc9lBRZWfQaY9IkEpCbdBlv+WQakIoUE2ymlBsZLkQdFY8kHxNqhBvWekQbtMxkGEcYBBNBRyQQIcBkJezvFB+RyfQefOikGaGvZBRrWNQVqH/EEfu1VBHQSSQUryxUHoxchBizAQQkqLVUFhzW5BxSi0QRnBokE1t5xBpfsdQemz20HG54VB5M/+QVRmq0Grv3xBFkW5QbeEhUEdLnJBdurwQZQatEFV9bpARR7KQYGvCkIS9SNBzP7DQXnujkFIlHNBiTHcQWfhm0FKutJB/UbJQUG8hUF4PjtBXErTQdQ4r0Hc+bdBDDOAQc/6y0E1/P1BGUvjQZSuBkBGBrdBCvDAQYzgiEETCYVBUq/PQZWCmUHnM7lBA2n2QShpYEFUQaxBzrOlQQSK00Gk0zNB/hPJQWZJpkFRJsFBsPo3QfdlhUGWuA1CWtj0QY2MAUKH/aNB55N0QevWgEEE3x9BIPG9QdPHf8FdjMJBZZf4Qa/lz0ER0o9BA4OYQXHae0GMbpFBSXmiQXkMsUF+7+NB90DHQaxAWUGyAINAAEkyQYn5kkG0pNNBZGr0QZxvy0E5d+5BK5wxQYoT0UHWRu1BadOUQXCiCELmh9pB1RWmQT3q0EF2Ks9BhDAVP3z+OkGzcAhB3TlcQWMYzUEgFJ5Btxx8QS1SlkEBad5BihXJQUKC30Ev4a9B0JPDQcQx5EFMsalBevCdQVgzr0EvVMBBTc8PQnC9zEEokeJBxLfsQZqQ8UFQcodBeGM6QfiXrUGvraJBvjW7QYzSvUESXcdBW8VJQbUnv0EDqvdBOj6oQfIUzUE6f+BBfVOgQQCqC0JReNdBbjXpQYMtjUGenuJBZx6iQRdiFEILGTRBwD3PQdVzsUEZmi9BGJPhQQ1QtEFtA5ZB0svYQXCgAkID0p5B7jOsQU7b/kGGBKZBS6XYQWvchUG4XrdBYm2lQZTlakEu+ONB20tzQWf6K0HY29NB1iLgQSsrVUH3Rq5BmDvvQYihw0FRvM5BzAv+QQWa60E8YJdB79QMQujPs0F34d9BDDhFQUESokGwQZRB5tW5QWoYl0FkthxC6xi9Qe39xEEQ+NxBNan2QRAmBEIVhiJBTOOKQURXMkFX/wBCIVkCQj5LzkEh6rFBz73MQTKa/EE/sqZB7sF+QQATiUFXP5pBMLa8QYqO20Gv1rtBih9wQR7zgkE8hdVBO4qsQXcsDUKpw75BwCrtQYNtokE8FIBBpsviQWwcY0FCGt9BqO6xQTFJsEFWSwlCaRe6QSsBi0HUaWVBzDLgQWH08EE=",
          "dtype": "f4"
         },
         "yaxis": "y"
        },
        {
         "hovertemplate": "Cluster=0<br>x=%{x}<br>y=%{y}<extra></extra>",
         "legendgroup": "0",
         "marker": {
          "color": "#ab63fa",
          "size": 6,
          "symbol": "circle"
         },
         "mode": "markers",
         "name": "0",
         "showlegend": true,
         "type": "scattergl",
         "x": {
          "bdata": "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",
          "dtype": "f4"
         },
         "xaxis": "x",
         "y": {
          "bdata": "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",
          "dtype": "f4"
         },
         "yaxis": "y"
        },
        {
         "hovertemplate": "Cluster=3<br>x=%{x}<br>y=%{y}<extra></extra>",
         "legendgroup": "3",
         "marker": {
          "color": "#FFA15A",
          "size": 6,
          "symbol": "circle"
         },
         "mode": "markers",
         "name": "3",
         "showlegend": true,
         "type": "scattergl",
         "x": {
          "bdata": "vBTiQIfl4EAjxSBBsuolQXITTUB09K1AVzdFQalaUkGE05lBnNIEQeLkUkH9d4dBkPyMQIJG3z4tb5VB7kxcQZs0yECU1kpB/HcjQTjVF0ByN0DAdq7AQf3plkH4OzJBfpCIv+GjXUF8UuNAspWUvwmh2UBGAXFBu5I/QbCCiEHg1RZBY6kMvVVjQkG0JaVAbB+AQSVjkUCp52pBccOHQGlYQEG2apZBcguZQOtR6ECmme4/rRFZQZEV8kAH2l9BP1oTQQZ7KMH0qFm/pdulQQCKyEBx/39BWkZqQVH5I0Em3bVAxZYlQdIT+0Bm04tBV/JNQHwaBkGdBgNARU2yQPZDJkFRPzVBe+dwQQ3QiEHpXplBzEuZQSO1jUGVZqNB+2UZQVBbnEEF3lhBLMeQQESMTUFDbYRBvCyaQTaR60ANAE5BXl2mQSkql0HI1upAInRJQbTaOED4JDVAEp6fQX2Xi0FONZxAI2CaQWVrWL1rvH5BE46XQaDxK0EgfplBE1oPQdYju0DdMhRB4BNUQIykbEANN1ZBgkbfPu+Mkb80PuJAo4P6P7V0okEof2ZBauz3v+2dLkGYbIFBiioSQUuHVEFAQDRB8sbSQRmFAEE=",
          "dtype": "f4"
         },
         "xaxis": "x",
         "y": {
          "bdata": "jKMXQvjZF0I+eNRBqGMdQoumAkLRpAxC0AAQQpXiCUJk2c5BBiUDQi0HCkLhnN5BKtz7QU02JUJ7XhNCsGULQtAe+kEdFgBCuAAQQhs8AELNuuZBrbcDQSynE0IU3vxB71gZQjfdF0JGb/FBkc8QQkdvCULQpwhCrT0IQjqZ9UFSABtC/HbpQf99FEJkDhJC9Ee6QdKE7UGzGetB1UMFQrG8BUKZsf1BcVLmQUZnD0ITdgdClbv+QbflFULgjgNC3JcOQpMnvkGGVhpCOWnVQYPg90E7kQNCHFsXQn5/AUI3TwRCo6zbQWmqD0I6aRJCA5EdQnJTD0I+3AZC43gJQuuTHkKCX+dBhpn2QQpHy0FcCQFCQJD8QakeE0L7//ZBP9kQQqum90Gd4PJBdokEQqU67EEosghCkQoVQoVTIkLrRNtBHxrWQZyN40FWhiJC1/QAQnPCGUKGORtCDnn5QchD/EER+QhC8agDQhVm2UHejQFC2OP2QZdarkE14QZCRpYSQkd9AkJEF+xBz/XkQQkhFkKMzvJBTTYlQqlRAEI0gs9BQpQEQrHlAUJe4BdC6X4UQoI0GUIK6AZCQVMGQrMDx0FKQRhCTppuQfrVBUI=",
          "dtype": "f4"
         },
         "yaxis": "y"
        }
       ],
       "layout": {
        "height": 600,
        "legend": {
         "title": {
          "text": "Cluster"
         },
         "tracegroupgap": 0
        },
        "template": {
         "data": {
          "bar": [
           {
            "error_x": {
             "color": "#2a3f5f"
            },
            "error_y": {
             "color": "#2a3f5f"
            },
            "marker": {
             "line": {
              "color": "#E5ECF6",
              "width": 0.5
             },
             "pattern": {
              "fillmode": "overlay",
              "size": 10,
              "solidity": 0.2
             }
            },
            "type": "bar"
           }
          ],
          "barpolar": [
           {
            "marker": {
             "line": {
              "color": "#E5ECF6",
              "width": 0.5
             },
             "pattern": {
              "fillmode": "overlay",
              "size": 10,
              "solidity": 0.2
             }
            },
            "type": "barpolar"
           }
          ],
          "carpet": [
           {
            "aaxis": {
             "endlinecolor": "#2a3f5f",
             "gridcolor": "white",
             "linecolor": "white",
             "minorgridcolor": "white",
             "startlinecolor": "#2a3f5f"
            },
            "baxis": {
             "endlinecolor": "#2a3f5f",
             "gridcolor": "white",
             "linecolor": "white",
             "minorgridcolor": "white",
             "startlinecolor": "#2a3f5f"
            },
            "type": "carpet"
           }
          ],
          "choropleth": [
           {
            "colorbar": {
             "outlinewidth": 0,
             "ticks": ""
            },
            "type": "choropleth"
           }
          ],
          "contour": [
           {
            "colorbar": {
             "outlinewidth": 0,
             "ticks": ""
            },
            "colorscale": [
             [
              0,
              "#0d0887"
             ],
             [
              0.1111111111111111,
              "#46039f"
             ],
             [
              0.2222222222222222,
              "#7201a8"
             ],
             [
              0.3333333333333333,
              "#9c179e"
             ],
             [
              0.4444444444444444,
              "#bd3786"
             ],
             [
              0.5555555555555556,
              "#d8576b"
             ],
             [
              0.6666666666666666,
              "#ed7953"
             ],
             [
              0.7777777777777778,
              "#fb9f3a"
             ],
             [
              0.8888888888888888,
              "#fdca26"
             ],
             [
              1,
              "#f0f921"
             ]
            ],
            "type": "contour"
           }
          ],
          "contourcarpet": [
           {
            "colorbar": {
             "outlinewidth": 0,
             "ticks": ""
            },
            "type": "contourcarpet"
           }
          ],
          "heatmap": [
           {
            "colorbar": {
             "outlinewidth": 0,
             "ticks": ""
            },
            "colorscale": [
             [
              0,
              "#0d0887"
             ],
             [
              0.1111111111111111,
              "#46039f"
             ],
             [
              0.2222222222222222,
              "#7201a8"
             ],
             [
              0.3333333333333333,
              "#9c179e"
             ],
             [
              0.4444444444444444,
              "#bd3786"
             ],
             [
              0.5555555555555556,
              "#d8576b"
             ],
             [
              0.6666666666666666,
              "#ed7953"
             ],
             [
              0.7777777777777778,
              "#fb9f3a"
             ],
             [
              0.8888888888888888,
              "#fdca26"
             ],
             [
              1,
              "#f0f921"
             ]
            ],
            "type": "heatmap"
           }
          ],
          "histogram": [
           {
            "marker": {
             "pattern": {
              "fillmode": "overlay",
              "size": 10,
              "solidity": 0.2
             }
            },
            "type": "histogram"
           }
          ],
          "histogram2d": [
           {
            "colorbar": {
             "outlinewidth": 0,
             "ticks": ""
            },
            "colorscale": [
             [
              0,
              "#0d0887"
             ],
             [
              0.1111111111111111,
              "#46039f"
             ],
             [
              0.2222222222222222,
              "#7201a8"
             ],
             [
              0.3333333333333333,
              "#9c179e"
             ],
             [
              0.4444444444444444,
              "#bd3786"
             ],
             [
              0.5555555555555556,
              "#d8576b"
             ],
             [
              0.6666666666666666,
              "#ed7953"
             ],
             [
              0.7777777777777778,
              "#fb9f3a"
             ],
             [
              0.8888888888888888,
              "#fdca26"
             ],
             [
              1,
              "#f0f921"
             ]
            ],
            "type": "histogram2d"
           }
          ],
          "histogram2dcontour": [
           {
            "colorbar": {
             "outlinewidth": 0,
             "ticks": ""
            },
            "colorscale": [
             [
              0,
              "#0d0887"
             ],
             [
              0.1111111111111111,
              "#46039f"
             ],
             [
              0.2222222222222222,
              "#7201a8"
             ],
             [
              0.3333333333333333,
              "#9c179e"
             ],
             [
              0.4444444444444444,
              "#bd3786"
             ],
             [
              0.5555555555555556,
              "#d8576b"
             ],
             [
              0.6666666666666666,
              "#ed7953"
             ],
             [
              0.7777777777777778,
              "#fb9f3a"
             ],
             [
              0.8888888888888888,
              "#fdca26"
             ],
             [
              1,
              "#f0f921"
             ]
            ],
            "type": "histogram2dcontour"
           }
          ],
          "mesh3d": [
           {
            "colorbar": {
             "outlinewidth": 0,
             "ticks": ""
            },
            "type": "mesh3d"
           }
          ],
          "parcoords": [
           {
            "line": {
             "colorbar": {
              "outlinewidth": 0,
              "ticks": ""
             }
            },
            "type": "parcoords"
           }
          ],
          "pie": [
           {
            "automargin": true,
            "type": "pie"
           }
          ],
          "scatter": [
           {
            "fillpattern": {
             "fillmode": "overlay",
             "size": 10,
             "solidity": 0.2
            },
            "type": "scatter"
           }
          ],
          "scatter3d": [
           {
            "line": {
             "colorbar": {
              "outlinewidth": 0,
              "ticks": ""
             }
            },
            "marker": {
             "colorbar": {
              "outlinewidth": 0,
              "ticks": ""
             }
            },
            "type": "scatter3d"
           }
          ],
          "scattercarpet": [
           {
            "marker": {
             "colorbar": {
              "outlinewidth": 0,
              "ticks": ""
             }
            },
            "type": "scattercarpet"
           }
          ],
          "scattergeo": [
           {
            "marker": {
             "colorbar": {
              "outlinewidth": 0,
              "ticks": ""
             }
            },
            "type": "scattergeo"
           }
          ],
          "scattergl": [
           {
            "marker": {
             "colorbar": {
              "outlinewidth": 0,
              "ticks": ""
             }
            },
            "type": "scattergl"
           }
          ],
          "scattermap": [
           {
            "marker": {
             "colorbar": {
              "outlinewidth": 0,
              "ticks": ""
             }
            },
            "type": "scattermap"
           }
          ],
          "scattermapbox": [
           {
            "marker": {
             "colorbar": {
              "outlinewidth": 0,
              "ticks": ""
             }
            },
            "type": "scattermapbox"
           }
          ],
          "scatterpolar": [
           {
            "marker": {
             "colorbar": {
              "outlinewidth": 0,
              "ticks": ""
             }
            },
            "type": "scatterpolar"
           }
          ],
          "scatterpolargl": [
           {
            "marker": {
             "colorbar": {
              "outlinewidth": 0,
              "ticks": ""
             }
            },
            "type": "scatterpolargl"
           }
          ],
          "scatterternary": [
           {
            "marker": {
             "colorbar": {
              "outlinewidth": 0,
              "ticks": ""
             }
            },
            "type": "scatterternary"
           }
          ],
          "surface": [
           {
            "colorbar": {
             "outlinewidth": 0,
             "ticks": ""
            },
            "colorscale": [
             [
              0,
              "#0d0887"
             ],
             [
              0.1111111111111111,
              "#46039f"
             ],
             [
              0.2222222222222222,
              "#7201a8"
             ],
             [
              0.3333333333333333,
              "#9c179e"
             ],
             [
              0.4444444444444444,
              "#bd3786"
             ],
             [
              0.5555555555555556,
              "#d8576b"
             ],
             [
              0.6666666666666666,
              "#ed7953"
             ],
             [
              0.7777777777777778,
              "#fb9f3a"
             ],
             [
              0.8888888888888888,
              "#fdca26"
             ],
             [
              1,
              "#f0f921"
             ]
            ],
            "type": "surface"
           }
          ],
          "table": [
           {
            "cells": {
             "fill": {
              "color": "#EBF0F8"
             },
             "line": {
              "color": "white"
             }
            },
            "header": {
             "fill": {
              "color": "#C8D4E3"
             },
             "line": {
              "color": "white"
             }
            },
            "type": "table"
           }
          ]
         },
         "layout": {
          "annotationdefaults": {
           "arrowcolor": "#2a3f5f",
           "arrowhead": 0,
           "arrowwidth": 1
          },
          "autotypenumbers": "strict",
          "coloraxis": {
           "colorbar": {
            "outlinewidth": 0,
            "ticks": ""
           }
          },
          "colorscale": {
           "diverging": [
            [
             0,
             "#8e0152"
            ],
            [
             0.1,
             "#c51b7d"
            ],
            [
             0.2,
             "#de77ae"
            ],
            [
             0.3,
             "#f1b6da"
            ],
            [
             0.4,
             "#fde0ef"
            ],
            [
             0.5,
             "#f7f7f7"
            ],
            [
             0.6,
             "#e6f5d0"
            ],
            [
             0.7,
             "#b8e186"
            ],
            [
             0.8,
             "#7fbc41"
            ],
            [
             0.9,
             "#4d9221"
            ],
            [
             1,
             "#276419"
            ]
           ],
           "sequential": [
            [
             0,
             "#0d0887"
            ],
            [
             0.1111111111111111,
             "#46039f"
            ],
            [
             0.2222222222222222,
             "#7201a8"
            ],
            [
             0.3333333333333333,
             "#9c179e"
            ],
            [
             0.4444444444444444,
             "#bd3786"
            ],
            [
             0.5555555555555556,
             "#d8576b"
            ],
            [
             0.6666666666666666,
             "#ed7953"
            ],
            [
             0.7777777777777778,
             "#fb9f3a"
            ],
            [
             0.8888888888888888,
             "#fdca26"
            ],
            [
             1,
             "#f0f921"
            ]
           ],
           "sequentialminus": [
            [
             0,
             "#0d0887"
            ],
            [
             0.1111111111111111,
             "#46039f"
            ],
            [
             0.2222222222222222,
             "#7201a8"
            ],
            [
             0.3333333333333333,
             "#9c179e"
            ],
            [
             0.4444444444444444,
             "#bd3786"
            ],
            [
             0.5555555555555556,
             "#d8576b"
            ],
            [
             0.6666666666666666,
             "#ed7953"
            ],
            [
             0.7777777777777778,
             "#fb9f3a"
            ],
            [
             0.8888888888888888,
             "#fdca26"
            ],
            [
             1,
             "#f0f921"
            ]
           ]
          },
          "colorway": [
           "#636efa",
           "#EF553B",
           "#00cc96",
           "#ab63fa",
           "#FFA15A",
           "#19d3f3",
           "#FF6692",
           "#B6E880",
           "#FF97FF",
           "#FECB52"
          ],
          "font": {
           "color": "#2a3f5f"
          },
          "geo": {
           "bgcolor": "white",
           "lakecolor": "white",
           "landcolor": "#E5ECF6",
           "showlakes": true,
           "showland": true,
           "subunitcolor": "white"
          },
          "hoverlabel": {
           "align": "left"
          },
          "hovermode": "closest",
          "mapbox": {
           "style": "light"
          },
          "paper_bgcolor": "white",
          "plot_bgcolor": "#E5ECF6",
          "polar": {
           "angularaxis": {
            "gridcolor": "white",
            "linecolor": "white",
            "ticks": ""
           },
           "bgcolor": "#E5ECF6",
           "radialaxis": {
            "gridcolor": "white",
            "linecolor": "white",
            "ticks": ""
           }
          },
          "scene": {
           "xaxis": {
            "backgroundcolor": "#E5ECF6",
            "gridcolor": "white",
            "gridwidth": 2,
            "linecolor": "white",
            "showbackground": true,
            "ticks": "",
            "zerolinecolor": "white"
           },
           "yaxis": {
            "backgroundcolor": "#E5ECF6",
            "gridcolor": "white",
            "gridwidth": 2,
            "linecolor": "white",
            "showbackground": true,
            "ticks": "",
            "zerolinecolor": "white"
           },
           "zaxis": {
            "backgroundcolor": "#E5ECF6",
            "gridcolor": "white",
            "gridwidth": 2,
            "linecolor": "white",
            "showbackground": true,
            "ticks": "",
            "zerolinecolor": "white"
           }
          },
          "shapedefaults": {
           "line": {
            "color": "#2a3f5f"
           }
          },
          "ternary": {
           "aaxis": {
            "gridcolor": "white",
            "linecolor": "white",
            "ticks": ""
           },
           "baxis": {
            "gridcolor": "white",
            "linecolor": "white",
            "ticks": ""
           },
           "bgcolor": "#E5ECF6",
           "caxis": {
            "gridcolor": "white",
            "linecolor": "white",
            "ticks": ""
           }
          },
          "title": {
           "x": 0.05
          },
          "xaxis": {
           "automargin": true,
           "gridcolor": "white",
           "linecolor": "white",
           "ticks": "",
           "title": {
            "standoff": 15
           },
           "zerolinecolor": "white",
           "zerolinewidth": 2
          },
          "yaxis": {
           "automargin": true,
           "gridcolor": "white",
           "linecolor": "white",
           "ticks": "",
           "title": {
            "standoff": 15
           },
           "zerolinecolor": "white",
           "zerolinewidth": 2
          }
         }
        },
        "title": {
         "text": "Visualisation des clusters"
        },
        "width": 900,
        "xaxis": {
         "anchor": "y",
         "domain": [
          0,
          1
         ],
         "title": {
          "text": "x"
         }
        },
        "yaxis": {
         "anchor": "x",
         "domain": [
          0,
          1
         ],
         "title": {
          "text": "y"
         }
        }
       }
      }
     },
     "metadata": {},
     "output_type": "display_data"
    }
   ],
   "source": [
    "from numpy import stack\n",
    "\n",
    "X = stack(df['doc_vector'].values)  # Matrice des vecteurs\n",
    "visualize_clusters_2d(X, df['cluster'], method='tsne')\n"
   ]
  },
  {
   "cell_type": "markdown",
   "id": "b7e2b63b",
   "metadata": {},
   "source": [
    "## Représentation des 5 tokens les plus utilisés par cluster"
   ]
  },
  {
   "cell_type": "code",
   "execution_count": 59,
   "id": "a7184c68",
   "metadata": {},
   "outputs": [
    {
     "data": {
      "image/png": "[encoded data removed]",
      "text/plain": [
       "<Figure size 1000x500 with 1 Axes>"
      ]
     },
     "metadata": {},
     "output_type": "display_data"
    },
    {
     "data": {
      "image/png": "[encoded data removed]",
      "text/plain": [
       "<Figure size 1000x500 with 1 Axes>"
      ]
     },
     "metadata": {},
     "output_type": "display_data"
    },
    {
     "data": {
      "image/png": "[encoded data removed]",
      "text/plain": [
       "<Figure size 1000x500 with 1 Axes>"
      ]
     },
     "metadata": {},
     "output_type": "display_data"
    },
    {
     "data": {
      "image/png": "[encoded data removed]",
      "text/plain": [
       "<Figure size 1000x500 with 1 Axes>"
      ]
     },
     "metadata": {},
     "output_type": "display_data"
    },
    {
     "data": {
      "image/png": "[encoded data removed]",
      "text/plain": [
       "<Figure size 1000x500 with 1 Axes>"
      ]
     },
     "metadata": {},
     "output_type": "display_data"
    }
   ],
   "source": [
    "from collections import Counter\n",
    "\n",
    "# Calculer la fréquence des tokens par cluster\n",
    "top_tokens_by_cluster = {}\n",
    "\n",
    "for cluster in df['cluster'].unique():\n",
    "    # Sélectionner les tokens de chaque cluster\n",
    "    cluster_tokens = df[df['cluster'] == cluster]['tokens'].sum()\n",
    "    \n",
    "    # Compter les occurrences de chaque token\n",
    "    token_counts = Counter(cluster_tokens)\n",
    "    \n",
    "    # Obtenir les 5 tokens les plus fréquents\n",
    "    top_tokens = token_counts.most_common(5)\n",
    "    top_tokens_by_cluster[cluster] = top_tokens\n",
    "\n",
    "# Visualiser les 5 tokens les plus fréquents par cluster\n",
    "for cluster, tokens in top_tokens_by_cluster.items():\n",
    "    tokens_list, counts = zip(*tokens)\n",
    "    \n",
    "    plt.figure(figsize=(10, 5))\n",
    "    plt.bar(tokens_list, counts, color='skyblue')\n",
    "    plt.title(f'Top 5 Tokens dans le Cluster {cluster}')\n",
    "    plt.xlabel('Tokens')\n",
    "    plt.ylabel('Occurrences')\n",
    "    plt.show()\n"
   ]
  },
  {
   "cell_type": "code",
   "execution_count": 60,
   "id": "555ade9a",
   "metadata": {},
   "outputs": [
    {
     "data": {
      "text/plain": [
       "{1: [('pouvoir', 29),\n",
       "  ('public', 28),\n",
       "  ('personne', 28),\n",
       "  ('aider', 26),\n",
       "  ('creer', 25)],\n",
       " 2: [('matiere', 7),\n",
       "  ('competition', 6),\n",
       "  ('organisation', 6),\n",
       "  ('etude', 6),\n",
       "  ('maternelle', 5)],\n",
       " 4: [('permettre', 34),\n",
       "  ('acce', 31),\n",
       "  ('age', 28),\n",
       "  ('accessible', 26),\n",
       "  ('place', 24)],\n",
       " 0: [('creer', 19),\n",
       "  ('salle', 19),\n",
       "  ('scolaire', 17),\n",
       "  ('personne', 16),\n",
       "  ('bienfait', 16)],\n",
       " 3: [('pouvoir', 25),\n",
       "  ('pratiquer', 16),\n",
       "  ('creer', 16),\n",
       "  ('heure', 14),\n",
       "  ('permettre', 12)]}"
      ]
     },
     "execution_count": 60,
     "metadata": {},
     "output_type": "execute_result"
    }
   ],
   "source": [
    "top_tokens_by_cluster"
   ]
  },
  {
   "cell_type": "code",
   "execution_count": 61,
   "id": "840ff787",
   "metadata": {},
   "outputs": [],
   "source": [
    "## Définition de la thématique de chaque cluster\n",
    "def get_cluster_theme(cluster_id):\n",
    "    themes = {\n",
    "        0: \"Thème 1 : Création de nouvelles infrastructures sportives\",\n",
    "        1: \"Thème 2 : Soutien public et accompagnement des personnes\",\n",
    "        2: \"Thème 3 : Sport et éducation\",\n",
    "        3: \"Thème 4 : Manque de temps pour pratiquer le sport\",\n",
    "        4: \"Thème 5 : Accessibilité aux installations sportives\"\n",
    "    }\n",
    "    return themes.get(cluster_id, \"Thème inconnu\")"
   ]
  },
  {
   "cell_type": "code",
   "execution_count": 62,
   "id": "fef71dfc",
   "metadata": {},
   "outputs": [],
   "source": [
    "## Utulisation de la fonction afin de correspondre chaque cluster à un thème\n",
    "df['cluster_theme'] = df['cluster'].apply(get_cluster_theme)"
   ]
  },
  {
   "cell_type": "code",
   "execution_count": 63,
   "id": "38313150",
   "metadata": {},
   "outputs": [
    {
     "data": {
      "text/plain": [
       "Index(['id', 'content', 'slug', 'createdAt', 'updatedAt', 'vote_agree',\n",
       "       'vote_neutral', 'vote_disagree', 'author_id', 'author_age',\n",
       "       'author_type', 'agree_likeit', 'agree_platitudeagree', 'agree_doable',\n",
       "       'neutral_noOpinion', 'neutral_doNotUnderstand', 'neutral_doNotCare',\n",
       "       'disagree_impossible', 'disagree_noWay', 'disagree_platitudeDisagree',\n",
       "       'tokens', 'vectors', 'doc_vector', 'cluster', 'cluster_theme'],\n",
       "      dtype='object')"
      ]
     },
     "execution_count": 63,
     "metadata": {},
     "output_type": "execute_result"
    }
   ],
   "source": [
    "df.columns"
   ]
  },
  {
   "cell_type": "code",
   "execution_count": 64,
   "id": "4f1187a4",
   "metadata": {},
   "outputs": [],
   "source": [
    "def score_clusters(df):\n",
    "    \"\"\"\n",
    "    Calcule un score pondéré pour chaque commentaire en fonction des sous-votes,\n",
    "    puis agrège les scores pour donner une moyenne par cluster.\n",
    "    \n",
    "    :param df: DataFrame contenant les colonnes de sous-votes et 'cluster'\n",
    "    :return: DataFrame des scores moyens par cluster\n",
    "    \"\"\"\n",
    "    # Pondérations personnalisées par sous-vote\n",
    "    weights = {\n",
    "        'agree_likeit': 2,\n",
    "        'agree_platitudeagree': 1,\n",
    "        'agree_doable': 1.5,\n",
    "        'neutral_noOpinion': 0,\n",
    "        'neutral_doNotUnderstand': -0.5,\n",
    "        'neutral_doNotCare': -0.5,\n",
    "        'disagree_impossible': -2,\n",
    "        'disagree_noWay': -1.5,\n",
    "        'disagree_platitudeDisagree': -1\n",
    "    }\n",
    "\n",
    "    # Calcul du score pondéré par ligne\n",
    "    df['vote_score'] = sum(\n",
    "        df.get(col, 0) * weight for col, weight in weights.items()\n",
    "    )\n",
    "\n",
    "    # Moyenne par cluster\n",
    "    cluster_scores = df.groupby('cluster')['vote_score'].mean().reset_index()\n",
    "    cluster_scores.columns = ['cluster', 'average_score']\n",
    "\n",
    "    return cluster_scores\n"
   ]
  },
  {
   "cell_type": "code",
   "execution_count": 65,
   "id": "c41db174",
   "metadata": {},
   "outputs": [
    {
     "name": "stdout",
     "output_type": "stream",
     "text": [
      "   cluster  average_score\n",
      "0        0      62.407950\n",
      "1        1      67.383562\n",
      "2        2      72.126087\n",
      "3        3      67.086207\n",
      "4        4      60.377698\n"
     ]
    }
   ],
   "source": [
    "# Appliquer la fonction sur ton DataFrame avec les votes et clusters\n",
    "result = score_clusters(df)\n",
    "print(result)\n"
   ]
  },
  {
   "cell_type": "markdown",
   "id": "8ea631a8",
   "metadata": {},
   "source": [
    " # PROFILING DE CHAQUE CLUSTER"
   ]
  },
  {
   "cell_type": "code",
   "execution_count": 66,
   "id": "98697321",
   "metadata": {},
   "outputs": [
    {
     "name": "stdout",
     "output_type": "stream",
     "text": [
      "<class 'pandas.core.frame.DataFrame'>\n",
      "RangeIndex: 1540 entries, 0 to 1539\n",
      "Data columns (total 26 columns):\n",
      " #   Column                      Non-Null Count  Dtype  \n",
      "---  ------                      --------------  -----  \n",
      " 0   id                          1540 non-null   object \n",
      " 1   content                     1540 non-null   object \n",
      " 2   slug                        1540 non-null   object \n",
      " 3   createdAt                   1540 non-null   object \n",
      " 4   updatedAt                   1540 non-null   object \n",
      " 5   vote_agree                  1540 non-null   int64  \n",
      " 6   vote_neutral                1540 non-null   int64  \n",
      " 7   vote_disagree               1540 non-null   int64  \n",
      " 8   author_id                   1540 non-null   object \n",
      " 9   author_age                  1540 non-null   float64\n",
      " 10  author_type                 1540 non-null   object \n",
      " 11  agree_likeit                1540 non-null   int64  \n",
      " 12  agree_platitudeagree        1540 non-null   int64  \n",
      " 13  agree_doable                1540 non-null   int64  \n",
      " 14  neutral_noOpinion           1540 non-null   int64  \n",
      " 15  neutral_doNotUnderstand     1540 non-null   int64  \n",
      " 16  neutral_doNotCare           1540 non-null   int64  \n",
      " 17  disagree_impossible         1540 non-null   int64  \n",
      " 18  disagree_noWay              1540 non-null   int64  \n",
      " 19  disagree_platitudeDisagree  1540 non-null   int64  \n",
      " 20  tokens                      1540 non-null   object \n",
      " 21  vectors                     1540 non-null   object \n",
      " 22  doc_vector                  1540 non-null   object \n",
      " 23  cluster                     1540 non-null   int32  \n",
      " 24  cluster_theme               1540 non-null   object \n",
      " 25  vote_score                  1540 non-null   float64\n",
      "dtypes: float64(2), int32(1), int64(12), object(11)\n",
      "memory usage: 306.9+ KB\n"
     ]
    }
   ],
   "source": [
    "df.info()"
   ]
  },
  {
   "cell_type": "code",
   "execution_count": 72,
   "id": "c454b778",
   "metadata": {},
   "outputs": [
    {
     "data": {
      "image/png": "[encoded data removed]",
      "text/plain": [
       "<Figure size 600x400 with 1 Axes>"
      ]
     },
     "metadata": {},
     "output_type": "display_data"
    },
    {
     "data": {
      "image/png": "[encoded data removed]",
      "text/plain": [
       "<Figure size 600x400 with 1 Axes>"
      ]
     },
     "metadata": {},
     "output_type": "display_data"
    },
    {
     "data": {
      "image/png": "[encoded data removed]",
      "text/plain": [
       "<Figure size 600x400 with 1 Axes>"
      ]
     },
     "metadata": {},
     "output_type": "display_data"
    },
    {
     "data": {
      "image/png": "[encoded data removed]",
      "text/plain": [
       "<Figure size 600x400 with 1 Axes>"
      ]
     },
     "metadata": {},
     "output_type": "display_data"
    },
    {
     "data": {
      "image/png": "[encoded data removed]",
      "text/plain": [
       "<Figure size 600x400 with 1 Axes>"
      ]
     },
     "metadata": {},
     "output_type": "display_data"
    }
   ],
   "source": [
    "# Regrouper par cluster et faire la somme des votes\n",
    "cluster_votes = df.groupby('cluster')[['vote_agree', 'vote_neutral', 'vote_disagree']].sum().reset_index()\n",
    "\n",
    "# Tracer un graphique en barres pour chaque cluster\n",
    "for _, row in cluster_votes.iterrows():\n",
    "    cluster = row['cluster']\n",
    "    votes = row[['vote_agree', 'vote_neutral', 'vote_disagree']]\n",
    "    \n",
    "    plt.figure(figsize=(6, 4))\n",
    "    sns.barplot(x=votes.index, y=votes.values)\n",
    "    plt.title(f\"Répartition des types de votes - Cluster {cluster}\")\n",
    "    plt.ylabel(\"Nombre de votes\")\n",
    "    plt.xlabel(\"Type de vote\")\n",
    "    plt.ylim(0, max(votes.values) + 2)\n",
    "    plt.show()"
   ]
  },
  {
   "cell_type": "code",
   "execution_count": 67,
   "id": "ed11ec56",
   "metadata": {},
   "outputs": [
    {
     "data": {
      "image/png": "[encoded data removed]",
      "text/plain": [
       "<Figure size 1200x600 with 1 Axes>"
      ]
     },
     "metadata": {},
     "output_type": "display_data"
    },
    {
     "data": {
      "image/png": "[encoded data removed]",
      "text/plain": [
       "<Figure size 1200x600 with 1 Axes>"
      ]
     },
     "metadata": {},
     "output_type": "display_data"
    },
    {
     "data": {
      "image/png": "[encoded data removed]",
      "text/plain": [
       "<Figure size 1200x600 with 1 Axes>"
      ]
     },
     "metadata": {},
     "output_type": "display_data"
    }
   ],
   "source": [
    "import matplotlib.pyplot as plt\n",
    "import seaborn as sns\n",
    "\n",
    "# Vérifier l'existence de la colonne 'author_age' dans df\n",
    "if 'author_age' in df.columns:\n",
    "    # 1. Répartition de l'âge par cluster\n",
    "    plt.figure(figsize=(12, 6))\n",
    "    sns.boxplot(x='cluster', y='author_age', data=df)\n",
    "    plt.title(\"Répartition de l'âge par cluster\")\n",
    "    plt.show()\n",
    "    \n",
    "    # 2. Répartition globale de l'âge (toute la base de données)\n",
    "    plt.figure(figsize=(12, 6))\n",
    "    sns.histplot(df['author_age'], bins=30, kde=True)\n",
    "    plt.title(\"Répartition de l'âge dans toute la base de données\")\n",
    "    plt.show()\n",
    "    \n",
    "    # 3. Répartition de l'âge selon le cluster (graphique de densité)\n",
    "    plt.figure(figsize=(12, 6))\n",
    "    sns.kdeplot(data=df, x=\"author_age\", hue=\"cluster\", common_norm=False, fill=True)\n",
    "    plt.title(\"Répartition de l'âge selon le cluster\")\n",
    "    plt.show()\n",
    "else:\n",
    "    print(\"La colonne 'author_age' n'existe pas dans le DataFrame.\")\n"
   ]
  },
  {
   "cell_type": "code",
   "execution_count": 68,
   "id": "330615ff",
   "metadata": {},
   "outputs": [
    {
     "data": {
      "image/png": "[encoded data removed]",
      "text/plain": [
       "<Figure size 1000x500 with 1 Axes>"
      ]
     },
     "metadata": {},
     "output_type": "display_data"
    },
    {
     "data": {
      "image/png": "[encoded data removed]",
      "text/plain": [
       "<Figure size 1000x500 with 1 Axes>"
      ]
     },
     "metadata": {},
     "output_type": "display_data"
    },
    {
     "data": {
      "image/png": "[encoded data removed]",
      "text/plain": [
       "<Figure size 1000x500 with 1 Axes>"
      ]
     },
     "metadata": {},
     "output_type": "display_data"
    },
    {
     "data": {
      "image/png": "[encoded data removed]",
      "text/plain": [
       "<Figure size 1000x500 with 1 Axes>"
      ]
     },
     "metadata": {},
     "output_type": "display_data"
    },
    {
     "data": {
      "image/png": "[encoded data removed]",
      "text/plain": [
       "<Figure size 1000x500 with 1 Axes>"
      ]
     },
     "metadata": {},
     "output_type": "display_data"
    }
   ],
   "source": [
    "# Liste des clusters uniques\n",
    "clusters = df['cluster'].unique()\n",
    "\n",
    "# Générer un graphique de répartition de l'âge pour chaque cluster\n",
    "for cluster in clusters:\n",
    "    plt.figure(figsize=(10, 5))\n",
    "    sns.histplot(df[df['cluster'] == cluster]['author_age'], bins=15, kde=True, color='skyblue')\n",
    "    plt.title(f\"Répartition de l'âge pour le Cluster {cluster}\")\n",
    "    plt.xlabel(\"Âge\")\n",
    "    plt.ylabel(\"Fréquence\")\n",
    "    plt.show()"
   ]
  },
  {
   "cell_type": "markdown",
   "id": "df6e5722",
   "metadata": {},
   "source": [
    "# PIPELINE DE PREDICTION D'UN CLUSTER POUR UN NOUVEL AVIS"
   ]
  },
  {
   "cell_type": "code",
   "execution_count": 69,
   "id": "99d54044",
   "metadata": {},
   "outputs": [],
   "source": [
    "# Charger les modèles existants\n",
    "nlp = spacy.load('fr_core_news_md')\n",
    "model_w2v = Word2Vec.load(\"word2vec.model\")\n",
    "model_kmeans = joblib.load(\"kmeans_model.joblib\")"
   ]
  },
  {
   "cell_type": "code",
   "execution_count": 70,
   "id": "bb74dc09",
   "metadata": {},
   "outputs": [],
   "source": [
    "def get_comment_vector(tokens):\n",
    "    vectors = [model_w2v.wv[word] for word in tokens if word in model_w2v.wv]\n",
    "    return np.mean(vectors, axis=0).reshape(1, -1) if vectors else np.zeros((1, model_w2v.vector_size))\n",
    "\n",
    "# Fonction pour prédire le thème (cluster) d'un nouveau commentaire\n",
    "def predict_theme(text, top_n=20):\n",
    "    # Prétraitement complet avec suppression des mots fréquents\n",
    "    cleaned_tokens = full_preprocessing(pd.Series([text]), top_n=top_n)[0]\n",
    "    \n",
    "    # Génération du vecteur\n",
    "    vector = get_comment_vector(cleaned_tokens)\n",
    "    \n",
    "    # Prédiction avec KMeans\n",
    "    cluster = model_kmeans.predict(vector)[0]\n",
    "    \n",
    "    return f\"Le commentaire est classé dans le thème : {cluster}\""
   ]
  },
  {
   "cell_type": "code",
   "execution_count": 71,
   "id": "d113477e",
   "metadata": {},
   "outputs": [
    {
     "name": "stdout",
     "output_type": "stream",
     "text": [
      "Le commentaire est classé dans le thème : 2\n"
     ]
    }
   ],
   "source": [
    "new_comment = \"Il faut créer plus de terrains de sport pour les jeunes et les moins jeunes. Le sport est essentiel pour la santé et le bien-être.\"\n",
    "predicted_theme = predict_theme(new_comment)\n",
    "print(predicted_theme)"
   ]
  }
 ],
 "metadata": {
  "kernelspec": {
   "display_name": "Python 3",
   "language": "python",
   "name": "python3"
  },
  "language_info": {
   "codemirror_mode": {
    "name": "ipython",
    "version": 3
   },
   "file_extension": ".py",
   "mimetype": "text/x-python",
   "name": "python",
   "nbconvert_exporter": "python",
   "pygments_lexer": "ipython3",
   "version": "3.12.4"
  }
 },
 "nbformat": 4,
 "nbformat_minor": 5
}
