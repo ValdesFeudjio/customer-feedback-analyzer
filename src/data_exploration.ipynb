{
 "cells": [
  {
   "cell_type": "code",
   "execution_count": 1,
   "id": "b612f33e",
   "metadata": {},
   "outputs": [],
   "source": [
    "import json\n",
    "import spacy\n",
    "import pandas as pd\n",
    "import numpy as np\n",
    "\n",
    "\n",
    "from sklearn.cluster import KMeans\n",
    "from sklearn.decomposition import PCA\n",
    "import matplotlib.pyplot as plt"
   ]
  },
  {
   "cell_type": "code",
   "execution_count": null,
   "id": "e57c4917",
   "metadata": {},
   "outputs": [],
   "source": []
  },
  {
   "cell_type": "markdown",
   "id": "9a0fb0b3",
   "metadata": {},
   "source": [
    "# IMPORTATION ET PREPROCESSING DE LA BASE DE DONNEES"
   ]
  },
  {
   "cell_type": "code",
   "execution_count": 2,
   "id": "55077f68",
   "metadata": {},
   "outputs": [],
   "source": [
    "# 1) Charger un fichier JSON (lecture)\n",
    "data = pd.read_json(\"../data/ensai_2025_req_favoriser_sport.json\", encoding=\"utf‑8\")"
   ]
  },
  {
   "cell_type": "code",
   "execution_count": 3,
   "id": "966d595b",
   "metadata": {},
   "outputs": [
    {
     "data": {
      "text/html": [
       "<div>\n",
       "<style scoped>\n",
       "    .dataframe tbody tr th:only-of-type {\n",
       "        vertical-align: middle;\n",
       "    }\n",
       "\n",
       "    .dataframe tbody tr th {\n",
       "        vertical-align: top;\n",
       "    }\n",
       "\n",
       "    .dataframe thead th {\n",
       "        text-align: right;\n",
       "    }\n",
       "</style>\n",
       "<table border=\"1\" class=\"dataframe\">\n",
       "  <thead>\n",
       "    <tr style=\"text-align: right;\">\n",
       "      <th></th>\n",
       "      <th>total</th>\n",
       "      <th>results</th>\n",
       "      <th>seed</th>\n",
       "    </tr>\n",
       "  </thead>\n",
       "  <tbody>\n",
       "    <tr>\n",
       "      <th>0</th>\n",
       "      <td>1540</td>\n",
       "      <td>{'id': '82d5eb8f-f953-4e16-9015-9b775ff5f292',...</td>\n",
       "      <td>NaN</td>\n",
       "    </tr>\n",
       "    <tr>\n",
       "      <th>1</th>\n",
       "      <td>1540</td>\n",
       "      <td>{'id': '59ff8102-587a-425e-9976-c4d5d6a268fe',...</td>\n",
       "      <td>NaN</td>\n",
       "    </tr>\n",
       "    <tr>\n",
       "      <th>2</th>\n",
       "      <td>1540</td>\n",
       "      <td>{'id': '66b19692-f947-44c9-9126-33863021098e',...</td>\n",
       "      <td>NaN</td>\n",
       "    </tr>\n",
       "    <tr>\n",
       "      <th>3</th>\n",
       "      <td>1540</td>\n",
       "      <td>{'id': '97c4c337-15d4-4c6e-a108-aefcedeb1666',...</td>\n",
       "      <td>NaN</td>\n",
       "    </tr>\n",
       "    <tr>\n",
       "      <th>4</th>\n",
       "      <td>1540</td>\n",
       "      <td>{'id': '9f71ce59-200c-450a-8987-399eee4fb1dd',...</td>\n",
       "      <td>NaN</td>\n",
       "    </tr>\n",
       "  </tbody>\n",
       "</table>\n",
       "</div>"
      ],
      "text/plain": [
       "   total                                            results  seed\n",
       "0   1540  {'id': '82d5eb8f-f953-4e16-9015-9b775ff5f292',...   NaN\n",
       "1   1540  {'id': '59ff8102-587a-425e-9976-c4d5d6a268fe',...   NaN\n",
       "2   1540  {'id': '66b19692-f947-44c9-9126-33863021098e',...   NaN\n",
       "3   1540  {'id': '97c4c337-15d4-4c6e-a108-aefcedeb1666',...   NaN\n",
       "4   1540  {'id': '9f71ce59-200c-450a-8987-399eee4fb1dd',...   NaN"
      ]
     },
     "execution_count": 3,
     "metadata": {},
     "output_type": "execute_result"
    }
   ],
   "source": [
    "data.head()"
   ]
  },
  {
   "cell_type": "code",
   "execution_count": 4,
   "id": "a19cf82a",
   "metadata": {},
   "outputs": [
    {
     "data": {
      "text/html": [
       "<div>\n",
       "<style scoped>\n",
       "    .dataframe tbody tr th:only-of-type {\n",
       "        vertical-align: middle;\n",
       "    }\n",
       "\n",
       "    .dataframe tbody tr th {\n",
       "        vertical-align: top;\n",
       "    }\n",
       "\n",
       "    .dataframe thead th {\n",
       "        text-align: right;\n",
       "    }\n",
       "</style>\n",
       "<table border=\"1\" class=\"dataframe\">\n",
       "  <thead>\n",
       "    <tr style=\"text-align: right;\">\n",
       "      <th></th>\n",
       "      <th>total</th>\n",
       "      <th>seed</th>\n",
       "    </tr>\n",
       "  </thead>\n",
       "  <tbody>\n",
       "    <tr>\n",
       "      <th>count</th>\n",
       "      <td>1540.0</td>\n",
       "      <td>0.0</td>\n",
       "    </tr>\n",
       "    <tr>\n",
       "      <th>mean</th>\n",
       "      <td>1540.0</td>\n",
       "      <td>NaN</td>\n",
       "    </tr>\n",
       "    <tr>\n",
       "      <th>std</th>\n",
       "      <td>0.0</td>\n",
       "      <td>NaN</td>\n",
       "    </tr>\n",
       "    <tr>\n",
       "      <th>min</th>\n",
       "      <td>1540.0</td>\n",
       "      <td>NaN</td>\n",
       "    </tr>\n",
       "    <tr>\n",
       "      <th>25%</th>\n",
       "      <td>1540.0</td>\n",
       "      <td>NaN</td>\n",
       "    </tr>\n",
       "    <tr>\n",
       "      <th>50%</th>\n",
       "      <td>1540.0</td>\n",
       "      <td>NaN</td>\n",
       "    </tr>\n",
       "    <tr>\n",
       "      <th>75%</th>\n",
       "      <td>1540.0</td>\n",
       "      <td>NaN</td>\n",
       "    </tr>\n",
       "    <tr>\n",
       "      <th>max</th>\n",
       "      <td>1540.0</td>\n",
       "      <td>NaN</td>\n",
       "    </tr>\n",
       "  </tbody>\n",
       "</table>\n",
       "</div>"
      ],
      "text/plain": [
       "        total  seed\n",
       "count  1540.0   0.0\n",
       "mean   1540.0   NaN\n",
       "std       0.0   NaN\n",
       "min    1540.0   NaN\n",
       "25%    1540.0   NaN\n",
       "50%    1540.0   NaN\n",
       "75%    1540.0   NaN\n",
       "max    1540.0   NaN"
      ]
     },
     "execution_count": 4,
     "metadata": {},
     "output_type": "execute_result"
    }
   ],
   "source": [
    "data.describe()"
   ]
  },
  {
   "cell_type": "code",
   "execution_count": 5,
   "id": "45869abb",
   "metadata": {},
   "outputs": [
    {
     "name": "stdout",
     "output_type": "stream",
     "text": [
      "Index(['total', 'results', 'seed'], dtype='object')\n"
     ]
    }
   ],
   "source": [
    "print(data.columns)"
   ]
  },
  {
   "cell_type": "code",
   "execution_count": 6,
   "id": "40cfe195",
   "metadata": {},
   "outputs": [],
   "source": [
    "dic = data.iloc[1,1]"
   ]
  },
  {
   "cell_type": "code",
   "execution_count": 7,
   "id": "5b6c26a1",
   "metadata": {},
   "outputs": [
    {
     "data": {
      "text/plain": [
       "dict_keys(['id', 'content', 'contentLanguage', 'translatedContent', 'translatedLanguage', 'slug', 'status', 'createdAt', 'updatedAt', 'votes', 'context', 'author', 'organisations', 'tags', 'selectedStakeTag', 'myProposal', 'idea', 'question', 'operationId', 'proposalKey', 'keywords'])"
      ]
     },
     "execution_count": 7,
     "metadata": {},
     "output_type": "execute_result"
    }
   ],
   "source": [
    "dic.keys()"
   ]
  },
  {
   "cell_type": "code",
   "execution_count": 8,
   "id": "8419afde",
   "metadata": {},
   "outputs": [],
   "source": [
    "df = data[\"results\"].apply(pd.Series)"
   ]
  },
  {
   "cell_type": "code",
   "execution_count": 9,
   "id": "16f6d13e",
   "metadata": {},
   "outputs": [
    {
     "data": {
      "text/html": [
       "<div>\n",
       "<style scoped>\n",
       "    .dataframe tbody tr th:only-of-type {\n",
       "        vertical-align: middle;\n",
       "    }\n",
       "\n",
       "    .dataframe tbody tr th {\n",
       "        vertical-align: top;\n",
       "    }\n",
       "\n",
       "    .dataframe thead th {\n",
       "        text-align: right;\n",
       "    }\n",
       "</style>\n",
       "<table border=\"1\" class=\"dataframe\">\n",
       "  <thead>\n",
       "    <tr style=\"text-align: right;\">\n",
       "      <th></th>\n",
       "      <th>id</th>\n",
       "      <th>content</th>\n",
       "      <th>contentLanguage</th>\n",
       "      <th>translatedContent</th>\n",
       "      <th>translatedLanguage</th>\n",
       "      <th>slug</th>\n",
       "      <th>status</th>\n",
       "      <th>createdAt</th>\n",
       "      <th>updatedAt</th>\n",
       "      <th>votes</th>\n",
       "      <th>...</th>\n",
       "      <th>author</th>\n",
       "      <th>organisations</th>\n",
       "      <th>tags</th>\n",
       "      <th>selectedStakeTag</th>\n",
       "      <th>myProposal</th>\n",
       "      <th>idea</th>\n",
       "      <th>question</th>\n",
       "      <th>operationId</th>\n",
       "      <th>proposalKey</th>\n",
       "      <th>keywords</th>\n",
       "    </tr>\n",
       "  </thead>\n",
       "  <tbody>\n",
       "    <tr>\n",
       "      <th>0</th>\n",
       "      <td>82d5eb8f-f953-4e16-9015-9b775ff5f292</td>\n",
       "      <td>Il faut inciter les Français à s'équiper de mo...</td>\n",
       "      <td>fr</td>\n",
       "      <td>None</td>\n",
       "      <td>None</td>\n",
       "      <td>il-faut-inciter-les-francais-a-s-equiper-de-mo...</td>\n",
       "      <td>Accepted</td>\n",
       "      <td>2024-04-01T07:07:29.747Z</td>\n",
       "      <td>2024-04-04T13:48:06.671Z</td>\n",
       "      <td>[{'voteKey': 'agree', 'count': 0, 'score': 0.0...</td>\n",
       "      <td>...</td>\n",
       "      <td>{'userId': '4fad3035-1a13-4ed5-b81a-e1f400e7c6...</td>\n",
       "      <td>[]</td>\n",
       "      <td>[]</td>\n",
       "      <td>None</td>\n",
       "      <td>False</td>\n",
       "      <td>None</td>\n",
       "      <td>{'questionId': '9ccd072f-80e3-45dc-88cb-7b2428...</td>\n",
       "      <td>31297186-cb6d-4b0f-8bf5-0966afad5c97</td>\n",
       "      <td>7c09df8394050ca9d4d51299848e4d415e262904b64d5a...</td>\n",
       "      <td>[]</td>\n",
       "    </tr>\n",
       "    <tr>\n",
       "      <th>1</th>\n",
       "      <td>59ff8102-587a-425e-9976-c4d5d6a268fe</td>\n",
       "      <td>Il faut demander aux sportifs de haut niveau d...</td>\n",
       "      <td>fr</td>\n",
       "      <td>None</td>\n",
       "      <td>None</td>\n",
       "      <td>il-faut-demander-aux-sportifs-de-haut-niveau-d...</td>\n",
       "      <td>Accepted</td>\n",
       "      <td>2024-03-25T17:30:50.114Z</td>\n",
       "      <td>2024-03-27T11:55:43.793Z</td>\n",
       "      <td>[{'voteKey': 'agree', 'count': 39, 'score': 0....</td>\n",
       "      <td>...</td>\n",
       "      <td>{'userId': 'e1606f3c-5d45-4a0e-b2da-7455125ca2...</td>\n",
       "      <td>[]</td>\n",
       "      <td>[]</td>\n",
       "      <td>None</td>\n",
       "      <td>False</td>\n",
       "      <td>None</td>\n",
       "      <td>{'questionId': '9ccd072f-80e3-45dc-88cb-7b2428...</td>\n",
       "      <td>31297186-cb6d-4b0f-8bf5-0966afad5c97</td>\n",
       "      <td>55346575f9c9043695e8a51987848cc5ed0ba6e769af81...</td>\n",
       "      <td>[]</td>\n",
       "    </tr>\n",
       "    <tr>\n",
       "      <th>2</th>\n",
       "      <td>66b19692-f947-44c9-9126-33863021098e</td>\n",
       "      <td>Il faut piétonniser des rues ou routes ou boul...</td>\n",
       "      <td>fr</td>\n",
       "      <td>None</td>\n",
       "      <td>None</td>\n",
       "      <td>il-faut-pietonniser-des-rues-ou-routes-ou-boul...</td>\n",
       "      <td>Accepted</td>\n",
       "      <td>2024-03-24T10:05:38.434Z</td>\n",
       "      <td>2024-03-27T11:49:34.740Z</td>\n",
       "      <td>[{'voteKey': 'agree', 'count': 47, 'score': 0....</td>\n",
       "      <td>...</td>\n",
       "      <td>{'userId': 'b3589dd5-a215-481a-983c-0e4dff1e07...</td>\n",
       "      <td>[]</td>\n",
       "      <td>[]</td>\n",
       "      <td>None</td>\n",
       "      <td>False</td>\n",
       "      <td>None</td>\n",
       "      <td>{'questionId': '9ccd072f-80e3-45dc-88cb-7b2428...</td>\n",
       "      <td>31297186-cb6d-4b0f-8bf5-0966afad5c97</td>\n",
       "      <td>74af4270834811e803846bc54b259696397d2c6834211e...</td>\n",
       "      <td>[]</td>\n",
       "    </tr>\n",
       "    <tr>\n",
       "      <th>3</th>\n",
       "      <td>97c4c337-15d4-4c6e-a108-aefcedeb1666</td>\n",
       "      <td>Il faut organiser des compétitions inter-entre...</td>\n",
       "      <td>fr</td>\n",
       "      <td>None</td>\n",
       "      <td>None</td>\n",
       "      <td>il-faut-organiser-des-competitions-inter-entre...</td>\n",
       "      <td>Accepted</td>\n",
       "      <td>2024-01-29T10:13:07.672Z</td>\n",
       "      <td>2024-04-09T09:18:23.844Z</td>\n",
       "      <td>[{'voteKey': 'agree', 'count': 210, 'score': 0...</td>\n",
       "      <td>...</td>\n",
       "      <td>{'userId': '22448ef2-cae9-42b5-9663-3bcd333fa2...</td>\n",
       "      <td>[]</td>\n",
       "      <td>[{'tagId': '61c27abb-cdbe-404d-96aa-5cbb7dbc7c...</td>\n",
       "      <td>{'tagId': 'd2398cb5-3271-4e40-b28c-fcefbf08c5d...</td>\n",
       "      <td>False</td>\n",
       "      <td>None</td>\n",
       "      <td>{'questionId': '9ccd072f-80e3-45dc-88cb-7b2428...</td>\n",
       "      <td>31297186-cb6d-4b0f-8bf5-0966afad5c97</td>\n",
       "      <td>60feedad89a1827a6b6084a881a24e192d0db95342eba5...</td>\n",
       "      <td>[]</td>\n",
       "    </tr>\n",
       "    <tr>\n",
       "      <th>4</th>\n",
       "      <td>9f71ce59-200c-450a-8987-399eee4fb1dd</td>\n",
       "      <td>Il faut éduquer dès le plus jeune âge les enfa...</td>\n",
       "      <td>fr</td>\n",
       "      <td>None</td>\n",
       "      <td>None</td>\n",
       "      <td>il-faut-eduquer-des-le-plus-jeune-age-les-enfa...</td>\n",
       "      <td>Accepted</td>\n",
       "      <td>2024-03-28T08:51:45.459Z</td>\n",
       "      <td>2024-03-29T15:25:37.970Z</td>\n",
       "      <td>[{'voteKey': 'agree', 'count': 69, 'score': 0....</td>\n",
       "      <td>...</td>\n",
       "      <td>{'userId': 'cbc394ac-1fe0-48e0-ac3f-8b463ed719...</td>\n",
       "      <td>[]</td>\n",
       "      <td>[]</td>\n",
       "      <td>None</td>\n",
       "      <td>False</td>\n",
       "      <td>None</td>\n",
       "      <td>{'questionId': '9ccd072f-80e3-45dc-88cb-7b2428...</td>\n",
       "      <td>31297186-cb6d-4b0f-8bf5-0966afad5c97</td>\n",
       "      <td>504c8ce83f1578631555421219a7067649a12dba3d3af2...</td>\n",
       "      <td>[]</td>\n",
       "    </tr>\n",
       "  </tbody>\n",
       "</table>\n",
       "<p>5 rows × 21 columns</p>\n",
       "</div>"
      ],
      "text/plain": [
       "                                     id  \\\n",
       "0  82d5eb8f-f953-4e16-9015-9b775ff5f292   \n",
       "1  59ff8102-587a-425e-9976-c4d5d6a268fe   \n",
       "2  66b19692-f947-44c9-9126-33863021098e   \n",
       "3  97c4c337-15d4-4c6e-a108-aefcedeb1666   \n",
       "4  9f71ce59-200c-450a-8987-399eee4fb1dd   \n",
       "\n",
       "                                             content contentLanguage  \\\n",
       "0  Il faut inciter les Français à s'équiper de mo...              fr   \n",
       "1  Il faut demander aux sportifs de haut niveau d...              fr   \n",
       "2  Il faut piétonniser des rues ou routes ou boul...              fr   \n",
       "3  Il faut organiser des compétitions inter-entre...              fr   \n",
       "4  Il faut éduquer dès le plus jeune âge les enfa...              fr   \n",
       "\n",
       "  translatedContent translatedLanguage  \\\n",
       "0              None               None   \n",
       "1              None               None   \n",
       "2              None               None   \n",
       "3              None               None   \n",
       "4              None               None   \n",
       "\n",
       "                                                slug    status  \\\n",
       "0  il-faut-inciter-les-francais-a-s-equiper-de-mo...  Accepted   \n",
       "1  il-faut-demander-aux-sportifs-de-haut-niveau-d...  Accepted   \n",
       "2  il-faut-pietonniser-des-rues-ou-routes-ou-boul...  Accepted   \n",
       "3  il-faut-organiser-des-competitions-inter-entre...  Accepted   \n",
       "4  il-faut-eduquer-des-le-plus-jeune-age-les-enfa...  Accepted   \n",
       "\n",
       "                  createdAt                 updatedAt  \\\n",
       "0  2024-04-01T07:07:29.747Z  2024-04-04T13:48:06.671Z   \n",
       "1  2024-03-25T17:30:50.114Z  2024-03-27T11:55:43.793Z   \n",
       "2  2024-03-24T10:05:38.434Z  2024-03-27T11:49:34.740Z   \n",
       "3  2024-01-29T10:13:07.672Z  2024-04-09T09:18:23.844Z   \n",
       "4  2024-03-28T08:51:45.459Z  2024-03-29T15:25:37.970Z   \n",
       "\n",
       "                                               votes  ...  \\\n",
       "0  [{'voteKey': 'agree', 'count': 0, 'score': 0.0...  ...   \n",
       "1  [{'voteKey': 'agree', 'count': 39, 'score': 0....  ...   \n",
       "2  [{'voteKey': 'agree', 'count': 47, 'score': 0....  ...   \n",
       "3  [{'voteKey': 'agree', 'count': 210, 'score': 0...  ...   \n",
       "4  [{'voteKey': 'agree', 'count': 69, 'score': 0....  ...   \n",
       "\n",
       "                                              author organisations  \\\n",
       "0  {'userId': '4fad3035-1a13-4ed5-b81a-e1f400e7c6...            []   \n",
       "1  {'userId': 'e1606f3c-5d45-4a0e-b2da-7455125ca2...            []   \n",
       "2  {'userId': 'b3589dd5-a215-481a-983c-0e4dff1e07...            []   \n",
       "3  {'userId': '22448ef2-cae9-42b5-9663-3bcd333fa2...            []   \n",
       "4  {'userId': 'cbc394ac-1fe0-48e0-ac3f-8b463ed719...            []   \n",
       "\n",
       "                                                tags  \\\n",
       "0                                                 []   \n",
       "1                                                 []   \n",
       "2                                                 []   \n",
       "3  [{'tagId': '61c27abb-cdbe-404d-96aa-5cbb7dbc7c...   \n",
       "4                                                 []   \n",
       "\n",
       "                                    selectedStakeTag myProposal  idea  \\\n",
       "0                                               None      False  None   \n",
       "1                                               None      False  None   \n",
       "2                                               None      False  None   \n",
       "3  {'tagId': 'd2398cb5-3271-4e40-b28c-fcefbf08c5d...      False  None   \n",
       "4                                               None      False  None   \n",
       "\n",
       "                                            question  \\\n",
       "0  {'questionId': '9ccd072f-80e3-45dc-88cb-7b2428...   \n",
       "1  {'questionId': '9ccd072f-80e3-45dc-88cb-7b2428...   \n",
       "2  {'questionId': '9ccd072f-80e3-45dc-88cb-7b2428...   \n",
       "3  {'questionId': '9ccd072f-80e3-45dc-88cb-7b2428...   \n",
       "4  {'questionId': '9ccd072f-80e3-45dc-88cb-7b2428...   \n",
       "\n",
       "                            operationId  \\\n",
       "0  31297186-cb6d-4b0f-8bf5-0966afad5c97   \n",
       "1  31297186-cb6d-4b0f-8bf5-0966afad5c97   \n",
       "2  31297186-cb6d-4b0f-8bf5-0966afad5c97   \n",
       "3  31297186-cb6d-4b0f-8bf5-0966afad5c97   \n",
       "4  31297186-cb6d-4b0f-8bf5-0966afad5c97   \n",
       "\n",
       "                                         proposalKey keywords  \n",
       "0  7c09df8394050ca9d4d51299848e4d415e262904b64d5a...       []  \n",
       "1  55346575f9c9043695e8a51987848cc5ed0ba6e769af81...       []  \n",
       "2  74af4270834811e803846bc54b259696397d2c6834211e...       []  \n",
       "3  60feedad89a1827a6b6084a881a24e192d0db95342eba5...       []  \n",
       "4  504c8ce83f1578631555421219a7067649a12dba3d3af2...       []  \n",
       "\n",
       "[5 rows x 21 columns]"
      ]
     },
     "execution_count": 9,
     "metadata": {},
     "output_type": "execute_result"
    }
   ],
   "source": [
    "df.head()"
   ]
  },
  {
   "cell_type": "code",
   "execution_count": 10,
   "id": "39a73b13",
   "metadata": {},
   "outputs": [
    {
     "data": {
      "text/plain": [
       "{'id': '59ff8102-587a-425e-9976-c4d5d6a268fe',\n",
       " 'content': \"Il faut demander aux sportifs de haut niveau d'expliquer au public en quoi l'exercice physique peut s'avérer essentiel dans la vie.\",\n",
       " 'contentLanguage': 'fr',\n",
       " 'translatedContent': None,\n",
       " 'translatedLanguage': None,\n",
       " 'slug': 'il-faut-demander-aux-sportifs-de-haut-niveau-d-expliquer-au-public-en-quoi-l-exercice-physique-peut-s-averer-essentiel-dans-la-vie',\n",
       " 'status': 'Accepted',\n",
       " 'createdAt': '2024-03-25T17:30:50.114Z',\n",
       " 'updatedAt': '2024-03-27T11:55:43.793Z',\n",
       " 'votes': [{'voteKey': 'agree',\n",
       "   'count': 39,\n",
       "   'score': 0.45,\n",
       "   'qualifications': [{'qualificationKey': 'likeIt',\n",
       "     'count': 6,\n",
       "     'hasQualified': False},\n",
       "    {'qualificationKey': 'platitudeAgree', 'count': 6, 'hasQualified': False},\n",
       "    {'qualificationKey': 'doable', 'count': 14, 'hasQualified': False}],\n",
       "   'hasVoted': False},\n",
       "  {'voteKey': 'neutral',\n",
       "   'count': 29,\n",
       "   'score': 0.34,\n",
       "   'qualifications': [{'qualificationKey': 'noOpinion',\n",
       "     'count': 14,\n",
       "     'hasQualified': False},\n",
       "    {'qualificationKey': 'doNotUnderstand', 'count': 0, 'hasQualified': False},\n",
       "    {'qualificationKey': 'doNotCare', 'count': 9, 'hasQualified': False}],\n",
       "   'hasVoted': False},\n",
       "  {'voteKey': 'disagree',\n",
       "   'count': 19,\n",
       "   'score': 0.21,\n",
       "   'qualifications': [{'qualificationKey': 'impossible',\n",
       "     'count': 2,\n",
       "     'hasQualified': False},\n",
       "    {'qualificationKey': 'noWay', 'count': 5, 'hasQualified': False},\n",
       "    {'qualificationKey': 'platitudeDisagree',\n",
       "     'count': 7,\n",
       "     'hasQualified': False}],\n",
       "   'hasVoted': False}],\n",
       " 'context': {'operation': None,\n",
       "  'source': 'core',\n",
       "  'location': 'sequence',\n",
       "  'questionSlug': 'pratiquedusport',\n",
       "  'country': 'FR',\n",
       "  'questionLanguage': 'fr',\n",
       "  'proposalLanguage': None,\n",
       "  'clientLanguage': 'fr',\n",
       "  'getParameters': []},\n",
       " 'author': {'userId': 'e1606f3c-5d45-4a0e-b2da-7455125ca204',\n",
       "  'firstName': 'Claude',\n",
       "  'displayName': 'Claude',\n",
       "  'organisationName': None,\n",
       "  'organisationSlug': None,\n",
       "  'postalCode': None,\n",
       "  'age': None,\n",
       "  'avatarUrl': 'https://assets.make.org/assets/avatars/2024/3/07d05ba2-ba21-441d-ba8b-0ef9e7dd7a38.jpeg',\n",
       "  'userType': 'USER'},\n",
       " 'organisations': [],\n",
       " 'tags': [],\n",
       " 'selectedStakeTag': None,\n",
       " 'myProposal': False,\n",
       " 'idea': None,\n",
       " 'question': {'questionId': '9ccd072f-80e3-45dc-88cb-7b2428e437be',\n",
       "  'slug': 'pratiquedusport',\n",
       "  'wording': {'title': 'Pratique du sport',\n",
       "   'question': 'Comment favoriser la pratique sportive de tous les Français en 2024 et après ?'},\n",
       "  'countries': ['FR'],\n",
       "  'preferredLanguage': None,\n",
       "  'returnedLanguage': 'fr',\n",
       "  'startDate': '2024-02-27T15:00:00.000Z',\n",
       "  'endDate': '2024-04-28T21:59:00.000Z'},\n",
       " 'operationId': '31297186-cb6d-4b0f-8bf5-0966afad5c97',\n",
       " 'proposalKey': '55346575f9c9043695e8a51987848cc5ed0ba6e769af81fa0c9472a331091c70742b6f4edc9447b74632a25714f3a0c44be3bed7864aa5ec7c5645c0f163bb44',\n",
       " 'keywords': []}"
      ]
     },
     "execution_count": 10,
     "metadata": {},
     "output_type": "execute_result"
    }
   ],
   "source": [
    "dic"
   ]
  },
  {
   "cell_type": "code",
   "execution_count": 11,
   "id": "ad0b18e6",
   "metadata": {},
   "outputs": [
    {
     "data": {
      "text/plain": [
       "keywords\n",
       "[]                                                                                                                                                                                   765\n",
       "[{'key': 'sport', 'label': 'Sport'}]                                                                                                                                                 507\n",
       "[{'key': 'activité', 'label': 'Activités'}]                                                                                                                                           96\n",
       "[{'key': 'activité physique', 'label': 'Activités physiques'}, {'key': 'activité', 'label': 'Activités'}]                                                                             75\n",
       "[{'key': 'sport', 'label': 'Sport'}, {'key': 'santé', 'label': 'Santé'}]                                                                                                              29\n",
       "[{'key': 'santé', 'label': 'Santé'}]                                                                                                                                                  25\n",
       "[{'key': 'sport', 'label': 'Sport'}, {'key': 'activité', 'label': 'Activités'}]                                                                                                       18\n",
       "[{'key': 'sport', 'label': 'Sport'}, {'key': 'activité physique', 'label': 'Activités physiques'}, {'key': 'activité', 'label': 'Activités'}]                                         12\n",
       "[{'key': 'santé', 'label': 'Santé'}, {'key': 'activité physique', 'label': 'Activités physiques'}, {'key': 'activité', 'label': 'Activités'}]                                          7\n",
       "[{'key': 'santé', 'label': 'Santé'}, {'key': 'activité', 'label': 'Activités'}]                                                                                                        4\n",
       "[{'key': 'sport', 'label': 'Sport'}, {'key': 'santé', 'label': 'Santé'}, {'key': 'activité', 'label': 'Activités'}]                                                                    1\n",
       "[{'key': 'sport', 'label': 'Sport'}, {'key': 'santé', 'label': 'Santé'}, {'key': 'activité physique', 'label': 'Activités physiques'}, {'key': 'activité', 'label': 'Activités'}]      1\n",
       "Name: count, dtype: int64"
      ]
     },
     "execution_count": 11,
     "metadata": {},
     "output_type": "execute_result"
    }
   ],
   "source": [
    "df[\"keywords\"].value_counts()"
   ]
  },
  {
   "cell_type": "code",
   "execution_count": 12,
   "id": "bb52b6df",
   "metadata": {},
   "outputs": [],
   "source": [
    "col = [\"id\", \"content\", \"slug\", \"createdAt\", \"updatedAt\", \"votes\", \"author\"]"
   ]
  },
  {
   "cell_type": "code",
   "execution_count": 13,
   "id": "cbea9a98",
   "metadata": {},
   "outputs": [],
   "source": [
    "df = df[col].copy()"
   ]
  },
  {
   "cell_type": "code",
   "execution_count": 14,
   "id": "2a4348b1",
   "metadata": {},
   "outputs": [
    {
     "data": {
      "text/html": [
       "<div>\n",
       "<style scoped>\n",
       "    .dataframe tbody tr th:only-of-type {\n",
       "        vertical-align: middle;\n",
       "    }\n",
       "\n",
       "    .dataframe tbody tr th {\n",
       "        vertical-align: top;\n",
       "    }\n",
       "\n",
       "    .dataframe thead th {\n",
       "        text-align: right;\n",
       "    }\n",
       "</style>\n",
       "<table border=\"1\" class=\"dataframe\">\n",
       "  <thead>\n",
       "    <tr style=\"text-align: right;\">\n",
       "      <th></th>\n",
       "      <th>id</th>\n",
       "      <th>content</th>\n",
       "      <th>slug</th>\n",
       "      <th>createdAt</th>\n",
       "      <th>updatedAt</th>\n",
       "      <th>votes</th>\n",
       "      <th>author</th>\n",
       "    </tr>\n",
       "  </thead>\n",
       "  <tbody>\n",
       "    <tr>\n",
       "      <th>0</th>\n",
       "      <td>82d5eb8f-f953-4e16-9015-9b775ff5f292</td>\n",
       "      <td>Il faut inciter les Français à s'équiper de mo...</td>\n",
       "      <td>il-faut-inciter-les-francais-a-s-equiper-de-mo...</td>\n",
       "      <td>2024-04-01T07:07:29.747Z</td>\n",
       "      <td>2024-04-04T13:48:06.671Z</td>\n",
       "      <td>[{'voteKey': 'agree', 'count': 0, 'score': 0.0...</td>\n",
       "      <td>{'userId': '4fad3035-1a13-4ed5-b81a-e1f400e7c6...</td>\n",
       "    </tr>\n",
       "    <tr>\n",
       "      <th>1</th>\n",
       "      <td>59ff8102-587a-425e-9976-c4d5d6a268fe</td>\n",
       "      <td>Il faut demander aux sportifs de haut niveau d...</td>\n",
       "      <td>il-faut-demander-aux-sportifs-de-haut-niveau-d...</td>\n",
       "      <td>2024-03-25T17:30:50.114Z</td>\n",
       "      <td>2024-03-27T11:55:43.793Z</td>\n",
       "      <td>[{'voteKey': 'agree', 'count': 39, 'score': 0....</td>\n",
       "      <td>{'userId': 'e1606f3c-5d45-4a0e-b2da-7455125ca2...</td>\n",
       "    </tr>\n",
       "    <tr>\n",
       "      <th>2</th>\n",
       "      <td>66b19692-f947-44c9-9126-33863021098e</td>\n",
       "      <td>Il faut piétonniser des rues ou routes ou boul...</td>\n",
       "      <td>il-faut-pietonniser-des-rues-ou-routes-ou-boul...</td>\n",
       "      <td>2024-03-24T10:05:38.434Z</td>\n",
       "      <td>2024-03-27T11:49:34.740Z</td>\n",
       "      <td>[{'voteKey': 'agree', 'count': 47, 'score': 0....</td>\n",
       "      <td>{'userId': 'b3589dd5-a215-481a-983c-0e4dff1e07...</td>\n",
       "    </tr>\n",
       "    <tr>\n",
       "      <th>3</th>\n",
       "      <td>97c4c337-15d4-4c6e-a108-aefcedeb1666</td>\n",
       "      <td>Il faut organiser des compétitions inter-entre...</td>\n",
       "      <td>il-faut-organiser-des-competitions-inter-entre...</td>\n",
       "      <td>2024-01-29T10:13:07.672Z</td>\n",
       "      <td>2024-04-09T09:18:23.844Z</td>\n",
       "      <td>[{'voteKey': 'agree', 'count': 210, 'score': 0...</td>\n",
       "      <td>{'userId': '22448ef2-cae9-42b5-9663-3bcd333fa2...</td>\n",
       "    </tr>\n",
       "    <tr>\n",
       "      <th>4</th>\n",
       "      <td>9f71ce59-200c-450a-8987-399eee4fb1dd</td>\n",
       "      <td>Il faut éduquer dès le plus jeune âge les enfa...</td>\n",
       "      <td>il-faut-eduquer-des-le-plus-jeune-age-les-enfa...</td>\n",
       "      <td>2024-03-28T08:51:45.459Z</td>\n",
       "      <td>2024-03-29T15:25:37.970Z</td>\n",
       "      <td>[{'voteKey': 'agree', 'count': 69, 'score': 0....</td>\n",
       "      <td>{'userId': 'cbc394ac-1fe0-48e0-ac3f-8b463ed719...</td>\n",
       "    </tr>\n",
       "  </tbody>\n",
       "</table>\n",
       "</div>"
      ],
      "text/plain": [
       "                                     id  \\\n",
       "0  82d5eb8f-f953-4e16-9015-9b775ff5f292   \n",
       "1  59ff8102-587a-425e-9976-c4d5d6a268fe   \n",
       "2  66b19692-f947-44c9-9126-33863021098e   \n",
       "3  97c4c337-15d4-4c6e-a108-aefcedeb1666   \n",
       "4  9f71ce59-200c-450a-8987-399eee4fb1dd   \n",
       "\n",
       "                                             content  \\\n",
       "0  Il faut inciter les Français à s'équiper de mo...   \n",
       "1  Il faut demander aux sportifs de haut niveau d...   \n",
       "2  Il faut piétonniser des rues ou routes ou boul...   \n",
       "3  Il faut organiser des compétitions inter-entre...   \n",
       "4  Il faut éduquer dès le plus jeune âge les enfa...   \n",
       "\n",
       "                                                slug  \\\n",
       "0  il-faut-inciter-les-francais-a-s-equiper-de-mo...   \n",
       "1  il-faut-demander-aux-sportifs-de-haut-niveau-d...   \n",
       "2  il-faut-pietonniser-des-rues-ou-routes-ou-boul...   \n",
       "3  il-faut-organiser-des-competitions-inter-entre...   \n",
       "4  il-faut-eduquer-des-le-plus-jeune-age-les-enfa...   \n",
       "\n",
       "                  createdAt                 updatedAt  \\\n",
       "0  2024-04-01T07:07:29.747Z  2024-04-04T13:48:06.671Z   \n",
       "1  2024-03-25T17:30:50.114Z  2024-03-27T11:55:43.793Z   \n",
       "2  2024-03-24T10:05:38.434Z  2024-03-27T11:49:34.740Z   \n",
       "3  2024-01-29T10:13:07.672Z  2024-04-09T09:18:23.844Z   \n",
       "4  2024-03-28T08:51:45.459Z  2024-03-29T15:25:37.970Z   \n",
       "\n",
       "                                               votes  \\\n",
       "0  [{'voteKey': 'agree', 'count': 0, 'score': 0.0...   \n",
       "1  [{'voteKey': 'agree', 'count': 39, 'score': 0....   \n",
       "2  [{'voteKey': 'agree', 'count': 47, 'score': 0....   \n",
       "3  [{'voteKey': 'agree', 'count': 210, 'score': 0...   \n",
       "4  [{'voteKey': 'agree', 'count': 69, 'score': 0....   \n",
       "\n",
       "                                              author  \n",
       "0  {'userId': '4fad3035-1a13-4ed5-b81a-e1f400e7c6...  \n",
       "1  {'userId': 'e1606f3c-5d45-4a0e-b2da-7455125ca2...  \n",
       "2  {'userId': 'b3589dd5-a215-481a-983c-0e4dff1e07...  \n",
       "3  {'userId': '22448ef2-cae9-42b5-9663-3bcd333fa2...  \n",
       "4  {'userId': 'cbc394ac-1fe0-48e0-ac3f-8b463ed719...  "
      ]
     },
     "execution_count": 14,
     "metadata": {},
     "output_type": "execute_result"
    }
   ],
   "source": [
    "df.head()"
   ]
  },
  {
   "cell_type": "code",
   "execution_count": 15,
   "id": "2ad77168",
   "metadata": {},
   "outputs": [],
   "source": [
    "def votes(raw) :\n",
    "    liste = []\n",
    "    for r in raw :\n",
    "        r_count = r[\"count\"]\n",
    "        qualif_r = [c[\"count\"] for c in r[\"qualifications\"]]\n",
    "        liste.append((r_count,(qualif_r)))\n",
    "    return liste\n",
    "\n",
    "    "
   ]
  },
  {
   "cell_type": "code",
   "execution_count": 16,
   "id": "737bdb12",
   "metadata": {},
   "outputs": [],
   "source": [
    "df[\"vote_ajusted\"]=df['votes'].apply(votes)"
   ]
  },
  {
   "cell_type": "code",
   "execution_count": 17,
   "id": "60821a35",
   "metadata": {},
   "outputs": [],
   "source": [
    "df[\"vote_agree\"] = df[\"vote_ajusted\"].str[0]\n",
    "df[\"vote_neutral\"] = df[\"vote_ajusted\"].str[1]\n",
    "df[\"vote_disagree\"] = df[\"vote_ajusted\"].str[2]"
   ]
  },
  {
   "cell_type": "code",
   "execution_count": 18,
   "id": "9bcb1085",
   "metadata": {},
   "outputs": [
    {
     "data": {
      "text/html": [
       "<div>\n",
       "<style scoped>\n",
       "    .dataframe tbody tr th:only-of-type {\n",
       "        vertical-align: middle;\n",
       "    }\n",
       "\n",
       "    .dataframe tbody tr th {\n",
       "        vertical-align: top;\n",
       "    }\n",
       "\n",
       "    .dataframe thead th {\n",
       "        text-align: right;\n",
       "    }\n",
       "</style>\n",
       "<table border=\"1\" class=\"dataframe\">\n",
       "  <thead>\n",
       "    <tr style=\"text-align: right;\">\n",
       "      <th></th>\n",
       "      <th>id</th>\n",
       "      <th>content</th>\n",
       "      <th>slug</th>\n",
       "      <th>createdAt</th>\n",
       "      <th>updatedAt</th>\n",
       "      <th>votes</th>\n",
       "      <th>author</th>\n",
       "      <th>vote_ajusted</th>\n",
       "      <th>vote_agree</th>\n",
       "      <th>vote_neutral</th>\n",
       "      <th>vote_disagree</th>\n",
       "    </tr>\n",
       "  </thead>\n",
       "  <tbody>\n",
       "    <tr>\n",
       "      <th>0</th>\n",
       "      <td>82d5eb8f-f953-4e16-9015-9b775ff5f292</td>\n",
       "      <td>Il faut inciter les Français à s'équiper de mo...</td>\n",
       "      <td>il-faut-inciter-les-francais-a-s-equiper-de-mo...</td>\n",
       "      <td>2024-04-01T07:07:29.747Z</td>\n",
       "      <td>2024-04-04T13:48:06.671Z</td>\n",
       "      <td>[{'voteKey': 'agree', 'count': 0, 'score': 0.0...</td>\n",
       "      <td>{'userId': '4fad3035-1a13-4ed5-b81a-e1f400e7c6...</td>\n",
       "      <td>[(0, [0, 0, 0]), (6, [1, 0, 3]), (10, [1, 5, 3])]</td>\n",
       "      <td>(0, [0, 0, 0])</td>\n",
       "      <td>(6, [1, 0, 3])</td>\n",
       "      <td>(10, [1, 5, 3])</td>\n",
       "    </tr>\n",
       "    <tr>\n",
       "      <th>1</th>\n",
       "      <td>59ff8102-587a-425e-9976-c4d5d6a268fe</td>\n",
       "      <td>Il faut demander aux sportifs de haut niveau d...</td>\n",
       "      <td>il-faut-demander-aux-sportifs-de-haut-niveau-d...</td>\n",
       "      <td>2024-03-25T17:30:50.114Z</td>\n",
       "      <td>2024-03-27T11:55:43.793Z</td>\n",
       "      <td>[{'voteKey': 'agree', 'count': 39, 'score': 0....</td>\n",
       "      <td>{'userId': 'e1606f3c-5d45-4a0e-b2da-7455125ca2...</td>\n",
       "      <td>[(39, [6, 6, 14]), (29, [14, 0, 9]), (19, [2, ...</td>\n",
       "      <td>(39, [6, 6, 14])</td>\n",
       "      <td>(29, [14, 0, 9])</td>\n",
       "      <td>(19, [2, 5, 7])</td>\n",
       "    </tr>\n",
       "    <tr>\n",
       "      <th>2</th>\n",
       "      <td>66b19692-f947-44c9-9126-33863021098e</td>\n",
       "      <td>Il faut piétonniser des rues ou routes ou boul...</td>\n",
       "      <td>il-faut-pietonniser-des-rues-ou-routes-ou-boul...</td>\n",
       "      <td>2024-03-24T10:05:38.434Z</td>\n",
       "      <td>2024-03-27T11:49:34.740Z</td>\n",
       "      <td>[{'voteKey': 'agree', 'count': 47, 'score': 0....</td>\n",
       "      <td>{'userId': 'b3589dd5-a215-481a-983c-0e4dff1e07...</td>\n",
       "      <td>[(47, [13, 4, 16]), (18, [7, 2, 3]), (18, [2, ...</td>\n",
       "      <td>(47, [13, 4, 16])</td>\n",
       "      <td>(18, [7, 2, 3])</td>\n",
       "      <td>(18, [2, 8, 3])</td>\n",
       "    </tr>\n",
       "    <tr>\n",
       "      <th>3</th>\n",
       "      <td>97c4c337-15d4-4c6e-a108-aefcedeb1666</td>\n",
       "      <td>Il faut organiser des compétitions inter-entre...</td>\n",
       "      <td>il-faut-organiser-des-competitions-inter-entre...</td>\n",
       "      <td>2024-01-29T10:13:07.672Z</td>\n",
       "      <td>2024-04-09T09:18:23.844Z</td>\n",
       "      <td>[{'voteKey': 'agree', 'count': 210, 'score': 0...</td>\n",
       "      <td>{'userId': '22448ef2-cae9-42b5-9663-3bcd333fa2...</td>\n",
       "      <td>[(210, [38, 21, 60]), (155, [48, 4, 52]), (205...</td>\n",
       "      <td>(210, [38, 21, 60])</td>\n",
       "      <td>(155, [48, 4, 52])</td>\n",
       "      <td>(205, [41, 57, 62])</td>\n",
       "    </tr>\n",
       "    <tr>\n",
       "      <th>4</th>\n",
       "      <td>9f71ce59-200c-450a-8987-399eee4fb1dd</td>\n",
       "      <td>Il faut éduquer dès le plus jeune âge les enfa...</td>\n",
       "      <td>il-faut-eduquer-des-le-plus-jeune-age-les-enfa...</td>\n",
       "      <td>2024-03-28T08:51:45.459Z</td>\n",
       "      <td>2024-03-29T15:25:37.970Z</td>\n",
       "      <td>[{'voteKey': 'agree', 'count': 69, 'score': 0....</td>\n",
       "      <td>{'userId': 'cbc394ac-1fe0-48e0-ac3f-8b463ed719...</td>\n",
       "      <td>[(69, [14, 6, 24]), (13, [2, 6, 3]), (4, [0, 1...</td>\n",
       "      <td>(69, [14, 6, 24])</td>\n",
       "      <td>(13, [2, 6, 3])</td>\n",
       "      <td>(4, [0, 1, 3])</td>\n",
       "    </tr>\n",
       "  </tbody>\n",
       "</table>\n",
       "</div>"
      ],
      "text/plain": [
       "                                     id  \\\n",
       "0  82d5eb8f-f953-4e16-9015-9b775ff5f292   \n",
       "1  59ff8102-587a-425e-9976-c4d5d6a268fe   \n",
       "2  66b19692-f947-44c9-9126-33863021098e   \n",
       "3  97c4c337-15d4-4c6e-a108-aefcedeb1666   \n",
       "4  9f71ce59-200c-450a-8987-399eee4fb1dd   \n",
       "\n",
       "                                             content  \\\n",
       "0  Il faut inciter les Français à s'équiper de mo...   \n",
       "1  Il faut demander aux sportifs de haut niveau d...   \n",
       "2  Il faut piétonniser des rues ou routes ou boul...   \n",
       "3  Il faut organiser des compétitions inter-entre...   \n",
       "4  Il faut éduquer dès le plus jeune âge les enfa...   \n",
       "\n",
       "                                                slug  \\\n",
       "0  il-faut-inciter-les-francais-a-s-equiper-de-mo...   \n",
       "1  il-faut-demander-aux-sportifs-de-haut-niveau-d...   \n",
       "2  il-faut-pietonniser-des-rues-ou-routes-ou-boul...   \n",
       "3  il-faut-organiser-des-competitions-inter-entre...   \n",
       "4  il-faut-eduquer-des-le-plus-jeune-age-les-enfa...   \n",
       "\n",
       "                  createdAt                 updatedAt  \\\n",
       "0  2024-04-01T07:07:29.747Z  2024-04-04T13:48:06.671Z   \n",
       "1  2024-03-25T17:30:50.114Z  2024-03-27T11:55:43.793Z   \n",
       "2  2024-03-24T10:05:38.434Z  2024-03-27T11:49:34.740Z   \n",
       "3  2024-01-29T10:13:07.672Z  2024-04-09T09:18:23.844Z   \n",
       "4  2024-03-28T08:51:45.459Z  2024-03-29T15:25:37.970Z   \n",
       "\n",
       "                                               votes  \\\n",
       "0  [{'voteKey': 'agree', 'count': 0, 'score': 0.0...   \n",
       "1  [{'voteKey': 'agree', 'count': 39, 'score': 0....   \n",
       "2  [{'voteKey': 'agree', 'count': 47, 'score': 0....   \n",
       "3  [{'voteKey': 'agree', 'count': 210, 'score': 0...   \n",
       "4  [{'voteKey': 'agree', 'count': 69, 'score': 0....   \n",
       "\n",
       "                                              author  \\\n",
       "0  {'userId': '4fad3035-1a13-4ed5-b81a-e1f400e7c6...   \n",
       "1  {'userId': 'e1606f3c-5d45-4a0e-b2da-7455125ca2...   \n",
       "2  {'userId': 'b3589dd5-a215-481a-983c-0e4dff1e07...   \n",
       "3  {'userId': '22448ef2-cae9-42b5-9663-3bcd333fa2...   \n",
       "4  {'userId': 'cbc394ac-1fe0-48e0-ac3f-8b463ed719...   \n",
       "\n",
       "                                        vote_ajusted           vote_agree  \\\n",
       "0  [(0, [0, 0, 0]), (6, [1, 0, 3]), (10, [1, 5, 3])]       (0, [0, 0, 0])   \n",
       "1  [(39, [6, 6, 14]), (29, [14, 0, 9]), (19, [2, ...     (39, [6, 6, 14])   \n",
       "2  [(47, [13, 4, 16]), (18, [7, 2, 3]), (18, [2, ...    (47, [13, 4, 16])   \n",
       "3  [(210, [38, 21, 60]), (155, [48, 4, 52]), (205...  (210, [38, 21, 60])   \n",
       "4  [(69, [14, 6, 24]), (13, [2, 6, 3]), (4, [0, 1...    (69, [14, 6, 24])   \n",
       "\n",
       "         vote_neutral        vote_disagree  \n",
       "0      (6, [1, 0, 3])      (10, [1, 5, 3])  \n",
       "1    (29, [14, 0, 9])      (19, [2, 5, 7])  \n",
       "2     (18, [7, 2, 3])      (18, [2, 8, 3])  \n",
       "3  (155, [48, 4, 52])  (205, [41, 57, 62])  \n",
       "4     (13, [2, 6, 3])       (4, [0, 1, 3])  "
      ]
     },
     "execution_count": 18,
     "metadata": {},
     "output_type": "execute_result"
    }
   ],
   "source": [
    "df.head()"
   ]
  },
  {
   "cell_type": "code",
   "execution_count": 19,
   "id": "56fcfc24",
   "metadata": {},
   "outputs": [
    {
     "data": {
      "text/plain": [
       "[{'voteKey': 'agree',\n",
       "  'count': 39,\n",
       "  'score': 0.45,\n",
       "  'qualifications': [{'qualificationKey': 'likeIt',\n",
       "    'count': 6,\n",
       "    'hasQualified': False},\n",
       "   {'qualificationKey': 'platitudeAgree', 'count': 6, 'hasQualified': False},\n",
       "   {'qualificationKey': 'doable', 'count': 14, 'hasQualified': False}],\n",
       "  'hasVoted': False},\n",
       " {'voteKey': 'neutral',\n",
       "  'count': 29,\n",
       "  'score': 0.34,\n",
       "  'qualifications': [{'qualificationKey': 'noOpinion',\n",
       "    'count': 14,\n",
       "    'hasQualified': False},\n",
       "   {'qualificationKey': 'doNotUnderstand', 'count': 0, 'hasQualified': False},\n",
       "   {'qualificationKey': 'doNotCare', 'count': 9, 'hasQualified': False}],\n",
       "  'hasVoted': False},\n",
       " {'voteKey': 'disagree',\n",
       "  'count': 19,\n",
       "  'score': 0.21,\n",
       "  'qualifications': [{'qualificationKey': 'impossible',\n",
       "    'count': 2,\n",
       "    'hasQualified': False},\n",
       "   {'qualificationKey': 'noWay', 'count': 5, 'hasQualified': False},\n",
       "   {'qualificationKey': 'platitudeDisagree',\n",
       "    'count': 7,\n",
       "    'hasQualified': False}],\n",
       "  'hasVoted': False}]"
      ]
     },
     "execution_count": 19,
     "metadata": {},
     "output_type": "execute_result"
    }
   ],
   "source": [
    "dic['votes']\n"
   ]
  },
  {
   "cell_type": "code",
   "execution_count": null,
   "id": "c6344fd2",
   "metadata": {},
   "outputs": [],
   "source": []
  },
  {
   "cell_type": "code",
   "execution_count": 20,
   "id": "77c09607",
   "metadata": {},
   "outputs": [],
   "source": [
    "df = df.drop(columns=[\"votes\", \"vote_ajusted\"])"
   ]
  },
  {
   "cell_type": "code",
   "execution_count": 21,
   "id": "5c246bbc",
   "metadata": {},
   "outputs": [
    {
     "data": {
      "text/html": [
       "<div>\n",
       "<style scoped>\n",
       "    .dataframe tbody tr th:only-of-type {\n",
       "        vertical-align: middle;\n",
       "    }\n",
       "\n",
       "    .dataframe tbody tr th {\n",
       "        vertical-align: top;\n",
       "    }\n",
       "\n",
       "    .dataframe thead th {\n",
       "        text-align: right;\n",
       "    }\n",
       "</style>\n",
       "<table border=\"1\" class=\"dataframe\">\n",
       "  <thead>\n",
       "    <tr style=\"text-align: right;\">\n",
       "      <th></th>\n",
       "      <th>id</th>\n",
       "      <th>content</th>\n",
       "      <th>slug</th>\n",
       "      <th>createdAt</th>\n",
       "      <th>updatedAt</th>\n",
       "      <th>author</th>\n",
       "      <th>vote_agree</th>\n",
       "      <th>vote_neutral</th>\n",
       "      <th>vote_disagree</th>\n",
       "    </tr>\n",
       "  </thead>\n",
       "  <tbody>\n",
       "    <tr>\n",
       "      <th>0</th>\n",
       "      <td>82d5eb8f-f953-4e16-9015-9b775ff5f292</td>\n",
       "      <td>Il faut inciter les Français à s'équiper de mo...</td>\n",
       "      <td>il-faut-inciter-les-francais-a-s-equiper-de-mo...</td>\n",
       "      <td>2024-04-01T07:07:29.747Z</td>\n",
       "      <td>2024-04-04T13:48:06.671Z</td>\n",
       "      <td>{'userId': '4fad3035-1a13-4ed5-b81a-e1f400e7c6...</td>\n",
       "      <td>(0, [0, 0, 0])</td>\n",
       "      <td>(6, [1, 0, 3])</td>\n",
       "      <td>(10, [1, 5, 3])</td>\n",
       "    </tr>\n",
       "    <tr>\n",
       "      <th>1</th>\n",
       "      <td>59ff8102-587a-425e-9976-c4d5d6a268fe</td>\n",
       "      <td>Il faut demander aux sportifs de haut niveau d...</td>\n",
       "      <td>il-faut-demander-aux-sportifs-de-haut-niveau-d...</td>\n",
       "      <td>2024-03-25T17:30:50.114Z</td>\n",
       "      <td>2024-03-27T11:55:43.793Z</td>\n",
       "      <td>{'userId': 'e1606f3c-5d45-4a0e-b2da-7455125ca2...</td>\n",
       "      <td>(39, [6, 6, 14])</td>\n",
       "      <td>(29, [14, 0, 9])</td>\n",
       "      <td>(19, [2, 5, 7])</td>\n",
       "    </tr>\n",
       "    <tr>\n",
       "      <th>2</th>\n",
       "      <td>66b19692-f947-44c9-9126-33863021098e</td>\n",
       "      <td>Il faut piétonniser des rues ou routes ou boul...</td>\n",
       "      <td>il-faut-pietonniser-des-rues-ou-routes-ou-boul...</td>\n",
       "      <td>2024-03-24T10:05:38.434Z</td>\n",
       "      <td>2024-03-27T11:49:34.740Z</td>\n",
       "      <td>{'userId': 'b3589dd5-a215-481a-983c-0e4dff1e07...</td>\n",
       "      <td>(47, [13, 4, 16])</td>\n",
       "      <td>(18, [7, 2, 3])</td>\n",
       "      <td>(18, [2, 8, 3])</td>\n",
       "    </tr>\n",
       "    <tr>\n",
       "      <th>3</th>\n",
       "      <td>97c4c337-15d4-4c6e-a108-aefcedeb1666</td>\n",
       "      <td>Il faut organiser des compétitions inter-entre...</td>\n",
       "      <td>il-faut-organiser-des-competitions-inter-entre...</td>\n",
       "      <td>2024-01-29T10:13:07.672Z</td>\n",
       "      <td>2024-04-09T09:18:23.844Z</td>\n",
       "      <td>{'userId': '22448ef2-cae9-42b5-9663-3bcd333fa2...</td>\n",
       "      <td>(210, [38, 21, 60])</td>\n",
       "      <td>(155, [48, 4, 52])</td>\n",
       "      <td>(205, [41, 57, 62])</td>\n",
       "    </tr>\n",
       "    <tr>\n",
       "      <th>4</th>\n",
       "      <td>9f71ce59-200c-450a-8987-399eee4fb1dd</td>\n",
       "      <td>Il faut éduquer dès le plus jeune âge les enfa...</td>\n",
       "      <td>il-faut-eduquer-des-le-plus-jeune-age-les-enfa...</td>\n",
       "      <td>2024-03-28T08:51:45.459Z</td>\n",
       "      <td>2024-03-29T15:25:37.970Z</td>\n",
       "      <td>{'userId': 'cbc394ac-1fe0-48e0-ac3f-8b463ed719...</td>\n",
       "      <td>(69, [14, 6, 24])</td>\n",
       "      <td>(13, [2, 6, 3])</td>\n",
       "      <td>(4, [0, 1, 3])</td>\n",
       "    </tr>\n",
       "    <tr>\n",
       "      <th>...</th>\n",
       "      <td>...</td>\n",
       "      <td>...</td>\n",
       "      <td>...</td>\n",
       "      <td>...</td>\n",
       "      <td>...</td>\n",
       "      <td>...</td>\n",
       "      <td>...</td>\n",
       "      <td>...</td>\n",
       "      <td>...</td>\n",
       "    </tr>\n",
       "    <tr>\n",
       "      <th>1535</th>\n",
       "      <td>16251ada-5ac5-488f-84d9-8a3a4d74c74c</td>\n",
       "      <td>Il faut qu'il y ait plus d'offres d'activités ...</td>\n",
       "      <td>il-faut-qu-il-y-ait-plus-d-offres-d-activites-...</td>\n",
       "      <td>2024-04-01T07:57:23.506Z</td>\n",
       "      <td>2024-04-11T12:47:39.853Z</td>\n",
       "      <td>{'userId': '6f660e94-cf68-4ca3-b431-0e21da54ec...</td>\n",
       "      <td>(28, [8, 1, 8])</td>\n",
       "      <td>(3, [0, 1, 0])</td>\n",
       "      <td>(2, [0, 2, 0])</td>\n",
       "    </tr>\n",
       "    <tr>\n",
       "      <th>1536</th>\n",
       "      <td>029568f5-4352-4667-b666-65a2da5565c9</td>\n",
       "      <td>Il faut faire des aménagements cyclables ainsi...</td>\n",
       "      <td>il-faut-faire-des-amenagements-cyclables-ainsi...</td>\n",
       "      <td>2024-03-30T11:59:17.932Z</td>\n",
       "      <td>2024-04-11T12:47:39.749Z</td>\n",
       "      <td>{'userId': 'd9822c10-8d91-4d56-905d-95c91234ba...</td>\n",
       "      <td>(33, [5, 3, 12])</td>\n",
       "      <td>(9, [3, 2, 3])</td>\n",
       "      <td>(3, [0, 2, 0])</td>\n",
       "    </tr>\n",
       "    <tr>\n",
       "      <th>1537</th>\n",
       "      <td>c244a312-43b0-492a-a4c3-61acb664784d</td>\n",
       "      <td>Il faut inciter à avoir des douches dans les e...</td>\n",
       "      <td>il-faut-inciter-a-avoir-des-douches-dans-les-e...</td>\n",
       "      <td>2024-03-31T07:42:57.843Z</td>\n",
       "      <td>2024-04-04T13:41:00.414Z</td>\n",
       "      <td>{'userId': '678b91c1-2f43-4336-a000-522e8fa2e4...</td>\n",
       "      <td>(33, [7, 4, 9])</td>\n",
       "      <td>(9, [3, 2, 1])</td>\n",
       "      <td>(3, [2, 0, 0])</td>\n",
       "    </tr>\n",
       "    <tr>\n",
       "      <th>1538</th>\n",
       "      <td>83738cba-e965-4eeb-873e-6e576c83118f</td>\n",
       "      <td>Il faut adapter les vestiaires des enfants à l...</td>\n",
       "      <td>il-faut-adapter-les-vestiaires-des-enfants-a-l...</td>\n",
       "      <td>2024-03-28T15:32:31.427Z</td>\n",
       "      <td>2024-04-05T09:00:40.920Z</td>\n",
       "      <td>{'userId': '3cd92c36-df5b-4392-b529-525acea3b7...</td>\n",
       "      <td>(30, [7, 4, 6])</td>\n",
       "      <td>(11, [3, 2, 3])</td>\n",
       "      <td>(4, [2, 1, 1])</td>\n",
       "    </tr>\n",
       "    <tr>\n",
       "      <th>1539</th>\n",
       "      <td>5a74cbd4-e1c0-4645-b4d0-ba5b42b0fd40</td>\n",
       "      <td>Il faut que les sports à hauts revenus partici...</td>\n",
       "      <td>il-faut-que-les-sports-a-hauts-revenus-partici...</td>\n",
       "      <td>2024-04-01T15:08:53.199Z</td>\n",
       "      <td>2024-04-11T12:47:39.922Z</td>\n",
       "      <td>{'userId': 'abafb2fd-e805-45df-8170-b551670c81...</td>\n",
       "      <td>(35, [12, 3, 8])</td>\n",
       "      <td>(3, [0, 0, 1])</td>\n",
       "      <td>(10, [2, 2, 3])</td>\n",
       "    </tr>\n",
       "  </tbody>\n",
       "</table>\n",
       "<p>1540 rows × 9 columns</p>\n",
       "</div>"
      ],
      "text/plain": [
       "                                        id  \\\n",
       "0     82d5eb8f-f953-4e16-9015-9b775ff5f292   \n",
       "1     59ff8102-587a-425e-9976-c4d5d6a268fe   \n",
       "2     66b19692-f947-44c9-9126-33863021098e   \n",
       "3     97c4c337-15d4-4c6e-a108-aefcedeb1666   \n",
       "4     9f71ce59-200c-450a-8987-399eee4fb1dd   \n",
       "...                                    ...   \n",
       "1535  16251ada-5ac5-488f-84d9-8a3a4d74c74c   \n",
       "1536  029568f5-4352-4667-b666-65a2da5565c9   \n",
       "1537  c244a312-43b0-492a-a4c3-61acb664784d   \n",
       "1538  83738cba-e965-4eeb-873e-6e576c83118f   \n",
       "1539  5a74cbd4-e1c0-4645-b4d0-ba5b42b0fd40   \n",
       "\n",
       "                                                content  \\\n",
       "0     Il faut inciter les Français à s'équiper de mo...   \n",
       "1     Il faut demander aux sportifs de haut niveau d...   \n",
       "2     Il faut piétonniser des rues ou routes ou boul...   \n",
       "3     Il faut organiser des compétitions inter-entre...   \n",
       "4     Il faut éduquer dès le plus jeune âge les enfa...   \n",
       "...                                                 ...   \n",
       "1535  Il faut qu'il y ait plus d'offres d'activités ...   \n",
       "1536  Il faut faire des aménagements cyclables ainsi...   \n",
       "1537  Il faut inciter à avoir des douches dans les e...   \n",
       "1538  Il faut adapter les vestiaires des enfants à l...   \n",
       "1539  Il faut que les sports à hauts revenus partici...   \n",
       "\n",
       "                                                   slug  \\\n",
       "0     il-faut-inciter-les-francais-a-s-equiper-de-mo...   \n",
       "1     il-faut-demander-aux-sportifs-de-haut-niveau-d...   \n",
       "2     il-faut-pietonniser-des-rues-ou-routes-ou-boul...   \n",
       "3     il-faut-organiser-des-competitions-inter-entre...   \n",
       "4     il-faut-eduquer-des-le-plus-jeune-age-les-enfa...   \n",
       "...                                                 ...   \n",
       "1535  il-faut-qu-il-y-ait-plus-d-offres-d-activites-...   \n",
       "1536  il-faut-faire-des-amenagements-cyclables-ainsi...   \n",
       "1537  il-faut-inciter-a-avoir-des-douches-dans-les-e...   \n",
       "1538  il-faut-adapter-les-vestiaires-des-enfants-a-l...   \n",
       "1539  il-faut-que-les-sports-a-hauts-revenus-partici...   \n",
       "\n",
       "                     createdAt                 updatedAt  \\\n",
       "0     2024-04-01T07:07:29.747Z  2024-04-04T13:48:06.671Z   \n",
       "1     2024-03-25T17:30:50.114Z  2024-03-27T11:55:43.793Z   \n",
       "2     2024-03-24T10:05:38.434Z  2024-03-27T11:49:34.740Z   \n",
       "3     2024-01-29T10:13:07.672Z  2024-04-09T09:18:23.844Z   \n",
       "4     2024-03-28T08:51:45.459Z  2024-03-29T15:25:37.970Z   \n",
       "...                        ...                       ...   \n",
       "1535  2024-04-01T07:57:23.506Z  2024-04-11T12:47:39.853Z   \n",
       "1536  2024-03-30T11:59:17.932Z  2024-04-11T12:47:39.749Z   \n",
       "1537  2024-03-31T07:42:57.843Z  2024-04-04T13:41:00.414Z   \n",
       "1538  2024-03-28T15:32:31.427Z  2024-04-05T09:00:40.920Z   \n",
       "1539  2024-04-01T15:08:53.199Z  2024-04-11T12:47:39.922Z   \n",
       "\n",
       "                                                 author           vote_agree  \\\n",
       "0     {'userId': '4fad3035-1a13-4ed5-b81a-e1f400e7c6...       (0, [0, 0, 0])   \n",
       "1     {'userId': 'e1606f3c-5d45-4a0e-b2da-7455125ca2...     (39, [6, 6, 14])   \n",
       "2     {'userId': 'b3589dd5-a215-481a-983c-0e4dff1e07...    (47, [13, 4, 16])   \n",
       "3     {'userId': '22448ef2-cae9-42b5-9663-3bcd333fa2...  (210, [38, 21, 60])   \n",
       "4     {'userId': 'cbc394ac-1fe0-48e0-ac3f-8b463ed719...    (69, [14, 6, 24])   \n",
       "...                                                 ...                  ...   \n",
       "1535  {'userId': '6f660e94-cf68-4ca3-b431-0e21da54ec...      (28, [8, 1, 8])   \n",
       "1536  {'userId': 'd9822c10-8d91-4d56-905d-95c91234ba...     (33, [5, 3, 12])   \n",
       "1537  {'userId': '678b91c1-2f43-4336-a000-522e8fa2e4...      (33, [7, 4, 9])   \n",
       "1538  {'userId': '3cd92c36-df5b-4392-b529-525acea3b7...      (30, [7, 4, 6])   \n",
       "1539  {'userId': 'abafb2fd-e805-45df-8170-b551670c81...     (35, [12, 3, 8])   \n",
       "\n",
       "            vote_neutral        vote_disagree  \n",
       "0         (6, [1, 0, 3])      (10, [1, 5, 3])  \n",
       "1       (29, [14, 0, 9])      (19, [2, 5, 7])  \n",
       "2        (18, [7, 2, 3])      (18, [2, 8, 3])  \n",
       "3     (155, [48, 4, 52])  (205, [41, 57, 62])  \n",
       "4        (13, [2, 6, 3])       (4, [0, 1, 3])  \n",
       "...                  ...                  ...  \n",
       "1535      (3, [0, 1, 0])       (2, [0, 2, 0])  \n",
       "1536      (9, [3, 2, 3])       (3, [0, 2, 0])  \n",
       "1537      (9, [3, 2, 1])       (3, [2, 0, 0])  \n",
       "1538     (11, [3, 2, 3])       (4, [2, 1, 1])  \n",
       "1539      (3, [0, 0, 1])      (10, [2, 2, 3])  \n",
       "\n",
       "[1540 rows x 9 columns]"
      ]
     },
     "execution_count": 21,
     "metadata": {},
     "output_type": "execute_result"
    }
   ],
   "source": [
    "df"
   ]
  },
  {
   "cell_type": "code",
   "execution_count": 22,
   "id": "7b904827",
   "metadata": {},
   "outputs": [
    {
     "data": {
      "text/plain": [
       "{'userId': 'd768571b-64f9-4251-86fc-3b7e91572b1a',\n",
       " 'firstName': 'Celine',\n",
       " 'displayName': 'Celine',\n",
       " 'organisationName': None,\n",
       " 'organisationSlug': None,\n",
       " 'postalCode': '33000',\n",
       " 'age': 43,\n",
       " 'avatarUrl': None,\n",
       " 'userType': 'USER'}"
      ]
     },
     "execution_count": 22,
     "metadata": {},
     "output_type": "execute_result"
    }
   ],
   "source": [
    "df.loc[200,\"author\"]"
   ]
  },
  {
   "cell_type": "code",
   "execution_count": 23,
   "id": "322c53cd",
   "metadata": {},
   "outputs": [],
   "source": [
    "df[\"author_id\"] = df[\"author\"].apply(lambda raw: raw[\"userId\"])\n",
    "df[\"author_age\"] = df[\"author\"].apply(lambda raw: raw[\"age\"])\n",
    "df[\"author_type\"] = df[\"author\"].apply(lambda raw: raw[\"userType\"])"
   ]
  },
  {
   "cell_type": "code",
   "execution_count": 24,
   "id": "04ef9a61",
   "metadata": {},
   "outputs": [
    {
     "data": {
      "text/html": [
       "<div>\n",
       "<style scoped>\n",
       "    .dataframe tbody tr th:only-of-type {\n",
       "        vertical-align: middle;\n",
       "    }\n",
       "\n",
       "    .dataframe tbody tr th {\n",
       "        vertical-align: top;\n",
       "    }\n",
       "\n",
       "    .dataframe thead th {\n",
       "        text-align: right;\n",
       "    }\n",
       "</style>\n",
       "<table border=\"1\" class=\"dataframe\">\n",
       "  <thead>\n",
       "    <tr style=\"text-align: right;\">\n",
       "      <th></th>\n",
       "      <th>id</th>\n",
       "      <th>content</th>\n",
       "      <th>slug</th>\n",
       "      <th>createdAt</th>\n",
       "      <th>updatedAt</th>\n",
       "      <th>author</th>\n",
       "      <th>vote_agree</th>\n",
       "      <th>vote_neutral</th>\n",
       "      <th>vote_disagree</th>\n",
       "      <th>author_id</th>\n",
       "      <th>author_age</th>\n",
       "      <th>author_type</th>\n",
       "    </tr>\n",
       "  </thead>\n",
       "  <tbody>\n",
       "    <tr>\n",
       "      <th>0</th>\n",
       "      <td>82d5eb8f-f953-4e16-9015-9b775ff5f292</td>\n",
       "      <td>Il faut inciter les Français à s'équiper de mo...</td>\n",
       "      <td>il-faut-inciter-les-francais-a-s-equiper-de-mo...</td>\n",
       "      <td>2024-04-01T07:07:29.747Z</td>\n",
       "      <td>2024-04-04T13:48:06.671Z</td>\n",
       "      <td>{'userId': '4fad3035-1a13-4ed5-b81a-e1f400e7c6...</td>\n",
       "      <td>(0, [0, 0, 0])</td>\n",
       "      <td>(6, [1, 0, 3])</td>\n",
       "      <td>(10, [1, 5, 3])</td>\n",
       "      <td>4fad3035-1a13-4ed5-b81a-e1f400e7c665</td>\n",
       "      <td>61.0</td>\n",
       "      <td>USER</td>\n",
       "    </tr>\n",
       "    <tr>\n",
       "      <th>1</th>\n",
       "      <td>59ff8102-587a-425e-9976-c4d5d6a268fe</td>\n",
       "      <td>Il faut demander aux sportifs de haut niveau d...</td>\n",
       "      <td>il-faut-demander-aux-sportifs-de-haut-niveau-d...</td>\n",
       "      <td>2024-03-25T17:30:50.114Z</td>\n",
       "      <td>2024-03-27T11:55:43.793Z</td>\n",
       "      <td>{'userId': 'e1606f3c-5d45-4a0e-b2da-7455125ca2...</td>\n",
       "      <td>(39, [6, 6, 14])</td>\n",
       "      <td>(29, [14, 0, 9])</td>\n",
       "      <td>(19, [2, 5, 7])</td>\n",
       "      <td>e1606f3c-5d45-4a0e-b2da-7455125ca204</td>\n",
       "      <td>NaN</td>\n",
       "      <td>USER</td>\n",
       "    </tr>\n",
       "    <tr>\n",
       "      <th>2</th>\n",
       "      <td>66b19692-f947-44c9-9126-33863021098e</td>\n",
       "      <td>Il faut piétonniser des rues ou routes ou boul...</td>\n",
       "      <td>il-faut-pietonniser-des-rues-ou-routes-ou-boul...</td>\n",
       "      <td>2024-03-24T10:05:38.434Z</td>\n",
       "      <td>2024-03-27T11:49:34.740Z</td>\n",
       "      <td>{'userId': 'b3589dd5-a215-481a-983c-0e4dff1e07...</td>\n",
       "      <td>(47, [13, 4, 16])</td>\n",
       "      <td>(18, [7, 2, 3])</td>\n",
       "      <td>(18, [2, 8, 3])</td>\n",
       "      <td>b3589dd5-a215-481a-983c-0e4dff1e0763</td>\n",
       "      <td>66.0</td>\n",
       "      <td>USER</td>\n",
       "    </tr>\n",
       "    <tr>\n",
       "      <th>3</th>\n",
       "      <td>97c4c337-15d4-4c6e-a108-aefcedeb1666</td>\n",
       "      <td>Il faut organiser des compétitions inter-entre...</td>\n",
       "      <td>il-faut-organiser-des-competitions-inter-entre...</td>\n",
       "      <td>2024-01-29T10:13:07.672Z</td>\n",
       "      <td>2024-04-09T09:18:23.844Z</td>\n",
       "      <td>{'userId': '22448ef2-cae9-42b5-9663-3bcd333fa2...</td>\n",
       "      <td>(210, [38, 21, 60])</td>\n",
       "      <td>(155, [48, 4, 52])</td>\n",
       "      <td>(205, [41, 57, 62])</td>\n",
       "      <td>22448ef2-cae9-42b5-9663-3bcd333fa231</td>\n",
       "      <td>20.0</td>\n",
       "      <td>USER</td>\n",
       "    </tr>\n",
       "    <tr>\n",
       "      <th>4</th>\n",
       "      <td>9f71ce59-200c-450a-8987-399eee4fb1dd</td>\n",
       "      <td>Il faut éduquer dès le plus jeune âge les enfa...</td>\n",
       "      <td>il-faut-eduquer-des-le-plus-jeune-age-les-enfa...</td>\n",
       "      <td>2024-03-28T08:51:45.459Z</td>\n",
       "      <td>2024-03-29T15:25:37.970Z</td>\n",
       "      <td>{'userId': 'cbc394ac-1fe0-48e0-ac3f-8b463ed719...</td>\n",
       "      <td>(69, [14, 6, 24])</td>\n",
       "      <td>(13, [2, 6, 3])</td>\n",
       "      <td>(4, [0, 1, 3])</td>\n",
       "      <td>cbc394ac-1fe0-48e0-ac3f-8b463ed71967</td>\n",
       "      <td>NaN</td>\n",
       "      <td>USER</td>\n",
       "    </tr>\n",
       "  </tbody>\n",
       "</table>\n",
       "</div>"
      ],
      "text/plain": [
       "                                     id  \\\n",
       "0  82d5eb8f-f953-4e16-9015-9b775ff5f292   \n",
       "1  59ff8102-587a-425e-9976-c4d5d6a268fe   \n",
       "2  66b19692-f947-44c9-9126-33863021098e   \n",
       "3  97c4c337-15d4-4c6e-a108-aefcedeb1666   \n",
       "4  9f71ce59-200c-450a-8987-399eee4fb1dd   \n",
       "\n",
       "                                             content  \\\n",
       "0  Il faut inciter les Français à s'équiper de mo...   \n",
       "1  Il faut demander aux sportifs de haut niveau d...   \n",
       "2  Il faut piétonniser des rues ou routes ou boul...   \n",
       "3  Il faut organiser des compétitions inter-entre...   \n",
       "4  Il faut éduquer dès le plus jeune âge les enfa...   \n",
       "\n",
       "                                                slug  \\\n",
       "0  il-faut-inciter-les-francais-a-s-equiper-de-mo...   \n",
       "1  il-faut-demander-aux-sportifs-de-haut-niveau-d...   \n",
       "2  il-faut-pietonniser-des-rues-ou-routes-ou-boul...   \n",
       "3  il-faut-organiser-des-competitions-inter-entre...   \n",
       "4  il-faut-eduquer-des-le-plus-jeune-age-les-enfa...   \n",
       "\n",
       "                  createdAt                 updatedAt  \\\n",
       "0  2024-04-01T07:07:29.747Z  2024-04-04T13:48:06.671Z   \n",
       "1  2024-03-25T17:30:50.114Z  2024-03-27T11:55:43.793Z   \n",
       "2  2024-03-24T10:05:38.434Z  2024-03-27T11:49:34.740Z   \n",
       "3  2024-01-29T10:13:07.672Z  2024-04-09T09:18:23.844Z   \n",
       "4  2024-03-28T08:51:45.459Z  2024-03-29T15:25:37.970Z   \n",
       "\n",
       "                                              author           vote_agree  \\\n",
       "0  {'userId': '4fad3035-1a13-4ed5-b81a-e1f400e7c6...       (0, [0, 0, 0])   \n",
       "1  {'userId': 'e1606f3c-5d45-4a0e-b2da-7455125ca2...     (39, [6, 6, 14])   \n",
       "2  {'userId': 'b3589dd5-a215-481a-983c-0e4dff1e07...    (47, [13, 4, 16])   \n",
       "3  {'userId': '22448ef2-cae9-42b5-9663-3bcd333fa2...  (210, [38, 21, 60])   \n",
       "4  {'userId': 'cbc394ac-1fe0-48e0-ac3f-8b463ed719...    (69, [14, 6, 24])   \n",
       "\n",
       "         vote_neutral        vote_disagree  \\\n",
       "0      (6, [1, 0, 3])      (10, [1, 5, 3])   \n",
       "1    (29, [14, 0, 9])      (19, [2, 5, 7])   \n",
       "2     (18, [7, 2, 3])      (18, [2, 8, 3])   \n",
       "3  (155, [48, 4, 52])  (205, [41, 57, 62])   \n",
       "4     (13, [2, 6, 3])       (4, [0, 1, 3])   \n",
       "\n",
       "                              author_id  author_age author_type  \n",
       "0  4fad3035-1a13-4ed5-b81a-e1f400e7c665        61.0        USER  \n",
       "1  e1606f3c-5d45-4a0e-b2da-7455125ca204         NaN        USER  \n",
       "2  b3589dd5-a215-481a-983c-0e4dff1e0763        66.0        USER  \n",
       "3  22448ef2-cae9-42b5-9663-3bcd333fa231        20.0        USER  \n",
       "4  cbc394ac-1fe0-48e0-ac3f-8b463ed71967         NaN        USER  "
      ]
     },
     "execution_count": 24,
     "metadata": {},
     "output_type": "execute_result"
    }
   ],
   "source": [
    "df.head()"
   ]
  },
  {
   "cell_type": "code",
   "execution_count": 25,
   "id": "a18ee287",
   "metadata": {},
   "outputs": [
    {
     "data": {
      "text/plain": [
       "author_type\n",
       "USER            1469\n",
       "ORGANISATION      71\n",
       "Name: count, dtype: int64"
      ]
     },
     "execution_count": 25,
     "metadata": {},
     "output_type": "execute_result"
    }
   ],
   "source": [
    "df[\"author_type\"].value_counts()"
   ]
  },
  {
   "cell_type": "code",
   "execution_count": 26,
   "id": "bfe264f3",
   "metadata": {},
   "outputs": [],
   "source": [
    "df = df.drop(columns=\"author\")"
   ]
  },
  {
   "cell_type": "code",
   "execution_count": 27,
   "id": "56ecdee1",
   "metadata": {},
   "outputs": [
    {
     "data": {
      "text/html": [
       "<div>\n",
       "<style scoped>\n",
       "    .dataframe tbody tr th:only-of-type {\n",
       "        vertical-align: middle;\n",
       "    }\n",
       "\n",
       "    .dataframe tbody tr th {\n",
       "        vertical-align: top;\n",
       "    }\n",
       "\n",
       "    .dataframe thead th {\n",
       "        text-align: right;\n",
       "    }\n",
       "</style>\n",
       "<table border=\"1\" class=\"dataframe\">\n",
       "  <thead>\n",
       "    <tr style=\"text-align: right;\">\n",
       "      <th></th>\n",
       "      <th>id</th>\n",
       "      <th>content</th>\n",
       "      <th>slug</th>\n",
       "      <th>createdAt</th>\n",
       "      <th>updatedAt</th>\n",
       "      <th>vote_agree</th>\n",
       "      <th>vote_neutral</th>\n",
       "      <th>vote_disagree</th>\n",
       "      <th>author_id</th>\n",
       "      <th>author_age</th>\n",
       "      <th>author_type</th>\n",
       "    </tr>\n",
       "  </thead>\n",
       "  <tbody>\n",
       "    <tr>\n",
       "      <th>0</th>\n",
       "      <td>82d5eb8f-f953-4e16-9015-9b775ff5f292</td>\n",
       "      <td>Il faut inciter les Français à s'équiper de mo...</td>\n",
       "      <td>il-faut-inciter-les-francais-a-s-equiper-de-mo...</td>\n",
       "      <td>2024-04-01T07:07:29.747Z</td>\n",
       "      <td>2024-04-04T13:48:06.671Z</td>\n",
       "      <td>(0, [0, 0, 0])</td>\n",
       "      <td>(6, [1, 0, 3])</td>\n",
       "      <td>(10, [1, 5, 3])</td>\n",
       "      <td>4fad3035-1a13-4ed5-b81a-e1f400e7c665</td>\n",
       "      <td>61.0</td>\n",
       "      <td>USER</td>\n",
       "    </tr>\n",
       "    <tr>\n",
       "      <th>1</th>\n",
       "      <td>59ff8102-587a-425e-9976-c4d5d6a268fe</td>\n",
       "      <td>Il faut demander aux sportifs de haut niveau d...</td>\n",
       "      <td>il-faut-demander-aux-sportifs-de-haut-niveau-d...</td>\n",
       "      <td>2024-03-25T17:30:50.114Z</td>\n",
       "      <td>2024-03-27T11:55:43.793Z</td>\n",
       "      <td>(39, [6, 6, 14])</td>\n",
       "      <td>(29, [14, 0, 9])</td>\n",
       "      <td>(19, [2, 5, 7])</td>\n",
       "      <td>e1606f3c-5d45-4a0e-b2da-7455125ca204</td>\n",
       "      <td>NaN</td>\n",
       "      <td>USER</td>\n",
       "    </tr>\n",
       "    <tr>\n",
       "      <th>2</th>\n",
       "      <td>66b19692-f947-44c9-9126-33863021098e</td>\n",
       "      <td>Il faut piétonniser des rues ou routes ou boul...</td>\n",
       "      <td>il-faut-pietonniser-des-rues-ou-routes-ou-boul...</td>\n",
       "      <td>2024-03-24T10:05:38.434Z</td>\n",
       "      <td>2024-03-27T11:49:34.740Z</td>\n",
       "      <td>(47, [13, 4, 16])</td>\n",
       "      <td>(18, [7, 2, 3])</td>\n",
       "      <td>(18, [2, 8, 3])</td>\n",
       "      <td>b3589dd5-a215-481a-983c-0e4dff1e0763</td>\n",
       "      <td>66.0</td>\n",
       "      <td>USER</td>\n",
       "    </tr>\n",
       "    <tr>\n",
       "      <th>3</th>\n",
       "      <td>97c4c337-15d4-4c6e-a108-aefcedeb1666</td>\n",
       "      <td>Il faut organiser des compétitions inter-entre...</td>\n",
       "      <td>il-faut-organiser-des-competitions-inter-entre...</td>\n",
       "      <td>2024-01-29T10:13:07.672Z</td>\n",
       "      <td>2024-04-09T09:18:23.844Z</td>\n",
       "      <td>(210, [38, 21, 60])</td>\n",
       "      <td>(155, [48, 4, 52])</td>\n",
       "      <td>(205, [41, 57, 62])</td>\n",
       "      <td>22448ef2-cae9-42b5-9663-3bcd333fa231</td>\n",
       "      <td>20.0</td>\n",
       "      <td>USER</td>\n",
       "    </tr>\n",
       "    <tr>\n",
       "      <th>4</th>\n",
       "      <td>9f71ce59-200c-450a-8987-399eee4fb1dd</td>\n",
       "      <td>Il faut éduquer dès le plus jeune âge les enfa...</td>\n",
       "      <td>il-faut-eduquer-des-le-plus-jeune-age-les-enfa...</td>\n",
       "      <td>2024-03-28T08:51:45.459Z</td>\n",
       "      <td>2024-03-29T15:25:37.970Z</td>\n",
       "      <td>(69, [14, 6, 24])</td>\n",
       "      <td>(13, [2, 6, 3])</td>\n",
       "      <td>(4, [0, 1, 3])</td>\n",
       "      <td>cbc394ac-1fe0-48e0-ac3f-8b463ed71967</td>\n",
       "      <td>NaN</td>\n",
       "      <td>USER</td>\n",
       "    </tr>\n",
       "  </tbody>\n",
       "</table>\n",
       "</div>"
      ],
      "text/plain": [
       "                                     id  \\\n",
       "0  82d5eb8f-f953-4e16-9015-9b775ff5f292   \n",
       "1  59ff8102-587a-425e-9976-c4d5d6a268fe   \n",
       "2  66b19692-f947-44c9-9126-33863021098e   \n",
       "3  97c4c337-15d4-4c6e-a108-aefcedeb1666   \n",
       "4  9f71ce59-200c-450a-8987-399eee4fb1dd   \n",
       "\n",
       "                                             content  \\\n",
       "0  Il faut inciter les Français à s'équiper de mo...   \n",
       "1  Il faut demander aux sportifs de haut niveau d...   \n",
       "2  Il faut piétonniser des rues ou routes ou boul...   \n",
       "3  Il faut organiser des compétitions inter-entre...   \n",
       "4  Il faut éduquer dès le plus jeune âge les enfa...   \n",
       "\n",
       "                                                slug  \\\n",
       "0  il-faut-inciter-les-francais-a-s-equiper-de-mo...   \n",
       "1  il-faut-demander-aux-sportifs-de-haut-niveau-d...   \n",
       "2  il-faut-pietonniser-des-rues-ou-routes-ou-boul...   \n",
       "3  il-faut-organiser-des-competitions-inter-entre...   \n",
       "4  il-faut-eduquer-des-le-plus-jeune-age-les-enfa...   \n",
       "\n",
       "                  createdAt                 updatedAt           vote_agree  \\\n",
       "0  2024-04-01T07:07:29.747Z  2024-04-04T13:48:06.671Z       (0, [0, 0, 0])   \n",
       "1  2024-03-25T17:30:50.114Z  2024-03-27T11:55:43.793Z     (39, [6, 6, 14])   \n",
       "2  2024-03-24T10:05:38.434Z  2024-03-27T11:49:34.740Z    (47, [13, 4, 16])   \n",
       "3  2024-01-29T10:13:07.672Z  2024-04-09T09:18:23.844Z  (210, [38, 21, 60])   \n",
       "4  2024-03-28T08:51:45.459Z  2024-03-29T15:25:37.970Z    (69, [14, 6, 24])   \n",
       "\n",
       "         vote_neutral        vote_disagree  \\\n",
       "0      (6, [1, 0, 3])      (10, [1, 5, 3])   \n",
       "1    (29, [14, 0, 9])      (19, [2, 5, 7])   \n",
       "2     (18, [7, 2, 3])      (18, [2, 8, 3])   \n",
       "3  (155, [48, 4, 52])  (205, [41, 57, 62])   \n",
       "4     (13, [2, 6, 3])       (4, [0, 1, 3])   \n",
       "\n",
       "                              author_id  author_age author_type  \n",
       "0  4fad3035-1a13-4ed5-b81a-e1f400e7c665        61.0        USER  \n",
       "1  e1606f3c-5d45-4a0e-b2da-7455125ca204         NaN        USER  \n",
       "2  b3589dd5-a215-481a-983c-0e4dff1e0763        66.0        USER  \n",
       "3  22448ef2-cae9-42b5-9663-3bcd333fa231        20.0        USER  \n",
       "4  cbc394ac-1fe0-48e0-ac3f-8b463ed71967         NaN        USER  "
      ]
     },
     "execution_count": 27,
     "metadata": {},
     "output_type": "execute_result"
    }
   ],
   "source": [
    "df.head()"
   ]
  },
  {
   "cell_type": "code",
   "execution_count": 28,
   "id": "63f95042",
   "metadata": {},
   "outputs": [
    {
     "data": {
      "text/plain": [
       "id                 0\n",
       "content            0\n",
       "slug               0\n",
       "createdAt          0\n",
       "updatedAt          0\n",
       "vote_agree         0\n",
       "vote_neutral       0\n",
       "vote_disagree      0\n",
       "author_id          0\n",
       "author_age       317\n",
       "author_type        0\n",
       "dtype: int64"
      ]
     },
     "execution_count": 28,
     "metadata": {},
     "output_type": "execute_result"
    }
   ],
   "source": [
    "df.isna().sum()"
   ]
  },
  {
   "cell_type": "code",
   "execution_count": 29,
   "id": "430b5b64",
   "metadata": {},
   "outputs": [
    {
     "name": "stderr",
     "output_type": "stream",
     "text": [
      "C:\\Users\\LENOVO PC\\AppData\\Local\\Temp\\ipykernel_15228\\565535580.py:1: FutureWarning: A value is trying to be set on a copy of a DataFrame or Series through chained assignment using an inplace method.\n",
      "The behavior will change in pandas 3.0. This inplace method will never work because the intermediate object on which we are setting values always behaves as a copy.\n",
      "\n",
      "For example, when doing 'df[col].method(value, inplace=True)', try using 'df.method({col: value}, inplace=True)' or df[col] = df[col].method(value) instead, to perform the operation inplace on the original object.\n",
      "\n",
      "\n",
      "  df[\"author_age\"].fillna(df[\"author_age\"].median(), inplace=True)\n"
     ]
    }
   ],
   "source": [
    "df[\"author_age\"].fillna(df[\"author_age\"].median(), inplace=True)"
   ]
  },
  {
   "cell_type": "code",
   "execution_count": 30,
   "id": "2bdf7640",
   "metadata": {},
   "outputs": [
    {
     "data": {
      "text/plain": [
       "id               0\n",
       "content          0\n",
       "slug             0\n",
       "createdAt        0\n",
       "updatedAt        0\n",
       "vote_agree       0\n",
       "vote_neutral     0\n",
       "vote_disagree    0\n",
       "author_id        0\n",
       "author_age       0\n",
       "author_type      0\n",
       "dtype: int64"
      ]
     },
     "execution_count": 30,
     "metadata": {},
     "output_type": "execute_result"
    }
   ],
   "source": [
    "df.isna().sum()"
   ]
  },
  {
   "cell_type": "code",
   "execution_count": 31,
   "id": "2362c6e7",
   "metadata": {},
   "outputs": [],
   "source": [
    "agree=['likeit', 'platitudeagree','doable']\n",
    "Neutral=[\"noOpinion\", \"doNotUnderstand\", \"doNotCare\"]\n",
    "desagree=[\"impossible\", \"noWay\", \"platitudeDisagree\"]\n",
    "\n",
    "votes_types = (agree, Neutral, desagree)\n",
    "votes_names = [\"agree\", \"neutral\", \"disagree\" ]"
   ]
  },
  {
   "cell_type": "code",
   "execution_count": 32,
   "id": "294d29bd",
   "metadata": {},
   "outputs": [],
   "source": [
    "def sub_votes(data) :\n",
    "    i = 0\n",
    "    for type in votes_types :\n",
    "        j = 0\n",
    "        for subtype in type :\n",
    "            data[votes_names[i] + \"_\" + subtype] = data[\"vote_\"+votes_names[i]].apply(lambda raw: raw[1][j])\n",
    "            j+=1\n",
    "        i+=1\n",
    "    return data"
   ]
  },
  {
   "cell_type": "code",
   "execution_count": 33,
   "id": "fd81b8c3",
   "metadata": {},
   "outputs": [],
   "source": [
    "df_f = sub_votes(df)"
   ]
  },
  {
   "cell_type": "code",
   "execution_count": 34,
   "id": "8c0d65bb",
   "metadata": {},
   "outputs": [],
   "source": [
    "def n_votes(data) :\n",
    "    i = 0\n",
    "    for type in votes_types :\n",
    "        data[\"vote_\"+votes_names[i]] = data[\"vote_\"+votes_names[i]].apply(lambda raw: raw[0])\n",
    "        i+=1\n",
    "    return data"
   ]
  },
  {
   "cell_type": "code",
   "execution_count": 35,
   "id": "635f86e5",
   "metadata": {},
   "outputs": [],
   "source": [
    "df_f = n_votes(df_f)"
   ]
  },
  {
   "cell_type": "code",
   "execution_count": 36,
   "id": "16628d2d",
   "metadata": {},
   "outputs": [
    {
     "data": {
      "text/html": [
       "<div>\n",
       "<style scoped>\n",
       "    .dataframe tbody tr th:only-of-type {\n",
       "        vertical-align: middle;\n",
       "    }\n",
       "\n",
       "    .dataframe tbody tr th {\n",
       "        vertical-align: top;\n",
       "    }\n",
       "\n",
       "    .dataframe thead th {\n",
       "        text-align: right;\n",
       "    }\n",
       "</style>\n",
       "<table border=\"1\" class=\"dataframe\">\n",
       "  <thead>\n",
       "    <tr style=\"text-align: right;\">\n",
       "      <th></th>\n",
       "      <th>id</th>\n",
       "      <th>content</th>\n",
       "      <th>slug</th>\n",
       "      <th>createdAt</th>\n",
       "      <th>updatedAt</th>\n",
       "      <th>vote_agree</th>\n",
       "      <th>vote_neutral</th>\n",
       "      <th>vote_disagree</th>\n",
       "      <th>author_id</th>\n",
       "      <th>author_age</th>\n",
       "      <th>author_type</th>\n",
       "      <th>agree_likeit</th>\n",
       "      <th>agree_platitudeagree</th>\n",
       "      <th>agree_doable</th>\n",
       "      <th>neutral_noOpinion</th>\n",
       "      <th>neutral_doNotUnderstand</th>\n",
       "      <th>neutral_doNotCare</th>\n",
       "      <th>disagree_impossible</th>\n",
       "      <th>disagree_noWay</th>\n",
       "      <th>disagree_platitudeDisagree</th>\n",
       "    </tr>\n",
       "  </thead>\n",
       "  <tbody>\n",
       "    <tr>\n",
       "      <th>0</th>\n",
       "      <td>82d5eb8f-f953-4e16-9015-9b775ff5f292</td>\n",
       "      <td>Il faut inciter les Français à s'équiper de mo...</td>\n",
       "      <td>il-faut-inciter-les-francais-a-s-equiper-de-mo...</td>\n",
       "      <td>2024-04-01T07:07:29.747Z</td>\n",
       "      <td>2024-04-04T13:48:06.671Z</td>\n",
       "      <td>0</td>\n",
       "      <td>6</td>\n",
       "      <td>10</td>\n",
       "      <td>4fad3035-1a13-4ed5-b81a-e1f400e7c665</td>\n",
       "      <td>61.0</td>\n",
       "      <td>USER</td>\n",
       "      <td>0</td>\n",
       "      <td>0</td>\n",
       "      <td>0</td>\n",
       "      <td>1</td>\n",
       "      <td>0</td>\n",
       "      <td>3</td>\n",
       "      <td>1</td>\n",
       "      <td>5</td>\n",
       "      <td>3</td>\n",
       "    </tr>\n",
       "    <tr>\n",
       "      <th>1</th>\n",
       "      <td>59ff8102-587a-425e-9976-c4d5d6a268fe</td>\n",
       "      <td>Il faut demander aux sportifs de haut niveau d...</td>\n",
       "      <td>il-faut-demander-aux-sportifs-de-haut-niveau-d...</td>\n",
       "      <td>2024-03-25T17:30:50.114Z</td>\n",
       "      <td>2024-03-27T11:55:43.793Z</td>\n",
       "      <td>39</td>\n",
       "      <td>29</td>\n",
       "      <td>19</td>\n",
       "      <td>e1606f3c-5d45-4a0e-b2da-7455125ca204</td>\n",
       "      <td>50.0</td>\n",
       "      <td>USER</td>\n",
       "      <td>6</td>\n",
       "      <td>6</td>\n",
       "      <td>14</td>\n",
       "      <td>14</td>\n",
       "      <td>0</td>\n",
       "      <td>9</td>\n",
       "      <td>2</td>\n",
       "      <td>5</td>\n",
       "      <td>7</td>\n",
       "    </tr>\n",
       "    <tr>\n",
       "      <th>2</th>\n",
       "      <td>66b19692-f947-44c9-9126-33863021098e</td>\n",
       "      <td>Il faut piétonniser des rues ou routes ou boul...</td>\n",
       "      <td>il-faut-pietonniser-des-rues-ou-routes-ou-boul...</td>\n",
       "      <td>2024-03-24T10:05:38.434Z</td>\n",
       "      <td>2024-03-27T11:49:34.740Z</td>\n",
       "      <td>47</td>\n",
       "      <td>18</td>\n",
       "      <td>18</td>\n",
       "      <td>b3589dd5-a215-481a-983c-0e4dff1e0763</td>\n",
       "      <td>66.0</td>\n",
       "      <td>USER</td>\n",
       "      <td>13</td>\n",
       "      <td>4</td>\n",
       "      <td>16</td>\n",
       "      <td>7</td>\n",
       "      <td>2</td>\n",
       "      <td>3</td>\n",
       "      <td>2</td>\n",
       "      <td>8</td>\n",
       "      <td>3</td>\n",
       "    </tr>\n",
       "    <tr>\n",
       "      <th>3</th>\n",
       "      <td>97c4c337-15d4-4c6e-a108-aefcedeb1666</td>\n",
       "      <td>Il faut organiser des compétitions inter-entre...</td>\n",
       "      <td>il-faut-organiser-des-competitions-inter-entre...</td>\n",
       "      <td>2024-01-29T10:13:07.672Z</td>\n",
       "      <td>2024-04-09T09:18:23.844Z</td>\n",
       "      <td>210</td>\n",
       "      <td>155</td>\n",
       "      <td>205</td>\n",
       "      <td>22448ef2-cae9-42b5-9663-3bcd333fa231</td>\n",
       "      <td>20.0</td>\n",
       "      <td>USER</td>\n",
       "      <td>38</td>\n",
       "      <td>21</td>\n",
       "      <td>60</td>\n",
       "      <td>48</td>\n",
       "      <td>4</td>\n",
       "      <td>52</td>\n",
       "      <td>41</td>\n",
       "      <td>57</td>\n",
       "      <td>62</td>\n",
       "    </tr>\n",
       "    <tr>\n",
       "      <th>4</th>\n",
       "      <td>9f71ce59-200c-450a-8987-399eee4fb1dd</td>\n",
       "      <td>Il faut éduquer dès le plus jeune âge les enfa...</td>\n",
       "      <td>il-faut-eduquer-des-le-plus-jeune-age-les-enfa...</td>\n",
       "      <td>2024-03-28T08:51:45.459Z</td>\n",
       "      <td>2024-03-29T15:25:37.970Z</td>\n",
       "      <td>69</td>\n",
       "      <td>13</td>\n",
       "      <td>4</td>\n",
       "      <td>cbc394ac-1fe0-48e0-ac3f-8b463ed71967</td>\n",
       "      <td>50.0</td>\n",
       "      <td>USER</td>\n",
       "      <td>14</td>\n",
       "      <td>6</td>\n",
       "      <td>24</td>\n",
       "      <td>2</td>\n",
       "      <td>6</td>\n",
       "      <td>3</td>\n",
       "      <td>0</td>\n",
       "      <td>1</td>\n",
       "      <td>3</td>\n",
       "    </tr>\n",
       "    <tr>\n",
       "      <th>...</th>\n",
       "      <td>...</td>\n",
       "      <td>...</td>\n",
       "      <td>...</td>\n",
       "      <td>...</td>\n",
       "      <td>...</td>\n",
       "      <td>...</td>\n",
       "      <td>...</td>\n",
       "      <td>...</td>\n",
       "      <td>...</td>\n",
       "      <td>...</td>\n",
       "      <td>...</td>\n",
       "      <td>...</td>\n",
       "      <td>...</td>\n",
       "      <td>...</td>\n",
       "      <td>...</td>\n",
       "      <td>...</td>\n",
       "      <td>...</td>\n",
       "      <td>...</td>\n",
       "      <td>...</td>\n",
       "      <td>...</td>\n",
       "    </tr>\n",
       "    <tr>\n",
       "      <th>1535</th>\n",
       "      <td>16251ada-5ac5-488f-84d9-8a3a4d74c74c</td>\n",
       "      <td>Il faut qu'il y ait plus d'offres d'activités ...</td>\n",
       "      <td>il-faut-qu-il-y-ait-plus-d-offres-d-activites-...</td>\n",
       "      <td>2024-04-01T07:57:23.506Z</td>\n",
       "      <td>2024-04-11T12:47:39.853Z</td>\n",
       "      <td>28</td>\n",
       "      <td>3</td>\n",
       "      <td>2</td>\n",
       "      <td>6f660e94-cf68-4ca3-b431-0e21da54ec46</td>\n",
       "      <td>50.0</td>\n",
       "      <td>USER</td>\n",
       "      <td>8</td>\n",
       "      <td>1</td>\n",
       "      <td>8</td>\n",
       "      <td>0</td>\n",
       "      <td>1</td>\n",
       "      <td>0</td>\n",
       "      <td>0</td>\n",
       "      <td>2</td>\n",
       "      <td>0</td>\n",
       "    </tr>\n",
       "    <tr>\n",
       "      <th>1536</th>\n",
       "      <td>029568f5-4352-4667-b666-65a2da5565c9</td>\n",
       "      <td>Il faut faire des aménagements cyclables ainsi...</td>\n",
       "      <td>il-faut-faire-des-amenagements-cyclables-ainsi...</td>\n",
       "      <td>2024-03-30T11:59:17.932Z</td>\n",
       "      <td>2024-04-11T12:47:39.749Z</td>\n",
       "      <td>33</td>\n",
       "      <td>9</td>\n",
       "      <td>3</td>\n",
       "      <td>d9822c10-8d91-4d56-905d-95c91234ba61</td>\n",
       "      <td>68.0</td>\n",
       "      <td>USER</td>\n",
       "      <td>5</td>\n",
       "      <td>3</td>\n",
       "      <td>12</td>\n",
       "      <td>3</td>\n",
       "      <td>2</td>\n",
       "      <td>3</td>\n",
       "      <td>0</td>\n",
       "      <td>2</td>\n",
       "      <td>0</td>\n",
       "    </tr>\n",
       "    <tr>\n",
       "      <th>1537</th>\n",
       "      <td>c244a312-43b0-492a-a4c3-61acb664784d</td>\n",
       "      <td>Il faut inciter à avoir des douches dans les e...</td>\n",
       "      <td>il-faut-inciter-a-avoir-des-douches-dans-les-e...</td>\n",
       "      <td>2024-03-31T07:42:57.843Z</td>\n",
       "      <td>2024-04-04T13:41:00.414Z</td>\n",
       "      <td>33</td>\n",
       "      <td>9</td>\n",
       "      <td>3</td>\n",
       "      <td>678b91c1-2f43-4336-a000-522e8fa2e400</td>\n",
       "      <td>51.0</td>\n",
       "      <td>USER</td>\n",
       "      <td>7</td>\n",
       "      <td>4</td>\n",
       "      <td>9</td>\n",
       "      <td>3</td>\n",
       "      <td>2</td>\n",
       "      <td>1</td>\n",
       "      <td>2</td>\n",
       "      <td>0</td>\n",
       "      <td>0</td>\n",
       "    </tr>\n",
       "    <tr>\n",
       "      <th>1538</th>\n",
       "      <td>83738cba-e965-4eeb-873e-6e576c83118f</td>\n",
       "      <td>Il faut adapter les vestiaires des enfants à l...</td>\n",
       "      <td>il-faut-adapter-les-vestiaires-des-enfants-a-l...</td>\n",
       "      <td>2024-03-28T15:32:31.427Z</td>\n",
       "      <td>2024-04-05T09:00:40.920Z</td>\n",
       "      <td>30</td>\n",
       "      <td>11</td>\n",
       "      <td>4</td>\n",
       "      <td>3cd92c36-df5b-4392-b529-525acea3b72c</td>\n",
       "      <td>29.0</td>\n",
       "      <td>USER</td>\n",
       "      <td>7</td>\n",
       "      <td>4</td>\n",
       "      <td>6</td>\n",
       "      <td>3</td>\n",
       "      <td>2</td>\n",
       "      <td>3</td>\n",
       "      <td>2</td>\n",
       "      <td>1</td>\n",
       "      <td>1</td>\n",
       "    </tr>\n",
       "    <tr>\n",
       "      <th>1539</th>\n",
       "      <td>5a74cbd4-e1c0-4645-b4d0-ba5b42b0fd40</td>\n",
       "      <td>Il faut que les sports à hauts revenus partici...</td>\n",
       "      <td>il-faut-que-les-sports-a-hauts-revenus-partici...</td>\n",
       "      <td>2024-04-01T15:08:53.199Z</td>\n",
       "      <td>2024-04-11T12:47:39.922Z</td>\n",
       "      <td>35</td>\n",
       "      <td>3</td>\n",
       "      <td>10</td>\n",
       "      <td>abafb2fd-e805-45df-8170-b551670c811d</td>\n",
       "      <td>50.0</td>\n",
       "      <td>USER</td>\n",
       "      <td>12</td>\n",
       "      <td>3</td>\n",
       "      <td>8</td>\n",
       "      <td>0</td>\n",
       "      <td>0</td>\n",
       "      <td>1</td>\n",
       "      <td>2</td>\n",
       "      <td>2</td>\n",
       "      <td>3</td>\n",
       "    </tr>\n",
       "  </tbody>\n",
       "</table>\n",
       "<p>1540 rows × 20 columns</p>\n",
       "</div>"
      ],
      "text/plain": [
       "                                        id  \\\n",
       "0     82d5eb8f-f953-4e16-9015-9b775ff5f292   \n",
       "1     59ff8102-587a-425e-9976-c4d5d6a268fe   \n",
       "2     66b19692-f947-44c9-9126-33863021098e   \n",
       "3     97c4c337-15d4-4c6e-a108-aefcedeb1666   \n",
       "4     9f71ce59-200c-450a-8987-399eee4fb1dd   \n",
       "...                                    ...   \n",
       "1535  16251ada-5ac5-488f-84d9-8a3a4d74c74c   \n",
       "1536  029568f5-4352-4667-b666-65a2da5565c9   \n",
       "1537  c244a312-43b0-492a-a4c3-61acb664784d   \n",
       "1538  83738cba-e965-4eeb-873e-6e576c83118f   \n",
       "1539  5a74cbd4-e1c0-4645-b4d0-ba5b42b0fd40   \n",
       "\n",
       "                                                content  \\\n",
       "0     Il faut inciter les Français à s'équiper de mo...   \n",
       "1     Il faut demander aux sportifs de haut niveau d...   \n",
       "2     Il faut piétonniser des rues ou routes ou boul...   \n",
       "3     Il faut organiser des compétitions inter-entre...   \n",
       "4     Il faut éduquer dès le plus jeune âge les enfa...   \n",
       "...                                                 ...   \n",
       "1535  Il faut qu'il y ait plus d'offres d'activités ...   \n",
       "1536  Il faut faire des aménagements cyclables ainsi...   \n",
       "1537  Il faut inciter à avoir des douches dans les e...   \n",
       "1538  Il faut adapter les vestiaires des enfants à l...   \n",
       "1539  Il faut que les sports à hauts revenus partici...   \n",
       "\n",
       "                                                   slug  \\\n",
       "0     il-faut-inciter-les-francais-a-s-equiper-de-mo...   \n",
       "1     il-faut-demander-aux-sportifs-de-haut-niveau-d...   \n",
       "2     il-faut-pietonniser-des-rues-ou-routes-ou-boul...   \n",
       "3     il-faut-organiser-des-competitions-inter-entre...   \n",
       "4     il-faut-eduquer-des-le-plus-jeune-age-les-enfa...   \n",
       "...                                                 ...   \n",
       "1535  il-faut-qu-il-y-ait-plus-d-offres-d-activites-...   \n",
       "1536  il-faut-faire-des-amenagements-cyclables-ainsi...   \n",
       "1537  il-faut-inciter-a-avoir-des-douches-dans-les-e...   \n",
       "1538  il-faut-adapter-les-vestiaires-des-enfants-a-l...   \n",
       "1539  il-faut-que-les-sports-a-hauts-revenus-partici...   \n",
       "\n",
       "                     createdAt                 updatedAt  vote_agree  \\\n",
       "0     2024-04-01T07:07:29.747Z  2024-04-04T13:48:06.671Z           0   \n",
       "1     2024-03-25T17:30:50.114Z  2024-03-27T11:55:43.793Z          39   \n",
       "2     2024-03-24T10:05:38.434Z  2024-03-27T11:49:34.740Z          47   \n",
       "3     2024-01-29T10:13:07.672Z  2024-04-09T09:18:23.844Z         210   \n",
       "4     2024-03-28T08:51:45.459Z  2024-03-29T15:25:37.970Z          69   \n",
       "...                        ...                       ...         ...   \n",
       "1535  2024-04-01T07:57:23.506Z  2024-04-11T12:47:39.853Z          28   \n",
       "1536  2024-03-30T11:59:17.932Z  2024-04-11T12:47:39.749Z          33   \n",
       "1537  2024-03-31T07:42:57.843Z  2024-04-04T13:41:00.414Z          33   \n",
       "1538  2024-03-28T15:32:31.427Z  2024-04-05T09:00:40.920Z          30   \n",
       "1539  2024-04-01T15:08:53.199Z  2024-04-11T12:47:39.922Z          35   \n",
       "\n",
       "      vote_neutral  vote_disagree                             author_id  \\\n",
       "0                6             10  4fad3035-1a13-4ed5-b81a-e1f400e7c665   \n",
       "1               29             19  e1606f3c-5d45-4a0e-b2da-7455125ca204   \n",
       "2               18             18  b3589dd5-a215-481a-983c-0e4dff1e0763   \n",
       "3              155            205  22448ef2-cae9-42b5-9663-3bcd333fa231   \n",
       "4               13              4  cbc394ac-1fe0-48e0-ac3f-8b463ed71967   \n",
       "...            ...            ...                                   ...   \n",
       "1535             3              2  6f660e94-cf68-4ca3-b431-0e21da54ec46   \n",
       "1536             9              3  d9822c10-8d91-4d56-905d-95c91234ba61   \n",
       "1537             9              3  678b91c1-2f43-4336-a000-522e8fa2e400   \n",
       "1538            11              4  3cd92c36-df5b-4392-b529-525acea3b72c   \n",
       "1539             3             10  abafb2fd-e805-45df-8170-b551670c811d   \n",
       "\n",
       "      author_age author_type  agree_likeit  agree_platitudeagree  \\\n",
       "0           61.0        USER             0                     0   \n",
       "1           50.0        USER             6                     6   \n",
       "2           66.0        USER            13                     4   \n",
       "3           20.0        USER            38                    21   \n",
       "4           50.0        USER            14                     6   \n",
       "...          ...         ...           ...                   ...   \n",
       "1535        50.0        USER             8                     1   \n",
       "1536        68.0        USER             5                     3   \n",
       "1537        51.0        USER             7                     4   \n",
       "1538        29.0        USER             7                     4   \n",
       "1539        50.0        USER            12                     3   \n",
       "\n",
       "      agree_doable  neutral_noOpinion  neutral_doNotUnderstand  \\\n",
       "0                0                  1                        0   \n",
       "1               14                 14                        0   \n",
       "2               16                  7                        2   \n",
       "3               60                 48                        4   \n",
       "4               24                  2                        6   \n",
       "...            ...                ...                      ...   \n",
       "1535             8                  0                        1   \n",
       "1536            12                  3                        2   \n",
       "1537             9                  3                        2   \n",
       "1538             6                  3                        2   \n",
       "1539             8                  0                        0   \n",
       "\n",
       "      neutral_doNotCare  disagree_impossible  disagree_noWay  \\\n",
       "0                     3                    1               5   \n",
       "1                     9                    2               5   \n",
       "2                     3                    2               8   \n",
       "3                    52                   41              57   \n",
       "4                     3                    0               1   \n",
       "...                 ...                  ...             ...   \n",
       "1535                  0                    0               2   \n",
       "1536                  3                    0               2   \n",
       "1537                  1                    2               0   \n",
       "1538                  3                    2               1   \n",
       "1539                  1                    2               2   \n",
       "\n",
       "      disagree_platitudeDisagree  \n",
       "0                              3  \n",
       "1                              7  \n",
       "2                              3  \n",
       "3                             62  \n",
       "4                              3  \n",
       "...                          ...  \n",
       "1535                           0  \n",
       "1536                           0  \n",
       "1537                           0  \n",
       "1538                           1  \n",
       "1539                           3  \n",
       "\n",
       "[1540 rows x 20 columns]"
      ]
     },
     "execution_count": 36,
     "metadata": {},
     "output_type": "execute_result"
    }
   ],
   "source": [
    "df_f"
   ]
  },
  {
   "cell_type": "code",
   "execution_count": 37,
   "id": "049b40b1",
   "metadata": {},
   "outputs": [
    {
     "data": {
      "text/plain": [
       "author_id\n",
       "6f660e94-cf68-4ca3-b431-0e21da54ec46    21\n",
       "946d70a5-b382-47ee-bf36-a13c75f8a7f8    19\n",
       "c21e71f9-aff9-43dc-bea1-75e5aeca4c4f    17\n",
       "10060f7b-5bc7-4e91-af11-2e796a9fc642    15\n",
       "dc488b7b-23f0-4d69-b5ed-00ca74eb84b5    14\n",
       "                                        ..\n",
       "f754466e-e6f9-4104-9cd0-980c607f94de     1\n",
       "1f583dd4-8027-4740-affe-ef3b447f8272     1\n",
       "aec1d07f-a49d-4e22-9996-440710786486     1\n",
       "e67078eb-beb8-477a-a39e-0e74acb621d7     1\n",
       "678b91c1-2f43-4336-a000-522e8fa2e400     1\n",
       "Name: count, Length: 969, dtype: int64"
      ]
     },
     "execution_count": 37,
     "metadata": {},
     "output_type": "execute_result"
    }
   ],
   "source": [
    "df_f[\"author_id\"].value_counts()"
   ]
  },
  {
   "cell_type": "markdown",
   "id": "83d95c8a",
   "metadata": {},
   "source": [
    "# Traitement des textes "
   ]
  },
  {
   "cell_type": "code",
   "execution_count": 38,
   "id": "69be8174",
   "metadata": {},
   "outputs": [],
   "source": [
    "df = df_f.copy()"
   ]
  },
  {
   "cell_type": "code",
   "execution_count": 39,
   "id": "7225ac88",
   "metadata": {},
   "outputs": [],
   "source": [
    "import spacy"
   ]
  },
  {
   "cell_type": "code",
   "execution_count": 40,
   "id": "9f5b7964",
   "metadata": {},
   "outputs": [
    {
     "name": "stderr",
     "output_type": "stream",
     "text": [
      "\n",
      "[notice] A new release of pip is available: 25.0.1 -> 25.1.1\n",
      "[notice] To update, run: python.exe -m pip install --upgrade pip\n"
     ]
    },
    {
     "name": "stdout",
     "output_type": "stream",
     "text": [
      "Collecting fr-core-news-md==3.8.0\n",
      "  Downloading https://github.com/explosion/spacy-models/releases/download/fr_core_news_md-3.8.0/fr_core_news_md-3.8.0-py3-none-any.whl (45.8 MB)\n",
      "     ---------------------------------------- 0.0/45.8 MB ? eta -:--:--\n",
      "     -------- ------------------------------ 10.5/45.8 MB 54.7 MB/s eta 0:00:01\n",
      "     ------------------- ------------------- 22.8/45.8 MB 57.8 MB/s eta 0:00:01\n",
      "     ------------------------------ -------- 35.9/45.8 MB 60.0 MB/s eta 0:00:01\n",
      "     --------------------------------------  45.6/45.8 MB 59.3 MB/s eta 0:00:01\n",
      "     --------------------------------------  45.6/45.8 MB 59.3 MB/s eta 0:00:01\n",
      "     --------------------------------------  45.6/45.8 MB 59.3 MB/s eta 0:00:01\n",
      "     --------------------------------------  45.6/45.8 MB 59.3 MB/s eta 0:00:01\n",
      "     --------------------------------------  45.6/45.8 MB 59.3 MB/s eta 0:00:01\n",
      "     --------------------------------------  45.6/45.8 MB 59.3 MB/s eta 0:00:01\n",
      "     --------------------------------------- 45.8/45.8 MB 23.3 MB/s eta 0:00:00\n",
      "\u001b[38;5;2m✔ Download and installation successful\u001b[0m\n",
      "You can now load the package via spacy.load('fr_core_news_md')\n"
     ]
    }
   ],
   "source": [
    "!python -m spacy download fr_core_news_md\n"
   ]
  },
  {
   "cell_type": "code",
   "execution_count": 41,
   "id": "97b708c8",
   "metadata": {},
   "outputs": [
    {
     "name": "stdout",
     "output_type": "stream",
     "text": [
      "Requirement already satisfied: unicode in c:\\users\\lenovo pc\\appdata\\local\\programs\\python\\python312\\lib\\site-packages (2.9)"
     ]
    },
    {
     "name": "stderr",
     "output_type": "stream",
     "text": [
      "\n",
      "[notice] A new release of pip is available: 25.0.1 -> 25.1.1\n",
      "[notice] To update, run: python.exe -m pip install --upgrade pip\n"
     ]
    },
    {
     "name": "stdout",
     "output_type": "stream",
     "text": [
      "\n"
     ]
    }
   ],
   "source": [
    "! pip install unicode"
   ]
  },
  {
   "cell_type": "markdown",
   "id": "ed1ed889",
   "metadata": {},
   "source": [
    "# PREPOCESSING DES CORPUS "
   ]
  },
  {
   "cell_type": "code",
   "execution_count": 42,
   "id": "dc04f9fb",
   "metadata": {},
   "outputs": [
    {
     "name": "stdout",
     "output_type": "stream",
     "text": [
      "                                             content  \\\n",
      "0  Il faut inciter les Français à s'équiper de mo...   \n",
      "1  Il faut demander aux sportifs de haut niveau d...   \n",
      "2  Il faut piétonniser des rues ou routes ou boul...   \n",
      "3  Il faut organiser des compétitions inter-entre...   \n",
      "4  Il faut éduquer dès le plus jeune âge les enfa...   \n",
      "\n",
      "                                              tokens  \n",
      "0  [falloir, inciter, francai, equiper, montre, c...  \n",
      "1  [falloir, demander, sportif, haut, niveau, exp...  \n",
      "2  [falloir, pietonniser, rue, route, boulevard, ...  \n",
      "3      [falloir, organiser, competition, mediatiser]  \n",
      "4  [falloir, eduquer, jeune, age, enfant, exercic...  \n"
     ]
    }
   ],
   "source": [
    "import spacy\n",
    "import pandas as pd\n",
    "from unidecode import unidecode  # << IMPORT ici\n",
    "\n",
    "# 1. Chargement du modèle spaCy\n",
    "nlp = spacy.load('fr_core_news_md')\n",
    "\n",
    "# 2. Fonction de prétraitement améliorée\n",
    "def preprocess(text):\n",
    "    text = unidecode(text.lower())  # Mise en minuscules + suppression des accents\n",
    "    doc = nlp(text)\n",
    "    return [token.lemma_ for token in doc if token.is_alpha and not token.is_stop]\n",
    "\n",
    "# 3. Application sur la colonne 'content'\n",
    "df['tokens'] = df['content'].astype(str).apply(preprocess)\n",
    "\n",
    "# Aperçu\n",
    "print(df[['content', 'tokens']].head())\n"
   ]
  },
  {
   "cell_type": "code",
   "execution_count": 43,
   "id": "82641d59",
   "metadata": {},
   "outputs": [],
   "source": [
    "# 2. Supprimer les mots les plus fréquents (stop words)\n",
    "from collections import Counter\n",
    "\n",
    "all_tokens = [token for tokens in df['tokens'] for token in tokens]\n",
    "top_n = 20\n",
    "most_common_words = set([w for w, _ in Counter(all_tokens).most_common(top_n)])\n",
    "\n",
    "def remove_common(tokens):\n",
    "    return [t for t in tokens if t not in most_common_words]\n",
    "\n",
    "df['tokens'] = df['tokens'].apply(remove_common)"
   ]
  },
  {
   "cell_type": "code",
   "execution_count": 44,
   "id": "0def88a6",
   "metadata": {},
   "outputs": [
    {
     "data": {
      "text/html": [
       "<div>\n",
       "<style scoped>\n",
       "    .dataframe tbody tr th:only-of-type {\n",
       "        vertical-align: middle;\n",
       "    }\n",
       "\n",
       "    .dataframe tbody tr th {\n",
       "        vertical-align: top;\n",
       "    }\n",
       "\n",
       "    .dataframe thead th {\n",
       "        text-align: right;\n",
       "    }\n",
       "</style>\n",
       "<table border=\"1\" class=\"dataframe\">\n",
       "  <thead>\n",
       "    <tr style=\"text-align: right;\">\n",
       "      <th></th>\n",
       "      <th>content</th>\n",
       "      <th>tokens</th>\n",
       "    </tr>\n",
       "  </thead>\n",
       "  <tbody>\n",
       "    <tr>\n",
       "      <th>0</th>\n",
       "      <td>Il faut inciter les Français à s'équiper de mo...</td>\n",
       "      <td>[inciter, francai, equiper, montre, connecteer...</td>\n",
       "    </tr>\n",
       "    <tr>\n",
       "      <th>1</th>\n",
       "      <td>Il faut demander aux sportifs de haut niveau d...</td>\n",
       "      <td>[demander, haut, niveau, expliquer, public, ex...</td>\n",
       "    </tr>\n",
       "    <tr>\n",
       "      <th>2</th>\n",
       "      <td>Il faut piétonniser des rues ou routes ou boul...</td>\n",
       "      <td>[pietonniser, rue, route, boulevard, inciter, ...</td>\n",
       "    </tr>\n",
       "    <tr>\n",
       "      <th>3</th>\n",
       "      <td>Il faut organiser des compétitions inter-entre...</td>\n",
       "      <td>[organiser, competition, mediatiser]</td>\n",
       "    </tr>\n",
       "    <tr>\n",
       "      <th>4</th>\n",
       "      <td>Il faut éduquer dès le plus jeune âge les enfa...</td>\n",
       "      <td>[eduquer, age, exercice, simple, disponible, a...</td>\n",
       "    </tr>\n",
       "  </tbody>\n",
       "</table>\n",
       "</div>"
      ],
      "text/plain": [
       "                                             content  \\\n",
       "0  Il faut inciter les Français à s'équiper de mo...   \n",
       "1  Il faut demander aux sportifs de haut niveau d...   \n",
       "2  Il faut piétonniser des rues ou routes ou boul...   \n",
       "3  Il faut organiser des compétitions inter-entre...   \n",
       "4  Il faut éduquer dès le plus jeune âge les enfa...   \n",
       "\n",
       "                                              tokens  \n",
       "0  [inciter, francai, equiper, montre, connecteer...  \n",
       "1  [demander, haut, niveau, expliquer, public, ex...  \n",
       "2  [pietonniser, rue, route, boulevard, inciter, ...  \n",
       "3               [organiser, competition, mediatiser]  \n",
       "4  [eduquer, age, exercice, simple, disponible, a...  "
      ]
     },
     "execution_count": 44,
     "metadata": {},
     "output_type": "execute_result"
    }
   ],
   "source": [
    "df[['content','tokens']].head()"
   ]
  },
  {
   "cell_type": "markdown",
   "id": "c4659d3b",
   "metadata": {},
   "source": [
    "# Vectorisation avec word2vec"
   ]
  },
  {
   "cell_type": "code",
   "execution_count": 45,
   "id": "84781793",
   "metadata": {},
   "outputs": [],
   "source": [
    "from gensim.models import Word2Vec"
   ]
  },
  {
   "cell_type": "code",
   "execution_count": 46,
   "id": "5241bfb6",
   "metadata": {},
   "outputs": [],
   "source": [
    "from gensim.models import Word2Vec"
   ]
  },
  {
   "cell_type": "code",
   "execution_count": 47,
   "id": "bedcfbc6",
   "metadata": {},
   "outputs": [
    {
     "data": {
      "text/plain": [
       "13"
      ]
     },
     "execution_count": 47,
     "metadata": {},
     "output_type": "execute_result"
    }
   ],
   "source": [
    "MAX=np.max([len(l) for l in df[\"tokens\"]])\n",
    "MAX"
   ]
  },
  {
   "cell_type": "markdown",
   "id": "0180c3f1",
   "metadata": {},
   "source": [
    "## Vectorisation"
   ]
  },
  {
   "cell_type": "code",
   "execution_count": 48,
   "id": "51d9e64b",
   "metadata": {},
   "outputs": [],
   "source": [
    "# 1. Entraînement du modèle Word2Vec\n",
    "model = Word2Vec(\n",
    "    sentences=df['tokens'],   # On utilise directement la liste de tokens\n",
    "    vector_size=50,          # Dimension des vecteurs (tu peux changer, ex: 50, 200)\n",
    "    window=MAX,                 # Taille du contexte (nombre de mots autour)\n",
    "    min_count=1,              # Ignore les mots apparaissant moins de 2 fois\n",
    "    sg=0                      # 1 = skip-gram ; 0 = CBOW\n",
    ")\n",
    "\n",
    "# 2. Sauvegarder ou charger ton modèle si besoin\n",
    "model.save(\"word2vec.model\")\n",
    "model = Word2Vec.load(\"word2vec.model\")\n"
   ]
  },
  {
   "cell_type": "code",
   "execution_count": 49,
   "id": "8c9e2092",
   "metadata": {},
   "outputs": [],
   "source": [
    " # 3. Obtenir les vecteurs pour chaque mot"
   ]
  },
  {
   "cell_type": "code",
   "execution_count": 50,
   "id": "e34de136",
   "metadata": {},
   "outputs": [
    {
     "data": {
      "text/html": [
       "<div>\n",
       "<style scoped>\n",
       "    .dataframe tbody tr th:only-of-type {\n",
       "        vertical-align: middle;\n",
       "    }\n",
       "\n",
       "    .dataframe tbody tr th {\n",
       "        vertical-align: top;\n",
       "    }\n",
       "\n",
       "    .dataframe thead th {\n",
       "        text-align: right;\n",
       "    }\n",
       "</style>\n",
       "<table border=\"1\" class=\"dataframe\">\n",
       "  <thead>\n",
       "    <tr style=\"text-align: right;\">\n",
       "      <th></th>\n",
       "      <th>tokens</th>\n",
       "      <th>vectors</th>\n",
       "    </tr>\n",
       "  </thead>\n",
       "  <tbody>\n",
       "    <tr>\n",
       "      <th>0</th>\n",
       "      <td>[inciter, francai, equiper, montre, connecteer...</td>\n",
       "      <td>[[0.014716952, -0.014956221, -0.0019789047, -0...</td>\n",
       "    </tr>\n",
       "    <tr>\n",
       "      <th>1</th>\n",
       "      <td>[demander, haut, niveau, expliquer, public, ex...</td>\n",
       "      <td>[[0.017056514, 0.011036368, 0.017896706, 0.003...</td>\n",
       "    </tr>\n",
       "    <tr>\n",
       "      <th>2</th>\n",
       "      <td>[pietonniser, rue, route, boulevard, inciter, ...</td>\n",
       "      <td>[[0.012484069, 0.01718276, -0.0049381913, 0.01...</td>\n",
       "    </tr>\n",
       "    <tr>\n",
       "      <th>3</th>\n",
       "      <td>[organiser, competition, mediatiser]</td>\n",
       "      <td>[[0.01092309, -0.009517013, -0.011841138, -6.2...</td>\n",
       "    </tr>\n",
       "    <tr>\n",
       "      <th>4</th>\n",
       "      <td>[eduquer, age, exercice, simple, disponible, a...</td>\n",
       "      <td>[[-0.005752457, 0.011988575, -0.00036917403, -...</td>\n",
       "    </tr>\n",
       "  </tbody>\n",
       "</table>\n",
       "</div>"
      ],
      "text/plain": [
       "                                              tokens  \\\n",
       "0  [inciter, francai, equiper, montre, connecteer...   \n",
       "1  [demander, haut, niveau, expliquer, public, ex...   \n",
       "2  [pietonniser, rue, route, boulevard, inciter, ...   \n",
       "3               [organiser, competition, mediatiser]   \n",
       "4  [eduquer, age, exercice, simple, disponible, a...   \n",
       "\n",
       "                                             vectors  \n",
       "0  [[0.014716952, -0.014956221, -0.0019789047, -0...  \n",
       "1  [[0.017056514, 0.011036368, 0.017896706, 0.003...  \n",
       "2  [[0.012484069, 0.01718276, -0.0049381913, 0.01...  \n",
       "3  [[0.01092309, -0.009517013, -0.011841138, -6.2...  \n",
       "4  [[-0.005752457, 0.011988575, -0.00036917403, -...  "
      ]
     },
     "execution_count": 50,
     "metadata": {},
     "output_type": "execute_result"
    }
   ],
   "source": [
    "def get_token_vector(tokens):\n",
    "    list_vector = []\n",
    "    for t in tokens :\n",
    "        list_vector.append(model.wv[t])\n",
    "    return list_vector\n",
    "\n",
    "\n",
    "# application de la fonction sur la colonne 'tokens'\n",
    "df['vectors'] = df['tokens'].apply(get_token_vector)      \n",
    "df[['tokens', 'vectors']].head()"
   ]
  },
  {
   "cell_type": "markdown",
   "id": "1445e517",
   "metadata": {},
   "source": [
    "## Visualisation du nuage de point par TSNE"
   ]
  },
  {
   "cell_type": "code",
   "execution_count": 51,
   "id": "5c34e5c6",
   "metadata": {},
   "outputs": [
    {
     "name": "stderr",
     "output_type": "stream",
     "text": [
      "c:\\Users\\LENOVO PC\\AppData\\Local\\Programs\\Python\\Python312\\Lib\\site-packages\\sklearn\\manifold\\_t_sne.py:1162: FutureWarning: 'n_iter' was renamed to 'max_iter' in version 1.5 and will be removed in 1.7.\n",
      "  warnings.warn(\n"
     ]
    },
    {
     "data": {
      "application/vnd.plotly.v1+json": {
       "config": {
        "plotlyServerURL": "https://plot.ly"
       },
       "data": [
        {
         "hovertemplate": "<b>%{hovertext}</b><br><br>x=%{x}<br>y=%{y}<extra></extra>",
         "hovertext": [
          "permettre",
          "creer",
          "pouvoir",
          "personne",
          "place",
          "velo",
          "public",
          "age",
          "acce",
          "salle",
          "heure",
          "pratiquer",
          "accessible",
          "cours",
          "ville",
          "gratuit",
          "donner",
          "equipement",
          "aider",
          "social",
          "scolaire",
          "non",
          "lieu",
          "encourager",
          "faciliter",
          "inciter",
          "infrastructure",
          "prendre",
          "integrer",
          "jeu",
          "benevole",
          "ep",
          "être",
          "competition",
          "espace",
          "primaire",
          "senior",
          "commune",
          "quotidien",
          "journee",
          "augmenter",
          "bienfait",
          "semaine",
          "mieux",
          "jour",
          "cyclable",
          "promouvoir",
          "moyen",
          "college",
          "ludique",
          "offrir",
          "bien",
          "pied",
          "salarie",
          "davantage",
          "plaisir",
          "parent",
          "adulte",
          "piste",
          "prix",
          "grand",
          "structure",
          "niveau",
          "horaire",
          "charge",
          "nombre",
          "organiser",
          "securite",
          "abonnement",
          "seance",
          "licence",
          "bouger",
          "marche",
          "an",
          "aide",
          "parcours",
          "famille",
          "adapter",
          "lycee",
          "terrain",
          "exemple",
          "valoriser",
          "vie",
          "petit",
          "obligatoire",
          "pause",
          "etat",
          "loisir",
          "bon",
          "local",
          "sein",
          "aller",
          "creneau",
          "federation",
          "educateur",
          "arreter",
          "formation",
          "performance",
          "francai",
          "maternelle",
          "culture",
          "employeur",
          "programme",
          "deplacement",
          "obliger",
          "multisport",
          "rembourser",
          "installation",
          "objectif",
          "materiel",
          "financier",
          "midi",
          "ouvrir",
          "emploi",
          "matin",
          "inscrire",
          "sensibiliser",
          "beaucoup",
          "sant",
          "groupe",
          "milieu",
          "handicap",
          "forme",
          "professionnel",
          "haut",
          "rural",
          "discipline",
          "gymnase",
          "plein",
          "envie",
          "femme",
          "medecin",
          "doux",
          "libre",
          "proximite",
          "transport",
          "trouver",
          "prise",
          "voir",
          "campagne",
          "dedie",
          "quartier",
          "accompagner",
          "centre",
          "budget",
          "cout",
          "nouveau",
          "fonction",
          "decouvrir",
          "education",
          "renforcer",
          "service",
          "actif",
          "annee",
          "air",
          "parc",
          "construire",
          "remettre",
          "etude",
          "exercice",
          "voiture",
          "trop",
          "equipe",
          "cher",
          "decouverte",
          "esprit",
          "ameliorer",
          "gym",
          "evenement",
          "inscription",
          "lien",
          "payer",
          "national",
          "amenager",
          "inclure",
          "stade",
          "adaptee",
          "modele",
          "yoga",
          "retraite",
          "soutenir",
          "offre",
          "maladie",
          "animateur",
          "organisation",
          "possibilite",
          "ex",
          "marcher",
          "interdire",
          "mairie",
          "baisser",
          "utiliser",
          "meilleur",
          "subvention",
          "exterieur",
          "mutuel",
          "participer",
          "partie",
          "long",
          "coach",
          "contre",
          "situation",
          "maison",
          "patient",
          "population",
          "action",
          "enseignant",
          "choix",
          "prescrire",
          "travailler",
          "ca",
          "motiver",
          "piscine",
          "systeme",
          "olympique",
          "acceder",
          "gratuitement",
          "expliquer",
          "imposer",
          "citoyen",
          "gout",
          "adapteer",
          "apa",
          "disposition",
          "medicament",
          "eleve",
          "corps",
          "minute",
          "france",
          "sedentarite",
          "territoire",
          "mouvement",
          "collectivite",
          "pass",
          "financierement",
          "douche",
          "financer",
          "savoir",
          "reduire",
          "cotisation",
          "prof",
          "jo",
          "qualite",
          "habitude",
          "avoir",
          "village",
          "regulierement",
          "tarif",
          "disponible",
          "zone",
          "passer",
          "associatif",
          "former",
          "besoin",
          "collectif",
          "application",
          "interet",
          "course",
          "financement",
          "etablissement",
          "tot",
          "gratuite",
          "aps",
          "matiere",
          "poste",
          "accer",
          "devenir",
          "diminuer",
          "soir",
          "revoir",
          "commencer",
          "limiter",
          "inclusion",
          "eviter",
          "vestiaire",
          "ensemble",
          "vrai",
          "medical",
          "partir",
          "trajet",
          "apprentissage",
          "chronique",
          "entraineur",
          "commun",
          "encadrement",
          "mobilite",
          "important",
          "lutter",
          "reseau",
          "urbain",
          "exister",
          "connaitre",
          "amenagement",
          "cesser",
          "instaurer",
          "reguliere",
          "choisir",
          "mental",
          "projet",
          "accompagnement"
         ],
         "legendgroup": "",
         "marker": {
          "color": "blue",
          "size": 6,
          "symbol": "circle"
         },
         "mode": "markers",
         "name": "",
         "orientation": "v",
         "showlegend": false,
         "textposition": "top center",
         "type": "scatter",
         "x": {
          "bdata": "SbwiwSMxA8FI7xjBkY36wPlRDMHd2CHBl8UdwZZPF8EJfvDAmXUgwd/wI8GzMBTBEaABwaDeFsHbJQ/B1mCdwI5cA8EeqxTBU1zdwP2bxsB9Y7bAtaXjwH9NscA0XwrB234YwNshC8E/zurAvAYxv5MsxsBMoPLANI73wJS+YsChYu/AYXKgwJAVcMB+erzAErmuwKq+DMG/5/LA1nOiwEZUpcAeZfvA70QpQEVL0MBsqOa/PJbPwGlmYkDo1crAht0pwUSZZsA8+ejA5bjbwObi/8DquYzAxYuKwFlMhMB9hvvAHAeAwP7T9cBFvrnAWGanvtH4BMGdORTBjqYXwDGFxcCOcg3BKlTVwIEAvD9/d7DAemUPwewO1TwI2JfAMTyqwBXeBsCe/wXBZ9QUwddKr74SPCBACthAwApvHcAZYWE/uYlewESwXcCXIoLAtmDuQOu+I8BK0azALVLmv7XcJcC3R47AsqWqvcrFl8AMcyO/Sdm6wDGTY8Dv8snAssiWu2LigcBhs8DA13jdQBrehcAnIaBALkCxwFTPlb+B6iJA7x3bQPhIT8B+oINANg+CwK2lqcCfo5K/vYYWQEjtoL/nRFDAH2dfQKpHcsAKv/e/DejBwCaFLj7E3GzAgF0Cvz7XVsB7TvE/Q7DIQJodysD7JyPAKvAeP/l+lEAuXa7APUJ5QJ0zF8BvmVzAGaOwv7VUhECLMuxAYQnKP/WEEj9YWOrABS/zwKX6Qb/9irFAZJzSvyeHur6h5MO/5kTcv7gsDMCiULVA+p3wv75tlj9OMqk/k/YpQAUDwkCk/5tAlTsdPvhsEb/A+xC/Vffkv+hOekBb+M1A4VFgQD+VM0AO6ZNAOPWeQBxtEcDBOs6/VSYlP3pcPMBupCJACqZVQB4z50CJwiNAM+QPQFnHhECL69dAirDRvpxHmEDgrIc/9ez8Po3N20A8whjAT0LkQKg3YL/+Rwe83k3CQKPzzj9u1aVAXnPUv5vwNEClopFAgapyQPeMLkAJgyZACBNWwI0uLz/zpoQ/yvGZQAXTPT9kagtBZRIhv+3txj/2KIo/e2MqQPkk+0Bb00JA4jsAQMO4g0CmsOc/LN4LQK5/KD/j1/BAJItFwKgZxECx1hm+eCKsvz9jRb8MliBA+DpvQMqzVMBYJFFAyr6gQNP5yz/wAVRAhM2zPy9cDkC9TF09hbuzPwXKkEA6su5A83TAwKZbZUAcJ7xAGvWiv0NNs0AZq1xATgF/QOX+EkDDeJ4/Ob1FQIMRjsACse6+g0K/QEatfz/BtiFASKloQBB0nUBZELFAA9CsPmZaKEDKulE+sxLjQIZWukBoLoxAa5dBQJ7fAEGmE8lA4c2DQIUSs0C5BslA5HroQIUXDEFWoSlAMyKjPzRbTL+OI25AAZ3CQLB3Vz9Bf4g/2DvXQBs7lEBs6wU/2GlAvpFLmkDeYrNAfJHdP4bwk0CmfYtAxLcYQNRSBkAzln9AvHz+Pif6n0BoH7E+qrwIQemNQkChT5JASQ7YP0INTEARx1S/Qzq4P1GvOECG8f9Acbx8QB5WA0Eo+JW/i27BvtElq0DSvqFAk++GQJtv4UCQX4lA",
          "dtype": "f4"
         },
         "xaxis": "x",
         "y": {
          "bdata": "kNSbPIm92b/LeELAmdX3PZ1ga78GRme/fEfvv7pWZb856IbA8uBQP+AWHcCejdM/OYeSPlFF/Dup6cQ/vkTtv37Ihb9uRQDAv+QmvZUc5b+gLQpAmgk1wIq6H0CxcNc/8yCZwJCx8b+w6ZbA70LIv1HQScCVqUS/XX7xv/vw/L8pOizAIr6vQAbc5z8hwX7A6kQ8wEhXOcBDyrs/JfiyPz5ikb/gvRVATE+RQHA8KD5xxxbA2Dm2P9zns8AQcq2+ARy+v02dkcC8suQ/2trAPpf+b8D+brs+UY5SwAgFWL93Pw8/dgVqwDnTSEC7Fki/thZmQCotzb6W4Qw/OexnwM6NEkDORSjAkgSSv6gedEA1Nb6+Hgc2wINRlMCZuhQ/4lKdv1HwJ0DR/co/L66nPk3pRMDW4JRApPu5QKw5AMDQ/pnAGROBvw4KuD/3zKjAB6SUQAUs5T1/yOE/nD+PQDLsgr7XCLNAU16+QPnB1T4xE08/gwkMwClTGUA9h7K/UjgzvxgChUCbRy0/330NQNLdrMDc6RtAn/Q0QLh0Cb/mraBAmZJpQG4RI8CPlxm/rjFgv15LrkBtBUPAD9qNwG3IicDxPHI/TWDVP7+A/r9Qg88/Pz6EQHytYEBSLSZAAjnNwAClh0DS0NTAeU25P2nHHMBGL0VAZh4MQD5Feb8zlH0+cQEOQNmf+b95d7NAiyP3PriudMAK7zjABoEbwG3UUUD3l5ZA/nkdQLs6679GqnxAb0snQIOGvMDqFxq/QjBCQAXhFb/ZPpG/TkLjQO6EmsCQl4U/IVcGQJZdqkAcVQXAGRAIQHEg475hinA/2UKzwDYEp8BCCgLAySQdP/xdxT7UIgNAw/kowHSjVb9h14NAgOJ6wNvz1D9fhLA/Ns+AQBMwz7/Qna0/JO9dwM4qEUAnJEBAZzLPP6j9Fr5Zoo1AGK59wNSVTMCaDZi/Ug44wIqZKsDqHVlAAlRwv//CnsCOTDtApuznP00GCMDs9GpArluav7Z1MkDDFFPAutoDP4vToD/GOddAUll3P1R2mj7nnRi/L1adPgyWYUC4Y/W/ffSXvjRadD+b7a9AxvvaPkCWfMCah49AS6/+v6KErkDRcZI/7EB4QDsDCEDU8bC/OBUiwC97OECkclJAMPpZQL9UHcDukoNA9hJrwLWT1kAipXE/865OQDcuEcAolazAe5RkPyyvGz+vrEhAXkmGQDcQob9wqom9RY6NwOauYkCfagfAE65RvgxYj7/qjOg/2/VQQOtA5r59KwBALysYQBXMuD+1Rdq+rF3mQOJUBMCzG5JAUaAjvsAXLL+8O7q/cBLmvpOVWr/k7r1AwSU/wNoemD83nbVA0tSjwBibPz8HOmG/MDuVP5zcLEBhOL+/G5OJv3z7s0BLQGfAMICSP4ijVcDmqN0/aQvHPrP8k0Chdvk+Mm2SQAddw79YGoDA45/OviNkwkDtcgo/vfPFQNw76b+6MDpAPMMSwJby6T+St4NA4BZqv/OCJkD8SpFAGjvFvpcfW0AonDJApi8lQBx6/j8Uy7e/enXwvwsKmr+jKYTAcI0yPyCIbECqmTfAsza+QPTHRUBMdIk/",
          "dtype": "f4"
         },
         "yaxis": "y"
        }
       ],
       "layout": {
        "height": 700,
        "legend": {
         "tracegroupgap": 0
        },
        "template": {
         "data": {
          "bar": [
           {
            "error_x": {
             "color": "#2a3f5f"
            },
            "error_y": {
             "color": "#2a3f5f"
            },
            "marker": {
             "line": {
              "color": "#E5ECF6",
              "width": 0.5
             },
             "pattern": {
              "fillmode": "overlay",
              "size": 10,
              "solidity": 0.2
             }
            },
            "type": "bar"
           }
          ],
          "barpolar": [
           {
            "marker": {
             "line": {
              "color": "#E5ECF6",
              "width": 0.5
             },
             "pattern": {
              "fillmode": "overlay",
              "size": 10,
              "solidity": 0.2
             }
            },
            "type": "barpolar"
           }
          ],
          "carpet": [
           {
            "aaxis": {
             "endlinecolor": "#2a3f5f",
             "gridcolor": "white",
             "linecolor": "white",
             "minorgridcolor": "white",
             "startlinecolor": "#2a3f5f"
            },
            "baxis": {
             "endlinecolor": "#2a3f5f",
             "gridcolor": "white",
             "linecolor": "white",
             "minorgridcolor": "white",
             "startlinecolor": "#2a3f5f"
            },
            "type": "carpet"
           }
          ],
          "choropleth": [
           {
            "colorbar": {
             "outlinewidth": 0,
             "ticks": ""
            },
            "type": "choropleth"
           }
          ],
          "contour": [
           {
            "colorbar": {
             "outlinewidth": 0,
             "ticks": ""
            },
            "colorscale": [
             [
              0,
              "#0d0887"
             ],
             [
              0.1111111111111111,
              "#46039f"
             ],
             [
              0.2222222222222222,
              "#7201a8"
             ],
             [
              0.3333333333333333,
              "#9c179e"
             ],
             [
              0.4444444444444444,
              "#bd3786"
             ],
             [
              0.5555555555555556,
              "#d8576b"
             ],
             [
              0.6666666666666666,
              "#ed7953"
             ],
             [
              0.7777777777777778,
              "#fb9f3a"
             ],
             [
              0.8888888888888888,
              "#fdca26"
             ],
             [
              1,
              "#f0f921"
             ]
            ],
            "type": "contour"
           }
          ],
          "contourcarpet": [
           {
            "colorbar": {
             "outlinewidth": 0,
             "ticks": ""
            },
            "type": "contourcarpet"
           }
          ],
          "heatmap": [
           {
            "colorbar": {
             "outlinewidth": 0,
             "ticks": ""
            },
            "colorscale": [
             [
              0,
              "#0d0887"
             ],
             [
              0.1111111111111111,
              "#46039f"
             ],
             [
              0.2222222222222222,
              "#7201a8"
             ],
             [
              0.3333333333333333,
              "#9c179e"
             ],
             [
              0.4444444444444444,
              "#bd3786"
             ],
             [
              0.5555555555555556,
              "#d8576b"
             ],
             [
              0.6666666666666666,
              "#ed7953"
             ],
             [
              0.7777777777777778,
              "#fb9f3a"
             ],
             [
              0.8888888888888888,
              "#fdca26"
             ],
             [
              1,
              "#f0f921"
             ]
            ],
            "type": "heatmap"
           }
          ],
          "histogram": [
           {
            "marker": {
             "pattern": {
              "fillmode": "overlay",
              "size": 10,
              "solidity": 0.2
             }
            },
            "type": "histogram"
           }
          ],
          "histogram2d": [
           {
            "colorbar": {
             "outlinewidth": 0,
             "ticks": ""
            },
            "colorscale": [
             [
              0,
              "#0d0887"
             ],
             [
              0.1111111111111111,
              "#46039f"
             ],
             [
              0.2222222222222222,
              "#7201a8"
             ],
             [
              0.3333333333333333,
              "#9c179e"
             ],
             [
              0.4444444444444444,
              "#bd3786"
             ],
             [
              0.5555555555555556,
              "#d8576b"
             ],
             [
              0.6666666666666666,
              "#ed7953"
             ],
             [
              0.7777777777777778,
              "#fb9f3a"
             ],
             [
              0.8888888888888888,
              "#fdca26"
             ],
             [
              1,
              "#f0f921"
             ]
            ],
            "type": "histogram2d"
           }
          ],
          "histogram2dcontour": [
           {
            "colorbar": {
             "outlinewidth": 0,
             "ticks": ""
            },
            "colorscale": [
             [
              0,
              "#0d0887"
             ],
             [
              0.1111111111111111,
              "#46039f"
             ],
             [
              0.2222222222222222,
              "#7201a8"
             ],
             [
              0.3333333333333333,
              "#9c179e"
             ],
             [
              0.4444444444444444,
              "#bd3786"
             ],
             [
              0.5555555555555556,
              "#d8576b"
             ],
             [
              0.6666666666666666,
              "#ed7953"
             ],
             [
              0.7777777777777778,
              "#fb9f3a"
             ],
             [
              0.8888888888888888,
              "#fdca26"
             ],
             [
              1,
              "#f0f921"
             ]
            ],
            "type": "histogram2dcontour"
           }
          ],
          "mesh3d": [
           {
            "colorbar": {
             "outlinewidth": 0,
             "ticks": ""
            },
            "type": "mesh3d"
           }
          ],
          "parcoords": [
           {
            "line": {
             "colorbar": {
              "outlinewidth": 0,
              "ticks": ""
             }
            },
            "type": "parcoords"
           }
          ],
          "pie": [
           {
            "automargin": true,
            "type": "pie"
           }
          ],
          "scatter": [
           {
            "fillpattern": {
             "fillmode": "overlay",
             "size": 10,
             "solidity": 0.2
            },
            "type": "scatter"
           }
          ],
          "scatter3d": [
           {
            "line": {
             "colorbar": {
              "outlinewidth": 0,
              "ticks": ""
             }
            },
            "marker": {
             "colorbar": {
              "outlinewidth": 0,
              "ticks": ""
             }
            },
            "type": "scatter3d"
           }
          ],
          "scattercarpet": [
           {
            "marker": {
             "colorbar": {
              "outlinewidth": 0,
              "ticks": ""
             }
            },
            "type": "scattercarpet"
           }
          ],
          "scattergeo": [
           {
            "marker": {
             "colorbar": {
              "outlinewidth": 0,
              "ticks": ""
             }
            },
            "type": "scattergeo"
           }
          ],
          "scattergl": [
           {
            "marker": {
             "colorbar": {
              "outlinewidth": 0,
              "ticks": ""
             }
            },
            "type": "scattergl"
           }
          ],
          "scattermap": [
           {
            "marker": {
             "colorbar": {
              "outlinewidth": 0,
              "ticks": ""
             }
            },
            "type": "scattermap"
           }
          ],
          "scattermapbox": [
           {
            "marker": {
             "colorbar": {
              "outlinewidth": 0,
              "ticks": ""
             }
            },
            "type": "scattermapbox"
           }
          ],
          "scatterpolar": [
           {
            "marker": {
             "colorbar": {
              "outlinewidth": 0,
              "ticks": ""
             }
            },
            "type": "scatterpolar"
           }
          ],
          "scatterpolargl": [
           {
            "marker": {
             "colorbar": {
              "outlinewidth": 0,
              "ticks": ""
             }
            },
            "type": "scatterpolargl"
           }
          ],
          "scatterternary": [
           {
            "marker": {
             "colorbar": {
              "outlinewidth": 0,
              "ticks": ""
             }
            },
            "type": "scatterternary"
           }
          ],
          "surface": [
           {
            "colorbar": {
             "outlinewidth": 0,
             "ticks": ""
            },
            "colorscale": [
             [
              0,
              "#0d0887"
             ],
             [
              0.1111111111111111,
              "#46039f"
             ],
             [
              0.2222222222222222,
              "#7201a8"
             ],
             [
              0.3333333333333333,
              "#9c179e"
             ],
             [
              0.4444444444444444,
              "#bd3786"
             ],
             [
              0.5555555555555556,
              "#d8576b"
             ],
             [
              0.6666666666666666,
              "#ed7953"
             ],
             [
              0.7777777777777778,
              "#fb9f3a"
             ],
             [
              0.8888888888888888,
              "#fdca26"
             ],
             [
              1,
              "#f0f921"
             ]
            ],
            "type": "surface"
           }
          ],
          "table": [
           {
            "cells": {
             "fill": {
              "color": "#EBF0F8"
             },
             "line": {
              "color": "white"
             }
            },
            "header": {
             "fill": {
              "color": "#C8D4E3"
             },
             "line": {
              "color": "white"
             }
            },
            "type": "table"
           }
          ]
         },
         "layout": {
          "annotationdefaults": {
           "arrowcolor": "#2a3f5f",
           "arrowhead": 0,
           "arrowwidth": 1
          },
          "autotypenumbers": "strict",
          "coloraxis": {
           "colorbar": {
            "outlinewidth": 0,
            "ticks": ""
           }
          },
          "colorscale": {
           "diverging": [
            [
             0,
             "#8e0152"
            ],
            [
             0.1,
             "#c51b7d"
            ],
            [
             0.2,
             "#de77ae"
            ],
            [
             0.3,
             "#f1b6da"
            ],
            [
             0.4,
             "#fde0ef"
            ],
            [
             0.5,
             "#f7f7f7"
            ],
            [
             0.6,
             "#e6f5d0"
            ],
            [
             0.7,
             "#b8e186"
            ],
            [
             0.8,
             "#7fbc41"
            ],
            [
             0.9,
             "#4d9221"
            ],
            [
             1,
             "#276419"
            ]
           ],
           "sequential": [
            [
             0,
             "#0d0887"
            ],
            [
             0.1111111111111111,
             "#46039f"
            ],
            [
             0.2222222222222222,
             "#7201a8"
            ],
            [
             0.3333333333333333,
             "#9c179e"
            ],
            [
             0.4444444444444444,
             "#bd3786"
            ],
            [
             0.5555555555555556,
             "#d8576b"
            ],
            [
             0.6666666666666666,
             "#ed7953"
            ],
            [
             0.7777777777777778,
             "#fb9f3a"
            ],
            [
             0.8888888888888888,
             "#fdca26"
            ],
            [
             1,
             "#f0f921"
            ]
           ],
           "sequentialminus": [
            [
             0,
             "#0d0887"
            ],
            [
             0.1111111111111111,
             "#46039f"
            ],
            [
             0.2222222222222222,
             "#7201a8"
            ],
            [
             0.3333333333333333,
             "#9c179e"
            ],
            [
             0.4444444444444444,
             "#bd3786"
            ],
            [
             0.5555555555555556,
             "#d8576b"
            ],
            [
             0.6666666666666666,
             "#ed7953"
            ],
            [
             0.7777777777777778,
             "#fb9f3a"
            ],
            [
             0.8888888888888888,
             "#fdca26"
            ],
            [
             1,
             "#f0f921"
            ]
           ]
          },
          "colorway": [
           "#636efa",
           "#EF553B",
           "#00cc96",
           "#ab63fa",
           "#FFA15A",
           "#19d3f3",
           "#FF6692",
           "#B6E880",
           "#FF97FF",
           "#FECB52"
          ],
          "font": {
           "color": "#2a3f5f"
          },
          "geo": {
           "bgcolor": "white",
           "lakecolor": "white",
           "landcolor": "#E5ECF6",
           "showlakes": true,
           "showland": true,
           "subunitcolor": "white"
          },
          "hoverlabel": {
           "align": "left"
          },
          "hovermode": "closest",
          "mapbox": {
           "style": "light"
          },
          "paper_bgcolor": "white",
          "plot_bgcolor": "#E5ECF6",
          "polar": {
           "angularaxis": {
            "gridcolor": "white",
            "linecolor": "white",
            "ticks": ""
           },
           "bgcolor": "#E5ECF6",
           "radialaxis": {
            "gridcolor": "white",
            "linecolor": "white",
            "ticks": ""
           }
          },
          "scene": {
           "xaxis": {
            "backgroundcolor": "#E5ECF6",
            "gridcolor": "white",
            "gridwidth": 2,
            "linecolor": "white",
            "showbackground": true,
            "ticks": "",
            "zerolinecolor": "white"
           },
           "yaxis": {
            "backgroundcolor": "#E5ECF6",
            "gridcolor": "white",
            "gridwidth": 2,
            "linecolor": "white",
            "showbackground": true,
            "ticks": "",
            "zerolinecolor": "white"
           },
           "zaxis": {
            "backgroundcolor": "#E5ECF6",
            "gridcolor": "white",
            "gridwidth": 2,
            "linecolor": "white",
            "showbackground": true,
            "ticks": "",
            "zerolinecolor": "white"
           }
          },
          "shapedefaults": {
           "line": {
            "color": "#2a3f5f"
           }
          },
          "ternary": {
           "aaxis": {
            "gridcolor": "white",
            "linecolor": "white",
            "ticks": ""
           },
           "baxis": {
            "gridcolor": "white",
            "linecolor": "white",
            "ticks": ""
           },
           "bgcolor": "#E5ECF6",
           "caxis": {
            "gridcolor": "white",
            "linecolor": "white",
            "ticks": ""
           }
          },
          "title": {
           "x": 0.05
          },
          "xaxis": {
           "automargin": true,
           "gridcolor": "white",
           "linecolor": "white",
           "ticks": "",
           "title": {
            "standoff": 15
           },
           "zerolinecolor": "white",
           "zerolinewidth": 2
          },
          "yaxis": {
           "automargin": true,
           "gridcolor": "white",
           "linecolor": "white",
           "ticks": "",
           "title": {
            "standoff": 15
           },
           "zerolinecolor": "white",
           "zerolinewidth": 2
          }
         }
        },
        "title": {
         "text": "Visualisation interactive des embeddings (t-SNE)"
        },
        "width": 1000,
        "xaxis": {
         "anchor": "y",
         "domain": [
          0,
          1
         ],
         "title": {
          "text": "x"
         }
        },
        "yaxis": {
         "anchor": "x",
         "domain": [
          0,
          1
         ],
         "title": {
          "text": "y"
         }
        }
       }
      }
     },
     "metadata": {},
     "output_type": "display_data"
    }
   ],
   "source": [
    "from sklearn.manifold import TSNE\n",
    "import plotly.express as px\n",
    "import pandas as pd\n",
    "\n",
    "# 1. Sélection des mots (ex : les 300 plus fréquents)\n",
    "mots = list(model.wv.index_to_key[:300])\n",
    "vecteurs = model.wv[mots]\n",
    "\n",
    "# 2. Réduction de dimension avec t-SNE\n",
    "tsne = TSNE(n_components=2, random_state=42, perplexity=40, n_iter=1000)\n",
    "vecteurs_2D = tsne.fit_transform(vecteurs)\n",
    "\n",
    "# 3. Mise en DataFrame pour Plotly\n",
    "df_tsne = pd.DataFrame({\n",
    "    \"mot\": mots,\n",
    "    \"x\": vecteurs_2D[:, 0],\n",
    "    \"y\": vecteurs_2D[:, 1]\n",
    "})\n",
    "\n",
    "# 4. Affichage interactif\n",
    "fig = px.scatter(df_tsne, x=\"x\", y=\"y\", hover_name=\"mot\", title=\"Visualisation interactive des embeddings (t-SNE)\")\n",
    "fig.update_traces(marker=dict(size=6, color=\"blue\"), textposition='top center')\n",
    "fig.update_layout(width=1000, height=700)\n",
    "fig.show()\n"
   ]
  },
  {
   "cell_type": "code",
   "execution_count": 52,
   "id": "a340d8e5",
   "metadata": {},
   "outputs": [],
   "source": [
    "from utils import *"
   ]
  },
  {
   "cell_type": "markdown",
   "id": "bbd558eb",
   "metadata": {},
   "source": [
    "## Calcul de l'embedding moyen "
   ]
  },
  {
   "cell_type": "code",
   "execution_count": 53,
   "id": "2fa23ef6",
   "metadata": {},
   "outputs": [],
   "source": [
    "# Application de la fonction sur la colonne 'vectors' pour le calcul de la moyenne\n",
    "df['doc_vector'] = df['vectors'].apply(lambda v: compute_mean_embedding(v, vector_size=50))"
   ]
  },
  {
   "cell_type": "markdown",
   "id": "0875af54",
   "metadata": {},
   "source": [
    "# CLUSTERING AVEC KMEANS\n"
   ]
  },
  {
   "cell_type": "code",
   "execution_count": 54,
   "id": "5f88d301",
   "metadata": {},
   "outputs": [],
   "source": [
    "# Supposons que tu as une colonne `doc_vector` (vecteurs moyens de chaque document)\n",
    "X = stack(df['doc_vector'].values)\n",
    "\n",
    "# Application du clustering\n",
    "kmeans_model, df['cluster'] = apply_kmeans_clustering(X, k=5, save_path=\"kmeans_model.joblib\")\n"
   ]
  },
  {
   "cell_type": "code",
   "execution_count": 55,
   "id": "ee36cdd4",
   "metadata": {},
   "outputs": [
    {
     "data": {
      "text/html": [
       "<div>\n",
       "<style scoped>\n",
       "    .dataframe tbody tr th:only-of-type {\n",
       "        vertical-align: middle;\n",
       "    }\n",
       "\n",
       "    .dataframe tbody tr th {\n",
       "        vertical-align: top;\n",
       "    }\n",
       "\n",
       "    .dataframe thead th {\n",
       "        text-align: right;\n",
       "    }\n",
       "</style>\n",
       "<table border=\"1\" class=\"dataframe\">\n",
       "  <thead>\n",
       "    <tr style=\"text-align: right;\">\n",
       "      <th></th>\n",
       "      <th>doc_vector</th>\n",
       "      <th>cluster</th>\n",
       "    </tr>\n",
       "  </thead>\n",
       "  <tbody>\n",
       "    <tr>\n",
       "      <th>0</th>\n",
       "      <td>[0.00012583955, -0.0014491752, -0.0045842114, ...</td>\n",
       "      <td>2</td>\n",
       "    </tr>\n",
       "    <tr>\n",
       "      <th>1</th>\n",
       "      <td>[-0.0028289293, -0.0029933688, 0.0024615093, -...</td>\n",
       "      <td>2</td>\n",
       "    </tr>\n",
       "    <tr>\n",
       "      <th>2</th>\n",
       "      <td>[-0.0023526638, -0.0011813795, -1.7954502e-05,...</td>\n",
       "      <td>0</td>\n",
       "    </tr>\n",
       "    <tr>\n",
       "      <th>3</th>\n",
       "      <td>[-0.0050231726, -0.013367386, -0.0040173135, 0...</td>\n",
       "      <td>2</td>\n",
       "    </tr>\n",
       "    <tr>\n",
       "      <th>4</th>\n",
       "      <td>[-0.00018567599, 0.001485504, -0.006300976, -0...</td>\n",
       "      <td>1</td>\n",
       "    </tr>\n",
       "  </tbody>\n",
       "</table>\n",
       "</div>"
      ],
      "text/plain": [
       "                                          doc_vector  cluster\n",
       "0  [0.00012583955, -0.0014491752, -0.0045842114, ...        2\n",
       "1  [-0.0028289293, -0.0029933688, 0.0024615093, -...        2\n",
       "2  [-0.0023526638, -0.0011813795, -1.7954502e-05,...        0\n",
       "3  [-0.0050231726, -0.013367386, -0.0040173135, 0...        2\n",
       "4  [-0.00018567599, 0.001485504, -0.006300976, -0...        1"
      ]
     },
     "execution_count": 55,
     "metadata": {},
     "output_type": "execute_result"
    }
   ],
   "source": [
    "df[['doc_vector','cluster']].head()"
   ]
  },
  {
   "cell_type": "code",
   "execution_count": 56,
   "id": "5fb2127d",
   "metadata": {},
   "outputs": [
    {
     "data": {
      "application/vnd.plotly.v1+json": {
       "config": {
        "plotlyServerURL": "https://plot.ly"
       },
       "data": [
        {
         "hovertemplate": "Cluster=2<br>x=%{x}<br>y=%{y}<extra></extra>",
         "legendgroup": "2",
         "marker": {
          "color": "#636efa",
          "size": 6,
          "symbol": "circle"
         },
         "mode": "markers",
         "name": "2",
         "showlegend": true,
         "type": "scattergl",
         "x": {
          "bdata": "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",
          "dtype": "f4"
         },
         "xaxis": "x",
         "y": {
          "bdata": "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",
          "dtype": "f4"
         },
         "yaxis": "y"
        },
        {
         "hovertemplate": "Cluster=0<br>x=%{x}<br>y=%{y}<extra></extra>",
         "legendgroup": "0",
         "marker": {
          "color": "#EF553B",
          "size": 6,
          "symbol": "circle"
         },
         "mode": "markers",
         "name": "0",
         "showlegend": true,
         "type": "scattergl",
         "x": {
          "bdata": "P1i5wdTc4cF08QvClAQRwgioBcJBvh3CzHDzwZOl3cFM/Q3CxIcAwu0smcFAuSbCa1EGwr5TEMJ7xAvCrLUBwuo0ycEOvOXBsw7mwaU54sEbmtLBlWmKwS4b9sGLiALCpxQgwqgxy8H9fALC+xP+wTIcs8GDPJ7BZr8Rwm/2+MEhFdPBdmXwwSAHEMLF4BrCui4kwjDCHsJ9mybC6Qsnwl/IMsL1b+vBaOEawoz208EKkBHCoTUKwupLu8ENE/XBKHgbwuMp38FjtAnC+lsKwvlNCMI0JxPCxCT4wXp948FpHhXC8M/vwcPzAcK+o4fBC+84wfc0ksGeSA3CaM+9wf/+x8EiwtTBpErjwSAqvsHZTgHCR7MfwlDAEcJ899nBaOEawqN92ME40+XBmoHywUYg8MHdZQvC4TSgwX8/EcJLSvDBVjYEwh5pJcJoyPnBj/T/wSUBtsFDXujBD8DjwbZyCsJFHQrCWKnJwfmXzcFH1rTBB+oPwkQ9xMGPQSHCiBwxwRNi18F+zVvBf/klQAWm78EYmBXC+/nDwdf52sGU+vbBUn22wfE32sGaGADCaf6QwZKd9cHT793BD4z7wWCFFMItUobBsCEDwmOYAcJ/lJrBfFu8wcJ3e8Fa97XB/Rolwu8QAMK46azBqovhwWUKl8G4o/XB6fDowZ6iMsK4uJ7B4BgFwuZPIcJ5bxjChP4cwiymvsGB8xnC/PocwmyUC8I+SSLC+lXzweY7EcL68MbBC+f5wb9rm8GTHQfCkKMrwj+H/sF/AcTBIPzawS7G/sGY1cTBXWDrwebdCsJX5tHBDXknwZRaC8KTQTDCGHvYwf5o1sFzNeXBnc28wZpb48EQOxTCThYNwn7QvsFk3BnCYTYcwpLu5cFowADCur+rwaphAcJD+grCfCMXwl/r7MEiSePB8cvFwQT52MEsBh7C+EHkwY1pD8KXO+nB2H3swTCL8cEujwXCSav4wRkj5MG29w/CBu/YwWsfvcHCTivCUOsgwiHIHcLju93BUcQowjMjHcIvshfCON7JwZoz2cF2WQvC1GEYwqTA6sFo4RrC514fwr+GB8LHk+fBNhgFwo/ozsGiDu/B0uUkwqVPDsLg7ubBTaTaweC21MFoPRDCD3IYwqG+vsHgA4PBX5zKwUONwMEPiM3BwQnzwbErFcIoiv3BhkIdwiDpJcK5zrjBqBTNwW60G8L5L93BEj7/wZXFlMHafxrCOgz5wd1uEsKY1ADC7OAdwrRJ48HyvxfCM0IEwi/Xk8EzeBXCk8jowcd7JMI3HgXCLr7ZwTAB4MHx9e3BAO2XwU/lAcIyKvnBHlvLwRtFE8FN9O3Bv+XzwWnSAMLsky/CdyQXwm84rcGW6cTBgPjIwSNYrsFYVs7B15vgwfXpysFs+2DBWFPgwT4NA8I+5tnBNHYIwisOvcFhYAjCuacbwhmS2sHn44DBxlLRwcEeucHs1QjCgucAwn0i+MEzdePBaMbHwf9DGsJU5B3C",
          "dtype": "f4"
         },
         "xaxis": "x",
         "y": {
          "bdata": "lsedwDAsAsGePGlATJuev9HOTD5w7JNA8L1GwQfMiUBjEWQ/kSHAPyU6WkHBKPC/Xn/FQHxYCMCMB6Y/OG8awbSfnEABjDhBmp02QXyuWcBy66fAlhWpwErXpEBILOJARGEtQIpeYkArVIDAW5QsQK6rT8GmCIzA4c6dQEF71cDgvuBAqI8VQXiDl8Cvgwu/+UCmv++pgD9/vR0/3O13QOHqnr4aPvzAWIgLv1WboL+hM+5AMR00wcaU/0CXzhdA9qmwwLUNBT8e8D++E//9wNrBEEEyn9c/xKuWQBakd8C93Tk/SpH8QEJJCsFh9FS+VA8kQc3q6b79ONm/k8jFQKyLCkG8utVA34OfQEUx6sDYIf9AbokduxshYkDDBgRBWIgLvw5bAUHnX9hAjcCPwBkta0CuF8i/eCUDQYCHY8ARcHu/sKWgwGswcMDMLcHAd6sYwBlWFb8wup7ASnElQEmnNMAQezNBbjiMwDOHGUGAyaFAtUnEwMCikEGw0dBAvYwPwVA8h8ASKVHBE8K4wbFvD8HKG6jAGZrhQCN5j0DyfifBsLa6wMNdRECXRSNBzlYYwMfUU8DkeNk//GeCwM4+g8Ar8pbAYusxwJ+m/EBDA1xAYuWYwOq+osH1robBif2/wFgQB8G4oXE+27ejwCsMmsA2teFAUMrLQNtdoL7Ty/jAYF2cvokevL+96sO/T8EVQffOhz7CtsU/qJMXQUbBv74haZc/1lrQP9txGkGvybnAszq5wGbJskCEf5/AXoWsP1EFRUF7TD3A3B0pweZCP0FPGkjBjSa5wGLxWcD6407BYpcqwU7TtkAUGFXAzBzjPga+HMB8VFbB6jZkwFceCcAlWfW+UVEdQLf7ikBYDOvA4Mypv9VH3MAU5RtBzxelwB7lCkFrtirBCwQ9wLJMcMDkcA9BKoTSwFad1cC7PobAKz+EwO+gK8EGCTLAjTz+wKFxtT+hOC3A0ugNP03atr+FwYY+d/EewUcaDD7G+iC/6h0uwMyKG8GYFJXA6JtwQBcDXsCUcU1Ac9TgP6iLfr+6zyzBs8IrQFAqwUBYiAu/wJiDv9bUzT8GS0hAH8DpwDzJQb+9Ax/Aszy7wHqlKkBoykpBnG4kQbCHC8ElwKk+e5iJPeM05kDHOjtBP78IQTXBGUDrDaVAmF59vxqxAMAySYW/6qzzvvQi/T8s2CHB1vs9wG0QRMA1jk3A2w+dQHJFpz/sLeE/p4/jwFq3B8HYfbo/RJEPP+Mmtb72/L5AGaBGv2/UCsFumYbAXPIWvzmEYL5zDIZAxQzZwK79rT9YXx3A2xHGvrAPYMGRgii+JoYTwRMsXcESyQA/HhGMQMH/okDD+03ANnZevwC80UCPD7y/xFBgQS3SN0EZ2/HAuukvwdCK0UBEc8LBmuyKQQGHG0C6EtVAU+i6wNHT/MCMXOVAAlkcwFdjWMECxohBT8g6QfQt6b+XuLpABFtBQH5h4r/LEYVBtq1fQSBD+D4CCX5A",
          "dtype": "f4"
         },
         "yaxis": "y"
        },
        {
         "hovertemplate": "Cluster=1<br>x=%{x}<br>y=%{y}<extra></extra>",
         "legendgroup": "1",
         "marker": {
          "color": "#00cc96",
          "size": 6,
          "symbol": "circle"
         },
         "mode": "markers",
         "name": "1",
         "showlegend": true,
         "type": "scattergl",
         "x": {
          "bdata": "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",
          "dtype": "f4"
         },
         "xaxis": "x",
         "y": {
          "bdata": "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",
          "dtype": "f4"
         },
         "yaxis": "y"
        },
        {
         "hovertemplate": "Cluster=3<br>x=%{x}<br>y=%{y}<extra></extra>",
         "legendgroup": "3",
         "marker": {
          "color": "#ab63fa",
          "size": 6,
          "symbol": "circle"
         },
         "mode": "markers",
         "name": "3",
         "showlegend": true,
         "type": "scattergl",
         "x": {
          "bdata": "mdiEQdCpvUHHahpCC9boQQHIsEHIN/pBleW2QUzLBUIY+wRCRaQQQo1W9UHDDYhBzC3uQa0+AkLHzD5BY//IQXDXvEG+N1RBQuSgQdCZDEJ8owxCxfoOQuk2BUKwsaRBq86tQXlSDEJhHuNBQW7NQRJyzkFGDrNBR97VQbuASEEoQwJCotXCQXNPn0HpSOBB6ttTQfyEpUE6T5RBoeQQQviWHUI4XyNC2SKyQQKfh0HSYfZB+aIPQkCQs0HQcQBCgusHQpX6tkGnsshBvRXyQfBp8EF28JRBQCFUQbcd7EGrWRBCsu+7QRJ4akHQX05BvOm7QYWO20GRvRFCgydlQPwA+UFal1BBSb3+Qfz20kEQTcVB1tWbPur6/kEKJm9B2TbzQXZcw0G1S7JBu8y6QQ8ByEHRdg1CxBXPQbqf5UHKnc5BXOUXQrKxzEGtpalBGUNoQZbi6EF7PdxBNquxQQ6rEEIQNtRBQ1iZQZPa00E7Zb1BpAy5QUj77EE43AJCni5zQYf5sUHdFBVC2wpGQXCx5EFZ9ADB+KTSQVRC0kEJlWpBZMmLQYN9P0FXlsFBpG/yQb7bu0H/bxhCNmm5QT0X/EFbaKJBLjsPQudO3EF+4LZBG1ulQWW54EFLPtVBSFioQZCx9UFkAeVBFG3cQX+xHEJZDrVB8mzWQTAMB0Ij/gdCqG3mQTEg8UFx7eZB3Eq9QdyExEGBqs1BmxuTQf6ipEE2F8pBUKQCQvBY8UH1iuBBrnbfQYL4BEIz7YRBuOAKQjwWgUGLOqRB+WqkQXZikEEdHupBbPioQQOR50ECqPVBVSjYQddq80HY6wdCD13qQYijBELC8KdBoayfQTgjY0F6cQFCBrGpQcS/2kGBwcdBo/2mQbjisUE+3PNBJ5gEQjpTKkFrU8pBRsS0QR3Nr0Eh0OdBfEuwQbJD3kHbBOtB3/+/QaZlAEIvg5ZBG9DUQfFP/0GlzZJBNy/6QZqvx0FQCKlB/7u7QTPmvEGcAQ9C9mr/QYlJlkE8A9ZBtxsGQkmsQ0GpEyZCgvhkQUJb/kFcmNlBxc2CQQB6CUJETqBBE57/Qfns1kGZaAtCDp6BQbaeCELzNqFBbwu/QaQjzEFTtpBBMubWQa9ackHRavpBLFbpQXbJtkHfd8JByGfZQQ8b7kErwRBCbPQFQnli0EF1uoFBB1QSQr+r7EEuNAZC",
          "dtype": "f4"
         },
         "xaxis": "x",
         "y": {
          "bdata": "ZDGHv9m/Hj+EhYBArbHVQE7NQsEXUDNBL81uQOe6iMBfKrm+kr4LwZdVoECRulLBcbiNwPwXHMFGbsRBeEGSPsxXDkHwWEG+5623wFFuo0AJjMhAxVbeQDfJmMD6A+LAN3BHwJh8p0DNcuVAQLcQwN3ivkDtEsbA8pvCwAime8FkaztBosBOwUrFzD42QQbBqo/AQO+1qcBTwOLAYTWuvtVHeUBY9kjAPdXHwGbgaUGDqo4/i6frPxzhpj+KEYbA69BNQAT1iT99q8c/R0QIQW5Oi8CecLRAvYZlwSCqGcDscPW9OtTOQNKNdMGK9XVAz2ZLwB3Srr/jL1RA5152wfni68BVhHa+oBemQDhOGkD71JRA5HtPwVHMMEGs+TK+ca1YPnuKasDPRQC/cJeqvmebR0BohTxBKfX2QOX5IEH9rr3AEjxCQJ4JK0DVkKQ/T3xxwfK36L/vABDBvheAwERmpMDCjBRAgCN4QaD6k8BfsmbAuZITwfrcHMGM5p/A67gNwdXtmEDV3e1AcZlwwQ4hz8D8N85BqzW6wAYEK8FlcC5Bl4iBQCIbr0B+56fA9p6ev1TEYECUodU/8JTuwD1An0DWn1TAMlwFQMKzV0CufI9BVG+AQKwJWsGLZz3AM3XnwMc9vUDalGpBv6p8QCTfCcE1swfAxu/7wP2MSb+2NvNAyR8DQNpWB0E6Lg1ADnTevxegCT8gGPNA8taKwBDVaEE4FJJAM6gjQYQKhsABAd/AuuQ9wJ5tuL5Uk2tBr9Z8v97tR8EN7CVA918twEGHEMFllzBB9dLkvwsJD8EKOtJASX+BwLHst8A4I1U/nSwnQLSuLsE8gAU+TUQVwVaNWMFB5Z5AF5U4QNQPjT+JQ/bANuY6P8olK8GOfgXBBqYvwePPh8G45UzA9Tx3QA3JtkAdKbE/FFjIQIZOD0F0a/G/vHCewEJPIcD82X9BN17zPln/DMC64lhB31iGQQS2DMEgQlTBW2O0P2ZTCED0uUzB4hTxwBOwgUGhqhvB3OClwJOrxb50S1XAeqJWwdmdx8AKdjjB+/ZSwWoa1EC9JhvB10wQwNTULMHuEqu/BLhsQeFZIsA46MK/pDIrv0bKJMBwf/xA1laQQdpMoECpnYZBoN8zQStAj0E97ctAj28sQTUOqL9Uy2PAXIXgwEbLM7+hAE1BbZxkwBhB0MCQrq/A",
          "dtype": "f4"
         },
         "yaxis": "y"
        },
        {
         "hovertemplate": "Cluster=4<br>x=%{x}<br>y=%{y}<extra></extra>",
         "legendgroup": "4",
         "marker": {
          "color": "#FFA15A",
          "size": 6,
          "symbol": "circle"
         },
         "mode": "markers",
         "name": "4",
         "showlegend": true,
         "type": "scattergl",
         "x": {
          "bdata": "+Z0QQiEGHEIJIfhBWfcVQkc7EkKIqDFCkVoOQr0J4UGGbRVCd7nyQbyNMkKJtRNCRsMBQuW7JELaS+1BWlL4Qdp9BkK3ixlCTCkaQrvRHkKxNBdC5kHwQflkGUInjeNB1UAJQuU1CULSdvtBm/YmQn99DEL/bPxBRC0SQqzVEEK3NBdCXkEDQmZ2HUJp5SZCyyIAQniJDUI6My1Ce14TQkymDkLJPwFCfeYCQow+KULFGihC5IIuQtTEK0LLGBNCr+MoQnq4AkIOUg1CUdMfQsy9NEJv3w5CqX8VQoedLUKTqhFCNmAPQnx2EEJuWypCwpAiQupjKkLrN+FBzNUcQr4sw0GqZipCyNsRQlNP4EGOdA1CRzsSQhv83kG0d/5Bl7UtQm+YJUKGTfhBApYbQk0hHkIB2AdCZvYbQnvIJUI=",
          "dtype": "f4"
         },
         "xaxis": "x",
         "y": {
          "bdata": "bVgKwQ7JBMGU3wTBrdwMwBvaccH7vBI/P8SfQFBmvsDD87rAGpgywTj8Dz9fyow/+E9twXy5oj/K1uHAvdVZwZGB2cA7p7K/pCInQFq0kMB1C/vAKB0UQNnIXcCJ/ZhAKAAHwb9lKj+XoRHBfruIwLsV2sDW/bc/rr5bv5c3/8CgBfK7zshswQPCB8CPbr8/6HHXwINby8ATfmQ/o048wWxVwsAz8t4/8dzwwAL+hcCNAXDA43WAP4K0NMCBPrfA/79GwMQmCcESoxjAPpNlv/DkKD//ITLAiQrtQCEfi78rOQG/v6Q7weEuQcFlb0rAIImkwJA8msAoePc/m4EbwHYix8Cbc7nAItXLwO7QfMCTVyrBG9pxwac1KcENC7g/oMqLwDMh2T8/JW3BvTfpwJYSwL9+OHXAEcPewCuv6UA=",
          "dtype": "f4"
         },
         "yaxis": "y"
        }
       ],
       "layout": {
        "height": 600,
        "legend": {
         "title": {
          "text": "Cluster"
         },
         "tracegroupgap": 0
        },
        "template": {
         "data": {
          "bar": [
           {
            "error_x": {
             "color": "#2a3f5f"
            },
            "error_y": {
             "color": "#2a3f5f"
            },
            "marker": {
             "line": {
              "color": "#E5ECF6",
              "width": 0.5
             },
             "pattern": {
              "fillmode": "overlay",
              "size": 10,
              "solidity": 0.2
             }
            },
            "type": "bar"
           }
          ],
          "barpolar": [
           {
            "marker": {
             "line": {
              "color": "#E5ECF6",
              "width": 0.5
             },
             "pattern": {
              "fillmode": "overlay",
              "size": 10,
              "solidity": 0.2
             }
            },
            "type": "barpolar"
           }
          ],
          "carpet": [
           {
            "aaxis": {
             "endlinecolor": "#2a3f5f",
             "gridcolor": "white",
             "linecolor": "white",
             "minorgridcolor": "white",
             "startlinecolor": "#2a3f5f"
            },
            "baxis": {
             "endlinecolor": "#2a3f5f",
             "gridcolor": "white",
             "linecolor": "white",
             "minorgridcolor": "white",
             "startlinecolor": "#2a3f5f"
            },
            "type": "carpet"
           }
          ],
          "choropleth": [
           {
            "colorbar": {
             "outlinewidth": 0,
             "ticks": ""
            },
            "type": "choropleth"
           }
          ],
          "contour": [
           {
            "colorbar": {
             "outlinewidth": 0,
             "ticks": ""
            },
            "colorscale": [
             [
              0,
              "#0d0887"
             ],
             [
              0.1111111111111111,
              "#46039f"
             ],
             [
              0.2222222222222222,
              "#7201a8"
             ],
             [
              0.3333333333333333,
              "#9c179e"
             ],
             [
              0.4444444444444444,
              "#bd3786"
             ],
             [
              0.5555555555555556,
              "#d8576b"
             ],
             [
              0.6666666666666666,
              "#ed7953"
             ],
             [
              0.7777777777777778,
              "#fb9f3a"
             ],
             [
              0.8888888888888888,
              "#fdca26"
             ],
             [
              1,
              "#f0f921"
             ]
            ],
            "type": "contour"
           }
          ],
          "contourcarpet": [
           {
            "colorbar": {
             "outlinewidth": 0,
             "ticks": ""
            },
            "type": "contourcarpet"
           }
          ],
          "heatmap": [
           {
            "colorbar": {
             "outlinewidth": 0,
             "ticks": ""
            },
            "colorscale": [
             [
              0,
              "#0d0887"
             ],
             [
              0.1111111111111111,
              "#46039f"
             ],
             [
              0.2222222222222222,
              "#7201a8"
             ],
             [
              0.3333333333333333,
              "#9c179e"
             ],
             [
              0.4444444444444444,
              "#bd3786"
             ],
             [
              0.5555555555555556,
              "#d8576b"
             ],
             [
              0.6666666666666666,
              "#ed7953"
             ],
             [
              0.7777777777777778,
              "#fb9f3a"
             ],
             [
              0.8888888888888888,
              "#fdca26"
             ],
             [
              1,
              "#f0f921"
             ]
            ],
            "type": "heatmap"
           }
          ],
          "histogram": [
           {
            "marker": {
             "pattern": {
              "fillmode": "overlay",
              "size": 10,
              "solidity": 0.2
             }
            },
            "type": "histogram"
           }
          ],
          "histogram2d": [
           {
            "colorbar": {
             "outlinewidth": 0,
             "ticks": ""
            },
            "colorscale": [
             [
              0,
              "#0d0887"
             ],
             [
              0.1111111111111111,
              "#46039f"
             ],
             [
              0.2222222222222222,
              "#7201a8"
             ],
             [
              0.3333333333333333,
              "#9c179e"
             ],
             [
              0.4444444444444444,
              "#bd3786"
             ],
             [
              0.5555555555555556,
              "#d8576b"
             ],
             [
              0.6666666666666666,
              "#ed7953"
             ],
             [
              0.7777777777777778,
              "#fb9f3a"
             ],
             [
              0.8888888888888888,
              "#fdca26"
             ],
             [
              1,
              "#f0f921"
             ]
            ],
            "type": "histogram2d"
           }
          ],
          "histogram2dcontour": [
           {
            "colorbar": {
             "outlinewidth": 0,
             "ticks": ""
            },
            "colorscale": [
             [
              0,
              "#0d0887"
             ],
             [
              0.1111111111111111,
              "#46039f"
             ],
             [
              0.2222222222222222,
              "#7201a8"
             ],
             [
              0.3333333333333333,
              "#9c179e"
             ],
             [
              0.4444444444444444,
              "#bd3786"
             ],
             [
              0.5555555555555556,
              "#d8576b"
             ],
             [
              0.6666666666666666,
              "#ed7953"
             ],
             [
              0.7777777777777778,
              "#fb9f3a"
             ],
             [
              0.8888888888888888,
              "#fdca26"
             ],
             [
              1,
              "#f0f921"
             ]
            ],
            "type": "histogram2dcontour"
           }
          ],
          "mesh3d": [
           {
            "colorbar": {
             "outlinewidth": 0,
             "ticks": ""
            },
            "type": "mesh3d"
           }
          ],
          "parcoords": [
           {
            "line": {
             "colorbar": {
              "outlinewidth": 0,
              "ticks": ""
             }
            },
            "type": "parcoords"
           }
          ],
          "pie": [
           {
            "automargin": true,
            "type": "pie"
           }
          ],
          "scatter": [
           {
            "fillpattern": {
             "fillmode": "overlay",
             "size": 10,
             "solidity": 0.2
            },
            "type": "scatter"
           }
          ],
          "scatter3d": [
           {
            "line": {
             "colorbar": {
              "outlinewidth": 0,
              "ticks": ""
             }
            },
            "marker": {
             "colorbar": {
              "outlinewidth": 0,
              "ticks": ""
             }
            },
            "type": "scatter3d"
           }
          ],
          "scattercarpet": [
           {
            "marker": {
             "colorbar": {
              "outlinewidth": 0,
              "ticks": ""
             }
            },
            "type": "scattercarpet"
           }
          ],
          "scattergeo": [
           {
            "marker": {
             "colorbar": {
              "outlinewidth": 0,
              "ticks": ""
             }
            },
            "type": "scattergeo"
           }
          ],
          "scattergl": [
           {
            "marker": {
             "colorbar": {
              "outlinewidth": 0,
              "ticks": ""
             }
            },
            "type": "scattergl"
           }
          ],
          "scattermap": [
           {
            "marker": {
             "colorbar": {
              "outlinewidth": 0,
              "ticks": ""
             }
            },
            "type": "scattermap"
           }
          ],
          "scattermapbox": [
           {
            "marker": {
             "colorbar": {
              "outlinewidth": 0,
              "ticks": ""
             }
            },
            "type": "scattermapbox"
           }
          ],
          "scatterpolar": [
           {
            "marker": {
             "colorbar": {
              "outlinewidth": 0,
              "ticks": ""
             }
            },
            "type": "scatterpolar"
           }
          ],
          "scatterpolargl": [
           {
            "marker": {
             "colorbar": {
              "outlinewidth": 0,
              "ticks": ""
             }
            },
            "type": "scatterpolargl"
           }
          ],
          "scatterternary": [
           {
            "marker": {
             "colorbar": {
              "outlinewidth": 0,
              "ticks": ""
             }
            },
            "type": "scatterternary"
           }
          ],
          "surface": [
           {
            "colorbar": {
             "outlinewidth": 0,
             "ticks": ""
            },
            "colorscale": [
             [
              0,
              "#0d0887"
             ],
             [
              0.1111111111111111,
              "#46039f"
             ],
             [
              0.2222222222222222,
              "#7201a8"
             ],
             [
              0.3333333333333333,
              "#9c179e"
             ],
             [
              0.4444444444444444,
              "#bd3786"
             ],
             [
              0.5555555555555556,
              "#d8576b"
             ],
             [
              0.6666666666666666,
              "#ed7953"
             ],
             [
              0.7777777777777778,
              "#fb9f3a"
             ],
             [
              0.8888888888888888,
              "#fdca26"
             ],
             [
              1,
              "#f0f921"
             ]
            ],
            "type": "surface"
           }
          ],
          "table": [
           {
            "cells": {
             "fill": {
              "color": "#EBF0F8"
             },
             "line": {
              "color": "white"
             }
            },
            "header": {
             "fill": {
              "color": "#C8D4E3"
             },
             "line": {
              "color": "white"
             }
            },
            "type": "table"
           }
          ]
         },
         "layout": {
          "annotationdefaults": {
           "arrowcolor": "#2a3f5f",
           "arrowhead": 0,
           "arrowwidth": 1
          },
          "autotypenumbers": "strict",
          "coloraxis": {
           "colorbar": {
            "outlinewidth": 0,
            "ticks": ""
           }
          },
          "colorscale": {
           "diverging": [
            [
             0,
             "#8e0152"
            ],
            [
             0.1,
             "#c51b7d"
            ],
            [
             0.2,
             "#de77ae"
            ],
            [
             0.3,
             "#f1b6da"
            ],
            [
             0.4,
             "#fde0ef"
            ],
            [
             0.5,
             "#f7f7f7"
            ],
            [
             0.6,
             "#e6f5d0"
            ],
            [
             0.7,
             "#b8e186"
            ],
            [
             0.8,
             "#7fbc41"
            ],
            [
             0.9,
             "#4d9221"
            ],
            [
             1,
             "#276419"
            ]
           ],
           "sequential": [
            [
             0,
             "#0d0887"
            ],
            [
             0.1111111111111111,
             "#46039f"
            ],
            [
             0.2222222222222222,
             "#7201a8"
            ],
            [
             0.3333333333333333,
             "#9c179e"
            ],
            [
             0.4444444444444444,
             "#bd3786"
            ],
            [
             0.5555555555555556,
             "#d8576b"
            ],
            [
             0.6666666666666666,
             "#ed7953"
            ],
            [
             0.7777777777777778,
             "#fb9f3a"
            ],
            [
             0.8888888888888888,
             "#fdca26"
            ],
            [
             1,
             "#f0f921"
            ]
           ],
           "sequentialminus": [
            [
             0,
             "#0d0887"
            ],
            [
             0.1111111111111111,
             "#46039f"
            ],
            [
             0.2222222222222222,
             "#7201a8"
            ],
            [
             0.3333333333333333,
             "#9c179e"
            ],
            [
             0.4444444444444444,
             "#bd3786"
            ],
            [
             0.5555555555555556,
             "#d8576b"
            ],
            [
             0.6666666666666666,
             "#ed7953"
            ],
            [
             0.7777777777777778,
             "#fb9f3a"
            ],
            [
             0.8888888888888888,
             "#fdca26"
            ],
            [
             1,
             "#f0f921"
            ]
           ]
          },
          "colorway": [
           "#636efa",
           "#EF553B",
           "#00cc96",
           "#ab63fa",
           "#FFA15A",
           "#19d3f3",
           "#FF6692",
           "#B6E880",
           "#FF97FF",
           "#FECB52"
          ],
          "font": {
           "color": "#2a3f5f"
          },
          "geo": {
           "bgcolor": "white",
           "lakecolor": "white",
           "landcolor": "#E5ECF6",
           "showlakes": true,
           "showland": true,
           "subunitcolor": "white"
          },
          "hoverlabel": {
           "align": "left"
          },
          "hovermode": "closest",
          "mapbox": {
           "style": "light"
          },
          "paper_bgcolor": "white",
          "plot_bgcolor": "#E5ECF6",
          "polar": {
           "angularaxis": {
            "gridcolor": "white",
            "linecolor": "white",
            "ticks": ""
           },
           "bgcolor": "#E5ECF6",
           "radialaxis": {
            "gridcolor": "white",
            "linecolor": "white",
            "ticks": ""
           }
          },
          "scene": {
           "xaxis": {
            "backgroundcolor": "#E5ECF6",
            "gridcolor": "white",
            "gridwidth": 2,
            "linecolor": "white",
            "showbackground": true,
            "ticks": "",
            "zerolinecolor": "white"
           },
           "yaxis": {
            "backgroundcolor": "#E5ECF6",
            "gridcolor": "white",
            "gridwidth": 2,
            "linecolor": "white",
            "showbackground": true,
            "ticks": "",
            "zerolinecolor": "white"
           },
           "zaxis": {
            "backgroundcolor": "#E5ECF6",
            "gridcolor": "white",
            "gridwidth": 2,
            "linecolor": "white",
            "showbackground": true,
            "ticks": "",
            "zerolinecolor": "white"
           }
          },
          "shapedefaults": {
           "line": {
            "color": "#2a3f5f"
           }
          },
          "ternary": {
           "aaxis": {
            "gridcolor": "white",
            "linecolor": "white",
            "ticks": ""
           },
           "baxis": {
            "gridcolor": "white",
            "linecolor": "white",
            "ticks": ""
           },
           "bgcolor": "#E5ECF6",
           "caxis": {
            "gridcolor": "white",
            "linecolor": "white",
            "ticks": ""
           }
          },
          "title": {
           "x": 0.05
          },
          "xaxis": {
           "automargin": true,
           "gridcolor": "white",
           "linecolor": "white",
           "ticks": "",
           "title": {
            "standoff": 15
           },
           "zerolinecolor": "white",
           "zerolinewidth": 2
          },
          "yaxis": {
           "automargin": true,
           "gridcolor": "white",
           "linecolor": "white",
           "ticks": "",
           "title": {
            "standoff": 15
           },
           "zerolinecolor": "white",
           "zerolinewidth": 2
          }
         }
        },
        "title": {
         "text": "Visualisation des clusters"
        },
        "width": 900,
        "xaxis": {
         "anchor": "y",
         "domain": [
          0,
          1
         ],
         "title": {
          "text": "x"
         }
        },
        "yaxis": {
         "anchor": "x",
         "domain": [
          0,
          1
         ],
         "title": {
          "text": "y"
         }
        }
       }
      }
     },
     "metadata": {},
     "output_type": "display_data"
    }
   ],
   "source": [
    "from numpy import stack\n",
    "\n",
    "X = stack(df['doc_vector'].values)  # Matrice des vecteurs\n",
    "visualize_clusters_2d(X, df['cluster'], method='tsne')\n"
   ]
  },
  {
   "cell_type": "markdown",
   "id": "b7e2b63b",
   "metadata": {},
   "source": []
  }
 ],
 "metadata": {
  "kernelspec": {
   "display_name": "Python 3",
   "language": "python",
   "name": "python3"
  },
  "language_info": {
   "codemirror_mode": {
    "name": "ipython",
    "version": 3
   },
   "file_extension": ".py",
   "mimetype": "text/x-python",
   "name": "python",
   "nbconvert_exporter": "python",
   "pygments_lexer": "ipython3",
   "version": "3.12.4"
  }
 },
 "nbformat": 4,
 "nbformat_minor": 5
}
